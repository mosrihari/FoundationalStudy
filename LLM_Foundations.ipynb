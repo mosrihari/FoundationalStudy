{
  "nbformat": 4,
  "nbformat_minor": 0,
  "metadata": {
    "colab": {
      "provenance": [],
      "toc_visible": true
    },
    "kernelspec": {
      "name": "python3",
      "display_name": "Python 3"
    },
    "language_info": {
      "name": "python"
    }
  },
  "cells": [
    {
      "cell_type": "markdown",
      "source": [
        "# Tokenizers"
      ],
      "metadata": {
        "id": "wlAbsAtLi6eP"
      }
    },
    {
      "cell_type": "code",
      "source": [
        "DRIVE_LINK = \"/content/drive/MyDrive/LLMFromScratch\""
      ],
      "metadata": {
        "id": "BRo_rn5Ejtob"
      },
      "execution_count": null,
      "outputs": []
    },
    {
      "cell_type": "markdown",
      "source": [
        "## Word based tokenizer"
      ],
      "metadata": {
        "id": "fPoPnwBQi--z"
      }
    },
    {
      "cell_type": "code",
      "source": [
        "import re"
      ],
      "metadata": {
        "id": "giDmM4oBkFmj"
      },
      "execution_count": null,
      "outputs": []
    },
    {
      "cell_type": "code",
      "execution_count": null,
      "metadata": {
        "id": "iq28b1U-iphT"
      },
      "outputs": [],
      "source": [
        "with open(f\"{DRIVE_LINK}/verdict.txt\", \"r\") as f:\n",
        "  data = f.read()"
      ]
    },
    {
      "cell_type": "code",
      "source": [
        "data"
      ],
      "metadata": {
        "colab": {
          "base_uri": "https://localhost:8080/",
          "height": 105
        },
        "id": "L_zZK7dMkRuD",
        "outputId": "33df6f5f-1bd8-4882-8e5a-dbb1efd43fa4"
      },
      "execution_count": null,
      "outputs": [
        {
          "output_type": "execute_result",
          "data": {
            "text/plain": [
              "'I HAD always thought Jack Gisburn rather a cheap genius--though a good fellow enough--so it was no great surprise to me to hear that, in the height of his glory, he had dropped his painting, married a rich widow, and established himself in a villa on the Riviera. (Though I rather thought it would have been Rome or Florence.)\\n\\n\"The height of his glory\"--that was what the women called it. I can hear Mrs. Gideon Thwing--his last Chicago sitter--deploring his unaccountable abdication. \"Of course it\\'s going to send the value of my picture \\'way up; but I don\\'t think of that, Mr. Rickham--the loss to Arrt is all I think of.\" The word, on Mrs. Thwing\\'s lips, multiplied its _rs_ as though they were reflected in an endless vista of mirrors. And it was not only the Mrs. Thwings who mourned. Had not the exquisite Hermia Croft, at the last Grafton Gallery show, stopped me before Gisburn\\'s \"Moon-dancers\" to say, with tears in her eyes: \"We shall not look upon its like again\"?\\n\\nWell!--even through the prism of Hermia\\'s tears I felt able to face the fact with equanimity. Poor Jack Gisburn! The women had made him--it was fitting that they should mourn him. Among his own sex fewer regrets were heard, and in his own trade hardly a murmur. Professional jealousy? Perhaps. If it were, the honour of the craft was vindicated by little Claude Nutley, who, in all good faith, brought out in the Burlington a very handsome \"obituary\" on Jack--one of those showy articles stocked with random technicalities that I have heard (I won\\'t say by whom) compared to Gisburn\\'s painting. And so--his resolve being apparently irrevocable--the discussion gradually died out, and, as Mrs. Thwing had predicted, the price of \"Gisburns\" went up.\\n\\nIt was not till three years later that, in the course of a few weeks\\' idling on the Riviera, it suddenly occurred to me to wonder why Gisburn had given up his painting. On reflection, it really was a tempting problem. To accuse his wife would have been too easy--his fair sitters had been denied the solace of saying that Mrs. Gisburn had \"dragged him down.\" For Mrs. Gisburn--as such--had not existed till nearly a year after Jack\\'s resolve had been taken. It might be that he had married her--since he liked his ease--because he didn\\'t want to go on painting; but it would have been hard to prove that he had given up his painting because he had married her.\\n\\nOf course, if she had not dragged him down, she had equally, as Miss Croft contended, failed to \"lift him up\"--she had not led him back to the easel. To put the brush into his hand again--what a vocation for a wife! But Mrs. Gisburn appeared to have disdained it--and I felt it might be interesting to find out why.\\n\\nThe desultory life of the Riviera lends itself to such purely academic speculations; and having, on my way to Monte Carlo, caught a glimpse of Jack\\'s balustraded terraces between the pines, I had myself borne thither the next day.\\n\\nI found the couple at tea beneath their palm-trees; and Mrs. Gisburn\\'s welcome was so genial that, in the ensuing weeks, I claimed it frequently. It was not that my hostess was \"interesting\": on that point I could have given Miss Croft the fullest reassurance. It was just because she was _not_ interesting--if I may be pardoned the bull--that I found her so. For Jack, all his life, had been surrounded by interesting women: they had fostered his art, it had been reared in the hot-house of their adulation. And it was therefore instructive to note what effect the \"deadening atmosphere of mediocrity\" (I quote Miss Croft) was having on him.\\n\\nI have mentioned that Mrs. Gisburn was rich; and it was immediately perceptible that her husband was extracting from this circumstance a delicate but substantial satisfaction. It is, as a rule, the people who scorn money who get most out of it; and Jack\\'s elegant disdain of his wife\\'s big balance enabled him, with an appearance of perfect good-breeding, to transmute it into objects of art and luxury. To the latter, I must add, he remained relatively indifferent; but he was buying Renaissance bronzes and eighteenth-century pictures with a discrimination that bespoke the amplest resources.\\n\\n\"Money\\'s only excuse is to put beauty into circulation,\" was one of the axioms he laid down across the Sevres and silver of an exquisitely appointed luncheon-table, when, on a later day, I had again run over from Monte Carlo; and Mrs. Gisburn, beaming on him, added for my enlightenment: \"Jack is so morbidly sensitive to every form of beauty.\"\\n\\nPoor Jack! It had always been his fate to have women say such things of him: the fact should be set down in extenuation. What struck me now was that, for the first time, he resented the tone. I had seen him, so often, basking under similar tributes--was it the conjugal note that robbed them of their savour? No--for, oddly enough, it became apparent that he was fond of Mrs. Gisburn--fond enough not to see her absurdity. It was his own absurdity he seemed to be wincing under--his own attitude as an object for garlands and incense.\\n\\n\"My dear, since I\\'ve chucked painting people don\\'t say that stuff about me--they say it about Victor Grindle,\" was his only protest, as he rose from the table and strolled out onto the sunlit terrace.\\n\\nI glanced after him, struck by his last word. Victor Grindle was, in fact, becoming the man of the moment--as Jack himself, one might put it, had been the man of the hour. The younger artist was said to have formed himself at my friend\\'s feet, and I wondered if a tinge of jealousy underlay the latter\\'s mysterious abdication. But no--for it was not till after that event that the _rose Dubarry_ drawing-rooms had begun to display their \"Grindles.\"\\n\\nI turned to Mrs. Gisburn, who had lingered to give a lump of sugar to her spaniel in the dining-room.\\n\\n\"Why _has_ he chucked painting?\" I asked abruptly.\\n\\nShe raised her eyebrows with a hint of good-humoured surprise.\\n\\n\"Oh, he doesn\\'t _have_ to now, you know; and I want him to enjoy himself,\" she said quite simply.\\n\\nI looked about the spacious white-panelled room, with its _famille-verte_ vases repeating the tones of the pale damask curtains, and its eighteenth-century pastels in delicate faded frames.\\n\\n\"Has he chucked his pictures too? I haven\\'t seen a single one in the house.\"\\n\\nA slight shade of constraint crossed Mrs. Gisburn\\'s open countenance. \"It\\'s his ridiculous modesty, you know. He says they\\'re not fit to have about; he\\'s sent them all away except one--my portrait--and that I have to keep upstairs.\"\\n\\nHis ridiculous modesty--Jack\\'s modesty about his pictures? My curiosity was growing like the bean-stalk. I said persuasively to my hostess: \"I must really see your portrait, you know.\"\\n\\nShe glanced out almost timorously at the terrace where her husband, lounging in a hooded chair, had lit a cigar and drawn the Russian deerhound\\'s head between his knees.\\n\\n\"Well, come while he\\'s not looking,\" she said, with a laugh that tried to hide her nervousness; and I followed her between the marble Emperors of the hall, and up the wide stairs with terra-cotta nymphs poised among flowers at each landing.\\n\\nIn the dimmest corner of her boudoir, amid a profusion of delicate and distinguished objects, hung one of the familiar oval canvases, in the inevitable garlanded frame. The mere outline of the frame called up all Gisburn\\'s past!\\n\\nMrs. Gisburn drew back the window-curtains, moved aside a _jardiniere_ full of pink azaleas, pushed an arm-chair away, and said: \"If you stand here you can just manage to see it. I had it over the mantel-piece, but he wouldn\\'t let it stay.\"\\n\\nYes--I could just manage to see it--the first portrait of Jack\\'s I had ever had to strain my eyes over! Usually they had the place of honour--say the central panel in a pale yellow or _rose Dubarry_ drawing-room, or a monumental easel placed so that it took the light through curtains of old Venetian point. The more modest place became the picture better; yet, as my eyes grew accustomed to the half-light, all the characteristic qualities came out--all the hesitations disguised as audacities, the tricks of prestidigitation by which, with such consummate skill, he managed to divert attention from the real business of the picture to some pretty irrelevance of detail. Mrs. Gisburn, presenting a neutral surface to work on--forming, as it were, so inevitably the background of her own picture--had lent herself in an unusual degree to the display of this false virtuosity. The picture was one of Jack\\'s \"strongest,\" as his admirers would have put it--it represented, on his part, a swelling of muscles, a congesting of veins, a balancing, straddling and straining, that reminded one of the circus-clown\\'s ironic efforts to lift a feather. It met, in short, at every point the demand of lovely woman to be painted \"strongly\" because she was tired of being painted \"sweetly\"--and yet not to lose an atom of the sweetness.\\n\\n\"It\\'s the last he painted, you know,\" Mrs. Gisburn said with pardonable pride. \"The last but one,\" she corrected herself--\"but the other doesn\\'t count, because he destroyed it.\"\\n\\n\"Destroyed it?\" I was about to follow up this clue when I heard a footstep and saw Jack himself on the threshold.\\n\\nAs he stood there, his hands in the pockets of his velveteen coat, the thin brown waves of hair pushed back from his white forehead, his lean sunburnt cheeks furrowed by a smile that lifted the tips of a self-confident moustache, I felt to what a degree he had the same quality as his pictures--the quality of looking cleverer than he was.\\n\\nHis wife glanced at him deprecatingly, but his eyes travelled past her to the portrait.\\n\\n\"Mr. Rickham wanted to see it,\" she began, as if excusing herself. He shrugged his shoulders, still smiling.\\n\\n\"Oh, Rickham found me out long ago,\" he said lightly; then, passing his arm through mine: \"Come and see the rest of the house.\"\\n\\nHe showed it to me with a kind of naive suburban pride: the bath-rooms, the speaking-tubes, the dress-closets, the trouser-presses--all the complex simplifications of the millionaire\\'s domestic economy. And whenever my wonder paid the expected tribute he said, throwing out his chest a little: \"Yes, I really don\\'t see how people manage to live without that.\"\\n\\nWell--it was just the end one might have foreseen for him. Only he was, through it all and in spite of it all--as he had been through, and in spite of, his pictures--so handsome, so charming, so disarming, that one longed to cry out: \"Be dissatisfied with your leisure!\" as once one had longed to say: \"Be dissatisfied with your work!\"\\n\\nBut, with the cry on my lips, my diagnosis suffered an unexpected check.\\n\\n\"This is my own lair,\" he said, leading me into a dark plain room at the end of the florid vista. It was square and brown and leathery: no \"effects\"; no bric-a-brac, none of the air of posing for reproduction in a picture weekly--above all, no least sign of ever having been used as a studio.\\n\\nThe fact brought home to me the absolute finality of Jack\\'s break with his old life.\\n\\n\"Don\\'t you ever dabble with paint any more?\" I asked, still looking about for a trace of such activity.\\n\\n\"Never,\" he said briefly.\\n\\n\"Or water-colour--or etching?\"\\n\\nHis confident eyes grew dim, and his cheeks paled a little under their handsome sunburn.\\n\\n\"Never think of it, my dear fellow--any more than if I\\'d never touched a brush.\"\\n\\nAnd his tone told me in a flash that he never thought of anything else.\\n\\nI moved away, instinctively embarrassed by my unexpected discovery; and as I turned, my eye fell on a small picture above the mantel-piece--the only object breaking the plain oak panelling of the room.\\n\\n\"Oh, by Jove!\" I said.\\n\\nIt was a sketch of a donkey--an old tired donkey, standing in the rain under a wall.\\n\\n\"By Jove--a Stroud!\" I cried.\\n\\nHe was silent; but I felt him close behind me, breathing a little quickly.\\n\\n\"What a wonder! Made with a dozen lines--but on everlasting foundations. You lucky chap, where did you get it?\"\\n\\nHe answered slowly: \"Mrs. Stroud gave it to me.\"\\n\\n\"Ah--I didn\\'t know you even knew the Strouds. He was such an inflexible hermit.\"\\n\\n\"I didn\\'t--till after. . . . She sent for me to paint him when he was dead.\"\\n\\n\"When he was dead? You?\"\\n\\nI must have let a little too much amazement escape through my surprise, for he answered with a deprecating laugh: \"Yes--she\\'s an awful simpleton, you know, Mrs. Stroud. Her only idea was to have him done by a fashionable painter--ah, poor Stroud! She thought it the surest way of proclaiming his greatness--of forcing it on a purblind public. And at the moment I was _the_ fashionable painter.\"\\n\\n\"Ah, poor Stroud--as you say. Was _that_ his history?\"\\n\\n\"That was his history. She believed in him, gloried in him--or thought she did. But she couldn\\'t bear not to have all the drawing-rooms with her. She couldn\\'t bear the fact that, on varnishing days, one could always get near enough to see his pictures. Poor woman! She\\'s just a fragment groping for other fragments. Stroud is the only whole I ever knew.\"\\n\\n\"You ever knew? But you just said--\"\\n\\nGisburn had a curious smile in his eyes.\\n\\n\"Oh, I knew him, and he knew me--only it happened after he was dead.\"\\n\\nI dropped my voice instinctively. \"When she sent for you?\"\\n\\n\"Yes--quite insensible to the irony. She wanted him vindicated--and by me!\"\\n\\nHe laughed again, and threw back his head to look up at the sketch of the donkey. \"There were days when I couldn\\'t look at that thing--couldn\\'t face it. But I forced myself to put it here; and now it\\'s cured me--cured me. That\\'s the reason why I don\\'t dabble any more, my dear Rickham; or rather Stroud himself is the reason.\"\\n\\nFor the first time my idle curiosity about my companion turned into a serious desire to understand him better.\\n\\n\"I wish you\\'d tell me how it happened,\" I said.\\n\\nHe stood looking up at the sketch, and twirling between his fingers a cigarette he had forgotten to light. Suddenly he turned toward me.\\n\\n\"I\\'d rather like to tell you--because I\\'ve always suspected you of loathing my work.\"\\n\\nI made a deprecating gesture, which he negatived with a good-humoured shrug.\\n\\n\"Oh, I didn\\'t care a straw when I believed in myself--and now it\\'s an added tie between us!\"\\n\\nHe laughed slightly, without bitterness, and pushed one of the deep arm-chairs forward. \"There: make yourself comfortable--and here are the cigars you like.\"\\n\\nHe placed them at my elbow and continued to wander up and down the room, stopping now and then beneath the picture.\\n\\n\"How it happened? I can tell you in five minutes--and it didn\\'t take much longer to happen. . . . I can remember now how surprised and pleased I was when I got Mrs. Stroud\\'s note. Of course, deep down, I had always _felt_ there was no one like him--only I had gone with the stream, echoed the usual platitudes about him, till I half got to think he was a failure, one of the kind that are left behind. By Jove, and he _was_ left behind--because he had come to stay! The rest of us had to let ourselves be swept along or go under, but he was high above the current--on everlasting foundations, as you say.\\n\\n\"Well, I went off to the house in my most egregious mood--rather moved, Lord forgive me, at the pathos of poor Stroud\\'s career of failure being crowned by the glory of my painting him! Of course I meant to do the picture for nothing--I told Mrs. Stroud so when she began to stammer something about her poverty. I remember getting off a prodigious phrase about the honour being _mine_--oh, I was princely, my dear Rickham! I was posing to myself like one of my own sitters.\\n\\n\"Then I was taken up and left alone with him. I had sent all my traps in advance, and I had only to set up the easel and get to work. He had been dead only twenty-four hours, and he died suddenly, of heart disease, so that there had been no preliminary work of destruction--his face was clear and untouched. I had met him once or twice, years before, and thought him insignificant and dingy. Now I saw that he was superb.\\n\\n\"I was glad at first, with a merely aesthetic satisfaction: glad to have my hand on such a \\'subject.\\' Then his strange life-likeness began to affect me queerly--as I blocked the head in I felt as if he were watching me do it. The sensation was followed by the thought: if he _were_ watching me, what would he say to my way of working? My strokes began to go a little wild--I felt nervous and uncertain.\\n\\n\"Once, when I looked up, I seemed to see a smile behind his close grayish beard--as if he had the secret, and were amusing himself by holding it back from me. That exasperated me still more. The secret? Why, I had a secret worth twenty of his! I dashed at the canvas furiously, and tried some of my bravura tricks. But they failed me, they crumbled. I saw that he wasn\\'t watching the showy bits--I couldn\\'t distract his attention; he just kept his eyes on the hard passages between. Those were the ones I had always shirked, or covered up with some lying paint. And how he saw through my lies!\\n\\n\"I looked up again, and caught sight of that sketch of the donkey hanging on the wall near his bed. His wife told me afterward it was the last thing he had done--just a note taken with a shaking hand, when he was down in Devonshire recovering from a previous heart attack. Just a note! But it tells his whole history. There are years of patient scornful persistence in every line. A man who had swum with the current could never have learned that mighty up-stream stroke. . . .\\n\\n\"I turned back to my work, and went on groping and muddling; then I looked at the donkey again. I saw that, when Stroud laid in the first stroke, he knew just what the end would be. He had possessed his subject, absorbed it, recreated it. When had I done that with any of my things? They hadn\\'t been born of me--I had just adopted them. . . .\\n\\n\"Hang it, Rickham, with that face watching me I couldn\\'t do another stroke. The plain truth was, I didn\\'t know where to put it--_I had never known_. Only, with my sitters and my public, a showy splash of colour covered up the fact--I just threw paint into their faces. . . . Well, paint was the one medium those dead eyes could see through--see straight to the tottering foundations underneath. Don\\'t you know how, in talking a foreign language, even fluently, one says half the time not what one wants to but what one can? Well--that was the way I painted; and as he lay there and watched me, the thing they called my \\'technique\\' collapsed like a house of cards. He didn\\'t sneer, you understand, poor Stroud--he just lay there quietly watching, and on his lips, through the gray beard, I seemed to hear the question: \\'Are you sure you know where you\\'re coming out?\\'\\n\\n\"If I could have painted that face, with that question on it, I should have done a great thing. The next greatest thing was to see that I couldn\\'t--and that grace was given me. But, oh, at that minute, Rickham, was there anything on earth I wouldn\\'t have given to have Stroud alive before me, and to hear him say: \\'It\\'s not too late--I\\'ll show you how\\'?\\n\\n\"It _was_ too late--it would have been, even if he\\'d been alive. I packed up my traps, and went down and told Mrs. Stroud. Of course I didn\\'t tell her _that_--it would have been Greek to her. I simply said I couldn\\'t paint him, that I was too moved. She rather liked the idea--she\\'s so romantic! It was that that made her give me the donkey. But she was terribly upset at not getting the portrait--she did so want him \\'done\\' by some one showy! At first I was afraid she wouldn\\'t let me off--and at my wits\\' end I suggested Grindle. Yes, it was I who started Grindle: I told Mrs. Stroud he was the \\'coming\\' man, and she told somebody else, and so it got to be true. . . . And he painted Stroud without wincing; and she hung the picture among her husband\\'s things. . . .\"\\n\\nHe flung himself down in the arm-chair near mine, laid back his head, and clasping his arms beneath it, looked up at the picture above the chimney-piece.\\n\\n\"I like to fancy that Stroud himself would have given it to me, if he\\'d been able to say what he thought that day.\"\\n\\nAnd, in answer to a question I put half-mechanically--\"Begin again?\" he flashed out. \"When the one thing that brings me anywhere near him is that I knew enough to leave off?\"\\n\\nHe stood up and laid his hand on my shoulder with a laugh. \"Only the irony of it is that I _am_ still painting--since Grindle\\'s doing it for me! The Strouds stand alone, and happen once--but there\\'s no exterminating our kind of art.\"'"
            ],
            "application/vnd.google.colaboratory.intrinsic+json": {
              "type": "string"
            }
          },
          "metadata": {},
          "execution_count": 4
        }
      ]
    },
    {
      "cell_type": "code",
      "source": [
        "processed_data = re.split(r'([.,\"!?]|--|\\s)', data)\n",
        "# Now we wanted to remove the space\n",
        "processed_data = [d for d in processed_data if d.strip()]\n",
        "processed_data[:10]"
      ],
      "metadata": {
        "colab": {
          "base_uri": "https://localhost:8080/"
        },
        "id": "iMu2nw5xj4JB",
        "outputId": "36f4a6fe-2617-4acd-89fc-655e509c15db"
      },
      "execution_count": null,
      "outputs": [
        {
          "output_type": "execute_result",
          "data": {
            "text/plain": [
              "['I',\n",
              " 'HAD',\n",
              " 'always',\n",
              " 'thought',\n",
              " 'Jack',\n",
              " 'Gisburn',\n",
              " 'rather',\n",
              " 'a',\n",
              " 'cheap',\n",
              " 'genius']"
            ]
          },
          "metadata": {},
          "execution_count": 5
        }
      ]
    },
    {
      "cell_type": "code",
      "source": [
        "# Assign token ids by sorting the list first and then assigning enum values\n",
        "vocab_set = sorted(set(processed_data))\n",
        "vocab_dict_encoded = {vocab_string: number for number, vocab_string in enumerate(vocab_set)}\n",
        "vocab_dict_decoded = {v: k for k, v in vocab_dict_encoded.items()}"
      ],
      "metadata": {
        "id": "KHlxLuDnj51k"
      },
      "execution_count": null,
      "outputs": []
    },
    {
      "cell_type": "code",
      "source": [
        "# Now lets create a class with method encode and decode"
      ],
      "metadata": {
        "id": "XNnzhPenmlef"
      },
      "execution_count": null,
      "outputs": []
    },
    {
      "cell_type": "code",
      "source": [
        "class WordTokenizer:\n",
        "\n",
        "  def __init__(self, vocab):\n",
        "    self.vocab = vocab\n",
        "    self.vocab_encoded = {vocab_string: number for number, vocab_string in enumerate(self.vocab)}\n",
        "    self.vocab_decoded = {v: k for k, v in self.vocab_encoded.items()}\n",
        "\n",
        "  def encode(self, text):\n",
        "    processed_data = re.split(r'([.,\"!?]|--|\\s)', text)\n",
        "    # Now we wanted to remove the space\n",
        "    processed_data = [d for d in processed_data if d.strip()]\n",
        "    # Convert to tokens and return the list\n",
        "    token_ids = [self.vocab_encoded[processed] for processed in processed_data]\n",
        "    return token_ids\n",
        "\n",
        "  def decode(self, tokens):\n",
        "    token_to_str = [self.vocab_decoded[token] for token in tokens]\n",
        "    decoded_string = \" \".join(token_to_str)\n",
        "    return decoded_string"
      ],
      "metadata": {
        "id": "y2LGccBEm_Vt"
      },
      "execution_count": null,
      "outputs": []
    },
    {
      "cell_type": "code",
      "source": [
        "data[:33]"
      ],
      "metadata": {
        "colab": {
          "base_uri": "https://localhost:8080/",
          "height": 35
        },
        "id": "pOBQntdeopGl",
        "outputId": "405e2d3c-97dc-4a5b-f98d-d73e3efcc1b2"
      },
      "execution_count": null,
      "outputs": [
        {
          "output_type": "execute_result",
          "data": {
            "text/plain": [
              "'I HAD always thought Jack Gisburn'"
            ],
            "application/vnd.google.colaboratory.intrinsic+json": {
              "type": "string"
            }
          },
          "metadata": {},
          "execution_count": 9
        }
      ]
    },
    {
      "cell_type": "code",
      "source": [
        "tokenizer = WordTokenizer(vocab_set)\n",
        "text = \"I HAD always thought Jack Gisburn\"\n",
        "\n",
        "token_list = tokenizer.encode(text)\n",
        "token_list"
      ],
      "metadata": {
        "colab": {
          "base_uri": "https://localhost:8080/"
        },
        "id": "Jz6e6xxEoj7a",
        "outputId": "0eddbaf6-4d01-4e4b-b72f-6ed3fb4f6557"
      },
      "execution_count": null,
      "outputs": [
        {
          "output_type": "execute_result",
          "data": {
            "text/plain": [
              "[66, 56, 187, 1059, 74, 47]"
            ]
          },
          "metadata": {},
          "execution_count": 10
        }
      ]
    },
    {
      "cell_type": "code",
      "source": [
        "tokenizer.decode(token_list) # So the basic tokenizer is working fine"
      ],
      "metadata": {
        "colab": {
          "base_uri": "https://localhost:8080/",
          "height": 35
        },
        "id": "i26AajX0ovdA",
        "outputId": "355d6178-ffc5-40ae-e918-6a1add2f3f7b"
      },
      "execution_count": null,
      "outputs": [
        {
          "output_type": "execute_result",
          "data": {
            "text/plain": [
              "'I HAD always thought Jack Gisburn'"
            ],
            "application/vnd.google.colaboratory.intrinsic+json": {
              "type": "string"
            }
          },
          "metadata": {},
          "execution_count": 11
        }
      ]
    },
    {
      "cell_type": "code",
      "source": [
        "# it cannot handle unknowns\n",
        "text = \"Hello I am happy\"\n",
        "token_list = tokenizer.encode(text)\n",
        "token_list"
      ],
      "metadata": {
        "colab": {
          "base_uri": "https://localhost:8080/",
          "height": 339
        },
        "id": "cFQIGxv2o585",
        "outputId": "6c3b0835-d796-4cd2-e95f-856caae9797a"
      },
      "execution_count": null,
      "outputs": [
        {
          "output_type": "error",
          "ename": "KeyError",
          "evalue": "'Hello'",
          "traceback": [
            "\u001b[0;31m---------------------------------------------------------------------------\u001b[0m",
            "\u001b[0;31mKeyError\u001b[0m                                  Traceback (most recent call last)",
            "\u001b[0;32m<ipython-input-12-c9269c757408>\u001b[0m in \u001b[0;36m<cell line: 0>\u001b[0;34m()\u001b[0m\n\u001b[1;32m      1\u001b[0m \u001b[0;31m# it cannot handle unknowns\u001b[0m\u001b[0;34m\u001b[0m\u001b[0;34m\u001b[0m\u001b[0m\n\u001b[1;32m      2\u001b[0m \u001b[0mtext\u001b[0m \u001b[0;34m=\u001b[0m \u001b[0;34m\"Hello I am happy\"\u001b[0m\u001b[0;34m\u001b[0m\u001b[0;34m\u001b[0m\u001b[0m\n\u001b[0;32m----> 3\u001b[0;31m \u001b[0mtoken_list\u001b[0m \u001b[0;34m=\u001b[0m \u001b[0mtokenizer\u001b[0m\u001b[0;34m.\u001b[0m\u001b[0mencode\u001b[0m\u001b[0;34m(\u001b[0m\u001b[0mtext\u001b[0m\u001b[0;34m)\u001b[0m\u001b[0;34m\u001b[0m\u001b[0;34m\u001b[0m\u001b[0m\n\u001b[0m\u001b[1;32m      4\u001b[0m \u001b[0mtoken_list\u001b[0m\u001b[0;34m\u001b[0m\u001b[0;34m\u001b[0m\u001b[0m\n",
            "\u001b[0;32m<ipython-input-8-0e7f6ddec74e>\u001b[0m in \u001b[0;36mencode\u001b[0;34m(self, text)\u001b[0m\n\u001b[1;32m     11\u001b[0m     \u001b[0mprocessed_data\u001b[0m \u001b[0;34m=\u001b[0m \u001b[0;34m[\u001b[0m\u001b[0md\u001b[0m \u001b[0;32mfor\u001b[0m \u001b[0md\u001b[0m \u001b[0;32min\u001b[0m \u001b[0mprocessed_data\u001b[0m \u001b[0;32mif\u001b[0m \u001b[0md\u001b[0m\u001b[0;34m.\u001b[0m\u001b[0mstrip\u001b[0m\u001b[0;34m(\u001b[0m\u001b[0;34m)\u001b[0m\u001b[0;34m]\u001b[0m\u001b[0;34m\u001b[0m\u001b[0;34m\u001b[0m\u001b[0m\n\u001b[1;32m     12\u001b[0m     \u001b[0;31m# Convert to tokens and return the list\u001b[0m\u001b[0;34m\u001b[0m\u001b[0;34m\u001b[0m\u001b[0m\n\u001b[0;32m---> 13\u001b[0;31m     \u001b[0mtoken_ids\u001b[0m \u001b[0;34m=\u001b[0m \u001b[0;34m[\u001b[0m\u001b[0mself\u001b[0m\u001b[0;34m.\u001b[0m\u001b[0mvocab_encoded\u001b[0m\u001b[0;34m[\u001b[0m\u001b[0mprocessed\u001b[0m\u001b[0;34m]\u001b[0m \u001b[0;32mfor\u001b[0m \u001b[0mprocessed\u001b[0m \u001b[0;32min\u001b[0m \u001b[0mprocessed_data\u001b[0m\u001b[0;34m]\u001b[0m\u001b[0;34m\u001b[0m\u001b[0;34m\u001b[0m\u001b[0m\n\u001b[0m\u001b[1;32m     14\u001b[0m     \u001b[0;32mreturn\u001b[0m \u001b[0mtoken_ids\u001b[0m\u001b[0;34m\u001b[0m\u001b[0;34m\u001b[0m\u001b[0m\n\u001b[1;32m     15\u001b[0m \u001b[0;34m\u001b[0m\u001b[0m\n",
            "\u001b[0;32m<ipython-input-8-0e7f6ddec74e>\u001b[0m in \u001b[0;36m<listcomp>\u001b[0;34m(.0)\u001b[0m\n\u001b[1;32m     11\u001b[0m     \u001b[0mprocessed_data\u001b[0m \u001b[0;34m=\u001b[0m \u001b[0;34m[\u001b[0m\u001b[0md\u001b[0m \u001b[0;32mfor\u001b[0m \u001b[0md\u001b[0m \u001b[0;32min\u001b[0m \u001b[0mprocessed_data\u001b[0m \u001b[0;32mif\u001b[0m \u001b[0md\u001b[0m\u001b[0;34m.\u001b[0m\u001b[0mstrip\u001b[0m\u001b[0;34m(\u001b[0m\u001b[0;34m)\u001b[0m\u001b[0;34m]\u001b[0m\u001b[0;34m\u001b[0m\u001b[0;34m\u001b[0m\u001b[0m\n\u001b[1;32m     12\u001b[0m     \u001b[0;31m# Convert to tokens and return the list\u001b[0m\u001b[0;34m\u001b[0m\u001b[0;34m\u001b[0m\u001b[0m\n\u001b[0;32m---> 13\u001b[0;31m     \u001b[0mtoken_ids\u001b[0m \u001b[0;34m=\u001b[0m \u001b[0;34m[\u001b[0m\u001b[0mself\u001b[0m\u001b[0;34m.\u001b[0m\u001b[0mvocab_encoded\u001b[0m\u001b[0;34m[\u001b[0m\u001b[0mprocessed\u001b[0m\u001b[0;34m]\u001b[0m \u001b[0;32mfor\u001b[0m \u001b[0mprocessed\u001b[0m \u001b[0;32min\u001b[0m \u001b[0mprocessed_data\u001b[0m\u001b[0;34m]\u001b[0m\u001b[0;34m\u001b[0m\u001b[0;34m\u001b[0m\u001b[0m\n\u001b[0m\u001b[1;32m     14\u001b[0m     \u001b[0;32mreturn\u001b[0m \u001b[0mtoken_ids\u001b[0m\u001b[0;34m\u001b[0m\u001b[0;34m\u001b[0m\u001b[0m\n\u001b[1;32m     15\u001b[0m \u001b[0;34m\u001b[0m\u001b[0m\n",
            "\u001b[0;31mKeyError\u001b[0m: 'Hello'"
          ]
        }
      ]
    },
    {
      "cell_type": "code",
      "source": [
        "# New vocab set where unknowns and end of texts are handled\n",
        "vocab_set.extend(['<UNK>','<|endoftext|>'])"
      ],
      "metadata": {
        "id": "5zuIHgiCpC3I"
      },
      "execution_count": null,
      "outputs": []
    },
    {
      "cell_type": "code",
      "source": [
        "class WordTokenizerV2:\n",
        "\n",
        "  def __init__(self, vocab):\n",
        "    self.vocab = vocab\n",
        "    self.vocab_encoded = {vocab_string: number for number, vocab_string in enumerate(self.vocab)}\n",
        "    self.vocab_decoded = {v: k for k, v in self.vocab_encoded.items()}\n",
        "\n",
        "  def encode(self, text):\n",
        "    processed_data = re.split(r'([.,\"!?]|--|\\s)', text)\n",
        "    # Now we wanted to remove the space\n",
        "    processed_data = [d for d in processed_data if d.strip()]\n",
        "    processed_data.append('<|endoftext|>')\n",
        "    # Convert to tokens and return the list\n",
        "    token_ids = [self.vocab_encoded[processed] if processed in self.vocab\n",
        "                 else self.vocab_encoded['<UNK>']\n",
        "                 for processed in processed_data\n",
        "                 ]\n",
        "    return token_ids\n",
        "\n",
        "  def decode(self, tokens):\n",
        "    token_to_str = [self.vocab_decoded[token] for token in tokens]\n",
        "    decoded_string = \" \".join(token_to_str)\n",
        "    return decoded_string"
      ],
      "metadata": {
        "id": "NOFLssXSpi0Z"
      },
      "execution_count": null,
      "outputs": []
    },
    {
      "cell_type": "code",
      "source": [
        "tokenizer = WordTokenizerV2(vocab_set)\n",
        "text = \"I HAD always thought Jack Gisburn\"\n",
        "\n",
        "token_list = tokenizer.encode(text)\n",
        "token_list"
      ],
      "metadata": {
        "colab": {
          "base_uri": "https://localhost:8080/"
        },
        "id": "cwC3VRpPuumZ",
        "outputId": "4fafd1b4-ec0e-460d-dfbb-39ae58192ccd"
      },
      "execution_count": null,
      "outputs": [
        {
          "output_type": "execute_result",
          "data": {
            "text/plain": [
              "[66, 56, 187, 1059, 74, 47, 1194]"
            ]
          },
          "metadata": {},
          "execution_count": 15
        }
      ]
    },
    {
      "cell_type": "code",
      "source": [
        "tokenizer.decode(token_list) # So the basic tokenizer is working fine"
      ],
      "metadata": {
        "colab": {
          "base_uri": "https://localhost:8080/",
          "height": 35
        },
        "id": "yheU8lJsuxjY",
        "outputId": "4f424e28-01e3-461e-ef27-946af1a25871"
      },
      "execution_count": null,
      "outputs": [
        {
          "output_type": "execute_result",
          "data": {
            "text/plain": [
              "'I HAD always thought Jack Gisburn <|endoftext|>'"
            ],
            "application/vnd.google.colaboratory.intrinsic+json": {
              "type": "string"
            }
          },
          "metadata": {},
          "execution_count": 16
        }
      ]
    },
    {
      "cell_type": "code",
      "source": [
        "# it cannot handle unknowns\n",
        "text = \"Hello I am happy\"\n",
        "token_list = tokenizer.encode(text)\n",
        "token_list"
      ],
      "metadata": {
        "colab": {
          "base_uri": "https://localhost:8080/"
        },
        "id": "RaYe8Xopu1Ez",
        "outputId": "7e1823b6-3c8c-49fd-db9d-bd44cae83251"
      },
      "execution_count": null,
      "outputs": [
        {
          "output_type": "execute_result",
          "data": {
            "text/plain": [
              "[1193, 66, 1193, 1193, 1194]"
            ]
          },
          "metadata": {},
          "execution_count": 17
        }
      ]
    },
    {
      "cell_type": "code",
      "source": [
        "tokenizer.decode(token_list) # So the basic tokenizer is working fine"
      ],
      "metadata": {
        "colab": {
          "base_uri": "https://localhost:8080/",
          "height": 35
        },
        "id": "rYz_oYZPu2Yr",
        "outputId": "5e3ea8b2-1e95-422e-de7a-750cf096ccf0"
      },
      "execution_count": null,
      "outputs": [
        {
          "output_type": "execute_result",
          "data": {
            "text/plain": [
              "'<UNK> I <UNK> <UNK> <|endoftext|>'"
            ],
            "application/vnd.google.colaboratory.intrinsic+json": {
              "type": "string"
            }
          },
          "metadata": {},
          "execution_count": 18
        }
      ]
    },
    {
      "cell_type": "markdown",
      "source": [
        "## BPE (Sub word tokenization)\n",
        "Even though word or character can be useful in somecases, it cannot differentiate unknown words. For instance \"boy\" and \"boys\" will be treated as separate vocab. Thats why we need to use BPE which is used by GPT itself"
      ],
      "metadata": {
        "id": "MJZoenpywf5y"
      }
    },
    {
      "cell_type": "code",
      "source": [
        "!pip install tiktoken"
      ],
      "metadata": {
        "colab": {
          "base_uri": "https://localhost:8080/"
        },
        "id": "Qt7OsA4Vu-B0",
        "outputId": "c8293120-ffe7-45a2-e139-a43576a38de8"
      },
      "execution_count": null,
      "outputs": [
        {
          "output_type": "stream",
          "name": "stdout",
          "text": [
            "Requirement already satisfied: tiktoken in /usr/local/lib/python3.11/dist-packages (0.9.0)\n",
            "Requirement already satisfied: regex>=2022.1.18 in /usr/local/lib/python3.11/dist-packages (from tiktoken) (2024.11.6)\n",
            "Requirement already satisfied: requests>=2.26.0 in /usr/local/lib/python3.11/dist-packages (from tiktoken) (2.32.3)\n",
            "Requirement already satisfied: charset-normalizer<4,>=2 in /usr/local/lib/python3.11/dist-packages (from requests>=2.26.0->tiktoken) (3.4.2)\n",
            "Requirement already satisfied: idna<4,>=2.5 in /usr/local/lib/python3.11/dist-packages (from requests>=2.26.0->tiktoken) (3.10)\n",
            "Requirement already satisfied: urllib3<3,>=1.21.1 in /usr/local/lib/python3.11/dist-packages (from requests>=2.26.0->tiktoken) (2.4.0)\n",
            "Requirement already satisfied: certifi>=2017.4.17 in /usr/local/lib/python3.11/dist-packages (from requests>=2.26.0->tiktoken) (2025.4.26)\n"
          ]
        }
      ]
    },
    {
      "cell_type": "code",
      "source": [
        "import tiktoken"
      ],
      "metadata": {
        "id": "B0kB4zw0wvgE"
      },
      "execution_count": null,
      "outputs": []
    },
    {
      "cell_type": "code",
      "source": [
        "tokenizer = tiktoken.get_encoding(\"gpt2\") # we dont have to use our own vocab set. We will GPT2's\n",
        "\n",
        "text = \"I HAD always thought Jack Gisburn\"\n",
        "\n",
        "token_list = tokenizer.encode(text)\n",
        "token_list"
      ],
      "metadata": {
        "colab": {
          "base_uri": "https://localhost:8080/"
        },
        "id": "nMUcdfh-wzV5",
        "outputId": "a5fea457-1b18-4da8-9de0-438795afebd2"
      },
      "execution_count": null,
      "outputs": [
        {
          "output_type": "execute_result",
          "data": {
            "text/plain": [
              "[40, 367, 2885, 1464, 1807, 3619, 402, 271, 10899]"
            ]
          },
          "metadata": {},
          "execution_count": 21
        }
      ]
    },
    {
      "cell_type": "code",
      "source": [
        "tokenizer.decode(token_list) # So the basic tokenizer is working fine"
      ],
      "metadata": {
        "colab": {
          "base_uri": "https://localhost:8080/",
          "height": 35
        },
        "id": "FfSNHjihxFqZ",
        "outputId": "ab9baee8-9e59-4e04-e176-3dab14d2b347"
      },
      "execution_count": null,
      "outputs": [
        {
          "output_type": "execute_result",
          "data": {
            "text/plain": [
              "'I HAD always thought Jack Gisburn'"
            ],
            "application/vnd.google.colaboratory.intrinsic+json": {
              "type": "string"
            }
          },
          "metadata": {},
          "execution_count": 22
        }
      ]
    },
    {
      "cell_type": "code",
      "source": [
        "text = \"Hello I am happy\"\n",
        "token_list = tokenizer.encode(text)\n",
        "token_list"
      ],
      "metadata": {
        "colab": {
          "base_uri": "https://localhost:8080/"
        },
        "id": "iQYtPm-jxHhD",
        "outputId": "b10f1229-3dae-4c0c-d266-f4d08c0e3d4d"
      },
      "execution_count": null,
      "outputs": [
        {
          "output_type": "execute_result",
          "data": {
            "text/plain": [
              "[15496, 314, 716, 3772]"
            ]
          },
          "metadata": {},
          "execution_count": 23
        }
      ]
    },
    {
      "cell_type": "code",
      "source": [
        "tokenizer.decode(token_list) # So the basic tokenizer is working fine"
      ],
      "metadata": {
        "colab": {
          "base_uri": "https://localhost:8080/",
          "height": 35
        },
        "id": "qK4obpP5xI29",
        "outputId": "9f6ec5f5-7093-4d7a-9a1b-10d3da6019ff"
      },
      "execution_count": null,
      "outputs": [
        {
          "output_type": "execute_result",
          "data": {
            "text/plain": [
              "'Hello I am happy'"
            ],
            "application/vnd.google.colaboratory.intrinsic+json": {
              "type": "string"
            }
          },
          "metadata": {},
          "execution_count": 24
        }
      ]
    },
    {
      "cell_type": "code",
      "source": [
        "text = \"Aidhsadisafgsafsa fsfs <|endoftext|>\"\n",
        "token_list = tokenizer.encode(text,allowed_special={\"<|endoftext|>\"})\n",
        "token_list"
      ],
      "metadata": {
        "colab": {
          "base_uri": "https://localhost:8080/"
        },
        "id": "L2eCmluvxKGe",
        "outputId": "2d14342c-0bf1-48c6-fb8b-16dfeceb32e7"
      },
      "execution_count": null,
      "outputs": [
        {
          "output_type": "execute_result",
          "data": {
            "text/plain": [
              "[44245, 11994, 324, 271, 1878, 14542, 1878, 11400, 43458, 9501, 220, 50256]"
            ]
          },
          "metadata": {},
          "execution_count": 25
        }
      ]
    },
    {
      "cell_type": "code",
      "source": [
        "tokenizer.decode(token_list) # So the basic tokenizer is working fine even with gibberish texts, it can do BPE"
      ],
      "metadata": {
        "colab": {
          "base_uri": "https://localhost:8080/",
          "height": 35
        },
        "id": "yVoiMpOzxMex",
        "outputId": "fe4bde11-1967-42ca-bbe6-0195e18023b1"
      },
      "execution_count": null,
      "outputs": [
        {
          "output_type": "execute_result",
          "data": {
            "text/plain": [
              "'Aidhsadisafgsafsa fsfs <|endoftext|>'"
            ],
            "application/vnd.google.colaboratory.intrinsic+json": {
              "type": "string"
            }
          },
          "metadata": {},
          "execution_count": 26
        }
      ]
    },
    {
      "cell_type": "markdown",
      "source": [
        "# Preparing a data loader pair\n",
        "Input and target pair is created with the given context window\n",
        "The LLM predict context number times"
      ],
      "metadata": {
        "id": "I2Nf1SZfdJhC"
      }
    },
    {
      "cell_type": "code",
      "source": [
        "with open(f\"{DRIVE_LINK}/verdict.txt\", \"r\") as f:\n",
        "  data = f.read()"
      ],
      "metadata": {
        "id": "g1KBLyLhxU14"
      },
      "execution_count": null,
      "outputs": []
    },
    {
      "cell_type": "code",
      "source": [
        "tokenized_id = tokenizer.encode(data,allowed_special={\"<|endoftext|>\"})\n",
        "max_len = 4\n",
        "stride = 4\n",
        "input_pair_list = []\n",
        "target_pair_list = []\n",
        "for i in range(0, (len(tokenized_id) - max_len), stride):\n",
        "  input_pair = tokenized_id[i:i+max_len]\n",
        "  target_ids = tokenized_id[i+1:(i+max_len+1)]\n",
        "  input_pair_list.append(input_pair)\n",
        "  target_pair_list.append(target_ids)\n",
        "\n"
      ],
      "metadata": {
        "id": "7Vk0SKrheUGK"
      },
      "execution_count": null,
      "outputs": []
    },
    {
      "cell_type": "code",
      "source": [
        "input_pair_list[:4], target_pair_list[:4]"
      ],
      "metadata": {
        "colab": {
          "base_uri": "https://localhost:8080/"
        },
        "id": "e9784JXwfMRh",
        "outputId": "9e56a8e8-7dcc-433e-ef86-d4b62ecae8c2"
      },
      "execution_count": null,
      "outputs": [
        {
          "output_type": "execute_result",
          "data": {
            "text/plain": [
              "([[40, 367, 2885, 1464],\n",
              "  [1807, 3619, 402, 271],\n",
              "  [10899, 2138, 257, 7026],\n",
              "  [15632, 438, 2016, 257]],\n",
              " [[367, 2885, 1464, 1807],\n",
              "  [3619, 402, 271, 10899],\n",
              "  [2138, 257, 7026, 15632],\n",
              "  [438, 2016, 257, 922]])"
            ]
          },
          "metadata": {},
          "execution_count": 29
        }
      ]
    },
    {
      "cell_type": "code",
      "source": [
        "import torch\n",
        "from torch.utils.data import Dataset, DataLoader\n",
        "\n",
        "# Dataset is used to create a dataset with input and target pairs\n",
        "# whereas data loaders prepares batches of data\n",
        "# pair should be [1,2,3,4,5] where input is [1,2,3,4],[5,...] and target id is[2,3,4,5] if the context length is 4\n",
        "\n",
        "class GPTData(Dataset):\n",
        "\n",
        "  def __init__(self, text, max_len, tokenizer, strides):\n",
        "    self.input_pairs = []\n",
        "    self.target_ids = []\n",
        "\n",
        "    tokenized_id = tokenizer.encode(text,allowed_special={\"<|endoftext|>\"})\n",
        "\n",
        "    for i in range(0, (len(tokenized_id) - max_len), stride):\n",
        "      input_pair = tokenized_id[i:i+max_len]\n",
        "      target_id = tokenized_id[i+1:(i+max_len+1)]\n",
        "      self.input_pairs.append(torch.tensor(input_pair))\n",
        "      self.target_ids.append(torch.tensor(target_id))\n",
        "\n",
        "  # from pytorch documentation\n",
        "  # A custom Dataset class must implement three functions: __init__, __len__, and __getitem__\n",
        "  def __len__(self):\n",
        "    return len(self.input_pairs)\n",
        "\n",
        "  def __getitem__(self, idx):\n",
        "    return self.input_pairs[idx], self.target_ids[idx]\n"
      ],
      "metadata": {
        "id": "M04vld3DdU9J"
      },
      "execution_count": null,
      "outputs": []
    },
    {
      "cell_type": "code",
      "source": [
        "def create_dataloaders(text, tokenizer, max_len=4, strides=4, shuffle = False):\n",
        "  dataset = GPTData(text, max_len, tokenizer, strides)\n",
        "\n",
        "  dataloader = DataLoader(\n",
        "      dataset,\n",
        "      batch_size = 8,\n",
        "      shuffle = shuffle,\n",
        "      num_workers=0,\n",
        "      drop_last = True # to remove the last batch if it doesnt fit\n",
        "  )\n",
        "  return dataloader"
      ],
      "metadata": {
        "id": "G4j22K_oddXX"
      },
      "execution_count": null,
      "outputs": []
    },
    {
      "cell_type": "code",
      "source": [
        "sample_dataloader = create_dataloaders(data, tokenizer)"
      ],
      "metadata": {
        "id": "ISzcAebfhVyE"
      },
      "execution_count": null,
      "outputs": []
    },
    {
      "cell_type": "code",
      "source": [
        "data_iter = iter(sample_dataloader)\n",
        "\n",
        "inputs, targets = next(data_iter)\n",
        "\n",
        "# Print them\n",
        "print(\"Inputs:\\n\", inputs)\n",
        "print(\"Targets:\\n\", targets)"
      ],
      "metadata": {
        "colab": {
          "base_uri": "https://localhost:8080/"
        },
        "id": "M_9yxOWPhbJo",
        "outputId": "c2b0151b-3c08-4fc0-cb60-257ca325787f"
      },
      "execution_count": null,
      "outputs": [
        {
          "output_type": "stream",
          "name": "stdout",
          "text": [
            "Inputs:\n",
            " tensor([[   40,   367,  2885,  1464],\n",
            "        [ 1807,  3619,   402,   271],\n",
            "        [10899,  2138,   257,  7026],\n",
            "        [15632,   438,  2016,   257],\n",
            "        [  922,  5891,  1576,   438],\n",
            "        [  568,   340,   373,   645],\n",
            "        [ 1049,  5975,   284,   502],\n",
            "        [  284,  3285,   326,    11]])\n",
            "Targets:\n",
            " tensor([[  367,  2885,  1464,  1807],\n",
            "        [ 3619,   402,   271, 10899],\n",
            "        [ 2138,   257,  7026, 15632],\n",
            "        [  438,  2016,   257,   922],\n",
            "        [ 5891,  1576,   438,   568],\n",
            "        [  340,   373,   645,  1049],\n",
            "        [ 5975,   284,   502,   284],\n",
            "        [ 3285,   326,    11,   287]])\n"
          ]
        }
      ]
    },
    {
      "cell_type": "code",
      "source": [
        "# In GPT bigset of context length and strides are used 256 and 128 strides and we are also going to shuffle\n",
        "dataloader_gpt = create_dataloaders(data, tokenizer, 256, 128, True)"
      ],
      "metadata": {
        "id": "ZeXkWMCZiVw7"
      },
      "execution_count": null,
      "outputs": []
    },
    {
      "cell_type": "code",
      "source": [
        "data_iter = iter(dataloader_gpt)\n",
        "\n",
        "inputs, targets = next(data_iter)\n",
        "\n",
        "# Print them\n",
        "print(\"Inputs:\\n\", inputs)\n",
        "print(\"Targets:\\n\", targets)"
      ],
      "metadata": {
        "colab": {
          "base_uri": "https://localhost:8080/"
        },
        "id": "0OVx3UxYjKz9",
        "outputId": "15e64fd0-a70f-4310-ce44-ad31b2a6a625"
      },
      "execution_count": null,
      "outputs": [
        {
          "output_type": "stream",
          "name": "stdout",
          "text": [
            "Inputs:\n",
            " tensor([[26394,    12,   301,  ...,   340,  2652,   526],\n",
            "        [   25,   705,  8491,  ...,   508,  2067, 41379],\n",
            "        [    1,  1639,  1683,  ...,  9885,   345,   286],\n",
            "        [  330,    11,  4844,  ..., 16896,    13,   198]])\n",
            "Targets:\n",
            " tensor([[   12,   301,   971,  ...,  2652,   526,   198],\n",
            "        [  705,  8491,   345,  ...,  2067, 41379,   293],\n",
            "        [ 1639,  1683,  2993,  ...,   345,   286,  2376],\n",
            "        [   11,  4844,   286,  ...,    13,   198,   198]])\n"
          ]
        }
      ]
    },
    {
      "cell_type": "markdown",
      "source": [
        "# Embedding Layer"
      ],
      "metadata": {
        "id": "wchheS30cpOS"
      }
    },
    {
      "cell_type": "code",
      "source": [
        "vocab_size = 50257\n",
        "output_dim = 256\n",
        "token_embedding_layer = torch.nn.Embedding(vocab_size, output_dim)"
      ],
      "metadata": {
        "id": "HN_DxIxnjQfn"
      },
      "execution_count": null,
      "outputs": []
    },
    {
      "cell_type": "code",
      "source": [
        "inputs, inputs.shape # we have a batch of 8 and there are 4 context length.\n",
        "# when we go to the lookup table (which is the embedding layer) , it will take the associated embeddings for each token\n",
        "# shape will be 8 * 4 * 256"
      ],
      "metadata": {
        "colab": {
          "base_uri": "https://localhost:8080/"
        },
        "id": "jsEnwKv9eJKs",
        "outputId": "a925e666-d356-4441-a4f5-9ec45f5afdd0"
      },
      "execution_count": null,
      "outputs": [
        {
          "output_type": "execute_result",
          "data": {
            "text/plain": [
              "(tensor([[   40,   367,  2885,  1464],\n",
              "         [ 1807,  3619,   402,   271],\n",
              "         [10899,  2138,   257,  7026],\n",
              "         [15632,   438,  2016,   257],\n",
              "         [  922,  5891,  1576,   438],\n",
              "         [  568,   340,   373,   645],\n",
              "         [ 1049,  5975,   284,   502],\n",
              "         [  284,  3285,   326,    11]]),\n",
              " torch.Size([8, 4]))"
            ]
          },
          "metadata": {},
          "execution_count": 46
        }
      ]
    },
    {
      "cell_type": "code",
      "source": [
        "token_embeddings = token_embedding_layer(inputs)"
      ],
      "metadata": {
        "id": "OH4H3iM_eKHa"
      },
      "execution_count": null,
      "outputs": []
    },
    {
      "cell_type": "code",
      "source": [
        "token_embeddings, token_embeddings.shape"
      ],
      "metadata": {
        "colab": {
          "base_uri": "https://localhost:8080/"
        },
        "id": "cSXreSxYfvc3",
        "outputId": "bba3eeb3-ba9f-4e7c-8c31-9b82f6fac37c"
      },
      "execution_count": null,
      "outputs": [
        {
          "output_type": "execute_result",
          "data": {
            "text/plain": [
              "(tensor([[[ 0.9659, -0.7010,  0.7143,  ..., -0.2636,  0.2618, -0.8756],\n",
              "          [-1.1383, -0.6771,  0.6871,  ...,  2.6699, -0.1854,  0.1297],\n",
              "          [ 0.1004, -0.8960,  1.3923,  ..., -0.0654,  0.4485,  1.4901],\n",
              "          [-1.2791, -0.1519,  0.1748,  ...,  0.4982,  0.9488, -2.1363]],\n",
              " \n",
              "         [[-1.3207, -0.3346,  0.9454,  ..., -0.3240,  1.8723,  0.4384],\n",
              "          [-1.2886,  0.5049,  0.4318,  ..., -1.2039, -0.0404, -1.0580],\n",
              "          [-2.2023, -1.2074, -1.9373,  ...,  0.1502,  0.7010, -1.1119],\n",
              "          [-0.2954, -0.4827,  0.2344,  ...,  1.1787, -0.5044, -0.3096]],\n",
              " \n",
              "         [[-0.9376, -0.1774, -2.5003,  ...,  1.6405, -0.7558, -0.2952],\n",
              "          [-1.8430,  0.3082, -0.5095,  ...,  0.4742, -2.0521,  1.2409],\n",
              "          [-0.4028,  2.1935, -0.8744,  ...,  2.0607,  1.0424,  0.7818],\n",
              "          [ 1.0648, -0.6196, -0.6809,  ...,  2.3825, -0.4614,  1.3214]],\n",
              " \n",
              "         ...,\n",
              " \n",
              "         [[ 0.9817,  1.5180,  2.2416,  ..., -0.0861,  0.9667,  0.2564],\n",
              "          [ 1.0732, -0.5670,  0.0319,  ...,  0.4024,  1.9914, -0.4048],\n",
              "          [-1.5366, -0.6766,  0.4768,  ..., -0.2640, -1.4344,  0.2375],\n",
              "          [-0.9423,  0.9158,  0.5728,  ...,  0.0329,  0.7408,  0.7984]],\n",
              " \n",
              "         [[-0.9431,  0.4408,  0.5296,  ...,  0.6388,  0.9030, -1.5658],\n",
              "          [ 0.6118,  1.3358,  0.3288,  ...,  0.4344, -2.0690,  0.5704],\n",
              "          [-0.6973, -0.9404, -0.9136,  ..., -0.5668, -0.9871, -1.9610],\n",
              "          [ 0.8106,  0.3604,  0.7433,  ..., -0.4125,  0.9908, -0.3000]],\n",
              " \n",
              "         [[-0.6973, -0.9404, -0.9136,  ..., -0.5668, -0.9871, -1.9610],\n",
              "          [-0.0903, -0.4326, -0.8420,  ..., -0.8203, -0.2668,  1.2745],\n",
              "          [-0.6154, -1.2874, -0.9840,  ...,  0.6483, -1.0226,  0.9549],\n",
              "          [ 1.2851,  0.2520, -1.1163,  ..., -0.3906, -0.2550,  0.3462]]],\n",
              "        grad_fn=<EmbeddingBackward0>),\n",
              " torch.Size([8, 4, 256]))"
            ]
          },
          "metadata": {},
          "execution_count": 61
        }
      ]
    },
    {
      "cell_type": "code",
      "source": [
        "position_embeddings_layer = torch.nn.Embedding(max_len, output_dim) # since positions are only 4 tokens at a time, we create embeddings for each position\n",
        "# 4*256 will be the final output size from this layer"
      ],
      "metadata": {
        "id": "dBKfB8Bof5cC"
      },
      "execution_count": null,
      "outputs": []
    },
    {
      "cell_type": "code",
      "source": [
        "# then to create a positional matrices ,  pass on values from 0 to max_len-1\n",
        "position_embeddings = position_embeddings_layer(torch.arange(0, max_len))\n",
        "position_embeddings.shape, position_embeddings"
      ],
      "metadata": {
        "colab": {
          "base_uri": "https://localhost:8080/"
        },
        "id": "c-xUnmomgD_p",
        "outputId": "980aaf83-18fd-40c3-8b98-bf1776cd6523"
      },
      "execution_count": null,
      "outputs": [
        {
          "output_type": "execute_result",
          "data": {
            "text/plain": [
              "(torch.Size([4, 256]),\n",
              " tensor([[-0.2591,  0.5590, -0.7034,  ...,  1.2302,  0.7379,  1.0161],\n",
              "         [-0.0087,  0.4755, -0.7032,  ..., -0.1552, -0.3727, -0.2881],\n",
              "         [ 0.4005, -0.2294, -2.0884,  ..., -0.5913, -1.0377,  2.7518],\n",
              "         [ 0.3720, -0.2978,  1.2698,  ...,  1.1890, -0.6992,  0.4723]],\n",
              "        grad_fn=<EmbeddingBackward0>))"
            ]
          },
          "metadata": {},
          "execution_count": 55
        }
      ]
    },
    {
      "cell_type": "code",
      "source": [
        "torch.arange(0,4)"
      ],
      "metadata": {
        "colab": {
          "base_uri": "https://localhost:8080/"
        },
        "id": "ogCOydlrgWsb",
        "outputId": "046cf33e-e71c-4995-c4ca-e97657729479"
      },
      "execution_count": null,
      "outputs": [
        {
          "output_type": "execute_result",
          "data": {
            "text/plain": [
              "tensor([0, 1, 2, 3])"
            ]
          },
          "metadata": {},
          "execution_count": 56
        }
      ]
    },
    {
      "cell_type": "code",
      "source": [
        "token_embeddings"
      ],
      "metadata": {
        "colab": {
          "base_uri": "https://localhost:8080/"
        },
        "id": "_P0F5kPsghGg",
        "outputId": "a1e12b73-8274-4b26-c905-cc519d3d0c4b"
      },
      "execution_count": null,
      "outputs": [
        {
          "output_type": "execute_result",
          "data": {
            "text/plain": [
              "torch.Size([8, 4, 256])"
            ]
          },
          "metadata": {},
          "execution_count": 58
        }
      ]
    },
    {
      "cell_type": "code",
      "source": [
        "# now add up positonal embeddings and token embeddings\n",
        "input_embeddings = token_embeddings + position_embeddings\n",
        "input_embeddings.shape"
      ],
      "metadata": {
        "colab": {
          "base_uri": "https://localhost:8080/"
        },
        "id": "MPbfBpKsgego",
        "outputId": "be4b6eeb-ae85-42f9-b5b2-8bfdf0fc3bdc"
      },
      "execution_count": null,
      "outputs": [
        {
          "output_type": "execute_result",
          "data": {
            "text/plain": [
              "torch.Size([8, 4, 256])"
            ]
          },
          "metadata": {},
          "execution_count": 62
        }
      ]
    },
    {
      "cell_type": "code",
      "source": [
        "0.9659-0.2591"
      ],
      "metadata": {
        "colab": {
          "base_uri": "https://localhost:8080/"
        },
        "id": "MP9DlhUDg1XI",
        "outputId": "b65de83f-b18c-416e-c278-f25b9bb94dfc"
      },
      "execution_count": null,
      "outputs": [
        {
          "output_type": "execute_result",
          "data": {
            "text/plain": [
              "0.7068"
            ]
          },
          "metadata": {},
          "execution_count": 64
        }
      ]
    },
    {
      "cell_type": "code",
      "source": [
        "input_embeddings[0]"
      ],
      "metadata": {
        "colab": {
          "base_uri": "https://localhost:8080/"
        },
        "id": "AT-hDeHlgxNG",
        "outputId": "87bbed8e-5e22-4bb0-e7fd-2a7adb7bd10a"
      },
      "execution_count": null,
      "outputs": [
        {
          "output_type": "execute_result",
          "data": {
            "text/plain": [
              "tensor([[ 0.7068, -0.1420,  0.0109,  ...,  0.9666,  0.9997,  0.1405],\n",
              "        [-1.1469, -0.2016, -0.0161,  ...,  2.5147, -0.5581, -0.1584],\n",
              "        [ 0.5010, -1.1255, -0.6961,  ..., -0.6567, -0.5891,  4.2420],\n",
              "        [-0.9071, -0.4497,  1.4445,  ...,  1.6873,  0.2497, -1.6639]],\n",
              "       grad_fn=<SelectBackward0>)"
            ]
          },
          "metadata": {},
          "execution_count": 67
        }
      ]
    },
    {
      "cell_type": "markdown",
      "source": [
        "# Attention layer"
      ],
      "metadata": {
        "id": "Bde6_Lt8hFwp"
      }
    },
    {
      "cell_type": "markdown",
      "source": [
        "## check"
      ],
      "metadata": {
        "id": "eOwWIaQdoVlK"
      }
    },
    {
      "cell_type": "code",
      "source": [
        "import torch\n",
        "embeddings = [[0.43, 0.15, 0.89], #your\n",
        "              [0.55, 0.87, 0.66], #journey\n",
        "              [0.57, 0.85, 0.64], #starts\n",
        "              [0.22, 0.58, 0.33], #with\n",
        "              [0.77, 0.25, 0.10], #one\n",
        "              [0.05, 0.80, 0.55]] #step\n",
        "\n",
        "w_q = [[0.2961, 0.5166],\n",
        "       [0.2517, 0.6886],\n",
        "       [0.0740, 0.8665]]\n",
        "\n",
        "w_k = [[0.1366, 0.1025],\n",
        "       [0.1841, 0.7264],\n",
        "       [0.3153, 0.6871]]\n",
        "\n",
        "w_v = [[0.0756, 0.1966],\n",
        "       [0.3164, 0.4017],\n",
        "       [0.1186, 0.8274]]\n",
        "\n",
        "q = torch.tensor(embeddings) @ torch.tensor(w_q)\n",
        "k = torch.tensor(embeddings) @ torch.tensor(w_k)\n",
        "v = torch.tensor(embeddings) @ torch.tensor(w_v)\n",
        "\n",
        "print(q,k,v)"
      ],
      "metadata": {
        "colab": {
          "base_uri": "https://localhost:8080/"
        },
        "id": "GfVLoRdroXhT",
        "outputId": "43fac505-34f9-4962-a34a-1ea9c6e935fa"
      },
      "execution_count": null,
      "outputs": [
        {
          "output_type": "stream",
          "name": "stdout",
          "text": [
            "tensor([[0.2309, 1.0966],\n",
            "        [0.4307, 1.4551],\n",
            "        [0.4301, 1.4343],\n",
            "        [0.2355, 0.7990],\n",
            "        [0.2983, 0.6566],\n",
            "        [0.2569, 1.0533]]) tensor([[0.3670, 0.7646],\n",
            "        [0.4434, 1.1418],\n",
            "        [0.4361, 1.1156],\n",
            "        [0.2409, 0.6706],\n",
            "        [0.1827, 0.3292],\n",
            "        [0.3275, 0.9642]]) tensor([[0.1855, 0.8812],\n",
            "        [0.3951, 1.0037],\n",
            "        [0.3879, 0.9830],\n",
            "        [0.2393, 0.5493],\n",
            "        [0.1492, 0.3345],\n",
            "        [0.3221, 0.7863]])\n"
          ]
        }
      ]
    },
    {
      "cell_type": "code",
      "source": [
        "torch.dot(torch.tensor([0.4307, 1.4551]), torch.tensor([0.3275, 0.9642]))"
      ],
      "metadata": {
        "colab": {
          "base_uri": "https://localhost:8080/"
        },
        "id": "c5QT2qZDrAS6",
        "outputId": "68432078-d636-40eb-af88-db10ba9aee52"
      },
      "execution_count": null,
      "outputs": [
        {
          "output_type": "execute_result",
          "data": {
            "text/plain": [
              "tensor(1.5441)"
            ]
          },
          "metadata": {},
          "execution_count": 9
        }
      ]
    },
    {
      "cell_type": "code",
      "source": [
        "torch.tensor([1.2706, 1.8524, 1.8111, 1.0795, 0.5577, 1.5441])/(k.shape[1]**(0.5))"
      ],
      "metadata": {
        "colab": {
          "base_uri": "https://localhost:8080/"
        },
        "id": "b4CCjM2_r_ju",
        "outputId": "d24d14be-6d70-40e0-e04b-7e3a1aef88f7"
      },
      "execution_count": null,
      "outputs": [
        {
          "output_type": "execute_result",
          "data": {
            "text/plain": [
              "tensor([0.8984, 1.3098, 1.2806, 0.7633, 0.3944, 1.0918])"
            ]
          },
          "metadata": {},
          "execution_count": 14
        }
      ]
    },
    {
      "cell_type": "code",
      "source": [
        "torch.softmax(torch.tensor([0.8984, 1.3098, 1.2806, 0.7633, 0.3944, 1.0918]), dim=0)"
      ],
      "metadata": {
        "colab": {
          "base_uri": "https://localhost:8080/"
        },
        "id": "_2_gsHTZs9gu",
        "outputId": "e5806c8c-505f-4767-a65c-74e64cc1a650"
      },
      "execution_count": null,
      "outputs": [
        {
          "output_type": "execute_result",
          "data": {
            "text/plain": [
              "tensor([0.1500, 0.2264, 0.2199, 0.1311, 0.0906, 0.1820])"
            ]
          },
          "metadata": {},
          "execution_count": 18
        }
      ]
    },
    {
      "cell_type": "code",
      "source": [
        "torch.softmax(torch.tensor([0.8984, 1.3098, -torch.inf, -torch.inf, -torch.inf, -torch.inf]), dim=0)"
      ],
      "metadata": {
        "colab": {
          "base_uri": "https://localhost:8080/"
        },
        "id": "Nh7QAfDuxs3b",
        "outputId": "4b309acd-6685-456f-cf72-a803b2426d65"
      },
      "execution_count": null,
      "outputs": [
        {
          "output_type": "execute_result",
          "data": {
            "text/plain": [
              "tensor([0.3986, 0.6014, 0.0000, 0.0000, 0.0000, 0.0000])"
            ]
          },
          "metadata": {},
          "execution_count": 31
        }
      ]
    },
    {
      "cell_type": "code",
      "source": [
        "torch.inf"
      ],
      "metadata": {
        "colab": {
          "base_uri": "https://localhost:8080/"
        },
        "id": "T26229Hwzo8n",
        "outputId": "a6f487d0-9f4c-41ca-e6c1-6032eff90dc2"
      },
      "execution_count": null,
      "outputs": [
        {
          "output_type": "execute_result",
          "data": {
            "text/plain": [
              "inf"
            ]
          },
          "metadata": {},
          "execution_count": 30
        }
      ]
    },
    {
      "cell_type": "code",
      "source": [
        "0.1820 * torch.tensor([0.3221, 0.7863])"
      ],
      "metadata": {
        "colab": {
          "base_uri": "https://localhost:8080/"
        },
        "id": "9H98D_dtv3BY",
        "outputId": "1ceb34da-099f-49ed-a33d-aa9d05563cd6"
      },
      "execution_count": null,
      "outputs": [
        {
          "output_type": "execute_result",
          "data": {
            "text/plain": [
              "tensor([0.0586, 0.1431])"
            ]
          },
          "metadata": {},
          "execution_count": 25
        }
      ]
    },
    {
      "cell_type": "code",
      "source": [
        "0.1323+0.2272+0.2162+0.0720+0.303+0.1431"
      ],
      "metadata": {
        "colab": {
          "base_uri": "https://localhost:8080/"
        },
        "id": "a6ATGGSzwipt",
        "outputId": "a92126c8-3d24-45ae-9c1c-ae0271c366ab"
      },
      "execution_count": null,
      "outputs": [
        {
          "output_type": "execute_result",
          "data": {
            "text/plain": [
              "1.0938"
            ]
          },
          "metadata": {},
          "execution_count": 27
        }
      ]
    },
    {
      "cell_type": "markdown",
      "source": [
        "## Simplified attention without weights"
      ],
      "metadata": {
        "id": "r3StpYQgvBHG"
      }
    },
    {
      "cell_type": "code",
      "source": [
        "import torch"
      ],
      "metadata": {
        "id": "sEy_Uto7hCtS"
      },
      "execution_count": null,
      "outputs": []
    },
    {
      "cell_type": "code",
      "source": [
        "#let us assume the embedding for the sentence \"Your Journey starts with one step\"\n",
        "\n",
        "embeddings = [[0.43, 0.15, 0.89], #your\n",
        "              [0.55, 0.87, 0.66], #journey\n",
        "              [0.57, 0.85, 0.64], #starts\n",
        "              [0.22, 0.58, 0.33], #with\n",
        "              [0.77, 0.25, 0.10], #one\n",
        "              [0.05, 0.80, 0.55]] #step"
      ],
      "metadata": {
        "id": "H1dacMaUvH5T"
      },
      "execution_count": null,
      "outputs": []
    },
    {
      "cell_type": "code",
      "source": [
        "# In order to find the important with respect to the other word, we \"project\" it (which means dot product)\n",
        "# consider the word \"journey\"\n",
        "# The below term is called Attention score\n",
        "torch.dot(torch.tensor(embeddings[1]), torch.tensor(embeddings[0])) # this is the importance of \"Your\" with respect to \"journey\""
      ],
      "metadata": {
        "colab": {
          "base_uri": "https://localhost:8080/"
        },
        "id": "_GE8kB72v0J0",
        "outputId": "3df58ef0-a2ed-4aa3-f55a-82ea0a45dffa"
      },
      "execution_count": null,
      "outputs": [
        {
          "output_type": "execute_result",
          "data": {
            "text/plain": [
              "tensor(0.9544)"
            ]
          },
          "metadata": {},
          "execution_count": 3
        }
      ]
    },
    {
      "cell_type": "code",
      "source": [
        "# Lets do the same for all words with \"journey\"\n",
        "# For journey, we want the list to have 6 attention scores (since number of words in te sentence is 6)\n",
        "attention_scores = []\n",
        "for i in range(len(embeddings)):\n",
        "  attention = torch.dot(torch.tensor(embeddings[1]), torch.tensor(embeddings[i]))  # journey with respect to other words\n",
        "  attention_scores.append(attention)\n",
        "print(attention_scores)"
      ],
      "metadata": {
        "colab": {
          "base_uri": "https://localhost:8080/"
        },
        "id": "oQ4FysoVwH4w",
        "outputId": "9796de2a-0e4a-40e9-cdbc-74efac88a4bb"
      },
      "execution_count": null,
      "outputs": [
        {
          "output_type": "stream",
          "name": "stdout",
          "text": [
            "[tensor(0.9544), tensor(1.4950), tensor(1.4754), tensor(0.8434), tensor(0.7070), tensor(1.0865)]\n"
          ]
        }
      ]
    },
    {
      "cell_type": "code",
      "source": [
        "# now we wanted to normalize the attention score - which gives attention weights\n",
        "# we do softmax\n",
        "\n",
        "attention_weights = torch.softmax(torch.tensor(attention_scores), dim=0)\n",
        "attention_weights\n",
        "# \"Your\" is 13.85% important with respect to \"Journey\"\n",
        "# \"Journey\" is 23.79% important with itself\n",
        "# \"starts\" is 23.33% important with respect to \"Journey\"\n",
        "# \"with\" is 12.40% important with respect to \"Journey\"\n",
        "# \"one\" is 10.82% important with respect to \"Journey\"\n",
        "# \"step\" is 15.81% important with respect to \"Journey\""
      ],
      "metadata": {
        "colab": {
          "base_uri": "https://localhost:8080/"
        },
        "id": "DhXYTiRlwplU",
        "outputId": "8d8547d0-f5a9-46fc-ca41-f7f28d8e4135"
      },
      "execution_count": null,
      "outputs": [
        {
          "output_type": "execute_result",
          "data": {
            "text/plain": [
              "tensor([0.1385, 0.2379, 0.2333, 0.1240, 0.1082, 0.1581])"
            ]
          },
          "metadata": {},
          "execution_count": 5
        }
      ]
    },
    {
      "cell_type": "code",
      "source": [
        "# To calculate the context vector, we use the attention weight as scaling factor for each embeddings\n",
        "# once we have all the scaling vector we sum them across dimension to get the final context vector\n",
        "context_vector = []\n",
        "for i in range(len(embeddings)):\n",
        "  context_vector.append(attention_weights[i] * torch.tensor(embeddings[i]))"
      ],
      "metadata": {
        "id": "hvynAI6rxgqJ"
      },
      "execution_count": null,
      "outputs": []
    },
    {
      "cell_type": "code",
      "source": [
        "context_vector"
      ],
      "metadata": {
        "colab": {
          "base_uri": "https://localhost:8080/"
        },
        "id": "lXvso0p50z-M",
        "outputId": "1afe5b93-f03b-42f8-c4b2-d786d05db4fd"
      },
      "execution_count": null,
      "outputs": [
        {
          "output_type": "execute_result",
          "data": {
            "text/plain": [
              "[tensor([0.0596, 0.0208, 0.1233]),\n",
              " tensor([0.1308, 0.2070, 0.1570]),\n",
              " tensor([0.1330, 0.1983, 0.1493]),\n",
              " tensor([0.0273, 0.0719, 0.0409]),\n",
              " tensor([0.0833, 0.0270, 0.0108]),\n",
              " tensor([0.0079, 0.1265, 0.0870])]"
            ]
          },
          "metadata": {},
          "execution_count": 7
        }
      ]
    },
    {
      "cell_type": "code",
      "source": [
        "final_context_vector = torch.sum(torch.stack(context_vector), dim=0)\n",
        "final_context_vector # This is the journey context vector with respect to other words"
      ],
      "metadata": {
        "colab": {
          "base_uri": "https://localhost:8080/"
        },
        "id": "30tTbBSmzrDe",
        "outputId": "0b8eb370-547b-44c1-f301-dbda111bfb92"
      },
      "execution_count": null,
      "outputs": [
        {
          "output_type": "execute_result",
          "data": {
            "text/plain": [
              "tensor([0.4419, 0.6515, 0.5683])"
            ]
          },
          "metadata": {},
          "execution_count": 8
        }
      ]
    },
    {
      "cell_type": "code",
      "source": [
        "#can we do something efficiently ultimately we want 6*3 dimensions\n",
        "# attention scores for all can be matrix multiplication\n",
        "\n",
        "attention_score_all = torch.tensor(embeddings) @ torch.tensor(embeddings).T\n",
        "attention_score_all\n",
        "# verify if my second row \"journey\" is same as below\n",
        "# [tensor(0.9544), tensor(1.4950), tensor(1.4754), tensor(0.8434), tensor(0.7070), tensor(1.0865)]"
      ],
      "metadata": {
        "id": "wYZSDm4t1qIG",
        "colab": {
          "base_uri": "https://localhost:8080/"
        },
        "outputId": "ea4c7c7b-5337-4c81-a9e8-fc326cfa3c0a"
      },
      "execution_count": null,
      "outputs": [
        {
          "output_type": "execute_result",
          "data": {
            "text/plain": [
              "tensor([[0.9995, 0.9544, 0.9422, 0.4753, 0.4576, 0.6310],\n",
              "        [0.9544, 1.4950, 1.4754, 0.8434, 0.7070, 1.0865],\n",
              "        [0.9422, 1.4754, 1.4570, 0.8296, 0.7154, 1.0605],\n",
              "        [0.4753, 0.8434, 0.8296, 0.4937, 0.3474, 0.6565],\n",
              "        [0.4576, 0.7070, 0.7154, 0.3474, 0.6654, 0.2935],\n",
              "        [0.6310, 1.0865, 1.0605, 0.6565, 0.2935, 0.9450]])"
            ]
          },
          "metadata": {},
          "execution_count": 14
        }
      ]
    },
    {
      "cell_type": "code",
      "source": [
        "# attention weight of \"journey\" tensor([0.1385, 0.2379, 0.2333, 0.1240, 0.1082, 0.1581])\n",
        "attention_weights_all = torch.softmax(attention_score_all, dim=1)\n",
        "attention_weights_all"
      ],
      "metadata": {
        "colab": {
          "base_uri": "https://localhost:8080/"
        },
        "id": "VkNTvq5ww7Ns",
        "outputId": "9b8a30f1-2006-456c-8a19-52b8bb5d8b03"
      },
      "execution_count": null,
      "outputs": [
        {
          "output_type": "execute_result",
          "data": {
            "text/plain": [
              "tensor([[0.2098, 0.2006, 0.1981, 0.1242, 0.1220, 0.1452],\n",
              "        [0.1385, 0.2379, 0.2333, 0.1240, 0.1082, 0.1581],\n",
              "        [0.1390, 0.2369, 0.2326, 0.1242, 0.1108, 0.1565],\n",
              "        [0.1435, 0.2074, 0.2046, 0.1462, 0.1263, 0.1720],\n",
              "        [0.1526, 0.1958, 0.1975, 0.1367, 0.1879, 0.1295],\n",
              "        [0.1385, 0.2184, 0.2128, 0.1420, 0.0988, 0.1896]])"
            ]
          },
          "metadata": {},
          "execution_count": 18
        }
      ]
    },
    {
      "cell_type": "code",
      "source": [
        "# context vector # 6*3\n",
        "# tensor([0.4419, 0.6515, 0.5683])\n",
        "context_vector_all = attention_weights_all @ torch.tensor(embeddings)\n",
        "context_vector_all"
      ],
      "metadata": {
        "colab": {
          "base_uri": "https://localhost:8080/"
        },
        "id": "Ebo8R9HjyV3C",
        "outputId": "ffb2fb4f-f3b9-49d4-8b30-1136ed7dbbb8"
      },
      "execution_count": null,
      "outputs": [
        {
          "output_type": "execute_result",
          "data": {
            "text/plain": [
              "tensor([[0.4421, 0.5931, 0.5790],\n",
              "        [0.4419, 0.6515, 0.5683],\n",
              "        [0.4431, 0.6496, 0.5671],\n",
              "        [0.4304, 0.6298, 0.5510],\n",
              "        [0.4671, 0.5910, 0.5266],\n",
              "        [0.4177, 0.6503, 0.5645]])"
            ]
          },
          "metadata": {},
          "execution_count": 25
        }
      ]
    },
    {
      "cell_type": "markdown",
      "source": [
        "# Self Attention with trainable weight params\n"
      ],
      "metadata": {
        "id": "xRP8XVtY2DUP"
      }
    },
    {
      "cell_type": "markdown",
      "source": [
        "## Why we are dividing by sqrt of dimension vector QK(transpose)/sqrt(d) for attention score to attention weight transformation"
      ],
      "metadata": {
        "id": "YuEOAVI32Sqi"
      }
    },
    {
      "cell_type": "code",
      "source": [
        "import numpy as np\n",
        "import seaborn as sns\n",
        "import torch\n",
        "def get_dims(dims):\n",
        "  normal = []\n",
        "  scaled = []\n",
        "  normal_softmax = []\n",
        "  scaled_softmax = []\n",
        "  for i in range(1000):\n",
        "    q = np.random.randn(dims)\n",
        "    k = np.random.randn(dims)\n",
        "\n",
        "    dot_product = np.dot(q,k)\n",
        "    dot_product_scaled = dot_product / np.sqrt(dims)\n",
        "    normal.append(dot_product)\n",
        "    scaled.append(dot_product_scaled)\n",
        "\n",
        "  print(f\"Variance for normal and scaled values are {np.var(normal)}, {np.var(scaled)}\")\n",
        "\n",
        "for dims in [10,50,100, 200, 250, 300]:\n",
        "  print(f\"for dimensions {dims}\")\n",
        "  get_dims(dims)"
      ],
      "metadata": {
        "colab": {
          "base_uri": "https://localhost:8080/"
        },
        "id": "-fg84p9L-5E8",
        "outputId": "cf122e2f-f048-48c5-ef37-a4c590ad2048"
      },
      "execution_count": null,
      "outputs": [
        {
          "output_type": "stream",
          "name": "stdout",
          "text": [
            "for dimensions 10\n",
            "Variance for normal and scaled values are 9.907351575597529, 0.9907351575597528\n",
            "for dimensions 50\n",
            "Variance for normal and scaled values are 46.564144291686254, 0.931282885833725\n",
            "for dimensions 100\n",
            "Variance for normal and scaled values are 102.11974090553699, 1.0211974090553697\n",
            "for dimensions 200\n",
            "Variance for normal and scaled values are 200.72127173869225, 1.0036063586934612\n",
            "for dimensions 250\n",
            "Variance for normal and scaled values are 251.73183325690047, 1.006927333027602\n",
            "for dimensions 300\n",
            "Variance for normal and scaled values are 307.9697229548999, 1.0265657431829993\n"
          ]
        }
      ]
    },
    {
      "cell_type": "code",
      "source": [
        "import numpy as np\n",
        "import seaborn as sns\n",
        "import matplotlib.pyplot as plt\n",
        "import torch\n",
        "\n",
        "def get_softmax(x):\n",
        "    x_tensor = torch.tensor(x, dtype=torch.float32)\n",
        "    return torch.nn.functional.softmax(x_tensor, dim=0).numpy()\n",
        "\n",
        "def get_dims(dims, ax):\n",
        "    normal_softmax_values = []\n",
        "    scaled_softmax_values = []\n",
        "    normal = []\n",
        "    scaled = []\n",
        "    for _ in range(1000):\n",
        "        q = np.random.randn(dims)\n",
        "        k = np.random.randn(dims)\n",
        "\n",
        "        dot = np.dot(q, k)\n",
        "        dot_scaled = dot / np.sqrt(dims)\n",
        "        normal.append(dot)\n",
        "        scaled.append(dot_scaled)\n",
        "        normal_softmax = get_softmax([dot, 0])\n",
        "        scaled_softmax = get_softmax([dot_scaled, 0])\n",
        "\n",
        "        normal_softmax_values.append(normal_softmax[0])\n",
        "        scaled_softmax_values.append(scaled_softmax[0])\n",
        "\n",
        "    # Print variance\n",
        "    print(f\"Variance for normal and scaled values (before softmax) are {np.var(normal)}, {np.var(scaled)}\")\n",
        "\n",
        "    # Plot into subplot axis\n",
        "    sns.kdeplot(normal_softmax_values, label='No Scaling', fill=True, ax=ax, clip=(0, 1))\n",
        "    sns.kdeplot(scaled_softmax_values, label='With Scaling (1/√d)', fill=True, ax=ax, clip=(0, 1))\n",
        "    ax.set_title(f\"dim = {dims}\")\n",
        "    ax.set_xlabel(\"Softmax Output\")\n",
        "    ax.set_ylabel(\"Density\")\n",
        "    ax.grid(True)\n",
        "    ax.legend()\n",
        "    return normal_softmax_values, scaled_softmax_values\n",
        "# Create a figure with 3 subplots side by side\n",
        "fig, axes = plt.subplots(1, 3, figsize=(15, 4))\n",
        "\n",
        "for i, dims in enumerate([10, 50, 100]):\n",
        "    print(f\"\\n--- For dimension = {dims} ---\")\n",
        "    result = get_dims(dims, axes[i])\n",
        "\n",
        "plt.suptitle(\"Softmax Output Distribution Comparison (Normal vs Scaled)\", fontsize=14)\n",
        "plt.tight_layout(rect=[0, 0, 1, 0.95])  # leave space for suptitle\n",
        "plt.show()\n"
      ],
      "metadata": {
        "colab": {
          "base_uri": "https://localhost:8080/",
          "height": 574
        },
        "id": "lDqQk4fpBvXF",
        "outputId": "6ca9fb33-dda7-4be2-825c-98a784561ed9"
      },
      "execution_count": null,
      "outputs": [
        {
          "output_type": "stream",
          "name": "stdout",
          "text": [
            "\n",
            "--- For dimension = 10 ---\n",
            "Variance for normal and scaled values (before softmax) are 10.119712801586633, 1.0119712801586633\n",
            "\n",
            "--- For dimension = 50 ---\n",
            "Variance for normal and scaled values (before softmax) are 51.52900470959969, 1.0305800941919938\n",
            "\n",
            "--- For dimension = 100 ---\n",
            "Variance for normal and scaled values (before softmax) are 98.57008036093026, 0.9857008036093028\n"
          ]
        },
        {
          "output_type": "display_data",
          "data": {
            "text/plain": [
              "<Figure size 1500x400 with 3 Axes>"
            ],
            "image/png": "[encoded data removed]"
          },
          "metadata": {}
        }
      ]
    },
    {
      "cell_type": "markdown",
      "source": [
        "## Self Attention scratchpad implementation"
      ],
      "metadata": {
        "id": "uZ5RY_BF2VsA"
      }
    },
    {
      "cell_type": "code",
      "source": [
        "import torch\n",
        "\n",
        "#let us assume the embedding for the sentence \"Your Journey starts with one step\"\n",
        "\n",
        "embeddings = [[0.43, 0.15, 0.89], #your\n",
        "              [0.55, 0.87, 0.66], #journey\n",
        "              [0.57, 0.85, 0.64], #starts\n",
        "              [0.22, 0.58, 0.33], #with\n",
        "              [0.77, 0.25, 0.10], #one\n",
        "              [0.05, 0.80, 0.55]] #step"
      ],
      "metadata": {
        "id": "PlC8-4U92VJW"
      },
      "execution_count": 3,
      "outputs": []
    },
    {
      "cell_type": "code",
      "source": [
        "# First lets have our own weights to cross verify the results.\n",
        "\n",
        "w_q = [[0.2961,0.5166],\n",
        "       [0.2517,0.6886],\n",
        "       [0.0740,0.8665]]\n",
        "w_k = [[0.1366,0.1025],\n",
        "       [0.1841,0.7264],\n",
        "       [0.3153,0.6871]]\n",
        "w_v = [[0.0756,0.1966],\n",
        "       [0.3164,0.4017],\n",
        "       [0.1186,0.8274]]\n",
        "print(f\"Dimension of my weight vectors: {torch.tensor(w_q).shape}\")\n",
        "\n",
        "q = torch.tensor(embeddings) @ torch.tensor(w_q)\n",
        "k = torch.tensor(embeddings) @ torch.tensor(w_k)\n",
        "v = torch.tensor(embeddings) @ torch.tensor(w_v)\n",
        "\n",
        "print(f\"Query, Key and value matrices are \\n {q},\\n {k},\\n {v}\\n\")\n",
        "\n",
        "# Attention matrix calculation\n",
        "attention_matrix = q @ k.T\n",
        "print(f\"Attention matrix is {attention_matrix}\\n\")\n",
        "print(f'Interim value before attention weight calculation {attention_matrix / (v.shape[1]**0.5)}')\n",
        "attention_weights = torch.softmax(attention_matrix / (v.shape[1]**0.5), dim=1)\n",
        "print(f\"Attention weight matrix is {attention_weights}\\n\")\n",
        "\n",
        "# Then we scale the value vector using the attention weights\n",
        "context_vector = attention_weights @ v\n",
        "print(f\"Final context vector is {context_vector}\")"
      ],
      "metadata": {
        "colab": {
          "base_uri": "https://localhost:8080/"
        },
        "id": "khXds_IR2d_l",
        "outputId": "e9d8cdb2-3d58-4d0c-d989-35972f28e1f2"
      },
      "execution_count": null,
      "outputs": [
        {
          "output_type": "stream",
          "name": "stdout",
          "text": [
            "Dimension of my weight vectors: torch.Size([3, 2])\n",
            "Query, Key and value matrices are \n",
            " tensor([[0.2309, 1.0966],\n",
            "        [0.4307, 1.4551],\n",
            "        [0.4301, 1.4343],\n",
            "        [0.2355, 0.7990],\n",
            "        [0.2983, 0.6566],\n",
            "        [0.2569, 1.0533]]),\n",
            " tensor([[0.3670, 0.7646],\n",
            "        [0.4434, 1.1418],\n",
            "        [0.4361, 1.1156],\n",
            "        [0.2409, 0.6706],\n",
            "        [0.1827, 0.3292],\n",
            "        [0.3275, 0.9642]]),\n",
            " tensor([[0.1855, 0.8812],\n",
            "        [0.3951, 1.0037],\n",
            "        [0.3879, 0.9830],\n",
            "        [0.2393, 0.5493],\n",
            "        [0.1492, 0.3345],\n",
            "        [0.3221, 0.7863]])\n",
            "\n",
            "Attention matrix is tensor([[0.9232, 1.3545, 1.3241, 0.7910, 0.4032, 1.1329],\n",
            "        [1.2705, 1.8524, 1.8112, 1.0795, 0.5578, 1.5440],\n",
            "        [1.2545, 1.8285, 1.7877, 1.0655, 0.5508, 1.5238],\n",
            "        [0.6973, 1.0167, 0.9941, 0.5925, 0.3061, 0.8475],\n",
            "        [0.6115, 0.8820, 0.8626, 0.5122, 0.2707, 0.7308],\n",
            "        [0.8996, 1.3166, 1.2871, 0.7682, 0.3937, 1.0997]])\n",
            "\n",
            "Interim value before attention weight calculation tensor([[0.6528, 0.9578, 0.9363, 0.5593, 0.2851, 0.8011],\n",
            "        [0.8984, 1.3099, 1.2807, 0.7633, 0.3944, 1.0918],\n",
            "        [0.8870, 1.2929, 1.2641, 0.7534, 0.3895, 1.0775],\n",
            "        [0.4931, 0.7189, 0.7029, 0.4190, 0.2164, 0.5993],\n",
            "        [0.4324, 0.6237, 0.6099, 0.3622, 0.1914, 0.5167],\n",
            "        [0.6361, 0.9310, 0.9101, 0.5432, 0.2784, 0.7776]])\n",
            "Attention weight matrix is tensor([[0.1551, 0.2104, 0.2059, 0.1413, 0.1074, 0.1799],\n",
            "        [0.1500, 0.2264, 0.2199, 0.1311, 0.0906, 0.1820],\n",
            "        [0.1503, 0.2256, 0.2192, 0.1315, 0.0914, 0.1819],\n",
            "        [0.1591, 0.1994, 0.1962, 0.1477, 0.1206, 0.1769],\n",
            "        [0.1610, 0.1949, 0.1923, 0.1501, 0.1265, 0.1752],\n",
            "        [0.1557, 0.2092, 0.2048, 0.1419, 0.1089, 0.1794]])\n",
            "\n",
            "Final context vector is tensor([[0.2996, 0.8053],\n",
            "        [0.3061, 0.8210],\n",
            "        [0.3058, 0.8203],\n",
            "        [0.2948, 0.7938],\n",
            "        [0.2927, 0.7890],\n",
            "        [0.2990, 0.8040]])\n"
          ]
        }
      ]
    },
    {
      "cell_type": "markdown",
      "source": [
        "## Causal Attention scratchpad implementation"
      ],
      "metadata": {
        "id": "8Gf0QHm9GDvH"
      }
    },
    {
      "cell_type": "code",
      "source": [
        "import numpy as np"
      ],
      "metadata": {
        "id": "NKI8IiQYLSRV"
      },
      "execution_count": null,
      "outputs": []
    },
    {
      "cell_type": "code",
      "source": [
        "attention_matrix"
      ],
      "metadata": {
        "id": "6T0FaJTr35ML",
        "colab": {
          "base_uri": "https://localhost:8080/"
        },
        "outputId": "41bc1033-d85b-4477-d77e-7e34addbf51c"
      },
      "execution_count": null,
      "outputs": [
        {
          "output_type": "execute_result",
          "data": {
            "text/plain": [
              "tensor([[0.9232, 1.3545, 1.3241, 0.7910, 0.4032, 1.1329],\n",
              "        [1.2705, 1.8524, 1.8112, 1.0795, 0.5578, 1.5440],\n",
              "        [1.2545, 1.8285, 1.7877, 1.0655, 0.5508, 1.5238],\n",
              "        [0.6973, 1.0167, 0.9941, 0.5925, 0.3061, 0.8475],\n",
              "        [0.6115, 0.8820, 0.8626, 0.5122, 0.2707, 0.7308],\n",
              "        [0.8996, 1.3166, 1.2871, 0.7682, 0.3937, 1.0997]])"
            ]
          },
          "metadata": {},
          "execution_count": 4
        }
      ]
    },
    {
      "cell_type": "code",
      "source": [
        "attention_matrix_causal = torch.masked_fill(attention_matrix, torch.triu(torch.ones(6,6), diagonal=1).bool(), value=-np.inf)\n",
        "attention_matrix_causal"
      ],
      "metadata": {
        "colab": {
          "base_uri": "https://localhost:8080/"
        },
        "id": "nGR0FUQ3KsPX",
        "outputId": "f052ddcf-3dae-457b-d6c3-aa08be769457"
      },
      "execution_count": null,
      "outputs": [
        {
          "output_type": "execute_result",
          "data": {
            "text/plain": [
              "tensor([[0.9232,   -inf,   -inf,   -inf,   -inf,   -inf],\n",
              "        [1.2705, 1.8524,   -inf,   -inf,   -inf,   -inf],\n",
              "        [1.2545, 1.8285, 1.7877,   -inf,   -inf,   -inf],\n",
              "        [0.6973, 1.0167, 0.9941, 0.5925,   -inf,   -inf],\n",
              "        [0.6115, 0.8820, 0.8626, 0.5122, 0.2707,   -inf],\n",
              "        [0.8996, 1.3166, 1.2871, 0.7682, 0.3937, 1.0997]])"
            ]
          },
          "metadata": {},
          "execution_count": 5
        }
      ]
    },
    {
      "cell_type": "code",
      "source": [
        "attention_weights_causal = torch.softmax(attention_matrix_causal / (v.shape[1]**0.5), dim=1)\n",
        "attention_weights_causal"
      ],
      "metadata": {
        "colab": {
          "base_uri": "https://localhost:8080/"
        },
        "id": "pz_k89aFJEWB",
        "outputId": "dd13bb76-b2b8-4974-ada0-bb118ff3f322"
      },
      "execution_count": null,
      "outputs": [
        {
          "output_type": "execute_result",
          "data": {
            "text/plain": [
              "tensor([[1.0000, 0.0000, 0.0000, 0.0000, 0.0000, 0.0000],\n",
              "        [0.3986, 0.6014, 0.0000, 0.0000, 0.0000, 0.0000],\n",
              "        [0.2526, 0.3791, 0.3683, 0.0000, 0.0000, 0.0000],\n",
              "        [0.2265, 0.2839, 0.2794, 0.2103, 0.0000, 0.0000],\n",
              "        [0.1952, 0.2363, 0.2331, 0.1820, 0.1534, 0.0000],\n",
              "        [0.1557, 0.2092, 0.2048, 0.1419, 0.1089, 0.1794]])"
            ]
          },
          "metadata": {},
          "execution_count": 6
        }
      ]
    },
    {
      "cell_type": "code",
      "source": [
        "dropout = torch.nn.Dropout(0.5)\n",
        "\n",
        "attention_weights_causal = dropout(attention_weights_causal)"
      ],
      "metadata": {
        "id": "9DQULhEjMlzx"
      },
      "execution_count": null,
      "outputs": []
    },
    {
      "cell_type": "code",
      "source": [
        "context_vector_causal = attention_weights_causal @ v\n",
        "print(f\"Final context vector is {context_vector}\")"
      ],
      "metadata": {
        "colab": {
          "base_uri": "https://localhost:8080/"
        },
        "id": "YPdVUayJI1JD",
        "outputId": "d23d86e5-d6ce-47bd-a485-c59d969eadad"
      },
      "execution_count": null,
      "outputs": [
        {
          "output_type": "stream",
          "name": "stdout",
          "text": [
            "Final context vector is tensor([[0.2996, 0.8053],\n",
            "        [0.3061, 0.8210],\n",
            "        [0.3058, 0.8203],\n",
            "        [0.2948, 0.7938],\n",
            "        [0.2927, 0.7890],\n",
            "        [0.2990, 0.8040]])\n"
          ]
        }
      ]
    },
    {
      "cell_type": "markdown",
      "source": [
        "## Self and Causal Attention Class"
      ],
      "metadata": {
        "id": "zoVVcmXRK_X_"
      }
    },
    {
      "cell_type": "markdown",
      "source": [
        "Works on batches too"
      ],
      "metadata": {
        "id": "-LajmHXPOWNN"
      }
    },
    {
      "cell_type": "code",
      "source": [
        "import numpy as np\n",
        "import torch"
      ],
      "metadata": {
        "id": "crKkLCm-Nk-7"
      },
      "execution_count": null,
      "outputs": []
    },
    {
      "cell_type": "code",
      "source": [
        "embeddings_batch = torch.stack((torch.tensor(embeddings),torch.tensor(embeddings)))"
      ],
      "metadata": {
        "id": "ucbpmXz2PmW7"
      },
      "execution_count": 4,
      "outputs": []
    },
    {
      "cell_type": "code",
      "source": [
        "k.transpose(0,1).shape"
      ],
      "metadata": {
        "colab": {
          "base_uri": "https://localhost:8080/"
        },
        "id": "1lYwV-nDTzC6",
        "outputId": "8e4ecac4-3503-4f3e-e86a-e62490792622"
      },
      "execution_count": null,
      "outputs": [
        {
          "output_type": "execute_result",
          "data": {
            "text/plain": [
              "torch.Size([2, 6])"
            ]
          },
          "metadata": {},
          "execution_count": 34
        }
      ]
    },
    {
      "cell_type": "code",
      "source": [
        "w_q = torch.nn.Linear(3, 2, bias=False)\n",
        "q_sample = w_q(embeddings_batch)\n",
        "q_sample"
      ],
      "metadata": {
        "colab": {
          "base_uri": "https://localhost:8080/"
        },
        "id": "JqREe7qGUKF0",
        "outputId": "e4114e1e-74e8-4368-ce35-7ad6266452d2"
      },
      "execution_count": null,
      "outputs": [
        {
          "output_type": "execute_result",
          "data": {
            "text/plain": [
              "(tensor([[[ 0.6067, -0.3198],\n",
              "          [ 0.9204, -0.1370],\n",
              "          [ 0.9126, -0.1222],\n",
              "          [ 0.5040, -0.0773],\n",
              "          [ 0.5153,  0.1782],\n",
              "          [ 0.6129, -0.2257]],\n",
              " \n",
              "         [[ 0.6067, -0.3198],\n",
              "          [ 0.9204, -0.1370],\n",
              "          [ 0.9126, -0.1222],\n",
              "          [ 0.5040, -0.0773],\n",
              "          [ 0.5153,  0.1782],\n",
              "          [ 0.6129, -0.2257]]], grad_fn=<UnsafeViewBackward0>),\n",
              " torch.Size([2, 6, 2]))"
            ]
          },
          "metadata": {},
          "execution_count": 43
        }
      ]
    },
    {
      "cell_type": "code",
      "source": [
        "q_sample.transpose(2,1)"
      ],
      "metadata": {
        "colab": {
          "base_uri": "https://localhost:8080/"
        },
        "id": "BXfAN5mEU8G-",
        "outputId": "dd4f593d-7dcf-43fa-8849-0351eb376073"
      },
      "execution_count": null,
      "outputs": [
        {
          "output_type": "execute_result",
          "data": {
            "text/plain": [
              "tensor([[[ 0.6067,  0.9204,  0.9126,  0.5040,  0.5153,  0.6129],\n",
              "         [-0.3198, -0.1370, -0.1222, -0.0773,  0.1782, -0.2257]],\n",
              "\n",
              "        [[ 0.6067,  0.9204,  0.9126,  0.5040,  0.5153,  0.6129],\n",
              "         [-0.3198, -0.1370, -0.1222, -0.0773,  0.1782, -0.2257]]],\n",
              "       grad_fn=<TransposeBackward0>)"
            ]
          },
          "metadata": {},
          "execution_count": 44
        }
      ]
    },
    {
      "cell_type": "code",
      "source": [
        "q_sample.T, q_sample.T.shape"
      ],
      "metadata": {
        "colab": {
          "base_uri": "https://localhost:8080/"
        },
        "id": "7XKrqraXUbj_",
        "outputId": "92f8dcbd-98f2-49e1-b7e6-c9aa8685d5ff"
      },
      "execution_count": null,
      "outputs": [
        {
          "output_type": "execute_result",
          "data": {
            "text/plain": [
              "(tensor([[[0.4269, 0.4269],\n",
              "          [0.3241, 0.3241],\n",
              "          [0.3244, 0.3244],\n",
              "          [0.1346, 0.1346],\n",
              "          [0.2398, 0.2398],\n",
              "          [0.1452, 0.1452]],\n",
              " \n",
              "         [[0.5184, 0.5184],\n",
              "          [0.3808, 0.3808],\n",
              "          [0.3807, 0.3807],\n",
              "          [0.1569, 0.1569],\n",
              "          [0.2723, 0.2723],\n",
              "          [0.1744, 0.1744]]], grad_fn=<PermuteBackward0>),\n",
              " torch.Size([2, 6, 2]))"
            ]
          },
          "metadata": {},
          "execution_count": 42
        }
      ]
    },
    {
      "cell_type": "code",
      "source": [
        "class SelfAttention(torch.nn.Module):\n",
        "\n",
        "  def __init__(self, dim_in, dim_out, qkv_bias):\n",
        "    super().__init__()\n",
        "\n",
        "    self.w_q = torch.nn.Linear(dim_in, dim_out, bias=qkv_bias)\n",
        "    self.w_k = torch.nn.Linear(dim_in, dim_out, bias=qkv_bias)\n",
        "    self.w_v = torch.nn.Linear(dim_in, dim_out, bias=qkv_bias)\n",
        "\n",
        "  def forward(self, x):\n",
        "\n",
        "    batch, dim_in, dim_out = x.shape\n",
        "\n",
        "    q = self.w_q(x)\n",
        "    k = self.w_k(x)\n",
        "    v = self.w_v(x)\n",
        "\n",
        "    attention_matrix = q @ k.transpose(2,1) # swaps second dimension with 1st dimension (2,6,2) to (2,2,6)\n",
        "    attention_weights = torch.softmax(attention_matrix / (v.shape[1]**0.5), dim=1)\n",
        "    context_vector = attention_weights @ v\n",
        "    return context_vector\n"
      ],
      "metadata": {
        "id": "Q0HcwY70K8wK"
      },
      "execution_count": null,
      "outputs": []
    },
    {
      "cell_type": "code",
      "source": [
        "self_attention_obj = SelfAttention(dim_in = torch.tensor(embeddings_batch).shape[2], dim_out = 2, qkv_bias = False)\n",
        "context_vector_self_attention = self_attention_obj(torch.tensor(embeddings_batch))\n",
        "print(context_vector_self_attention)"
      ],
      "metadata": {
        "colab": {
          "base_uri": "https://localhost:8080/"
        },
        "id": "WiZroH8gMqJW",
        "outputId": "4688a2a6-fbc0-47ef-90be-1a2cbe999ad6"
      },
      "execution_count": null,
      "outputs": [
        {
          "output_type": "stream",
          "name": "stdout",
          "text": [
            "tensor([[[0.2791, 0.4021],\n",
            "         [0.2818, 0.4020],\n",
            "         [0.2817, 0.4018],\n",
            "         [0.2822, 0.4024],\n",
            "         [0.2802, 0.3992],\n",
            "         [0.2830, 0.4038]],\n",
            "\n",
            "        [[0.2791, 0.4021],\n",
            "         [0.2818, 0.4020],\n",
            "         [0.2817, 0.4018],\n",
            "         [0.2822, 0.4024],\n",
            "         [0.2802, 0.3992],\n",
            "         [0.2830, 0.4038]]], grad_fn=<UnsafeViewBackward0>)\n"
          ]
        },
        {
          "output_type": "stream",
          "name": "stderr",
          "text": [
            "/tmp/ipython-input-51-3595751820.py:1: UserWarning: To copy construct from a tensor, it is recommended to use sourceTensor.clone().detach() or sourceTensor.clone().detach().requires_grad_(True), rather than torch.tensor(sourceTensor).\n",
            "  self_attention_obj = SelfAttention(dim_in = torch.tensor(embeddings_batch).shape[2], dim_out = 2, qkv_bias = False)\n",
            "/tmp/ipython-input-51-3595751820.py:2: UserWarning: To copy construct from a tensor, it is recommended to use sourceTensor.clone().detach() or sourceTensor.clone().detach().requires_grad_(True), rather than torch.tensor(sourceTensor).\n",
            "  context_vector_self_attention = self_attention_obj(torch.tensor(embeddings_batch))\n"
          ]
        }
      ]
    },
    {
      "cell_type": "code",
      "source": [
        "class CausalAttention(torch.nn.Module):\n",
        "\n",
        "  def __init__(self, dim_in, dim_out, qkv_bias, dropout_percentage):\n",
        "    super().__init__()\n",
        "\n",
        "    self.w_q = torch.nn.Linear(dim_in, dim_out, bias=qkv_bias)\n",
        "    self.w_k = torch.nn.Linear(dim_in, dim_out, bias=qkv_bias)\n",
        "    self.w_v = torch.nn.Linear(dim_in, dim_out, bias=qkv_bias)\n",
        "    self.dropout = torch.nn.Dropout(dropout_percentage)\n",
        "\n",
        "  def forward(self, x):\n",
        "    q = self.w_q(x)\n",
        "    k = self.w_k(x)\n",
        "    v = self.w_v(x)\n",
        "\n",
        "    attention_matrix = q @ k.transpose(2,1) # swaps second dimension with 1st dimension (2,6,2) to (2,2,6)\n",
        "    attention_matrix.masked_fill_(torch.triu(torch.ones(6,6), diagonal=1).bool(), value=-np.inf)\n",
        "    attention_weights = torch.softmax(attention_matrix / (v.shape[1]**0.5), dim=1)\n",
        "    context_vector = attention_weights @ v\n",
        "    return context_vector\n",
        "\n",
        "causal_attention_obj = CausalAttention(dim_in = embeddings_batch.shape[2], dim_out = 2, qkv_bias = False, dropout_percentage=0.5)\n",
        "context_vector_causal_attention = causal_attention_obj(torch.tensor(embeddings_batch))\n",
        "print(context_vector_causal_attention)"
      ],
      "metadata": {
        "colab": {
          "base_uri": "https://localhost:8080/"
        },
        "id": "6SmJs4tWNF1P",
        "outputId": "9323936f-03ee-4f28-a340-2257380ddb59"
      },
      "execution_count": null,
      "outputs": [
        {
          "output_type": "stream",
          "name": "stdout",
          "text": [
            "tensor([[[-0.0302, -0.0658],\n",
            "         [ 0.0120, -0.1554],\n",
            "         [ 0.0654, -0.2699],\n",
            "         [ 0.1141, -0.3761],\n",
            "         [ 0.3111, -0.5316],\n",
            "         [ 0.3147, -0.8097]],\n",
            "\n",
            "        [[-0.0302, -0.0658],\n",
            "         [ 0.0120, -0.1554],\n",
            "         [ 0.0654, -0.2699],\n",
            "         [ 0.1141, -0.3761],\n",
            "         [ 0.3111, -0.5316],\n",
            "         [ 0.3147, -0.8097]]], grad_fn=<UnsafeViewBackward0>)\n"
          ]
        },
        {
          "output_type": "stream",
          "name": "stderr",
          "text": [
            "/tmp/ipython-input-52-339935072.py:23: UserWarning: To copy construct from a tensor, it is recommended to use sourceTensor.clone().detach() or sourceTensor.clone().detach().requires_grad_(True), rather than torch.tensor(sourceTensor).\n",
            "  context_vector_causal_attention = causal_attention_obj(torch.tensor(embeddings_batch))\n"
          ]
        }
      ]
    },
    {
      "cell_type": "markdown",
      "source": [
        "## Extending the same to Multi head attention"
      ],
      "metadata": {
        "id": "ElVLpl0cW18J"
      }
    },
    {
      "cell_type": "code",
      "source": [
        "class MultiheadAttention(torch.nn.Module):\n",
        "\n",
        "  def __init__(self, dim_in, dim_out, qkv_bias, num_heads):\n",
        "    super().__init__()\n",
        "\n",
        "    self.heads = torch.nn.ModuleList([SelfAttention(dim_in, dim_out, qkv_bias) for _ in range(num_heads)])\n",
        "\n",
        "  def forward(self, x):\n",
        "\n",
        "    return torch.cat([head(x) for head in self.heads], dim=-1)\n",
        "\n"
      ],
      "metadata": {
        "id": "LrWrXmJLN_BD"
      },
      "execution_count": null,
      "outputs": []
    },
    {
      "cell_type": "code",
      "source": [
        "ma = MultiheadAttention(dim_in = embeddings_batch.shape[2], dim_out = 2, qkv_bias = False, num_heads=2)\n",
        "cv_ma = ma(embeddings_batch)\n",
        "cv_ma"
      ],
      "metadata": {
        "colab": {
          "base_uri": "https://localhost:8080/"
        },
        "id": "SP-kuVC-YCfo",
        "outputId": "12806c6d-eb93-4c07-a4c2-7525f7994529"
      },
      "execution_count": null,
      "outputs": [
        {
          "output_type": "execute_result",
          "data": {
            "text/plain": [
              "tensor([[[-0.3744, -0.2701,  0.1107, -0.1882],\n",
              "         [-0.3903, -0.2793,  0.1118, -0.1904],\n",
              "         [-0.3895, -0.2791,  0.1118, -0.1904],\n",
              "         [-0.4011, -0.2874,  0.1082, -0.1882],\n",
              "         [-0.3790, -0.2770,  0.1095, -0.1903],\n",
              "         [-0.4083, -0.2897,  0.1086, -0.1877]],\n",
              "\n",
              "        [[-0.3744, -0.2701,  0.1107, -0.1882],\n",
              "         [-0.3903, -0.2793,  0.1118, -0.1904],\n",
              "         [-0.3895, -0.2791,  0.1118, -0.1904],\n",
              "         [-0.4011, -0.2874,  0.1082, -0.1882],\n",
              "         [-0.3790, -0.2770,  0.1095, -0.1903],\n",
              "         [-0.4083, -0.2897,  0.1086, -0.1877]]], grad_fn=<CatBackward0>)"
            ]
          },
          "metadata": {},
          "execution_count": 86
        }
      ]
    },
    {
      "cell_type": "markdown",
      "source": [
        "## Multi head attention mechanism (efficient)"
      ],
      "metadata": {
        "id": "4SvFDjmZcIgk"
      }
    },
    {
      "cell_type": "markdown",
      "source": [
        "### Multi head scratchpad"
      ],
      "metadata": {
        "id": "c3hnaSc0ydQ6"
      }
    },
    {
      "cell_type": "code",
      "source": [
        "import torch\n",
        "import numpy as np"
      ],
      "metadata": {
        "id": "WqSuRVzoaD5h"
      },
      "execution_count": 1,
      "outputs": []
    },
    {
      "cell_type": "code",
      "source": [
        "embeddings_batch, embeddings_batch.shape"
      ],
      "metadata": {
        "colab": {
          "base_uri": "https://localhost:8080/"
        },
        "id": "-qFHvA4wasT0",
        "outputId": "66a20172-45d5-4be4-eb7f-4a5102aed7bf"
      },
      "execution_count": 6,
      "outputs": [
        {
          "output_type": "execute_result",
          "data": {
            "text/plain": [
              "(tensor([[[0.4300, 0.1500, 0.8900],\n",
              "          [0.5500, 0.8700, 0.6600],\n",
              "          [0.5700, 0.8500, 0.6400],\n",
              "          [0.2200, 0.5800, 0.3300],\n",
              "          [0.7700, 0.2500, 0.1000],\n",
              "          [0.0500, 0.8000, 0.5500]],\n",
              " \n",
              "         [[0.4300, 0.1500, 0.8900],\n",
              "          [0.5500, 0.8700, 0.6600],\n",
              "          [0.5700, 0.8500, 0.6400],\n",
              "          [0.2200, 0.5800, 0.3300],\n",
              "          [0.7700, 0.2500, 0.1000],\n",
              "          [0.0500, 0.8000, 0.5500]]]),\n",
              " torch.Size([2, 6, 3]))"
            ]
          },
          "metadata": {},
          "execution_count": 6
        }
      ]
    },
    {
      "cell_type": "code",
      "source": [
        "dim_in, new_dim_out, qkv_bias = torch.tensor(embeddings_batch).shape[2], 6, False\n",
        "w_q = torch.nn.Linear(dim_in, 6, bias=qkv_bias)\n",
        "\n",
        "q = w_q(torch.tensor(embeddings_batch))\n",
        "\n",
        "\n",
        "modified_q = q.view(2,6,2,3)\n",
        "print(q.view(2,6,2,3).shape) # shape is (batch, input_dim, head_dim, head_dim_out)\n",
        "# need to group by head\n",
        "\n",
        "modified_q = modified_q.transpose(2,1)\n",
        "print(modified_q.shape)\n",
        "\n",
        "print(modified_q)"
      ],
      "metadata": {
        "colab": {
          "base_uri": "https://localhost:8080/"
        },
        "id": "_6FKwxpzZZ4C",
        "outputId": "5cb15507-1bc8-4ad4-b401-0628a90af7c1"
      },
      "execution_count": 32,
      "outputs": [
        {
          "output_type": "stream",
          "name": "stdout",
          "text": [
            "torch.Size([2, 6, 2, 3])\n",
            "torch.Size([2, 2, 6, 3])\n",
            "tensor([[[[-3.3105e-01, -3.4212e-02,  4.7030e-01],\n",
            "          [-2.7599e-01,  8.0251e-02,  3.6752e-02],\n",
            "          [-2.6672e-01,  6.4093e-02,  4.4936e-02],\n",
            "          [-1.4713e-01,  1.0203e-01, -7.5272e-02],\n",
            "          [-2.4874e-02, -2.4515e-01,  1.8021e-01],\n",
            "          [-2.4738e-01,  2.5873e-01, -1.4815e-01]],\n",
            "\n",
            "         [[-2.7438e-02,  2.6697e-01,  1.7511e-01],\n",
            "          [-2.6345e-01,  1.1452e-02, -9.2463e-02],\n",
            "          [-2.4663e-01, -2.9103e-04, -7.7470e-02],\n",
            "          [-2.0923e-01, -1.8438e-03, -1.2885e-01],\n",
            "          [ 1.2594e-01, -2.1153e-01,  2.1470e-01],\n",
            "          [-3.7856e-01,  1.1318e-01, -2.7353e-01]]],\n",
            "\n",
            "\n",
            "        [[[-3.3105e-01, -3.4212e-02,  4.7030e-01],\n",
            "          [-2.7599e-01,  8.0251e-02,  3.6752e-02],\n",
            "          [-2.6672e-01,  6.4093e-02,  4.4936e-02],\n",
            "          [-1.4713e-01,  1.0203e-01, -7.5272e-02],\n",
            "          [-2.4874e-02, -2.4515e-01,  1.8021e-01],\n",
            "          [-2.4738e-01,  2.5873e-01, -1.4815e-01]],\n",
            "\n",
            "         [[-2.7438e-02,  2.6697e-01,  1.7511e-01],\n",
            "          [-2.6345e-01,  1.1452e-02, -9.2463e-02],\n",
            "          [-2.4663e-01, -2.9103e-04, -7.7470e-02],\n",
            "          [-2.0923e-01, -1.8438e-03, -1.2885e-01],\n",
            "          [ 1.2594e-01, -2.1153e-01,  2.1470e-01],\n",
            "          [-3.7856e-01,  1.1318e-01, -2.7353e-01]]]],\n",
            "       grad_fn=<TransposeBackward0>)\n"
          ]
        },
        {
          "output_type": "stream",
          "name": "stderr",
          "text": [
            "/tmp/ipython-input-32-3653979062.py:1: UserWarning: To copy construct from a tensor, it is recommended to use sourceTensor.clone().detach() or sourceTensor.clone().detach().requires_grad_(True), rather than torch.tensor(sourceTensor).\n",
            "  dim_in, new_dim_out, qkv_bias = torch.tensor(embeddings_batch).shape[2], 6, False\n",
            "/tmp/ipython-input-32-3653979062.py:4: UserWarning: To copy construct from a tensor, it is recommended to use sourceTensor.clone().detach() or sourceTensor.clone().detach().requires_grad_(True), rather than torch.tensor(sourceTensor).\n",
            "  q = w_q(torch.tensor(embeddings_batch))\n"
          ]
        }
      ]
    },
    {
      "cell_type": "code",
      "source": [
        "w_k = torch.nn.Linear(dim_in, 6, bias=qkv_bias)\n",
        "\n",
        "k = w_k(torch.tensor(embeddings_batch))\n",
        "modified_k = k.view(2,6,2,3)\n",
        "modified_k = modified_k.transpose(2,1)\n",
        "print(modified_k.shape)\n",
        "\n",
        "attention_matrix = (modified_q @ modified_k.transpose(3,2))\n",
        "attention_matrix.masked_fill_(torch.triu(torch.ones(6,6), diagonal=1).bool(), value=-np.inf)\n",
        "\n",
        "w_v = torch.nn.Linear(dim_in, 6, bias=qkv_bias)\n",
        "\n",
        "v = w_v(torch.tensor(embeddings_batch))\n",
        "modified_v = v.view(2,6,2,3)\n",
        "modified_v = modified_v.transpose(2,1)\n",
        "print(modified_v.shape)\n",
        "attention_weights = torch.softmax(attention_matrix / (modified_v.shape[3]**0.5), dim=-1)\n",
        "print(attention_weights.shape, modified_v.shape)\n",
        "context_vector = attention_weights @ modified_v\n",
        "context_vector.shape"
      ],
      "metadata": {
        "colab": {
          "base_uri": "https://localhost:8080/"
        },
        "id": "xdiukvLPcdOn",
        "outputId": "44c7ee76-509c-492f-fabc-4debb4b0128d"
      },
      "execution_count": 71,
      "outputs": [
        {
          "output_type": "stream",
          "name": "stdout",
          "text": [
            "torch.Size([2, 2, 6, 3])\n",
            "torch.Size([2, 2, 6, 3])\n",
            "torch.Size([2, 2, 6, 6]) torch.Size([2, 2, 6, 3])\n"
          ]
        },
        {
          "output_type": "stream",
          "name": "stderr",
          "text": [
            "/tmp/ipython-input-71-273667350.py:3: UserWarning: To copy construct from a tensor, it is recommended to use sourceTensor.clone().detach() or sourceTensor.clone().detach().requires_grad_(True), rather than torch.tensor(sourceTensor).\n",
            "  k = w_k(torch.tensor(embeddings_batch))\n",
            "/tmp/ipython-input-71-273667350.py:13: UserWarning: To copy construct from a tensor, it is recommended to use sourceTensor.clone().detach() or sourceTensor.clone().detach().requires_grad_(True), rather than torch.tensor(sourceTensor).\n",
            "  v = w_v(torch.tensor(embeddings_batch))\n"
          ]
        },
        {
          "output_type": "execute_result",
          "data": {
            "text/plain": [
              "torch.Size([2, 2, 6, 3])"
            ]
          },
          "metadata": {},
          "execution_count": 71
        }
      ]
    },
    {
      "cell_type": "code",
      "source": [
        "context_vector = context_vector.transpose(2,1)\n",
        "print(context_vector.shape, context_vector)\n",
        "print(context_vector.contiguous().view(2, 6, 6))"
      ],
      "metadata": {
        "colab": {
          "base_uri": "https://localhost:8080/"
        },
        "id": "PfWxl8OMxMZQ",
        "outputId": "d7bd260a-811d-4725-db9d-72ad8e77a18d"
      },
      "execution_count": 72,
      "outputs": [
        {
          "output_type": "stream",
          "name": "stdout",
          "text": [
            "torch.Size([2, 6, 2, 3]) tensor([[[[ 2.4069e-01, -1.8761e-01,  2.8434e-01],\n",
            "          [-2.4863e-01,  5.3684e-01, -2.9097e-01]],\n",
            "\n",
            "         [[ 3.5262e-01, -4.9918e-02,  2.7889e-01],\n",
            "          [-2.9502e-01,  4.0983e-01, -5.8818e-02]],\n",
            "\n",
            "         [[ 3.8981e-01,  2.3182e-05,  2.8059e-01],\n",
            "          [-3.0243e-01,  3.6817e-01,  2.2337e-02]],\n",
            "\n",
            "         [[ 3.5599e-01,  1.3489e-02,  2.3369e-01],\n",
            "          [-2.8913e-01,  2.9492e-01,  5.2979e-02]],\n",
            "\n",
            "         [[ 3.4907e-01,  6.3995e-02,  2.6654e-01],\n",
            "          [-1.8356e-01,  2.9266e-01,  9.4553e-02]],\n",
            "\n",
            "         [[ 3.3520e-01,  4.6698e-02,  2.2352e-01],\n",
            "          [-2.4141e-01,  2.5181e-01,  9.0659e-02]]],\n",
            "\n",
            "\n",
            "        [[[ 2.4069e-01, -1.8761e-01,  2.8434e-01],\n",
            "          [-2.4863e-01,  5.3684e-01, -2.9097e-01]],\n",
            "\n",
            "         [[ 3.5262e-01, -4.9918e-02,  2.7889e-01],\n",
            "          [-2.9502e-01,  4.0983e-01, -5.8818e-02]],\n",
            "\n",
            "         [[ 3.8981e-01,  2.3182e-05,  2.8059e-01],\n",
            "          [-3.0243e-01,  3.6817e-01,  2.2337e-02]],\n",
            "\n",
            "         [[ 3.5599e-01,  1.3489e-02,  2.3369e-01],\n",
            "          [-2.8913e-01,  2.9492e-01,  5.2979e-02]],\n",
            "\n",
            "         [[ 3.4907e-01,  6.3995e-02,  2.6654e-01],\n",
            "          [-1.8356e-01,  2.9266e-01,  9.4553e-02]],\n",
            "\n",
            "         [[ 3.3520e-01,  4.6698e-02,  2.2352e-01],\n",
            "          [-2.4141e-01,  2.5181e-01,  9.0659e-02]]]],\n",
            "       grad_fn=<TransposeBackward0>)\n",
            "tensor([[[ 2.4069e-01, -1.8761e-01,  2.8434e-01, -2.4863e-01,  5.3684e-01,\n",
            "          -2.9097e-01],\n",
            "         [ 3.5262e-01, -4.9918e-02,  2.7889e-01, -2.9502e-01,  4.0983e-01,\n",
            "          -5.8818e-02],\n",
            "         [ 3.8981e-01,  2.3182e-05,  2.8059e-01, -3.0243e-01,  3.6817e-01,\n",
            "           2.2337e-02],\n",
            "         [ 3.5599e-01,  1.3489e-02,  2.3369e-01, -2.8913e-01,  2.9492e-01,\n",
            "           5.2979e-02],\n",
            "         [ 3.4907e-01,  6.3995e-02,  2.6654e-01, -1.8356e-01,  2.9266e-01,\n",
            "           9.4553e-02],\n",
            "         [ 3.3520e-01,  4.6698e-02,  2.2352e-01, -2.4141e-01,  2.5181e-01,\n",
            "           9.0659e-02]],\n",
            "\n",
            "        [[ 2.4069e-01, -1.8761e-01,  2.8434e-01, -2.4863e-01,  5.3684e-01,\n",
            "          -2.9097e-01],\n",
            "         [ 3.5262e-01, -4.9918e-02,  2.7889e-01, -2.9502e-01,  4.0983e-01,\n",
            "          -5.8818e-02],\n",
            "         [ 3.8981e-01,  2.3182e-05,  2.8059e-01, -3.0243e-01,  3.6817e-01,\n",
            "           2.2337e-02],\n",
            "         [ 3.5599e-01,  1.3489e-02,  2.3369e-01, -2.8913e-01,  2.9492e-01,\n",
            "           5.2979e-02],\n",
            "         [ 3.4907e-01,  6.3995e-02,  2.6654e-01, -1.8356e-01,  2.9266e-01,\n",
            "           9.4553e-02],\n",
            "         [ 3.3520e-01,  4.6698e-02,  2.2352e-01, -2.4141e-01,  2.5181e-01,\n",
            "           9.0659e-02]]], grad_fn=<ViewBackward0>)\n"
          ]
        }
      ]
    },
    {
      "cell_type": "markdown",
      "source": [
        "### Multihead attention class"
      ],
      "metadata": {
        "id": "6C5pjIqzyi2W"
      }
    },
    {
      "cell_type": "code",
      "source": [
        "6//3"
      ],
      "metadata": {
        "colab": {
          "base_uri": "https://localhost:8080/"
        },
        "id": "G8lTpGML1xHT",
        "outputId": "99254a78-9240-4242-8c7d-82594b23b1be"
      },
      "execution_count": 82,
      "outputs": [
        {
          "output_type": "execute_result",
          "data": {
            "text/plain": [
              "2"
            ]
          },
          "metadata": {},
          "execution_count": 82
        }
      ]
    },
    {
      "cell_type": "code",
      "source": [
        "class MultiheadAttention(torch.nn.Module):\n",
        "\n",
        "  def __init__(self, dim_in, dim_out, n_heads,qkv_bias, dropout_percentage):\n",
        "    super().__init__()\n",
        "\n",
        "    # For efficiency purpose,we will have weight matrix dimension higher to split\n",
        "    # them into multiple heads\n",
        "    # given the number of heads and dim_out per head, decides, how many dimensions are required\n",
        "    # if dim_out = 3 and n_heads = 2 then we need dim_out * n_heads for weights\n",
        "    if(((dim_out * n_heads) % (n_heads)) != 0):\n",
        "      print(\"Number of dimension and heads do not match\")\n",
        "      return \"Not possible\"\n",
        "    self.n_heads = n_heads\n",
        "    self.dim_out = dim_out\n",
        "    self.dim_per_head = dim_out // n_heads\n",
        "    self.w_q = torch.nn.Linear(dim_in, dim_out, bias=qkv_bias)\n",
        "    self.w_k = torch.nn.Linear(dim_in, dim_out, bias=qkv_bias)\n",
        "    self.w_v = torch.nn.Linear(dim_in, dim_out, bias=qkv_bias)\n",
        "    self.dropout = torch.nn.Dropout(dropout_percentage)\n",
        "\n",
        "\n",
        "  def forward(self, x):\n",
        "\n",
        "    batch, token_size, _ = x.shape\n",
        "    q = self.w_q(x)\n",
        "    k = self.w_k(x)\n",
        "    v = self.w_v(x)\n",
        "\n",
        "    print(batch, token_size, self.n_heads, self.dim_per_head)\n",
        "    q = q.view(batch, token_size, self.n_heads, self.dim_per_head)\n",
        "    k = k.view(batch, token_size, self.n_heads, self.dim_per_head)\n",
        "    v = v.view(batch, token_size, self.n_heads, self.dim_per_head)\n",
        "\n",
        "    # group by head\n",
        "    q = q.transpose(2,1)\n",
        "    k = k.transpose(2,1)\n",
        "    v = v.transpose(2,1)\n",
        "\n",
        "    # Attention matrix calculation (causal)\n",
        "    attention_matrix = (q @ v.transpose(3,2))\n",
        "    attention_matrix.masked_fill_(torch.triu(torch.ones(attention_matrix.shape[2],\n",
        "                                                        attention_matrix.shape[3]),\n",
        "                                             diagonal=1).bool(), value=-np.inf)\n",
        "    attention_weights = torch.softmax(attention_matrix / (v.shape[3]**0.5), dim=-1)\n",
        "    context_vector = attention_weights @ v\n",
        "    context_vector = self.dropout(context_vector)\n",
        "    context_vector = context_vector.transpose(2,1)\n",
        "    context_vector = context_vector.contiguous().view(batch, token_size, self.dim_out)\n",
        "\n",
        "    return context_vector"
      ],
      "metadata": {
        "id": "9EXephWXWTWA"
      },
      "execution_count": 89,
      "outputs": []
    },
    {
      "cell_type": "code",
      "source": [
        "ma = MultiheadAttention(dim_in = embeddings_batch.shape[2], dim_out = 6,\n",
        "                        n_heads=2, qkv_bias = False, dropout_percentage=0.5)\n",
        "context_vector_ma = ma(embeddings_batch)\n",
        "print(context_vector_ma)"
      ],
      "metadata": {
        "colab": {
          "base_uri": "https://localhost:8080/"
        },
        "id": "G_B1rB8CzsvQ",
        "outputId": "18529091-7769-46ef-f8cf-f59a7c0ea9e6"
      },
      "execution_count": 90,
      "outputs": [
        {
          "output_type": "stream",
          "name": "stdout",
          "text": [
            "2 6 2 3\n",
            "tensor([[[ 0.8603, -0.2278,  1.0436, -0.0000,  0.8365,  0.7585],\n",
            "         [ 0.6521,  0.0077,  0.0000, -0.6375,  0.8143,  0.0000],\n",
            "         [ 0.0000,  0.0841,  1.3619, -0.6245,  0.8012,  0.0000],\n",
            "         [ 0.0000,  0.1254,  0.0000, -0.0000,  0.0000,  0.7513],\n",
            "         [ 0.4417,  0.0832,  0.0000, -0.0000,  0.6107,  0.7630],\n",
            "         [ 0.0000,  0.1232,  1.1099, -0.0000,  0.6108,  0.7029]],\n",
            "\n",
            "        [[ 0.8603, -0.0000,  0.0000, -0.6794,  0.0000,  0.7585],\n",
            "         [ 0.6521,  0.0000,  1.2865, -0.0000,  0.8143,  0.8331],\n",
            "         [ 0.0000,  0.0000,  0.0000, -0.6245,  0.8012,  0.8611],\n",
            "         [ 0.0000,  0.1254,  0.0000, -0.5327,  0.7041,  0.0000],\n",
            "         [ 0.4417,  0.0000,  0.0000, -0.5198,  0.6107,  0.0000],\n",
            "         [ 0.0000,  0.1232,  0.0000, -0.4792,  0.6108,  0.0000]]],\n",
            "       grad_fn=<ViewBackward0>)\n"
          ]
        }
      ]
    },
    {
      "cell_type": "code",
      "source": [],
      "metadata": {
        "id": "GLz7i_iZ1bBh"
      },
      "execution_count": null,
      "outputs": []
    }
  ]
}
