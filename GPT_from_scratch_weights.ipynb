{
  "nbformat": 4,
  "nbformat_minor": 0,
  "metadata": {
    "colab": {
      "provenance": [],
      "mount_file_id": "1RimjeiGVnVfR1EWR0v4UuSxEgX8DZRGQ",
      "authorship_tag": "ABX9TyMPDUZKzYJ3Ev3pt4mt09+V",
      "include_colab_link": true
    },
    "kernelspec": {
      "name": "python3",
      "display_name": "Python 3"
    },
    "language_info": {
      "name": "python"
    }
  },
  "cells": [
    {
      "cell_type": "markdown",
      "metadata": {
        "id": "view-in-github",
        "colab_type": "text"
      },
      "source": [
        "<a href=\"https://colab.research.google.com/github/mosrihari/FoundationalStudy/blob/main/GPT_from_scratch_weights.ipynb\" target=\"_parent\"><img src=\"https://colab.research.google.com/assets/colab-badge.svg\" alt=\"Open In Colab\"/></a>"
      ]
    },
    {
      "cell_type": "code",
      "execution_count": 6,
      "metadata": {
        "id": "PIIrrNYu_aae"
      },
      "outputs": [],
      "source": [
        "import torch\n",
        "import numpy as np\n",
        "import tensorflow as tf"
      ]
    },
    {
      "cell_type": "code",
      "source": [
        "WEIGHT_PATH = \"/content/drive/MyDrive/LLMFromScratch/GPT_124M\""
      ],
      "metadata": {
        "id": "E7_AV00w_kGU"
      },
      "execution_count": 2,
      "outputs": []
    },
    {
      "cell_type": "code",
      "source": [
        "original_weights =  tf.train.latest_checkpoint(WEIGHT_PATH)"
      ],
      "metadata": {
        "id": "LriH3r_F_pBM"
      },
      "execution_count": 7,
      "outputs": []
    },
    {
      "cell_type": "code",
      "source": [
        "original_weights"
      ],
      "metadata": {
        "colab": {
          "base_uri": "https://localhost:8080/",
          "height": 35
        },
        "id": "RxGeUQ3hAHQt",
        "outputId": "9aa722d9-cc8e-42fb-a3e7-7261111e0129"
      },
      "execution_count": 8,
      "outputs": [
        {
          "output_type": "execute_result",
          "data": {
            "text/plain": [
              "'/content/drive/MyDrive/LLMFromScratch/GPT_124M/model.ckpt'"
            ],
            "application/vnd.google.colaboratory.intrinsic+json": {
              "type": "string"
            }
          },
          "metadata": {},
          "execution_count": 8
        }
      ]
    },
    {
      "cell_type": "code",
      "source": [
        "tf.train.list_variables(original_weights)"
      ],
      "metadata": {
        "colab": {
          "base_uri": "https://localhost:8080/"
        },
        "id": "6GTkKqq3B0_t",
        "outputId": "0cebaa2a-1c14-423b-9982-a4e43eb10b21"
      },
      "execution_count": 9,
      "outputs": [
        {
          "output_type": "execute_result",
          "data": {
            "text/plain": [
              "[('model/h0/attn/c_attn/b', [2304]),\n",
              " ('model/h0/attn/c_attn/w', [1, 768, 2304]),\n",
              " ('model/h0/attn/c_proj/b', [768]),\n",
              " ('model/h0/attn/c_proj/w', [1, 768, 768]),\n",
              " ('model/h0/ln_1/b', [768]),\n",
              " ('model/h0/ln_1/g', [768]),\n",
              " ('model/h0/ln_2/b', [768]),\n",
              " ('model/h0/ln_2/g', [768]),\n",
              " ('model/h0/mlp/c_fc/b', [3072]),\n",
              " ('model/h0/mlp/c_fc/w', [1, 768, 3072]),\n",
              " ('model/h0/mlp/c_proj/b', [768]),\n",
              " ('model/h0/mlp/c_proj/w', [1, 3072, 768]),\n",
              " ('model/h1/attn/c_attn/b', [2304]),\n",
              " ('model/h1/attn/c_attn/w', [1, 768, 2304]),\n",
              " ('model/h1/attn/c_proj/b', [768]),\n",
              " ('model/h1/attn/c_proj/w', [1, 768, 768]),\n",
              " ('model/h1/ln_1/b', [768]),\n",
              " ('model/h1/ln_1/g', [768]),\n",
              " ('model/h1/ln_2/b', [768]),\n",
              " ('model/h1/ln_2/g', [768]),\n",
              " ('model/h1/mlp/c_fc/b', [3072]),\n",
              " ('model/h1/mlp/c_fc/w', [1, 768, 3072]),\n",
              " ('model/h1/mlp/c_proj/b', [768]),\n",
              " ('model/h1/mlp/c_proj/w', [1, 3072, 768]),\n",
              " ('model/h10/attn/c_attn/b', [2304]),\n",
              " ('model/h10/attn/c_attn/w', [1, 768, 2304]),\n",
              " ('model/h10/attn/c_proj/b', [768]),\n",
              " ('model/h10/attn/c_proj/w', [1, 768, 768]),\n",
              " ('model/h10/ln_1/b', [768]),\n",
              " ('model/h10/ln_1/g', [768]),\n",
              " ('model/h10/ln_2/b', [768]),\n",
              " ('model/h10/ln_2/g', [768]),\n",
              " ('model/h10/mlp/c_fc/b', [3072]),\n",
              " ('model/h10/mlp/c_fc/w', [1, 768, 3072]),\n",
              " ('model/h10/mlp/c_proj/b', [768]),\n",
              " ('model/h10/mlp/c_proj/w', [1, 3072, 768]),\n",
              " ('model/h11/attn/c_attn/b', [2304]),\n",
              " ('model/h11/attn/c_attn/w', [1, 768, 2304]),\n",
              " ('model/h11/attn/c_proj/b', [768]),\n",
              " ('model/h11/attn/c_proj/w', [1, 768, 768]),\n",
              " ('model/h11/ln_1/b', [768]),\n",
              " ('model/h11/ln_1/g', [768]),\n",
              " ('model/h11/ln_2/b', [768]),\n",
              " ('model/h11/ln_2/g', [768]),\n",
              " ('model/h11/mlp/c_fc/b', [3072]),\n",
              " ('model/h11/mlp/c_fc/w', [1, 768, 3072]),\n",
              " ('model/h11/mlp/c_proj/b', [768]),\n",
              " ('model/h11/mlp/c_proj/w', [1, 3072, 768]),\n",
              " ('model/h2/attn/c_attn/b', [2304]),\n",
              " ('model/h2/attn/c_attn/w', [1, 768, 2304]),\n",
              " ('model/h2/attn/c_proj/b', [768]),\n",
              " ('model/h2/attn/c_proj/w', [1, 768, 768]),\n",
              " ('model/h2/ln_1/b', [768]),\n",
              " ('model/h2/ln_1/g', [768]),\n",
              " ('model/h2/ln_2/b', [768]),\n",
              " ('model/h2/ln_2/g', [768]),\n",
              " ('model/h2/mlp/c_fc/b', [3072]),\n",
              " ('model/h2/mlp/c_fc/w', [1, 768, 3072]),\n",
              " ('model/h2/mlp/c_proj/b', [768]),\n",
              " ('model/h2/mlp/c_proj/w', [1, 3072, 768]),\n",
              " ('model/h3/attn/c_attn/b', [2304]),\n",
              " ('model/h3/attn/c_attn/w', [1, 768, 2304]),\n",
              " ('model/h3/attn/c_proj/b', [768]),\n",
              " ('model/h3/attn/c_proj/w', [1, 768, 768]),\n",
              " ('model/h3/ln_1/b', [768]),\n",
              " ('model/h3/ln_1/g', [768]),\n",
              " ('model/h3/ln_2/b', [768]),\n",
              " ('model/h3/ln_2/g', [768]),\n",
              " ('model/h3/mlp/c_fc/b', [3072]),\n",
              " ('model/h3/mlp/c_fc/w', [1, 768, 3072]),\n",
              " ('model/h3/mlp/c_proj/b', [768]),\n",
              " ('model/h3/mlp/c_proj/w', [1, 3072, 768]),\n",
              " ('model/h4/attn/c_attn/b', [2304]),\n",
              " ('model/h4/attn/c_attn/w', [1, 768, 2304]),\n",
              " ('model/h4/attn/c_proj/b', [768]),\n",
              " ('model/h4/attn/c_proj/w', [1, 768, 768]),\n",
              " ('model/h4/ln_1/b', [768]),\n",
              " ('model/h4/ln_1/g', [768]),\n",
              " ('model/h4/ln_2/b', [768]),\n",
              " ('model/h4/ln_2/g', [768]),\n",
              " ('model/h4/mlp/c_fc/b', [3072]),\n",
              " ('model/h4/mlp/c_fc/w', [1, 768, 3072]),\n",
              " ('model/h4/mlp/c_proj/b', [768]),\n",
              " ('model/h4/mlp/c_proj/w', [1, 3072, 768]),\n",
              " ('model/h5/attn/c_attn/b', [2304]),\n",
              " ('model/h5/attn/c_attn/w', [1, 768, 2304]),\n",
              " ('model/h5/attn/c_proj/b', [768]),\n",
              " ('model/h5/attn/c_proj/w', [1, 768, 768]),\n",
              " ('model/h5/ln_1/b', [768]),\n",
              " ('model/h5/ln_1/g', [768]),\n",
              " ('model/h5/ln_2/b', [768]),\n",
              " ('model/h5/ln_2/g', [768]),\n",
              " ('model/h5/mlp/c_fc/b', [3072]),\n",
              " ('model/h5/mlp/c_fc/w', [1, 768, 3072]),\n",
              " ('model/h5/mlp/c_proj/b', [768]),\n",
              " ('model/h5/mlp/c_proj/w', [1, 3072, 768]),\n",
              " ('model/h6/attn/c_attn/b', [2304]),\n",
              " ('model/h6/attn/c_attn/w', [1, 768, 2304]),\n",
              " ('model/h6/attn/c_proj/b', [768]),\n",
              " ('model/h6/attn/c_proj/w', [1, 768, 768]),\n",
              " ('model/h6/ln_1/b', [768]),\n",
              " ('model/h6/ln_1/g', [768]),\n",
              " ('model/h6/ln_2/b', [768]),\n",
              " ('model/h6/ln_2/g', [768]),\n",
              " ('model/h6/mlp/c_fc/b', [3072]),\n",
              " ('model/h6/mlp/c_fc/w', [1, 768, 3072]),\n",
              " ('model/h6/mlp/c_proj/b', [768]),\n",
              " ('model/h6/mlp/c_proj/w', [1, 3072, 768]),\n",
              " ('model/h7/attn/c_attn/b', [2304]),\n",
              " ('model/h7/attn/c_attn/w', [1, 768, 2304]),\n",
              " ('model/h7/attn/c_proj/b', [768]),\n",
              " ('model/h7/attn/c_proj/w', [1, 768, 768]),\n",
              " ('model/h7/ln_1/b', [768]),\n",
              " ('model/h7/ln_1/g', [768]),\n",
              " ('model/h7/ln_2/b', [768]),\n",
              " ('model/h7/ln_2/g', [768]),\n",
              " ('model/h7/mlp/c_fc/b', [3072]),\n",
              " ('model/h7/mlp/c_fc/w', [1, 768, 3072]),\n",
              " ('model/h7/mlp/c_proj/b', [768]),\n",
              " ('model/h7/mlp/c_proj/w', [1, 3072, 768]),\n",
              " ('model/h8/attn/c_attn/b', [2304]),\n",
              " ('model/h8/attn/c_attn/w', [1, 768, 2304]),\n",
              " ('model/h8/attn/c_proj/b', [768]),\n",
              " ('model/h8/attn/c_proj/w', [1, 768, 768]),\n",
              " ('model/h8/ln_1/b', [768]),\n",
              " ('model/h8/ln_1/g', [768]),\n",
              " ('model/h8/ln_2/b', [768]),\n",
              " ('model/h8/ln_2/g', [768]),\n",
              " ('model/h8/mlp/c_fc/b', [3072]),\n",
              " ('model/h8/mlp/c_fc/w', [1, 768, 3072]),\n",
              " ('model/h8/mlp/c_proj/b', [768]),\n",
              " ('model/h8/mlp/c_proj/w', [1, 3072, 768]),\n",
              " ('model/h9/attn/c_attn/b', [2304]),\n",
              " ('model/h9/attn/c_attn/w', [1, 768, 2304]),\n",
              " ('model/h9/attn/c_proj/b', [768]),\n",
              " ('model/h9/attn/c_proj/w', [1, 768, 768]),\n",
              " ('model/h9/ln_1/b', [768]),\n",
              " ('model/h9/ln_1/g', [768]),\n",
              " ('model/h9/ln_2/b', [768]),\n",
              " ('model/h9/ln_2/g', [768]),\n",
              " ('model/h9/mlp/c_fc/b', [3072]),\n",
              " ('model/h9/mlp/c_fc/w', [1, 768, 3072]),\n",
              " ('model/h9/mlp/c_proj/b', [768]),\n",
              " ('model/h9/mlp/c_proj/w', [1, 3072, 768]),\n",
              " ('model/ln_f/b', [768]),\n",
              " ('model/ln_f/g', [768]),\n",
              " ('model/wpe', [1024, 768]),\n",
              " ('model/wte', [50257, 768])]"
            ]
          },
          "metadata": {},
          "execution_count": 9
        }
      ]
    },
    {
      "cell_type": "code",
      "source": [
        "for name, _ in tf.train.list_variables(original_weights):\n",
        "      print(name)\n",
        "      # Load the variable and remove singleton dimensions\n",
        "      variable_array = np.squeeze(tf.train.load_variable(original_weights, name))\n",
        "      break"
      ],
      "metadata": {
        "colab": {
          "base_uri": "https://localhost:8080/"
        },
        "id": "kUf0AsSHB91_",
        "outputId": "214088e9-b5c6-442b-b036-f77c981ccb12"
      },
      "execution_count": 13,
      "outputs": [
        {
          "output_type": "stream",
          "name": "stdout",
          "text": [
            "model/h0/attn/c_attn/b\n"
          ]
        }
      ]
    },
    {
      "cell_type": "code",
      "source": [
        "variable_array.shape"
      ],
      "metadata": {
        "colab": {
          "base_uri": "https://localhost:8080/"
        },
        "id": "9ql9_AOLCTnO",
        "outputId": "c8090963-3fd3-4424-aecf-232f9351e643"
      },
      "execution_count": 12,
      "outputs": [
        {
          "output_type": "execute_result",
          "data": {
            "text/plain": [
              "(2304,)"
            ]
          },
          "metadata": {},
          "execution_count": 12
        }
      ]
    },
    {
      "cell_type": "code",
      "source": [],
      "metadata": {
        "id": "2HNMRMbCCVDg"
      },
      "execution_count": null,
      "outputs": []
    }
  ]
}