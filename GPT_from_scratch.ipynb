{
  "nbformat": 4,
  "nbformat_minor": 0,
  "metadata": {
    "colab": {
      "provenance": [],
      "toc_visible": true,
      "authorship_tag": "ABX9TyMHX2YSmNniGjD//ncC8bb3"
    },
    "kernelspec": {
      "name": "python3",
      "display_name": "Python 3"
    },
    "language_info": {
      "name": "python"
    }
  },
  "cells": [
    {
      "cell_type": "code",
      "execution_count": 46,
      "metadata": {
        "id": "kQRpHyUJxxLa"
      },
      "outputs": [],
      "source": [
        "import torch\n",
        "import numpy as np\n",
        "import matplotlib.pyplot as plt\n",
        "import seaborn as sns\n",
        "import pandas as pd"
      ]
    },
    {
      "cell_type": "code",
      "source": [
        "GPT2_CFG = {\n",
        "    \"vocab_size\"    : 50257,\n",
        "    \"emb_dim\"       : 768,\n",
        "    \"n_heads\"       : 12,\n",
        "    \"n_transformers\": 12,\n",
        "    \"dropout\"       : 0.5,\n",
        "    \"context_len\"   : 1024,\n",
        "    \"qkv_bias\"      : False\n",
        "}"
      ],
      "metadata": {
        "id": "lcrptRbNyn9_"
      },
      "execution_count": 56,
      "outputs": []
    },
    {
      "cell_type": "markdown",
      "source": [
        "# Transformer Layer\n",
        "\n",
        "Transformer layer consists of\n",
        "\n",
        "\n",
        "*   Layer Normalization\n",
        "*   Feedforward neural network with GELU\n",
        "*   Skip Connection\n",
        "*   Masked Multi head attention\n",
        "\n",
        "So we will implement each layers as a separate class which forms transformers\n",
        "\n",
        "\n",
        "\n"
      ],
      "metadata": {
        "id": "wV2RTF6fx7WD"
      }
    },
    {
      "cell_type": "markdown",
      "source": [
        "## Layer Normalization"
      ],
      "metadata": {
        "id": "GRSg2HXTyRRv"
      }
    },
    {
      "cell_type": "markdown",
      "source": [
        "### Scratchpad"
      ],
      "metadata": {
        "id": "YYeiN8iM3D8j"
      }
    },
    {
      "cell_type": "code",
      "source": [
        "torch.zeros()"
      ],
      "metadata": {
        "colab": {
          "base_uri": "https://localhost:8080/"
        },
        "id": "puht8FeJzXNC",
        "outputId": "9e879456-6d8b-43f5-ff4c-d24fc89d403c"
      },
      "execution_count": 6,
      "outputs": [
        {
          "output_type": "execute_result",
          "data": {
            "text/plain": [
              "Parameter containing:\n",
              "tensor([[1., 1., 1.,  ..., 1., 1., 1.],\n",
              "        [1., 1., 1.,  ..., 1., 1., 1.],\n",
              "        [1., 1., 1.,  ..., 1., 1., 1.],\n",
              "        ...,\n",
              "        [1., 1., 1.,  ..., 1., 1., 1.],\n",
              "        [1., 1., 1.,  ..., 1., 1., 1.],\n",
              "        [1., 1., 1.,  ..., 1., 1., 1.]], requires_grad=True)"
            ]
          },
          "metadata": {},
          "execution_count": 6
        }
      ]
    },
    {
      "cell_type": "code",
      "source": [
        "input_layer = torch.randn((5,6))\n",
        "print(input_layer)\n",
        "\n",
        "torch.mean(input_layer,dim=-1)"
      ],
      "metadata": {
        "colab": {
          "base_uri": "https://localhost:8080/"
        },
        "id": "FcbsYbTO069t",
        "outputId": "8713ae40-18b1-436f-ceaf-b30f82d3aea7"
      },
      "execution_count": 12,
      "outputs": [
        {
          "output_type": "stream",
          "name": "stdout",
          "text": [
            "tensor([[-0.2453, -0.2151,  0.4786,  0.2213, -0.4413, -0.9549],\n",
            "        [-0.1880,  1.5460, -0.8562,  0.0749, -1.1757, -0.4635],\n",
            "        [ 0.4311, -0.6586, -1.0380,  0.5934,  1.1170,  0.2748],\n",
            "        [-0.4149,  0.5130, -0.0428, -1.5375,  0.4054, -1.0426],\n",
            "        [ 0.1893,  1.0874, -0.3315, -1.2358, -0.9810, -1.1806]])\n"
          ]
        },
        {
          "output_type": "execute_result",
          "data": {
            "text/plain": [
              "tensor([-0.1928, -0.1771,  0.1200, -0.3532, -0.4087])"
            ]
          },
          "metadata": {},
          "execution_count": 12
        }
      ]
    },
    {
      "cell_type": "markdown",
      "source": [
        "### Main class"
      ],
      "metadata": {
        "id": "Zuq5CfQ23GhT"
      }
    },
    {
      "cell_type": "code",
      "source": [
        "class LayerNormalization(torch.nn.Module):\n",
        "\n",
        "  def __init__(self, eps):\n",
        "    super().__init__()\n",
        "\n",
        "    self.eps = eps #to avoid divide by 0\n",
        "    self.scale = torch.nn.Parameter(torch.ones((GPT2_CFG['emb_dim'], GPT2_CFG['emb_dim'])))\n",
        "    self.shift = torch.nn.Parameter(torch.zeros((GPT2_CFG['emb_dim'], GPT2_CFG['emb_dim'])))\n",
        "\n",
        "  def forward(self, x):\n",
        "    # we take mean and variance from the output layer\n",
        "    # The output layer will have embedding_dim as column matrix\n",
        "    # Hence the mean and variance should be across columns\n",
        "    mean = torch.mean(x, dim=-1, keepdim=True) #normalize across columns -1\n",
        "    variance = torch.var(x, dim=-1, unbiased=True, keepdim=True) # unbiased True for bressels correction\n",
        "    # keepdim is mandatory as it preserves the dimension. Else, the mean and variance will be flattened vectors\n",
        "    x = (x - mean) / (torch.sqrt(variance) + self.eps) # normalize\n",
        "    return self.scale * x + self.shift # trainable params included\n"
      ],
      "metadata": {
        "id": "TmeQZeXix2Fv"
      },
      "execution_count": 35,
      "outputs": []
    },
    {
      "cell_type": "markdown",
      "source": [
        "### Testing"
      ],
      "metadata": {
        "id": "ikmTT3bq3JgP"
      }
    },
    {
      "cell_type": "code",
      "source": [
        "#small testing\n",
        "input_matrix = [[1,2,3,4,5],\n",
        "                [3,4,5,21,32],\n",
        "                [12,324,233,5456,32],\n",
        "                [12,34,3,6,1],\n",
        "                [78,43,23,12,65]]\n",
        "\n",
        "#input_matrix 5 * 5\n",
        "input_matrix = torch.tensor(input_matrix).float()\n",
        "LM = LayerNormalization(eps = 1e-5)\n",
        "LM.scale = torch.nn.Parameter(torch.ones((5,5)))\n",
        "LM.shift = torch.nn.Parameter(torch.zeros((5,5)))\n",
        "output_normalized = LM(input_matrix)\n",
        "\n",
        "print(output_normalized, output_normalized.shape, torch.mean(output_normalized, dim=-1), torch.var(output_normalized, dim=-1))"
      ],
      "metadata": {
        "colab": {
          "base_uri": "https://localhost:8080/"
        },
        "id": "XyrJ_VpF38nx",
        "outputId": "d84615dc-747b-4a90-fe1a-c7e363ef287a"
      },
      "execution_count": 38,
      "outputs": [
        {
          "output_type": "stream",
          "name": "stdout",
          "text": [
            "tensor([[-1.2649, -0.6325,  0.0000,  0.6325,  1.2649],\n",
            "        [-0.7727, -0.6954, -0.6181,  0.6181,  1.4681],\n",
            "        [-0.5047, -0.3734, -0.4117,  1.7861, -0.4963],\n",
            "        [ 0.0597,  1.7008, -0.6117, -0.3879, -0.7609],\n",
            "        [ 1.2215, -0.0434, -0.7661, -1.1637,  0.7517]], grad_fn=<AddBackward0>) torch.Size([5, 5]) tensor([ 0.0000e+00,  0.0000e+00,  0.0000e+00, -1.1921e-08, -4.7684e-08],\n",
            "       grad_fn=<MeanBackward1>) tensor([1.0000, 1.0000, 1.0000, 1.0000, 1.0000], grad_fn=<VarBackward0>)\n"
          ]
        }
      ]
    },
    {
      "cell_type": "code",
      "source": [
        "LM = LayerNormalization(eps = 1e-5)\n",
        "input_x = torch.randn((GPT2_CFG['emb_dim'], GPT2_CFG['emb_dim']))\n",
        "output_normalized = LM(input_x)\n",
        "output_normalized.shape, torch.mean(output_normalized), torch.var(output_normalized)\n",
        "# Mean 0 and Variance 1"
      ],
      "metadata": {
        "colab": {
          "base_uri": "https://localhost:8080/"
        },
        "id": "4bDjcSjw3Aed",
        "outputId": "ebf25602-5901-49c0-cbab-4a4a7d0acb97"
      },
      "execution_count": 39,
      "outputs": [
        {
          "output_type": "execute_result",
          "data": {
            "text/plain": [
              "(torch.Size([768, 768]),\n",
              " tensor(1.0348e-10, grad_fn=<MeanBackward0>),\n",
              " tensor(0.9987, grad_fn=<VarBackward0>))"
            ]
          },
          "metadata": {},
          "execution_count": 39
        }
      ]
    },
    {
      "cell_type": "markdown",
      "source": [
        "## Feedforward with GELU"
      ],
      "metadata": {
        "id": "qlCOVaQX6t9u"
      }
    },
    {
      "cell_type": "markdown",
      "source": [
        "### GELU\n",
        "\n"
      ],
      "metadata": {
        "id": "Po_lf3pT7y_x"
      }
    },
    {
      "cell_type": "markdown",
      "source": [
        "![Capture.PNG](data:image/png;base64,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)"
      ],
      "metadata": {
        "id": "7JmCS1D080Lb"
      }
    },
    {
      "cell_type": "code",
      "source": [
        "class GELU(torch.nn.Module):\n",
        "\n",
        "  def __init__(self):\n",
        "    super().__init__()\n",
        "\n",
        "  def forward(self, x):\n",
        "    # Inside GELU activation\n",
        "    return 0.5 * x * (1 +\n",
        "                      torch.tanh(torch.sqrt(torch.tensor(2 / torch.pi)) *\n",
        "                       (x + 0.044715 * torch.pow(x, 3))))"
      ],
      "metadata": {
        "id": "CeXLifzX3vH1"
      },
      "execution_count": 58,
      "outputs": []
    },
    {
      "cell_type": "markdown",
      "source": [
        "#### Testing"
      ],
      "metadata": {
        "id": "6n4lD5Wg_Rx9"
      }
    },
    {
      "cell_type": "code",
      "source": [
        "## We can do comparison between RELU and GELU as well\n",
        "input_values = torch.randn(50)\n",
        "relu_activation = torch.relu(input_values)\n",
        "gelu = GELU()\n",
        "gelu_activation = gelu(input_values)\n",
        "\n",
        "df = pd.DataFrame({\n",
        "    'Input': input_values.numpy(),\n",
        "    'ReLU': relu_activation.numpy(),\n",
        "    'GELU': gelu_activation.numpy()\n",
        "})\n",
        "\n",
        "df_melted = df.melt(id_vars='Input', var_name='Activation', value_name='Output')\n",
        "\n",
        "plt.figure(figsize=(8, 5))\n",
        "sns.lineplot(data=df_melted, x='Input', y='Output', hue='Activation', marker='o')\n",
        "plt.title('ReLU vs GELU Activation on Random Input')\n",
        "plt.xlabel('Input Value')\n",
        "plt.ylabel('Activation Output')\n",
        "plt.grid(True)\n",
        "plt.show()"
      ],
      "metadata": {
        "colab": {
          "base_uri": "https://localhost:8080/",
          "height": 487
        },
        "id": "of_o8Vsx9HuN",
        "outputId": "0f3545be-c953-4e23-a88b-a31569804aeb"
      },
      "execution_count": 51,
      "outputs": [
        {
          "output_type": "display_data",
          "data": {
            "text/plain": [
              "<Figure size 800x500 with 1 Axes>"
            ],
            "image/png": "[encoded data removed]"
          },
          "metadata": {}
        }
      ]
    },
    {
      "cell_type": "markdown",
      "source": [
        "### Feedforward network"
      ],
      "metadata": {
        "id": "NaOEActl_YT-"
      }
    },
    {
      "cell_type": "code",
      "source": [
        "class FeedforwardNetwork(torch.nn.Module):\n",
        "\n",
        "  def __init__(self):\n",
        "    super().__init__()\n",
        "    self.layers = torch.nn.Sequential(\n",
        "        torch.nn.Linear(GPT2_CFG['emb_dim'], GPT2_CFG['emb_dim']*4), #expansion\n",
        "        GELU(), #activation defined by us\n",
        "        torch.nn.Linear(GPT2_CFG['emb_dim'] * 4, GPT2_CFG['emb_dim']) #contraction\n",
        "    )\n",
        "\n",
        "  def forward(self, x):\n",
        "    x = self.layers(x)\n",
        "    return x"
      ],
      "metadata": {
        "id": "cSEhKtMy_GR_"
      },
      "execution_count": 59,
      "outputs": []
    },
    {
      "cell_type": "markdown",
      "source": [
        "#### Testing"
      ],
      "metadata": {
        "id": "an9Za5J_AVb0"
      }
    },
    {
      "cell_type": "code",
      "source": [
        "input_x = torch.randn((GPT2_CFG['emb_dim'], GPT2_CFG['emb_dim']))\n",
        "FFN = FeedforwardNetwork()\n",
        "final_output = FFN(input_x)"
      ],
      "metadata": {
        "id": "E_qtFFT3ATwq"
      },
      "execution_count": 60,
      "outputs": []
    },
    {
      "cell_type": "code",
      "source": [
        "final_output.shape"
      ],
      "metadata": {
        "colab": {
          "base_uri": "https://localhost:8080/"
        },
        "id": "Teb3N9VfAlgY",
        "outputId": "741cedfe-84a0-41cc-a548-f0f7d590ebe3"
      },
      "execution_count": 61,
      "outputs": [
        {
          "output_type": "execute_result",
          "data": {
            "text/plain": [
              "torch.Size([768, 768])"
            ]
          },
          "metadata": {},
          "execution_count": 61
        }
      ]
    },
    {
      "cell_type": "code",
      "source": [
        "for name, param in FFN.named_parameters():\n",
        "    print(name, param.shape)"
      ],
      "metadata": {
        "id": "bjiaYd-oBLGN"
      },
      "execution_count": null,
      "outputs": []
    },
    {
      "cell_type": "markdown",
      "source": [
        "## Skip Connection understanding"
      ],
      "metadata": {
        "id": "LKl9JZ6mB3WB"
      }
    },
    {
      "cell_type": "code",
      "source": [],
      "metadata": {
        "id": "t9uh6_-OB6Z-"
      },
      "execution_count": null,
      "outputs": []
    }
  ]
}