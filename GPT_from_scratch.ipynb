{
  "nbformat": 4,
  "nbformat_minor": 0,
  "metadata": {
    "colab": {
      "provenance": [],
      "mount_file_id": "1cW_OPiZRsJlGyw6UccvRz5ksNPZvZeRt",
      "authorship_tag": "ABX9TyOim5LZrOx7yhwSSZiEWIP0",
      "include_colab_link": true
    },
    "kernelspec": {
      "name": "python3",
      "display_name": "Python 3"
    },
    "language_info": {
      "name": "python"
    }
  },
  "cells": [
    {
      "cell_type": "markdown",
      "metadata": {
        "id": "view-in-github",
        "colab_type": "text"
      },
      "source": [
        "<a href=\"https://colab.research.google.com/github/mosrihari/FoundationalStudy/blob/main/GPT_from_scratch.ipynb\" target=\"_parent\"><img src=\"https://colab.research.google.com/assets/colab-badge.svg\" alt=\"Open In Colab\"/></a>"
      ]
    },
    {
      "cell_type": "code",
      "execution_count": 1,
      "metadata": {
        "id": "kQRpHyUJxxLa"
      },
      "outputs": [],
      "source": [
        "import torch\n",
        "import numpy as np\n",
        "import matplotlib.pyplot as plt\n",
        "import seaborn as sns\n",
        "import pandas as pd\n",
        "from torch.utils.data import Dataset, DataLoader"
      ]
    },
    {
      "cell_type": "code",
      "source": [
        "GPT2_CFG = {\n",
        "    \"vocab_size\"    : 50257,\n",
        "    \"emb_dim\"       : 768,\n",
        "    \"n_heads\"       : 12,\n",
        "    \"n_transformers\": 12,\n",
        "    \"dropout\"       : 0.1,\n",
        "    \"context_len\"   : 1024,\n",
        "    \"qkv_bias\"      : False\n",
        "}"
      ],
      "metadata": {
        "id": "lcrptRbNyn9_"
      },
      "execution_count": 2,
      "outputs": []
    },
    {
      "cell_type": "markdown",
      "source": [
        "# Transformer Layer components\n",
        "\n",
        "Transformer layer consists of\n",
        "\n",
        "\n",
        "*   Layer Normalization\n",
        "*   Feedforward neural network with GELU\n",
        "*   Skip Connection\n",
        "*   Masked Multi head attention\n",
        "\n",
        "So we will implement each layers as a separate class which forms transformers\n",
        "\n",
        "\n",
        "\n"
      ],
      "metadata": {
        "id": "wV2RTF6fx7WD"
      }
    },
    {
      "cell_type": "markdown",
      "source": [
        "## Layer Normalization"
      ],
      "metadata": {
        "id": "GRSg2HXTyRRv"
      }
    },
    {
      "cell_type": "markdown",
      "source": [
        "### Scratchpad"
      ],
      "metadata": {
        "id": "YYeiN8iM3D8j"
      }
    },
    {
      "cell_type": "code",
      "source": [
        "input_layer = torch.randn((5,6))\n",
        "print(input_layer)\n",
        "\n",
        "torch.mean(input_layer,dim=-1)"
      ],
      "metadata": {
        "colab": {
          "base_uri": "https://localhost:8080/"
        },
        "id": "FcbsYbTO069t",
        "outputId": "06f43bfc-8c14-443f-fb32-88824f7a9c65"
      },
      "execution_count": 3,
      "outputs": [
        {
          "output_type": "stream",
          "name": "stdout",
          "text": [
            "tensor([[-0.3909,  1.6571,  1.3658,  0.8099, -1.6240,  0.2062],\n",
            "        [ 0.6053,  1.9118, -0.1393,  0.6340,  0.5532,  0.3744],\n",
            "        [-0.0563,  1.4600,  0.3424,  1.7432,  1.1185,  0.2264],\n",
            "        [-0.9182, -1.1780, -1.1017,  0.6480, -1.1207, -1.0419],\n",
            "        [-0.5376,  0.3993, -1.1528, -1.3061, -0.2131,  1.2595]])\n"
          ]
        },
        {
          "output_type": "execute_result",
          "data": {
            "text/plain": [
              "tensor([ 0.3373,  0.6566,  0.8057, -0.7854, -0.2585])"
            ]
          },
          "metadata": {},
          "execution_count": 3
        }
      ]
    },
    {
      "cell_type": "markdown",
      "source": [
        "### Main class"
      ],
      "metadata": {
        "id": "Zuq5CfQ23GhT"
      }
    },
    {
      "cell_type": "code",
      "source": [
        "class LayerNormalization(torch.nn.Module):\n",
        "\n",
        "  def __init__(self, eps):\n",
        "    super().__init__()\n",
        "\n",
        "    self.eps = eps #to avoid divide by 0\n",
        "    self.scale = torch.nn.Parameter(torch.ones(GPT2_CFG['emb_dim']))\n",
        "    self.shift = torch.nn.Parameter(torch.zeros(GPT2_CFG['emb_dim']))\n",
        "\n",
        "  def forward(self, x):\n",
        "    # we take mean and variance from the output layer\n",
        "    # The output layer will have embedding_dim as column matrix\n",
        "    # Hence the mean and variance should be across columns\n",
        "    mean = torch.mean(x, dim=-1, keepdim=True) #normalize across columns -1\n",
        "    variance = torch.var(x, dim=-1, unbiased=True, keepdim=True) # unbiased True for bressels correction\n",
        "    # keepdim is mandatory as it preserves the dimension. Else, the mean and variance will be flattened vectors\n",
        "    x = (x - mean) / (torch.sqrt(variance) + self.eps) # normalize\n",
        "    return self.scale * x + self.shift # trainable params included\n"
      ],
      "metadata": {
        "id": "TmeQZeXix2Fv"
      },
      "execution_count": 4,
      "outputs": []
    },
    {
      "cell_type": "code",
      "source": [
        "#small testing\n",
        "input_matrix = [[1,2,3,4,5],\n",
        "                [3,4,5,21,32],\n",
        "                [12,324,233,5456,32],\n",
        "                [12,34,3,6,1],\n",
        "                [78,43,23,12,65]]\n",
        "\n",
        "#input_matrix 5 * 5\n",
        "input_matrix = torch.tensor(input_matrix).float()\n",
        "LM = LayerNormalization(eps = 1e-5)\n",
        "LM.scale = torch.nn.Parameter(torch.ones((5,5)))\n",
        "LM.shift = torch.nn.Parameter(torch.zeros((5,5)))\n",
        "output_normalized = LM(input_matrix)\n",
        "\n",
        "print(output_normalized, output_normalized.shape, torch.mean(output_normalized, dim=-1), torch.var(output_normalized, dim=-1))"
      ],
      "metadata": {
        "colab": {
          "base_uri": "https://localhost:8080/"
        },
        "id": "XyrJ_VpF38nx",
        "outputId": "c46691ee-3ea2-44be-d2a7-f3e454d6d1c7"
      },
      "execution_count": 5,
      "outputs": [
        {
          "output_type": "stream",
          "name": "stdout",
          "text": [
            "tensor([[-1.2649, -0.6325,  0.0000,  0.6325,  1.2649],\n",
            "        [-0.7727, -0.6954, -0.6181,  0.6181,  1.4681],\n",
            "        [-0.5047, -0.3734, -0.4117,  1.7861, -0.4963],\n",
            "        [ 0.0597,  1.7008, -0.6117, -0.3879, -0.7609],\n",
            "        [ 1.2215, -0.0434, -0.7661, -1.1637,  0.7517]], grad_fn=<AddBackward0>) torch.Size([5, 5]) tensor([ 0.0000e+00,  0.0000e+00,  0.0000e+00, -1.1921e-08, -4.7684e-08],\n",
            "       grad_fn=<MeanBackward1>) tensor([1.0000, 1.0000, 1.0000, 1.0000, 1.0000], grad_fn=<VarBackward0>)\n"
          ]
        }
      ]
    },
    {
      "cell_type": "code",
      "source": [
        "LM = LayerNormalization(eps = 1e-5)\n",
        "input_x = torch.randn((GPT2_CFG['context_len'], GPT2_CFG['emb_dim']))\n",
        "output_normalized = LM(input_x)\n",
        "output_normalized.shape, torch.mean(output_normalized), torch.var(output_normalized)\n",
        "# Mean 0 and Variance 1"
      ],
      "metadata": {
        "colab": {
          "base_uri": "https://localhost:8080/"
        },
        "id": "4bDjcSjw3Aed",
        "outputId": "bd008be4-630c-4c8e-bbb8-83df60d2438b"
      },
      "execution_count": 6,
      "outputs": [
        {
          "output_type": "execute_result",
          "data": {
            "text/plain": [
              "(torch.Size([1024, 768]),\n",
              " tensor(2.9104e-11, grad_fn=<MeanBackward0>),\n",
              " tensor(0.9987, grad_fn=<VarBackward0>))"
            ]
          },
          "metadata": {},
          "execution_count": 6
        }
      ]
    },
    {
      "cell_type": "markdown",
      "source": [
        "## Feedforward with GELU"
      ],
      "metadata": {
        "id": "qlCOVaQX6t9u"
      }
    },
    {
      "cell_type": "markdown",
      "source": [
        "### GELU\n",
        "\n"
      ],
      "metadata": {
        "id": "Po_lf3pT7y_x"
      }
    },
    {
      "cell_type": "markdown",
      "source": [
        "![Capture.PNG](data:image/png;base64,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)"
      ],
      "metadata": {
        "id": "7JmCS1D080Lb"
      }
    },
    {
      "cell_type": "code",
      "source": [
        "class GELU(torch.nn.Module):\n",
        "\n",
        "  def __init__(self):\n",
        "    super().__init__()\n",
        "\n",
        "  def forward(self, x):\n",
        "    # Inside GELU activation\n",
        "    return 0.5 * x * (1 +\n",
        "                      torch.tanh(torch.sqrt(torch.tensor(2 / torch.pi)) *\n",
        "                       (x + 0.044715 * torch.pow(x, 3))))"
      ],
      "metadata": {
        "id": "CeXLifzX3vH1"
      },
      "execution_count": 7,
      "outputs": []
    },
    {
      "cell_type": "code",
      "source": [
        "## We can do comparison between RELU and GELU as well\n",
        "input_values = torch.randn(50)\n",
        "relu_activation = torch.relu(input_values)\n",
        "gelu = GELU()\n",
        "gelu_activation = gelu(input_values)\n",
        "\n",
        "df = pd.DataFrame({\n",
        "    'Input': input_values.numpy(),\n",
        "    'ReLU': relu_activation.numpy(),\n",
        "    'GELU': gelu_activation.numpy()\n",
        "})\n",
        "\n",
        "df_melted = df.melt(id_vars='Input', var_name='Activation', value_name='Output')\n",
        "\n",
        "plt.figure(figsize=(8, 5))\n",
        "sns.lineplot(data=df_melted, x='Input', y='Output', hue='Activation', marker='o')\n",
        "plt.title('ReLU vs GELU Activation on Random Input')\n",
        "plt.xlabel('Input Value')\n",
        "plt.ylabel('Activation Output')\n",
        "plt.grid(True)\n",
        "plt.show()"
      ],
      "metadata": {
        "colab": {
          "base_uri": "https://localhost:8080/",
          "height": 487
        },
        "id": "of_o8Vsx9HuN",
        "outputId": "a7c293eb-909e-4f36-f0e4-ff3a001047b2"
      },
      "execution_count": 8,
      "outputs": [
        {
          "output_type": "display_data",
          "data": {
            "text/plain": [
              "<Figure size 800x500 with 1 Axes>"
            ],
            "image/png": "[encoded data removed]"
          },
          "metadata": {}
        }
      ]
    },
    {
      "cell_type": "markdown",
      "source": [
        "### Feedforward network"
      ],
      "metadata": {
        "id": "NaOEActl_YT-"
      }
    },
    {
      "cell_type": "code",
      "source": [
        "class FeedforwardNetwork(torch.nn.Module):\n",
        "\n",
        "  def __init__(self):\n",
        "    super().__init__()\n",
        "    self.layers = torch.nn.Sequential(\n",
        "        torch.nn.Linear(GPT2_CFG['emb_dim'], GPT2_CFG['emb_dim']*4), #expansion\n",
        "        GELU(), #activation defined by us\n",
        "        torch.nn.Linear(GPT2_CFG['emb_dim'] * 4, GPT2_CFG['emb_dim']) #contraction\n",
        "    )\n",
        "\n",
        "  def forward(self, x):\n",
        "    x = self.layers(x)\n",
        "    return x"
      ],
      "metadata": {
        "id": "cSEhKtMy_GR_"
      },
      "execution_count": 9,
      "outputs": []
    },
    {
      "cell_type": "code",
      "source": [
        "input_x = torch.randn((GPT2_CFG['emb_dim'], GPT2_CFG['emb_dim']))\n",
        "FFN = FeedforwardNetwork()\n",
        "final_output = FFN(input_x)"
      ],
      "metadata": {
        "id": "E_qtFFT3ATwq"
      },
      "execution_count": 10,
      "outputs": []
    },
    {
      "cell_type": "code",
      "source": [
        "final_output.shape"
      ],
      "metadata": {
        "colab": {
          "base_uri": "https://localhost:8080/"
        },
        "id": "Teb3N9VfAlgY",
        "outputId": "6167d397-4eb0-450a-dc4d-2f3f9130620b"
      },
      "execution_count": 11,
      "outputs": [
        {
          "output_type": "execute_result",
          "data": {
            "text/plain": [
              "torch.Size([768, 768])"
            ]
          },
          "metadata": {},
          "execution_count": 11
        }
      ]
    },
    {
      "cell_type": "code",
      "source": [
        "for name, param in FFN.named_parameters():\n",
        "    print(name, param.shape)"
      ],
      "metadata": {
        "id": "bjiaYd-oBLGN",
        "colab": {
          "base_uri": "https://localhost:8080/"
        },
        "outputId": "94e239a9-a21b-4c5b-ce19-fb8993eff3a8"
      },
      "execution_count": 12,
      "outputs": [
        {
          "output_type": "stream",
          "name": "stdout",
          "text": [
            "layers.0.weight torch.Size([3072, 768])\n",
            "layers.0.bias torch.Size([3072])\n",
            "layers.2.weight torch.Size([768, 3072])\n",
            "layers.2.bias torch.Size([768])\n"
          ]
        }
      ]
    },
    {
      "cell_type": "markdown",
      "source": [
        "## Shortcut Connection understanding\n",
        "\n",
        "We are just going to check the Shortcut connection to understand how it works for multiple layers. This is not part of implementation class as it is passing previous input to further outputs only. Which we will do in main transformer class"
      ],
      "metadata": {
        "id": "LKl9JZ6mB3WB"
      }
    },
    {
      "cell_type": "code",
      "source": [
        "class ShortCutConnection(torch.nn.Module):\n",
        "\n",
        "  def __init__(self, shortcut=True):\n",
        "    super().__init__()\n",
        "    self.layers_list = torch.nn.ModuleList([\n",
        "        torch.nn.Sequential(torch.nn.Linear(3,6), GELU()),\n",
        "        torch.nn.Sequential(torch.nn.Linear(6,6), GELU()),\n",
        "        torch.nn.Sequential(torch.nn.Linear(6,6), GELU()),\n",
        "        torch.nn.Sequential(torch.nn.Linear(6,6), GELU()),\n",
        "        torch.nn.Sequential(torch.nn.Linear(6,1))]\n",
        "        )\n",
        "    self.shortcut = shortcut\n",
        "\n",
        "  def forward(self, x):\n",
        "    for e, layers in enumerate(self.layers_list):\n",
        "      layer_out = layers(x)\n",
        "\n",
        "      if self.shortcut and layer_out.shape == x.shape:\n",
        "          x = x + layer_out\n",
        "      else:\n",
        "          x = layer_out\n",
        "    return x"
      ],
      "metadata": {
        "id": "t9uh6_-OB6Z-"
      },
      "execution_count": 13,
      "outputs": []
    },
    {
      "cell_type": "code",
      "source": [
        "x = torch.tensor([-1.,0.,1.])\n",
        "scc = ShortCutConnection(shortcut=True)\n",
        "no_scc = ShortCutConnection(shortcut = False)"
      ],
      "metadata": {
        "id": "sZGuF20LDPrB"
      },
      "execution_count": 14,
      "outputs": []
    },
    {
      "cell_type": "code",
      "source": [
        "## Test the shortcut connection\n",
        "target = torch.tensor([-1.])\n",
        "loss = torch.nn.MSELoss()\n",
        "\n",
        "predicted_with_shortcut = scc(x)\n",
        "predicted_wo_shortcut = no_scc(x)\n",
        "\n",
        "loss_value_with_shortcut = loss(predicted_with_shortcut, target)\n",
        "loss_value_wo_shortcut = loss(predicted_wo_shortcut, target)\n",
        "\n",
        "\n",
        "loss_value_with_shortcut.backward()\n",
        "loss_value_wo_shortcut.backward()\n",
        "\n",
        "print(\"With shortcut connection - no vanishing gradient\")\n",
        "for e, param in scc.named_parameters():\n",
        "  if('weight' in e):\n",
        "    print(f\"{param.grad.abs().mean().item()}\")\n",
        "print(\"\\n\")\n",
        "print(\"Without shortcut connection -  vanishing gradient\")\n",
        "for e, param in no_scc.named_parameters():\n",
        "  if('weight' in e):\n",
        "    print(f\"{param.grad.abs().mean().item()}\")"
      ],
      "metadata": {
        "id": "WRC7e_9oDVyA",
        "colab": {
          "base_uri": "https://localhost:8080/"
        },
        "outputId": "bfe2aed1-6c6d-42ca-8aa4-1d1631bcc627"
      },
      "execution_count": 15,
      "outputs": [
        {
          "output_type": "stream",
          "name": "stdout",
          "text": [
            "With shortcut connection - no vanishing gradient\n",
            "0.16679038107395172\n",
            "0.04341232776641846\n",
            "0.05567583814263344\n",
            "0.057620126754045486\n",
            "0.5296791195869446\n",
            "\n",
            "\n",
            "Without shortcut connection -  vanishing gradient\n",
            "0.0035989852622151375\n",
            "0.0027767966967076063\n",
            "0.003448875853791833\n",
            "0.022360237315297127\n",
            "0.19458527863025665\n"
          ]
        }
      ]
    },
    {
      "cell_type": "markdown",
      "source": [
        "## Masked Multi head attention"
      ],
      "metadata": {
        "id": "XJHLiHYtLnlr"
      }
    },
    {
      "cell_type": "markdown",
      "source": [
        "## Scratchpad"
      ],
      "metadata": {
        "id": "c3Oh4hCRS4XG"
      }
    },
    {
      "cell_type": "code",
      "source": [
        "embeddings = torch.tensor([[0.43, 0.15, 0.89], #your\n",
        "                            [0.55, 0.87, 0.66], #journey\n",
        "                            [0.57, 0.85, 0.64], #starts\n",
        "                            [0.22, 0.58, 0.33], #with\n",
        "                            [0.77, 0.25, 0.10], #one\n",
        "                            [0.05, 0.80, 0.55]]) #step\n",
        "embedding_batch = torch.stack([embeddings, embeddings], dim = 0)"
      ],
      "metadata": {
        "id": "YNkiEgiGS7Zk"
      },
      "execution_count": 16,
      "outputs": []
    },
    {
      "cell_type": "code",
      "source": [
        "embedding_batch.shape"
      ],
      "metadata": {
        "colab": {
          "base_uri": "https://localhost:8080/"
        },
        "id": "xN1qAbmuWS8x",
        "outputId": "816f5507-dc5f-43f0-b0d8-dff12cc15b5e"
      },
      "execution_count": 17,
      "outputs": [
        {
          "output_type": "execute_result",
          "data": {
            "text/plain": [
              "torch.Size([2, 6, 3])"
            ]
          },
          "metadata": {},
          "execution_count": 17
        }
      ]
    },
    {
      "cell_type": "code",
      "source": [
        "w_q = torch.nn.Linear(3, 3 * 2) # dim_in, embedding_dim * n_head\n",
        "w_k = torch.nn.Linear(3, 3 * 2)\n",
        "w_v = torch.nn.Linear(3, 3 * 2)\n",
        "\n",
        "q = w_q(embedding_batch)\n",
        "k = w_k(embedding_batch)\n",
        "v = w_v(embedding_batch)\n",
        "\n",
        "q.shape, q"
      ],
      "metadata": {
        "colab": {
          "base_uri": "https://localhost:8080/"
        },
        "id": "ghe0ZAQMTjRB",
        "outputId": "293c1562-6055-4d12-ecb3-563e7fa039cf"
      },
      "execution_count": 18,
      "outputs": [
        {
          "output_type": "execute_result",
          "data": {
            "text/plain": [
              "(torch.Size([2, 6, 6]),\n",
              " tensor([[[ 0.4021, -0.0935,  0.2404,  0.3598,  0.2147,  0.0746],\n",
              "          [ 0.1633,  0.0841,  0.4696,  0.3041,  0.2660,  0.2883],\n",
              "          [ 0.1879,  0.0951,  0.4861,  0.3174,  0.2437,  0.2717],\n",
              "          [ 0.2287, -0.0081,  0.3931,  0.1454,  0.1168,  0.0780],\n",
              "          [ 0.7162,  0.2424,  0.7443,  0.4937, -0.2688, -0.1767],\n",
              "          [-0.0175, -0.1078,  0.2380,  0.0275,  0.3463,  0.2567]],\n",
              " \n",
              "         [[ 0.4021, -0.0935,  0.2404,  0.3598,  0.2147,  0.0746],\n",
              "          [ 0.1633,  0.0841,  0.4696,  0.3041,  0.2660,  0.2883],\n",
              "          [ 0.1879,  0.0951,  0.4861,  0.3174,  0.2437,  0.2717],\n",
              "          [ 0.2287, -0.0081,  0.3931,  0.1454,  0.1168,  0.0780],\n",
              "          [ 0.7162,  0.2424,  0.7443,  0.4937, -0.2688, -0.1767],\n",
              "          [-0.0175, -0.1078,  0.2380,  0.0275,  0.3463,  0.2567]]],\n",
              "        grad_fn=<ViewBackward0>))"
            ]
          },
          "metadata": {},
          "execution_count": 18
        }
      ]
    },
    {
      "cell_type": "code",
      "source": [
        "q = q.view(2, 6, 2, 3) # batch, context_length, head, dim\n",
        "k = k.view(2, 6, 2, 3)\n",
        "v = v.view(2, 6, 2, 3)\n",
        "\n",
        "q # I have a first 2 rows is \"your\" value which has 2 heads , 3rd and 4th row is \"journey\" which has 2 heads\n",
        "\n",
        "#qk(transpose)\n",
        "# grouped by context length now . But change it to head group\n"
      ],
      "metadata": {
        "colab": {
          "base_uri": "https://localhost:8080/"
        },
        "id": "RY3eVgE5U7ck",
        "outputId": "c94e1295-303f-4f29-a515-285236e9369b"
      },
      "execution_count": 19,
      "outputs": [
        {
          "output_type": "execute_result",
          "data": {
            "text/plain": [
              "tensor([[[[ 0.4021, -0.0935,  0.2404],\n",
              "          [ 0.3598,  0.2147,  0.0746]],\n",
              "\n",
              "         [[ 0.1633,  0.0841,  0.4696],\n",
              "          [ 0.3041,  0.2660,  0.2883]],\n",
              "\n",
              "         [[ 0.1879,  0.0951,  0.4861],\n",
              "          [ 0.3174,  0.2437,  0.2717]],\n",
              "\n",
              "         [[ 0.2287, -0.0081,  0.3931],\n",
              "          [ 0.1454,  0.1168,  0.0780]],\n",
              "\n",
              "         [[ 0.7162,  0.2424,  0.7443],\n",
              "          [ 0.4937, -0.2688, -0.1767]],\n",
              "\n",
              "         [[-0.0175, -0.1078,  0.2380],\n",
              "          [ 0.0275,  0.3463,  0.2567]]],\n",
              "\n",
              "\n",
              "        [[[ 0.4021, -0.0935,  0.2404],\n",
              "          [ 0.3598,  0.2147,  0.0746]],\n",
              "\n",
              "         [[ 0.1633,  0.0841,  0.4696],\n",
              "          [ 0.3041,  0.2660,  0.2883]],\n",
              "\n",
              "         [[ 0.1879,  0.0951,  0.4861],\n",
              "          [ 0.3174,  0.2437,  0.2717]],\n",
              "\n",
              "         [[ 0.2287, -0.0081,  0.3931],\n",
              "          [ 0.1454,  0.1168,  0.0780]],\n",
              "\n",
              "         [[ 0.7162,  0.2424,  0.7443],\n",
              "          [ 0.4937, -0.2688, -0.1767]],\n",
              "\n",
              "         [[-0.0175, -0.1078,  0.2380],\n",
              "          [ 0.0275,  0.3463,  0.2567]]]], grad_fn=<ViewBackward0>)"
            ]
          },
          "metadata": {},
          "execution_count": 19
        }
      ]
    },
    {
      "cell_type": "code",
      "source": [
        "q = q.transpose(2,1) # interchange context with head\n",
        "# now it is first head, second head for the first batch then first head, second head for the second batch\n",
        "k = k.transpose(2,1)\n",
        "#2,2,6,3 matmul 2,2,6,3 and if you want qkT , transpose k with 2,3\n",
        "print()\n",
        "numerator = q @ k.transpose(2,3)\n",
        "numerator\n"
      ],
      "metadata": {
        "colab": {
          "base_uri": "https://localhost:8080/"
        },
        "id": "8nhODi-cUg8b",
        "outputId": "d38cb691-ce93-4c1b-a478-79c297cd03a1"
      },
      "execution_count": 20,
      "outputs": [
        {
          "output_type": "stream",
          "name": "stdout",
          "text": [
            "\n"
          ]
        },
        {
          "output_type": "execute_result",
          "data": {
            "text/plain": [
              "tensor([[[[ 0.1216, -0.0568, -0.0439,  0.0130,  0.2567, -0.1190],\n",
              "          [ 0.2171,  0.0989,  0.1054,  0.1004,  0.2402,  0.0369],\n",
              "          [ 0.2202,  0.0970,  0.1040,  0.1014,  0.2526,  0.0318],\n",
              "          [ 0.1971,  0.0496,  0.0582,  0.0735,  0.2496, -0.0131],\n",
              "          [ 0.2625,  0.0195,  0.0399,  0.0997,  0.4958, -0.1066],\n",
              "          [ 0.1679,  0.0732,  0.0757,  0.0657,  0.1284,  0.0413]],\n",
              "\n",
              "         [[ 0.1805,  0.3322,  0.3267,  0.2817,  0.1815,  0.3396],\n",
              "          [-0.0361,  0.1100,  0.1046,  0.1251, -0.0041,  0.1774],\n",
              "          [-0.0306,  0.1162,  0.1113,  0.1270,  0.0093,  0.1750],\n",
              "          [ 0.0419,  0.1088,  0.1061,  0.0994,  0.0434,  0.1267],\n",
              "          [ 0.1356,  0.2534,  0.2590,  0.1626,  0.3086,  0.1152],\n",
              "          [-0.0188,  0.0478,  0.0403,  0.0826, -0.0920,  0.1538]]],\n",
              "\n",
              "\n",
              "        [[[ 0.1216, -0.0568, -0.0439,  0.0130,  0.2567, -0.1190],\n",
              "          [ 0.2171,  0.0989,  0.1054,  0.1004,  0.2402,  0.0369],\n",
              "          [ 0.2202,  0.0970,  0.1040,  0.1014,  0.2526,  0.0318],\n",
              "          [ 0.1971,  0.0496,  0.0582,  0.0735,  0.2496, -0.0131],\n",
              "          [ 0.2625,  0.0195,  0.0399,  0.0997,  0.4958, -0.1066],\n",
              "          [ 0.1679,  0.0732,  0.0757,  0.0657,  0.1284,  0.0413]],\n",
              "\n",
              "         [[ 0.1805,  0.3322,  0.3267,  0.2817,  0.1815,  0.3396],\n",
              "          [-0.0361,  0.1100,  0.1046,  0.1251, -0.0041,  0.1774],\n",
              "          [-0.0306,  0.1162,  0.1113,  0.1270,  0.0093,  0.1750],\n",
              "          [ 0.0419,  0.1088,  0.1061,  0.0994,  0.0434,  0.1267],\n",
              "          [ 0.1356,  0.2534,  0.2590,  0.1626,  0.3086,  0.1152],\n",
              "          [-0.0188,  0.0478,  0.0403,  0.0826, -0.0920,  0.1538]]]],\n",
              "       grad_fn=<UnsafeViewBackward0>)"
            ]
          },
          "metadata": {},
          "execution_count": 20
        }
      ]
    },
    {
      "cell_type": "code",
      "source": [
        "numerator.shape\n",
        "# boolean mask with context length\n",
        "boolean_mask_matrix = torch.triu(torch.ones(6,6).bool(),diagonal=1)\n",
        "numerator.masked_fill_(boolean_mask_matrix, value=-np.inf)\n",
        "numerator"
      ],
      "metadata": {
        "colab": {
          "base_uri": "https://localhost:8080/"
        },
        "id": "WzDdQdW24TbN",
        "outputId": "1d63e961-bc19-4257-9ee2-d91ce7b46384"
      },
      "execution_count": 21,
      "outputs": [
        {
          "output_type": "execute_result",
          "data": {
            "text/plain": [
              "tensor([[[[ 0.1216,    -inf,    -inf,    -inf,    -inf,    -inf],\n",
              "          [ 0.2171,  0.0989,    -inf,    -inf,    -inf,    -inf],\n",
              "          [ 0.2202,  0.0970,  0.1040,    -inf,    -inf,    -inf],\n",
              "          [ 0.1971,  0.0496,  0.0582,  0.0735,    -inf,    -inf],\n",
              "          [ 0.2625,  0.0195,  0.0399,  0.0997,  0.4958,    -inf],\n",
              "          [ 0.1679,  0.0732,  0.0757,  0.0657,  0.1284,  0.0413]],\n",
              "\n",
              "         [[ 0.1805,    -inf,    -inf,    -inf,    -inf,    -inf],\n",
              "          [-0.0361,  0.1100,    -inf,    -inf,    -inf,    -inf],\n",
              "          [-0.0306,  0.1162,  0.1113,    -inf,    -inf,    -inf],\n",
              "          [ 0.0419,  0.1088,  0.1061,  0.0994,    -inf,    -inf],\n",
              "          [ 0.1356,  0.2534,  0.2590,  0.1626,  0.3086,    -inf],\n",
              "          [-0.0188,  0.0478,  0.0403,  0.0826, -0.0920,  0.1538]]],\n",
              "\n",
              "\n",
              "        [[[ 0.1216,    -inf,    -inf,    -inf,    -inf,    -inf],\n",
              "          [ 0.2171,  0.0989,    -inf,    -inf,    -inf,    -inf],\n",
              "          [ 0.2202,  0.0970,  0.1040,    -inf,    -inf,    -inf],\n",
              "          [ 0.1971,  0.0496,  0.0582,  0.0735,    -inf,    -inf],\n",
              "          [ 0.2625,  0.0195,  0.0399,  0.0997,  0.4958,    -inf],\n",
              "          [ 0.1679,  0.0732,  0.0757,  0.0657,  0.1284,  0.0413]],\n",
              "\n",
              "         [[ 0.1805,    -inf,    -inf,    -inf,    -inf,    -inf],\n",
              "          [-0.0361,  0.1100,    -inf,    -inf,    -inf,    -inf],\n",
              "          [-0.0306,  0.1162,  0.1113,    -inf,    -inf,    -inf],\n",
              "          [ 0.0419,  0.1088,  0.1061,  0.0994,    -inf,    -inf],\n",
              "          [ 0.1356,  0.2534,  0.2590,  0.1626,  0.3086,    -inf],\n",
              "          [-0.0188,  0.0478,  0.0403,  0.0826, -0.0920,  0.1538]]]],\n",
              "       grad_fn=<MaskedFillBackward0>)"
            ]
          },
          "metadata": {},
          "execution_count": 21
        }
      ]
    },
    {
      "cell_type": "code",
      "source": [
        "v.shape[3]"
      ],
      "metadata": {
        "colab": {
          "base_uri": "https://localhost:8080/"
        },
        "id": "D-NSKYD75MaP",
        "outputId": "009e87bf-0f80-4f3e-d0e0-b5fe460a6eb7"
      },
      "execution_count": 22,
      "outputs": [
        {
          "output_type": "execute_result",
          "data": {
            "text/plain": [
              "3"
            ]
          },
          "metadata": {},
          "execution_count": 22
        }
      ]
    },
    {
      "cell_type": "code",
      "source": [
        "# softmax on top\n",
        "attention_score = numerator / np.sqrt(v.shape[3])\n",
        "print(attention_score)\n",
        "print(\"========\")\n",
        "attention_weight = torch.softmax(attention_score, dim=-1)\n",
        "print(attention_weight)"
      ],
      "metadata": {
        "colab": {
          "base_uri": "https://localhost:8080/"
        },
        "id": "J8qHI53p4_6B",
        "outputId": "cf06aaf7-572a-4d4e-8fd5-08ac08f317b3"
      },
      "execution_count": 23,
      "outputs": [
        {
          "output_type": "stream",
          "name": "stdout",
          "text": [
            "tensor([[[[ 0.0702,    -inf,    -inf,    -inf,    -inf,    -inf],\n",
            "          [ 0.1253,  0.0571,    -inf,    -inf,    -inf,    -inf],\n",
            "          [ 0.1271,  0.0560,  0.0601,    -inf,    -inf,    -inf],\n",
            "          [ 0.1138,  0.0286,  0.0336,  0.0424,    -inf,    -inf],\n",
            "          [ 0.1515,  0.0113,  0.0231,  0.0576,  0.2862,    -inf],\n",
            "          [ 0.0969,  0.0422,  0.0437,  0.0379,  0.0742,  0.0238]],\n",
            "\n",
            "         [[ 0.1042,    -inf,    -inf,    -inf,    -inf,    -inf],\n",
            "          [-0.0208,  0.0635,    -inf,    -inf,    -inf,    -inf],\n",
            "          [-0.0176,  0.0671,  0.0642,    -inf,    -inf,    -inf],\n",
            "          [ 0.0242,  0.0628,  0.0613,  0.0574,    -inf,    -inf],\n",
            "          [ 0.0783,  0.1463,  0.1495,  0.0939,  0.1782,    -inf],\n",
            "          [-0.0108,  0.0276,  0.0232,  0.0477, -0.0531,  0.0888]]],\n",
            "\n",
            "\n",
            "        [[[ 0.0702,    -inf,    -inf,    -inf,    -inf,    -inf],\n",
            "          [ 0.1253,  0.0571,    -inf,    -inf,    -inf,    -inf],\n",
            "          [ 0.1271,  0.0560,  0.0601,    -inf,    -inf,    -inf],\n",
            "          [ 0.1138,  0.0286,  0.0336,  0.0424,    -inf,    -inf],\n",
            "          [ 0.1515,  0.0113,  0.0231,  0.0576,  0.2862,    -inf],\n",
            "          [ 0.0969,  0.0422,  0.0437,  0.0379,  0.0742,  0.0238]],\n",
            "\n",
            "         [[ 0.1042,    -inf,    -inf,    -inf,    -inf,    -inf],\n",
            "          [-0.0208,  0.0635,    -inf,    -inf,    -inf,    -inf],\n",
            "          [-0.0176,  0.0671,  0.0642,    -inf,    -inf,    -inf],\n",
            "          [ 0.0242,  0.0628,  0.0613,  0.0574,    -inf,    -inf],\n",
            "          [ 0.0783,  0.1463,  0.1495,  0.0939,  0.1782,    -inf],\n",
            "          [-0.0108,  0.0276,  0.0232,  0.0477, -0.0531,  0.0888]]]],\n",
            "       grad_fn=<DivBackward0>)\n",
            "========\n",
            "tensor([[[[1.0000, 0.0000, 0.0000, 0.0000, 0.0000, 0.0000],\n",
            "          [0.5170, 0.4830, 0.0000, 0.0000, 0.0000, 0.0000],\n",
            "          [0.3489, 0.3249, 0.3262, 0.0000, 0.0000, 0.0000],\n",
            "          [0.2651, 0.2434, 0.2447, 0.2468, 0.0000, 0.0000],\n",
            "          [0.2082, 0.1810, 0.1831, 0.1895, 0.2382, 0.0000],\n",
            "          [0.1741, 0.1648, 0.1651, 0.1641, 0.1702, 0.1618]],\n",
            "\n",
            "         [[1.0000, 0.0000, 0.0000, 0.0000, 0.0000, 0.0000],\n",
            "          [0.4789, 0.5211, 0.0000, 0.0000, 0.0000, 0.0000],\n",
            "          [0.3151, 0.3429, 0.3420, 0.0000, 0.0000, 0.0000],\n",
            "          [0.2433, 0.2528, 0.2524, 0.2515, 0.0000, 0.0000],\n",
            "          [0.1899, 0.2033, 0.2040, 0.1929, 0.2099, 0.0000],\n",
            "          [0.1614, 0.1677, 0.1669, 0.1711, 0.1547, 0.1783]]],\n",
            "\n",
            "\n",
            "        [[[1.0000, 0.0000, 0.0000, 0.0000, 0.0000, 0.0000],\n",
            "          [0.5170, 0.4830, 0.0000, 0.0000, 0.0000, 0.0000],\n",
            "          [0.3489, 0.3249, 0.3262, 0.0000, 0.0000, 0.0000],\n",
            "          [0.2651, 0.2434, 0.2447, 0.2468, 0.0000, 0.0000],\n",
            "          [0.2082, 0.1810, 0.1831, 0.1895, 0.2382, 0.0000],\n",
            "          [0.1741, 0.1648, 0.1651, 0.1641, 0.1702, 0.1618]],\n",
            "\n",
            "         [[1.0000, 0.0000, 0.0000, 0.0000, 0.0000, 0.0000],\n",
            "          [0.4789, 0.5211, 0.0000, 0.0000, 0.0000, 0.0000],\n",
            "          [0.3151, 0.3429, 0.3420, 0.0000, 0.0000, 0.0000],\n",
            "          [0.2433, 0.2528, 0.2524, 0.2515, 0.0000, 0.0000],\n",
            "          [0.1899, 0.2033, 0.2040, 0.1929, 0.2099, 0.0000],\n",
            "          [0.1614, 0.1677, 0.1669, 0.1711, 0.1547, 0.1783]]]],\n",
            "       grad_fn=<SoftmaxBackward0>)\n"
          ]
        }
      ]
    },
    {
      "cell_type": "code",
      "source": [
        "attention_weight.shape, v.shape"
      ],
      "metadata": {
        "colab": {
          "base_uri": "https://localhost:8080/"
        },
        "id": "jcUhQoep50JY",
        "outputId": "64678a47-bc8d-4bc0-cdf5-ffecbdd77c74"
      },
      "execution_count": 24,
      "outputs": [
        {
          "output_type": "execute_result",
          "data": {
            "text/plain": [
              "(torch.Size([2, 2, 6, 6]), torch.Size([2, 6, 2, 3]))"
            ]
          },
          "metadata": {},
          "execution_count": 24
        }
      ]
    },
    {
      "cell_type": "code",
      "source": [
        "v = v.transpose(2,1) # also group by head"
      ],
      "metadata": {
        "id": "Ov4iw2YK53KV"
      },
      "execution_count": 25,
      "outputs": []
    },
    {
      "cell_type": "code",
      "source": [
        "v.shape"
      ],
      "metadata": {
        "colab": {
          "base_uri": "https://localhost:8080/"
        },
        "id": "pX2qqEAY51gq",
        "outputId": "eb48786c-d936-4649-b0e2-1cc64ecd2768"
      },
      "execution_count": 26,
      "outputs": [
        {
          "output_type": "execute_result",
          "data": {
            "text/plain": [
              "torch.Size([2, 2, 6, 3])"
            ]
          },
          "metadata": {},
          "execution_count": 26
        }
      ]
    },
    {
      "cell_type": "code",
      "source": [
        "# context vector is this scale multiplied with v\n",
        "context_vector = attention_weight @ v"
      ],
      "metadata": {
        "id": "denTvpVh5rwi"
      },
      "execution_count": 27,
      "outputs": []
    },
    {
      "cell_type": "code",
      "source": [
        "context_vector"
      ],
      "metadata": {
        "colab": {
          "base_uri": "https://localhost:8080/"
        },
        "id": "FL6pS0wu6GAo",
        "outputId": "ea2416eb-08ea-437e-84c3-8c5c5d48b9e9"
      },
      "execution_count": 28,
      "outputs": [
        {
          "output_type": "execute_result",
          "data": {
            "text/plain": [
              "tensor([[[[ 0.1484,  0.3899, -0.4323],\n",
              "          [ 0.2304,  0.5398, -0.6402],\n",
              "          [ 0.2633,  0.5936, -0.7130],\n",
              "          [ 0.2500,  0.5900, -0.7105],\n",
              "          [ 0.3125,  0.6167, -0.7221],\n",
              "          [ 0.2701,  0.6041, -0.7217]],\n",
              "\n",
              "         [[-0.0228, -0.1202, -0.3860],\n",
              "          [ 0.0523, -0.0900, -0.3528],\n",
              "          [ 0.0741, -0.0823, -0.3381],\n",
              "          [ 0.1072, -0.0195, -0.3008],\n",
              "          [ 0.0937, -0.0278, -0.2384],\n",
              "          [ 0.1246,  0.0160, -0.2576]]],\n",
              "\n",
              "\n",
              "        [[[ 0.1484,  0.3899, -0.4323],\n",
              "          [ 0.2304,  0.5398, -0.6402],\n",
              "          [ 0.2633,  0.5936, -0.7130],\n",
              "          [ 0.2500,  0.5900, -0.7105],\n",
              "          [ 0.3125,  0.6167, -0.7221],\n",
              "          [ 0.2701,  0.6041, -0.7217]],\n",
              "\n",
              "         [[-0.0228, -0.1202, -0.3860],\n",
              "          [ 0.0523, -0.0900, -0.3528],\n",
              "          [ 0.0741, -0.0823, -0.3381],\n",
              "          [ 0.1072, -0.0195, -0.3008],\n",
              "          [ 0.0937, -0.0278, -0.2384],\n",
              "          [ 0.1246,  0.0160, -0.2576]]]], grad_fn=<UnsafeViewBackward0>)"
            ]
          },
          "metadata": {},
          "execution_count": 28
        }
      ]
    },
    {
      "cell_type": "code",
      "source": [
        "context_vector.shape  # batch, head, context_length, dim\n",
        "# i wanted to have this shape batch, context_length, head, dim\n",
        "\n",
        "context_vector = context_vector.transpose(2,1)\n",
        "# then combine the first 2 values for each\n",
        "context_vector"
      ],
      "metadata": {
        "colab": {
          "base_uri": "https://localhost:8080/"
        },
        "id": "u6kG5Dvw6kBx",
        "outputId": "cb5e0ebb-5726-4163-bd39-044e6579a779"
      },
      "execution_count": 29,
      "outputs": [
        {
          "output_type": "execute_result",
          "data": {
            "text/plain": [
              "tensor([[[[ 0.1484,  0.3899, -0.4323],\n",
              "          [-0.0228, -0.1202, -0.3860]],\n",
              "\n",
              "         [[ 0.2304,  0.5398, -0.6402],\n",
              "          [ 0.0523, -0.0900, -0.3528]],\n",
              "\n",
              "         [[ 0.2633,  0.5936, -0.7130],\n",
              "          [ 0.0741, -0.0823, -0.3381]],\n",
              "\n",
              "         [[ 0.2500,  0.5900, -0.7105],\n",
              "          [ 0.1072, -0.0195, -0.3008]],\n",
              "\n",
              "         [[ 0.3125,  0.6167, -0.7221],\n",
              "          [ 0.0937, -0.0278, -0.2384]],\n",
              "\n",
              "         [[ 0.2701,  0.6041, -0.7217],\n",
              "          [ 0.1246,  0.0160, -0.2576]]],\n",
              "\n",
              "\n",
              "        [[[ 0.1484,  0.3899, -0.4323],\n",
              "          [-0.0228, -0.1202, -0.3860]],\n",
              "\n",
              "         [[ 0.2304,  0.5398, -0.6402],\n",
              "          [ 0.0523, -0.0900, -0.3528]],\n",
              "\n",
              "         [[ 0.2633,  0.5936, -0.7130],\n",
              "          [ 0.0741, -0.0823, -0.3381]],\n",
              "\n",
              "         [[ 0.2500,  0.5900, -0.7105],\n",
              "          [ 0.1072, -0.0195, -0.3008]],\n",
              "\n",
              "         [[ 0.3125,  0.6167, -0.7221],\n",
              "          [ 0.0937, -0.0278, -0.2384]],\n",
              "\n",
              "         [[ 0.2701,  0.6041, -0.7217],\n",
              "          [ 0.1246,  0.0160, -0.2576]]]], grad_fn=<TransposeBackward0>)"
            ]
          },
          "metadata": {},
          "execution_count": 29
        }
      ]
    },
    {
      "cell_type": "code",
      "source": [
        "context_vector.contiguous().view(2,6,6)"
      ],
      "metadata": {
        "colab": {
          "base_uri": "https://localhost:8080/"
        },
        "id": "STuSy2pY7B6p",
        "outputId": "4ddcdc8f-7334-4e3b-a8ca-990b5b46692e"
      },
      "execution_count": 30,
      "outputs": [
        {
          "output_type": "execute_result",
          "data": {
            "text/plain": [
              "tensor([[[ 0.1484,  0.3899, -0.4323, -0.0228, -0.1202, -0.3860],\n",
              "         [ 0.2304,  0.5398, -0.6402,  0.0523, -0.0900, -0.3528],\n",
              "         [ 0.2633,  0.5936, -0.7130,  0.0741, -0.0823, -0.3381],\n",
              "         [ 0.2500,  0.5900, -0.7105,  0.1072, -0.0195, -0.3008],\n",
              "         [ 0.3125,  0.6167, -0.7221,  0.0937, -0.0278, -0.2384],\n",
              "         [ 0.2701,  0.6041, -0.7217,  0.1246,  0.0160, -0.2576]],\n",
              "\n",
              "        [[ 0.1484,  0.3899, -0.4323, -0.0228, -0.1202, -0.3860],\n",
              "         [ 0.2304,  0.5398, -0.6402,  0.0523, -0.0900, -0.3528],\n",
              "         [ 0.2633,  0.5936, -0.7130,  0.0741, -0.0823, -0.3381],\n",
              "         [ 0.2500,  0.5900, -0.7105,  0.1072, -0.0195, -0.3008],\n",
              "         [ 0.3125,  0.6167, -0.7221,  0.0937, -0.0278, -0.2384],\n",
              "         [ 0.2701,  0.6041, -0.7217,  0.1246,  0.0160, -0.2576]]],\n",
              "       grad_fn=<ViewBackward0>)"
            ]
          },
          "metadata": {},
          "execution_count": 30
        }
      ]
    },
    {
      "cell_type": "markdown",
      "source": [
        "## Main class"
      ],
      "metadata": {
        "id": "ajqUsrFXS6Mo"
      }
    },
    {
      "cell_type": "code",
      "source": [
        "class MaskedMultiheadAttention(torch.nn.Module):\n",
        "  # deal with batches mainly.\n",
        "  def __init__(self):\n",
        "    super().__init__()\n",
        "    #input dimension will be batch, context_length * emb_dimension\n",
        "\n",
        "    self.w_q = torch.nn.Linear(GPT2_CFG['emb_dim'], GPT2_CFG['emb_dim'])\n",
        "    self.w_k = torch.nn.Linear(GPT2_CFG['emb_dim'], GPT2_CFG['emb_dim'])\n",
        "    self.w_v = torch.nn.Linear(GPT2_CFG['emb_dim'], GPT2_CFG['emb_dim'])\n",
        "    self.n_heads = GPT2_CFG['n_heads']\n",
        "    self.dim_per_head = GPT2_CFG['emb_dim'] // self.n_heads\n",
        "    self.emb_dim = GPT2_CFG['emb_dim']\n",
        "    self.out_proj = torch.nn.Linear(GPT2_CFG['emb_dim'], GPT2_CFG['emb_dim'])\n",
        "    self.context_length = GPT2_CFG['context_len']\n",
        "\n",
        "  def forward(self, x):\n",
        "    batch, token_length, emb_dim = x.shape\n",
        "    torch.Size([2, 6, 768])\n",
        "\n",
        "    q = self.w_q(x)  # 6 * (768)\n",
        "    k = self.w_k(x)  # 6 * (768)\n",
        "    v = self.w_v(x)  # 6 * (768)\n",
        "\n",
        "    # reshape the q,k,v matrices\n",
        "    q = q.view(batch, token_length, self.n_heads, self.dim_per_head)\n",
        "    k = k.view(batch, token_length, self.n_heads, self.dim_per_head)\n",
        "    v = v.view(batch, token_length, self.n_heads, self.dim_per_head)\n",
        "    # Attention score calculation\n",
        "    # interchange context with head\n",
        "    q = q.transpose(2,1)\n",
        "    k = k.transpose(2,1)\n",
        "    # now it is first head, second head for the first batch then first head, second head for the second batch\n",
        "    #batch,head,context_length,dim_per_head matmul batch,head,context_length,dim_per_head and if you want qkT , transpose k with 2,3\n",
        "    attention_score_inter = q @ k.transpose(2,3) # batch, head,context, dim_per_head\n",
        "    boolean_mask_matrix = torch.triu(\n",
        "        torch.ones(self.context_length,self.context_length).bool(),\n",
        "        diagonal=1)[:token_length, :token_length]\n",
        "    attention_score_inter.masked_fill_(boolean_mask_matrix, value=-np.inf)\n",
        "\n",
        "    attention_score = attention_score_inter / np.sqrt(self.emb_dim)\n",
        "    attention_weight = torch.softmax(attention_score, dim=-1)\n",
        "\n",
        "    v = v.transpose(2,1) # also group by head\n",
        "    # context vector is this scale multiplied with v\n",
        "    context_vector = attention_weight @ v\n",
        "    # now change it to head, context_length, dim again (see scratch pad)\n",
        "    context_vector = context_vector.transpose(2,1)\n",
        "    # then combine the first 2 values for each\n",
        "    context_vector = context_vector.contiguous().view(batch, token_length, self.emb_dim)\n",
        "    # contiguous to have everything in one memory\n",
        "    context_vector = self.out_proj(context_vector)\n",
        "    return context_vector"
      ],
      "metadata": {
        "id": "VEJ9clYjC4m3"
      },
      "execution_count": 161,
      "outputs": []
    },
    {
      "cell_type": "code",
      "source": [
        "torch.triu(\n",
        "        torch.ones(1024,1024).bool(),\n",
        "        diagonal=1)[:6,:6]"
      ],
      "metadata": {
        "colab": {
          "base_uri": "https://localhost:8080/"
        },
        "id": "UKF4Mrw24FR7",
        "outputId": "9ea28a6d-cb8c-400f-879e-d4c509523ddc"
      },
      "execution_count": 32,
      "outputs": [
        {
          "output_type": "execute_result",
          "data": {
            "text/plain": [
              "tensor([[False,  True,  True,  True,  True,  True],\n",
              "        [False, False,  True,  True,  True,  True],\n",
              "        [False, False, False,  True,  True,  True],\n",
              "        [False, False, False, False,  True,  True],\n",
              "        [False, False, False, False, False,  True],\n",
              "        [False, False, False, False, False, False]])"
            ]
          },
          "metadata": {},
          "execution_count": 32
        }
      ]
    },
    {
      "cell_type": "code",
      "source": [
        "#testing\n",
        "embeddings = torch.randn((1024, 768)) #context, emb\n",
        "embedding_batch = torch.stack([embeddings, embeddings], dim = 0)\n",
        "embedding_batch.shape"
      ],
      "metadata": {
        "colab": {
          "base_uri": "https://localhost:8080/"
        },
        "id": "CYZ9p4ZZWnW8",
        "outputId": "b3684b20-f459-47bc-c66b-862e1a451797"
      },
      "execution_count": 33,
      "outputs": [
        {
          "output_type": "execute_result",
          "data": {
            "text/plain": [
              "torch.Size([2, 1024, 768])"
            ]
          },
          "metadata": {},
          "execution_count": 33
        }
      ]
    },
    {
      "cell_type": "code",
      "source": [
        "mma = MaskedMultiheadAttention()"
      ],
      "metadata": {
        "id": "FeO5JXN6WrdE"
      },
      "execution_count": 34,
      "outputs": []
    },
    {
      "cell_type": "code",
      "source": [
        "context_test = mma(embedding_batch)"
      ],
      "metadata": {
        "id": "rP99FZiICDzm"
      },
      "execution_count": 35,
      "outputs": []
    },
    {
      "cell_type": "code",
      "source": [
        "context_test.shape"
      ],
      "metadata": {
        "colab": {
          "base_uri": "https://localhost:8080/"
        },
        "id": "4McyHfpyCMbD",
        "outputId": "9bfbd52a-ec16-4327-a62d-b8bb56ad8ff3"
      },
      "execution_count": 36,
      "outputs": [
        {
          "output_type": "execute_result",
          "data": {
            "text/plain": [
              "torch.Size([2, 1024, 768])"
            ]
          },
          "metadata": {},
          "execution_count": 36
        }
      ]
    },
    {
      "cell_type": "markdown",
      "source": [
        "# Transformer block"
      ],
      "metadata": {
        "id": "ezQwSt-XE35Y"
      }
    },
    {
      "cell_type": "code",
      "source": [
        "class TransformerBlock(torch.nn.Module):\n",
        "\n",
        "  def __init__(self):\n",
        "    super().__init__()\n",
        "    self.layer_norm1 = LayerNormalization(1e-5)\n",
        "    self.layer_norm2 = LayerNormalization(1e-5)\n",
        "    self.masked_multihead = MaskedMultiheadAttention()\n",
        "    self.dropout = torch.nn.Dropout(GPT2_CFG['dropout'])\n",
        "    self.ffn_with_GELU = FeedforwardNetwork()\n",
        "\n",
        "  def forward(self, x):\n",
        "    # implementation of transformer with shortcut connection\n",
        "    first_shortcut_addition = x\n",
        "    x = self.layer_norm1(x)\n",
        "    x = self.masked_multihead(x)\n",
        "    x = self.dropout(x)\n",
        "    x = x + first_shortcut_addition\n",
        "\n",
        "    second_shortcut_addition = x\n",
        "    x = self.layer_norm2(x)\n",
        "    x = self.ffn_with_GELU(x)\n",
        "    x = self.dropout(x)\n",
        "    x = x + second_shortcut_addition\n",
        "\n",
        "    return x\n"
      ],
      "metadata": {
        "id": "ZD4yPxgcC5yG"
      },
      "execution_count": 162,
      "outputs": []
    },
    {
      "cell_type": "code",
      "source": [
        "#testing\n",
        "embeddings = torch.randn((1024, 768)) #context, emb\n",
        "embedding_batch = torch.stack([embeddings, embeddings], dim = 0)\n",
        "embedding_batch.shape"
      ],
      "metadata": {
        "colab": {
          "base_uri": "https://localhost:8080/"
        },
        "id": "azzhctaIGMfy",
        "outputId": "404fa97d-2d5f-4e48-f43d-89742a988fce"
      },
      "execution_count": 38,
      "outputs": [
        {
          "output_type": "execute_result",
          "data": {
            "text/plain": [
              "torch.Size([2, 1024, 768])"
            ]
          },
          "metadata": {},
          "execution_count": 38
        }
      ]
    },
    {
      "cell_type": "code",
      "source": [
        "trf = TransformerBlock()"
      ],
      "metadata": {
        "id": "1fD6cKDOHFhl"
      },
      "execution_count": 39,
      "outputs": []
    },
    {
      "cell_type": "code",
      "source": [
        "trf_output = trf(embedding_batch)"
      ],
      "metadata": {
        "id": "SOwMlaTnHP-H"
      },
      "execution_count": 40,
      "outputs": []
    },
    {
      "cell_type": "code",
      "source": [
        "trf_output.shape"
      ],
      "metadata": {
        "colab": {
          "base_uri": "https://localhost:8080/"
        },
        "id": "8W5NPIsbHe0f",
        "outputId": "ed6b5b5f-656d-460a-8fb5-d035d34abf87"
      },
      "execution_count": 41,
      "outputs": [
        {
          "output_type": "execute_result",
          "data": {
            "text/plain": [
              "torch.Size([2, 1024, 768])"
            ]
          },
          "metadata": {},
          "execution_count": 41
        }
      ]
    },
    {
      "cell_type": "code",
      "source": [
        "trans = torch.nn.Sequential(\n",
        "    *[TransformerBlock() for _ in range(GPT2_CFG['n_transformers'])]\n",
        ")\n",
        "\n",
        "trf_output = trans(embedding_batch)"
      ],
      "metadata": {
        "id": "3OzCpXiQsZYS"
      },
      "execution_count": 42,
      "outputs": []
    },
    {
      "cell_type": "code",
      "source": [
        "trf_output.shape"
      ],
      "metadata": {
        "colab": {
          "base_uri": "https://localhost:8080/"
        },
        "id": "R6H_RCMztOhU",
        "outputId": "31dec4a8-3c36-4223-a498-f30b2e19e3fe"
      },
      "execution_count": 43,
      "outputs": [
        {
          "output_type": "execute_result",
          "data": {
            "text/plain": [
              "torch.Size([2, 1024, 768])"
            ]
          },
          "metadata": {},
          "execution_count": 43
        }
      ]
    },
    {
      "cell_type": "markdown",
      "source": [
        "# GPT2 implementation\n",
        "\n",
        "![GPT-2-model-architecture-The-GPT-2-model-contains-N-Transformer-decoder-blocks-as-shown (1).jpg](data:image/jpeg;base64,iVBORw0KGgoAAAANSUhEUgAAA1IAAAKFCAYAAADGatgkAAAABGdBTUEAALGPC/xhBQAAACBjSFJNAAB6JgAAgIQAAPoAAACA6AAAdTAAAOpgAAA6mAAAF3CculE8AAAABmJLR0QA/wD/AP+gvaeTAAAACXBIWXMAAD2EAAA9hAHVrK90AAAAB3RJTUUH5wsBEBweCKcUoAAAgABJREFUeNrs3Xd8FNUWwPHfzG56byQQCBB6aKFKl947CIIUQUXlqViwggIWRAQrIoKoFAGVIr03pfcOEmoogSSkt83uzrw/NlmJFFEp2eR83yfvPTazU+7MbObsvfccRdd1HSGEEEIIUWBpGqRnQFIKpKZBlgmsVpCnQHEvKAoYVHBxAU8P8PWx/a9BLWDHKYGUEEIIIUTBpOuQlg5X4yElFSwWaRNx/xkM4OUBRQLBx9sWaBUEEkgJIYQQQhRAFitciYXYeAmgRP5gUCHQH4qFgJOT4x+PBFJCCCGEEAWM2QzRlyAhSYbvifzHxwtKlgBXF8c+jgI2UlEIIYQQonCzWG1B1LVECaJE/pScCucuQLbZsY9DAikhhBBCiAJC123D+a4lSluI/C0lFS7F2BKhOCoJpIQQQgghCojUdNucKCEcwbVEWyZJRyWBlBBCCCFEAWA2W7gaq0tiCeEwNA2uxtlS8TsiCaSEEEIIIRyc2Wxm+nezOXsutsCklhaFQ3qGrbaZI5JASgghhBDCwW3evJnz0cl4+wRJggnhUDTNlnzCERnl9AkhhBBCOK7Y2Fg2bNhIm/bPYjCoBTKQkl42m4IaJKdn2Ib3GQyOtd8SSAkhhBBCOLAlS5ZQq1YdgoOLO+wQqVtRFLBaLWSkp1PYS58qCri5e2A0OhW4gMpstqXtl0BKCCGEEELcF1arlVq1alG6dAWiLxesY1MUsFrMzJvzBTv2b8Dg4ly4z7XZTER4JIOeeBNXV48CFUxZNcdMOKHohT28F0IIIYRwcNnZcDwKTNkF55gURWfR/KmsOrKCliOH4+bjU6grDFtMJjZ8/DmRXpUYOPgNDAZjgWkOowEqlAUPdwfb70J7NQohhBBCiHxJVWHjul9ZvnMhnT//kOIRVdBw4Mqtd4GCSqexY1jw3Cv4LZpOt55DAJk89iBJICWEEEII4WByBxQpBTALg8EA+3b/xo9LvqLl2DcJjaiMFSmOpaPhX7wE7ceOYsmwN/HzK0Kzlt3QCnd8+UBJ+nMhhBBCCAdisVhYsGABsbGxBe7YVBWiTh5h6syxPPTKEMo1bISGg1ZrvQc0rIRGVKbl6Nf5cclX7Nvzm8MlaChQ16s0gRBCCCGE49i1axdRUVH4+fkVqONSVbgSE83kKW9Tvn9nIjt1kiDqJjSslGvYkHqvDGHazLFEnTyCKk/0D+aalSYQQgghhHAMKSkprFy5kh49euDsXHCy2CkKJCclMHnySPxaRNLg8QHoMv3nljSsVO/cifIDOvPVlJFciYmWYOoBkCYXQgghhHAQS5cupUKFCpQvX77AHJOigCkrg2lT38VU1pfmL76AajQAklj6dnSgwcAB+LeoweTJI0lOSpDCxfeZBFJCCCGEEA5A0zRKlChBx44dC8wx5Rbc/XHWp0Qbr9Hu7TdxdnNDlyDqDuioRgPNX3wBU1lfWyCalSHB1H0kgZQQQgghhANQVZUmTZrg6+tbgI5KZ8mi79h1aRcdPxiFh58feiFPc/7PWk/H2c2Ndm+/SbTxGj/O+hSr1SLB1P26J6UJhBBCCCHE/aaqsGn9ryzfuYD2Y0fhX7yEBFH/go6Gh58fHT8Yxa5Lu1iy6DtkWOR9uoalCYQQQgghxP1kMMD+vb/bakWNfo3QiMqSoe8/uL7G1PKdC9i0/ldJPnEfSBMLIYQQQuRTmqaxZs0arl69WmCOSVXh1MkjTJ3xAQ+9fBdqRek6msWCfrvKtLqOOSsLS5ap4F4r9hpTr/Hjkq/Yv/d3qTF1r69laQIhhBBCiPzpyJEjbNu2DS8vrwJxPLZaURf4asrblO/ficjO/61WlIJK0uUYZg16hu3fz0JBuckyChlJycwe/AzzX3oNcwEPpso1bMRDLw9h6owPOCU1pu7t9SxNIIQQQgiR/2RmZvLrr7/SpUsX3N3dHf54rq8V5ds8kgaPD7wrtaJMaWkcXbmay4ePAspttq+iqOrtlrhpIHbzpZQ7Wgruf9YHDSuRnTtRvn8nvpryNldiLkgwdY8YpQmEEEIIIfKf1atXU6RIEWrUqOHwx5JbK+rbqe9hKuNNm5eeRzUa7mKac+WWMYuOjpuvD32nfYWiKBhdXf78naahKAYURcGUnoY5KxMXD0+cXN1uSHyhoKJZrWSmJqNZrbh4euLs4panR01BQbNayc7MwGq2YHAy4uzugUE15llO13XQdRTVgIqKpmuAxt1Kt6cr0ODxgayOjWfy5JG88sqnePv4o0sOirtKAikhhBBCiHxG0zRcXFzo1q2b4x9MTq2oObM+5Zwxjh5vj8fZzf2+ZuizZmezZtwE3Hx8aP7ScxhUJy4ePsSGT7+kevcuxJ86w/4Fi0iLv0ZQmXBavPwCFZo3tQd6CgrR+/bx2+SpXNh/EGt2Nn4lilP/iYFU79IJ1WhAQeXEhg38PnkaiRcvYc7MxMnVlaJVImj01GBK1asL6Cio7PnpJ05v2U6r4S8SvW8/x1atRdc0Wr/xCkXKlrsLbWOrMdXipedZ8tYovp36Hv97/gNcXN0lmLqLJJASQgghhMhnVFWlXbt2BeJYFHSW/vo9Oy/uosekCXj4+9/nNOcKVrOFY6vW4l00hGbDhoKqkHLlKnvmzef42vV4BgZSsnYtdF3jyPJV/PTcywxdvpDA0qVRgFNbtzFr0NN4Fw3mof59MLq6cnz1OuY98wK6VaNWr54oKFw5eoKky5cpWbsmnkWCSL92jSPLVnF6yzaeXvQTRSMiUFC4dPAwu2bO4eqJk8RFncLVxxuDkxMZiUkoKHeln85WY8qddm+/yYKXXmPOrE8ZMPh1VINRsqPfJRJICSGEEEKIe8JWK2oxy3bMp/NnY/EvEfbA0pwrNxk2p2saEW1b02H0CPxCQ1FQ2TzlG355YTjndu6mSOmyZGaksGrseHxCi/LkTz/iVyQUgIf69uWbnr35/ZtvqdKxLS7uHtTt34f6g/vj5uGLii1l3uGOK5ja/VH+2LiZYhFVAB1FUchKS8O3eDG6jX+fwPBSaFYNF0+Pu9o+Ohoe/v50en8U858bjt+v39O1x5PoSMXeu0ECKSGEEEIIcdcZDLBvz+/MXjyJlh+8QWjlKvmuVpRqMFCpZQsCQ0thIRsFKBFZHaOzM6mxcSioxJ06zflde6j3eH+Sr8SQePGC/b3+JcM4vnodaXHxuJT0xMPXn9T4OM7tXEfc6TOkxsZx7dx5rGYLGQmJ9u3qmo53kSDaj3yT4LLl0bDYXr8HXUU6Gv4lwugw9h2WvPgWfn5BNG3RFU1qH/9nEkgJIYQQQuQTO3bsIDw8nCJFijj0cdhqRR211Yp66SnKNWqcbwvu6mh5hhoaXV1siTA0DQXbEMCstDT2zP2ZI8tX2hJFAKBgzszE3c8XzWpFAQ4tW8aKMWNJunQZj8BAPAL8UBTVVuNK1/lzTJ1uyyBoVNGw3pMA6noaVkIrV6HlqFeZPWIcPr6B1KzdCKvUQP5PJJASQgghhMgHTp8+zfLly3nllVcc+jj+rBU1knL9OhHZpXO+DaLuhKLYUpk//NwzRPboimaxXPdLMBid8A8rQeyZ08x/6XU8gwIYPG8GRSMq4eLtxbUz5/j04dbXBWAPhoaVco0ak/byNaZ+8j7DvSdSplxl6Zn6DySQEkIIIYR4wCwWCwsWLKB169b4+vo67HEoCiQn59aKqk7DQXenVtQdbRsF5S6XSNXR8C1eDFdvL1KuXCWkXAWuz9SgoNp7k67+EUXihQu0ffM1KjVpiQUTKkYMBqd8c35sNaY6kxobz1dTRvLa8C8IKVpCgql/ScpzCSGEEEI8YJs3b8ZoNNKgQQOHPYbra0VllfGixYsvoBoN3I8UcYoCWWlpJF25RNLlvD8ZSYn/er06GoFlwqnYqgW7Zs9j19y5ZGWkYdUtZJsyuHD4AFumT8eUmYaLpweqwUjM8eOkZyZitZi5duk822fOIj0h8abJLh4EXYGGgwbi27w6kyePJDk5gXyyaw5HeqSEEEIIIR4gXddJSUmhR48eGAwGxzyI3FpRsz/jnJpTK8r9/tWKUgwG9v20gJMbNud5XbNYqPFINzqMHnHrcE6/9Qs64OTsSvt33iTlyhXmPvMCv02eim+xoqRdSyDm6DGKRlSiVq8elIisTuV2rdn81Tec2b4TNx9vEqMvoBqMqAZDPso4nlNj6sUXWDIip8bUc1Jj6t8wjB49erQ0gxBCCCHEg6EoChUqVMDPz+9fr8NqhfgEHljyAEXRWbLoOzZFbaTrxLH4hITclyBKsW0cN28vwmrXpHj1qhSPrGb/CY2sRqm6tQmpWAGjiwsla9WkaOVKtnlPKngGBVKmcQM8g4KwB1CKgpuvD2UaNcA3tBg6Gp4BgVRu15qgMuGYs7IwZWTgXSSIWo/2pOlzz+BdLAQnFzfKNGqAi6c7GYmJuHp5U+vRnrR89UUCSpYgvEE9/EuGkZtoIqhcGUrXq4uTq+sDOWdGJ2dK1q3N9tWLif/jNNWq10dRH8xgNVWFQH9wzj+jIO/s+tMf9Mw3IYQQQgjxn2Rnw/EoMGXf/23bakX9yqwVX9P587EPIM25gooKt6iNlJuVz1bXSUfLCfBy51TZfq/fsD4dPU8waFveYMuyp1lRFBVVMebJ+pc7R8tqMaOoKgbViI6eU2RXz7OcgvLAk3AoqCRcuMCC54bTrlpHW40p/f6P8zMaoEJZ8HB3rPtO5kgJIYQQQoh/xWCAA/u2MHvxJFqMfvUB1YrS0bCiYbnpT27wYltGu+5d+i1Sj+e+rv3lVT2n3pOtRwmFPOvPfaeOhmo0oKiKfT1/XV/uaw+ajkZATo2pZdvns3nDYlSJDu6YNJUQQgghxANw9OhRrl275rD7r6pwKuoo3/zwPnVfeory+bhWlLi13BpTLUa9yuzFkziwbwuOOlXvvt8D0gRCCCGEEPfX5cuXmTt3LpqD5p1WVbh65QJfTXmbcv06UsPBa0UVdhpWyjduTN2XnuKbH97nVNRR6Zm6k/tAmkAIIYQQ4v7RdZ2FCxfSoEEDgoKCHG7/FQVSkhOZPPltfJtWpcGgx9ElfbbD07BSo0tnyvXryFdTRnL1ygUJpv6GNI8QQgghxH20a9cukpOTadGihcPtu6KAyZTJt1PfI7O0Jy1eGobhPtWKEveerkCDQY/j27Q6kye/TYrUmLotCaSEEEIIIe6js2fP0r17d1xcXBxu361WC3NnfcpZ9Srt33krp1aUBFEFh47BaKDFSy+QWdqTb6e+j8mUKcHULUggJYQQQghxH/Xo0YOKFSs63H4ris6yxT+w/cIOOn4wGg9///tWcFfcPzo6zu7utH/nLc6qV5k761OsVos0zE1IICWEEEIIcR85OTmhONhX/KoKv21cwtJtv9D+g3cIKBEmQVQBpqPh4e9Pxw9Gs/3CDpYt/kF6pW52X0gTCCGEEEKIW7HVitrKrF+/pMWo4RSvUlUy9BUCuTWm2n/wDku3/cxvG6XG1F8ZpQmEEEIIIe6tc+fO4evri6+vr0Ptt6rC6VPHmDZrLPVeeZoKjZvaCs4ihYYKi7AqkbQa8wY/vv0Rvn6BVK/REAfN2n/XSSAlhBBCCHEPJSQk8P333zNkyBCHCqQUBa7EXGTixy/iUrs0fiVLcO7AHjmhhZCzlwfBD9fik09f4Z13viO8bAS6BFMSSAkhhBBC3EuLFy+mcuXKhIaGOtR+KwpER58EQD2VwM63PpX8fIWZDh5unpw5fZQyZSPkWkACKSGEEEKIe+bo0aOcO3eOV1991eH2XdOgZq2mVKvWAF3XkVpRhZ0CioLR6CRD+3JIICWEEEIIcY/s37+fTp064enp6ZD7r6oqzi6uciKFuAlFt33FIIQQQggh7rKMjAxcXV1R73G6s+xsOB4Fpmxpc+F4jAaoUBY83B1sv+XUCSGEEELcG+7uDvZkKIS4YxJICSGEEEKIO6KqtiQUVitousyaKtDnWrHVEENH5kTdggRSQgghhBB3UWxsLG5ubnh5eRWYY1IUAJ0LF6P549AmkmMOopmS0SWUKrBUozvuAeUJr9yUMmUrYzQYkAlBeUkgJYQQQghxl6SlpTFt2jT69u1bYAIpRQFTtonNa2aRfnAi9fxPUtpPw81HzndBZrbC5QSFXQtDOFJsEM06v4y/f4DUj7qOBFJCCCGEEHfJypUrCQkJoXTp0gXmmCwWC6sWfkrYxfd4umYGHi6OPaxPwRYcKjn//i/HogAG1bYOrYD11ihAyUCduiVj+P3MOFbNiqb9wC/w9fGTnqkcqjSBEEIIIcR/d+7cOQ4cOEDXrl0LzDGpKuzdvY6Ac+N5tHoGrk5g0XKCDwf7UbD9pGTB6Xg4dBn+iIX4dNscIFX5Z+sDuJwMX2+BozG2dTtam9zuR9PBqtkarWk5jYeNc/ht5TcSRF1HeqSEEEIIIe6CLVu20LJlSwICAgrMMWVkmji781uGlk+097w4IlWBmBSYsweWH4VLybaha6oC/u5QswR0rgrNyoGL8c7XefYavL0MxneBKkULXq9ULqsGD5fR2Lt3Bpcv9yU0NEwCKiSQEkIIIYS4Kzp27OiwhXdvRlXh6tWLBJl2Eezt2EHUiaswbAEcvgztIqB/HfB2hcRM2HcB1p+EtSdg6dNQOQSset735/prGyjKzbepcPPhgrd63RG4OkEVrzOcO32AEiXCsFrlnpdASgghhBDiLvD19S1Qx6MokJx4lUDnJAyqbUifQx5DJoxcBsevwOc9oFt1cDb8uYxFg6g4mLsXjOqfgY6q2HpiLqdAcha4O0GIt63H6nZBpcliC8TcnP6chwWQbQWLNed1xfHaUgeCPbI5mRAtuRpzSCAlhBBCCCFuymIx46Y4bteDQYFNp2DDSXihKfSsAeg3BoUVisDINn/ODVIViE6ELzbBxijIMNuSStQJg9dbQsXgW2/z801wMhY+6Q4+brZ1qgrM2gVr/4DPukMxH8fs4TOqoFlMcmPktoc0gRBCCCHEv5OSkoLRaMTd3V0aIx+y6vD7KXA2QsfKOb1M1wUwuR1Dum4LunTF1lsUl2YbChidAM80grJBcD4BvtgMw3+FGf0g6BbZ7U/Hw8FLtt4n+3ZyArN9F2w9VqJgkEBKCCGEEOJfMJlMfPvtt3Ts2JHy5ctLg+RDZiucT4QADyjqQ54ECSZLTla6HIpiG7bnpMKig7ZgaPYAWwIKXbfNGQvwgKfnwc5z0KXabTacmyJQFGgSSAkhhBBC/AsbN27EaDRStmxZaYx8StNtwZRByelxynndbIVRK2DXeduQPQXwdYNxXaC0v204oJcLXEyCX/bb3qcqtn/rOkTFS9sKCaSEEEIIIf6xq1ev8ttvv/G///0PVZWynPmVUQU/d1vtqOQsW7IIHVvvU3Ff2+sGFfZfsGX2y8i2JYWIS4MrKfDpxpzEENf1ZIX62oIsSbggJJASQgghhPiHNmzYQP369QkNDZXGyMecDFC1GCw4AHuioVIIaFZbgPVcE1tPlEGFd1fB5N9t71EV22uVi9rmQrk63Rg0eTjbivjeiq4jkVYhIF+hCCGEEEL8Q82bN6d169YF/jgNBgNW3XEfF3UdWlWAYC+YuhVOx4HRYAuWFADF9v9za0Xpui1wqhgM5xJsvVhFvaGIp+0nxMv2vy7GW9eJcjbYerZMlj/XrSp5k084Kk0HRZV+mFwSSAkhhBBC/EPBwcG4uLgU6GPUdfDyDiTB7HXb3pf8TNNtPUsvPAxHr8CQebDsCMSkQIoJ4tPgwCU4fvXP2k4GBXpUt/U4jVwGu6L/HBp4JAY+Xg/bz9p6rf5KVaFcEYhNhWVHbUMEzyXYert+PWRbt6NSgPgMIx6+xSSPRg4JKYUQQgghxA10HYJDwtijViMhIwY/j7xZ7xyFAjzVENyc4avfYPCPth4qLxfIskBChq0XqXNVCPa21ZhqUBre6wjj1kKPb23zqcAWgBkUqB32Z1I+9boMfboOHavYhhKOWAZTtth6pnzdoIgXXE113OvBbIVjKaGUD490yOvgnlxbui5NIYQQQgjxd7KyslAUJV/2RGVnw/EoMGXf3fWqKmxcMxf/Q0/waGSmQxaRhT+H8V1Mgt3nbT1QyZng6QLlg6BmCSgVYEt9rl/3nlPxsPUMnL1mey080FaUt2wgOBltPU5bTkNkKJQOtAVSigKn4mDpEYhJhtIB0L6yrVfrXIItnbqns2NNoTKqsOMsrFKG03XgRxjucoIVowEqlAUPByvHJoGUEEIIIcTfsFqtfPvttzRp0oRKlSrlu/27V4GUokBmVhZLZr5OA/NXtCpvxWCwDXtzxAfIv86HImeulK7bhgHqt1j++uBK58/jV3LSqms57//r+zT9z/9Vcpa36o7Rs5e7vwpw+DLMvdySFo//QEhw6F3ff0cNpGRonxBCCCHE39ixYwdJSUmFrmaUroObqyvt+rzLukU+nNozhSahcRT3BWd5iizQrFaIS4edl9w55tSNJn3fpWhIqMPOl7sXpEdKCCGEEOI2kpOTmTBhAgMGDKBcuXL5ch/vVY9ULkUBi9XCieP7OXVgKeb4Q6iWFCTHd8GlG9xQvMpRPKItVSMfxsPD/Z4FUdIjJYQQQghRAK1du5ZKlSrl2yDqftB1MKhGqlatQ+UqdTCZzFgsFrk4CjCDwYCLixMGg4KuIT1RNyGBlBBCCCHEbdSuXZvAwEBpCP58mHZxdsLF2UkapDCc8wJQ/+pekUBKCCGEEOI2SpUqJY0ghLiBFOQVQgghhBBCiH9IAikhhBBCiL+wWCwyB0gIcVsytE8IIYQQ4jq6rvPzzz9TvXp1KleuXGjbQVXh4IEdLPn1WwzOzo5R/EjcO4qC2ZRFi5aP0KhxO0k+gQRSQgghhBB5HDx4kKioKLp27Vro28LLy5cTf+wjsEkk1Tp1QLNK5oHCSDUYOLVlG3/8vIGuXZ+UBskhgZQQQgghRI7MzEyWLFlCly5dcHd3sKI2d5mmQXiZigwf/gVf//g+ngGBlKvXCA0JpgoTFQOX/zjKzknf8cJz46heo4H0RuWQQEoIIYQQIsf69esJCQkhMjJSGgNbMFWjViP6JD7N7LfH4vr5h4RGVJZgqpBQUIm/GM3S19+mba0uPNysiwRR15FkE0IIIYQQOcqWLUvPnj2lIa6jadC0RVc6PNSDFW+NIeHiBRR5hCzwFFQyEhNZNmIMdUPr0LnbYECRhrmO3AVCCCGEEDkqVqyIv7+/NMQNFDp3G0zd0DosGzGGjMRECaYK9NlWyM7MZMV7HxJmCaBv/5cxGIySb+Qv5A4QQgghhBC3petgMBjp2/9lwiwBrHjvQ7IzM1Gkh6IAUtAsVjZ89iXOUUk8NeRtXF3dJYi6CQmkhBBCCFGoaZqGJhM//paug6urO08NeQfnqCQ2fPYlmsWKDPcqWBRg24yZJKzfx//+9z4+vgESRN2CBFJCCCGEKNRWrFjB8ePHpSHugK6Dj68//xv6Pgnr97FtxkwJowoQFQMHlyzj5MzF/O/p9wkpGibJJW7bXkIIIYQQhVRUVBQ7duwgNDRUGuMOaRqEFAvjf0+/z8mZizm4ZBkqBmkYB6diIGrrVnZM/IanBoygXIUqEkT9bZsJIYQQQhRCZrOZhQsX0rZtW3x9faVB/gFNg3IVqvDUgBHsmPgNUVu3SjDlwFQMXD52lHWjP6Jv56HUrN0Eqb18J+0mhBBCCFEI/fbbbzg7O1O/fn1pjH/BaoWatZvQt/NQ1o3+iMvHjkow5YAUVBIuXmD5W+/Svm53mrXoJj1Rd0gCKSGEEEIUSv7+/vTu3RuDQR7+/y1Ng2YtutG+bneWv/XuA6oxpaBi+NvtKqiSZfAmbZKRmMiykWOoU6w2Xbo/gSQPuXMSSAkhhBCiUKpRowbFihWThvjPFLp0f4I6xWqzbOT9rTGloJB+LZ41Ez7h2Jo1twiUFEypaax47wPWf/IF1uxsOWU5bWfOzGTl++MIy/bnsQFSK+qfkkBKCCGEEEL8a7k1ph4b8DJh2f6sfP9DzPetxpRCWvw11oybyNEVa7hZb4oCmE0mjq9ez8nNv6NZJWV7bq2o9Z9/idPJRJ58+h2pFfUvSCAlhBBCCCH+k9waU08+/Q5OJ5NY//kDqDF1i03p6Lj7+fLEz7PoO3USRldXQEdBQcWIgmobGqgr6JqWMwRQvcnqbUMI0fVbLmdblxEFBV3Xc14x3mI5g32tKkb7++5XU22fOYuEdfsYOvR9fKVW1L9ilCYQQgghRGGxefNmgoKCiIiIkMa4y3QdfH0DGDr0fcZPfIHtRWbRcPDj5Ifnc13TiNr0O84e7lTt1B5FMXDt/DkO/rqUCs2akhoXx8FFS0i5cpXgShWoN7AfRcqWRceWdUFBJeXqFfYv+JUz23ZiycqiSIVy1Ordk+LVqqLnBGaXjx3j8JLlxJ85iyktDRcPD4pHVqda1474hRZHR0NBIeq334k5dpzavXuRdPkSZ7Zux2qxENm9Cz4hIej3sNVUDBxYuoQTM35l+HMTKFpMakX9WxJICSFEIafrOnFxcVy8eBFFUQgLCyMgIEAa5jrp6elcunSJokWL4uXlddfXHxMTQ1ZWFmFhYZL44B66dOkSq1ev5oUXXpDGuEc0DYoWC+N/T7/HhEnD8QwKJLJTZzQeZC5tBYspmw2ff4V3SDBVOrRFUVViT55iyVujCa5QnszkZDwDA9A1jSPLV3F2204Gz5uBV1AQoBB3+jRznn6O+DPnCG9YDzdfHw4tXsa+XxYy4PuplGnYAAWVo8tXsfGzSQSVK4OHvz9Jly6z75dFHFi4mIGzvsW3WCgKCkdXrmbrtO+5dOgIx1evJSMxCaOLC8Ujq+EbUgz9HrWXioFT27ayY8I3DO3/DuUqVJU05/+BBFJCCPEfpaamMm3aNOLi4lAU27AMVVVRFAVN03KGd9h069aNOnXq5Kv9//XXXxkzZgwxMTHous4rr7zC66+/XuDP26JFi9i9e7f93waDAQ8PDypUqEDjxo0JDAy0/27Xrl0MGjSISZMm0bFjx7u+L2PHjuXgwYP8+uuv+Pv7y011D2iaxoIFC2jSpAkhISHSIPe0raFchaoM6T+CyRPexTMggLINGj7gYOrmI/80qxV3fz96fj6eEjUiAVg7/hPWfvQJZ3fsIrJTZ8yWLFaNHU/y5Ss8tWAOYTUiUVCJPXOaaT37sv7TLylZpxZGZ2cie3SlWpcO+IWVwMnVFc1qZdfsufw09EWOr1lPg8cfB3QURSH9WgKXDh2hw+iRhFavimaxEFimtL0X7G5TMXD5+DHWjvqIxzoNpWYdqRX1X0kgJYQQ/1FWVharV6/mzJkz9gDq6tWrpKamEhYWhrOzsz2YioyMzFeB1Pnz53nzzTcpVqwYo0ePxmAwFJqHzKVLlzJjxgwqVqyIk5MTmqaRkpJCbGwsTZo0YerUqYSFhQFgMpmIjY0lKyvrnuxLSkoK8fHxeYJucXft2rWLtLQ0mjdvLo1xH1itULNOE/omDeXH0R/h/vk4ilWKeODB1F+pBpWGTwykYuPmWMjGgIFKrVqyfuLnJETbUrnHnz3H8dXrqPd4P4LKlCbt2jUAPAL8KduoAUeWrSQ1Lg6/0OIUCS+LZjGTdOUySZdiyEhKJDMxGUVRSbx40b5dXdPxCAzg0a8+I6x6DXvwpKPdk2F9CioJly6y/K0xtK/bjWYtpVbU3SCBlBBC/EcBAQHMnTsXi8WCoigoisLw4cNZuXIlP/30E+Hh4Wg5f7HuZFiYruvouo6q3lk+oNx132753Af03B6zXEePHuXSpUt8/PHHdOrU6V+v/07ouo6maTcMXbvV6/dqP67fbkhICD///DMlSpTAarWSnp7OpEmTGD9+PEuWLOG5557L856/tt+/2Tdd12+6nlutW9w9vXv3xtnZWRriPtE0aNayG4mJsSx/aww9Jk3ELzT0nvW4/DsKqErOUDodHR1nT3dUoxOa2YKCSmL0RdITEtk952eOrVqb5/M05cpVUBSyMzJRULl45BDrJ3zG6a07sGZnY3B2BnSyMzJA08EeJOkYnZ1x8/FGw3pP28ReK2rEGOoUrSW1ou4iCaSEEOI/UlX1huFYbm5uqKpKQECAfb6RpmksXLiQrKwsunXrxv79+9m9ezc+Pj706tWL3bt3s3btWi5cuIDJZMLf35+GDRvSqVMnfH19AbBarcyfPx9N06hduzYLFixgz549uLq60qVLF7p06ZLnQfH48eMsWLCAo0ePoigKZcqUoXnz5jRp0oQTJ04wc+ZMzGYzS5cu5fDhw/j5+dG/f388PT25dOkSP/30Ezt27MBisRAZGcmjjz5K+fLl7es/ceIEy5cvp3v37hgMBjZs2EBcXBzt27cnMDCQuXPnUr9+fdLT0/n555+5evUq1apV48knnyQgIIAVK1awfPlykpKSqFmzJk888cQNdX1OnDjBTz/9xKFDh1AUhZo1a9K3b19KlSoFgNlsZu7cuXh6etKmTRt27NjBgQMHCAkJoWfPnri4uNz23Hl7e+Pt7Q2An58fbdu25dNPPyUpKelvz31UVBRz587l4MGDGAwGHnroIR599FFCQ0PzLJecnMyKFSvYtGkTycnJhIaG0qxZM5o2bYqnp+dN152cnMxPP/2Eruv07t3bfg2If6devXrSCA+ErcZUYmIcy0aMocenH+Hu55fPgqm/7LGicP33GlaLBV3XqNqpHeUebpyTPv3PZZ3d3fEtVpTk2BjmPv08SZcu03L4MErVq4tXUCDJl2OY0vmRG3ucdf2eJpWwtX5OragPxlEi24/HnnkZg8FJMvTdJRJICSHEfaJpGjNmzODkyZOsW7eONWvWkJWVRYkSJWjRogU//PADv/32G+XLl8fT05MDBw4we/Zsfv/9dz7//HPc3NywWq18//337N+/n+DgYKxWK8HBwZw+fZrFixczZcoUHnvsMQB27NjBoEGD0HWdmjVrYjab+eWXX/j5559Zu3YtFy9eZP/+/ZjNZrZs2cKhQ4coWbIkvXv35uzZswwaNIgTJ07QsGFDXFxcmD59OvPnz+e7776jdu3aABw6dIi3336bY8eOsWfPHi5duoTFYiEwMJAaNWowZswYQkNDyc7OJigoCKvVyurVq9mxYwf+/v5s3bqVkiVLkpmZyYoVKzhz5gxTpkyxBz+bNm1i6NChuLi48NBDD2EymZg6dSorVqxg1qxZlC5dGpPJxOTJk+3Ht2HDBrKzs6lSpQodOnS4bSD1VyaTiS1btuDv70+TJk1uu+zevXsZPHgwSUlJ1K9fH7PZzMcff8zSpUuZPn06ZcqUASA2NpYXX3yRlStXUr16dQIDA9m4cSM//PAD3333HV26dLlh3WlpabzzzjvMmTOHDz/88J4kuBDifrDVmHLisQGvkPjFm6x8fxyd3x+Nk5vrPQ8icv2XvhcdHa8iQTi5uuIZEEid7r3RsNj3XMn5j47Ome07uLDvAF3Hv0+L515Aw4qCim7WUdQHUXFIQbNa2fDFJJz+SOCp4Z/h6uohQdRdJIGUEELcR6qqcvr0aapUqcK3335LqVKl0DSNIkWK8MYbbzB27FiCg4MxGo1kZWUxatQopk6dylNPPZVnblV2djZPPvkkvXr1IiAggKNHj9KtWzfmzJnDI488grOzM9999x0ZGRmsWLGCypUro2kaV69eZevWrbi6utKmTRtGjBjBM888w7hx42jdujWapuHi4sKoUaM4duwYs2bNolWrVqiqyt69e+nTpw/vvfcec+fOxd3dHUVRMJlMbNu2jaFDh9KkSRMURaFo0aJER0ejaRq+vr588MEH1KlTB13Xeeedd/jkk09o37498+fPp2rVqmRnZ/PCCy+wfPlyTp8+TUREBPHx8bz11luEh4czbdo0ihYtCsDWrVt55JFH+OGHHxgzZgxgSxRx4MABKleuzJw5cyhatCi6ruPh4XHLc6EoCvHx8bz++ut4enpisViIjo5m//79vPDCC7ftwcjMzOS9994jIyODBQsWULt2bTRNY+3atQwYMIBPPvmEL7/8ElVVmTx5MsuWLWPixIn069cPFxcXkpKSWLlyJUWKFLnpukePHs3cuXMZP348AwcOvGvDGYV4EHJrTD319DtMnPAiGz6fRKtXX0IxGOAuBlO6pmG1mtH/MvlH/Q+ZMHU0ipQtQ8naNdk560ci2rWiVJ06OXWhdFIT47l85Cil69UF3TZ012LKRkMDFLKzMzi9fRtZqWlwn4fvKsC2GbO5tmYPrw3/Al/fAJkXdZdJICWEEPeR1WqlatWqTJkyhaCgoDy/q1SpEpmZmZw5c4aYmBiSk5MxmUxkZWURFxeXZx3VqlXjqaeews3NDYAqVapQrVo1zp07R0ZGBs7OzmRkZJCdnc21a9cwm804OTlRtGhRevbsaV+Xi4sLiqLg5uaGq6srAJcvX2blypW0bt2ali1b2h/ia9WqRe/evfnqq684efIkkZGR6LqOs7Mz7777Lo888kie4zl//jxgm5fy8MMP219v1KgRX331FY8//jh169YFbEMhGzVqxC+//GI/1p07d3L06FGmTJmCm5sb8fHxAJQpU4ZKlSqxbds2srOzURQFi8VCw4YNmTx58i2Hyt2MxWLh/PnzuLq6ous6ZrMZf39/pk+fjrOzMy+//PJNe7SioqL4/fffeeaZZ+y9c6qq0qpVK9q0acOqVau4cuUKrq6uLFy4kEaNGtG/f397G/v7+/PYY4/dMNQnMzOTTz75hNmzZzN+/HgGDBggQdR/sH//fjw8PPIMRxUPRp4aUxOGsb3IbBoOHnjXwijVoHLo12XERp3m+i4XzWqlUusWNH7myVv3gOk32Vn7r3RcvbxpO/INZg9+hm97PkbVTu3xLxlGamwcUZt/x8nVlWeXzSe0WhWKR1Zj3YTPuHbuPB5+vlw8eJiYo8ewmEz3dVaSrVbUUk7MWMQrz02gaLGSEkTdAxJICSHEfaTrOm5ubjf0lOi6zurVq/nss884ceIEiqLg4uJCVlYWmqbZkxnk+mtiAoPBgJeXFxaLxb5sz549WbNmDT169KBWrVpUq1aNevXq0bRp09um2I6NjSU+Pp6KFSvekAAiIiKCjIwMLl68SGRkJGALIG43f+evgYCHhweqqt4QRHh4eKAoCtac+QenTp0iLS2Nd999lwkTJuRZ/ty5c1SuXNkeSAF4enraA8s7PRfBwcHMnDmTsLAwNE3DarUSHx/PqFGj+OCDD6hWrRodOnS44b0XL14kPT2dSpUq3XCslSpVYvHixcTFxeHm5sbly5dp166dPYi61Xk0mUyMGzeOH374gQ8++IDHH39cbpj/4Nq1a8yfP5+nnnpKGiOfsNWYKsnQZ95jor3GVKf/nMnP1cuLqp3ak34tAV239QTZt2mxohqNqEYjFZo1xc3XB0Wx9SZ5FQmyFcotEWoPsnR03Hx9qdq5A0HlyuS8olH+4cY8tXAu27+bwbmdezi5cTPO7u4UrVKZmo90w9nDAzdvX3p/9Smrx37M8dVrcXZ3J7xhfZoMHcK+nxcSXLGCfTtFq1Smcoe2OLu7w10e4mirFbWNHROn8Gz/tykvtaLuGQmkhBAiH9i9ezdPPPEEpUqV4uOPPyYiIoKAgADWrVvH008/fUfr+Gtw1alTJxYuXMivv/7Knj17mDNnDl988QVt27Zl6tSpNx1WBthrXxmNN/6JyA2srH/5q/xP03bfSdY6s9mMi4sLTz31FGXLls0TTCqKQkBAAG5ubvaU5P8mdbiiKDg7O+Pk5GR/LSwsjMGDBzNv3jy2bdt200Aq9/hvlmnQYDCg6zpWqxWr1YqmaXnWfzO5Qz6XLVuGs7MzO3fu5Nq1a1IY+T/49ddfiYyMtCclEflDbo2pp/q/xdcT38upMdXgXwdTOho+RUPo882Xt73PFVWl0wej7P9fw0qxalUYOPNb+79z1xdQKoz+33+Dolz/uk6J6tUp/tkETOlpmLNMGJ2dcfX0RFWN9sx7JWvVYtCcH8hMTsLg5Iy7jw+KaqBiq+YoimJPslGnby9q93kE1WC4q3PFcmtFrRv9EX07PkutOg9LEHUPSSAlhBD5QG42tw8//DBPkoPcbHL/hsFgoFGjRjRq1IjMzEyuXr3K119/zWeffcamTZvo1avXTd/n7++Pt7c3Z8+eveF3586dw9nZmeDg4HveJqGhoei6TqlSpejcufMtl7sXtZesVustg0mA4OBgnJ2dOXfu3E3byMvLC39/f1xcXPDz8+PUqVNYrdZbpnjXdZ2AgAB++OEHTp06xfDhw/Hw8GDixIn/6RoorA4fPkx0dDSvvfaaNEY+pFmhVp2H6ZMUz9zRH+H++Yf/rcaUotzRPKi/LqMoSs48rTtbn44GCrh4euHq6ZXzmp5nv3U0jC7OeBcJtv9eR7tx26p614f6Kagk5tSKale7K81adpfhfPeYDLwWQoh8QtM0MjMz7f9OTk5m27ZtWCyWf7wui8XC2rVruXTpEmCbg1SqVCkaNGiAwWC47TqLFStG/fr1Wbt2LYcPH7a/funSJRYuXEiVKlWoUKHCPW+Phx56iOLFizNp0qQ8AYuu60RHR7N169a7EkTlBk1WqxWTycSZM2f4+uuvcXZ2pnHjxjd9T/ny5alatSqLFi3i4nVFNo8cOcLq1aupX78+xYoVo0iRIjRp0oQNGzbw22+/5dnm7t27OX78uP2YgoODqVq1KoMHD2bkyJHMmzeP0aNHk5GRITfHP5SYmEiPHj1um2xEPOjPO2jesjvtandl+VtjSLx0MSeBgyPQ7f/5uyXuFwWVjKQklo4cQ+2QmnTpIbWi7gfpkRJCiHsg9wH/Th/0mzVrxhdffMGwYcNo3749iqKwe/duzp49m2fI252uT9d1vvzyS6KiomjTpg2lS5cmISGB+fPnExkZmafX66/rzE2y8Nhjj/HYY4/Rq1cvXFxcWLx4MWfPnuWbb77Bz8/vjvfpZr+/k+MIDw9n5MiRDB8+nI4dO9KmTRsCAgI4f/48GzZsoEmTJjRs2PBfnyNFUYiNjeXpp5/G3d0dq9VKWloap0+fJjU1lTfeeCNPkozr99vX15fXXnuNIUOG0Lt3b7p27Up2djY///wzAK+88oq9nteLL77I3r17GTBgAN26dSM4OJhjx46xadMmPvvsMypVqmQvwgy2YX7PP/88ycnJfPLJJ7i5ufH222/fdI6VuLnGjRtLgWOHYKsxlTA9lqUjx9Dj0/G4+/rm6xpT+bMVc2pFvT+OElm+9Hv6FakVdZ8YRo8ePVqaQQgh7q4rV67g5eVFmzZt7FnkdF3n4sWLhIaG0rRp0zzDxooVK0aFChU4duwYu3fvJiEhgXbt2jFo0CBUVaVly5b2QrUXL16kZMmSNGnSxD5UTFEULl++TGBgIC1btsTNzY2iRYuSnJzMvn372LlzJxcuXKBp06a8//77lC5dGoDU1FTS09Np3bp1nuF6xYsXp169ekRHR7N+/Xr2799PWFgYH3zwgT3QA0hJSSE9PZ02bdrcMNwvMzOT2NhYHn74YcqWLWt/PT09ncTERFq2bEmJEiXsr1+/rtz5W1WrVuWhhx4iPj6ePXv2cODAAdLT02nevDmDBw+mWLFiaJrGxYsXKV++PA0bNrzjB+iYmBicnJxwdnZGURQMBgN+fn48/PDDvP322/Tq1cs+tyktLY2kpCRatWpF8eLFAVuvVGRkJCdOnGD9+vUcPXqUatWqMX78+Dyp00NCQmjatClZWVns2rWLgwcPAtC3b1+6dOmCp6cnly9fJiAggJYtW+Li4oLRaKRu3boYjUbOnj1L2bJl7enfxd8rjEGU1QrxCTjcfBjVYCCiSm3+2LaVQ/u3Uq5xQwx/M6dQ5Lna0a1W1n/6Bdq+izz/wjg8PX0cLohSVQj0B2cHO/WKrku8KoQQd1tuYoS/Zqy71eu5MjIySE9Pz5PZT9M0VFW1Pxz+k3VrmkZGRgYmkwkXFxd7Zrxcuq7fsP7rWSwWUlJS0DQNb29vey/Lnbw/t5dFUZQ72ubt1qVpGunp6ZjNZnuq9uuX+bt2vdU5uv5PYO5+3qwdbrdv2dnZpKSkoKoq3t7et5xXpeu6PSX99enmb7f/udsFbjm/SgjbdQjHo8CU7Xj7riiQnHSNCRNexLVxeVoNv/s1pgoqBYWt38/g3OyVvP7KFxQNdcw050YDVCgLHu4O1v4SSOUviYmJHDp0iLNnz6LrOiVKlKB69eo31Jv5J3LH/hsMhvvyLV1uqub7tT0hhBAiKioKg8FAeHh4oTx+Rw6kwNYjEXP5PB9NeIFS/drRcNDA+zrHyCHbDAMHly1j98dTeeV/H1OuQjWHTS7hqIGUJJvIJzRNY8mSJXTo0IEuXbrw5ptvMmLECHr27EmbNm2YM2fOv5pwDnD8+HH69+/Ppk2b7sux/PTTTwwZMoQrV67IiRVCCHHPpaWlMXv2bLKzHTSKEPYaU/97+j1O/LCIQ8tWoCK9sLeiYuDU9m1sn/A1T/V/k/IVHTeIcuzzIPKFpUuX8sQTT5CRkcGkSZPYsGEDGzduZPr06bi5ufHMM88wc+bMf7Xua9eusXTpUqKjo+/LsRw7dowVK1aQnp4uJ1YIIcQ9t3z5ckqVKkXFihWlMRyYpkH5itV4qv+bbJ/wNae2b5Ng6iZUDFw+cZx1oz6iT4dnqVWnqdSKekAka18+EBcXx9ixY/H19WXGjBlUr17d/rsKFSoQGRlJr169GDduHM2aNaN06dJYrVbOnj2Lm5sboaGh9uU1TeP8+fOoqkrJkiXJzMzk3LlzaJrGpUuXOHHiBBaLhaCgIIKDg7l8+TLp6emEhYVx9uxZjh49itFopEaNGoSFhdnXm56eTnR0NMWKFcPHx8f+elZWFufOnSMoKIiAgADi4uKIi4vDYrEQFRVl/3awZMmSkoZWCCHEXXfmzBkOHTrEK6+8Io1RAFitUKtOU/okxjN31Ee4fzGOYhUr/fsaUwXM9bWi2tbuIrWiHjDpkcoHduzYwf79+xkwYECeICpXmTJlGDJkCGfOnGHDhg2ALbvVwIEDGTt2bJ5ls7OzGTZsGMOHD0fTNPbu3ctbb71FVlYWEydOpHXr1rRu3ZoffvgBgE8++YSuXbsybNgw2rVrx5NPPsmjjz5Khw4d8gwF3Lt3L23btmX9+vV5tnfq1Ck6dOjAL7/8AsC0adOYPXs2SUlJPPHEE7Rp04auXbty4MABOdFCCCHuurNnz9K+fXv8/f2lMQoITYNmLXvQtnYXe40pFQNKof+PrVbUspHvUju4Bl27Pylz0R8w6ZHKB/bv34+qqreth/LQQw/h6enJvn37eOKJJ9B1ncTERNLS0vIsp+s6SUlJuLm5YbVaqVq1KsOHD+eNN97giSeeoF27dlgsFnvq4/T0dI4dO0ZISAhjxoyhQoUKHD16lFGjRjFixAiWLFlCQEAA2dnZxMfHYzKZ8mzParVy7do1exHRRx99lKNHj7Jy5UrGjRtnTxNcqVIlOdFCCCHuuqZNm/6jbI3CMSiKQtfuT5I4PY6lI8fQ4b23cfHwKNQJKDSzhbXjPyE0y4d+Q17BYJRaUQ+aBFL5wNWrV3F1dSUwMPCWy/j7++Pp6cnVq1f/tpBl7rcTuq7j4+NDzZo1MRgMVK5cmWbNmuW9KTWNsLAwpk6dSpkyZQBb0BYXF8fo0aPZt28frVq1yrPe2wkPD6dMmTK4uLjQoEGDPLVjhBCOQ9d1srOzURQFJycn+dZT5FuSFj5HAbtFdR0MRiceG/AK30wZxS8D/oezuzuFNyW6gtmURQnv4gx5fhyu7h7oBWlIn2JLg+9oJJASODs72wuG5qpduzZgG7qXG0jdqdzaMUIIx5OcnMyqVatYtWoV0dHRqKpKuXLl6NSpE02bNsXNze1frTcxMZHo6GjCw8Px8vK658dx/vx5MjIyKFeu3C3rOglRkKgKFLSYUtfBzc2DZ54dQ3zsFXRNK3AB4z+j4B9QBA9P74IVROVevw7YsSx/XfKBkJAQMjMziY2NveUy8fHxpKamUrRo0fvyzbCHhwcGg8E+ZO8f3+ry7bUQDufChQu89NJLrFixgooVKxIREYHVamXjxo3MnDmTgQMH8v777+Pn5/eP171x40ZeeOEFZs+eTdOmTe/5sXz00Ufs27ePFStWyNyZAujSpUvoum4fPi5sQZSzE2RkFqzj0nVwdfWgRMkycpJz2qMgflft5ASO+J2XBFL5QI0aNQD4/fffadmy5U2X2b59O+np6faeolxWqxVd1/82cPmnvUSJiYlYrVZ7IWBFUeyFff/qZtuWXikhHEtWVhbvvPMOK1euZNSoUQwZMgQ/Pz90XefKlSuMGzeOKVOmEBgYyOjRo//xlyXZ2dkkJibeUT08q9WKoij/ad5LRkYGKSkp8jlUAJlMJmbMmEG7du0kkLqOotiKmSalFLxjK6jBg/iTu5tj9qhKIJUP1K9fn9q1azNjxgw6dOhA3bp18/z+xIkTTJkyhYoVK9K8eXPbiTMacXNz4+rVq5hMJlxdXQFbNr/U1NQ8w2+MRiOKopCScmefrlarlZUrV+Lt7U1kZCQArq6uKIpCTExMnmXj4+Mxm815XnNxcSE7O/tf92YJIe6/nTt3Mn/+fPr27ctLL72Es7MzYPuipGjRoowZM4Zjx47x3Xff0bdvXypUqEBiYiI//PADNWrUyNPLlJGRwQ8//ECJEiXo1KkThw4dYv78+ZjNZmbOnMnWrVvRNI2OHTtSp04d5s6dS1ZWFrVr12b+/Pns378fLy8vunfvTqdOnez7cujQIVasWEHfvn3zlGc4ffo0v/zyC126dKFSpUrMnz+fffv2ERcXx0cffYSbmxseHh48/vjjFClSRE62g1u/fn2ev0/C1kPn7OyMj3cQV+KQmkLCoSgK+Hg55r5Lmpt8ICAggLfffpvs7Gz69+/P119/zb59+zhw4AAzZsygb9++XLp0iZEjR1KiRAkAPD09qVmzJjt27GDKlCns2LGD2bNnM2DAAA4dOpTnm9xixYoRHBzM/Pnz+e2339i6dSuHDh3KuXgVrly5wvTp0/n999/ZunUro0aNYsaMGTz22GP2bHulSpUiLCyMmTNnsnjxYrZs2cL48eMZNmwY6enpeb6drlChgv1Bat++fWzcuPGGAEwIkb9s2LABs9lMr1697IHL9Xx9fenVqxcxMTHs3LkTsBX7Hj9+POvWrcuzbHp6Op9//jmLFi0CbA95R44cwWq1sm/fPtauXcu6deu4ePEiuq4zZ84cXn75ZXr16sXixYvJyspi69atDBo0iNmzZ9vXe+DAAd5//33OnTuXZ3unTp3ivffe48iRIwAcOXKES5cukZ6ezubNm1m3bh2bN2+WIuEFQExMDFu2bKF79+4yhDzHkSNHmDx5MteuXcPDAzylZKNwMO5u4OWggZT0SOUTbdq0YebMmYwbN44RI0bYsxBZLBYqVarEd999R6dOnezLq6rKc889x+HDh3nzzTdxdXXFy8uLLl26kJWVhbe3t/2PTFhYGC+99BJjx46le/fuGAwGXnrpJapVq4aiKFitVubNm8ekSZPIzs7GaDQyaNAgRowYYZ+kHRoayuuvv85bb71F3759cXFxISwsjA4dOpCZmZmnB6xly5Y8+uijfP/99/z44494eHgwa9YsihYtKidaiHxI0zT++OMP/Pz87Nk7byYiIgInJydOnjwJ/Dms91YPtLmvt2vXjtjYWIYOHcq4ceNo1aoVFosFFxcX+/Bkg8HAa6+9RufOnfH29ubUqVP069ePzz//nI4dO95RT1Lu9t58801OnTrFnj17mD9/PoGBgei6bu+5F47r6NGjNGnShGLFikljAFu2bGH58uX079+fihUrAlAkEFLTkCKtwiEoCgQFgJODRiQSSOWbC0mhZcuWPPTQQ5w4cYLo6Gg0TSM0NJRKlSrddHJ39erVWbRoEfv27SMrK4uKFStSvnx5Ll++jKIo9iBIURSeeeYZWrRoQXR0NJ6enlSoUAHAvo158+aRkpJCcnIyxYsXp3z58jg5OeXZXr9+/ahTpw7Hjx/H1dWVGjVq4O/vz+DBg+1zqQD8/PyYNGkSzz77LImJiQQFBRERESEnWYh8ymq1kpaWhpub222DDQ8PD5ydne94mPD1XFxcANswYRcXF/u/zWYzmqZRoUIFevfujbu7O2CrPde7d2/GjBnDH3/88Y+G5Lm4uGA0GlFVFXd393+daVDkP02aNJF05zn27t3LunXrGDp0qH20CoCPNwT6Q2y8tJHI/3y9IcDPcfdfAql8xsvLizp16lCnTp07Wr5o0aJ06NAhz2slS5a88UQbjVSqVIlKlSpx9OjRGyZgBwQE/G2wYzAYiIiIuGG53KDsep6enjz00ENyQoVwAKqq4ubmhslkIjs7+5bLZWVlYTab7cHOvRYeHo7FYrltRlNRuNxs2GlhVbJkSV588UV8fX3z3s8KFAuBLBOkpEo7ifzL3Q2KF3PstP0yR6qQSUtL46WXXuKnn36SxhBCALYvScLDw+21nm4lKiqK7Oxse6Ht3C9k7mVmvP+avU+IgiowMPCGICqXsxOULA5entJOIn9yd4NSJcDNwUdcy1+nQubgwYNs376d5cuXk5mZSY8ePXj99ddvKMgrhChcHn74YTRNY/HixWg3mVyRkZHBr7/+ir+/v723OTfAycrK+tv155ZQuJP057n++OMPXF1d7cOWVFXFarXe0fbANmRRk4kiDu/atWvSK4ktiYvJZLrj5d1cIbykbZifKnk5RD6hKODrA2VKFYzEKBJIFTLLly8nLS2N3bt3c/jwYVq3bs2TTz6Jh4ek+RGiMGvcuDFt2rRh+vTpzJgxI88DW2pqKp999hnLly+nT58+9uG9np6e+Pr6cujQIfu8qYyMDNasWcOVK1fyJKHw9vZG13XOnz8P2Hqxrg9yTCYTGRkZ9n8fPXqUuXPnUrduXfsk+tykEfv27bMvFxsby+rVq28Ykujr60tiYiJXr14FbPNBpaaU47FarcyaNYszZ84U6naIjo7m888/5/Lly//ofS7Otm/9S4XZHlol0aF4UBTF1gsVFgplSjp+T1QumSNViMTGxrJq1SrA9g3fypUrb6hZJYQonLy8vPjwww955plneP755/n555+pUaMGFouFHTt2sHv3bjp16sQbb7xhn+wfGBhI+/bt+fLLL3n00UcpW7Ysx44d49y5czf0GlWpUoWyZcvy4YcfcuzYMUwmE506daJdu3YYDAYOHTrEI488QkREBGazmY0bN2KxWBgxYoS9x7xGjRpERkby8ccfc+LECZydndm7dy/Xrl27IXNgs2bNmD59Os8++yz16tUjIyODV199lVKlSsnJdiDbtm0jOzv7hmL0hcnRo0eZPXs2HTt2pHTp0v/4/apq65Xy9YaUNEhOgYxMyDbnZPaT7xfEvaDYrj0noy2A8vay1Yr6Sx4zhyeBVCGyY8cOjh8/bv/3ihUreP755/H395fGEUIQERHBvHnzmDt3LqtXr2bJkiWoqkpYWBhffPEFPXv2zJNBVFVVXnvtNVRVZe3atVy6dIl69erxzjvvsGTJkjyJaEqUKMGkSZP46quv2LFjBz4+PvYMgZqmUapUKWrVqsW+ffvIzMykadOmDBkyJE/ineDgYL744gs+/vhjdu/ejbe3N7169aJmzZrMmzcvT5Hetm3b8sknn/DTTz/x+++/U7ZsWUlU4GASExNZvXo1gwYNsmehLWz27NnDggUL6NevH5UrV/5P6zIawd/X9mOxgsViK9wrHbXiXlAUMKi2685gKLi9oYouYx0KBU3TGDJkCNOnT7e/5u7uzoIFC2jbtq00kBAiD5PJZC+2nZv2/FY0TbMP7fPy8sJgMNiH0f21p8hisZCZmYmqqnh4eGA2m+nSpQvJycmsXbsWg8GAxWLBzc3tlkkmsrOzSUtLw9nZGQ8PD/v8q5vVs8rKysJiseDq6lpoH8Yd1fr160lISOCRRx4ptG1w8OBBfH19b5qNVwjx4MlflULi3LlzbNy4Mc9rGRkZLF26lDZt2kiFeCFEHtfXevo7qqrekD3sVp8pRqORCxcusGDBAl577bUbagLdyXadnZ1v6Em/1fakCK/jqlev3g31DAub6tWry4UgRD4mySYKiY0bN3Lu3LkbXl+3bh0XLlyQBhJC3DcrV65k8uTJREVFoaoqAQEBBAYGyhc6Io+/6wktiCQpihCORQKpQiArK4slS5bcNA3w6dOn2bx5szSSEOK+SE1NZcWKFVy5coXVq1ejqiofffQRX331lfQeiUItPj6eGTNmkJCQII0hhIOQQKoQOH78ONu3b7/p76xWK0uWLLkhdbAQQtwLBw8eZO/evQAsW7aM1NRUihUrRvHixaVHSpCWlkZiYmKhO+4LFy7w5ZdfEhQUlCehixAif5NAqhBYtWoVcXFxt/z91q1bOXnypDSUEOKeW7ZsGcnJyQDs27eP/fv3S6MIu7lz53L48OFCdczHjh1j8uTJtGrVio4dO94yyYoQIv+Ru7WAS0pKYvny5bddJiYmhjVr1khjCSHuqdziublSUlL+9vNJFB779+8nJiYmT8r7gk7Xdf744w/69OlDo0aN5CIQwsFIIFXA7d27l4MHD9pOtqri6emJk5MT7u7ueeYj5A6xEUKIe2Xbtm15atkBrF69mqtXr0rjFHIZGRksWbKErl274ubmVmiOW1EUunbtSrVq1eQiEMIBSSBVwC1evBhN0+jUqROTJ09myZIl1KpVi6FDh7Js2TJGjx5NZGQkBw4cYN++fdJgQoh7QtM0li5dislkyvP6iRMn2LZtmzRQIbdr1y5KlChRKAMKmRsohOOSOlIFmMlkIjg4mDlz5tC6dWvc3NzIysrC09OT0NBQWrRoQYsWLXj66af5/vvvycjIkEYTQtwTZ8+evaGWHdg+p5YsWULnzp1vqCklCo/IyMhCMaQvLS2NvXv3Uq9evTuu0yaEyL8kkCrAXFxcePPNN2+YuKrrep46FSEhIbzxxhtSu0IIcc9s2LCB8+fP3/R3mzZt4uzZs5QtW1YaqpD6a0HngighIYFp06ZRvHhxjEZ5/BKiIJChfQX9BN9h9h9FUSRTkBDinsjKymLp0qU3rWUHEB0dzYYNG6ShRIF14cIFPv/8cyIiIujTp4/0vgpRQMiTsxBCiHvq2LFj7Nixw/5vg8GAqqr2h0lN01iyZAmZmZnSWIWIyWQiPT29wB9ndnY2ixcvpkWLFnTq1Em+tBSiAJG+ZSGEEPfU8uXLycjIoG3btrRp04bU1FR++uknXnnlFU6dOsXy5cvZvXs3R44cKVSprwu7RYsWUaRIEZo3b16gj9NoNPL444/j4eEhJ12IgnZ/SxMUPoqiSJYgIcR9YbVa8fX15ccff7Qnvdm4cSNr1qyhW7du+Pr6MmzYMGbPnl0oeieEzcmTJzl69Cjt2rUr8MeaW3pECFHw3EEgpaGTjU4WOibAKq3mwKyY0HUTmp4MXMUq59OBKYARBdecHydpkpvRNdsPkkzlQTAo8L+hT6MajPbzoGsW0HXQzKBbKBIUwEsvDQPNantNOAgFFNX28w+YzWYWLlxIu3bt8PHxKXCtYjKZuHLlCiVKlJBhfEIUcLcMpHQsaCShkYBOBjpm5EHE8VnIRley0JQkrFzEIoFUAaCi4IKKNyoBqHhgC7IKKx0sJjCngDkdrFm2B3T5/HqAV+h1DAZIjQZLBiSdBHxA1wv1Feu4FFCNYHAFZ09w8gLD36f03r17N+7u7tSrV6/AtUhGRgYzZszA09OTfv36ySUiRAF3k0BKRyMFK5fRSEMePgogXU5rwaKhk4mVTDSuoRKAgRAUCmGNEksGZMRCdhJYs+XSyG8U24O3ggXbh5AZNJMt0JXPJAeWAplxYHAGV39wC7IFV7dQtmxZKlWqVOB6axITE5k2bRrBwcH07t1bhtALUQj8JZDSsBKLlcvoWKR1hHAwOhasXEUnDQMlUSkk4/J1DTJjIeOKBFD5kaqiA4kJSZyNvsy2nQdISExm/cYdVK5YhpLFQ3DzcAdNsw35E454E4LVBOkxkJUInsXAJcAWPP9FkSJFCtzRp6Wl8c0331CpUiXJzCdEIXJdIKVj5QoWLgOatEwBpKDYhs8of/5bFEwa6eicwUhpVLwK+MFaIO2i7Rtx6dbIf1SVs+cuMvPn5axYv42k5DTc3Fxwc3Vh1IRpmM0WwkuG8lj3tnRp9zBeXh62gEo4LmsWpJwDdxN4FP3Hc6gckcFgoFevXpQqVUqCKCEKEXsgZSVegqjrKCioqCiARbditljQrJpDP6YpQFZWNppVw2yxkmkxYbE49hwpRVEwGlWcDE6oKGjoaHINA6CThYVonChbcIf56VZIu5ATRIn8xqrrLFqyjvc+mY6XpzsDe3WgUb1IQoICcHIykpGRxenzF1m+divvfTKdBcs3MHbE/6hUvrQEUw5/b2qQcdn2/z2LYbVqWCwWXFwK5meRm5sb4eHhct6FKGQUXdd1nUzMnMzJylfIGyQngEpOTeXQwSh2bj/E8aNniI1NxGQyozv4sBNN0zl8KIqAAB9KhIU4/PGoqoqXlxslwkKIrFmBh+pXo0x4cZyMRqwSUAFgIAgjpSiQCSjSL0PaJaQnKv/RgelzlvD+J98xuE8nnnviEfwD/XKy9eWcLwVQVHRd4+ixU4z48Gtirsbz7advU61yOQmmCgJFBd9wVq7fibOzMy1atCgQh2W1WsnOzsbNzU3OsRCFmKLrmm4hGitXC31jGFBJTErh14Ub+HHWSk5dSsSjeCmKVKqIb2gozh7uKA49REEHFAwGFV3X0TQNx3641tEsVjKSkog/fYa4E8cxpiXSuEFlBj3VlYceqopqUNEL/UO2ASfKolLA0gyb0yApStJl58tLTmXtxh08PfxDXh3ajyGP98CgKLef/2QwEB+fyP9e/4hricnMmfIeRQL9Zc6Uo1MVLl5JYsrc9Qx76RWCgoIc/pAsFgvz58/H1dWVrl27yjl2IGlpacTExFC0aNFCVdsrPT2dy5cvExISgpdXAR/uf58pmp6u23qjCvcEbRWVnTsP896obzh8PonqjzxCjR7dKFK+HC5uHig5w/xE/qOjY9UspCdc49yu3eyYMYvY3Tt4rHczXnylH4GBfoV+uJ+BQIyUpsD0Suk6pJyBrGtyA+Q3ikJiUgo9Br9O1UplmfDuizgZDHkDIlWxXYt/7XEyqJw7f5meg1+ne4dmvPXiIAmkHJym60z+fj7lq9SmdafeDn88mZmZzJw5k6ysLAYNGoS3t7ec5LskLS2NGTNmEBsbS7t27W6aHv+3335j3bp1hISEMHDgQDw8PP7RNlatWsXQoUP55ptvaNWqFQAXL14kKyuL0qVLYzAY7MtGR0fz+eefU7duXXr3/vtrV9d15s+fz5UrVxg0aNANgVpKSgrfffcdJUuWpFu3bve1bTdv3sygQYP47LPP6Ny5s1xsd5FRI6nQB1GKrjB//lpGjphCYP2mPPXF64SUr4iCgpYz60aXYWL5+xyqCl6BQVRr34lKLVpyZNVK5ox5j6NHxjDxi+GUKV28UA/100hFJ7vgzJWyZEB2slz4+ZGqsmbTTq7GJfDNhF44GY15AyZV4fgfZ0lOSaNe7ap5AyWrRqlSoTw9sDtfffcLA3t3ILRYkT+HAgqHuxb2HzhGRkYWTeuUs2X1MzjuZ1BqairffPMNgYGBPP744wV2vteDkp6ezqRJkzhx4gT79u1j3rx5eQKl1NRU3n//fdauXUvlypXp2bPnPw6kcoslm0x/TmX58MMPOXjwIEuXLsXPz8/+ekJCAosXL8bJyemOA6mff/6Z/fv388gjj9w0kPr0009p0qTJfQ+kco87KytLLrS7TNVIKdwNgMqihet59bWvqPz4EB6bMpmi5SvlpCyQIp6OREdHw4LBxZkaXbrz5E9zOZ3tzv+GjCX6whVUCm8mJZ1sdDIKzgFlJ9uy9Yn8d61ZLKxYv5WGdatTtnTxG3udVJXN2/fx0+K1N02NjabRtnl9NE1jx94jIBnQHPhi0AkO8qd/r/Y4GzQwpzr04aSnp1OnTh369esnQdQ9VLJkSXbt2sXmzZvzvL5hwwaOHj1KsWLF0DTtrtXpSk1NJTExMWe6w58iIiLYvHkzr7/++h2vK3efbrZvt/tdLqvV+rdz13Vdv6P57X9O4bBtU+qa3RtGncxCe/AGVHbvOcrIEd9Q48mnafPaq6hGQ04AJRyXLaAKLleBflO/4YeBjzNqxGS+nPIm7u6uhXTOlI5OQfkmSrfNjxL5j6KQkpLGH6eiGdK/K4rRALmZQVXVNqTPaERRVVsQZTSAljN3yprzEKPpFC0SQHip4uw/cpIe3VqDQZo2396L1tv09Os6xYsF55xXDbLTwDXQYY82JCSEkJAQOe33kNVqpUmTJly8eJFvv/2W5s2b4+rqSlZWFt9//z0NGjQgMzOTU6dO2d+TmprKjz/+SLly5fIkMzGZTMydOxd/f386dep000Di119/5dChQ8THx/PZZ5/h7u6Ou7s7/fr1w2g0snjxYiIjI2nQoME9O+bs7Gw2bdrEkiVLuHTpEn5+frRt25aOHTvi7u4O2IY9LliwgP379xMbG4uqqoSFhdG+fXvq16+fZ0ii2Wxm48aNLFq0iKtXrxIeHo67u7vDJxfLr4yFtfCugkJyajpj3/0W39oNaPnSi6hGgyQmKEA0rASULEX3j8czq18/fp67msFPdMVaSM+xTsFIymDKzCA7OQEvV+mpyHcUSMvIJD0jg9CQ65IKKAp/nDzLoeOnMBoM7DtwnEtX4li4aA1Wq0bJEkWpWyPCvrjRyYkSRYuwfO0WjKokjMmvigT6M7BXezw9PW49ly3P0M0sW1p0B0rapOu6fJN/n9vb39+fVq1a8fLLL7Nt2zaaN2/O9u3b2b9/P9988w3Tp0/PExQkJyfz4Ycf0rVr1zyBVFZWFp9//jnly5enY8eONz2Pu3fv5vz585hMJpYvX47BYCAgIICuXbtisVgYM2YMzzzzzD8OpCwWC5qm2XuEVFXFYrHcEMyYzWY+/vhjJk2aRPXq1QkPD+fcuXM8++yzHDp0iNGjR2M0GomJieHDDz/E2dmZsLAwAHbs2MG3337Ll19+aR96qGkakydPZvTo0QQHB1O2bFl27drFqVOnyM6WYvX3grGwDl1TUVm57Hf2RcUy6JevcHH3lJ6oAkjDSqk6dag7+Am+mTKLtu0bUrRoII5dEezft0ZBsG79BtTUs7Rr1RCscs/mV3nuMEXh7IXLrN28E4PBwPGocySlpLJm806sVo36tatSJ7JS3gcdRSEhMYVDx05JIJXPKIrC5SvxJKWk0r19U1sgdR0N0K0aBsNfAibN4jCBlK7rbNiwAS8vL+rWrSsn/T7SNI0OHTrw5ZdfMn36dOrXr88PP/xAZGQkjRo1Ytq0aTdcj//WyJEjOXPmDAcOHGDRokUEBAQA4OnpSVRU1L+6Ny5evMigQYNwdXW1B06KopCZmcnVq1fz7O+6dev4/PPPeeONN3juuedwdnbGbDbzwQcfMHnyZLp06UKdOnUoWrQo8+bNo2TJkvj6+qIoCmfPnqVnz55MmzaNzp074+bmxp49exg7dixt27ZlwoQJhISEYLFYmDt3Ls8884xcXPeAsTAetAKkZ2bw46yVVOzYidAqlSWIKuDqPtaHfXPnsnrlVgYP7ibn20FlZ2eze9d2BnZ6yPZAJvIXHTzd3fBwd+fSleuKJGsabZvVp22z+mA0MuW7X/jj1Dk+ff+Vm9aKspjNXLh0lX492/HBm89glYA5XzEYDSxfu5U33v/qxhDXoLJl2z4sZgvNm9T9y/nVcYQvby0WCwsXLuTkyZMMGTJETvj9/hjJ6ZV6/PHHee+995g6dSpbt25l4sSJeHp63tUham5ubjg5OaGqKp6enrdNia7rOuvXr+f06dOoOXM3dV2nYcOGVK5cOc+yub1R1wdS2k0+6xYsWECRIkXo2rUrGRkZpKWlYTAYaNasGZ9//jn79u2jTp06eHp6EhkZSVJSEocPHyYuLo6kpCTc3Ny4cuUKGRkZuLm5sWTJEsxmM8OHDyc0NNR2SxoMhIaG5hn+J+6eQhlIqaicOH6OY6dieOTtbiio6PJgXWDpaPgVL0HZ5i1YsWwrffq3x8mpUF76Du/IkSN4ebhTqlQJSTaRL282HW8vDyqWLcmOPYcZ3KfTTRLu/83DtKoQc/kap89dZMAj7cBokClS+Y3BgKrepCSIohAfn8jqDdt5ql/Xmwz3y/9BVGZmJrNmzSIjI4MXXnhB0ps/QF27dmXatGmMGDGCxo0b07x585sGI/eLpmn8+OOPLFy4EKPR9gyh6zrjx4+3B1K6rlO8eHFmzJhBSEhInqF9Fy9epHHjxvbgKjMzk9OnT3P+/Hl69ep13W2kYDKZyMjIICXFlhAuNTWVadOm8eOPPxIfH4/RaMTZ2ZmYmBhKlChh37/jx49TrFgxSpUqlffOu8MEFeKfK6Q9Ugr79hzDEFCEopUqSmrzQnHOVco3e5jNby0l9moCJYoHF9LhfY4tKiqKRo0boRgMEkjl13vNaKR9y4aMnjCNqLMXKF+mZN5eCV2nVIlitrToN/vDrqis3LANo8HAQ7Wq3LTHSuRfv67YRM1qFSlVKvT2iSjyqaioKDw8PBg4cKBk5nvAihUrRp8+fXjnnXcYOHAgXl5eN+2dvl8BgqqqjBo1imHDhuUZnpfb83M9o9GIwWDI0wtkNBrzvE/TNEwmE+Hh4bz66qt5ls3NslelShUAJk+ezLvvvkvfvn3p06cPoaGheHl5MXz4cPbv329vB5PJZN+2uD8KZSCloXPi+FkCwsvg6uMt4+8LAR2N4HJlSTfDpQtXCSteFKQX0uF06tQJZ9UKqaekMfIrTaPVw3X5ZuZCvpz2E5+891LeoMmq0frhh2yfu399ADKonD13kW9mLKRXl5ZSQ8qRqCpHj5/iUkwcfbq3ddjzVqVKFapUqWIfuiUerIEDB1KxYkWaNm16y2Vyg47ra0P9E7nD7v4uIFMU5Yaenv/C1dWVYsWKcfz4cZo1a0aRIkVuulxGRgbLli2jWrVqTJgwAR8fH/vv3Nzc7P/fYDAQFBTEoUOHSE5OxtfX94Y2EndfofyksOpWYq8m4F00BIOSv2JJBQUVIwrK3yyn/u0y4no6bn6+4OJKfHyStJyDcnd3zxlSIQ/X+fdW0/Hz9+HNYY+zfN1Wps5YiFXTbKnPc6iqguGvD6oGA3Fxibz27hf4+/nwZL8ucpod7Ly7ubrS75F2eHi43TqLXz6nqqoEUflIcHAwnTt3vu0QS3d3d/z8/Dh27BiJiYmAbT7t77//zqVLl/42gPDx8SExMZG4uLicS/n+XLsGg4F27dpx5swZpk+fnicQtFgs7N27lzNnzqAoCrquY7FYMJvN9n38448/OH78eJ7jq1evHrGxsaxevdr+WmpqKtu3b5esffdI4eyR0nRMJjNO10Xy+YGCyuWjRzj462Iiu3WlaETlG4YdKqjEnT7F5q++ptzDjanepasMTbxDBqMTisGIKUs+TIS4p6waLRrXYeRLg3l34nTiriXx/JO9CAjytz1g5/ZWKICiomsah4/8wYixXxMbn8D0T98mKNBfhvU5El0nvFTOECcHOm9Hjx7F19f3psOzxP2+hPR/tbyfnx/t27fn448/ZsCAAVSqVIkTJ05w7NgxUlJS8gQaN9tGkyZNmD59Os8//zwNGjQgPT2dl1566V8F1Lnrv9l2cucpXf+7Hj16sHnzZj744AO2bdvGQw89hK7rHDhwgB07djB58mTCw8Pp2LEjo0ePZsCAAdSuXZsrV66wc+dOzp8/b58jBbZRGzNmzODNN99k+/bt+Pn5sXfv3jx1t8TdJTPu8xEVlctHjrBi9LsEly9PaERVrDcEUgppcXEcWLAQN18fqnfpKg13pxTbjwzldDxSy8Uxb7fH+3TCz8eLMRO/Zc3mnfTp1pom9WoQUiQAJycjGRlZnDp3gWVrt7Jk9W9UrVSWmZPGUKFcKQmiHO1k6zhUL1RuBrbNmzfz7LPPyjnMB1xdXWnbti2RkZG3vtQUhfr161OiRAlcXV3trw8bNozs7GxWrlzJqVOnqFmzJl9//TWrV68mNDTU/vcjNDSUbt26UbRoUft7O3TowLhx4/j5559ZunQp5cuXt2fx69Sp0w0Z+f5u30JCQvLsWy53d3c6dOhARMSfNfN8fX354osvqF+/PkuWLOHnn39GURSKFy/O8OHDqV+/PgBDhw7FYrHwyy+/cPr0acqUKcMbb7xBTEwM0dHRODs7A7Z5ZVOmTOGjjz5i27ZtuLq60qpVK4YNG8bChQspXry4XGh3++MvS99Z6J4qrVaNfr3eJCOiIV3fey/fpMI2YGTXT3OY0f9xBs2ZRe2evbHepGCyxWQiNTYOFy9P3HPGwNqG+qnoaCgoaLoVXdcxqEZ0tBuCh9yhgVbNDIqCQTGio+fp3VJzcmVpWEHXURSDPcPh9ev7czkNNWe9tjXlnzlICgppCdeY1KoN4954hF6PtMFSyOZIGSiCkVIOeL9aWbx4MY0bNyYoKAgsmZB4XJJNOApV5dz5S8z6ZQXL120lMSkVd3dXXJydSEvPxGyxULZ0Cfr1aEunNo1tNYkkiMrfjAZWrtnC6+9+yaqfvqBYSNCdBVFGV/CrBKrTA919i8XCokWLOHHiBEOGDCE4OFjOaT5xfZa7f7qM1WolKSkJXdfx8fHBycnphmV1XUfTNFvWyb/0VGVmZmKxWHB1dbUHJlar9YZl/8v+3+732dnZpKenA+Dh4WHfh+vfm5ycjNlsxsfHBxcXl1uuLzs7m+TkZIxGIz4+PvZ5YP/kWMSdkR4pB6OgYEpL48jy5ZSsU5uSteoAcGbHdi4eOEhE29ac2bqdE2vXYTZlUaZhA+o+9hjufn724EdBIeb4Mfb9Mp+Yo0dRDQZK1qlDrd698C0Wagu8dJ0TG9dxcuMmEi9exJKdjUdAAGUbNaJyu7a4ennZgiWLhb0LfsHg5ETltm2J3reXC/v24xkYSPXuXXFydUMmOoj/4vz58xw6dIj27dtLYzgiTaNUyVDeHv4Uzz3Ri3PRl1n/+242bNnL688NoHKFcMKKh+Dq7mYLoCSIchiqQWX/kZOcPnuRxg1qOsy5y507M2zYMElvnt+uqTsYTnerZQwGg72g7q2WVRTlphntFEXB3d39puu8m/t/u987OzvfEDz99b1+fn53tD5nZ2fbF4//4VjEnZFAysEoqCTHxLDkrbdp/cZrlKr1EKBzYu06Vn84ju3fVSH9WgI+RUNIT0jkwIJFXDt7jq7jx6EabD1Kx9eu5efnX8DJzZ2wWjXJzshg3YRPOLpyFQN++A7fYqFYLSZ+nzKVczt3EVS2DM4eHlw98Qc7vvuBBk8MpuvH43BydsFqsfD711PISEri0OIlHF+9BnNWFkXKl6Ni65Y4u7pJGCX+k61bt1KzZs2bDpUoXDe/A3+LaJ/L4INfcCDnY+KY++taGjWsRVCAH2jWPx/CHfU4C1mNFgVISU3n1xWbeOWZvg6177Vq1aJ+/frymSKE+M8kkHJIN3/QsJiyCatVk6YvPE9AqZJkJiUz+8kh7PtlPg8/N5Sg0uVIunKRxW++RUhEJR79+it8g4uho3NszWp+eGwAe+bMpdXwV1ENBtq9PQI3P1+8g4MxODmRnZ7Or2+MYNecOdR/4nFKVKth2xtV5cqx4wSXL0+/76bhW7y4LYOTt6SWF/9NcnIyJ0+e5Pnnny+cDWBQAQXNYiEzI4vsbDOa7tg9NkaDgZTkFMxmMwnxiRgKQKFIo8GAq4szzq4uKAbVlkyjgPesKarCtcRk6tSIoGKFcIc6XumFEkLcLRJIFRS6joe/P82HDaNoxQisWHF186JCs2ac+u13UuPiCS5djtNbthJ36jTt3h6Bs7s7aQnxoECxqlUIKleW01u30exFE6rRSImq1TFlZZBwPpqUK1fISklBURWy0zNIjY2zp1/XrFZK1qnNY1O/wcPX3x485ac5UsIxxcXFUb169VvW1yiwDAZMWVkcPXSajVv3sffQCS7GxJKRkenwgZSiKCSnpHE1PoFHnnoDYwEYbmI0GvH18qJs6eI0qFONxvUiKVGiKKqiFNiAymKxUiw4kLbN6jvE54inp2eemjtCCHE3SCBVkCgKumJL+pA7L8nVxwuwBTsAsSejyEpNZenbo3D64ENbNrScpeOiTuHi6YnVYkE1GDm8agUbv/iSqydOoANGZ2eyMzJB19GvL7ao67h4euLk7nbT5BhC/Fvh4eGULl268BywqmC2WPnt9918/cNCDhw7TrFQD2rWKE6jZuXw9/PA6OT4gYeCrZaUphWAPmtdJyvLzOUrKRw5eoEJ3+zkwy+NdGzZhCH9u1AmPKxABlMWixWDwYCT0ZCvhzXu2bOH5cuX88wzz0ggJYS46ySQKuhy5hvkDga0ZGfj7OZG/cGP41e8BPp1324rioJXcDBOrq6c3b6D2U88RUB4abqM+5CQShXxCAjg2MpV/DLspRu3o+tIUglxtxWqwpiqSmxcAh99MYOFK9fRrFk433/7KDUiS+Dp7Qr2tpD7LH9R7OdFM2vExqawfsMJpn23lRWPb+GN5wfSq2srnIzGAjWPytnZCVVV8u3VqOs6GzZsYMOGDQwaNEgy8wkh7gkJpAq6v/yV8w0NRdc1ilWqTNU2be2D73JKLOWkQFc4sW49prQ0un/8EeXqN0JDR0XBw9f/5isWQvx7qsqZcxd5/s0JxCZd4OuvHqFli4oYnY05mex0W0IGkb9PowIhRX14rH892rerytRvf2fER5M4fe4Srz0/AFcX54KVlCIfH8qaNWvYuXMnzz//PCEhIXJxinzNbDajaRpOTk6F6wvEAkACqXxJR7NYsepmrJa/DJVzUv7DWiG8YQPc/f3ZOGkSxapVwbeorTibplu5Fn2elKtXCa9bz1Z9W9OwZGfb/1amJl/jzM7tOcMEpQ6BuHcsFgtWqxUXF5eCf7CqyqWYWJ55dRyKUzLzZj9BmfJFwKKBVVKBOxxNB03Hz8+d115tQ4XywQx/bRGKqvDmsMcxOvJDkgNlVCxVqhR169a9IV20+O9SU1OZPn06V69epV27djRp0uSGZaKjo8nIyKBs2bIYjX8+amZnZxMVFYWfnx/FihW7t7eipnHmzBkURSE8PDxP/aSDBw/y9ddf061bN9q0afNA2tFsNrNz504WL17M0aNHyc7OpmjRorRo0YKOHTsSGBj4r9ab28b+/v55Cg/fKwkJCVy8eJHw8HA8PT0L3f0ggVQ+pFk11nw0np0zZ+XJZqXrOs1ffAH/kmE3vEe/7r9vRs9JAVG0UiXavPE6S0a8zeSOXYho2xo3X1/iz5zhj3XriWjblvC69anQvBm/ffU1Pz8/jCod2qNrGmd37CTu1OmbFnOT/ilxN/3+++9YLBZatWpVsA9UUcjKMjHqo6lkmOOY/e0gSpUOtAVRwrHlzD/t2q0GmqbzyqsLKR8eRu9urR1zzpSqcvL0ea5dS6J+/Rr5fncrVKgg1+A9smfPHkaNGkVKSgpRUVHUq1fvhvpHH3/8Mbt27WLFihV5ajtduXKF3r1788gjjzBq1Kh7up9ms5mXX34Zo9HIvHnz8uzj1atXWbFiBdWrV38gbZiVlcX48eP59NNP8fHxoWbNmvj7+xMVFcXChQuZPXs2X3zxBREREf943ZcvX6Znz57079+ft956654fy9q1a3n11VeZN28eDRo0KHT3gwRS+YiOjl/x4kR274ZmseTMX7ouaNF1FFXF1duHqp07Ely+PLkhUkililTt2AFXL8886wsoXYpqXTrj4R+AjgaKQqMhQwgIL82uWT9ydMUqLNkmPPz8qda5E3X6PYaOlfAGDej91Zds+uJL9v0yH8/AQKp27ECzF57jwMJf8Q4ugo6Oqhoo93ATDM7OKNIdLe4Cs9nMli1b6NWrV8E/WFVh0fJNbN65gxnf9aNUuARRBY5Vo1vXSI4ej+GjSTOoV6sKJcOKOVwwZcoy8fOva2nTrF6+7JnKzs7GaDTKsKj7YOnSpfj7+9OsWTO2bNnCH3/8QdWqVfMsk56eTnJy8g2lDTRNIykpiYyMjNtuQ9M0NE3DYDDc9Mvbvy6r6/oNBWd1XSclJQUnJ6cb3tOkSRN27tyJl5fXzW/bnARdd1LE9lbbv53Zs2fz4Ycf0qVLF95//31Kly6NwWAgNTWVuXPn8vrrr/PKK68wZ86cf9yrqmkaiYmJZGZm3pN9v+GzwWQiISEBs9lcKO+HQhlI2Spbq2iW/JVhTsNK6Qb1GVzvoVvvu6qiAP2mT0NRVHuK8Ro9uhPZvRuqarAFTDnrq9CiOeWbNUVVVfvrqpOBqu06ENG6NVlpqWgWC05ubri4edgy/6GhqAo1e/Ykom1rTGlpOHt44Obpg45Ota5dUFTbtg3OTnQYPQoU8n0gpWsaaFqBSLdckJ04cQInJyfKli1b0D+ISLiWxOQf5tOndw0a1C8jQVRBPdWqwjNDGrN69TF++Gk5o1590rEOwKCy7rdd+Pl6UzsyIt8FgVFRUaxevZoBAwZIjah77MqVK6xevZrmzZvTu3dv1q1bx5o1a+yBlK7rLF68mP3793Pt2jUmTpyIh4cH7u7udOjQgXnz5pGSksK2bdv44IMPsFgsRERE0KNHD1RVJTk5mUWLFrF+/XqSkpIIDQ2lZ8+eNG3a1D5EcPfu3WzdupX27duza9cuVq1aRXp6Og899JA9sYjZbGb27NmcPXsWJycnxo4di6qqBAUF8fjjj5OQkMBPP/1Eq1at8gSBZ86cYe7cuezduxeA2rVr06dPnzzZY/fv38/GjRvp0KED+/fvZ/ny5aSmplK7dm0GDx78t0MW4+LimDx5MuXKlWP8+PGEhf05ysjLy4unnnqKixcvMm7cOFavXs2jjz6Kpmn88ssvZGdn06dPnzzDJZctW8bly5cZMGAAGRkZfP/996SlpfH777/b27hq1ap0796dnTt3sn37dtq0acPWrVtZt24dZrOZhx9+mH79+uHvb5sHf+3aNWbPnk3t2rVp2LChfVtpaWnMmjWL8PBw2rRpw4EDB1i8eDFms5mZM2eyZcsWdF2nY8eOREZGFop7olB+dWNQVXx9vUhPSLAHF/mFoiioBsMtfxRFgZxlFPXPb2kUVUU1GG6YupS7vr9+g6hhRTGouPv44hkQiLO7B7qi52kPHQ0XTy98Qorh6uWNrmig6H/uR+42DKoD9EYpmNLT0bJNePsWvjG8juS3337joYce+k/fkDkEVWXj1n1cS46lf796Mu2wINN0goK9GTDgIRav2kTMlXjHmW+kKFy+HMvWXQfp3rHZ3/YO3G/79u1j+vTp1KtXT4Ko+2Dr1q1cuHCBjh07Ur9+fSIiIliyZAmpqan2ZQ4ePEh0dDTp6emsX7+eFStWsH79emJiYtixYwdZWVmcPXuWFStWsGLFCvbt2wfYHt6fffZZRo4cidVqpXTp0hw7doy+ffsyZ86cPPvwxhtv8OijjzJ69GguXbrE+fPneeeddxgxYgTZ2dlYrVZ27drFtWvXiI+PZ/Xq1axcuZLff/8ds9nM2bNneeedd9izZ499vUeOHKFXr158/fXXuLi44OzszOTJk+nduzdHjx61L7dr1y7efPNN+vTpw8iRI7l48SIXL17k3Xff5fXXX//bnqBDhw5x7NgxunTpkieI+vOWU+jRowdeXl6sWbMGXdexWq18//33TJ069Yaen/nz5/Ppp5+SkZFBWloa27dvx2Qycfr0aXsb79+/H7ANm3/99dd55JFH+Pjjj4mLiyMqKorhw4czYsQIsrKyAFuw98EHH7Bhw4Y820pLS2PChAksXrwYsM2FO3ToEBaLhZ07d9q3d+HChUJzTxTKHikDKqXDQ9myIQpzVhZG10Iwof0W/r6Ki04BqPSCgkLShUs4WbMpFloETWZ15UsWi4XSpUtTq1atgn/vWaysWLeVh+qGUSY80JakQBRcmk7rlhF8/sVmdu07SpeOzcDiAJkYFYWk5FQ6tGpE0eCgfNUbtWnTJtauXcsTTzxBuXLl5Bq7x6xWK4sXL6Z48eLUq1cPLy8vOnTowMSJEzl48CCNGjVCURTeeOMNTp8+zY4dO/jll18ICgoCwNXVleDgYFq0aEGvXr344IMP7MP3VFVl6tSpbNq0ie+//57WrVujKAopKSk88cQTTJw4kbZt29qLs5vNZmrXrs3LL79M6dKlSU9P53//+x9Llizh5ZdfJiIigvHjx3P8+HGcnJxYsGABzs7OqKpqryd2/ZcC2dnZfPjhh8TFxfHzzz9Tv76t0PTWrVvp06cPH330EdOnT7cPEzSbzVSrVo1XX32VsmXLkpWVxYsvvsjixYs5ceIENWrceh7h6dOnMZvNNwyHvF6JEiUIDQ0lKiqKzMzMG+ag3XibKmiaRlhYGJ9//jnNmzenb9++jBkzBqvVau/BUhQFq9VKmzZteO655wgNDSUlJYXXX3+dH3/8kd69e9O0adM7viY6d+7M1atXeemll5g4cSIPP/xw4UkUlaPQDiaOrFmR1AvnSLxwEaXwNkMhonB2125Cg30pFhpUIILDgshoNNK+ffuC/81yzsPp4ROnaNK4LGoBKLIr/oamU7yYLxXKB7Fj7xHHCZw1jYjypWlYt3q+CqIsFgsZGRkMHTpUgqj75OzZs2zatIk2bdrYs8G1a9cOg8HA8uXL7cu5uLjY56vlDutzd3e3BzGqquLk5ISbmxseHh64urqSlJTEwoULadiwITVr1iQ+Pp64uDg0TaNZs2acP3+e06dPA7bhg97e3jz77LNUrFgRFxcX+5yttLQ0YmNjAVvgZjAYMBgMeHh44OHhccuizOfPn2fjxo106dKFBg0aoCgKiqLQqFEjunTpwvr16zl//rx9+56enjzzzDNUrlwZFxcXfHx8aN68ORkZGVy9evW27Ziamoqqqrecn5Xbhh4eHqSnp//t3KO/9hK7urqiKApOTk64urri4eFhD2xy227gwIGULl0aZ2dnAgMDGTRoEJqmsX379n98XeSu29XV1b6964ceFnSFskfKika1yPIU8TByYv0GgstVyHdD/MTdpJCVnsLxVavo8XANvD090eR8iwd6SSrEXkskJS2FiuWD73/aS0XJO5RQz/kv+X7hnjK6GKlYMZiTRy5gNVswGBzoS7x8Vv8q90sXcf9s2LCB2NhYSpcuzaFDh7BarWRnZ1OiRAlWrlzJyy+/bO99+qeuXbtGTEwMFy5coG3btvYkFbm9UpqmkZ6enuc9fw0gcgOT3EQR/0RMTAxJSUlUqlTpht9VqlSJ77//npiYmDxzd2+2fVVVsfzN/Hs3Nzd0Xb/tEECz2UxWVhZubm73JCj5676Hhobi7e3NpUuX5EL/p59FhfGgdXSCi/jTsWND5syZQ61ePfHw95deigJKxcAfGzeRee4UnT8aKFNRxIOX0yMFGv7+Hvf1IVXXITEhDZPJkhNMKTgZVdzdnXHzyMm+WRDrV+UGj/oDDBgVhZBgb3ZsOYvZbMZgyMfDX3LbS4acCmzpupctW4bJZGLMmDG8//776LqOoiikpaWh6zo7duygU6dO/2r9VqsVs9lM48aNGThwINp1vZ+KomA0Gv82Vfl/mb93uyx9BoMBXdfz7NN/2X6pUqVQVZU//vjjlstcvXqVy5cv06JFC9zc3P5VcPjPb3lFsl7+C4U4/blC3/7tWbBwE9tnzKTlSy8hX8cWxLOskhofy4ZPP6NTu7pUrV4Oq/RG5TuapnHt2jX8/f0LfpKJHGazBVUFJ6Phvm93+BuL2PxbFGpOwhqj0UBAgAc1IovTvWskDRuWxdnJkO96If41VeHwoUv8PH8f/R+rS/kKwQ8sQHBxMWK2WNB0PSewy5/tdfFyLLFxCdSsVjFfXAcxMTHs3buXNm3a3DSdtbi3jh8/zvbt2xk0aBBdu3a1BxWKohAbG8ubb77JkiVL6NChA6qq2ufi3Cr4+Guvja+vL/7+/qiqSrt27e5aL0zufuh/cw0HBQXh7u7O2bNnb/jd2bNn8fDw+NveNv0O75OqVatSqlQpli1bxlNPPXXTwrsrV64kISGB5s2bo6oqVqsVVVUxmUx/2+OVG9D9k+DrwoULpKSkUKZMmTzryE0+8XdyE2IURoU29NTQKFOmBC8M683Wr77ij40bUaWsVoGioGDNzmb1+I9xT7rMc8P6YFRlLkp+dPnyZWbMmFE4P4jvcxeprsOFCwlkZpl5vH89hjzZiF49a1IyzJ8lyw7Ttcc3jHl3GWnppryZ5f46HPCv/wZQFTCotp+bfTur8Ofryt8sm7t87jrVWy2j3LwNr3/doHLi5FU++Xw9Z89d+3ObD6B7WgHbKEr9AZz8O2S1WJm3aA0pqen5Irvg6dOnmTRpEm5ubhJEPSArV67EbDbz1FNP0blzZ7p27UrXrl3p0qULAwcOpHHjxqxbt47o6GjAFhglJSXZ5wvlBlSurq64u7sTHR1Ndna2/XdBQUG0atWKNWvWsGjRojx/C9LS0ti0aRPx8fH/aJ+NRiPe3t5cvXqVxMTEPPvxV7lJjpYuXcqpU6fsr0dFRbFs2TJq165NqVKl7kpblihRgkGDBrFnzx7Gjh1LQkKC/XcWi4Xly5czceJEatWqRYcOHezHEhwcTHR0NOfOnbPdp1Yre/bs4eDBg3l6w3Lb+Pz58/ag6/rj1jSNtLQ0+7+TkpL49ttv8fLyolmzZoBtmKK3tzcHDx60D6nMzMxk7dq1xMXF5dmej48PVqvVfu7vpPeuICnUkYOOTt/H2nHk0Cl+eeFF+k6bQpl6DXLmz0jvlCNTULFkm1j3yWecnD+PyZNfpUx4cemNyqe2bdtGWFjY32YmEneHpkPRoj48P6w53j5uoOloFitnzsTz/oermPjZery93Xh9eCvb8ppOcnIGTs4GPL3dMJvMpKWacHY24uHhDIqCVdO5HJ3AlSspuLgYKVnSHx9f9zw9P2mpJswWKz6+7iQlpHP+/DVUVaF06UD7ftipCpkZ2Zw/f43k5CwC/D0IK+mPs4vRvpzVqpGcnImLqxMe7s7XHZ9OclIGRqMBL08XrFlmUlOy0HWd5ORMkuJSsVg0PDxdcHOVB/M8DAa27NiPrus0qhf5wBNM7N+/n59//pkePXpQu3ZtOT8PQFJSEkuWLCEyMvKmmeacnZ3p1KkTy5YtY8OGDQwePJiHH36YqVOn8r///Y+GDRuSlpbGyy+/TMmSJWncuDE//fQTQ4YMISAggJCQEIYPH86wYcM4cOAATz/9NAsXLiQiIoLU1FR27NjBlStXWLZs2U17b27FaDTSokULVq9ezVNPPUXlypXRNI2RI0cCeXuQPDw8ePXVVxk0aBCPPvoo3bt3B2DBggWkpqby2muv4e7uftfa9Nlnn+XcuXNMmTKFLVu20KRJEzw8PDh27Bjr1q0jNDSUCRMm2JN6KIpChw4d+OWXXxg0aBCNGjUiJiaGgwcPEhsbS2hoqH3dQUFBNG7cmAULFjBkyBB8fX0pXrw4L7/8MoqikJyczNChQ6lTpw4eHh7s2bOHQ4cOMWrUKPv5DQ4Opm3btkybNo2+fftSunRpjhw5wrlz527opapatSolS5bkvffe4/Dhw2RlZdGlSxdat25dOD4yR45+anRh/oAwGo3Uq1+N6BMnmf/5dDxDihBcrjwGg1OBnTOloBbYeUIKCipGUq7GsHT0GI7Pncm4cc/SqcvDhT7luYoHKr75br/S09P59ddf6dq1651l69MskBUPugMHxapK9IUYlq7dRN8+tfHz97hv391YrRo/zttNVpaZx/s9hIuTLTBRFAX/IC8aNyrLjh1nWbP2OB3bVyEgyItr8Wn0G/QDFy4kYjZZeHPkYsZNWMup03G0aR1BaqqJceNXM/z1hcyYtZPZc3exas0xigZ7U7ZskZypWAofT1zL+IlriYtN5a23F/PZpE18P3M7O3acpXrVUIJDvG3toCocOnSRYS/9wocfrWbuT3uYPWcXx47FUK1aqK29FIXLl5PpO+B70tOzqVc/3PZeRSE5OZPHn5jJyag4WrSqxIoVR3jtzV9JTMxg155z/Dh3D9/P2EFQoCdVq5e4f0PXVJW9e85x6GA8/Xq2w9k5nwVxikJCQhKzf1nJYz3bEeDve/O2UVVOnY5m3eZd9HukHV6eHnd4/EZwCwLlzkYGpKens2zZMrp37061atUKz4d1PnPlyhVOnDhBr169qFmz5k2XCQgIICUlhZCQEHvvTXBwMMeOHePEiRO4urrStm1bfHx8qF69OllZWRw4cICLFy9SqVIl6tevT0BAAC1btsTT05MjR46wd+9eLly4QHh4OM888wx169bFycmJpKQkFEWhTZs2+Pr62vchNTWVrKwsWrdubU+TXrFiRdzd3Tly5AinTp0iKCiINm3aoGkaiYmJNGvWzN7TVLp0aWrXrs3p06fZuHEjR44coVKlSnz00Uc0adLE3guTnJyMpmm0bt3aXsAWbD1n6enptGrVyh4A3YqrqyvNmzenQoUKXLx4kd27d3P48GE0TaNXr158+OGHN6RQL1OmDEFBQRw5coSjR4/i5eXFa6+9Ro0aNShSpAgtWrTAxcUFg8FA9erVyczM5MCBA1y+fJmIiAjq16/Ptm3b2L59O127diU6Oprjx48TFBTEyJEj6d+/v31IpaqqREZGYjKZ2L9/P2fPnqVatWqMHDkSLy8vatSoYd8/Pz8/KlWqRHR0NIcPHyY9PT1PuxZ0Spa+s9B3vagopKZm8OVnc5j63QrCWrTm4WefJrRqVZycc1NlFox6SgDndu/CL7Q4vsWKF4hshYptvBCgk5Z4jWOr17Dpi0kEWJJ5b+xQmreoi65ID6OBIhgple/2a/v27ezevZsXXnjhzt5gyYTE47aAymFPhoEt2/Yx5LXRLFv8NOFlgu7bnB2TyUL7LpNJSspg49oX8fZ2y/uwbDTwzZTNDH1+Ht9/258BgxoQE53Iwy0+IT09Gy8vV8LDAwnw96Bc2SBeG96aMe+v4Ospv/HMkEa0bVOZxMQMJk3exMmoWOb9+AQNG5UFXee553/iqymbqRxRlC6dqlE5ohhHj11m8je/0aBeOPNmD8bL152L0Qk88ug0EpMyeW14K8qVDWL//ouMn7iWmjVLMPO7gfj6e3D2VCyNmn3CgH4P8eGH3WxJMhSFa/FpNG7+CXVql2TG9wM5FRXLRxPWMnP2DoY80YgqlYthtWo0blSWqtVC7998KaOBqVM2MWvGcVbN+wIPD7f8NQ9NVTlyLIoLl2Np17LBrdvFaGDlmi28/u6XrPrpC4qFBN3ZcRhdwa8SqHcWQOq6jtlslp7qB0zXdXtiidslVMhd7vqEBVlZWZjNZlxdXfMMy9Q0jYyMDFRVxdXV9YYkB1lZWWRlZWEwGHB3d88zd/Zm2/m71zMzM9E0DTc3N/u6NE276TGZzWZ7gWFvb+8b5mv93fb/rp3+ymw2k5aWhtVqxd3dHTc3t1u+X9d10tLSMJlMeHl54eLikifD4fWsViuZmZl52njChAmMHTuWzZs3ExERQUZGhr348M1YrVZSUlLsbWEwGG7bbllZWTg3iA2LAACAAElEQVQ7OxeqOlIyKQjQ0PH0cuf1twbToHEkX3wyh5m9exNULZLyzZoSWrUKXkWKYHRxcZhi9DenYM7MZMHLw6nYqiX1Bg5AszrwwyigWTVMaWkkRF/g7M5dnNq4CTXxCo90b8LTzz5CWIkQGc6XzwUFBdGlSxdpiHxDp3z5YIxGlbNn4kH/M3lbUJAn/2fvrOOruNIG/JyZq7lxdyKEQHB3t1Io1gKlQoV6u7uV/Xa33Xbrttvt1t1b6opDkeLubgFChLjfmysz8/1xQyBYAw2QkHnyCzJ37syZd+acOe957Y1XJtG9WwLG6tpXO3bm8Mmnq7ju2i4888wYDEYZJEFaWhRXjHyD995fTo9uCchGb+ariHA/PvlgCl26JYAk0KozBL76+mI2bjpC/yGt+OGnTWzfmcNXn9/KqLEdQFXpOyAVi9XIA3/9noWLdnP1pC6/G78j8Da8eatIhg9P48uv1zHqqnYMH9HW67KmqnpWuhNRVVqnJtG6ZXKDkIsQQleiGgB1VQxOt9+x2kInI0kSvr6+ZzzWmb53tvacbfvp3PLOlKHOaDTWsjT90fP/HkajkaCgoDrfCz8/v1o1qM50TlmWzypjWZbPWsvq2D4nt+1scmuKMYy6IlWNhoaQBQMHdKVrtzasXb2N2TOXse7bj9n0VjkuTaCJxp2bQwiBs8pJwZEssrduZfOX0/5QutAGcU2A0BRsJomkZhHcO7E7w0f2IaV5PJIkdCWqEXBiXQ6dhoFR9mbd8ignBihr9OqVTJ/+KeCp3m6Q2boti5ISO8OHt8ZgNIDHGyTePDmMrl2bsXb9IYqK7IRF+qOhYfM1ExMb6LVguFWEQWLAgFRefnURu/fk0n9AC1asTCcuNoju3RPArXj3lQQD+rfAz9fMylUHuXpC57pfkAqaUq0YKCqoyvFr0KnFpXwnlJSUkJ2dTatWrRr9u0mnaXDMAtVY8PHxITw8vEkVzL3Q6JI8CQUVHx8LgwZ1Z+DArpRVVpKfV0xxURlOp6vx5qCo7ucv/+cLZhw8jOpy8uDdV9G1W2uURlwzRpIFNpsPoWGBhIQEYjGZ0dBQUZt8TJSOzvkOFtlHS/F4VGJjgk4t3KtotTYUFlYiyRKhIbXrYckGifAwP8rKqqi0OwkTJxzjRDcwDQIDLBgMEmXlVShuhYLCCgIDrfhYTdQMuhr4+5nx9bWQl1+uW5Lq9ZYL7+8lTCyRl5fHe++9R8eOHUlLS9PviU6DZ/HixZSXlzN69OhG0+Zrr72WYcOGERcXp9/AekJXpE6DhoaCAgL8fG34+/oikqChpqqtCxKCnKMFHDqUA4CzykVhQRm9e3a8DBQOrVp5qr5vOjo654cQuJ1uZs/ZQVCgle7dEvg9o67Vx4iqatgdrtpDpKpRWenCZDZgMhrOvAgloKLShaJoBPh7/fitViPFxXbcHoWaYksCXC4Fp8vjzdAnhDeNON4sfScf88yjhc7J97ygqIT8/CJapSZdkpit9PR0PvroI/r168fQoUP1e6LT4FEUhY8++oi8vDyGDh2K1WptFO0ODg4+q9uizrmjlzD+HY5ZNxRUlEb8o6GxbMUm9uw6VHNtc2avICe/oPr6GvOPbn1qjBw5cuSc64Lo1CfH6jgJMEhgkHG6PHz44Qp++GkTkyZ2oU2b6LNbKTRITYnAaJBYvz7juGVDligstrN1WyYpyWEEBfscn6ALjteFqq4NtXz5fkxGmbZtYhAmmbatozlypJj0g4XetglvG3fuyqGoqJK2baJBEhgMEgaDRGGRt84Jknc/l1vB7VZOUKg0DAYJVdWocnlAqj6/7j6Gpml8N30Bh47kXBJ5FBQUMG3aNEaPHs2wYcN0lz6dRsHBgwdZtmwZ69atY/v27bpAmjC6ItVEcCpuZk1fisvlrtm2a2c6a1dvR9YfA52LjKIofPXVV+Tn5+vCuAQIoKKiig1rD7FmVTqLF+7mk49WcP2NH/PQ339kQL8UHv7bcG/iCM5ixVFVOnSIpX+/FN77YDlzZ22jrNTB0awSXv7fAvbuzeO6yV2x2rwZnIQQFBfbWbRgN4f253P4UCGffryKt95dyhVXpNGhQyyoGuPGdsBolHnu+bns25VDeVkVW9Zn8MK/5xMXG8QVw1uDqhEc7ENyYiiLFu1h0YJdHMkoYvGCXTz41+9JP1hwPChag+ioAEwmmblzdpB5sICD6QUcPVramB0N/jiyxMZteygoKmVg3y6XxLXP19e3JrW1jk5jYeHChWRkZFBcXMycOXN0gTRhdNe+JoCExP70IyxdsrHW9qoqFzOnL2XEyN4ISV8F1Ll47N+/H5fLpSeauESYzQYOHS5k4vUfAqCpGkISxMUE8tjDI7j11l6Eh/t545AkgRBgMsoYDCctumjg62fhuWfGcN+fv+GGmz8hLjYIu91FYVElf7pvABOv6eydoAuBQFBWVsU/H5/uzQSoapSUOOjXtznPPjkaq48JFJVuXRJ47pkxPP7kTIZc8Tphob7kHC3F19fMf/99NcnJYaCo2Pws3Ht3f+798zeMm/AeAYFWFEWlR7dEYmICkY+Na6pK27bRTLi6E59/uZZ5v+4CNB59eARTb+/TNBNPCEFFWSXT5y7lmqsGezOkXQJF6mzZ2XR0GiIOh4MZM2bUpB2fPXs29913n+4y10TRFakmgIRg8YJ1HMnIPeWz3xav5/DhHJISY1H1DHc6F4nly5fTpUuXJpkq9VJjNMo8+a+R3Hd3fxDeOmxms4GQEBuxsUEEhdgQ3sAj7xdUjaBAH959azJhob6nxtCoGm3bxvDd17ez+Lc97N2Xh9VqpGf3RLp2S6iOj/LGOKmaRlxsEB9/cCNZ2SUUFdlJTgqlV68kAgN9as4pBNw0pQdduzRj6dJ95BdUEBMdyMABLbxKlHa8bePGdiAuNoily/ejql4lrEuXZmzZmkmAf/UEXQMfH68SNmZUOw4eLiQw0MqAfi1OSp5x4WkwTshCcOhINmktEmnbKvkiKVECp9OJ0+2oW/FtHZ0GyI4dO1izZk3N/7dt28a6desYPny4LpwmiK5IXeYIoNxhZ9aMZTWrJydy6GAOSxZvoHlinK5G6VwUSktLyc7OZty4cU1aDgaDjKqB5yJbQyRJ0KVb4qkubceUp9NkwzObDfQfkOpVYE6XLU/VCA/3Y9LkrrWPp6gnKV4akiRIbRnJgCEtjx9LOfW4EtCmTTRt2sXUOs/J+8mSoHvPJLr3Sqp1HX36ptRur6YREGDlqrHtz3q8C43brSAbZCRJXNpivKpKq5QEWrZIvDjtkATllZV8/Pm7pLVpz5AhQ5p0/9dpvMydO7dWfK/dbmfGjBl6jF8TRQ+OuexvsMTObQdYu3bHaT9XVZVZM5Zhd1bpwtK5KFgsFqZMmVLnAoSXJZqGv58NVEFpqePiB/krqted7cTfU5Se03znbEqHpp16vFP2qf5bPencZzqvetIxz3R+5TTXcbr2anU83gW87/n5FQT6+2E0Xvp1TFmWMUgXYRogSeQXFPPaO18QHhnNgAEDmm7f12nUFBcXM2vWrFO2L1iwgMzMTF1ATRBdkbrM0YC5c1ZRVFh6xn1Wr9zK7l2H9KQTOhcFs9lMs2bNmvbKnaYRHhqEzerLvgN5TSPhgQZ9eidz7cTO3vpQTTDRpupW2LM3l6RmMRgulVurOJ4t8WKd7+jRfN788Du6dGrHpAlX68VAdRot69atY9u2badsP3DgAEuXLtUF1ATRZ86XMQJBYVEJc+esOOt+eXnFzJ+7SheYjs7FQtMIDvSnZfMEVqw8cHrrzWV4zddd25VnnxpNQID10rq1XQokwdG8MnbvzqNbx9YXV5k5hhCUV9g5eCjrop96wujBDB/US3d90mnUzJw5k8rKylO2ezwepk+fjtvt1oXUxNAVqcsYGYn1a3eyY9sBwBuTERTsj9lswt/fhp+/realNmfWCopLyxFNOhewjs7FQzIaGT6oJ8tXHCQzs+TSTKx1LuINFyxZug/FbaRnlzYX360QQAh+nvMbm7bv9dbSuhhoGpERobRu1Rw0PRJXp/GSmZnJr7/+esbPly9fzt69e3VBNTF0Reoyxq15mP7LEoxGA9deP5yPPnuCGXNepVPnltx13wRm//o6L/73L/Tq3Z6dOw6wft1OJP2R0LlAFBUV1cp01ORRVYb274ZR8uXb7zfoxWEvZ4SgrMTBJ5+tZmj/njSLjbz4qcYliT37DrHvQAZD+nW7cBZBASqgnHh9mnZJUqvr6NQnS5cuZf/+/Wf8PDs7m/nz5+uCamLojsqXMS6Xh5QW8Xz1wwv069cJq9GMvaoKq4+F8LAg+nTrSM9u7bjx5pF88+Wxzt8EAxd0LgrLli2jrKyM7t2768IA0DSiIsO4dfJo3vz4c4YPS6N1m5im4ebX1JAE075cw5FDdv732GivNegiKxauKic/zFzElUN74x/ge2GeMyFwut38MH0hLZs3o1OHNF2B0rkscLvd/Pzzz2iaRqdOnejevTt79+6ltLSUXr16sX79ejZs2MD06dO57bbb8PPz04XWRNDND5cxZrORP98/maGDu2MwyrjxoODNaKVpGgoKHhSCgwK4596JDBrS1fu5jk4943Q62bx5M3369NGFcSKaxg3XjKBFQgsefvQXCvLLdRe/yw2DxNIle3n5lcXce+sk0lomXRJr1L6DRwgPDfbGZ10IJUoSVFQ6ePeTHygtr6Bl8wTdlU/nsiE/Px+DwcBHH33EvHnzeOuttxgwYAAdOnTg1VdfZc6cOXzzzTeEh4eTlZWlC6wJoVukLncEv6scadU/OjoXiu3bt2Oz2UhISNCFUavzafj7+/L8o/dy4z2P8+Bfv+O//5lAWLifbplq7AhAkli14gD3/eUbhvfrz63XXXVpjP6qSkpiHMmJcdX1q+r7WgUF+UW898XPJMZHc82YIRhlueklFNG5bAkPD+fdd989o6XJ39+fMWPGMHjwYEwmky6wJoRukdLR0bng7N69mz59+ugZu06HqtKyRSLvvPQwu3dUctMtn7B5YwaaJC5f65QQIF+mrx8ByBJOp8KX09Zw89TP6dWxO888fBdWi/mSKRcmkxGLyXhhFDkhyMjOpWvHNCaNG4ZRlnQlSueywmAw1Mldz9fXV1ekmtqzoYtAR0fnQnPVVVdhtVp1QZwJRaVzh1ZMe/tpHn3+bSZe9xHXT+7Mddd2JSkpDNkke/e7HOamkuBoVglr1x5i5Mi2yIbLRKES3vtjr6hi/frDvPP+MtaszuL2G67hvtsm4muzXrJMfRdcqVFVOrVN9Sr+qqaH2uro6DQZdEVKR0fnguPv768L4fdQVFKS4/nw1cf4Yfoi3vviJ776eiMdO0bTo3siKc3DCQz0wdDILTmyQeLXBbv5+NNVGI0SoaG+aGrjnnlXOd3k5pazfUc2K1amc+hQKV3bt+OLN++he5c2SEJcEiWqyumipLScyPCQ+j+4EKcWkm7k9/GConrjk3VL3WWCweC9p6oKiqLf18sJSTqn8hC6IqWjo6PTUFBVfH2s3HTdKEYP78uyNZv5dclafvx+H0UlG/F4PI0+nlFTNbKPFlJRWcUtt31JUIBvozdgSELCbDITExlB/64Def7vPWjfOgWTxeSNdbsUkyxZYs6iVTidLq4dP7z+ElwIAarKvgMZuD2KXnnwjA+6BlVVUF4OlRXgdHkn3Lq57vJAlqEgH0pLYPcuXR6XDdVu5yYT2Gzg6wdW61kVK12R0tHRuWBomqbHRZ270EDRCAryZ/SVA7jqin7YKx2UllVgdzhQGnESClmW2LbrALc+8AxQRYukRN547q+YzabGu6IrBEaDAT9fHwL8fb3KE3gVqEt1ryTBkSNHWb95J/ffMbn+ZCsELreH76cvYPHy9V5Lm86p/beyEvLzoLQU3G5dJpcjsuy9tx4F7HZdHpcjhYVey6O/P4SFg5/faes96oqUjo7OBUFVVWbMmEHv3r0JDQ3VBXKuaBoo3hV/m82KzWZt/EV7ZYnp85dTUloOwL4DGSAJUlsmNf4shcfcthrAdagehR9mLmRA786EhYdUW0L+IEJQUVHJx1/PxGwyccOEETz50ge6feVEFAXyciE3V1egdHQuBzweKCqC0jIIC4OoKK9ydQJ61j4dHZ0LQkZGBps2bcJms+nC+KMcm6Qf88lvjL+aRnlxGTPmLa25rKP5hcxduLJxX9cJ19cgkCT2pR8BIejfq3P9KFEAApas2kRIUAC3TxmHzceix4WciMcNGYchK0tXonR0LjcUDxzNgYMHweWs9ZFukaoj4oQ/G/11CEAIjv00dvQaWA2T5cuX06FDBz1bn44XSWLT9j1s3Lan1uaZv67gzinjCfD31Sfm9YGqEh8TydTrxmAyGupPpqrG4L5dMZqMCFnWb9WJKAocOQIFBbosdHQuZ0qKAQ0SEsFoBHRF6owIBDISGhouxYPT6ULxKI38ogRVVU48HoWqKiel9opGf01CCIwmA2aTCYOQ0dB+twCxzoWntLSUPXv2cN999+nC0PGiqsz8dQVl5ZW1Nm/evoeN23YzsG+3+rOeNHGsVnP9pD2XJNDUmvwIFvOx+ji6FlWLvFxvPIWOjs7lT0kJ5ORAXBwIoStSJyMQSAjyC4tZt3Ynq5ZvYfeuQxQUluB2exr99amqyt49hzl8KIdZM5Y1+lVFIcDHaiU2NpwOnVLp3bcDrdISsZotKOiTsktFXl4ebdq0ISIiQheGDgjB0bxC5i1efcpH5RV2Zs5fzsDeXXQ51YOcawb1Pzi4a0KQnn6EqIgQfHwsuu50JioqvDFRuolOR6fpUJAPAf4QEKgrUiciI5GbX8TX0+by9VfzyC0tJrxFCHFtokmNTcFkNV107z5J8p5QU+vHgU0A3aXOaJqGehkM/JqiUVliJ+dAPmu+/YlXXv+Szu1actud4+g/oAsmkwFVnwFcdJKSkkhMTNQFoeNFlli5biu79x867cfzf1tDTm4BURGh+oT0PHErChUVdoIC/P7YgYRA1TRmz1/G1p37uO/WidRUG9apjaZ5s/PpMVE6Ok0LRYG8PPD10xWpYwhNsHDxWp5+/D2yygvpO6UrU0a3J7xZMEaj8ZLEEmmaRn5mIZqqERYXgiTpuUHOIClUNOzlDg5uymTJZ6u5/a5nGHNlf/7+yM3ERIfr7n4XGVmWdSHo1KC43EyftxSX6/QTzr0HDrN87RYmjB3qTSesc64djiXL1pGbV8j1E0b8ocK4brebb37+lcycPO686Wr89di1M1NV5U1xrqOj0/QoL4eKCl2RAq+15/PPZvHUU++RNrIFf/+/CYTHh3Bsgq5eokm42+nmwz99i9Pu4v9+vAOLr1m/WWfBx89Km34taNUrme1L9vL1YzPYdeNBXn3j/0hrlaQrUzo6lwJJ4uChTJas3HjGXVxuDzPmLWXciAEYZH3B6JwQgvz8IhYvX8+dU8b/YcPR9zMWUVpWwZ9uv9abmU/VlagzUl6uW6N0dJoqigKlJXr6c4Hgqy/m8q8n3mbIA3255b8TCI8PRkW95C5hmgaVJQ7sJQ7Qzu5VKCGQkJCrf0+2oB2L/TqTDE73mVSdcENGOu3nJ2f9u9RZALVqpVcYBO0Ht+LBb6ZS6e/i7tufY/+BI0j6434RxhUFtz6x0Kk1UAgWLlvH4cyjZ91tycpNpB/OPGsFeZ3ToGn8NHsxndu3Ij4+6g9ZjzRNo0/39ky9cRw2q65E/S4OvRCrjk6TpqlbpGQkli/fzFNPvcew+/tx5b0DEJJomDE1Z9FPXA43hUeKKc4pparCiclqIiwhmPBmIUiyN/NgaX45jrIqQmIDMZgNtQ5rL3VQml9OUFQAZpsJgUBxK2Tuy+Xo/gIQEJUSTnTzcCSD93iaqlGYVYwkS4REB+KodFKaV47RbCAw0h8hXdq06ioqYXEh3PHWZN645TP++Y83ee/DR/Hzt+np0i8gy5cvx+12M2TIEF0YOiDAUWlnxrxlaJqGLEuEBAViMhooLC4lMjyEouIySssrOJKdy4Kl62iRosfW1RlJ4sDBIxQWlXLDNefp0ndCggohBHGxkd7j6O58Z0dVyTycQagsYTGZdHmc7fm6HBdHZNl7XUJ4C7Rejv2lIdXHa6g4nU1XkRIIikrKeO7pD0ka0Iwr7uqPkESjm2RLSKz+fhOf/+0nFLeCbJRRPSomHyODp/Zi9P8NxWo1s2X+Lr7653Smvj6Jrle1q3FX1IDp/13A+unbeOj724huHkFpQTk/PDOHtT9vQZIlVEVFUzWG3NGH0X8dgslixOlw8d7dX+Pjb6H7+A7Mf3sZR3bk0Kx9DA9+OxVbgM8ll6WKSnBUIFP+PZ5Xrv2IaZ/P5u57J+qK1AXC7XazbNkyrr76al0YOtUDlMT23els2raHwX27MnncMHp3a8f6zbt44fXP+OLNJ3G6XMz/bS2ffz+bGfOXcfOkkfj4WPUXeF3QNMJDgrj9hrH4WM+9QK4mBBUVldisluMxuLoVqk6UV1Tw6S+/cPeVI7CYzfrzejpkmfzCQuauWEFpecXlUIrz+KUJiTWbt1BYVsab06ZdXrMKDXysFob26EFcdLReluJsKErTVaQkJGb8vIQ9mRn89bXbMVmMlywW6o8+8QHhfoz8y0CSuzbDL8RGVYWTxZ+s5pf/LKBZ+1h6julIaq8khCRYNm0tHa5ohWyUEQgKjhSx4usNtOiZSHhiCG6Ph++enMW6X7Yy6elRpPVLQfEoLP18LTP+u4DI5FD6Te6Gpnmz5e1cso+DmzNp3rUZqb2TsPpbkA1yg1FWVFQS2sUy+M7efPjBL4wa04+42Ag9k98FYM+ePciyTIsWLXRh6BwbnrBaTLz42H1cNbwfAUH+IEnsP5SFLMtERoYSGRlO9y7tmDxuGEtXb0RR9FjGustXw8/Phl/1v88JSWLl6k2s37KLO28ch8Wix+CeC3v37cMmywT7++tK1MkIgQas2LCBJ97/gH0eFwFxMZedmERIIIQG8s7e3ZfZ7ROU5+bx/vQZPHbrLQzv1QtZkvTn/HRoWtNUpASC8spKvv5yHp3HtiU6NaKRKlGgotF+WCs6D28LaLhVT41lat3PW0jfkEH3MR0ITwyh29j2LP18LUe255DUMR6ATXN2UppbRt/ru2KSTezdeJCV323kmkdHMOymvt6YIwTj/jqcrb/uZs1PW+g1qbP3+VE1QmIDue/TKTTv3AxJqnb7a2BKioZG74mdWfrZWubMXMGdd10Deo2pemfp0qV0795dz9inc8IApdKmVXPatE7xWjo8ircMvKYBmnebooCm0Tw5nubJ8bo7SV05lpH8PGSlAnPmL2PNxu1MvW4MlvOwZjV11q5eTaeU5l4XL33F/jiSRGl5Oe9+/wNvz55N4rhR3PnQX/APD9MfsUaCEOAoLWXJW+9z1+uvc8OmTdx//fWEh4bqz/ppaJKKlIRg186D7D2Uwd3P9kfQ+Fz6ah54BG6nmy1LdrFxzg5y9uZRWWzHXuqgotiO2+WpvmaJnhM6sfjj1az5cTNJHeOxlztY/vV6kjrHk9ozCQ2NQ5uOYC9xcHDTEb544me0muKOUFFsBwGuKjdCCDRVIyolguSO8SDRYJVRDY2gqADaDkll7uyVTLl1FCaTUe/99YjH4yEuLo7OnTvrwtA5qQNqoNRhfFV1S1RdUTSNKofTmxDiHFFVje9mLCD9cDZ/vn0yoSGBuuzPkbKyMo5mZzNpxBW67I4hBAjBxp07eeK999nqqGTYy8/TftRIJIMBTc+a26jwDQnlyn/+g+Q+PfnuiedY9fAjPHHH7fTt1AnpxMLfOk3XIrVx/S6sYVZiUiMadcyMx+3hh+fmMuf134hNiyKlewIhcUGoispPz82rSYWropLYMY5W/Zqz+sfNjPjTAA5vy+LgxiNMeWk8Pn5WQKO8yI7iUck7VERlieO4IgXEpkUS0zISSRInuN94U8TLDdz5WUKQ1j+FH2fOJvdoIc3io3T3vvocSAwGrrrqKl0QOjoXGlli/bpt7D94hOuvGXHOExqP4iE6IowRQ/rg7+ejKwLncwtkmauvvpogkxEcDl0gkkSl3cFnM2bwvx9+IHRwf6Y+8jfCEhJRUXQlqhGioYEErQYOIjqtFb/+9zVuevHf3DF8GHdPnEiQv78+dlTTJBUpFY09uw4RnhyC1c/SaBUpCYmM3dnMf2cZXce255ZXJuAb4IOERH5GIXNe+62WImSxmOg7uQtvTf2CjbO3s2dlOkHRAXQc0RoNDYHA6mfGaDZwzWMjaDMg5ZR4BSEEQhIoFc5GNyhENg+jSnWRlZlHQnwMunufjo5Oo0IIysoqmPXrcq4bP7xWxr26YjIa6durk/d7emKJ88Jms9GuXTvYc3nFxpzP84gQ7EpP56n332fF0RwGPvlPuky4GoPZjKq/Yxs9Kgr+EZGMe+4ptvXrzftPP8+Krdt44o7b6dK6tXcJvYlbp5pkwQ5FU8jPLyYwwh9JNAYRHKsRdfKPRFl+BY7yKlK6JhAY4Fe9v4a90oHHpdSq66Si0WZQKtEtI/jl37+ybvpWeozvQEhMYE1kU7N2MchGmY2ztqMpYJANGGQZo2xAEhKO8qpGec81wBZgRTJJFBaUXk7Jg3R0dJoKQjBz/nKaJ8XRMjWpbivCQqCePNHR49B0/iiShNPl4vMZM5nwz0fZFxrMzd9+Qc8brkc2m3Qr1GWEhoowSHQYNYrbvvuSsvatmfzUU7zx1ddUOBxNvvZf07RIqRoulxtjI8hSJISgrKCc5d+sw2g5HtejaRq+wTZCYgMJCPNjxTfriW0diW+wjcydOfz63gpKcss4UU/U0AgM96PnNR358pHpBEb60/OaTjUxYioqSZ3i6XF1B359dzkGk4EeV3fA6m+h5GgZ66dvQ0iC654f3Sjvu2yUELLA6dQLxtZfX1IpKSkhMDDwePpkHR2d+kcIjmTmsPfAYe6/Y3LdFCFZYvvO/ezae5DxIwd6M2/p6PxRZJmDR47w3EcfM3fPbno/eB89p1yP2cdXt0JdxqgoBMfHM/GVl9j440/85/n/smzzZh6//XZapzT3jklNcIGmyaY/12j4JQ2EAFuglYOb7Hzx959rP9CqRmyrSP7vpzsY98hwvn18Fs9f9TZmHxM+AVbaDkqlIKOoWvk68cEWtB/Sip9emE+7oS2JaxNVK0mEyWLkumfHYPYxsfiTVSz8cAUGo4zb6cHia+bKPw9EEhJCCHz8rVj8zI3LuiPESfLQ+SPk5OTwzTffcN9992HSi1Lq6FxQ/Gw+3HrdaK/3we9NWCSJVWu2MH3eUq4bf4U3m6ZuhfpDqKrKkSNHiI2NpUnmJpUk3B4PMxcv5plPPsWdksQNX31CfMeOeO0WuhJ1uaOhIpuMdL/2Wpp16sjsZ15gwmOP8bdrr+XaEVd4a6o1sdipJqtINYqbYzJw40vjcJQ5vfP/Wg+zV+nxC7Yx9PY+pHRP5MiObEwWI83axxAWF8zR9AJsgdZTkipkbM9GCEGfyV0xGAy1FCkNjcBIf25++RqG39ufnH15OCtd+IXaiEmNICja6wZoshqZ+uZEZIOMJOurnE2VlStXEh0drStROjoXGk0jMNCfwMDfr1ukqhrzFi5n5fpt3HXT1TRrFg16fa4/TG5uLtOmTeOhhx5CNjSx6ZMsk52by0uffsZ3G9bT+Y5b6XfnVHz8A3UFqsnhVZojWrTg+nffZM20L3ns5ddZumkT/5x6K8nNmjWpNOm6ItWAEZIgKjm8VpzTqQ+z94Wa3DGe5h2bQXW0k4pGfFp0rbpOAkFlmYPfPltNQvsYWvZOOm2iDQ0NySgR1zKS+JZRHCtYop54LEkQkxLhLWOiW3iaJHa7ne3bt3PbbbfpwtDRuRjUxaIkBGXl5eQVFPOn2yYRHhasK1H1xObNm4mJicFsNoPH0zQuWggUTWPRipU88cEHFIaHMPGT92jeqycIdCWqCaOhYrRa6HvbVBK7dWXmE89yzSOP8M8pUxgzcCBGo7FJWKd0U0KDf1C9sUun/zn+UlVRUVBQTtiuVqs+xxAIdvy2lwPrM+hzXVds/j5nVYJUNJQTjnvyvmoDLL6rc/HYunUrQUFBxMXF6cLQ0blAaIDLfQ6Tdk0jwN+PGyeNJDw0SE9RXE+oqsqWLVvo0qVL07loWaagpIQn33mH2175H/5jrmTqV5+R0rs3mtDf/zpwbJYa1649N3/6Pol33MIDH3/EQy+/TObRo96C1Zc5uiLVxB53s83EhMevpNvY9vogqPOHCAkJYcyYMbogLiRCeF9EBhlkqTrdMI37t8bCLmrSJzfuaxIgnXCf6jOhgySxY086P85a/PvPyQnnFaL65a7HRNUbWVlZuFwukpOTm8S4ownBio0bmfzIP5m2Zxej33mVqx5/DN/QkEZihRJIGBC/M82VMCA1zYi3ekVFweLnx9D7/8y1n33IgrISrnn4YeYsXYaiaZwSn3IZobv2NSE0NNoNbkn7wa1qufzp6JwPKSkpuhAuFJJXwSgrKWfX3oNs2bmX9MOZFJeU42nkvueSEBzOPEpm9lEefOy/+Fgbby0/8OpSZrOJiLBgWjZPpH2bFiQ2i8F0LOj6DygzVVVOfpr9GyMG9fQqSqezLskSR44cJb+giE7tWup95wJhs9mYOHEiFovlMh97JErLy3nvhx95e9Ysmo0dyW1/fYCg6Jjq4rqNoa8KnBXlHFixiqDYWKJap3FqkimBu8rBzjnzMVqttBwyEKmpxb3VMxoaCEju0YNbv/yUxW+8zZ2vv8aNmzfxl+uuJzw05LKMndKfmib4oOsKlI5OA0aWyM7O47tffuWHWYs5lFWGyRpJYFA8PrZoZNlYe/9jK31nmrCfaAU6j0m9EBJCklBVz+8nvBTedWCNs6fBFeYkOvboQ06lApXn37aGgIaG21VF+ZZcSr9dj0GU0rltIjdOGMmQ/t2xWi3n514nS/z62xpCggLo3L7VGZWoXbvT+ey72Yy9ov95FejVqRvBwcEEBwdfvhdYbR3etGsXT7z3HlvslQz773O0GzUS2WhsVLFQAkFJZjaf33QH3W6czPj/vHDKvEcAVWXlzHjsKfzCw2nerw8mw8lZjnXOBxUFW3AQIx99mOZ9evLtE8+x6pFHeOL22+nTudNlZy3XFSkdHR2dhoAQuD0KP89YwItvfEF+qZXO3SYzcPQVhIUnYbbYTqnVpaoKVVUVAFitvgghn3xIXE4HLrcTg8GI2Ww71yaRvn8tGYc207XHBGy+QWjacS+yE+f2QoDT6aCysgQfnwAsFp86vCs1HI4KJCFhttga4l2pMx6PB3tlEUcOb2X92h+48+9v0q/bHP75wFTapqWcmzIlBLlHC1izcTv33TYRcQYFafXarfwydwmTxw+nXesWejyUzvkhSdgdDj6bMYOXv/+B0EH9mPrI3whLTKq2QjWu50rgrbWpeDyoZ0i0oqFhDQxg8juvYTCZMJhNgIZAIJDRUPCqZNIJ3zmdRU4gIXFiQZ2T9zt2THHS+b0Zk7VaRxIIVJTq73jPffJ+jQENDSRoNWgwUWlp/PrfV7npxRe544rh3D1hAoH+/pfNeKUrUqcbU6qd389kvZGqV1wbrWVHO2G04Zir/6W5Ju8ApJ2Sol2n4ZKdnY3FYrm8V2cvNkJQaXfw4muf8P5XC+jS81YmD76ToOAob5fVTq11KEmQk7Wbzz+6E5fLwbiJz9Cuw4ha7yaXq4pvpz3Enp2/0brdcCZc9x8kyXAuzWLH1vksmPcqLVr2w+YbhNvtYu3KL7FY/enYZZx3kl+97/Ytc/nmiwcYO+EZevW94ayKlBBgt5fz6ftT8fcP59opr55T2xoasmzAPyCcNu2HkNZ2IIcObmbmz88y6fZH+fe/7mXUsL7ntAprkGWuv/oKIsNCTv2eJDhy5CiLV2zgzinjSUiI0TPz6ZzXuIMQ7E5P5+n3P2BZThYDn3iELhOvwWA2X/YZ+SRZxuTjg8FsQpK8SkxFUSFZW7YTldYKl8POvt+WUZabR3hKMi0HD8QaEFArE7K7ysnhdevJ2LAJd1UV4SnNSenfF9/Q0GoFVFCWl0fm5i0UHT6Cs7wCk6+NqLRWxHfuiMlqrT6eIG//PsqO5pHQpQuuKju5e/aiuN3EdmiH2dePxmgtU1EIiIxk/PNPs61fb957+gVWbNnKE3fcQec2rRGXQRFfXZE6+aZ7VLIP5OO0u/AN8iGsWUityr0uh5uj+/MJivLHP9S30T3Wmqox+7XfKC+sZPwjwzFbTVSWOcjYmkVQdAARSaEX5Jyapp1Sb8rlcHNoSyY+/hZiWkVdzrGIlw2KovDll19y5ZVX6opUfSEEjion/3rxHb78ZQPXXP8W7TteiRDS7y7YuVx2sjK347CXsWThe6S2HIDRZAW8itbBA2tYv/pbKioKiYhqUS/vK4+nikW/vkFwSDwdu4xBCLnmuP4BkbRMG0RQUEydjqWqCkdzduN0VqD9TuPECTkqqKd377FcFxr1c8zjcwKZpOTO3H73p8ye/m/uffh/KIrCmCsH1m0VVtMICQkk5ExZ91SNiLBg/nz7JGw2q65EXUDcbjdZWVnEx8efYhFu1EgSTpeL7+b/ygvTpmHu3IGbX32R6FZp1Rl/L/dnSuB2OPjuL/9HQFQEt3z1KQbZSOamrXw48QZaDBpA7p69VBYUorjdOMrK6THleq559d+YfGwIoLKomBmPPcGWn2fiHxmBbDBQdDiD6HZtmPz2a4QlJyMQrP3iK2Y9/izWwABMPj64HXaqyivpMnkCY194Gqu/PwKJ1Z98wbpp3zD4oT+z4dsfyN66HYPZzJ2/fEtyj56NVrHVUBEGiQ5XXUVs+7bMff4lJj/1JH8ZN56bx4zG18enUVun9Kx9tbqVwF7m4O3bpvF4///xv8kfU5hZUlPHSULi6P58XhzzDut+2VptTWlkD7SmsXPJPjbN2YHiVpCQyNyZwwtXvcOv7y4/S82q85fpsi/X8cE931CWX1FzfIGgOLuUV679iO+fnoOmu6Q0CtLT03E4HDRv3lwXRj32ybc//o4vf17L9Te/TcfOowCpzpN6SZJJazOYgwfWsHfP0hq3O4/Hw8qlnxISlkhwSDyadryPqaqCs6oCRXGf1BYVZ1UFHo/rdJ0Z8LoKaqqKqnioclTgcJTjctpRVY3E5G5MnvIaKal96/ReFCce+KwyUrFXllKQf5ijWXspLMjA5bIjThiCXS4HTmclp1u1VRQXVVXlqKp3IuJVoDTKywvJOrKTo1l7cTjKay3maJqG01mJ212FJFXLxlmJx+2s031RVbBY/Rhz9WO063ob//fUW6zftMObfbFuD8apvpMnNNBkMmLzsYCqW/MvJAcOHOCHH364vC5KljmUlcWfXniRh7/6ktYP3MuUD96uVqIUmkyckAYepxOP6/g4qKkKzopKsrfvoO9dt/GXxXN4YOmvdJ50Neu/+pZDa9cjIaNpGov+9zpbfp7J1S+/yF8WzebPC2dz0xcfkrdnHwtffg1V9br4Jfboxs3TPuKB3+by0PIFPLhsIf3uuZ01n05jz8LFiOqsgapHofDQYX577S2ade7EpDdfYfxLzxMcH3dZxLarKITEN2PSqy/R55l/8e9f5zH1ySfZsX+/d+Wvka6m6xapk/uVBvZSB35hfmTvPsrSL9Yy/uHhNZ8rHoXKYgdu56l1PaRqr9bq/lnt13ocrwudqHFjO7b3MYc6CXGC153357gf7TFv3eNuh6ceX5zQAmqK5dbugKLWvEVDJTwhhBv/PZbY1lE1A6h0PFfxKSPP8fZT06LjHaX2+SQEGVuz2TBrO+MfuaLaLdJ7BL9QG5OeHEVgpD9CEqdcy9mulVry0mp8i8+0L6fcCZ3zYdmyZXTu3BmTyaQLoz6QJVat2cJrH/7MiDFPk9Z20DkvzGmqSlrbYSiKh+W/fUhqqwGYTGYyDm1hz67FDB/1N5YseLtmbiRJkJmxg2++uJ+hIx6kQ+dRqKr3HVaYn8EXH99N1x6T6DPg5lP6jcNRyTdfPEBO9i4KCg7x8gtD0TSV6Jg0brj1XTIztvDjNw8zaty/SGszsF4WGYUEq5dOY/6cl6msKEJVFWTZQHhEc4ZccT/tOo5ECMGqZZ+yfu13TL7xVWLj25xwbo35s/5L+oE13HDL2wQFR+Gwl/PbwndZs3Ia9spiNDRCQxO54qq/0bb9CIQQ2CtL+Pyju4iNb0er1oNZ/tuHZGZsJTmlJ1dP/jcGw+/3AU0D2WBixFV/JT93P0/85z2mvf0MAf6+ZzR/qaqGdNJ4iCRRUlqG2+kmLCz4+Hd1HeqCs27dOlJTUy8Pa5TkjcOc9dtvPP3xJ7iaJ3LDlx8T36kT3ne7XlxXA4QkMezvD9Hn5ltRUZCQ6XHj9Wz67kfy9uwjbcAQCjMzWffVt3S7YTJdJk2oseC1GjKENqNGsGfREioKCvAPD6d5r95IGHC6K6kqK0VIgoTuXZEMBnJ37z3h3BrWAH8mvfkKrYYOqZ4vHYu5ujwWmzVUZJOJ7pMn06xzJ2Y9/TwTHn2Mv0+ezKQrhmM5lu20EdEkFSkhBAZZxu05/aChKioteyehuFUWfriCnhM6Et08/Ni3Tz0eoCmQlZ5L5s6jKB6VqOZhxLaKwmCSaxQLe3kVxdmlhMQEYfYxUZRbQlWFk8BIfwwmA/mHiwgM80PIEgc3ZVCWX0F4UigJbWMwGA2U5JdxaHMm9lIHkc3DiG8TjWQ4PrhXlFSSf6iIkqNluJ0efPwtRKWEExwTeEbdQQN8g220GZyKb5AP3pSgLvIPF6GeZqXTYJQJjQ/GaJJxVDjJP1RIcU4ZTrsLs81EZFIoYc1CELL3hMX5ZZQVVKC4FXL25+F0uBACQuODsPhaSBuQgtlqrImzABCaIP9IERnbsnDaXYQ1CyG+bTRmq6lGli6Hm4KMIgIjApBkwcEtmZTklBEcG0BShzhMJ+x7/L5qaKqGwaDXjDgfysrKyMzM1GtH1dtABFUOJ6++9yWR8f3p3nPSeb0/NDR8fUPo3f8Wvpv2V9L3r6ZlWn9WLf+c4NBmtG47jMXz36z1naqqcg4eWEtZWV7NIqAQ4HI7OHRwPc1Te5/2XAaDiZTUvuzZ9Rs2WxAdOnufhcDAKAwGI3Z7CQcPrKWyorD+Fhc1qHJWEBvXjsTkbvj6hVBels/KZZ8x7ZN7CA6ZQUJSe6Ji0jiUvp71a78nJq5NzTUVFmSwfMmHNG/RFz//cDweDzN/eZaVSz9lwOC7SGnZlypHOUsXv8cXH93NPff/QFLzLiiKm6zMbaTvX8XqFV/g6xuCf0AEkmzgXDQYTQOLxcaosY/wzmvj+Wn2Im6+buypaYAlifTDmWzeuodxVw44PibKEllZuXzwxS9cMagnYeEhema+i4TD4eDAgQPcfvvtjf9iZJmc3Fxe+uxzvl23ls533Eq/O2/DJyBQV6BORghMPj7Vy7Je2ViDApFNZjxOJwKJgvRDlB09yv6ly/nouptqLP5CSGRv205VaSlV5eUEhEdRlp/Lumlfs2PufEqzsnFXOfFUVVFVVoaieI6PJ5qG2deXiOrSIgqey1TAXqU9skULbnj3TVZP+5JHX36DpZs28c+pt5IUH9+o0qQ3SUVKliSCgvw4UJB7enOpBmYfE/1u6MaLY3ax+ONVTH529Em2l+O4qzzMfv035ryxBMWtICSBqqj0mtSZif+6Et9gGxKCXUv38+F933LNv0aQtesoa37aQmWJgykvjSelWzNeHPsurfunUJRVwr61h3E53JgsBkb/31AikkL45T8LyD2Qj7vKg9lmYtJToxh2V9+advzw9FwWfbwK2SAhG2Q8Lg9+ob6Me3g4/ad0q6Ws1IwXCPIOFvDimHcZfk8/Rv95CLnpBbwy+WMqi+01xTIFXuUlKDqAv/9yFxHxoSz8YAU/PDMXhMBglPG4FSw2E1fc258r/zIQo8nA3DeXsPKbDbidHl6f8imyLGHyMfGXaTcTnhjK/yZ9SMs+ydz00njvyoui8dsXq/npuXnYS6uQjTJup5v2w1px/XNjCI0PRiDI2n2Ulyd+SLshLck/XMSB9V55IWDwrb247rkxmHxqp4muqnCiOhUCA331F8V5YDKZuPHGG/XYqPpCklm3aTMrNx7khqnPYDSZz3shTtM02nccxcK5r7Ji6Sf4+oawbfNsrhzzCL6+IWdwCzmbpiNOdxKMRiO9+t7AiqUfERwSx6ix/0CSvDFSp1ecNDwed/Ukw2t/FwhkgxEhpDpeG/TpfysDh9yJwXDc5TEyuiVv/m8c6QfW0CyxPYnJXUlJ7cPGtT8wYPBdBARGIgRs2zyb8vICevS5HpNJZt+eNaxc+gkjxzzCsJF/9tq9JYhr1ob/PDuE9Wu/JzG5S827wGC0MGHyf0hNG4jRaEFTFWSD8Zzuj6pCVEwrOnaZxGffzmT8yMH4+9lqKUQej4cfZiyia4dWCFn2fkmS2L3nIJ99O4srBvWke6fWema+i8j+/fvx9fUlOjq68V6EECiaxqKVK3nygw8pCA1i4ifv0bx3LxDoSlRdxSiJWnMoV2UlqkfBLyKckIRmtcITQhLisQYGYAsKwlFRwrd/epCd836lw7jRdJownsCYaOzFxXxz7wOnXZNRL/v4tOPXafSx0u/220js1pVZTzzL1Q8/wqM3TWH0gAEYjcZGMd41TUUKieTmcayatxOnw4XJeupLUVVUWvRMovv49iz5bA19JnclsU3sKftJCJZ9tZ7vn5nDgJt6MOT23hhMMmt/3spPz8/DYjNx7TNXIQkDbqeHouwSvn5sJlEpYfSa1BlJlohsHorHrVCWV87an7bQe3IXRj04GE3T+PmF+Xz7+ExCYoPofnUHbvz3OJx2F98+PpOZLy+k08g2hMUFo2oq8e2iueGFMcS3i8Hia6Y0t5yfX5jP14/OIKVbM+JaRZ920FQVlfKCCpyVTjQ0QuKCuOWVa/C4FYQASZbYtewAPz0/jy5XtSUg3BcVlfDEUK7515UkdYrDJ9CKvcTBvLeW8sOzc0nu2ox2A1LpM7kLR7bnsOO3vVz//JgaN77I5mG4nR7KCytxlDs55iS4eeFOPvvrT7QbnMpVfx2MLdCHHb/t4+tHZ/ClNJ273rsei8WE4lYozStn9Q+b6DWxMyPvH4jBKDP3raUseH8FHUa0ptPw1rXcIgsyijBoMtGx4XqWwPPAYrGQmJioC6K+0FRm/bqM4LC2NEvs9IfeF5qmEhAYTM++NzFnxgtUVhTi6xdK+46jULX6fRF5a8xqaJp30fCYLiCdxtDrcJTz7bSHyM/dV52aXcNgMDN+0vM0S+pQ53MaZANZR3axb+9ycnP2UlGeT3FRFh63E2dVBRpgNlvp3nMyn314B7u2L6BXvxuorCxj7aqvSUjqSlLzHmga7N+7EpezEkVRWLvqx+oJkEBRXBgNZo5m70FRvNtUTaFFal86dB51PJGEdH4WbSGgc7dxfPjWF2zZvoe+vbscX3WVJZav3IgQgr49OtYoUfv2H+bz72YzaexQ2rdN1ZNKXGTCwsK4+uqrT7sI2SiQZQqLinj966/5ePFiWl03kTF/uQ+/0DBdgfoDeFOnByIbjaQOHMDQvzyAQu14U1EderB36RK2zZzDkL/+hZH/+ieyZEAgcXTvXmSjSbcuV4eDxLfvwM2ffsCyDz7i/rc/YOmmTfztppuIiYxs8NapJqlIaUCHzqm89eF3FBwuIrZl5Gkn1kZZZthd/dgwYzu/vrecqa9NPGmhVlBZbmfRhytp1i6GyU9dhW+gDxoQ9VB4TYzVoKm9iEmK9J5bgwE3dWfs34dh8/epPgrs35SBpsHQu/ow+amrkISEhEx5fgU7luxj5AODuPLeAQiqk17sy2faI7+Qf6iQ8LgQhBAMvKknBmQUVFwuN5HJYfS9vivv3f012XvziG/1e5m0vCvGVj8LbQe2rImBysso4KtHZ9C8ewITnxyFyeJ1m+s2pj0GZFRUXG43ikdlwM09WD9jG4e3ZtFuQCpxqdFEJoWxd/VB2vRPJaJZaHWMlEZRbmmts3sUD4s/WYUt0MoNL4wlIiEMDY2Y5hEUZZUw83+LOHj3EdJ6ptTcyBH39WfCYyORhLeWg8FoYNOcHRzenEnn4a1rHX/v6oPERYUTHR2mFyXWubQIQUWFnVUbdtAybQomsxn1D74rNA06dR3PssXvs2XjTK6/+Q38A0IpLS28dJeJwGi0YDL51FigZIMJIUl19o5TVQ+L5r/BvFkvYTJZiYhsQUBgJIFB0UiyXJPtT9OgVZshhEU0Z+2qr+nSYxIH9q3iyOEtTLrxf1itvmgalJbk4HTZWbn0EwyG2i7ABoOJ4JDY2hkEhaiXRVFVhYioFvgFJrFy3RavIlV9/OLCEhYsXcvU68cgGwzHtFUC/H2555ZriImO0JWoS0BkZGSjHV80YNWmTTz+3nukG2SuevsV0gYPRshyk1KivPHWMlo9xkZrqISnJBPWPIkN335HxwnjCI72JoQQgMfjojgri6D4WKrKy1HdboLjYjFKFlQ8qKgUZWfgdlY12gQL9Y2KgsXfj6EP/IWkXj2Y9fgzrP3Hwzw+dSpDe/ZA9mb8aZBtb5KKlIpKu/YphAcEs3n+LmJbHk+yUHs/jcSOcfSe3IXlX65j4M09asUkCQTFOWVk78tjwJTu2AJ9UKotIAaDgbT+KSz/egM5+/KJTfLWgzEYZVr1aY6vvw2lejA7Mfuff6gfkpBrPvML88VgNOAX7INAVG8XBET4gabhcrhrkliUF1WyYeY2ti3cQ0FGEY6yKsqL7KgeBY/Lc84yEggcZZV89vefKM0t54GvpxIaE1TzWVWFk83zdrJ53k5y0wuwlzqwlzpwVrpqzqdVp384dkylulDd6bIDVpY4OLQli4T2sYTEBdXIQEaiVd/m/PzifDK2ZdP6mCIlICDMD0lINcf1C/PF7GOiqtJZK3GHvczB5nm7mDBwEH624/dJR+eSIAT5BcXk5JXRZUC7ekkaoGkQHBJL7/63sH3LXDp2Gfs7753zzfetnfT3mbFY/bj2xv+dWgZJkut0akmCwwe3MOuXZ2nVejBXX/sigUHRGI1GMo9sY9uW2bWuPyAwks7drmbBnFdI37+K9au/JSg4hjbthte4HxoMJnx8Arlx6ntERqeinaTBygYTsixzITI5mExWoqJbs2PPLjSPp8bS4fYojLmiH4nx0cddWTSN8LBqN1rdnU+nrkgSZRUVvPfDD7w1cxbxo6/ktr89QFB0bKMsrvtHEJLEgRUr+eVf/6o11qmqSnznjrQcOujMw9uZRj+N6rlGOIMe+BPf/fkhPr7+ZnrcfCNBsTFUFBSwa/5CynPzuOWrT4lIbUFgbDS/vfEOQpbxCQokY8MmNn3/M1WlZXruq1qi10BA8x49mfrlpyx6423ueO1VpmzaxF+uv46wkJAGaZ1qohYpjdCQIMaM7c/nX82hz7VdCAj3O+2esiQx5PberPlxE/PeXsbQ23vXKmTrsrvwVLmxBfmc0h9sgT6gaTjKHKdUtD5Tbz35M0kSCAHqSbMOST7urysQlBWU8e6dX7F98V7S+jYnrX8KwdGB5B0sYOYri89LTqqiMuN/C9n66y5uf+taUrom1LjKOe1OPv/7Tyybto7m3ZqR0j2BkNgg7KUOfnh27jnPQbyF7dw4K53YAq1Isqg1XbP6W5AMEpWl9tOMeVptuZyU8UpCsPnXnVRl2xk9rr9uizpHiouLOXDgAF26dNGFUV8IKCopxenyTv7rbWzTYMCQu+nd72Z8bEFnVFZk2QBCYLcX12TVliRQFXetNOmnbbqQkISMx+ME1GqXvTPPB+pSZFcgkCQ4OTGaJEF+XjoORxlde1xDZFQzPJ5jbVVOKZsgBHTqMp4lC99l1i/Pk3VkG30HTCUwKNqrSEkQHdsal9NObs5uWrTsfsz4U70wrOHxXLgXtSRBcEgcR7NX4HK5MZtNNQpTeEQoLqcLoWkYjYbjN1RHp05jircjb961myfee4/NleUMfelZ2l81CtlobFJWKA0wmE1EtEihPC+P9V99V+tzVfGgejy0Gj6EkIRm+IaF1nzTbLMR0SIFi7/vCdZqDYPFQniL5tiCA6F6gbjrdZMwWiwsefMdpj/yOJqqIoQgIDqKLtdNxGgxE9Y8mTEvPM2sx5/hu7/8FaPFSkTLFvSaehObvv8JW3XMsYaGb1gYoclJyEZjE7lTp0dFwRYSzKjHHqF5n158/cSzrHrkEZ64/XZ6d+rkNT00oLGxSac/v/b6K/j+uwX8+sFyrnl4xGlnAioqcWlRDLipB/PfXkZc66ia1LQaYLIaMZgNVBbbT5mgV5Z4kzVY/SwXdPIukNjy6242ztrODS+O5Yp7+2MwGDAgs2nBDma/9ts5KzYSgmXfbWD2678x8i8D6XF1xxolSkLiwPoMlny2hmF39eXap0dhtpiRkTi8I4vpLy2o5S6jHXvotbMNfBpGsxGzj4nKEgeKoiHJx6vMOMqqUD0qPv7Wc5SNoOhoKbP+t5hxYwaR1jqpyQRy1hfLly+nuLhYV6TquddWVbkAGYPBXK/vBKPRislkPeMxvZabKPz8wtiyaSbtOozC5htMdtZOFs57lcqKorPGhBiMFgKDY8g4tImMQ5sJj2iO01lBUHDceUoC7PYSDqVv8mbEO6HhVp8AfH2DMchGdm5fRGLzXhgNFnKP7mXB3Few20trWbePJXVo3XYYK5d9SmBQNJ27XeMtuquBpkJq2kBi49sz4+ensfoEkpLaB9lgorKikB1b5yEkmX4Db7tgd95stlFV5UI5lnO+WosrLi7l829nMaRfN9JaJutWqEuIw+EgNzeXhISExtFgScLucPD5zJm8/P33BA/oy9R//o2wxOQmZ4UCr+tdcHw8d/z8NZqinjq308BotWDy8WHyO68hZAmp2uUxvmsn7ps/Hau/f43yqaIS3qI598z6EZPNVrNdMsh0mTiB1iOGUZKVTVV5OSabjcDoKHwCAtGEd2G88zVXk9SrB0WHj2DysRKamIDF14/uN12PyWqpOV7fu6bS4+Yb8AkKbHL37NR7qIEEaYMHE926Fb++9CpTXniRu0ZcwZ3XXEOgv3+DGSObrCKlopIQH8WDD93APx57g8QOcXS9st0Z9x94c09WfbeR+e8uw1V13G0tKCqAqJRw9qxKp6LYXp1C3JuBaeeSffiH+hKZcuFjcoqzS5FkieZdEjAbTCjVtckrSr2FMs/FfCwhsXftQb7653Q6j2zDmAeHYqhO+avhVU5K88rxuDw075KAzeKDBwUNqCizo3jUWpMbo8mA2+XB7fAgI1XHo50qD1uglfh2MRxYf5jCI8VEJoTVDCa7lu1HNsrEt42usyQFAqfDxXfPzMZfsXL3fROQhKQrUueA0+lk06ZNXH/99bow6pljY8IfDWQX4tRChrVCfABJSDXn0TQICo6jz4CpzPrlWV56bhAWiy9ut5OY2NZYrP7UGjCEqHUOo9FAzz43sn/vct54eQw232BCQhO480/fIIRASNI5XZNsMHEofR2v/mdE7TFaVUhO6cWtd35Ct16TWbHkY7ZvmYvJ7IPb5SAsIhmzxXbK2GYwGujUdTyrV0yjddthRMWknegtR2BgJJOnvMI3XzzEx+/eTGBwLCaThfKyAqocZYwY/Y/qS/Ved70nGhCi9rqSJJGdk8f7n/9E+9YtSE2O15WoS8zGjRvZuXNnw097Xm2F2n3wIE+//wHLsjMZ8K+H6TrxGgwWS5NOKCEZZPxCw866j4ZWyyIEYDCZ8A8PP2XOJhsM+IWFneIFo6Jg9vMjsmXLE+qIqrUXk4VGUEwswTFxtT73Cw2tdTyzrx8WXz89hvsEVBQCIqMY/8IzbO3Xm3eefoHlW7byxB2307l1a45nAbp0NGmLlIrK1ROHsHNHOp89+AMmq5HEdrGn7WwRSaEMurUXX/z9ZzRNq365atj8rQy8pSefPPA93z45kyF39KnO2reFNT9tYeidfYhIDK3dMerjntcKU9CITo1AA+a/vwxhEEiSYPeKAyx4bwVKneOjvLFLBTlFfPbXH6iqcJLWP4U9a9PRVO/DKhlkkrvEE5EUitXfyuJPVxEQ5YfV10z6piMseG8F9lJHLffH6NQIHGVOfvt8Nb0ndaayxE5s66hTJigGg4EBN/Vg66+7+PKRXxj9f0O8WfuW7GP+O8voPLINiR3j6rRSI4TA5XLx/bOz2TvvAO9/8BjxcZF6bNQ5smPHDqxWK0lJSbowGhiaBmHhydx0+4fExbc/7dxb08Bs8eOa6/6D2eyLVJ1xTpIEw658gOiYNNL3r8ZgMHstNXFt2b93BRGRKTXvpo5dxhET25rAwOiad1aHzqPxD4hg/54VKIqb2GbtMRotxMa155Y7PyExufvv6gKaBiazjfETn6OysoiTNSJNU/HzD8PmG8KE6/5DSmo/MjO2YLX606Jlf6JiWnFg30oio1tRyxtRg/KyfMxmG117XovBINdqi6ZBUvMe3Pfgz+zbs5yszO24XQ4Cg2JISOpKTGwbNA2sVn8mXv8yfn6h9X7vhCQ4mlfIvvQMkpvF8vHXMxk+sDv9e3cGVZ9EXWo2bNhAt27dGnYjJQmny8X3v/7KC19Mw9SpPTe/8gXRrdKql1H1d11dFJLT7aOdNfTiTJ+c/WzaaVKaaXXYouOVnTBIdBw9mrj27Zjz/H+49smnuH/8eG4efRU2H59LuvjUpBUpDe/q6t8fuYWqKhfv3/EVg+/qjdlmwhbgLU57otbT57qurJu+lcwdORgtXh9WFY1+13elNLeMeW8vY+V3G5FkCY/TQ9/rujDm/4ZWV0TXMJgM+IXaMJhOFbtskPALsdVKxa4BstGAX6gvRrORE7Ung9m73WCSUdFoO6gFw+/uy4L3V7Du560YLQbCmoXQZlAqVZXO6nN6LVM+/lZsQc6aWCJJlvANsWH2MSEQHN2XT256IUISfPfk7OMZrDSw+Jr5y7SbSewYx9i/DeXnF+fzwqi3MVmNBIT70XpQC8oLKjBZjdV2J40OV6TRbVx75r21lEUfrcTqa+b+r28lIikU32AbVl9zzTDTflgrbnhxLD+9MJ/nrnwLg8mA0+6izcAWXPfcmOqivCAbZPxCbBhPlpdBJiDcj7KCCt7/0zcc+i2Dl195iH79O+lK1Hmwc+dOevfu3XjT/17O45cGvn7BdOk+Dk0986KcwWCiXYcrvOPVCZYZo9GHzt3G0bnbuFrH7NRtTK3jxcSmERufhnpCqnMhZFJSe5HSsldN51NVCAyKpFuPq2vijn4Pg8FEm/bDzpi4Sqs+ro9PIL373QjceFJbx9ZqqxBgryxj1fLPiE/sRPOUXqdth6aBn38YnbufcP3i+HVoGhiMZtp3HFFLbvWFqmr8OHMRrVsmY3dUce3YobRr00K3RDUACgoKKCgoIC0treE2UpY5lJnJ8x99zOzdO+l5/z30uulGLDZfPa25zmWLikJIs2Zc++p/2fDDj7z4wsss27SJf91xO2nJyZfMOiWqtDVNXgEWCKocTt5/90defeUr5GADo/86hO7jOmCxmmupUwVZxdhL7QRHBeIbZKs5hqZqZO3PJXNHDopHISolnPi0aIwmY80ag73cQVFWCSGxQVh9LbXa4Kpyk3e4gIAwP/yCjxeMrap0UpBZRFBUILYT4oPsZQ6KckoIjQ3GYvO20eX0kL7pMPmHi/ALsZHQIQ6L1Ux+ZiHBUYHV8UUaBZnFeNwK4c1CkCQJt9NN3uFC/EJsBIT44ah0kn+kyKtAnZJtSxDWLASL1YTiUTm0PZPsvXlY/cw0axdLYKgfuYcL8AvxxT/Et1q+YK+o4vD2LCpLHASE+xGfFo3BKJN7qACzj4ngqMDjJ9EgL6OAw1uzqLK7CE8IIaFdLBaruUaWLoeLvIxCAsP98Qvyre5kKvkZhcx8ZRGrvt1Em+ZJPP38PfTs2V535wNkwjGQcE7fKS4uxtfX11sYr6HgcUDxLlAbcdV3WWb5qg1cf+9/ueuBOYRHJOl5BeoBSYIN637mw7duYNKNr9B/0G0NSjeRZfhtwQfM/umv3HXT1Tz64K2YzWbvh41JiTLIzJm/nL8/9Tpzv3mN6MiwOmrOFghqBVLDDab/7bff2Ldv3++79Xk8sGc32O0Xr3FC4FEUZi1bxtMff0JVUjNGPfkozTp1gt+1iejoXC54y93k7NnNrKefx7F2A3+fPJmJw4djMZsv+liqK1I1t0WABuvX7+DN175l+erNBCT406p/CgntYgiK9MdgMR7PoqeeqmQIyZsxTuAtWKkqJ+/gdTnTzpB4QUin+exM3znDdkmWvPHLgKZ4B9aT95Nkb2os9YS6JELyBj1rWvWxpTMtEXuVxuPn82YP1PBu11TtjNchSdLxVd/qc3vPS+26LafI0puu9BR5ywLVo+IoqyL3YCH71hxk38qD2DQLkydfwU23jCIiPES3RFVzPopUg0RXpHTOwrLF73Po4HpGj3+CwKCoBiVXWYbFCz5g6bzHmPXlK7RurEklLmNFKiMjA6PRSFRU1Nl3vNiKlCyTk5fHfz/7nG/WrqHT7bfQ/67b8AkI0q1QOk0SCRmnvZLVn09j+StvMjwlhUduvZWk+PiLmia9Sbv2ncix/PXdurah3Yct2LJlL/NmrWT18m1s/3YnDperZp/GigAcDieVlQ4kSSIgwBdZlhr3GpYGspAI8PWlRYt4/vGnmxk8tBvxsZFoAl2J0tFpYvTpP5U+A6YihNQglVNVVYmLiSAhLgo0fXxqaMTHxzesBgmBqmksWrWKJ9//gLyQICZ88i4pvb2lWHQlSqepoqJg8rHS787bSezelZlPPMs1Dz/CozffxFUDBmA8Vtz8AqMrUiehoGI0GejetQ3du7bB7qyiuKiM0tIKXE53o742DXjuqQ/5+cfFmM0mnnnyHnr36YDSAAuc1RUhSfj4WAgK9iPA3w+TbECtDrXV0dFpeoiTi1E1VDQ4OQ5XR6cWskxhcTFvfPU1Hy1aRMvrJjD1L/fhHxauK1A6OhyvvRrfoSM3f/Yhy97/kL+88wFLN27i/26aQkxk5AW3TumK1Bk4Zskwm01ER4URHRXeqAtQCySysnPZs/swAE6ni8MHc7j7rgmN3q/6WFILDQ2P/nL5w6iqyuzZs+nZsychISG6QHR0dHQuJtXu8qs3beLx997ngCy46u1XSBsyGFFd70hHR+c4KgpWfz+GPXg/yb16MOvxZ1j78MM8PnUqQ3r0QJakC5aIopEs3V3qG6ShoqI04l/QWLp0I/v2ZdRc17y5q8g+mo+K1qivTT2pZoPOH+PIkSOsW7cOHx8fXRiNgOpSMjW/Ojo6505paSlHjhy59A2RJMoqK3n588+5/tnncPXowm3fTaPN8OEgCz2tuY7OGdDQ0IRG8569uPWrzwgYdxW3v/oqT7z9DgXFxd4g1QuAbpFqIlS5XcycvhSP+3iA/p7dh1i1citXjx+sW3J0ali+fDkdOnTAarXqwmjgKIoHh6MUTVMReIvzGowWzGYfb9KXy2DOdWwhUU/GoXMhWbJkCS6Xi7i4uEvTgOqVkC279/Dk+++zsaKMoS89R4erRiEbjd5aOo3aL0ZH5+KgoeIXEsrofz1KSt/efP3ks6z656M8cfvt9O7YwduL6vGFoitSTQAJiQP7D7F86eZa210uNzOnL+WqMf1qMvnpNG3KysrYvXs39957ry6Mht6vJcjK3M1nH9yOw16KhoYkJKw+ASQmd6dP/1uJjW/baBUQIaC4KIvVy7+gVZvBJCR10ZUpnQuCx+Nh27ZtTJgw4ZK1we5wMG3uXF78/At8Ondg0kvPEJ7SHHt5qX6DdHTOk2ZdOnHtO68x/z+vMPmJx/nz1Vdzx7hxBPj51ZsypStSTQCBYOGva8nKyjvls6W/beRgejYpKfF6rSUdcnNzSUtLIzIyUhfGxemcfwi3y0F21g4SEruQmjYQj8dFfu4BVi//nO1b5jD1ni9ISu5SK3GROFaF4ExWnjrkPzjmRnimY5zoZvh71qQT963VTgElxVnMmv4cFh9/kpp3ObXQbx3aeiz3xNnaemJB37Ndl87lyeHDh1FVlcTExEvTAEniizlzeeiVV3BrGhHpB/nxTw+hNuJEUE2FuqaLEYCiakiSOIdji5rBWqvHtjQ1JEnC43JTWFrGY++8i9Pt5tGpU+vt+Loiddl3ckF5ZSWzZi477ecZGUdZvGgdqSnNdDVKh6SkJBISEnRBXARkSULTNLQ/6H+naRqtWg9izDWPoijeGncb1v7AR+/cxNKF79IsoTNCCCQJHI5KSooycbur8PULIzAoAiHkGqXB7a5CUdxYLDaEEDidDjRVxWT2QQgJIYHH7aKsNJeqqkqsVj/8/cORDcaaY0gS2O1lFBdlo3hc+AeE4x8QXisducvlQFMVLFYb9soyiouzkCSZkNA4TCaf6tpx4KyqBE3D7XLgsFeiKB4MRjNGo+V32+q93gqKi7LweFz4+x9rh6hph6p6cDrtmM1WhBAUFWZjryzBzz+UgMBILkQYsaaqSEJUK4/6tKchsHnzZlq3bn3pCo9rGsO6d+O7F17wToZVPe63ISNLEsu3bCUrL4+JQ4ag/s4YLgCn28NLX3zBlb1707llKsrvpOUWQpBfXMzmvXsZ0q1bndolCYkfFy8mLjKCbmlpv3uOpoVAkiQ0NBKjo3XXPp26IyGxbcs+NqzbddrPNU1j1oxl3DDlSqxWsz50N3FkWUa+QAGZOrV6HjYfK5JQcFZV1rKKnA+qRrUS5X0Bt2o9iLDwJHKyd+F22TGZfdi2eT7zZr9Efu5+VFXBaPKha/eJDBv5ED4+AQAsXfQuO7b9ypirn2D7lrls3zoPSZK47uY3iW/WhoMHNjJv1kscPLAGt9uJ0WQhIbEzV45+hPiE9iiKwvo1v7Bg3qsUFWSgaQpmix+9+t7EoGH3Yjbb0DSYN+s/HD64gbQ2Q1m76ivycvcBkNpqAOMmPkdUdHMOpW/mm2kP4nRWsmDuK6xZMQ1F9dCj942MuOqv/LbgLXbvXMzo8U+wbfMsdmybjywbuP6Wt4mJbcWOrQuYM+MFjubsRlM1fGyB9Op3MwOH3I3Z4osQcPjQVr754n46d72a3KP72LZ5Fg57KX7+4Qwb+Vf69L8VIaR6vOtgtxfja7NiMBh0PaqB0KFDB4KCgi7hcKCREBNDwqWKz9I5N4Rgzpq1ZOTl0adrF2xW69kHcEli14EDpOfk4NZUhvXr9/v1jWSZGYsXsy39II/deSeB/v6/a9p3VFXxv2++JiQ4qG7naKocW6mrJ3RF6nJ/XtCYM3sFJSXlZ9xn7Zrt7NyRTtcurfUCtjo6F6VjaoQGB2KzShQWZtAsqX29HVoIcLntuFx2AoNjMBjM7Nq+gE8/uI3klF4MvfktLGZfdu9axMJ5ryEbjIwa+xiSBMXFWezesZDCgsPIkkxYRDKSJCMJiSMZO/nw7RvRNJVBw/5MSGg8uUf3sn71txzYv5qEpPasW/0TX376J9p2GMGoMf/EYDCzdcts5kx/HrPZh0HD7gOgqOAwWzZOJy93H23ajaB3/1vIPLyFFUs/RgjBrXd+hn9ABK1aDyYnexcJSV1p3qI3iuKhWWInAIqLMtm1YyEF+YeQZQNh4Uk1bT2wbw2fvD+VkNBmXHPtf7DaAti2eTYzf34Gt7uKkWMeRTYInI5yDqdvICfLe47Bw/+CEBIrln7Mz989SrPEziQkdqy3d66qQH5eOm3iwzGZjLr/YAMhOTm5QYwJ6K58DR8hyMkv4NfVqzmSm8vW3bvp2aHD7967eStXkp2fz+zlK7jvmmsIDgg4a/9XPR5mLFnKsk2bWL9jB0N69Dj7OSSJzbt2sXbHTvKLi7n/2msJDw7Wx5iLgK5IXc79HUF+fhHz5qw6636FBaXMm7OKLl1a60JroiiKgqZp3lVynQuP6lWkEuPCOXhgHZ26XPUHD+h9WWqaRkVFKUsWvk9RUSaDhv0JVVOYP/tlomLSuPmO9/DzC0DToGXr3pQUZ7N21df0G3QngUHhCASqqtCtxyT6DboDX79QNK+Ziy8/vY/y8gLufeAnWrTqBdVxRD373oTicVFeVsL82f8ltVV/brz1TSzVWR9btOpJQV46q1dMo2efKVh9/NE0jcDAaKbe9RmJyV0QAjweBYRg1bLPOJKxhRYtu9Gt50SWLn6f1m2HMHj43SgqaOpxQ46mKnTvdR19B9yGr19IjUvUp+/fhhCCKVPfJTa+FZoGaW2G4HJWsnTRe3TtMYmY2BY1sus7YCpXjfsXFqsPQoLgkDjee+NaDqevJzGpY73cciHAXllCTtZ2bhzZD2QJPPrEWUenUSFJLN+ymb0ZGbg9HmatWEHP9u3P2vErKiqYuWw5ANv272fdzp0M7937zIqRJHE4K4tF69dT5XIxY+kyhnTtevZ2aRoWk4mHb7oJH4sFl9ut36uLhD5ruoyRkVizeju7dqYD3uLCwSH+lJZUYLWaEUJQXFyGoqjMnb2Cu++bQFCQv+6b3QRZuXIlLpeLwYMH68K4SJisFgb27sw7Xy+msqIEH1vgeS0eCiGxYe335B3dh9tdRV7uAY7m7KZbj2vp3e9mCvMPk3F4E6mtBrBt8zxU1fvyliQZj9tJWWku5aW5BAWHo2kq/gHh9Ox7AwGB4agqSAaJ8rIC9u1eRnLzHiQmd0U5XkWBwMBIJAkO7FtHTvZuYmLbsGn9TFTVU3MeTVMpLsqkoqIIH5t3jLH6+BMallDjZWEwyKS1HcLSRe9yNGc3LVp2q7EEqWr1r3Lsmr1Ko39ABL363kBAYFhNW8tK8zh4YA1JzXsQEZWKp7qtJpOJdh1HsnbV12RmbCU2rkWN/KJjW2Ox+qAoIGkQGpaA0WTFXllcb6Oh15VwI6o7l15d23v9MXV0dP5Yp7rIxfM8Hg/Tly7DXT2wzF25ivsnTyb0TNYfSWLz3n2s3+UNr7BXVTF96TKG9eyJkM7gNixJrNu5kwBfG+2aNyc9K4ucwiKiwsPOamHq2Lo1wmgk2N+f2IgI7756cUEvFzCDkK5IXca4VA/Tf1mCn5+NKbeMYsTIPjRrFsWf7nmRAYO6cM2EwaxZs50fvl3I+nU7WbtmO1de0UevKdXE8Hg8LF26lHHjxunCuJhoGlcO6cM7n81k5/aFdO15Ndp5dD0BOJ2VlJXmIUky8c06MHzkX2nXcSQ2mz/ZWbtwOitJ37+a/Lx0jttzBJqmEhPbBlk2nhCvI9A0Ueud46yqwG4vJjA4Blk21vpM07xfLS8vwO1ysGfXbxzJ2FLrPKqqEB3bujrYt/p7cMpxbLZgJMmAw15W56s/+f3orKrA4SjDPyACSZZqamlpGvj5eZNNlJfln3Qrar9gJdnoVQDruZ+tWv4FPTomk9o8QY9faADk5+fjdruJjo7WhdGYEIIqp5P84hIKSkpxOJ2oF6E/SZJEdn4ei9avr9m2Iz2daXPm0q11G5TTWJgkSeK7BQtJjI5BCIHZaGTLvv3MWraCID+/U8aeY9eneFT+NPFaMo7mkBQTy6bde0jPzDr9/ieca8/hw/jbbGSGHr0oMmnYzwnIkoyv1Up4UCAhgQHVsan1q1DpitRljMfjoWu31txy2xi6dW2NUTbiqKrCbDYRFOhHh9Ytads6hQkTh/LzT4vx8bGg6taoJseePXsQQtCiRQtdGBcTVaVlSgLjRvTil/mvk9qqH37+Yec8xquaSo/eNzBq7GNomoosG5Ck4wqGwWBCEhJ9+t/KkBEPoJ5oTsKbnMJs8Tt7rLRsRJaNuJz26hd57VVOgfc8QpIYcsX99Ow75TTnkbBY/c5cJFiAy1mJpqlYrH4nfVh3ociG6ra67LW/JrxZCTVNw2iyXNRbLUmwc9siMg4s4qk//x8mi1mPh2kAzJw5k4SEBF2RaixUK1DbD6SzI30fLrUEXz8PVou3rMMF78dCMGftNvz9FVokxVLlVHArCrNWzyOuWSWyfBrrj6bRo6uFQX0Hsmj1HtqnxuJrM+KUdlLgPHNiJ98QCU+ZHYeWQ0CojEfLpsD5+220+FehyjL5VQf15wXvMGvPA/sOE/7WMDqmtqR5XKw3qZZeR0rn9zCZjNx+xzhAoKLiweNNJqFpaJqGgoIHBV9fH6bcOAoVTa8l1QRZunQp3bp10+OjLgFCkrjn1gksXP4P5s78L+MnPX2KxacuyJIBg1FGVbwv5hMXIgODYggIiuZQ+noMsozJ5lVmjnnFeDwezlbQStPA5htEWEQyGYc3UVGeh39ABMf0KU1VcbtVQkMT8PUN4WD6WgYMuaPmOo6dx+2ufR6BV8Go8TzRYP/elRhNFqJj0tA0r1sggMdTVScvnmNWrdDwRDIztmG3H3eZFHhd62TZSERkykVbMpIkKMjP4Jcfn2D8iO7079lJV6IaABUVFRw6dIiRI0fqwmgMCEFhaSkL1qzBrmTSqbNEYjMDNpsFWbp4zYiMieOJsFQOHikjPaOUMUOT2bGvkG7tTZiMZ1CMhDdetKBCZlAvIwnxAb/v2isgv1DBN9DIVcPM59DCi7tI1BjweKC0TGX33mx+23yUQzmp9O/UEYvZXC/KlHQZyEjnLNRFOdLQUNDrVjRF3G43UVFRdP29QFadC9RBVRKaxfDMP+5k5+ZpLJj3JqrqOWe3dq3mj5O2axAQGEn3Xtexa8cCfvnxKXJz0nHYyygpzmXLprn89O1jVJQXnrU4sMXiQ/ee15F3dB8zf36e/LzD2O1l5ObsZ/b0F9m8YTphkcl06T6BjWt/YPb0f1OQn4HDXkZxUQ4b1v7M9B+fxFlVXq0QCSoriti3ZyVFRdmUFOewavk0li5+jzbtRxAT1xZVBZtvCD4+gezZuYS83COUFB+lpDjnrLKwWG107TGJ7MztLJ7/JhVlRbiq7OzYtohli98npWVf4uI7oF2ENSNJgpLio3z12f0kRrj5x59vxmDUFywaArt37yYwMJDw8HBdGA0dISguK2PmsqX4BGUyYZyZ9u1M+PtLF1WJAujaIZK4+ABvYV0BQSFW+nSLObMSBedZ5kDo5RHqCYMBQkIkevc0M3a0RG7FDn5ds7beEnLoI7qOThPGaDQyduxYXRCXEkXlisG9ee6RUv7x7EtUVhRxxagHsdkC6xBGI5AkA9JZNC8hYPCwP1FZUcTyxR+wduVX+PqF4nRWUlGWR0JyNyRZBo3qQranTghUDbr1mkx+fjpLF73Hlo3T8fEJpKKiAI/HzfU3v4EswYir/kGVo5z5s//L8t8+wMcWTFVVORXlBaS1GYIkGapbLaioKOTLz/6EQTahaSrl5fk0b9GHsdc8hclkQVW92fN69L6eBfNe5T/PDkASEt16TmbcpKdOaGvta9c06Nn7Bo5m72be7P+ydvU3mM028nMPEBaRzLiJz2Kx+lZb1LzyO7lWlEAgSTLiPAO1j1nPMjN28M20vxJkyeb15/9JVGSYHhvVQNi0aROdOnXSBdEIcHs8LF6/gYCQPIYPtmAyCS6Z84x6UgIHTat74phzUox0LapeqRZnRITMVVeY+WnGPtbvDKBXu7Z/+NC6IqWjo6NziRGaxvVXj8Dfz8Y/n3uXd9LXMvzKv5LSsg9mi6Um1fiJaBqERyYz9e7PiIhscdYETT62QCZc9yLde13PwfS1lJflYbH4EhPXlmYJnbHZgr0KSJ8bSU0biL9/mLddJxzPbPZhzNVP0LHzWNIPrKGyooiAgEiSUnoQFd0KVYWAwHCuu/l1eve/hUPp66msKMLqE0Bcs/bEN+uI2eJT3XaV0PAkbrjlbfLzDmCvLCEisgWpaf3x9Q2quRZZlhk59p8kt+hNduYOTCYrLVr1Bw1697uZ1m2H4esXckpbLVY/rpn8Iu07XsWBfStxuRz0H3wXrdsNIygoqiZ+LDo2jal3f05cs/bVxYy924ND47j5jo+JjGxR4wZZp/tYvV9pST7rVn/LkoVv0LNDJC/+6wmSE+N0JaoB0b9/f2JiYnRBNKiB8DQdTZI4cDiDIvthrhluwWSRvErUpUxGJ7y/QlS3WdT1OwIkUbfvCLw+Y8e+o+tVJ6CdvzxUCAqW6NfbwMJFO0ltFk9IYOAfcvHTFSkdHR2dBoAARl8xgJbJCfz3nS/47oupBIa2pV2HkSQmdyUwKBqTyYqosRhpSEKmVdpgVE3Fbi/93TNExbTyxh+hIRBoaGiqisNRBmgEhyYQEpaIR/HgOe3xBFExaUTHtD5+DE3F5XJ4kztU7xMb397rPnfSeezV2fgUxU2Voww//zCat+iNpireLH6qSmVl6UlnFKS2GkDLVgM4lmmwsrKU0LBEQsOT8HjceDyu07Y1KaUnSSk9a7Yc++4xDLKZVq0Ho2pKLfkdO6f2u3L1al6K6qHKXkZeXjp7di1h59Y52Mwl/OPu0Uy5dhQB/n66EtXA0JPrNJSBz6tReDweKh0O7FVOFOV4qIGmaSzduInA8HIq7WbKKy99k2VZkFdgp6i4iuzschRFq9NlFpVUkXO0AqMkof7OxF0IKCyuoqTUSWZWua5HVcvEZJTx9TFitRq8HgPnowCpkNjMQFCInd2HMujdIfAPtUtXpHR0miCaplFSUkJAQACSpIdKNhhUlRYpCbzxwt/ZtGU3389cwLI1b7FicSUqPhgM1jPXHmk0CPJz06moKOD9NyZjtfo17vhMDVTVjeKpxGx00zwhgodu68foK/oTHxdNTaEsHR2dk4YCgd3hYNehw+zNOERFVQlCcoNQq0cKQZXLxdb9e0iVPMxdLl2oUkDnhCQJ9qaXklfoIGAZqHVw7RPAjv1HUakiNNhSp+tQVQ2XW2Hu8j36s1KNpgokyUhEiC9tWoQQF+OHfB4WO9kISQkS+3fnoCitkf/Ae1VXpHR0miA5OTl8++233HPPPZhMJl0gDQlVxSjLdOvalq6d21BWWk5G1lEyc3IpKa04ba2SxoIkSezce5CX3t6EpmnYzOX87a7RWCzmRntN4C12HhYSRHxMJNGRYVh8rLoCpaNzNoTgUHYOSzauB2M+aS0lYmNkfG3ieCylgLIKlfZZEm1amzEZRYNYcjHIgmVrDKQfNnD9RBOeOlqknKqBgb1NJMSb6jQ0nJDQVKcat1ujqFhhf3oRc5cVkRAdSt+u0dhsxnMWVGiIxNaqSlxuN1bz+b+DdEVKR6cJsmrVKiIiInQlqiGjqAggIMCPtkH+tG2b2vivSZb59/8+wun0uuKVllXQuVNbOnZMa/wpwY9VGFZVPb15AyYrKwuTyURYWJgujEuFEOw5dJhFG1bQpq2Trh3NWHxOZ1UQOD3g6wu+vhINpkKHLLBYBCaTwGwTmOvY3c1mgdVHYPWRaBCmtcb58BAYJJGUaCA3V2XR0jxmLHIycmAifr7noExpYDIJVM2DR1GOB8ieB7oipaPTxHA4HGzbto1bb71VF0ZjQNNAuQxeukJQUlTK9LlLazblFRQza/4yOrZpoVtvdC4K3333HQMHDtQVqUs4DuQUFLB442q6d3fRsb3ZGyZ1uu4vOD651Wg4phntpH/XpV21zEuabmaqB/lHREqMHmlh1twyFq86wpUDEzCcQz78Y7lN/qhOqwdH1FXgl8GPVP17LHvM5fSjU3e2bt1KQEAA8fHxujB0Lh6SxIatu9myY2+tzbMXrKC4uBSE3o91LixHjx6luLiY5s2b68K4FAiBR1FYuWUriUmVdGhv8nb7s01kxQl/N5QhQpzh3+d1AJ3zRgWbj2DIABNHi4rYk15yXu+RP3o3dIvUGfAqHRIKKlVOJw6HE49HadyrCAKcVS5cLg8VFXbyiotRPI3bBUUIgclsxMdqxmQwVfctvbjw2QgICGD06NG6IHQuLqrCzPnLqKh01Nq8ded+1m/exdBBPXWXOJ0LyubNm0lMTMRms+nCuFBUF1HTVBVFUWpl4JOEIONoLjnFhxnfT8bjVs5qiBZC4HQqOF0qTqdA8TSMKZjBI3C5NDweFU+VWucYKbdbxelScTkV3QCPN2mHwSCQZM7f4qhBcIhE29YSW3fnk5oYiMFwcW1EuiJ18o2triadmZ3HihVbWLFsM/v2ZFBSXIbH7WnsehSqppFx+CiH0rP4+YdFjd5NVxICi9VMRFQo7TqkMGBAZzp2aomfzaYrVGegZcuWuhB0LnZHJTsnn1+XrD3lo0q7gxm/LmNo/266nHQuGJqmsWPHDoYPH64L40IhBJUOB+lZ2RzOzqGkshSP4q55CwsE+zKOUO4+zLzlRm9YytkOh6DSUUVhWT7b9wpkuWEkm5Al2L3fTl6+C5NJoNQxccSBw3ZcbhV/P0OTn5kcK6vlY5WJCjeTkuRDWKgJSeLcFSoNUpINbNtWSVGpk/BQn4sag6YrUid2DiQyMo/yyUcz+Pn7hWhVVbRPiWJY6xhiIlpis5jqVOne6wLbsLqJEMKb3lF4VwEURUVRGv+SiKJqFJfZOXAknzVzlvLlR9NJbJHAbXeOZcSI3litFlT0pR8dnUuKJLFszWb2Hsg47ccLlqwlMyeP2JgIUPXFD536R9M0Ro0aRUJCgi6MC4CqaexKP8janVsRxmLi4zQSW8qYLZzgfq8RcrCQwGCVmGjP706ThBA4qhRKKgXhYYKGUvlBlgUWKxzOFPTrI+pURwqgb28/9OCo43gUKC31cCTTyfY9ZSTG2+jVJRA/P/ncxKRBgJ/AYlUpLK4iPMznoopZV6TwdnJN1Zg+awnPPvkBRlcVfx7fixF9WhMVHoBkkFFVDWeVq1pBEme+m0JgthiRZLnhKFOSoKzMwW9rdrP3YB4Ws5Er+7UhKSG88U9aRPUfqkZVlZOdB44ybeZaHnngZWb8spTHnrid5MRYFF2Z0tG5ZHicLqbPW4bb4znt5/sOHmHp6s1cN2EEqLp7n079I0kSqamXQebLhti/VZWVW7ayM2MLXTtD65YmLFZxylRJVTUcmiAiykBYeF0my4Iqp0JphYGw8IajSCELMo/KOJwKCcmGyyMZ0CWkSycjOUcVlq+q5Kc5Lq4cHEpoyLmlM5dlgcUM9irPRW9/k1ekBAKPR+G9d37glX9/xnXDOnD/jYMIDwvwKhma93ffwaPc/fTXlFU6ODY6HMsOoqhqjc5kNhn439+uoVv7RGgIFh8hKCuzc99z3/DL4q1EhwWiqiqhQb4kxYc1jDbWExaTkU5tmtGhVRwTh3fin69P56brHuO1t/5Op44tm7QyJRAcPZqLnzWIgICApt7tdS4mksT+/YdZumrjGXfxeBRmzFvKhKsGYzTIusx0dBoR63fuYnfmZkaNMBAbKx+Pdzl5IqxqqEp1xjqVOkyUNTQVNFUDtQElaKjOMqgduw59nfYPIQmIiZEZO0pi4W8u5iwqYOyIcPx8626ZEgKEVLfiyPXe/qZ+AzVN46MPfuaVFz7h8duH8dSfRxMe4u9VME6wKPlYTHRoGUvntGZ0aR1Px5axZOaWsP9IPm2aR9OldTyd0+Lp1CoOf5vldxx/hffJkUTdMoyIOux74j6i9hO6ZP0+fl60lSfvHsnyzx5kyccPMKJP2vF0w4Lj7fnDA8yxdpymp5xu+5nkcr4oKhLQvWMy0168lebBFu6+/Vl27ExHbsKPu6KqfDXtR44ePdrUu7zOxUYIFixdS2Z23ll3W7Z6M/vSM2g4y846Ojq/17ez8vPZtG8LgwfIXiWqTgqSjs5JqN46W4P6mzCa3KzZUNpoYvibtEVKRmLBojX894VPeWTqUG4e1wuBdqpLnqoRFxnEy3+7pnrwAJfLw8h73qKwpJJX/jGBAD9rzeDhdLpxOd2YzAY0DVxON5IkMBpkFEWl3O6kvLIKVdPwtZoJDPBBlqUaNztNA6fbjSRJmEwGSsvsFJZUYjUbCQ/198Y6HWuj8AZflpXbKSl3YJAlgvx98LGaQdPQPCrb9mVjMRkY3KMl/jYLGmAyVmv6kqC83EFBcQWSJBEe4ofVaq5V08XjUfAoKmazESFLuF0eVEXFZJRRNQ2XW8FsNqKqGnkFpTjdHsKD/bDZzIDA5XKTW1CGR1GJCPGraduJg7EGlJRWUlRqx2iQCA/xx2IxniATDafLgyxLGE1GVFXFXf3/09YNUFQiQv159eFJ3Pavz3n476/zyWdPEBjk3+QSUEhIpKdnYLdLJCUl6QO2zsVDCCorKpkxfxkAJqOBqIhQjEYDObmFNIuLpKCwhIKiErKOepNRpLXSU1Pr1C/p6ekEBwcTGBioC+M8+nDN4sZJcyNN09i0Zy9JSS6Sky3ejWddBxEIyfuLJOqkcEnysf1pOEv/1W0RovrfuuJ4/FnxZjU7PyudBharoFcPI3PmVdK+0I+wUOOFka8AxaMhhIT0B40ITVaREgjyC4t5/pmPGNUrlVtqlKiz3eQTC8NptbdXF1krr6ji/he/JzkulFH92/LJL6vZuOsInVvF8didI3j2/XnMX7WL8soqNA18fUz079KCh24eTGJMKACl5Xbuf/E7mkWHEBnqz6e/rCYjpwib1cx1I7vyf7cMxdfHBAjKKhy8991yvpu/kYKSSiQhiAoLYMKwjtwzqR+fTl/DO98uo7Siitsen4bRKNOldTwvPjAWSZL4dtYG3v52GUeOFiMJaJkYyYNTBjOkZ0uv8UiS+GbeOn74dROP3z2StdsPMf23bbjcHv794DgqKqt49v15XHdlF1ZtOci8FTuxO910SI3l6ftG4fYovPzZQtZuO4zLo9C1dTOev38Mac2jvJ1NCMoqq3j/u+V8PXc9RaV2AFonR/H3qcPo3TEZgPyicv70/Lf075JC19bN+PjnVew4kMOgbqk8eucI5NN1BFUjJMiXFx4cx4SHPuDjj2bw4EPXN7kxTwArV2ylU6c2GI1GfbDXuXhIgm0797NjTzpjR/TnuvHD6d6pNavWbeOZVz7m2/efQ1EUFi1fz0dfzWDWghXcdv1obDafBpewR6dx4nK5+Oqrr7jxxht1RepcqE5jXlRSwoZde9mybz+5hYW4PO6aXTyKwu5DB4mOcTFnpfy7XVbTNApLSrD5evDxEXXq4oqqUuWswsen4ZSakyTIzHZTWqayeZtDT2WON0YpJEgmraWFrh2txMQYz1xo+WyoEBMlExjo5sAhO2FhARdMUS0t1zAZLJiMxj/0vmmyipSExI8/LKY4O5cH/j4Wo1Guh8QLAreisn5nBgvX7OHL2esxmwwE+fvgcLpxuj0UlVbSq30SbVKiMJuM7NifzafT15BfXM6nz0zBYjXh9iis25HB979uJjkulMHdU7l6SAfmr9rNix/NJzkulClje4Ki8uoXi/nf54uYMro7PdslUlrhYNHavcxcup0po7uTGBNCQnQIBSWVdGwVS0iAjaS4UAyyxOcz1vLAv79nULdU7p7YlyqXm09/WcMtj33O58/fxMDuLUHA4ewi5izfScbRYsorq4iLDEIIgcvtIb+4ggWrd7Np9xE6toxj6tW9KSyp4NPpa5j8t4+RJEFqQgT3XNuPI0eL+eSX1Tz3/lw+fvpGjEYDLreHJ96cyddz1nPb1b3p0S6RotJK3v52GXc8MY2fXr2TFkmRVLk8rNl2iE27M5ElgZ/Ngp+PBXuVC+1sCUBUldSkSO6d1I83PpnJuKsHkpgQ02Qy+QkExWXlHMk4yqiR4/TRXufiokFQgB9vPv9/DB3QAx9fH5Aktu7cjyRJBAX6ExkVRpvWLRh/5UBWrt+q60869Up6ejpCCGJiYnRh1BVJoryykq/m/sq0edNxSwdJbu4mKkLge9JaXK9EgYaoc7/1D6sZGupMIA0j7fmJpLbwKnaq5tCfF0BRNA5laixYWoTdLnPlUH/uuDmEqEjDOStTsgFioyVycl0XLv5Mg8NHFMIDQ70LzLoidW4IBKXl5Xz39XyuGdKBpLjQes9ep2oa/7zjCkb0aY3NakJRVIxGmdcfmYjVZkEY5GrXO2+Gqq/nbuBIbgkpiRHe76saHVvF8snTU0huFgayzJhB7Rk49RUWrt7DlKu6U2F3MnPpdjq2iuP5h8ZjtZpA1bhlXC8ysouwmo0M7N2KlVsPsuvgUe6fMpiW1ZagvPxSXvliEd3aJPDh0zcQGOgLAgZ2S2XkPW/x6heL6dU+CbOPGSHA5fbQs30i998wiLjIQFRVw2I2kpFdBMC91/bjoZuGYLVZQFVxexTe+noprz88kVvG9cJsNeFxeSgormDFpnRyC8uJjQlh1bp0vpi5lmf+PJo7JveviZNqkxrDFXe8wc+LtvC35Cjvc695E3y8+MBYBnRJwVzt4nda177aN4PxQzrw0c+rmDVjGX/60+Qm86xraBiNBiZNHkZIiJ5kQucio6qkpiSQmprkdRf2KDVvHa9bTLV/jKYR2yyaiQkx3v10ZaphI8vV967hN3X9+vW0bdsWWdaTmNQJSSIzN5d/vP4mB4sWc/ddBoYNshIaakPS8zzrnAVNhfJSjVXrXLz5fgk33FHJv5+MonNH6zkrRAEBEocOefAoGga5ngcaAYWFKkeOyAzrEv+HD9cku4WExI7t6WQfzuaqu4d6pVqPb25FVenTKZlrR3ZFVLsBGg0yCIEkq6zZdID1OzI4nF1EUVklG3ceweVWcFS5jj+QmkaLhAivEqVqoHmICgsgOiyQgpIKPIqK0SATGmhjw84MvvxlNf27pBAR6o+vzUJyQrg3YYaqVX8fNFX1pukUsOdQLvsz8pk6vrdXiapW6JLiQhnUPZWfF20mO7+UxIQINE0jyN+Hu6/tR3JiRM2+GGQ0wGiQ6dI2watEeRQwyCTHhWG1mOjcNgGzxQgeBYNRJik+jIVr9mCvcoGAJev34VFUDJLE3MVbUVUNIaDS4cLHYmTngRxQVK/brapyRe80rhrc4YRkIHV4OWoaYSH+DO3RkvlzVzP1jrGYzaYm87xbrWaaN49vMter08DQNFBqpzQXQpBfWMLLb36On6/PGRcDFUXBU/1dSZKqM/o1gtn7ZY4kCXbtO4THozTou+F0Ojl06BC33HKLftPqghAUFBfz5/+8hClkJV+/7E9cMxkUvFMkvTKBztkeH8A/QDB8uJme3U288HIl9/4tkw9ejaNNmuWclCmDfErOt3prpMcDK9Y4ifBPJj4y4g+fpIlapGDjhl1EBPqQEh/uVaPrGUkIhFo7oUJ+UTkPv/oL0xdvJSLEj/ioYMKCfLFazhC3omm1LGWyEJiM1X7ImobZYuShm4bw0H9+4E/Pf0uAn5VmUcH07pjEbeN706raknM68ou9ylh02ElWCiGIDQ+gotJJSZkdquNBhcCrFKonxYYdQz0xSYeGySADGtpJEyjzsdTG1cfKzi+lrLKKlz9b6E24cQJGg0xIoG+t8wivLf3cH3wBfTs358dlMziaU9ik3PsAVFT09VidhoIAqpxOtuzch8Vs5kwLWR5FxeP21gWRZAmTUV8SbyhoGgzs0wVLA16UkiSJiRMnEhkZqd+wOqCqKi9P+xqnaRXv/CeA8HAJPLpcdM5lYAA84O8nePxhXyory/nXc7l8+nYcfr7SpfU2kMDtguWrnOTnBDG2f0evpVpXpM5jsEBlz54MkmNC8fUxX5wbKwSfz1jDl7PW8eS9o7h5TA8C/awYzUb+9+kCnn5nTh2OcfKFaAzqnsrst+9l3fbDbNp1hHU7DvPe9ytYvfUQP7x8O5GRQac9lKlaoXG6Th0lq45lwzuhnsu5iUicocGnIssSEcF+fPbcTcRGBFbHOx3HYjbWZPX7Y51bIyk2FM3tJjMzj6SE2Mv+ORfVP01JYdRpHKiaRmxUOB/971GiIkLPWPtDQ6sZEwTCu5Ci02AQgnqZiFwojEYjLVq00G9UXZAktuzaw9y1M3nzNR+vEqVboBpYh6v+uzG4PmtgNsPfHrAxaUopM+eVMXliUN2KFwvvrxDH//27p6teX5cN4rTZHVUF8nIUVq51UVIQwoievQkJDKiXsatJKlKKplJYUExCiJ/Xz/tipFxRVTbvziQi1J/rRncnLNTfa1mRJZTzrIqtaRqKqhEVGcToyCBGD26P4lZ49r05vPDhfPYcyiUyOvi0D3iz6GB8fcxs3pPJdVq36odX4HJ52Lo3i8hQfyJC/Oo9dqwWkkTr5Cg++Xk1WXkldGqfeNxtsHrCpHqU+vHk0SDA14LZIFFUWHrZOwcJBCUl5Rw8mEWHjqlNsZvrNIKnVDbISAYZSdWDonR0LjU/L1lKuw6ldOsc2LiUqGOp0c/kfig4HgVwPgV0j03mL+GapKZBcbGKEIKgwEYyg1EhJkZi3GgT3/9SypVD/DEafz/tvSSB3a5RXq5RUKBgNPz+9brccCRTwUfWsJnc3iLOeL3KyypUsrI1CvJNxIe1ZPyAdgT6+9XbAlDTtEipGm6XB7OfuR4m6XUvuxwR6k9hcQWrNx5gWM9WuDweVm5O56vZ607fDO1shxMUl9l5ddpvDOzWgk4t47BajDicborL7PjZLAQH2E5/DFUlpVkEg7ql8tXs9Qzr2ZJ+nZujqBrfzd/I4rV7uffafoQH+13YlUZNY3jvNF7/cgn/enMm/jYLnVrFY5AlCksrmbdiJ342CxOv7FI/D7ssIUkSLvfl76sgIbFy+RYKC0vo3LEVim6V0mlwVJeN0HUoHZ1LTlVVFet3bWPSFCOyicbj0idg/QY3aze4iYqUGTncjMlY+/PSMo0Zs51UVGoM7GskNfXcMslVVmqUlGiEhgjMZnFJrtHh0Lj7wXKCAgRv/NcfQyPy1R/Q18SX39rZt18jPtZUo+ScCUmC8jIoLpLIzrRiMJw9oZgQkJevsHe3Cas7mpIcK2VVNgACrA4sZitRwaH0aRlNeHAw0om1WOuBJutwfizup16e8FO2iNPudv3IrsxetoNb//U5ybFheBQFRdXwsRhPXxDsd9onCcGyDft5bdpikuPCCA3ypaC4gqy8Eh6YMohWSZFea9sxM+kJ37VYjDx+95Xc8cSXXPePj2nbPBqXW2HHgRwG90jlvusH1AjomItY3a7+mHTrcBGqSnJcGK/8/Rr++tKPXP3A+yTFhmI2G8jJL6Wo1M7T94064UaJ+rlbTSC/ssPlZNPG3Vx73XB9nqqjo9Ok0DSNvXv3EhcXh4+Pjy6Q30MIyirtlFTm0zzJ0LgWNySYOdfJky9UEhoiMf2bQHr2MB63TMkw51cnU+8rw+XS+Pgtf1JbnYMiZYB5C108/lwFH77hT7duxktirdNUyDiiUFkpNa77U10XymQCj8uH/2fvvOOjKPM//n5mtpf03hsEkkCA0KuICHZFxd7bqaennmf39NTTs/701LOcvespir0ivUmRXkKHhIT0stk6M78/dhMIJAhKSZk3ryhsdmdnnnmeZ57P821x0eFov+GFJSSIiwyQEm+iIDsb428JKQlm7fIypl8yk8aOxWiQ2FZlQQBp0V6EkBB7FpU+xGtAPXL39zacLHPrpcfh9fmxmk0tN8ZuNfHgn08OWoNadSaNfr1S+eiJK/j4+6XsrKwjIymak0YXgIAV60tISYgEVcNpM/PwX04NWoRaRhGYjAbuumoCJoMBIQnCw2y8/uBFzF66kRXFpbjcXkb2z+KYQT0Z0jczqOJVjZPH9CErJYbEmD38QVWN/B5JfPTUlXwxfTnL15VgMMhcO3kUJ4wuIDIsVBBThZPHFJCZEk1ibPg+CSaK8rs5bEMAAIAASURBVNN58e/n0adH0m43QEVj7OCe/Oeec8hKjt79uqpx6ti+9EiPIyEmrKWw8YSReeRlJTBt4TpWbyzD6w+QGh/J0MJM+uWmgKISHW7jyVsnkZkcrRfq/A1kJNas2oTFYiIzq3sl1dDR0dGpr6/ngw8+4MYbb9SF1AHi8/lRNB82a+dzfNc0sFoFQsAb77oZXGRElgABjfUab7/vISZKUFG119qh2eWv2TK+pwtf82NTEjQ0aWzequDxA8ZQ5q3m9+zpMijtcRxtj9dEG6830+yW2JwZsa3X9zzlThiXYDaB0aDh9qggxG9fgwh6XQkhkKSgJ1G7SFBRobJmrcyYwt5YLBbQVIyhcgeSLLesNQ8XupD6nUiSYMKo/OA/lN2jwmw0cPr4/qHBou4z2vN7JJHfIzl4UyXRcnP75KaE6qcE6zNNOn7APscwyBInHdO31Xemp0STnhoTGoDa7lGmqC2vFfZKobB3asvxW1A1kuMi+NO5Y3a/vndWPE2jb68U+rb1eU0jIzmajOY6XHt8JjczgdzsxH1e79c7lX55aa2PpWqkJkVxyRnD972O0PvsVnPQxW+vTIY6+6IBq1ZuZNjwQgySAUWPGNbR0elGrFq1iujoaCIjI/XGOEC00Cq+My7UNQ1ioiTOOMXMlM+9LFsRYMCA4PJ2xmwfa9YFuOAcK8+91LRbqwgo36Xy03QfxRsVautULGZB71yZ48aaSUoM1knbsDbArNk+AgH45lsvWzYHPYlGDjWRkyXzww8+hICCPANff+fl1xUBoqMEZ5xiobCvgU2bFL741sv6YoWEOIlJp5nJ721oEVZLfw2wYWOAiePNOJ2h+CEJ1q0LsGRZgOOPNREdI3X6/iXEYdAyEjTUa/wwzUtqdC96pKbs9sI6guhC6o+gqAf3OoREwG7LzZ7T2O86trp3kIG2/+9sawZSDuXnf+P19o51INeh6JaVA0FFZeJJI3A6bLqI6iqI0H+6Qta65iK8QgT/foj91Y8ah8FlROf3sXjxYgYOHKg3RDdC0+DM08z8NMPHG++56V/oxO/XeOMdD0MHGRkyyMgzL+zxARlmzvZxw98aiI2RiI4SuN0aL7yq0DffzesvhJPd08CSX/189Z0Xv1/jvf95sFmDWYTD/i6RlSHzxL9drCtWSEmWKN2pYrcJtu1Q+N9nXi6cbOGDTzzUN2hYrYKt2xQ+/dLDx29HkJUlg4BPpnp47W03s/sbcYbJLULqx+k+7nqgkZ8+jyQ6rvMLKeCAM/BBc/iN2J25b6/jaCqU7lCYNtOHTcpgTNGAo5ZBVBdSOjpdkOio8JYdRp1OSkhoaKqKu8lNfYOLpiYPqta5NxRkWaZ0ZwU+r4/NW3bganTtU/ags2EwGHDabYSF2TE218XSN36OCjU1NdTU1JCXl6c3RjdC1TTSUmXOP9vCi6+6ue5KK9U1GguX+Hn1+TD8Pq31/qwCRf2NTH0/gp49ZMIcAkWFr77zcuUN9Xz4iYe7brdz+slmynap3PmPRp7+l5MRw4woCkSEiWDGZQFV1SqXnG/h4vOsxERLfPujl6turOffLzZx8/U2zplkITxc4v2PPdx8RwPffO/l+utsrfPttDUFdqFHuAb4fRoBj/abmaolCerqVPw+QUODhiypLU3h82tUV6sUb1TYscNEj+S+DO/bB6vFctQ2snQhpaPTBdFFVCdGCJAEtTV1zFmwnB9nLGTZ6mJ21dbgDfg7vdFDCHB7vDQ0urjgL/ft3/+9kyBLArvJQmpiPEOLCjj+mKH0yc/BZDbpguoIY7FYuOCCCwgLC9Mbo5shgHPOtPDqW25efdNNTa1GnzwDo4eb+H6at/WbNcjKlsnqIdNQo1GyU6WuXsNsFoQ5BBs3K6CAyS4Ij5AQAqKjBXGJu4sU+7waqgID+hm541Y7NlvQNe/YY0wkJUj0LTDy15vsLfFaE44zERkpKN6kBOOkulFZPFWFLVtgVXQwJfl+76OAn2cqlO2woDYFfQKbqwmiGTBKNhJj4jlleBaJcbFIh8Vv8MDRhZSOThdCIHQR1ZmRJFyuJj798mdeeudTttSUk9IvkZ5nZTK4xyDsETYkw5HM2qQhJIEkS2iKGiqcK/74MUOBxJqmdQFvOA2/N0BdeT1bV5Ty7tyfePGDTxnVvx83XDmZQQPyj/qDvjthtVrJzs7WG6IboqqQnS1z9hkWXnilCatV8ML/hWFytFG7SMCucpX/vuHmi2+8VFSqwZBsoKxc3R2KvWeiguZEEXuGigOyHKoBqwSPazYKbNZgrmPRkrQCLGaBxSLw+7XdySe6CZKQSIlLITc1mcB+NpeECKabt0t+zhk3kpyUZNTmouxCYDQYsFvMmEymYIH2DuBSrQspHZ0ugqpq/Pj9PAYOziM6KkIXVJ0NWWLDxm3c+8hLzFz1K8POL+Ls808jITsWoyE4VR/pOyoQ1O6qY8PiraT3SSE2JUrvV+22FWjngNvlofiXLXz/4izOue5urr/oLK67/GzsdoueKEdH53AjwQWTLbz5npv8XgbGHWPad9wJ8Ho07rivkU8+93Dp+VaOGxu0IgUCcNHVdfvkCjvYuUC0rd2Q2hFPXX1mEIDVYsZit7YdP7/HG1eu9hJhTWBAr1wsFvO+QmmPBGYdAV1IHfXeJfYdTu31DVlqOxvgoToPaa+Mfb/3Wtr6vOgms8VRQkKwfUc58+etYOTo/npDdzZkiaXL1nLtbf/CE6ty00eXk9UvLZhEE+2oFVSWkSj+ZQtPTX6VK/9zLuMuGa6n0/8NzHYTfY/pRa+hWcz5eAlPP/ARm7eV8vA91xMR5tAtUzo6hxMFeuca+PdjTpISZcLC2lA0kmDz1gBffuvlwslW/u9RJ1JoNVxdo2EyN+cpDyLYI3/WQSRLOBAkEXR1a+XuJkTIxNXV0PafilyCrVsDLFkqcWz/PljMpsOz3j3E6ELqKOIPKLjcvlZjR5YkzGYjRqMhmJYk1N88Xj9TfvqVuCgnxw3tdWhPRAg2bNvFj/PWcuKoAtKSog76Ye/1BXB7/QgBDpsFea9tlya3D0VRcdjMQXOszqG9hUjMm7OMvn174LTZ9Wx9nQlJYl3xFq659RHM+TaufupsIuLCUFE7hBzWNFACym8mhJCQ2HdbSGt1FVJoddCWGGvrd9JexcD3Pp5AICFQ0dDQWs6h+d9HCxUVg8XA2AuHkpAZw8t/eh/DIzKP3ncD1rZ2WHX+MIqisHbtWnr06IHJZNIb5CARe4z3zo5BhrPPtLSu5bQXfj/4/RoWC0h71IJavzZAdbXaap1itwkUBXZVqCCLlhqbh6LRo6IkGho1Nm4J0DPfAAGNmgqV5SsCXWo7NKhB21n7ScHl7rr1gp+mG+mXmUfPtNRO0xl1IXW0kCVmLVzHnU9PxR9Q0bRgLILRIJMQHcYpx/Th3BOKcNgsADS6vTz08rcMLkg/9EJKlvh17Q5uefwTMlNiSEuJ3r/ptY3PfzptGY+9/gMGWeKeq0/g1HGFrYKsH3v9B9ZuLufl+84nzGHVFxKHEIGgtqGBNas3c811Z+kWg0518wT19Y3c9dDzKCkSl//fZMJjHZ3uHqqKyrbVpWxfvZPanfWoqkpEQhg5gzJIzIlFCPC6/RQv2IIz2k5an6RWn1f8Kut+2YTRYiSzf0pwEaPCtnU7WTtrA7XlDYTHO8kf3YOk3PhgJngENeV1bF9RSlb/NEw2IzvWluGqaSIlL5HIhKOfuVJFpfeIHK54bjIvXfEevd/P5NrLz9QNxoeB0tJSpkyZwm233aY3xu/AaDQiYcTj7aSdc+8KKvvbS1Q10tNkBg0w8tb7HoxGQXqqzOq1AX6a4aN8l7rbWUiFvF4GYmMkHvu/JsrLVZrcGqOGmxhSZGz3VNo9zb2qvIwYYsTpENx1fyPLVwRwe2DaDC+r1yltugF2xqWTzw+BgMBiDqYn39Mzz+fXqKhUWbnax7I18fTKHMqwvhGdasO9Wwupo9ofhaCmvonFa7Zz0qh8CnKSCCgqjW4vC5Zv4fp/fkBFdQN3XjWBA7IlN4+436rgLMTu6tpaG1W+2/zMbzSWEJRX1bOyuBSHzczT70xjVFEOkWG2lu/YUlLF6o07UTpEBquuZRETCMp2VtIzN52ExGg9hqVT3TzBe598yy+b13HzR1cQHuvsdCJKIGiq8/Dyn95nx+oynDF2JFmiocqFLczCRY+fwbBJ/VEVlU8f+Y6mOjd3fXUdzmhHixVpy8odPHX2Kxx3zUiyB6ShKio/vTaXT//1PSaLAUeUnZrSOqY+9gOXPHEmg08vREKwbs4mXrzqXU69dTybFm9l1fRivE0+Lnv6LCZcPRqlA4wFFZWCMT054ZaxPPPMBxwzYgC9c7M6hctKZ2Lp0qVkZWVhNpv1xjhYNA2nzUaYLYot23YxdGhnOnfITJcZNtiIxdJ+AFJ0lMToEUYS4iRQISxc8PhDTu59qJE333NjMgryesnceYud76d56ZkjNw9gevU08NgDDp55oYmnX2jC6RD0zTcgy1BYYEBTgym7mzEYYGA/I8lJUqtzMJlgyCAjPbJDS+9QCvZ//cPB0/9p4qnnm4iOlDjrdDPnnSXx1fc+nKFEGbIMAwoNhIVJnaucoATlFQq1NUYWLZYo3eFBC8WsBRRwuyX8XivJMRkcN6gQiy0BSXbRmR6D3VJISZLAYJDx+4+++5MkBOeeNIjzThkCgWBF5g1byplwzXN8NWsVN14wFrvdvL8D4PX6Kausx+sLEBVuIzrSGZQKewolEczmVlProq7RjdloICbSgcm8ny4gBAFFwePxYzTImE377y7hDiuXnj6U/348m6nTlnHppOEHZ9k6zCiqhqJpGI1yl+rPKiqZWclkZCR1x+HceRGCsrIKXnlvKsdcMYz0guROaU3U0DCaDZx887FEp0YSkxaJbJTZtamKV67/kM/+9T35Y3sSHulkyKR+vHHzx6yaUczwSQNQQi548z9ZihJQGXRqITISy6at4cN7v+SYS4dy0k1jsYVbqdlZx+t/+ZgP/v4FOYPTiU2KQlM13PUevnluOoXje3HJU2ciSRLphckdxDGyuY1gzIWD+WXqMl5993OeuP9Gvf8fQgKBACtXruSss87SG+N3YrNZKczJZ/rs5ZwzydZ5thtVuPAcK+eeaQkKqbamUAUGFxmZ+kEEJqNosVYV9jXwwevhlJWrSBLEx0lYbIKzTze3EkZCwLlnWzjxeDMNjRo2K4SHBM0j9znQIHjc0GC3WQXPPu5ESHsILA2iIiVeez4smA49ND3JElx2kZVTTzBTU6sRHiaIiZVQVbjkAisWc/B8LRbBkw8H13ZyZ1rCCJgz30tSZG+KssdhNMhoWrBNDbIBp81GTGQ4EU47pTUWahoJrV11i1SHRhISUdHhVOws7Ri7gs3WoVDvioxwYLOasFtNyPJ+Uh0LwaKVW/nXq9+zeNU2/IpCVJidC04axLXnjibMbmk5ZnlVPf/5YCaf/7ycmvomjAaZXlkJXH/uaCaO6dPmsetdHh588WvWbSnngetOpl9e6n6zTqmaxqlj+7J07Xb+88FMThxdQFyUs2PYogU0uDx4AwqRkWFdzmZjMHQtcdg9JiKJH2YspEptZMTkok5tSTTbTYw8axCqptLkctNU78EZbSezfwq/fL6chspGwiOd9D8hn8+f+JE57y+i6OQ+GE0GqktrWTDlV/qO701aQSJ+NcCMtxYQkxbJ6beNxxFlR9U0krLiGX/1CJ658A22LNtBXFJM0O9ekjjjjuOZeN0YDHLwkaaGoqQ6ChoajjAbYy8dxjcPTufGHZNJS0vUs/gdIkpLSxFCkJGRoTfGH+C0MaO44enPWbHKT9++RjpLqK3RCEaT2K/njCzTUuepBTX4WlaW3DxQQaVNy5bQIDxcEB4hWrkRms1tvFe0cwwBVuu+5yk0iImRiIml5diSBIa9ztdi7mTeNBJUVah8/KnKecefwPAB/dpec2uhi+6kIR/dUkjJSOT0SOWbRStocvuwWU1Hzc9PA2rrm6jYVUcgoODy+Pjfd0tocvu4dvIoLBZj2+cmCdZs3Mml97yFJAS3XT6e+Ggn0xas5+FXvqWu0c2Dfz4ZWZapbWjixkc+4sf567j4lMEMzE+nvKqeT6ct45MfljJxdME+x250ebjn35/zwTeL+NdNp9OnZ9JvPvQ1TSM63M6fzzuGi+98g4++XcyfLxjbQYSUYGtpNZokk5wSq7u/6Rx1VL+f736eT89RmcSkdvJ09RqsWVDM9DcXsGnJNprqPCh+hcbqJoxmA6oStDzFpkUx+IxCfn5tHttWlJJblMmy79dQXVLLxU+eidFgpL62ge2rdlJf0cDL176/xxAWNFS58Ln91O1qCFndQTZIJPeMxyAbOnSSFRWN/DE9+PxfPzB/8UrSMpJB1ZPCHAoiIiK44IIL9CQTf6iDqgzO782wXsfx8JNTefnf4cGMd53FSK79zvdoHPj672Dee7Dn2daxO/MyJZSN8NmXGjH4+nDG2NHBF9pbD3biiItuKaQ0YEBRL1597kM2l1SR3yM5mDLkKPQ0TdX4xwtf8dRbP6GpGi6Pj13VDYwp6kFqQmQwCQVtRxy+NmUu5VUNfP7vPzFsYA5ocOrYQoSAV6fM5ZwJAygsyOCLn1fwxYwVPHbzGVx//jEIWQJN4/IzhrO9rGb3YA2ZW31uH/c99yUffruYJ26dxIWnDDngTJyqqjJxRB5jBvbgxf/N4vRjC0lJiOwQ933urxtJTkskMTEWrYskZNBUDVVVkXWLVOdCCKpr61m9YTOjzhyGhHTUUpz/USQkVsxYx7MXv4k9wsrwyUUk94onPM7JrPcXseCTX1smGIFg2FkDmPbqXBZMWUpK7wRmv7+IjH4p9BqRhYZKwKfgbfJhi7ARnx3b6rvis2PoOSyT9L6tXffUQ7LCOcxjFY2IhDASesexcMkqJp9xvD4ODhFhYWGEhYXpDfEHMRiN3H7pRVz2wEbuvH8lD94TRlSMFLRM6XuPOgeKDF4PvPDfBqZ+GsN//nYN0RERXTYutFsKKRWVPn1yiEqI5ZtZq8jvmXyUzkRDCJgwPI9BBekoqoqiaJRX1fPVzJWcect/ee2BCzl2WO/WHxPQ4PIya8lG+uWm0D8vFULxXgajzKlj+/LqlLn8smobhXlp/LhgLXFRTk49NiiyCATfGxFmIyLc1pKoQgiB2+PnwRe/4YNvFvHErZO44OTBB1XOQNPAYrfw5/OP4ZxbX+WdLxdyx4EmzDhcCEFtnYtv565h4uQTcNisnXbR2nqukpg971d8Pj/Hjh3UJa6p2yAEFZU11LkbScyJ7dRrFBWV2e//guJXuOGtS8julw5oSMism70JWgkelYzCFPKP6ckvU5eTkpfIxsXbOP+fp2IPs6GhYrIasYVZcETZOfe+UzCa5VbtIxAh173O199lSSYpN56NC0sI+P0YOlWwg06XR1VJTUjgub/dwS3/9xQXXrmYm6+3MnyIGbtTdLU8Td2cwxCHpIHPo7FymZ/n/tvEqqWpPHHDzQwr7Nulk+t0U4uURnRkOGeceSwfvvYp5588iKS4iKPiry6EYOLoAs47dUgoXXiwYNk5E4s4+c8v8Ox7Mxg9IGcvq5Sgye2jqs5FTlosZoOhVUeOi3RiMhoor6pH8SvsrKgjNtJBpMPS2qyqhYqjSc3/1Hj67WnMW7aZ08cVctbEIiQhDt41T1U5ZlAPJo7M45Upcznr+AFI0lGcgSXB1zNXUuHyc+ppo7vMxpovEGDm9CWccnrXuaZugxDUN7hQhIYtwkZn2O6VQjWbtL22VlRVxVXjxmw3EREXFkryKXB7PVSW1uxzHLPZyMjzBvKfy9/h/bs/JyI+jAEn5rdUfrI6LfQamc3Pr89jxYy1DDi+ABFqHw2oLK3GZDMRFuHofLcdQVisg8315fj9AV1I6XQ8VJVemRm8cf/9vPTxp9x19zdExZfTtwCSkyRMxk425oRACIH6mwt5id/yY2xOyf1bNfWEEL/5nqOJJJsxmpPwurccktALSTYR8CuUV/hZuVpj66ZwhvQ6hbfvP5eeGeldPkNpt01/rqFxzrnj+fjD73nhg5n848+nHL1C0qoaFFEhSxECcrMSyEyJYdOOymDR3r10iEGWMBpkPL4AqqYhN+fDFOD1B1BUFbPRgCQEZqMBry9AQFHZXy5zry9AZZ2Lk8YU8N2c1bz28RyuPWc0B62BNDBbTFx/3hjOuPElXv9sLurRmlQkwfbSap5552fOOud4cnuld4k6SxISa4u3BPtKbte4pu6GP6CAFIzx6fAySoO5Hy+htLi8JXUtBJ/BRacU0GtkNos+X84H933JgBPzcdd7WPzVSpb/sAbDXplBVTTyj+lJSl4CxQu2MOmuCcSkRrXEiEkIjrtqBMt/XMuLV73H+GtGkjUglYBPYcMvW/j1uzVc+tSZ9BnZa/dc1ol2EgwmmUBACbbj79mo0mnB6/VSXFxM7969kXVReuhQVeIiI7nnqsu56KQTmLV0Gb+uW8/i9VX4AoFOcxmSEJRUVFBeXUX/nrnthydpGhtLdpAaF4/FZGrzfUJATUMDfn+AuKjI/QxbjYraWqKcYR2yTwqhUuVOZZP7NPo4X8Vi8KD9AcuUQKXSl4/dWE9qpIvxedmMvqCQXpkZGAyGblHmodsKKRWN5KQ4br39Em6/6UkKc1M4a0LR0bnpQgTd6yQBCJAFldU17KqsJyM5GovZSGOTd89Rj9NuISc1lnWby6iqcxEXHRY8d0mworgURVHJzYhHmGR6Zycye+lGirdXMDjKGQz4Q4AQ+P0BjHJQQhoNMvdcPZETRxVw3UMfcO9zX+C0mbnotKGIg33YKyrD+mZyxrhC3vp8AQkxYUiSdMTbtbHJy33PfYE5Ooprrj0TgegiiSY0Zs9cyqBBeZgMpg4dZK/TmXsZWJ1mUvISKd9YSdmGita/VzUSe8Yx9tKh7Fy/i7kfLWb+J0uxR1jpNzGP8deMYt3cTRjNhj1CMTXCYhxk9kulbEMFQ8/s32pcqmik9E7kxrcv5fMnfuTH/87B7/GDAHu4lbwxPYjLjEZFxRZuJbl3AhanudONal0+/XHWr1/Pd999R35+vt4Yh7yDBpfXGclJZKQkc9HJJ6ApHaEy24EjSRL/euMNvp03n5fvvhOnzdbm+auqyktTPuWscccSFxXVpjVJkiSWrV9PbUMDY4qK2rVwaZrG7F+XUdS7F3aLpcO1lyQ0XpqZyJPTU7jjgp4MzalHVcUfOt73K6NIjvSRn+YGgjH4qGq3qZXXrQvyKqicctpo1qzZwh3PfIzZaODksX33rcF0WOcqjZ276ti0qQx/QMUfCLCjrJYX/zeL0oo67rpqImariYYmT6vPmSxGzj5+ANc+9AHPvz+Dmy8ci81qZtXa7Tz/wQz69kxmSGEmaHD6sYW88dk8HnrxGx675QzSEiJxeXz8vHA9ZZX13HjR2OCAkAWRYTac4XaeuHUS9Y0ebn1yCg67mUnj+x+066PBaOBP54zm69mrWLRqG/17pR7JGZT6Rjd/f/Zz5q3byStv3k9iQkyXiSPy+v1Ex4RTNChPt0bpHDZUVHoOy+TeH25o9z0WuwmzzcwlT57JhOtG0VTvISI+jJjUKBRfAI/bhz3C2iKUBIKanXWsnbsxmPK8z771szQ0MgtTuO61i6jZWUtDlQtJloiIDyMsxoEkSygo5I3pwd3fXo8tzKqPg27IokWL6NOnT4vLlc7hmAR2jyshROcJkxKCBpeLb+bNY/GatfxaXMzooiKEsu+moyZEaD9btH+Nzb8LFYeS2lkjagSPs99jHbU2AZfHwI/rIyn3yUxbH8nQnEb+UOSFFJzTg+tmtVuWdOjWQgpAlmVuvuV8fD4/Nz72CZt2VHL5pOE4ndZghzisgirYex98+RueePNH0DQUVcPnDxAb5eTRm0/nvJMGthQna/b1DU5uGmeO78+y9Tv497s/8/n05USF2Vi3ZRdhDgtP3nomcdFOCCgM7ZvBwzeeyv0vfM3x1zxLSnwEdY0eSnfVcvVZI1sqxglCNQtUlfiYcP5959lcds/b/OVfH+O0mRk/PK/d9hCw78NMVenfK5VzJw7kqbd+OjLVuENWvfWbyvj781+wYkctz/zndgYPLuhSyRiMRgOnTxob9MXW97Z1DiMGk4HwWGe7v9dCfwxmmbS85FavSQYjJpupVR8VCJZ8vZKKLdWc//BpmIyGNsemioZslIhNiyYuLabVcZuPZzQbMJmd+hjohrhcLrZs2cKJJ56oN0ZnpSUk4TAsDiSJJevW8+u69bjcbr6aPZvRAwZAe54xQgR/J0ltr3MkKfie5p/2jqNpIQ8jqf33HLX21li908bScjvI8NOGcK5uKCcm3A9a29mhddfj36bbCykNDYvVzF13X05aegJPPfoW381ZzXXnjmZUUQ7hYbb2B9YfZHDfTN555FJUTWs5vEGWiIl00DsrnoSESETodafTyuN/PYPoCHuwFDZgc1j4502nM3FEHjMWFdPg8nLGuH6cNLqAzPS44DnLAgm4YvIoRvTPZvqiYraX1eC0WxhckM7gvhkADCnM5I2HLqJvr5TQpKaRnhbL6/+8mLlLN2K3mlEBSW57Ypg4qoCUhEjSkqODk4gIvk8Sgr9edhyDC9KJCLNhd1h2uzAeYtSAwrYdVXz8/RJen7qA1NxM3nj3AfoV5nbJ3Wp9F1bnSM6TBzQG2xhne4soV30TM9/9hYx+KfQeld0qjXl7372/79dFVPdkw4YNREVFER8frzdGZyOU/KGhsZGa+gbcXu8BJIM4OCRJ4oPvvqPe5QLgq9lzOG30aCIczn1c91RNY2dFJWs3baaiqrpd176N27bT0NREbEQ4qtKOax+waUcJVpMZq9ncoYSIJAmmLCmi2icjS7CuxspXS7wMSd2Esod7nxACk9FImN1OZJgTo9GoC6r90O2FVLDjaxhNBi6//DQGD8nnhef+x81Pf0Gcw8zwwkwKc5NJiovAYjYe0sWrJCA7NWbf89FgW2kNW0qqd3dsIDbCgaZpzFuysdXr4Q4rp4zp02JS3lXdQFllfet5KzSIBualUdQ7teU6VhWXomkakhBkJkWzdUclm7dX7nGOgh5psaiqxoJfN+13gKbGR7JmQ+k+4635OjUNlqzYekiXPYqqUt/gZuOOShau2MLitTuwRUZwzV8v4tzzJhAVEdbl0oJ3nTgvne6HBgJOumksMalR2MOtel/W+V2kpqYyefJkvSE6EyEBta10J8s3FlPbVIfZKjCbDc17r4cESQgqquv5cs6sltfWbtnKlNnfc8yQvih7iTZN1ahwlbOlZhM1ir1dIbW9bicut4eoKsM+x9gTg8PD9vrNyJLoMLObEFDbaOXrNaNQ1ODiv14RfLzUSJh5A7K0x0ysgd+v4nEHMGChZ0o6eVmZWDqYMOwo6EKqpd8E/xTk5/DMs7exbv0WfvxhAXNnL+PnT3+hqbEptAOhd6IOhRAYjEYio8LonZ/NvZdNYvTo/sTHRqOidTkRpWka9Q0uHA7b0U0pr6Pze/ovwfTmQ0/tF/Qi1uOadH4nUVFReiN0JoTA4/Uyd/lydlSX0DsvllHZvXE6LciydGi9+2SJT7+aS0SEld49C2ls8qBpGk1KAydMzEPey7NGUVRK60qZMKE3cTER7br2LV/loLa+idHDC0LlajoRksZPixNJXWfj2KRt7Ky0ERvtpqwynQFDh5Ke0NjKvU9VNdweP6WltSxbvoENJdsY038g8dFRupjaC11I7YWKimQQ5Odl0ycvh+uun0x9QyONDU34fAF997SDIUsSFouZsHA7DpsNWUgoqF2yOK1AUF5Wxcf/+5Gr/jQJU2cr6KGjE0IvHq2j073w+nz89MtCfIYGTj2tgIhIW3Bn5XAsylWNnlnJfP7aXdTUNrJo+UbOPXUkqzfsIKAo+wgpRKv/tU1n37fUBD2SG3jlhgVIksZH09O4+uQNbN9lx2kL7HOBkiSw20306BlPRkY0i5ds47sFczh+8HASYqJ1MbUHupBqbxyG9kplg0RUZDjRkRF6o3TcGSI4H6MR6MJpwCUk5s9bQXR0BFaTWV+M6nRq2q9op6Oj09X4ZdVq3KKOkyYUYLWaDm92N00jv1caSBJ1yzYAEBbhYGhRr26TknvfNoG0+EYQsKvKCppAEhrZKfVBS5TW9mfQNIxGmSGDM5GEYPqSRZw6agw2q0UXUyF0IXVA/U/TLVE6Rx2X282K5cVcctkpen/s4ggEEhKgobYx/0jBPJmd1jVOVVS8Lh9GixGDSQ5dU/Cq1N9MP/H727StcRNsa9FmO+t0PBoaGti2bZteO6qzIATlVVVsLN/CiSf3xmoLxdkc7mRJWuhnz9xW7X2vCL1JiNB7RZszSMvvmzP3db6bEWyUPa/zQGpIBUNbGTAgjdKdK1i+oZihffrofTuELqR0dDoBMhIrVhTjDLOTmp5wmJaaOh0BgaB8cyWbFm9DSILcYVlEJoa3WuRvXLqN+l2N5B3TA6O5c03jEhJbV5Xw+o3/4+RbxjH41EJUVFZMX0vl1hqKTu2DM9J+SEWNpmo0NbgxmAyYrMZWbb1h0Va2LNtB/4l5RCdH6mKqg7N48WKKi4t1IdXRCQkNRVFYunYd4dFGjEZBTU3DETsFWZaob3DT1OSlvrYRpR0rmKqqNLm91Na5MBrkNg0tsiTR0OjG5fIEj9XZYqRabotGXb2Kx+unye3FYZORDPIBuVkajDL9+qUwZ/o2Cnv0CGYl1NGFlI5OZ0BDw+GwcdIpo5CQ9CD9LoyEYMVP63j5T++DpnHyLeO46LEz9vDjF/z0ylxW/byef8y4GVNs56uj5GnwsnHRNuorGppLOTLj7YUs/XoV2YPSCIt0HLJrEgiqd9by/GVvM/CUPpx0w9iWjYjmmlafP/4j8VOvITY5CkUXUh2aJUuWMGbMGL0hOjAaUFVTw9otW9leUcbCNSvIyAnjq+k1R9QbTBKCzdt3sWlrOV/+vBBVa09Iaaws3oLNbiTcaW1zBhCA2+NDUVWqf6rrtLOEQKPeHc66zRY++34edquR9ORYemYlE+a07V9MqRqJCeEI4xYqampJS0xAd9DWhZSOTqdARSMvLyv0d11EdW0EmqpitplIzU9k9vuLGHn+ILL7p7Xce03VgllE93roNbupNXu0tJUZL+gyGHx9z/erqC0ugxra7mr1exyn+f20vK7tYx0Nuui1joBq021uL4+S0/42nnFXDCc2PbrlXEQ7Ed57Hu+3vk8gUH0q21ftJKcoHRk55MgXdJwcc/EQCsb2JK0gqdW1HFhb7r+92iR0wOCGvb4IORjKy8upq6ujV69eemN0yKlL4PP7WbR6DetLNpGU6qDvwCgSe/emoCABi8XYZmrxw4UsSyxdsRXnrzKnnd6n7dpPAlRFo7KhihNO6EVsdFi759hcNkbrxLFBQsCuGhuun+MYPyGX2po6ijeUs3rDdgbkZ5PXMxVpP26LZpOBsHAzNfX1pCUl6n0eXUjp6HQadJejroXJaAAVFL/SZuIF2SBx3FUj+OgfX/HDi7NIf/4cJEP7xVaaXQJXTltH5bYaHNF28kbnkN4nBSGH+pCqsX7RJkCQXZRGZUkNO4t3YbaZyB6Yxvb1u2iocpFZmMKGRVspXrAFo9lAn+N6kVWYgqvOzcrp69m2ogSz3Uzh+N6kFux+mPrcfjYu2krpul00VDYiyRKxGVHkDs8mOjliv31YSAJVUZHkoDDauqqUXZurWocihP4RnxVDSq8EAv4AG5ZuZceandSVNaAB0cnh9ByWRUJWDAiBu8nDmrkb8Xv87NxYwcJvl6MGVCKTwsgakIYkSygBNVRsfLf4qimrY8W0dexcvwuLw0zu8CxyBmVgMMot17FlRQmuWjcZhclsWrKN4vlbQECvkdn0HJKFZNh3QeL3BjAaDMHFij6kD4rVq1eTlZWF3W7XG6OjIQQen49pCxfiopYTTsolPj6cJq8HtaSJ8AgbRqPMEe30koTdZsZiMWJ3WtpNNKEoGhazEYfDgiOsiydRENDkt2CxGImNdZKYaCc3N4HNm6uYM7eY+kY3Qwf0bF9MiWDdL6/fp/f5ELqQ0tHp4DTvc+tCqguhaYSHOTBoEg3VLtrKYaeqGml9kxl94RB+eGkWYy4eQu8ROe0mTFj2wxpev+ljXDVNRCWH01Dl4rNHv+ese05g/NUjEbIg4Ff48O9f4Wn00v/EfKa/OZ+qHbUk9Yzj3u9v4MeXZzPv46XkDEoPxWhJNFa7+O6FmZx663Es/nIlmxZvw2CSqa9o5IeXZnPT+5eR3T8NEJSuK+eZ899A8SvYo2xoqkZdeQMJOTFc/eL55BSltdkcEoKfXpnDgk9+5R8zbiI2JZp5Hy1h2uvzkEPiUQiBu8FDQ5WLs/9+Iufedwq15Q28cMU71JTV44y2IyRB/a4GHNF2rvj3ZAZMKKC2rJ4vnvwRV62bZd+vYcMvW1EDCkUn9yH7hXQWf7GCj+7/inu++zPZ/dMRaGxcup1Xrv+Asg0VxKRF4WnwMPXRH5hw3WjOuHMCRkvw0fntczNY8vVKsorS2LhoG5Is4aptwmCUueLZyYw8b1Cr+6WhUVtWT3REOEajXr7gYMnPz6ewsFBviA6IqqrM/XUZXjmYmc9mN4EGmqKBpgVtu0dFoGi7E09o+3lPaF7e//u6CFroIjUNVA1JCLJzYgkPt/DNN6ux28wU5mW2e7+EAE13jGlBF1LdDIFARkLrgsVqu+r92rWrGpPJSERE54uF0WkHTSMuJpJIu5PSdeXkDctp822SJBh3+TDmfLCIb/8zk+xB6RhNhn36SMX2Kt66dQr2CCs3vnMJiT3iaKh08dH9X/Hh378kJS+RgjE9g1+tahQv2IwSUDjuyhHEZ8cgSRIWhxkloFJTWofBZODGdy8jITuGTYu389I17/H2bZ8y7KwB3PbpNUSnRrDy5/X899oPmP3eIrL6pwEa4fFOLnv6LFLyEgiLcwJQvGALL175Lt8+P4NrX7kAgyS3ea1qQCXgV0LrHo2JN4xh9EWDQ25wAldNE6/++SPskTYGn1GIhobVaWbyP04iITuWyKRwJFlQsracF696l6lP/EjvUdnEpkdx6dNn8+TZrzDkjEJOu208akDF4jQHs/UpKgGfgqZqCKChzs27d3xGY3UTt3x0JVlFqXhdPr565me+/L9pJPWKZ/R5g4MlMlSV6pI6cocbuPGdS0jIiaOseBcvXvUe370wi6KT+2B1mltGbSAQoGRtOcdl9kM2GrpvKubfSVxcnN4IHREh2FJSyo7aEk49tQCbLZTevNNltuvGRe5VjZhYJ6NH5zD95w2kJcUQGeHUU5wfALqQ6kYIBLW1DSz6ZTWRUWH065+LJHXjiaMToKoq77/7LeOPH0JkRJgupLoKmkZEuJPC3j1YPXMDx1wyrM01h6pqJGbHc+zlw5j6+I+snlFM//Gts5U1J6fYWbyLm967nB79M1BQsDtsnHHHBJZ9v4Z5/1tC/pgeLX0quXcCN71/OYmZsTTH+GhoaKpGTHoUFz8+ifj0GDRUwqOdpOYn0lDt4pInJhEW5UADBp3cly+e/Ikda8oI+APIRpmoxAhGnjkQn+LHVddEU72HqKRwYjOiKF1Xjs/tx2CXD6iJwmOcRMQ4AYESUPjg1bmUb6rkmpfPJ7NvKioqtnArIyYNRFEVGuubaKpzY4+0kdw7gS2/7sBV5yYmMZLY1Chkg4Qj0k5yVny7KdYlJDYt2sraORu54OHTKDymFwoqdqeNU285jqVfr2L2e78w9Mx+GEwGVFUjLiuaS586i5jkKFRUYlOiKDi2J0u+XkVjjQur0wKhGKqqHbXsWlfBkNMKQBLoe1k6nZpQGnBVUVi2YT15+XFERFhRQxsEQtPQNA1V01DV4N+P5BNMUoPfrYWsL20lmxAEN5eaz7O993XK2wMISdrt8PBb16VqpKVFEZ/oYNX67YwcnKf38QNAF1LdCAmJdeu2MPmM2xgxqh8ff/Y4JrPuXtKR79fGzdtpbGgiOydVTzLRxRAGAyeMG84tT/6b8o0VJOXEtZvWfvRFQ5j13i98+9wMeo/MbrVxqqGxbWUpVqeF1PzEFpGgoBCTFkF8VgzbV5Xi8/hACDQtKFKikiJaWaWbXUhlg4TBLIeOoyGMAmuYBVetG8kgtSRykM0yVqeFgC8QsuYI/N4A875cwuz3F7Fz/S58TX5UVaVmZx1ZA9JCQdoHtnnTnC5CADPeWcD3L87ijDsmMOiUvruTbigaS6atZMZbC9i2shRPoxdVUWmobCQszokWSnesNbv3hJJj7G7nfc+lZF05aJDRL6XlWjU0HDF2UvMT2bh4G65aNxFxYaCBbJCRTXu0FwJnjAM1oKIE1D3Gc9D9MkJ2MHhAPnTS9Mk6OsGhI2hyu9lWVs76bduY+esi+stJbNtV2mq97vX5KK+pZN3mCGT5yG7cSpLExs272LCpjE+//AW1nfTnmqaxeVsF3/20HIfD0qmTSex9/TariYS4cNJTYwiPsP2mkVBIgtye8SyYtx2fzx+M5dXZL3oLdSM0NKKiwjn19DH0yssMBVfrdFQEMGf2r/QbkIvVbEFB0RulK6GqjB1ZRNrLscx4ewHn/uOUdsdtXFo0468exQf3fsGy79ciSdIevwdvkw/ZKGMwya2kmGSQMFqNeBo8KIqKbJBbjnnAe8NCICQBe+8mi+BDd09+/O9s3rv7c3oOy+T4P40iLjMaq9PC+/d8gd/jP+gmkpBYPauYD/7+JYNP78fE68cgpKAFTUIwb+qvvHTN+yT2iGXMxUNIzInFEWPn22dnsH7e5t91W7xNPoQkWtWbgmAqZbPNRMAbQPHvfyzubekXCGorGpjx1gLOnXAsifExusvMQVBZWUlVVRW5ubl6YxxthCAQCLBq4yZWbC7G4gBzmMaIsan0KUjcp+/7/AFqGq3ExDiOgpASSEYFt89N38LE9oUU0KdvIkKIzllntx0URaW+3sOWkl38umor2enxDOyfAcLW/oc0jZhoO37Fj8vlwRSpu/f9FrqQ6kaoqGTnpPLqW/cBQnfr68AIBLX1DWzZspOJJ47QrVFdEU0jKjqCay89i9uefI7+E/PpNSybtiKdNTRGnFvEjLcX8M3z0wmLdbbEHwgE4bFOvE0+XLVu4tJ3p+P2NflprHIRkRiGMeSKdng6rKCp3s30txaQ3jeZm969nPBoJ6ChKhrOSDtVpTUHdUgJQfnmCt786yfEZ0Zz7gMnY7aZWgSgP6Aw852F2COs/OWdy0jKigtdt8SCj35tc1f5QK4/LMaBElCpr3S1Sr8e8CvU7WrAFm7FZDPt/9buNZZVTeX7l2dhrpW55NyTQtHa+uLkQJk+fTpCCF1IHW2EwOP1Mn3JEqo9uxg+OoP0tGiq6mup89XQo8e+MWx+f4DaRgvRsY4jv+aQJRpcHsor6snumdBtYxJVRWXXrgYWLNzCl98tpU+fwe2WlkADk9mAbJDweP3dq6F+J7pJopshRNDcq4uojo2GhsFo4Jxzjyc6JkKPjeqqqBqTTjqGCYOH8Pbtn7Jra2VLnae9+0NkfDgTrhtN8YItrJy2rpVFucfQDAK+AMt+WAOAjISMTPHCLZRtqKDXiOzDmyVOQMCn4Gn04oi0YXNaW35RW1lPbUV9Sw2WAzucwFXv5t27puKqc3P505OJS45GQiAjB4tSKyrueg9WpwVnpL3lk40NrqBoa675Ai3WuoYqV6h95Fb1sPZs54x+KVidZpZ8vZKAEkBGwoDMjjU72bh4Gz2GZGCPsB7wmJQQLJy6jJn/nc8df76YjLRkPcnEQeDz+VizZg0DBgzQG+MooygKM5YswS1qOPWUPmRlxyIbpGBMlBacz/b5CcVHcbR+tN3Z6brrjyQECYnhnHhCAbFxdn6cvhK3x7ff+VcSdJlYscONbpHS0emgWK1mcnMzdGtUV0bTsFgtPHD71Vx24wO8+Kf3+NNLFyCJtsXUkNMLmfn2AlZNL8YZbW8p/Np7VA5FJxUw9bEfURWNnkMz2LW5iqmP/0BCTgwjzx0Ie8QJscf/Wp+O1nbq3/29Fgpitkda6Tkkg/mf/MqH//iSzAEpVG2vYeFny9n4yzayB6Yd+DGB7/4zk7kfLaH/CfmsmbuR1bM3BN+iqiTlxtNvYh65I7KZ+tj3vHvvVPLH9KShqpFFX6xgzcwNhMc7W67XGW0ntSCJJV+u5Mt/TyMs1oHRbGDopP6tvl5FI60gidEXDWHaK3Ow2M0UTuhNQ2UjXz39MwajzLgrRyAL+bfHpQChwYIvf+WdWz/j2slncNYp43QRdZBs3rwZWZZJS0vTG+NoIgSrN2+m0r2LU0/tg8Nh6aSZ+bopqobRKDFiRDZllTtZtsmlt8khQhdSOjodGF1EdYebrJKcFM8Lj9/BDXc8zv+d+yppfZJI6Z2A1W5ueZuGhjPKwYk3jqWxuon47JiWmCerw8IlT57Jxw99w3f/mclXT09DkgRZRWmcfd9JxGfFoKIhJIjPioXQ3/cmOiWS5N4JLbWbIBirF5sRjcEoI4XikyAYH5XQfA5CIMsyk+6eiKvOzfcvzkRIEpEJYQw/t4j4zGgCfqUlvslsN5HWJwlHlL0lWisyKZyUvARkk4yiBd3oUnonUL2jlh9emk2zylIVlQEnFdBvYh4TrxtNdUkt8z5awpz3F+OMsTP49EKSc+MpWVuOHIoZM1tNnHn3RN69cyqfPvIdkiwx7Oz+DJ3UH2eMg9SCxJC7noZskDnr7omYLAbmfLiY6W/ORwhBUm4cf3rlAnoMTm8ZlzGpkTTmxrcqlCyA6OQIopLC+fLfP7Psi9VcM+k0bv3zRRgMsu7Sd5CsWLGCvn37Isuy3hhHC0nC4/OxestGho7IDFqAm91khUDIMpIqgWHfeyTQkGUJmn+OJLIIfqckgUECtauKvj0sUL/xNoNRZuiQTOau9FBV3Uh8nP2g5yRFUYP3VCfYxz3aAn1W19HpSIMy9OdQiyiZOAxkdP4GCrihZg2oga514yWJ8l1VPPrMm7z7xXdkDE/lxBvHkjMwHavdjAi5/KmKSlOTG0mSsNosIZe5YGyQogSoKK2hobIRq9NCbGoUZrN5Dzc0DXeTFwCrzUzrQsACr8dLIKBgs1sQLUpLw+P2oqraHt8XFHaeVscCgYTH7aFsSyVqQCUqKZzwqDA8Hi+qqmK1WxAIFEXB3eTBbDG1uBx6vT4C/gBWmwVJEnjc3mBdqb3QAKNRxmI1B+PAfAHKt1bgbfIRmRBOVFw4Pp8fvz/Q6joEAperidryeiRZIjzGidVuwe/z4/X6sdrMocV6ML5MVTWqymupK6/HaDEQmxaNzdbs0hfMJ+jxeFEDoesSoKgqdZUNLPpyBd8+NwNLo4G7bryUcycdj9Fg0EWUwQKRvUE6cDfT0tJSnE4nTqezg81DAVi3Fpqauu79kmW8Hg+bdpQw+9flzFz+C4X9kjAad/dlIQR1jY14FTexcc69AwRRVRWX243dYTriIQWSEGzfUc3W7dWMHJbT5VzVhBDYrCZSU6LI751EUnJksI33J6iERmWNg7ufsHPxxKWMGJq1z/t9PoUpn/7KqKK+JCdGt5q3VFXjs6nLyUvMo1dWJqDww/IokiO95KW6fr9YFVBabaLGZSQ/tRG0P9BXBOyoCj6TUqK9h73Asm6R0tHpQAgEdXWNbN26kz59c/QG6U6oKvFxUTx6/42cOH44L74xhdcu/xBHqoPMohQSe8bjjLIjyVKLN82+CRWCGfaaf79lRck+i/cWIdTWokIEQ5D3+V07rwshQt5zWqv3Ni+Ydm7YFfzMXp8XQiBJEoqq7v7s3t8h2g2H3us7BVIoG1j55spgyvP9nO+e59ycjn137oe93i+Jlvbasaas3XbxefzUlNaxbWUp234twew2MHncWK666DRystNBU3UR9TtJSkrSG+FIIwR+RWHavAW8/e1X7GraSWKKjfiedqp8peDbZ9oBA5RVu9s9pMt7dFzJZBNk5URSuquqy90mTQO328d301ZQW+tmQGE6l188itzchN+0ThkNMjvLatEU9cDjV4WgodFNY4Of2LyI4Anonp26kNLR6UhISMybs4xdFTX069uzVZ0fnW6AqmGUJY4bO4yRQ/uzcvUGps9ZwuLla1g7ew2NbndLsctOixA0NDZRUVVDekoCstTZXUQERoNMRJiT3hkpXH75REYP609aamIwTb0eE6XTycZnvcvFY2++xYLNC7ngwv5MGD+GuLgwZKOEvnLuYGgaXrefDRsr+OCjRfzpL29xwzXjOOO0Ae1vRGngsJtxe3wEAipG4wG6zQpYX7yLcEs4kU6nLqRC6EKqGyEhsXHTdp567B165KZx3Q2Tgz77Oh0Gj8/LksVrmXzueD1PX3dGUbCYjAwsymdgUQGK34/b7cXn8wetOJ0Ygyzz/YwFPPXiu7z3woOEhzk6tbFGCJBlGavFjNliRshSKF5B1UWUTqfrzE0eD/e++CJVYjOvvnIuaZkxu+NvlGa3Vp2OhNlsIL9PMg/kJ/Hjj2v45yPfElBUJp81qF3LlGyQ0DQttDF3AOtASVBZ0cjqleUc03cokqzHezajC6luhECwa1cNb7/5FSNH9+ea687ShVQHQkJizZrNmEwGMrNT9EQTOqAE+4AsSTgctq5xTQaZ8HAHBoOB6OgIIsLDusYDuTnNckAvnH0o2LFjBz6fj6ysLL0xjiCvf/4F293refE/5xIXHwaBQ/wcEgL2jpVqzhaqL8x/P4qKAMZPyMNgkPjHg9+Q2zOBwr5pbW7oHLAhSQTvWV1tEz/9tJbs+EzSEhP0e7UHupDqRqio9OiZxtvvP0h0TMSBm3N1jhgrlhczdHhfjJIBBX1BprMHnf3BFSxiF/xpfoyLUCYvRbfe6LTm66+/Jjc3VxdSRwpJYvOOHUyZ/T0PP3F8UEQph15E1dY0sWHjrhZDiSwLHHYzMdEOIqODMaCH/Hs7AIGAGrJeH2ZX5oDK2LG5LPhlCy++Mp3nnjo/+J0tjw/R6n60/OyRdAgR/JckS2iKxuYtlcydu5nk8BSG9CnQvfn2QhdS3QgNjeiocM44/Vg0ND3+poOhojJh4nDCwuy6iNLpWsgyrgYXy1YVs2jZambMXcKmrSU88PjL9CvoyZAB+WRnpgUt5Lqg6vbU1dWxY8cOzjzzTL0xjhRC8PWceeT2DWdQUfrhETOyYP7CzVx46RtoWlBEoQXFRUyMg1Ejc7ji0mEMKEpDdCGDh88X4O//+BKLxcg9d56AwXD440LPO2cQV13zLqtWl5LXKxElpFwlNHy+AAFFxePx09DgwecLtOgoIQQNjR7KyxtYtbKU+XVbaaxT6ZedT15WVheIaT306EKqm6GhEdAX6R2W2NjIPVJV6+h0coTAHwjw7XezeP71j9m4dQdJCbFkpCRy+sQxbC8pZ8a8JTS63IwdUcSNV55DXq9sXUx1c1atWkVsbCzR0dF6YxwhFL+fhatXcPKFPZCM8qF36Qvh9yvU13v487VjmDC+Nx5PgIrKRhYs3MyUT5fy+RfLeeqJM5l8VlGrjJ5IYre4k0JWFFXdbUiRml0GQyk4VW1fK35z/CIEa0y1vFdtO/RLltgjReq+4lIErTf7xCE1n29oHlM0mDNvEw6HOZjVW5Z2n+PhQNVIS4kkPT2KmbOKSUmIJhByORYC6uuMeNwBqvxNbN1ch9lkaGkqSRJs21bN9g1NZDlM5CRlklmYhMNm09352kEXUjo6HQhdROl0GYSgvsHFP59+jY+m/shpE8fw8F3XkpuTgS1Uj0pVFKprG5i3aDkvvDGFs6+8kwdvv4YzThqru490Y1avXs3AgQP1hjiCY9XV5KbaVUN2duFhzychgMJ+qUw4uRBUBRBcfvlwrvplC9fd+CF/vW0K2ZkxFA3KAFWloqKBiopGsnNiEQJKdtTi9fhJS4vCZjejAdu2VPHrsh00NHhIS4uif79UnGGWFrHi8QbYvLmS2DgnBlli8ZJtlJXXk5YaSVFROjarqZVw8/kCrFy6nfXF5UiSRH5eIrm9EjA0iyAB5WV11NQ2kZUZg8lkaLm4qqpGysvrycyIwWIxsGljBY2NXjRVY8WKEowGCbPZSFZmzGGzTgmjRE52DBUVLqIiIlBDIlASGppmx26xkBgeQ+/0TMxm4x4WKSjZ6OXEYaMYN3gQLbUhdBHVLrqQ0tHpAAiELqJ0ulCHFrg9Xu5++D9Mm72IFx69neOPHRaMf2jeKdY0JEkiJjqCU048hmNGFPH0S+/z1/ufQQPOPGWcbpnqpkycOJGYmBi9IY4gvoCfgOrHbjMd9kWzBmjNWS1Dli8JGDw8m4cfPI1Jk1/mtTfnMaB/GsIo8eH/FvPMsz/zwH0n8823q5g2fT2KqvL2a5dw3PF5vPfOAh7459fU1XuwmA24XD6GDcvkiX9NomduPABbtlRy+lkvMaB/GhUVDSxbUYLX40fV4OILh/Cvf55GWJgVgOpqF/c/8BUffbwYk8mAqmpoaFx9xUj+9tfx2GxGkCRefWMe776/kK+mXkdGc3ZDWWLq58t56JFvmPLR1fTKjeeuez9n5apSDAaZ0898CVXT6J2bwIfvXk5UtOMwtbcgLMxCRWk9IJCaLWtCtNTHkyQJWZZ2x1BJgp2ltZRud3Hi0KLg+/U5+DfRhZSOzlFGUzV++mkhA4p6ERUVrgsqnc6PELzxwRd8+/N8Xv2/uxk9YiAoSttxF6FMd06HnTtvugwhBH9/9CVyc9Ip6J2jP8i7ISkpKXojHGFaXLuOpik4oDJ0aCYF+UnMnrORmhoXUfFheNx+Nm2u5M57ptK/XyrXXzsaTYPU1Ehmzyrmlts+YfTIHO647Xhioh3MX7CZ2+/6jL/dMYV33rwMZ4SVQEClutrFzzPWc8mFQ7jnrhMwGoJi6LU35tK/MIWrrh6FFlB56pmfeOvdBdx9x0QmnV5IIKDy+pvzefLpH4mNdXDdtWMAaGryUV3dhKK0fma7PX6qql0EAgoWi5E7/nY8GzdVYLOZ+OcDp2KQJewOM06n5bCKViFE24XX97n5wRtfX+dmxowN9E7LIS4yUrdCHSC6kOqGSEhooT86R/teCLaV7GLOrF8ZNqIveo0Onc7fqSU2by3hhTemcONV5zB6RFFQRO2Fpu0OP2h+wSDL/OXq81iwZBX/fuVDXnj0dj24WUfnCHJUn0Caht1mIjU1kjlzNlBX7yEqIRwNMBpk7rnrBC6+cAgmqzH49oDK40/9iNls4J8PnUbPXgmgqKRnx1JWXs/df/+c+Qs2M/6EAgBUVeOay4bz0EOntaT1zsiKYd78TXz6+TIuvXgopTvrePf9Xzj15D7cdNO4luzG99x9AouWbOX1N+dx3jkDiYxxHlhbGiT6DUglMtKGw2HmmLG5GE1y8JdHMTuhBsE2CMWb7SytZcaMDcTaEijq1UsfCAeB/oTqZni9PjZvKaGsrPLAdip0DisCiXlzltGnbw5Om12XUTpdoFMLvvhuFjarmXNPP37fgGpZYtrsRbw35du9lBSgaTjDHVx76ZnMnLuUdRu2htKl6+jodBc0TUOIoPsZBN2AbXYTQ4dmYbIYg+6AikZDvYdfl+0gr3ciGWlR4FdaigcPG5qFJATLlu9odeywMEtw3gmo4FdIiAsjLy+RzZsraXR52by5ivLyekaOyMFoMgTFjqLicFoYPjSLTZsqKSmpPTjTnaIFjTvN4imgHjERpWqgKSpK6EdVVFRFw+Px4/MqlGyv4adpa/jum/VkxWQxZsAADLJeGudg0J9Q3QgZidWrNjNx3PXc9tdn8PsDeqMcRQSCusYGVq/exNDhffUCvDpdAr/Xy7TZizhmRBGxMW24hwjB+k3bWLRszb5CCkBRGVpUQJjTzrxFK46yr5HOkWTDhg2UlJToDdFdEYLGRi9bt1aTlBRBZIQ1KD6ap4C93Hx9foXGRi9hYZZgEog9sNtNGE0Gauvcrb9Da/kPALIkcDgseL0BlIBKo8uLqmqEh1n2ObeICCs+n4KryddJmlNQXeVi9eoyVq8uD/2UUVxcwZYt1axaXsH8WaXITeGcNHQMgwsKdBH1O9Bd+7rbDTfIREY6cTpsCD0v1lFFICgtqSA7O5XEpBjd1VKnC3TqYKa+7SVlnHfG+FAK4N2/ay7KG9xpFrutTXtmhdI0IsOd5GSmsHr95t2FfHU6Jocohk3TND799FMmTpxIcnKy3q7dEYPEzNnFrF6zk5tuGEt4xP5SbmuYTDJOp4XaWjf+gIrZtFsENDR48fkCRIbb9vuVvoBCZWUjkZE2LFYjDocZSRJU1zbt3UGprmnCZDbgsJt3d39NQ21ldRdt7g819/Ej+ZTXNI0wm5OMuJSWcxRCo9JiJ8JmY9LQ4xhakIvRaGy5Rp3f0W31Jug+KKj0zsvky+/+jcFowGjUb//RREUlMyuZjIwkvTF0ugYC3B4vXp+fqIjw3a9LEtNmLuTL72cjGyR+Xbme6pp6br33KRRFYVC/PM474/iQwAIhy8TFRPLVj3Na6p/odDwS46O57tKzCAv745nHSkpKcLlc5OTk6A3b9acJhCQFN0gMABoBb4DZM9Zz591TyUiP5tJLhrHfvV4NnA4LA/ql8OXXK9mwqYL8PslBXzZJMGv2BjQN+hXulbhEEiDJIAOyYPXyEpYu3c4ZpxficFjIyowhMSGcGTOKufyyEZjNBhBQV9PE7NkbycmOITkpAjQNh8NMk8tHRVUjPQyJoKpoikpFRWOrYDNJEphMMo0uH35FDcZ4HaEYKZPRgN1h3+1iLcHWUj8R9jD69rQFRZQuoP4Q+kq6u91wg0x0dERoHtIHz9FGF7M6XQoNDLKMJEl4fXu4v2gaMVER5PfKwiDLlFfUIISgIDcLRVVJToxr7eanaXi8PgRQ19Cox3N2MCQh2FZSzvfT53PJ5JOCQuoPsnTpUnJycrBarXoDd/1pgjlzNmCUJby+ABUVDSxavI2fpq0lLs7Jc8+cQ48ecS2iqL2lijBIXHThED7/cgW33/Epd90+gbg4J3PmbuTpZ6dx/HG9GTIko8VqKoTgm29WkpURTXJyBCUltfzfM9MwmWQuv2QYSILU1EguumAwTz39E//617dMPmsAgYDKK6/PZfHSbTz56CQiooKWsn6FKaiaxtPPTMPn8ePxBvjiyxV8PGVpy6YQGpjNBvJ6J/L2uwt4792F9CtMoaHRw7AhWVhtxsOf4UMjKJYkQUNtEzNnbcFu7oXD4gFNDyn4o+iruG45iemLEh0dncOD02EnKiKMDVv2iHXRNPoW9KRv315gkPH4/awt3sqlF58RioZuHXzt8XjZtLWUS845mTtuvgx0q1THwiDz7Q+zue2BZw/J00RVVTZs2MCJJ56ot20Xx2w2EB/n5IsvV/DFVyuQhMBkMpCYEMZ1fxrDxRcOpkfP+N0WFA1sdjNxsc59i9cqKiOGZ/PMU2fzwD+/5oyzX8ZkkvF6A4we1YNHHz4dh9Oyu9isJNhRUsud90ylrt5DwK+QkxPLC8+dR1FROigqQghuuvFYGhu9vPTfWbz8ymw0TcNglLnr9glcdOGQoChRNEaP6sE1V43k1dfm8s13q7CYjQwZksFZk/rz47S1GA0hV0NJcPUVI1j663Zuu/NTTCYD+XmJfPzBlVhtJg6vkhIt2fmqKxv5ado6Ikyp+MLD0DS33iEPxXSoN4GOzpFHUzVUTQsWwtPR6TIdW8NutzKgby4z5y3husvOxGQIPWaaC3CiBYtxampQIO0dYyNJbNiyg607djK4f55eEaDD3utDe7izzjqLhIQEvV2PEgZZRhIyXq8Ssg4fhoGnqAwfmsUP39wYyswHsixhtZqICLdiD7MEvfn2jDlSVc6dXMT4cb1IT4vaxx1OAGefXcSI4VmsWFlKY6OXlJQI+hQkY3eYQ0VyRehQGpdePJQLzhvEpk2VmMwGeuXGExPr3EO4aURE2Hjk4dO59OKhFG+oQJYFvXITyM6JDZZjCFnIbTYTDz94GpPPHEBJaS3xcWEU9ktBUTT+Uj6WtNTI4PymQd++KXz6v2tYu64Mv18hLSWSiP3GgP3xAep2+zEZDbjqPaxdt5OVK8rJik8nM68/ny3Rk0ocsrGjN0H7iNAfSU/K0OEJZhZVUTvBqktGYu6C5Xh9PsaOGYiiZ+vT6UpIEqdNHMOVtzzEgsWrGDV8QOs6UqrGsIF9yM1Ob3sRoWl88On3JMXHUFTYWy/I2y26jERqaqreEEcLTcNuteAwOyjZWUufwsNUEFkDh9NMr94JQbG25/jXtH1LJYQ+Ex3tIDrG0fbvAaFpJKdEkpwWBYSOq6r7vl/TMBplMnrEk5EdG1w4qFrb75MlCvqmUNDcFs3v2+ucLRYDQ4dn774eVQWCGf6CSXR2vzcuzklcYljr4x0uVI1t22uo2WHks09XYjc6GNNnCBlJCeyqN+hxUYcQXUi1gYSEQNDY5GLbtjI2bSqlvKwKt9ur++p3MGRZJjzcTkpqPFlZySQkRGOSjSioHdaF0acEmPHzIk48ZZS+2a7T9VAUhg3sw4jBhTzyzOvk5WYSHRWxWxCpKoX5PYMLj71FkkFm5uxFfPDZDzx0x58Ij3Ae1aKVOjrdBZPZTF56DvPmbWLihILD90XN8ToH8/TbU5C0xwEKE00jOO8EDmBeOZC5p82kEe2cr6ZB4Ag89YWgutrFujWVXDHuAo4dWESYw44sy803QO/whxBdSO3Z90J/tmwt4bMp0/nmqzmUbC3FKCDMZsJkNLSb1rLTXJ9onse6xkBSVY0mj58Gtw+D1ULfAb048+xxjB07kDCHvcNZeyQk1hdvRdM0evXO0GtH6XRJTGYTd/3lMs7/0z3c/sCzPHbfjURFRey2TGl77eyGUpwvWryKm+55igljh3L6iccc3h1bHR2dVpw4Yjh3vfYE27ZWkZYW1XXGn6qRmBDOQ/84hYED07v+vCILvv9xDXYtiokjhmG3WHbPubqD1SFHF1IhJCTqG1y89eaXvPriFGxC4eTRBYy9aCRZKTGEO6yYTYbdmVj2g6KoHU6oSJKEy+2lrtGDQZYId1gxGjp/fI6qaXh9ASprGlm+voSvZ63kjhsep0dBDrfefjEjRvRDSKIDWac0Zs1cStGgPMwGEwp6EL1OF0RV6ZmTznP/uo3rb3+UC6/7O/fefDkD++dhNJt2b4iGQjHqa+uZ8tXPPPrc2wwtKuCB26/BYjbp7ifdgBUrVpCYmEhMTIzeGEd5zA7olUuf5D488+w0/vXwGcFkCV1hDGoa0TF2rr3+mMPvUne0kSW2bKrktf8u4MZTrsBus7V2rdY55OhCimDMyuatpdx1+3OsWLiCP587inMnDiQmJuTLqkFNnYvvp6/A5w+0pOltllTaHoNVliVGF/UgPias40xAAr6dvZqn3prG1p1VmAwGHv7LqZxybGGXcJuxWc1ERtjpkZXA6cf1Y1VxKc+8M40rL7qPG269kKuuPgOTydghxJTX7yc8wsHAQXm6NUqna6OqDB3Yh/defIgHn3qVC6+/j6LCXhw7YiA9slKxWsxU1dTx66pifpi+gF2V1Vxx/qn86dIzcTrtujWqG+DxeJgyZQpXXHGF3hgdAFmWueWCC7j2sYf5v2d+5C83jMNsMXYN91qNA3Pn66wIQJbYvrWK2+74jGHZQ5k4Ypguoo4A3V5ISUhs2LSDP135T2RXPR89fjl9e6cGH+LNk4cksaOshr899Sk19U0tVilXkxdV03DYzEgiaPWwmI28/+jlxMeFg9IBFgKSYPWGnVz/zw+Jj3Zy1aQReP0BYiIcXWe3t8V/WkMWgr69Unnh7+fzzhcLePDRN6mtaeC22y/BaDIcdTFlNBo486xxHcxKpqNzmFBVcntk8Mr/3cOcBb/y6dfTefvjb9hZXkldfSOJ8TEkJ8Yy8dhhTDppLLk9MvbN2qXTZdmwYQMWi4WkJL0oeYdA00hJiOfxG27ijuefZfOm//Hn60fTq1cistGAHlvTEQma9d2NXn6evo5nn53FgJSB/O2SizHIXcSi2MHp1kJKIKisquWvNz2Fxeviv/+8hNSkfdNroqrkpMbw6dNXE1BUBOALKPzlX/+jtsHNy/edj9NuDtY7kwTZ6XG7PysJWgKTVDVYyVvaO1sN+wZdy9JugSC1LlS5zyJDiNbvgd3ZZWSZ2b9uorrOxbuPXsbQwbnBlMOBQPA9bX5WbT1fNl9DKBtNy/tbKmWL3cfa81DN7SjvW/th35vRxnko7bSJqgXbUbTTdqqKyShz+ZkjiAq3c/MTU4iJieCaa8/sGP1O0p2UdQ6204h9x1cnwmK1MG7ccMYdMxSv28N7n3zLky++x8evPEJOVioGiyU4mFvGcie70NBGzgEFxeu08Msvv1BYWIgk6WUgOgyqSq/MTF66825e/PgTbrzuC7JynQwYkEJiYjgmY+dLmy1JEupvZP8UkkD7rQ0cEVw3/lboxt4JCQ8XGhoul49Nmyr55ZcdeGpMXDbhfE4fewwmo56Z70jRrYWUpmk8+8wH7CzewgePX962iAphtZjo2yu15fnu8wVwOiz4AgqFvVMJdwarsfv9CrMXFxPusFLYK4WNm3axYXsFMZEO+vdKYWXxdpatL6G0og5FUYmPdjK0byb5PZKQQ5Yunz/ArAUbiY5wkBQbzo/z17BmUxnR4XYmjsqnV2bC7gEiBDvKapixqJiN2ysxm2RyM+IZmJ9OSnwE64pLmLFwHUIIlq3dQVlFHTGRDoYVZiIbZKpqXExbsJYVxaUYZIlBBemMHtgDu9UcCkwUrN9czsbtlYwamIPX62dlcSlur58hfTLw+AIsXr2Novw0yivr+XHeWhqavAwuSGfcsN5IkmD+4g3MXroRnz/AsL6ZjB2Si8mwx2QsBa/hp3lrWb91FxazkaF9MxlZlIPVbARNw+3xM2vJBpITIsnNiGfdhhK2lFaRHB9BYc+UfZOAhDIDnX5cP8qr6nn8yXfoPyCXoUP6HLUEFALdCqVzMB1GgCyh+gPU1zdSXVOPq8mN0sldNQwGA7UNLgKKQllFNV5/IFhXqhPfJ5PRQJjTTnREOFa7dffGk76QaRePx0NZWRknnHCC3hgdDVUlPiqKe6++is3bT2Dm0qUsn1vM/PrtBNTOM/8IwO3zsnFHCb0zMtoV7KqqsqmkhIzERAwGQ7vHqne5aPJ4SIiJbnNoC8Dr99HgaiImIuKwP+0FYDaaSIqJ47LRxzC8sA9RERH63HOE6bZCSkZi4aJV/O/db3jk+hPpmZXw237Aez7sm602zRaR0E5GY6ObWx7/hOS4CApyknjv61/YVd3AqAHZvPXPS7jl8U9YXlxCfHQYBlmmoqYBSQge/supXHLaUEBQ1+jh5sc+xmwyYDEZ2VxShcEgUV7VwGufzeO9Ry+joGcyAHOXbuLPD39IRXUjyXHhNHl87CivZWjfTD5+6kq+nrWKL2esxOX28dDL3yAJwcgB2QwuyGDrzkquf+gDflm5lYzkaPwBhaff+ZkzxhXy+F8nERVuB0kw5cdf+b+3p3HLxcfy+c8rWLmhFCEJPnv6Gupdbi68803GDOzBus1l+AMqTR4fT731EzdecAx1DW4+/WkZJpOBBpeHp976iSf+eiZXnz0yONAlwcxFxdz86MfUNbpJT4qmvtHDv9+dzqWnDeWBP5+M1WqisraRPz34PsMKs4iOsPPxD0upqnVx+rF9efdfl2For7CtpnHJacOYuXgD//fku7z+1v1YLKYjLmc0DRobXdgd1gNKWKLTjQlZn8rLK5k2exHfTV/AmvWbqXc1oKpKp84c2ozP78ft8XLNbQ8gROe3RmgaGA0m4qKjGdQvjxOPG86g/nnY7Hqgd3sYDAYuvvhi4uLi9MbooJ1aArLTUslOTwNVRVUU1E60QJclmXkrlnP7c8/z6PU3kBIX1+b5e30+Xv70My49+WTC7PY2NzxlSWL1ps1sKdvJicOHo7Sx+SOEoKKmhrVbtzK6X78j0layJCFkeffmjV5374jTbYVUQFN4840vKciI4aQxfQ5Z52sukfDT/LV4vH7uumoCSbHhWM1GHDYzt152HEmxEaQmRGA0yJSU13L9Pz/kiTd+ZOKIfOJjwwFQVI1NOyr583nHMHnCAKLCbHw5cyV/+df/eO/rRTzcMxmfN8Djr/+A1+vn82evoWd6PB6fn+XrS1i0ahuKonLFpOFsL6vhjanzefWBC+mRFoclFCv04Itfs2xdCa8+cCHHDs5FURXe+3oRdz49layUGO6++oTQfKqxq7qBV6fMZdJx/fnbZcehqhq9suKZ++smmtw+dlU18MhNpzG0Tya1DW7+/MhH/OvV7xk7qCcv338+/XulsrOijsv//g6vTJnD5AkDiAi3U1JWzS2PfUJiTDgfPH456YlReH0BXvp4Nv98+VtGFeVw6nH9WlK2fz59OccM7MFDN5xCdLidcIcVaX8rSw0sVhM3XjCWC+9+m3lzlzPu2CFHNFueQLCrvIqP//cjV14TTHyho9MmkkRtXQPv/u8bXvvgc7yBBoYOSeeaP/UjOzuW8DArstz5hUfzkNVa/tOZ0fD5FHZVNLByVSmzZi/hk1u+I69HLjdddQ6jRxZhkCR9h3gvDAYDycnJekN0dPZYG0mSRKeafSSJHxf+wvwVK5i/ahWTk5OR2tjYCMgykiRhMMjI7WUqlCRkWWoRLoa21h1CYJBlZElCkmWkIzXmdfF0VOmWQkpCYsu2UmZPX8z9V4zDajUd0qw0iqoyon82Hz5xBdHRzZn/gskrTjq2H2pAob6+iZq6JhCCvOxEPvx2MRU1DcEkFQRTqJ8wMp/7rjspaI4WcMb4/jz9zs+s2VSGGlDx+gOU7Kol3GklNSEKu8OCXVgZOzyMMYN6IjQQRpnoCAeyJJGWGEVmehxoGquLS/l61iouOHkQp43r1zJxXH7mCL6ZtYqPvlvCNWePIiYmDE0Du9XMM3dM5oQxBbsdgEXQp9hklLnzqgmcPmEABBSSU6IZP7w3v6zcwgN/PpnhA3uCopCUGMnYwT358NvFVNe5iIhy8v3cNWwpqeKZ28+iR3o8gYCC3Wbm/BMG8fL/5jBtwTpOHVcYaleNk0YX8Mo/LsDhtIUmEO23JxFFZUBeGv17JvLZp9M55tiBR7y/zZ+/gohIJ1aTucPVttLpKBOTxMo1G7jzoefZuH0jV1w2lMlnFpGcGolkCBVS1NfiHRcBJ5zUh7/8+ViWr9jBS6/M5oq//oMLzzyZW6+7kPBwp77g0dE5YuNRUF1by9dz5xJQFL6YOZNJxxwTTMDQHnvXt9PROQC6qZASLFm8FjngY3hh5iHPEKVpGgmx4URH2IOJHZpfB+b+sp5Xp8xl6ZrtNDR5UVWVukY3QghUtXWxNLPJENz9UVUQYDUaCHNY8PoCqKqKw2Zm3JBcnnzzJ0694QXGDupJ39xk+uWmkJMeh9Sc1CI0MWjNiRoEbCmpoq7RzYDeacEkD6G0oBazkX69U5m7bBPllfXExIajoWE1G8lIiQ5V8Q5dkyyhETRnW0yGoBhVNZA0IhyW4A6PLO92fRSCCKcNRVEJKEEf3uXrS2ho8nL/C19jNTenKBfB+InKOipqGiGU4EPTNFLiI3E4rK3a9UAwmgxMGJ7Hi18toaa6nqio8CMWr9TkcbP812IuvvQkPUZKp51JSWLuwmVcd/ujZPewMeWjq+iVl7g7uUpAdw/rLJhMMgMHZ1LYL5Wvv1rB3fd9wdbtZTz14E3EREfoGQl1dIDD7qMsSfyyejUrNmwAYMaSpWwsKSE3I4N2A5yak/q0d75CBN/Y3vtaXhN0XB9srfli901gpIvI30W3FFIasHxZMZmJUcRFOQ9P59k7e5MkMeuX9Vxwx+vERDi44ORB9M5MIC7KyYffLeb1z+btPrn9zDt7urEJIbjtsvHERTn5/OflvPn5Amrqm4hwWrnpomO56cKxGC1tG+LdXj8ANvO+bmY2i4lAyOJFiwvOwRSxE3ucZ+vPSHu+rGq43D6sFiNFeak4bZY9hIZgZP9s+vRIajUhaX8gK1a/XinUvz2dHTt2ERMVgXIERI2MxIoVG3A4baSlJ6LqQkpnbySJ5auKufa2fzF0eDyPPnwGEVH2rlG7pbuiqBhlidPO6E9aehRX/eldbn/gOZ55+K84bNZuvWDRNI1fly4lJycHp9Op95XuhAhmvPP7/fgDym9mv/vdXxP6/9QZM2jyeADYsWsX386dR3p8AoE93PsE4PH58Pl8uJrcSIg2n9KyJNHk9uDxenG7mtqMkZKEwOX24PZ4aHI1dch4MkmAy63g8/tpdDVhlLUWaSXJEiajEbnZaqcLqwOiWwopBYXt28pIS4zEaDIcmR1CTeN/3y/B6wvw6gMXMqBvRvB7DTKzl23+nf1VIzLSwc2XHMc1Z4+kvKqBNZvKePyNH3js9R84flhvCvukt/nJ6HA7siRRVlW/z3nurKzDZjUR7rAcXlciSRAb6cBokLno9GHk90xuvXgUofzm6iGw46ga8dFhGCUoK6tC9D0yu0UaYLWaOfHkEUhC0ovw6rRGCGpq6rjjwefI7e3k0UcmERFh1UVUV0FR6V+Uzn+ePY+LL3uLl96cwl+vvaCb9/capk6dys0336z3j2503z0eL5tKSthYuoNKdw1ezXfYPDSEgOrqBj6bOROz3YgQwXCJVz7/DOwKpr02kP2BAAs3rcIwT2Axm9s5pmDnrkqqausp81e0KwJdHjeVNbVsbNjWQV2xNRq94azYMZh35GnIQqFZehowEGZwkBaTQM+0NKIiwjtrxY0jSrcUUqqq0tjYRGqEZfdi/bD3XY0GlwezyUBUhJ1QQQI8DW627qj8XTOF2+Nn845KcjLisTmsZDptZOYksam0ioUrPqWu0d1OA2j0zIgjLTGKr2eu4qJTh+J0WkHA9h1VTF+4nsLcFJJiIw7vjoQQjByQwzPvTuedqfP5x59PCU5woe+srmqgweUhPSX6kHyd1WzEZJBobGg6cn0NlYKCnJa/6+jsPQbe+PArduzaysfPXkVEpE0XUV2NgMrgIZnc/rfj+NejUzhu9GAKC3p2z3gpSWbFshUkJSURHh6u941ugAZsLSll1qql7LTuRMoJYIwXSBYOW7k4SRJULS1nsJxBWt9YVk/fQcG4VDYsKKNm2E5i0sJa1YxSfAqq203gxDoC9raTQQlJoGysRy1tRBlVEwzFaAOTppGgmgjINR3yfgihodSCOteNcnwtmrzbOuf3Q0PtLrZu3sLi+asoSspnQO9emE0m3Tq1H7qna58GqqohH5IigAfYuWSJkQNy+PDbxdzx1GecPKYAl9vHd3NWM2NxMZIImZPFfg69x78F0ODycM0D75OaEMmJo/JJiAmjZFcdr34yh/69UuiVGb+HNUdr1QBJcRFcd+5o7v73VG58+EPOPn4AXl+AV6bMYWdlPQ//5TSsNvOBDx6tjX/8lhueqjJmUA/OP3Egz743nZLyWiaOzMdmMbJuSzmfTlvGacf05c4/nXiIJhBCsWhHdgGjx0XptIkk2FFSzlsffck1V42gZ268LqK6KqrG5LOKmPLpr7zyzlT+/c9bumcZBEVhyeIljB47Tu8T3YSVxRv5acN8lEGNOHpJCFNo3XWYH4tZI+PoMTYBV42Hrcsr6DE0kdzhSWiahpCh1WLLK5CtYIgQGB1tu/ZJksAQJpDrBYYoQfvltDr2uBYCZE0gWQWGSIEktz5fY7yAHuDfVc/M2QuoXFDLcYOGYLWYdTHVDt26IO8f64yCnLRYYiMdIUEW9DI1SBJ5WYlkJO1lRVE1zplYxOYdlbz5+QJ+mL+WqHAbJ47M5+aLjmXawvXBeCUNDLJEXnYC6UlRuz+vBQdybkYcDpsFBIQ7rJw2ti8ffreYO58JBlSaTQYGFWRw55UTiIsOA00jMSaMvj2TsZiMe8xeGledOQIBvPzxbL6bsxqEID0xihfuOZcTRuUHd0xliYSYMAp7JmMxG/eZ/SLDbPTrlUKYw9LqXGMiHRT2SgkV9t39emJsOH16JmM2B6tu2ywmHr3ldLJTY/jouyVMW7geDQ27xUS/XikcM6gnaBomg0xBjyRS4iP+2Ax8BOcBEZpQdSGl03YHkfju5/kgezjj9P76Q6oro2nYwyxccvFQ7vv7D2zetpOszJTuZZUSgurqKjweD7169dL7RDe43xu37+DHjfOQxjdhS5NAhSPlmCHJwWRbqhLc0FUVFUmWgxsY2j7DM/SX9qfhlrxde/50VvZ3HaF/GxME8okaq39Yi3mpiXGDBx0i40MX7OoebUG3e3orisr5k++ib4yZB/5y2u/eBW5s8qJpGg6buWV3UdM0Gpq8yJKE3WraZ2IJKArbSqupb/QQE2knMS6CgKLicftw2M3IkhQ8hsuLwSBhs5haDeTGJg9CCBy2oB+vJgT1DU3sqmrA4wsQ7rCQEBuOaY/YL4/Xj9cXaDn+7vMBDUFlVQOllXXIkiAlPpKIcFuruLF2Pw/4Awoutw+71YTRsDutqNcXwO3147CZWxXLbT6W024JZhUMtYsG1Na5qKhuJKAoRITZiI1yYjTKoGqoqkZDkweTwYDV8jvqMAlBdW0j469+jr/+40+cc/bxBA5jLSmBoLKyFqPJQHiYo0OIKZk4DGR0/gEccEPNGlADnX8euvbvJKT5eOapc3Qh1dURgvLyeiae/Dy3Xn0VF5xzYufNxmiQ+fb72dz24LN8+8G/SUqIPaD+61UkqrU4EpPTOv/9DARg3Vpoaur813IY+nqT282HM36gZvBOrPmCo+HZLgQ0VHmY/e5ajrumDwZT26nP/V6F2e+uYdjkXCxOY5siSUiCnetrqN7RSMG41KBA65S3RqOhOpIV00cy5NRvkOT9zEEClAZwTzVyWs6x9MxI33ecSxo/LI8iOdJLXqoL1N9pkRNQWm2ixmUkP7URtD9g2ROwoyq4Rk6J9h520atbpP4ADnsoKHFPlzshCHNYabPmi6ZhkCSy0mJDVaiDWxyyQcYcZmvpoEIIwpz7HkMIcDZbfkKvC00j3GkjPMwW7D3N2fX2EEIWsxGLpQ0fVw0EGrHRTmJj9qh3tZfvb7ufB4wGmYg9zr0Zs8mAeY94p/0eS9MQQGS4ncjm+LHm7Z/QuUiSINxp6zSLTVVVef+dbxg3fjAR+U7dKqXTGiGorqlj/aYtTDpnFMgCAnof6dJoGrGxDnr3jueXpau54OyJ3a4JzGYTiZGJel/oyggBkkTxtu1UhJfj6Hl0RBT8zoLf2mE4Zge7P0LiwDwQNZDDQOrnZcmytWSlJO+/Dlc3RRdSf3iUtvX6b4wytQ17qqYd2DG0dr7vt0a39hu/+61z1n7HsX/P6/u7jk4ioiQkNm3ZQV1dI1k5KXqSCZ19EYJdVTW4PU1kZ8Uc+Qez1Eadk+Z5QNdzh6/ZDTI9e8SxdEEpAV8Ag0FflOh0EYRAURQqqmvYVlbOl/Nmsz1xK5afxVF7dAvA3eCjbEMtK37ahmRo2zVN8auUrKth5c/bMFkMbU6BQkB9hZumOi9KQOmUDgRCgNEsI0kqfncALVjec//XooE5U7Bz6S6qauuIj4nWvSf2QhdSOjqHGAHMmb2Mfv1zsZmtKOjFVHX27iRBl1whaYSHHdm6QqqqsX5tGTV17uCmpBCYTTKRETbi4p3YHJYWa3lXQlU1FEVFlqXdbsVH4b7HxjioayjDHwhgMMrdR7hKB7oNrtPpEIKdFZXMX7WCLb4dNEU3UNxrPVofN147R62PCwGemgCe1S7qe1YhGdvuf6pPw7PGRUOPaow2qf3T7QlWoI5KOiUaaG4NzzaVqs3VrJ1VQuaASOwRlvZremkg2wRN4R4qa+uIj43RhdRe6EJKR+cQIhDUNjSwadMO/nTdWbo1SqddFEUJZlCSj2wAr9+vcMe9U/nxp3VYrcZQvwWLxUhOTiyTzxzAOecMJDLSdmRq7B0JZIm5c4v5v2emcfcdExkwMP2oZUg0GCQURQmlTz5C5TeOMgFFYfHSVRT27YNFH/pdCg1YvWEj09YvxJNfhy1fAqOKpURF5AmE8eidmxBApcA4X2DNF0imtoWU4tUwLQRLbzCFiS6tE4QAQ7agti5AubWc2p9q6T04hehUR/vXLQC7isvt1jt8G+hCSkfnkKIhyzJnTT6OmNhIPTZKp0PS2OglId7J4/+ahNVqxOXysWFjBV9/u5Kbbv2YadPX8+//O5uExPDdYkqWdsctChF0D9wzplIQtDqItmM1gd0uharaEkvR7nub3y8JWgSH0oalbM/z2vuzEHxdEuwsb+Db71dz9VUjg59p/t0RXjV1O5uMJNi+fRc/TF9A/8JCffB1JYRg/eatfFc8B2mcG0e6FBypbi2YZvwIZulrC02Evl9j/xkDVdDUPf7fhR/bWmjaluzgHCvwrHWxav42+hoziEiwt22ZEoAEakDfGG4LXUh1NpoXKdphPL5utv3daIDdZiE/L1u3Rul03H6qQXiEjXHjexMWbm2JTbz2mlE8+/x0HnrkWxISwnjq8TMxGCT8PoXiNTsJC7OSkhpJxa4GysvrCQ+zkpISiZAFrkYvS5duZ9PmSqxWI4V9U8jpERfUM6EpZce2auobvWRlxrBxYwXLV5QgyxIDi9LIzIpF7Dn3SILSkloWL9lGVZWLxIQwiorSiYl1tIgmny/A+uIKoqJsJCWFt3xPIKBSvGEXdpuJtPRo6qtcbNlciapqbNhQQeLirSiKSkpKJLGxDj0u7HAiJJYsX0tuTgYmq1lvjy5zXwU1dfX8vOYXxGg35gyB/sjrfFgLBE1eN+sXltL/+EwMZj1u82DRhdTRRojdu6N70rzDusfCQlU16l1uTAYZ296p1Q8BXl8Al9tHmMPSKmX5QV1L8y5w83kL0fZucRcmmEpEf6LodPSOqgXd2wJqy3gNC7dyy83HsWx5Ce998AuXXTyM/gPTqa5p4MJL32TwoHQK8pL472tz2LK1ionH5/HuW5dRuqOOv90xhWk/r8fhMOPzBTAaZW69+TiuuXoURoMEkuCZ56bz+ZfLGTkim5+mraOhwYOryUd6ehT/fmoyEybktVi8vv56JXfeM5WysnrsdhMNjV5ye8bxxKNnMnRoJgA7y+qZfMErnHv2QP7+95OC1yME9Q0eLrvqbYr6p/H8f87jx2lreezJH/B6A9z/4FdYLUZUTeOh+0/h0suHB9tA57Dg93hZvX4zF5w5sVs9B7o0wer2LN+wgYb0apw9QusFKWi8ECHLs5AIZog7iufZkqFuP+cipOZzFcFz7wKbydpB1Lqy9hU0bG6gfFMdKfnRaPo4PSh0IXU0EYKN23Yxb9lm1FC2LCHAbDKSGBtGQY9kIptTiwtBZU0Dl9zzFmMH9+S2y48/tINdlvh69ioee+0HXrj3XPr1TjvoYpH1DW4Wrd7GolVb2bazGlmWyM9OZOLIfNISo7q8pUuE/uiWKJ1Oi6phtZs57dS+fPLpUhYu2kL/wemoqkZjo5f3P1xEj5w4Jh6fR1yck7g4J15PgHvu+5yZszbw5GOTOGZMDxoavDz97M/c+48vSE6J4IwzggWH3R4/64t3kZ4WxSMPnUZubjxr15Zx99+/4N77v6B/vxTiEsNZtbyEG2/+iPS0KF587jxSUyNZs7aM2+74lBtv/ojPPr6GpNRIVEWjrtaN2+1rdRmaqlFf78Hl8oKiMWZUD264bgyPPPodt986nmFDMgkoKj2y44LugjqHB0lQUlaB1WImLTle93bo7Ihg/JC7yU3JrgpmrFhMw6BKaleIVnV/PD4f1btcCL8fYRBH83Tx1gRoKvNTtcy932QT7rIAVSvc+0820RlukQRGu4Q5yoApTEZIv52VT5jAlKdSvrKWxNzIo5eMp5OiC6mjiSwxc/EGrrzvXaLC7VjMBjQNfP4AXl+AgQXp/N/fzqRvrxTQwBdQWLOpjJ7pcYc+RlkIqmtdrCguxeX2Hbwjvyzx6qdzuee5L4hwWkmIDsPrD/DKJ3N56X+zefm+8ykqSD/6O5LicB1WUF/vYvv2MvLys/S+rdOJ0UhLicRolNmxozZUby5YG23ggHRe+++FpGfGhHal4Zd5m/jiq5XccN0YLr50WEtM0gP3n8y8+Zt44835nDQxH5PFiKpqpKRE8MJz55GdGw+qxoDBGZSVN3DXvVNZvGQbJ5xSyCefLqWq2sXbb1zKsFE5EFBJyYzh3kYvF13yBt9+v5rLrxp5gLVQNKITw8jLT0KSJfr0TWHEMbnBjSK1e1nLj3xX0oiLieSSySdhMBjQfSg7MSFXvl/Xr6e4aislgZ0ss63BaFAQta3f6vcrVPprENUK4ih7ivnrVZqaPFRW1bYrpNDAMlCjtqkeOns+BQU0t0C4JazhZqILbNiTfyPjhwbGRIFrsRufK4A1zKjveRwE3VJIBa3SImgFOspogCRLPPyXUzluaC/8AQWP18+XM1fywAtf8+/3pvPf+85HNLvaNcdd783ernjtBVG3VT+m2fLU3qJECtnr9xeYrWnERTl59KbTmTgij7hoJ4qiMvXn5dz4yEc88eaPvPXPSzAexbopwTI5WtB0f4iRkJg3dxnlZVUU5OfoVimdTo2qaWgayLJoNaX06p0QFFHNGe8MEqvX7MTj8TN8ePbuN6oaCfFhDOifytx5m6iubiIhOQLQMBkN2Gym4DFUDYRE0YA0JEmwcWMl+AIsXrKdtNQoeuUmgD/kehhQ6N8vlYhIG0uWbOPyg7EkqaA1v19Rg3Oe7s53+NHAZrNgs1l1a1Tnvo2s37yVn9f8Qn1aFZaJAlk04fCrmHPZZ+0QCGg01WuIWI6ukBLgq4CaLeA8HqT9hugdTR/EQ3uzNEVDrVfwFjexbZaH6CwHsQNsiP0ISckKiqzgcwewhpnQNz0OnG4ppCRJwmaz0NjU1CEmdwEkxUeQmREPigKSRHxcBK9/No+tpdX4/Arm9mKWhMDj9TNr8Qbm/LqRJo+fXhnxTBiRR3JCRKvdVk3A+k3lzFhUzI7yGiKcVgbmpzOgdyqOMFvb40sIlqzayqbtFQztm0lqey56qsY5E4uQjXJwTg1l9p18QhGvfTaP5etKqG/0EB3pOGpt7vUH8CsqNtuhT8Dr8XtZvGgNZ08+Tp9VdDo5gk2bq1AUlazMmFaLJK0NC059gwdJEjgd5lbPXiEJwsOtuN1+PF7/XostrdVfbTYjsizh8foJKCoNDR7sdjMmk7z7vRpYLQasViN19R59Yd5Z+K1i8TodfDoQrNm4ie/Wz4HRTTizg3FEWqW22y12r9sbjM8Rbf7u6PQ/Osa5HKlbJoMcBbahEMhSqZpWj+JTSRjubF/YSqDJGqru6nzQdEshJSORlBzL5kXLUAIKstQBdiKaEzWowcln6/YK6l0eBvdJx2w2tPuZxiYv9z77OW9+voDUhEjsVjNvTp3PSx/P5oV7z2VAXhqoGqoG7365kPue/xJ/QCEhJozaejcVtd9w26Xjueu6k9oYWBLfz17FNQ+8x5A+GYwu6rH/ziRL+yyylICK369gMRt/XwKLQ9i+lTWN+BSN+PjoQ5qWXEJi3ZotGA0GsrJTdGuUTudFEjTUNfHJlKWkJEcwbGjWb7q+RYTbUBWV2jp3K7GkKhrV1U3YbCasFmP7ixgBVdVNKAGV2BgHBoNEeLiVXRsr8HgD2O1mmv0LXU0+mlw+IiNsuxPbAMre8ZztreF0T74j3J+kg4611elACEFZZRXT1i1EHNuEOVPsTieuj6OOTegeGeLAMRFqv3RhWWMgqs9vbCTrG1QHTfd07UNQ0CeHn6ZOo6rWRVx02FHtPKqqMeX7pazfVEZAUamsaeTrWasYmJfG9ecdE8p819aFCN776hdemTKXu66awDVnj8JiMrB49TauvP9d7nrmcz564grCwmzMW7yBvz05hWGFWTx846mkJERS3+jmm1mr8PmVVtcvACSJaXNWc+2D71OUl8Yzd0wmPjbs4FYhksQvK7eyeuNOLjt9GOHOo+jeIWDlhlJsTgcpKXGoh/gpsOzX9Qwd1gejbERB0WcWnY6PEGCQgj8aoKqUl9Xz2BM/MO3ndfz9nhPpkRO7/zGvQX5+Ija7mZ+nr+PEEwuCbsiSYPvmShYt3krfvslERdlbj31ZCv5IGopf4etvVuJ0WujfLxUMMoMGpvPTz+tYtmwHxx6fF3THkyUWLNhCbV0TgwamgRCYTDIms4GSkjpUVUMyBOtYVVW5cDX5EC1uzBomk4yqqTS4vCDJwaefHiN12HB7vCxbVcygfr2RZT2lcmdEVVV+WbMKT349ziwpOIQlkIRoyXAn5L3KsQiBpAqEHEx8IPYwKh/5OS74/UKEMvIdzXM5xBxwVj4V5AiwDtOomOPCmWnaJ7rjwL6QPeZTnT3plkJKRaNoYC+aFFi8ehsnjOlz1DI3BUOPVL6bs5o5SzeiaRoBRaW+0UNDk4eX/zeLWy45jjCHdZ9Pups8fPjtYvKzE7n23DFEhITKqMG5XHP2KO57/kt+XbuD0YN78uG3i1FVjfuvP5nePZNBUXA6LFxx9kj83kDLIieYulRi7i/rueaB9xjQO5Xn7jmXhJiDF1FbS6q47/kviY8J46qzRoQsbkenndWAwg/z1tKnf09iYiMOqUVKRWX8hKGEhzt1EaXTKRACKisaeO/tBVgsRhpdXjZuqmTaz+vYuLGCq68ayXXXjmmJpwx6Z7UxZhSVgvwkzjyjH6+/OZ/UlEgmjO9NXZ2Hp575icoqF1dcOhyjxQiahiQEZeX1vPCfGYwZ1QNZFnzz/WrefGs+V14xgry8RFBUzprUn7ffXcCdd3/GA74AmZkxrFhZwj8e+oqi/mkcPz4ormKiHRT2Sea7H1bz8kszyctLZMXKUt55byHbtlXvzj6lQWZGNE6nhbffnk9inBOfTyEpKZzevRP1XdhDjSyxpngLc35ZztCiAr09OtvkIEkEfH42bN3Ogs0rEFkuGtfu3tAVQlBZW0+dz4MpsPfYESiKgqshAOUKwnAUdZQAf7WKt1ylcU0Aydj5dZQAhElgjBQYIyWEfABFhFUwpYNnuZ+GzV7syQf5pSrglrA69DpwbdFNhZRKVlYyAwYX8ME3ixg/rPdRczvTAIMs89gtwSQNAUVFUTVq6lz8d8pcHn3tByKcNm66ZNw+o6m6volNOyo5dkhPIuyW3SJF0yjMTSagqKzfuovh/bJYUVxCdmos2SkxwTgsLfg+AZiMcsuCSUiC2Us28Ppn88jNiOc/955HXLTzoEXUzl213Pjwh2zYXsF/77+A/B5JR2/nV5JYU1zCvBVb+edTZ2EUBgKHWPAcandBHZ3DhRAQG+NkxcpSHnzkGwBkWSLMaaFPQRIP3HcyE47PwxISPyCQZUF8fBgR4dZ9jmcyG7j/7yejKCqPPPodjz35A0pAJSLCxhOPnsGEZotSSNRomsaXX6/k1dfn4vEGsJgNXHnFCO66YyIGgwyqRs/ceP7z7Lncfe/nXHTZm5jMBnzeAP37p/LoP08nPiG4sWO2GvnbX8ezZWs1t/ztE0xmA3GxTs6a1B9FUQkLC7mxKCp5vRO56YZjefb56Uya/F8MRolHHjyN3gVJENDH7iFFg0XL1tC/Ty7IcvCZo9PxkSQqq2v4auYcvl48m1V1xVSISsQ6bZ+EEqqqEdCCQqmtDqCqGpqkcbRtGJoGiluj9h/uo34uhwxFIAkJR7qRuJMsRI02IVtEUFC1hwGMGdC43Yct8eC+TvWCXGskOjlc33Rqu2m7JyaDiUsuPZnrr3yQGYuLGTes9+5MVEeBcKeNqJiwlkxSiQmR/O2y8Xw5YwVfzVzJdeeM3sccGwio+AIBLGbj7sK3ISwmI1IoEYWiqHi8AaxmI0ZZanfnQiBwub088caPuNxekmLD8fkDB3chssT20iqu/+eHLF61jefvPoeTx/Q5qu4zSkDhpY9mkZqTxpixRSiHIYZJF1E6v7vvHOGuYzTKPPHoGTS5gmUOBAKjScbhMBMebsVgMgTjWrTdGzNRUXbef/uyYLa9vU9Y1UhKCuf5Z8/lhuvK2LK1GqvFQF5eIimpUYg9i4prGokJ4bz35qU0uf3U1blJSgonKzs2mNGz+b2qxtixuXzx2bWsWFlKTY2LuLgw+hQkERZu3T2fqBojhmfzZeh9mqrRu3cCqWlRXHP1SCym3Y84g1Hib7eO5/RTCykrr8PpsNCzZ9wRn/c1CLZ7S1aeLoYQ1Nc1sKN0F5NOGqvHSHWWeUgIfp6/kAc/fIUVqcuxXKJg7QvRkbSZ0G4Pr9l2+kEH6t6CLiUANB/4yxSa5vpZ/4KbsE+tZP/NgS1L3q+YkqPAtzaAdjAbRxL4SjWiA1HEROpCqi26rZBSUBg5uj/j/p+9s46To0jf+Le6x2XdJSvZeDbuRjyBIIFAkMPdDg6XO+CHHHKHwx1BDpfgEEiIQBLi7u7JRja7m/WdHevu3x89KxMHkpDd7SefgaSnurq6uqumnnrf93nP7MuT436ibfNkkuMj/8QFvxYuL66oWC0mrGYT/kAQ7TAvr9NhIcplJ7+onKCiYKoRzRCC/cUVKKpKfLQLi9lEXLST7bsPUFHtw2o1110nlAumthUaXD+mD7ktUrnz2S+54+kvGPfYZcdnlZIl1m3ey23/HM+ufSW88/jlnNm/3Z878GSJCb8s58d5G3j1zYeJijix7ncS4oTHWxloGrBYzKgqBIKndrdeCEFqWvRhpyB9+/bQX2KTLJGZFVdX5mCoGjaLiU5dmtGpa7PaY0eaMyKjHbTOjdbrUrXDp1ZQNWJjXQwcHNJXrl82rN0aaenRpGXEhF03IyM2vL0amGWJtu2TaZubEooL0075/OT1BjGbzEiS1DgD9oVg2649pCTFERcTZSy8Gsgz+2rqL9z3wwsE7ygi+TxdDvuYLmMG/jSYU8DRFSLHahz4j4c1dwVp83Qk7namw5MpDSQLBDWtLhXEMd8L0HzgXy7RIb0lVqvVGM+HQSMRzv99sJjN3P/gVfgsdh588VtKy6vDlKBOKYRULwBbEAgE+XHGKrbtKaJHbibWg1WvNI2YCCc9O2SxcNUO1m3NB7MMJhmf188PM1YRG+WkY6s0hFlmQNcWbNtdxLS56/V7NOllS8o9bNyaD5qGhobDZuGsAblccnYPnrtrNDMWb+Le57+mpNzDUSMUBcxevJnLHngPT7Wf8f++ljMH5tb6W+u5qE5x38oS85dt5eHXJnDZ1ecyZGjPE0qiNFVj+vTFlJRUIBqP04CBUwFNIyrShUDmwIHKUz82VO3Qz7F+II+njBLKzxRUD0+itLr7ry17VDELLVSfopc/0vVV7dDrHqm9Sqjs0eo7ic99X34ZsdGRWMyNdB9T02iekcbF5w0zxnlDgCQxd/lKHpzwMuKfRcReAsICWpBwhT7jc1p9NEV/RqZ4SHwELMP9bHy8HF+BeuScoKImn+ZxvBdCf/6VCzWyvJm0a55tkKgjoMlapECPlcpolsyLr9zDTdc/xe1PfcZzd59PanJMyLXlFDRC06V73/t2HnOWbkZRVDzeAFvzCpm3chvd22Vw89j+IERdOo5QuySTzE0X9WP6oo3c9Pin3HrJAGIiHEyavZavf17O3VcOpWVmAqgql5zZje9nQEMtwQAAgABJREFUrOKeF75h084C2uUks7ewjK+nLadbuwxeeOii8EWOpnHFuT0pr/Ty99cm4LBZ+Nfd5+uiF4cZTF5vgKfe+olVm/ZwzsBcvpyyjPE/La29SU2Dcwd2YGDPliff6icJNA2mzl7L3f/+mn7D+3D3PX9BlqUT5oInIcjbW8ismcvo3rMdxradgd827jUS4mKIdEewfkM+ffu3aBL3PPairvTqmUVERNNM0BrwBVi/IZ/c5t2RzKY/1Z38ZD5nt9tZ+3cDpzGEoKKykmc/f5/qG/YTPzBEoAw0HKiABLG3wt4NPnZ/4CH7PtfRlyRH27eTBEigVkLVQo3EXSkM7dUDq9VijOcjoEkTKQAFle7d2vL2u49w710vceHdb/Pw9SMZ1qcNNruljr6fjPdH04iPcdGtbTN27DnA9t1FAMiSRFy0i3/cMJLLRvWoTaxrMct0bJVGRkpMiFCp9OyQxbtPXMGz/5vCw698j6pqREU4+PsNZ3LrpQN09xFVIz05mnefuJwXP/yFt76eg6KoOO1W2jVPZtSA9qBBfIybbu2a4XboiTVlSeLmSwZQ7fPz3fRV/DRnLReP6HrEgZmZEkuXNunsLShld35J+FhXNTq3Tg/tvJ+EzqzJw6XBvoIS3v5qLu9NWMQFl47koX9ci9vtOKEueAKJBfNW0j63ORFOl6HWZ+A3j/2oCBcd27bk19mbueaqPshSI7dqajBwYEt9nAbVprf3IAl25ZWwefMBbhjbHhqzFdtYcDWQd1Ji9tIVLHIuJW4MRxcrOCHXqzO+a/UtLL8XIlxeXdOgSaZx1ECyQcyNUPhQNSmX2LGlyYf0RW2fhyyNmhp6HgK0AOATqOVQVaCirjXTSs7mjN5diYpwG2P6KGjyRAp0MtW1Sxs+/uwpXnrxU+588Ttyv5nL2OFd6NUxm+S4CGxWc52U7gm7sMrIvm05o1sL/eUOcQxJElgtJswWc11cABAX7eKTZ6/WFQbrBYIP7tWanrmZ7Ckoxe8PkhDrJj7Wrbub1QvebpmVyEsPXERJmYdu7TO4fFR3YqJcesLfoMKZ/doyqHsLHDZLbYCwxSRxz9XDuGXsgKPev9Vi5sX7xqAoRzAra2Cznpwd2GBQodzjY+uuQqbMXcc301ciHE6e+PedXHDBYMwW0wkmUVBeVcnaNdu4/qbzjQS8Bn4fZJlRw/rywD9fYNPmAtqEpL8bNZpy3iZJMHnKWpzWCHp0bts4RRhESEXDEJhoIONRZdqShYjBXkyRJ9EaJQEKBHaDUqi7pUlu3S1NjuL3CVMICBZCxUTwrQdhhciLwN6JWte3pgRNAVt70OIVSmcESTjLHC4qIUAtBGWfRHCLhFooCKyXkGQJBASKgMV2nIXxZEal0C67OVlpKZhMJoNEHQMGkQpBQSUlJZ5nn/srF44dyqcf/cRzn83B/85UEqOdxEe7sFvNJyGUQRxaZ60B7ND8DHVCOdoh3whJhPJSaaH3/tAy/qDCtAUb2LyrkPVb9xFU6keTinrzmXZoG7Wjq9MJxFE3WQ/Xpj/83BSN8iov+QcqKK32k9IsmctvGcuYCweTmpyAinrCFfUEEnt2F5CZlUJKaryh2Gfg90FVGdC7M8nxKbz/4Tye/ef5RqRdY4Uk2LenlI8+XsQFo0aRkBDb+MiGEJSUlrN52y56dG5nPPMGAK/Xx/qCbdg6cPIsxBL4t0DRK1AxFdQyfS0gTCHBhL4Q91ewNOf4rUkClFLYeztU/hI6VwFrWwjkgX8rRF8DkosmZfmW7GBpo6FtN5NgjwkXlRAQcIDqtNMiKhPJHku72BwkWQEJqnap5OS05vwzBuJ02ENiOJpBoo4DBpGqBxUNIQt69WhP925tyd9fxLp129m4fgf79hVRXe07rHpeQ4EQgjmzVlBS7qHKGyCnUxuSkuPQtIb7gy7LMjmRLjIyk2nXPpucFs2IdDnR0E6KzLn+nqhkZaeSkZHcwHrLwGkFTSMqOpLbrx3L/U+9yMjh7Rg0pHVtCgQDjQQCFEXl9f/ORA04uHLsmTTK1Z0ksWTFenbtyadH11zDKnXav5cCr89PWbACU8xJeiMlndjsvh58GyHqcnB010mUfydU/Qqln4CzL1hbHORaKHQNLg3qRC9qvpKhao5OzJKf1evVAiDMsO8evd7Ii3WrF1B/r7ju71K9rDFqeJsPe7xeu2o/h3NPPJos/LEk408ATPGgrAWr2YIm111ISCBbALsVt8uBzWoh0uVCMiuoHg05z0yf9h1wu13h6S8MHLvPjS44FAoqSJCSHE9aciLDh/Q6goWoIUHg8VRz4QX3ARAMBhk8uDs33TCmwcf31NjpNDTUk0ig6sNsNoHZGCsG/iAUhbOH92P6nCU8+PB3fPTB1bRsldT4XfyaEoRg/OeL+fTT5bz0xH2kpiY2vucrQAsGWbF2EyMG9jKeeQOBqqn677/EyQldlnTXO88CSHkVYm8izGsl9hbwzAc5rh6JCn0f3K9/hAnMaSBFUktsVC94V+vufPau+nFholauW1N1y5di1cvLTv07pVKPJRIWCOwCpVi/tjkFkPVzA7tBLdcJiemgvVItGKq3BFS/bgEyJYQIW03bPHo9klO/Tn0Sp1XrbZecOuk7KUPRBKpyqCVJq/EoCsX86/xPl0KvXKDRSs4iMzXZ2AD5HTCI1NEmGTTURiIiICOzYuUmFi9aq9+bqvHD979y6eUjsdsthnOaAQN/EixWM4/eex3X35XPDTd/whuvXarnOVKaoCBDY4IkUBSNzz9dxD8encjt11zGuSP6N06SLAR784uo8lTTIjvdWIwZ0KFBYC8ggbWl/n8tSO28JizgHIxOQlT0OB4PFI+Dkg8gWKJbhyzNIf4+cI/UrVHF/4MD/9EJz+7rABPYu4ApDsp/BLUadl6sl5UiIe0N3c1v9w1g76Zbr8q+0omUKR7i7wV7Dyh6GSqng1oBpiRIeBiiLqkZz1DyHhS9pl9XC5E3S3OI/xu4R+llvCsh/2Fw9ILEx0DY9PtSimDvPfq9Jz+vX/fPnN9FSGCicqlK4s5UzujT1YiH+p1o0nmkmtZ8pjF50lxKSypqjy1cuIZ1a7chGa/Bb+lI1KYaLG/g5EDVSIiP5b/PPUB8RDMuufxdvv5yKT6fAqY/If/aqRtKjROSAJNEwf5y/u/xH3j4HxO57epL+esNY/W4g8YIIbFp2y5a52Rid9qNMW0g9F6ECJQCB8ZB9TKdhBCKkRIy4W57Ghx4HfY/Bc7+kPaWTjqECfbcDFWz9TptHXTiJEzgPhOirwD3MHD2010EZTdEXgBRf4HIC0GODlmx1kDRq+BZBLE3Q+KTIEXBvgdg18U66Yu/GxIf1a+z/3Hw76DWYqcF9HYlPgapr0HCg7pM+J47wbtOn6rtXXSyduC/UPKJXg9BKHwJKqfq7TElnIIJUBzmo4IkJFAhUKRRMVHQbGc2Z/caYCjz/QEYFqkmMZcJCotKmPLT/LDjB4pKmTp5Ht27tTU66TggI7Fw0Rp8fj8D+nc5JS6EBpoIVJW01ETefvFhXnrzM+574Ee++Gop11zVh57dM4mKdiBMEo1CMlsSbN6Qz8SJq7nl1jMOTTbeUKFpBP1B9uwqZfKUtbz34QICXisvPX4f5545AFmSGu9CRVXpnNsKWZaariqjgUOHhKITnciLdAtQ5XTdgmNtoSvMOXrprnlSKO2YfxsUvw0RZ0PyiyA59OP2LrD9bDjwhn6Osw84z9BdBqOv1uuqsWiVT9SFKGJvAVMitTFMSnmoPSMh9T+69QoB5mTYdQm4LoekJ0GO1I8LB+y9U1cEtObolrSYG0CyAnLdPZrTYNelOkm0d9AtUAkP6jFhBU/pbQvshpJ3If5B/d5O9tJBrdDw7SR8XpXAux6sq834Dphx5EUwJKMvHVpmYrNaDRL1B2AQqSYAGYlFC3Tr08H4adI8br7tIqKjIwz1uWMgoASZMX0xI0f1NXrKwImHqhIdFcFj993AmYN7M+6Db7njzu+IijHRITeFFjkJxMY4MZkbtlVDliXmztvGhB9WgaYRHeNo0CI+aFDtDbBvXxlr1+1jw4ZCLCYnY0aN5OqLR5GWHop5a8wLFU0jKtJd+3cDBmrGhhwDKa/rhKpymr6Yr5wOZV/qcUIR50LSM2DJBO9aCOTrZSVHKLcRYMnWyVPVbF3y3JJBLRnRlFB8lUKt1QVNJz61boT1pkxrjk6itKBuETOngrDrx+WokGiFCSzpeoyXUh46MSR+4VmiC134N0PwgG7F0vygVoXKqbrbXtIzOkHbc4vurhhxAcTeyO+Tev9tXY5LcZHuTw0figIqd0CPhC60a96HWTSnS9sITLIhLPFHYRCpJoCAGuTHH2bj9foO+W7Nqi0sXbyeEcN7EzSSyh4REhKbt+xCUVTatMkyckcZODnQNGQh6N2zI906t2PL1p3MXriSJSvWM2NaPpVVHpQGHH8iBPj9QdZu3IbX5+fZf80gOyOlQf+OC8BkNhMTGUHL5h244rxcenVtT2JSPAKt6QiHGIsxA4d9L3QrT/QVeryRWgHBIvBt0mOOSseDuRkkPwfKAf2Ug+OHhKxbl9QK3ZXuD7+m9V9VOaQOqBx0PCReUZPjU/NB4Qt6bJYcA9ZWujVLckD10vBzNUW3TsXfC7tv1Elawn26letULLPcTgcZyUl1Q1JAsFRDCTgY0acXwpKEaYepVnjCwB+DQaQaOSQktu/aw8zpiw/7fVVVNRN/nM2Q4T2MzjoGZs9aTtdubbCaLQ1e6dDAaQ5FxSxLtGndnDZtc7hBUQn4/PgDgQYdoyfLMnMXr+Si6x/C6/PTIjudL956GpezAVulBMiSjNVqxmQ26zFSitp0BBeEAEkCxZgTDRwGNfFFQX2sSJFgidKJiLWNbuGpXgaaNyTMoOliEfWhabpVB9Pxqd2djJnEsxiKXtQtS0mP62RP2PTj5d8fOicoZVA1E+QICBZAxRSIufHUdbueAkqrjdGqWqjROSKHhJhoCsoVDAZ14mAQqUYOCcGsmUvZsX3vEcv8Mm0Re3YXkJ6WiGoMrsPCF/DjdNnp1qOtYY0ycOqgqrq0L2CxmLFYLQ37fiTB7AUrKK/Q/WDWrN/Ktl176du7c8O33Gha7fNqKhBCYl9+IYWFxXRs39KwShk4aExA9WIwp+sS47W5meqJS6DpLnXIYM3W5cmrl0HkaGpFEtQKXQ3PkhmKbToaZN3VDiVkaQpZlP7Qew74t+sEL/J8/X600L6BFjgo/xX6PRa9BhXTdLfGikmw/0ldeMM1uO7ckz9A9X6oXKSRvC+V3n1zG6140Z8JQ66tkcPj8/LjhNkoR1mkbN2Sx5xZKwz1vqPAbDZx0dihRMcYsWQG/kTUZJpviB+gqLCYn6bPq72d0vJKfpw2py6GqIHfX1ODJAlmzlvGzt37dKuUgYb1/ISEjFwXX3TCLwDF78OO83XVPu8q3ToT3K/nj9r/D13FL2qsHpdkbQfOQbr0eflE3Y1PKdJFJqqXQ+TYUD6pIww3IenxU0ohVM7Q46n820Cr+oPTLmBO0l0MKybrpCqYD5U/Q+HTOtGr7T9Zt1AdeFUXvIi6RFcBNMXr6oC+rZzUlbcWBMkk6e58BzTKp2okbU7jrB79cLucxkt/cl5zA40VMhIbN+xg/rxVRy0XDCr8OGEW3oDf6LSjDRbZGC4GDPz+ASSxYOka1m4IF72ZMn0BBUXFxk5pQ4OAKk81m7fuokuHNkbuqIYGTcNmtRBpcuv5mk7SZeyd9dinfXfD9mGwbaD+2X6O7taX9DS4zw4RAKfuNmfJhLyrYdtw2DYUCv+lx1jFXEVYglthCm+3pkHEOWBpoSvubT0Ddl6oEx8hhz7i0PcY0+GP1yT5BXD0hsiL9RxWW8+AbYNh9026NUpyh84XoTxSj4KjH8T9VW+vtQUkPaVLqe9/PCQBf5I6XCkEc5mVysnABDfdg104v+8g4qKjDIvxSYLh2teIoQFTfppPwf5iUlLj6dkrlzbtsvjq859p3SaTFq0yWDh/NcuWrmfO7OVs2rST9u1yDNe1gyAQhhXKgIE/CDUYZMLU2Xh94Rs26zZvZ/6S1Zw3ahAEjTibhgJJSOzNL8LtdpKaHG8s0hogbDYrbROas2LlIiIHnoQLaBBztS457l0dUror0QmNJVMnJ5bsurKoulWq2We6tce7Xnf1c/TQ8zcJu15OUyDyPLC1093sapcsqh53lfE5VM7UZdAtzUJlZEh9U/93jSuepurtSH9Pd7urdddTdNny9A/B1jFE8lx6TivXYF1dUI4O5a1qrsdJWVvr50k2nTTZu4asZ2pIdn04ZHwdSuZ7kqY5tRrUtWb6RnZjiKUvzXolEhMViRDCGJ8nEQaRasSo9nnZtHEnf/3bJVx7w2hatGwGQY2F81Zzxhlduetvl1NcUca8uSv5z6tfsHb1Vjq0a2HQqPrQ9F1Xu8OqT0YGDBj47ZAkdu7cw/TZSw75yufz88OU2ZwzrD+SZIyxhgMNs9nEoL5dEbJsiE000HE5rHtPPp3+LcGrvMhuTrwGgaTnWrI0q31taq0xmsqhMYWqrtAXfWV4W7SDYqssLevIS1ibNd0iFduq3qHQqxlx1kHXDMVnRZx96HFTvC7NXr9+ORKiL693D5p+Xv3za9t18L3J4Bqgn6edBK0HIUPVMmi2N4Prrj6X5KQE3UrchF2PTxUMItWIYTabefLZ24iLicJiNqGiUR30oWkaqqaiouJ2OzlrZD969e6ApmmGGl09CAQFBcV88/UvXHP9eVgsZqNTDBj4XYNJMHPuUnbsOrzozYy5S9iRt5fsrHTDRayBQNU0khPjyG3T/DDR9gYaxkNU6d+lEz0ndWfRl7NJuP4kWUvU3/iK1Kj8/d46j/DdYevUfsPxI5QNO3aUdp00kQmhW6NK3xTc3PkskhPijI2NUwgj6KMxP1xJkJQYi2yWUFAP656moRFEITLSRVSU23BgCxscEgsXrMblcmC3WI0OMWDgd8JX7WXClNlHzIG1Iy+f6XOXGnFSDQkamGQJkywbSsoN9hlquFxOHrz4apzvJlE2PTwuyEADgAQosP8/0GtHb64592yjT/6ER2CgEeN4Y3u00B8DdfB4vaxcsYl+/TsbfWPAwO+FLLF+8w7mLzmy6I2qqvwwZRZeT7XRXw0MxszYwKGq9O6Uy3Oj/4b0jwSKPgHVFyJUErUS5Mbn9PoIWX9GgQLY+zi0/aETL9zyN+Jiog1XvlMMw7XPgIHDQEZizZotOJx2mmUmG/m1DBj4A5gyYwH7C4uPWmb+kjWs27SdLp3aNPycUo0dQuiJhw00DmgaFwwdTFxkFE++/TYrflyJ9dwgjo5gigLkBvqahmKZDv71DoU3Hf6cI313AvJRnbDH5Qd/PlTNA2mikwvcQ3n4vmvJTE0xXKP/BBhEyoCBw0ADLGYTZ57VF1lIhpKhAQO/B0JQVlrBxJ/nABDpdtEiOx0hCTZv3UWn3Fbs21/Ejl37KDxQwuTp8+nSsY3Rb6czJIkd2/NYt2EbkpE7qvEMVU3jjB5dyW3RnJ/mzOPHT+awcdw2KkwVqFLD+/1TNY3i0nIiXA4s5vD4Zq/fj0mWdbfUeggqCqqqHlJe0yAQCGA2m08L72OTYiZZjaFLUlsuGD2IPp07YrVaDBL1Zz0PowsMGDgUKiodOras/bsBAwZ+BySJVWs3s2dfAbddcyGXnj+cDm1z+GX2Eh7791t88OqjmM1m5i9exZsffcv0OUu4/bqLiHC7DPeU0xYak6cvoLi03FAybWxQVWKiIvnLuaO4eOQwSsoqKK+sQlFOVsbekwNJEmzdvZtrnnqSWy8ay8VDhxIM3YMkCWYsXUJ2ahoZSUmoqlZ7zo59+ygqLaVbmza1xwEUVWHVli10yMlBlv5M85wGQmA1m4mKcOF2u5BqFDMNEvWnwSBSBgwcAUZclAEDfxCqSkZ6Ep/890m6dW6HyWwCSWAyyYDAYjGTlJTABecNZXD/7qxcswmzyWSQqNMVQlBcXE5BUTHtWzfnh6mzjT5pbNA0UBRMskx8bDTxcTEN7x5kmV9XLWffgSJWb9/CvelXYq6xPkkSm/bkkdUslez0eiqhkoQwSzhcdnKaZ4YRk6CiUFpdRYvsjEOsWH/qcwo9KwN/LgwiZcDAQRChnTeDSBkw8AehaTRLS6ZZsxQ97klR9Cjp0AjTk3DquU6iIt2c0b+7sTA4nSFJrF6/heTEOGKiItAMwtvox29D2NQIKsEwC5IvEOD7mb8CMGvZcjZs3UqbrCxUVUWSBIFAgGDAT9DvrT1PlgSBgJ9AwI8S8KEo4UQqEPDj9/tQfwOROlos1mGHlxCYZGNZ3tBgPDEDBupBICguLsNsNuF2Ow0yZcDAH4WmgaIdZzmDRJ3WUFW27thNj05tKSgqNvrDwJ8Or9/Pr8tXgGRBEgJJkti0czuzV6wAYE9hIeO+ncAFQ4bVEqmVW7azJ6+C9JgS1BBRlIRg74ECSqvKKd8n1R7XX3uFrYXbKNodRJaOvWwWgF/zohDELlzHt4rQNITdz6DeubidhmtzQ4JBpAwYqAdVU/ns48kMHNKN9u1yDCJlwIABAzXQNM4bOYDoqAimzlxg9IeBPxdCEAwGUYWFHp0GIssykiTxy7JXKa2oQAiBpmms2rqDh27pjtvpQpIkdhRUwJoYEjw9UELZcyUh8Jbvguoi4uWuqPVc+xQClAAxe7tjxXHMVYFAUCR2UMkB4rWux72OyHMuwBvw4zaebIOCQaSOMRgkRK2rV+N44DJCCCQhITdUTdMjQEX7Q8IQEoLtO/ZRXFJO8+ZphsiEAQMGDByE2JgokCUjgZSB0wMCTLIJm82GWTZT4amkrKKcR2+5l227d9Iyszmbdmwlv6iQxLgEBAKLyYImLFgkO6qmW8GFkLAIK2ZhxSpsYUqFQWTMmLFgw4LtOJokMGPFhAWrsB1CpLR6/607KJCFyciF3ABhEKnDQArlKS4pLWfr1t1s3ryL/H0H8Fb7aei/HsGgwvbte5k2bSEery9s16VBPitJIiLSSbOMJFq2zCA9PRGH1YaC+putSQLBvLkr6dSpJQ6bHQXDzciAAQMGwmC4HBn4E6CqKv5gMPz9E+D1+fD5/VR7vQTkIJqmcv+1txMVEcm4z9/n/GGjiHC50VQVj9eDJEn4g3401Y9PqQ4jUn7VR0D14VO8tcdBEMSPHz8+vOhZiuuPgRrqo9U7IuHHhx8fPrxoYZuyAlkyIYuDN7KNcdVQYRCpsNdbz9y2fsM2vvj8Z36euoDi/UW4bWai3XZslobdXUIIhBDkNotBrSpnwaSZDf6ZqZpGpcdPcUU1ASRats1izEVDOfOsPsRGR6Icp1VJICitqGTL5jxuunWMYY0yYMCAgfqokTo3iJSBP+Hd25mfz8qtO3DYnXWcQ4DX52fbvkI084ravGZCCBRFYf3mbUSoy4iPjEPTNDRNQ5JkVq/aiby7lCq7qTYWSiAo9hdQGSyjulyECamoBNnPPopZhQlrWNM8lGLFgYylrrkIKijESyWFSGEUSdECREe56Jjc2XiujQQGkQpBQuJAcRlvjvuaT97/kZRIK5cN6UT/rqNolhSDy2nFYjIdVzK2oKKeVmpGAhCSoLS8mpJyDyaTRFyUC5vF1Cj2QPwBhZJyD+u37WPSrLU89+gbvPfOd9z7wJUMG9YLSZaOwzqlIUmC8y8cTHxCtBEbZcCAAQM1kCRWrd2E2+kgKzPV6A8DpxZCUO31kZKSQ9ucXFStbqPTHwjQrLCEtJTssATRgWCAX2YsInF/dxI9ybW/6ZKQiSsrwelJJUNpV1uXQMLNbsrIJ6MiPK5JRcVFBjGkIhOerHcz84knhwgS6p0j8FCKHw9RpFCf+Xm0Ukpta9DQGlXYSFOGQaQAGYkNG3dw/z0vs2fzDv5x1RBGD+lIRIQj9P5rFBVX8sPMxfj8wVpLrkCAoI40aWCSJc7s347UpGhQT4/FuAZ8PW05L374C3v2l2I2y/z7ngs4f1hnXZK4gcNslnE6rKSlxDC0T1tu21XA65/O5K83Ps11t1zIHX+7FLvdelRypAEup50OuS0Ma5QBAwYM1IMSDDJx2lxGjxxAQ0rMaqARQQjMshmrxRpGpISQsFisWC3WMCIlSQJZkjEJM2bJWrtOkyQJWZgwYcaEFVXUECmBCTMyJkzUrRcEoKJgxoIJKybM9Q1iofKWg84RmLCgEsSM5ZDjQkjG82xEaPJESkZi7fpt3HTtkyRY4KsXr6dFVpJOgpS6RG35RWU89+40Sis8ISUYKCn3oGoaMREOJEk/ZrOaaJWVSGpyDKeFz6sksXpDHnf/+2taZiTwyE1n4gsEaZYU3XhcNEJkF0VDADkZCTx//4X06bScv7/2FWWlFTz6+I3YbMcmU5pBogwYMGCgDpIgb3cBgWCQ5llpet4vqXEJFRk4feAPBlAOSoMgCQmvz4tPsuLxVqOqoe+FwB8I4PV5qfZXI9VzGQoEAwTVAH7hxatUo9Wo86kyihokoPnxadW1v/kCgR9vKLap+iCLlIJf8+EX1SgEw9oWCMVBHXxOAB+aONx6wvB2aWxo0kRKQrAvv4i773iBFIfMG49eRmJcxKFWGlWlRbMEfnz9FhRV1QdcMMhNj39GSYWHj56+CrfTpvvfCkFqSr1M4JIEkgjlSFF1taP6Y6lm3B98zRpVJE2rO1+E/n+wpUsSoe/q1VdTTpaYt2o7lR4fz959Pt265kBQgYCify9EXf2hiQn1oCR8NfWrqn4BKXSRmnZIoq6umpurLR/qA+2g4wfPJbX3ELoJwaHlZCnsvmrberBghqphEoKxZ3Ujym3n1qe/ID4hhr/dfdlhN1NF6I9hiWriEKJuPBg4eTCZQJIQQoBJ1v+tGWPvpKFmzvy9G2dCYunK9bTKycBisxm5vgycNCiqypwVq/ApEiaTiZoFgBCCvYVFBCil1KPUWpeEEFRUVZC3vZiUyMKw0AtFVdi1PZ9V0iqibHvqrEJCsL90P6YKPxWV1WHWoiqK8VCGBxG29Ajg5QB5JJCFdNCyeT+7KSOAnbx6yzpBuSggKyKHGHM6Bnlq3GjSRCqoqLz4widU7S/gf89fp5OoI6jYWS0mcjITaoeJPxDEYbdQ7Q+Qk5lIpNsOGvgDQabOXUdMpIPu7TNZsyGPjdv3kxQXQZ9O2SxavpOla3exp7AMRVFJinXTr0sO3XMzMIXM0l5/kKnz1pMQ4yY1IZIfZ61h3dZ9xEY5OW9QRzq3SatHxASbdxQwbd56tu4uxGI20SY7iT6dsslJj2fV2p1Mm7ceTdP4ddEm1m3ZS1JsBEN6tkI2y+wrKGPirDWs2rQHkyzRs0MmI/u2C92PTnzWbNrDhu37Gda3LVVVXpau20W1N8DgHi2p9gWYu2IbfTplszu/hEmz11Lh8dK7QxbnDO6IJAQzFm5k5pLN+ANB+nVuzqgz2mO3msPuYcvOAibNWsOmnQXYLGb6dMpmeN+2uBxWQKPK42fqvHVkpMbRrnkyK1fvYEteEVmpsfTqkKkvyg6dlRnerx2P3TSS/3v9C7p1b8sZA7qECVAIBBUVVezZU0Cr1pnGjNAUIUtoGlSUVbB7bwG78wsoLasgGDQWjCcDkiyxdMV6Skor+GbCL0RHuk+rmNJG08+ShMvpIDkxlmapicTGRCGZTKENquPvbzUQYG9+IaOG9jWEJgycVKiqSlAVdOnYH4fdUbtGEAIKSkoJYiUhNqnWuiQkie15WylctpVUb++wjVJFDRJdvZhU0ZU4JaUe+YISfyUxwZbE0iyMSFVThpdKokkJJ0UUUI2HbPoiIYftg0eShotYrDhrj0tIbBbz8Gs+BAaNauxoskRKRmL+ghX88PUvvHzPaDLT4o4dL1RrCapnBdHQ/x76rqrKy99fnUBCjJuWGQl888sKyiqq6dMpmw+fvoq/vzqBjTsKSEuMwmyS2VtYxnPvTePJ287hlov7gxBUVHl5+JXvEUJgtZg4UFaFw2pmV34Jn05czPh/X0eXdhmAxvQFG7ntn5/jDwTJSo2lstrHO1/Po2PrVL5/5WZ+XbKZGYs2UeHx8Z/xvyLLEn06ZTOwe0s2b83nxsc/ZcP2fNo2TyYQUHj/+wUM692aVx8aS2JsBEiCCTNX88IHv3Drxf35cdYatuUVIUmCb1++kbJKL9c9+jG9OmSyY28xVouJKo+Pt7+eyw0rt1NaWc3P8zcQ5bZTWlnNW1/O4Zm/ncedlw/WO08STJmzjrv/9RUALTISKKuo5v0JC7hoeBeev+cCnE4bxWVV3PWvr+nWrhlup42Js9ZQUeXlnIEd+PS5azDJR7AiaCoXn9mNmYs38/ILn9Cla2ucTntd4CkSC+atYu++Itq0zjasUk0JkkQwGGTVqg18M2km02YtYtvOPVR7vEj1DawGTjg0TY8tfejxV43OOFl9jP6zZLaaSU6Ko2/3Dlxw1iAG9OqM0+047vhYIQSXXTCCqEj3ETcaDRj4zZCkwx6TZRNWixWb1VZL3IUQ2CxWgsKG1WqrF+8ksFgsmCUzFskWIlK6V4tCEFmYMAsrFmGrc9sXer4mMxYs1DuOIIgNhQBmbFCPFpmxhjJJWUMWqTpqZAp9Z6oXCyVRk6fT+BFpCmiyRCqgKnzw3o90bZnM8D5tTpjoghYa9HOWb8Vhs/DifWNIiovAYjYR6bLxxG1nkxwfSUp8JCaTTH5RGTc/OZ5XP53B6CEdSU6I0uvRNApLKrn/mmFcMLQTUW47P81Zx42Pf8L4n5bQpV0zfN4AL374CxazzHev3EhWaiz+gML67fksWbsLTdO4YUxfdheU8s7Xc/ngqStpmZmI2SSjahqPj5vEjr0H+PS5a+jfJQdFVflq6nLufO5LXv/sV5687WxCkhoUl1XxzS8ruXxUd3rmZqKoGrktUvl16WZ8/iCKqvHGPy6hS9tmlFdWc+tT43nts5mcPSCXz/51Le1zktl/oIIr//4BH0xYyBXn9CQm2sXOvCLufeEb2uWk8OJ9Y0hJiCQQUHj3u/k89Mr3DO3ZijFnddOnJwFT561n1ID2vPHIJcREOHE6LEhHc8XSwGI1c9tlA7nkgfeYO3sFI0f2rc0R5Qv4WbJ4PRdcNMSYDZoSJIkt23bx8lvj+fz7aWjeAD0zMxndfwCtExOJdjoxyw0pIFggC90lVlW1w8YCSqH0B7qnl8Zv3SetIT96GoW669bNfPVbI5AlCVXTwgLDD25z/fMkISEA5bBt0+9PQ6uVKz5VOPx9n/5QVY1yr5cdBw6wcNsOfp40m8++nsLAft24/7bL6dersx5Tcoz+FELoSXgNa5SBE4RAMMiu/fn4/P4wqhFUFLbvycMRuQm7zR5GpIrLK1BlCwfKD9RRHCHYtW8ne8p34vatO8gipVDiK2Sv2Ey1Vh42Jxb48/AHzVQT7trnpRI/VVRRHmaRquQAhexmNxvCLFIAHlGCQ446zNxW9986dT5BXTCBdIhqn0G7GiaaJJGSkNi+I48Fc1fw7C0jsVjNJ1S9TlFUBnZrwUfPXEVEpLPuB0hVOaN3G4K+AEXFFRworaKq2kd6UjRL1uzkQGklyYlRoUlAY0Tfttx99dDaH+8R/duSlRrHpp0FKEGVQFChsKQSq8WE22HDYjVjsVvp3imbbu0zEZoGJpkIpw1JSMTHuklMiARgzcbd/Dx/A9de0JuhfdvWxj9dMqo7305fybc/r+COSwcSnxCJpoHbaeX1h8cyqHebsHgqVdWwmGXuuXoowwfmQkAhLj6CgT1bMXfFNh6+cSS9uuhxWTExbvp3bcGnExdRUuYhJjaCKfPWs6+wjDcfuZSkuAj8/iCSJDjnjFxe/mg6M5dsZszIrqF+1Rg9uCNvPf4XbHZraIXDsXdJFZUOLVPo3iaN776bybCRvWrfg40btiLLEjk5aYY1qolAE4Kfps3hvideY9+ufVzRqydX9+lN2+QkrBYLDdEXwx8Msnn/fgJBhayEeCIdjoMSVwryS0vZW1KKy2YlJyEhTOHq2JOmxKwNG3l//nweGDmCVinJtfGJGrqLTf1rlVZVsSpvN81iY8iMjz/mIlzTNLYWFKKoCjmJicgHtc0XCLApfz8xTiepMdGn8MdCYuGWrYz7dRZ3DxtKbrP0BmmVueUMhbziEr5ZvoL/zvyVC659kIfuuIpbr7kQu816bJJkkCgDJ3BM7Sks5OFx79MsvfUhbvm+QICN+2eFHRdCsHr9KqrXuIiT08OtSEoQvzfICrEnrJ6A5mOTfxEVQmDBftB3XiRtHxKmekRKokjbQQAfyaJVmAiFikIQP4VMOGhYqBSZtnJx9EOYJEu9c6RQEt8AVZSEtddDKWXsp5BtYURKA6opB5KMd6SBoYkSKcGypRuwaAo9cjNPuEy5hkZstIsIp00XdghB1TR+/nU1b301hzVb9uHzBxFCUFZZHdJgCG+H2STpZCikv2AzmXA7rfgDCpqq4nJYGdW/Hf98ezJn3vof+nVuTqfWaXRr24z2LVMxm6Q6skFIpj1U1469xVR4vHRslVYnVIGGxWKiQ8tUfl2ymf0HyolPikJDw2o2kxQXGS7uINclvzPLkk5G9e1bIh3WUNy+qOeTL4h02lBVDUVRQVVZu3Uv5ZVeHnjpOywWU237FEVlT0EpxWVVoKih6UYjITYCm80S1q/H9aKbTQzv04ZXv13MgaIy4uKiAFi+bAM9e+Vils21VioDjReaEIz/Zgp3PvIiGQ43X918A2e0bIksyyEX3QZIpoVgb0kpF7/1P3YUF/PgiOH8Y9SZYYtfXzDIvV9+zTfLV9A3pznf3HQjbpv1N11ja2EhXyxZxjV9etMqKQklGOSZyVMp93p58tyzsZpCPyeSxPKduzj3v+O4Z9gQ/u/cc47Zr4FgkPu++oYDVVX8ePstRNjtYRs2uw4Uc/64N7mwSxeevWD0qVvYC8HOAwf4fOkyLu3ejdy01Ab5jkhCkBEXy13Dh3J2h/Y8NmEijzw7joKiYh679wYcdtvh+1SEdhUMHmXgBMIf8JPRrA0P3Pb0cW3oyLLg9XdeYe+sVHIZinqM32rdilRMEBjJvdhwHfsamFjGBDyU0o8rD1HnO9z+mkqQCcqT+LVqVIK1m7ESEioKChoBvGFEyo8XH1VUUYKg/r1rBPBh2KUaHpokkdLQWLVqC9kpMcRHu07Oj/LBdUoSv8xdxxUPf0BOs3juuWoIrTITiY928dGPi3jzi9nHrFIXFRNhB+66cghpidF8N2MlU+ev58MfFmIxm/jrpWfw8A0jsNgPv1jy+/VJwmo+9BWwWUwoioq/HlnR+C2qTyLUzkOnnrDNJw2qvQFcDitn9mtHpNsWdomLhnehVWYCiDoFHU37nT/qGnRomUpl6S/s3r2fhLhoFFSGDu9JdHSEQaKaAmSJKT/P465HX6JDbALjLr+MnMSEhkug6kHVVMp9XjRN49NFi/lLz+5kxcWFVD8lFu7YwS8bNqJoGhVeb/i4lKTaDZDDDlatLp9K2JASgoU7dlBYUUlQ07DWq6dVUiKvXTKW3NSU45o3NKDS76MidA+Hu7+yai/eQOBIE2Od6ueR7iXk+lh760d65vXrC6kLNoqlTahfWiQlMe6Ky0ia8COvv/MFkW4XD9xxle4aelA/LFi6mozUJJKT4g2r1O/Fwe/m4VBDJjTt5PSzCP3nZD/Dg+aMY3eLOLxQ1OGqFTXOcBLiGN4jotadru6cYy0c6p8T7o53UDcedI6EhBUnNlz1iJSMBTt2TESRHEakzNhQySaTLgcRKdiBB2PXouGhSRIpBZXdeftJT4rGZJZPTeJcTePbX1YgBLz56GW0bxNyETHJxM/f8PuGjqbhdtu59sK+XHFODw6UVrF5VwHPvDOV1z6bybmDOtClY9ZhT42LdiFLEnsKSg+pc3dBKS6HlaiQEuFJgyRIiotAEoKzh3SkQ+t0UBXqZTw+Pte94+yrhBg3FlmwP7+4dpJMTo4/am4pA40EksT2HXt48KnXSbU5eeMvl9aRqEYCTdMY2a4ty3fl8fmSpTw4coQ+3ykK789bQMvEBDz+QF2MkRD4AgG2FRYR63KS4HbX1hVUVLYWFeKyWkmNijroSvrY2VFYRFl1NdV+P2t278FuMWORZZrHxxPrdNInO5s4t+vkLt6EYH95OSvy8iisqCTW6aRzs3SSIiNrrxtUFHYWF7OruITiqipkSSI1Koo2yUm4bLZDXCD3l5WzdNcuSquryY6Npby6unGNBVUlwmbjifPOobTaw/NvfEyn9i05a3i/MBd3j6ean36Zx81XXmDMH38AJWVlFJaW4rDZSImPD8t1BLrk9+78fPyBAAnR0US63Sd2zAjBtzNmsGTdeu65/C/E1BsbJ/IapeXlvPDJp3RokcNFQ4c2SOL9x1p8MPkStX+0sGgpPdZTX3eoJ/D6Bv4sNEkipaoqnqpqMqNsda4LJ32EalT7AsiyhM1mrhlnVJRUsmnbvt8xZgUer591W/Npl5OM3WkjKdlCUnocKzbtYdbSzVRV+4/QARqtMhNpnh7HDzNXc8U5PYmOdoGAbTsKmL5wI13bNiMlIeokL4JgQNcWvPzxDN4NqfnZnbbaNu4rKKWiykvLrMQTcjmbxYxZlqiqqq43cRlTV5MY84rC6+9+ya7te/js+mtpkZTY6BTIVFWjbUoy6dHRfLxgEZf37EFabCwrd+xgxsZN/N85o/h44SJKPZ7aOWR3SQnnj3uL6/r14b4Rw/U+EYJiTxWXv/s+Z7RowfMXjTl42KIqCo9PnMSCbdsRQnDhm2+jAekx0Xx7840UVVZy3n/f5IERw7jxjAHH3dcCgZDlcEWvkGXocHPgpNVreOyHHymoqMRhMVNe7SU5KpLnx1zAwFYtQQg27N3LhW++Q0FFBTazGU3TCCgK/XKa88JFY2heE8MlBL9s2MADX3/H5oICbGYzZlnGFBLNaFTQNFxWK4+dczbLd+XxzKsf0LNLe2JjQotsWWLj1l1EuJwkJ8YZ1qjfC1nmo59+4sn/vUtmcjKf/fOf5NSPs5Mklq9fzxWPPkZJRQXP33knl5896sTm6hKCuStXMX7aNG48/3xioqJOyvOsrK7mo58mcV7VGVw0bFiTeWc0NDyUUkFRreVJQqaCInx4cOGutVQJoJpKIGCMjUaEpunap+mLDukEJN487oW4LDG4Rys+n7yUO5/5grP6t6PK4+fnhRtYui4PSRK1ynT1Kj/4YrV/EUCVx8ftT39OXLSLM/u1JTkukt37Sxn35Wx6dciibfMkUGtaqIV1QGJcBHf+ZRD3PP8NNzz2MRcO64zXH+S97+ZTVlHNHX8ZpMciHadbTngxra6jj3a6otG/a3OuO783b301lx17DzCib1scNjMbtu/nx1/XcMmZXfn7LaNOyHOvcSVQVRUJCQx3vqYBSWLdui189u0UxnbtwpA2rRutjLNZkriqdy8+X7KUr5et4M6hg/l4wSKaxUQzom0bPpi/IKx8UNUorqqi2h++6aJqGiWeaip9vsOOd0mS+NuQQWwuKKDc6+X5MRdgM5uwmczEOp3sKyvjQFUV1fVd8Q7nwlNv4hAIiior+WT+QhwWc5gy197SMqoD/rBnunTHDm4f/zl9srN598rLSXC72VlczL1ffcsD33zLD7fdQkJkJE6rlev79aFDaiqp0VFomsaszVv4+/c/8Or0Gbwy9iI9H9/+Av762RfYzCY+uPpKWiQkUFrt4d258/lk0eLG97JoGhmxsdw9bCi3fDaeH6fN4apLz9EX8RosXrGOTrmtQJaNJLx/AJWeag6UlVHp8fD5tKn8/brr6h6BovDRpJ/Yvm8f/kAAj7c6fA1w8CaCph157pKkcNe6euVEfdE4Dqq/Jo75OOs6bLmaTxOM79HQUFFQCdYSKf1YkAA+AnjrESlBEP9Bun8GGjqadELePwIhBB1aplBW6cUk1/nfmmWJbm0zyGkWF36CqjJmeGf2FJTy7rfzeHJdHvHRLkYP7sBZ/dvzy8KNuOxW0MBskunePoOWmYn1RyuSLOjUKk1PUisg0m3n6tG9+HzyUl78cDqqquGwW+jfJYd7rhpCbJQLVI2M5Bh6d8rGYbNQn+RccW5PTCaJcV/M4f6XvkMIQcuMBP73xBUM6dVKnzwliWbJMfTpeND5IcRHu+jfuTkxkY6wtibHR9K3c3PcznquMxpkpMTQu2M2dpsZ0LBazDxx+zm0zEhk/OQl/Pu9aaiqRqTbTs8OmZzZrx1oGjaLiZ4dsmieFscftSBqGsyat4zWbTOJjoowrFKNfrDCD1Nn4y33cFWfXphqhCUaIRRVo1N6GiPateWjBQvp3CyNSWvWcv+IYcS6XIeGDtX+5zeNIBCCjunpxLvdCCE4o3UrnNY69TdNq1et0N0O95eXU+0PhPGpeJcLp023QktCkFdSwqM//BDuIiN096cqn78unkJVeW/eAhwWC89deAGpMTGhDaI47hk+lCvfe59lu/IYmRtJVmws944codfjD+ANBIl2OBi/eAnLduXh8ftx2Gx8sXQpe0pL+ebmGxnSvp3+jsgye8srGL9kaeMcG5rGWe3b0yYhgc8nTOPi84Zis1mp9lRTUVFFx7Y5Ru6oP9zFGvFRUfRs355Pp0zhirPOollyMgDrt25l8vz5nNu/Pz/OmRN2XiAYZH9xMflFByj3VGExm0mNjyc9KUmfw+q56Hr9frbt3s3+AwewmC2kJyaQHBeP2SQfZV4UFJaUUOnxkBQbi91qBSF0CfK8PHbs3YsQEjlpqTRLSQmXyhdCVwrdto3dBQVEuVzYQ+O4qUFCwkUskSSFqfZFkkQkaTSjYxiRqqKEIpYbA6MRwSBSvxNmk8zTd5yHpmlYrebatb3LYWPcI5ccau3SwGEzc/91w7nq3J5UeHzERDiIiXahqio3XdgPq9UEikqky87bj112SB02i5kX7huDAGRJQpYkbr54AFee04visir8gSAuh5XYKBeySdJjvzSNS87syoXDOuv114sHs5hkrhrdm9GDO1FYXIEkCRLjInA6rHXlVJVLRnblwqGHno+i0q9zc7595UasFlOdf72iMmpAe4b3bqMfr1fXZWd1Z+zwrtjq1eV22rjl0gFceW5PisuqUFSVCKeNqAgnkixAUXVRjqevwiRJfyimTQhB/t4iNm3YQW7HHAyv5EYOAZ6qaqbNWkTH1FQ6pjZM1bXfdMsmE9f06c0lb/+PO8Z/QazTyTkdctFO9H2rWngKghqrxSFueAK/ovC3L75i5sZNyDVqnwheu2Qs53ftEqpOpVViIu9fdYUeu1ST3FIIthYWceV7H+hCFEJQ6fWybNcuvIEAL0/7pTaWXxKCfeVl+AJB9pSW6ikaNI0lW7fy9bIVrNyzhwOVugVu+4EDdExLQ9U0goEg87dtJzs+jq4ZzUJWGe3wu/WNCZpGrNvFme3b89bihWzftZc2rbKxWMxcc+k5REe6Dbe+EwBZlrli1Fnc89LLfPnzL9xzxeWgaXw6ZQoxERGcM2AAE2bPrn8CsxYv5qZnnqGssgpJCDRNw26zcenw4Tx8zdVEuHQlum179vDouDf5ddkyQI8JtFrMXDx0GE/efBOWwxEcSWLh6tXc8fwLtMnM5Pk778But3OgtJRn33+fr6fPQNO0UF0Wbr/oIm696EIsJlMtAXvi7Xf44pefCQSCWMxm4qOjyD9w4JAYsMaM+rmmDo6FAlBDtqn6YhOakWal0cEgUn8AVsuh3ScE2KzmI446CUhOiCK5JjRL05AkCZNNOq46bAdfU9Vw2M047NF14gx6xs3aImaTfOSdqZD1JzIilGfhoHOPdb4sSzhky6EvliyFLHUcu67QYszpsOB0WutmqHptEUJgP1K//gZIkmDevJWMvWQ4EU6XodbX2CEk9hccYNO2XVyR2wmHzdb4d9hVlV5ZmQxokcMXS5fx+qUXEx8RgfcwbnqnCrIkcW6HDrSv2dkOoWVCAmhq7ZB3WCy0TU3R5c9rn6FAlk36LnwIvmCQCq+XoKKyt6ws/JEDY7t1JTte9wr4atly7vziS+KcLoa2aUV2XBzRDgevzphZmyw4oCqUVHmItNt1GfcmRh56Z2fx4vQZrN+8nTZtmiNLEjHRkQaJOkFQVJUOOTmc1bcvH06cyOVnjsTrD/DNjBncdtFFJMfFhqtVahoOm42xQ4fSvW1bkmNj8fr9fD1jBq9+/jnN09K4YcwFBP1+nnj7HX5dvox/3noLHVu0oLyqiumLl5C3fz/+YJBDfp0liWVr13LDU/8kOiKCv197DXExMQT8fh5/622++/VXHrnuOgZ07ow/4Oe9H37kif/9j6zUFM4bNIig38+T//sfH0yayG0XXsTI3r1RVIVfly3j+Y8/aVLPVXfVC5DPZlT8YRapcvYTQYrx8jcBGETqz4B2gvNyhHJA/e46tdMkT8ihwVYnHD5fgD27C+jdJ9fYGWoKEIL8wgNUlFfRKinx8HE6jRBWi4VbBw4gxunk/E6djj6uNN0l8KCO+w3D9hjzh6ZhkiQu69XjsN/V37jR0HTLWX0ZaCFqyVYNLLKM3WIhNTqad6+6AqssH/bZV3o8vD7zV5LcEXxz8w1kJejpFBRV5esVK9lbUgKALAQOq4USj4eAomC3WMKv38iRERuDXZbZvnNv+LMxcGKgaVhMJq4552y+nTGDb2f+isfrxSybGDN4MKu3bAkvr6r0at+eXp0768muAwEURSE9MZGJc+Yyf/Uqbjh/NOVVVSxZv57OLVtx6VlnYQ69t/26dKG8vFx316v3HCVJYvXGjVz35FPERkbyziP/oHl6OgArNm3m859/5rEbrueGi8fWCs/8IzmZmcuW8c30GZx3xhms2rKFTydP4Zqzz+GpW29BDlmpWmZl8cHESY1PmOU4oOeMCh6SxNdA04BBpAw0KSiKSqfOrUhOiq/1WzbQiCGgvKIKVVWJcTiazuJQVRnQogX9c3LCYxsOgsUkYzGZ2FtWqufCDgWPF1dV4Q0EjprjRQiwmEx4/H58qoKzftzGEdp0QqBpuG02umdk8MXSZSzduYs+LXLqER+o8FQjC4E3EKCgvIK2Kck0i4+vraLa56PS66WGMFrMZtomJfHJosVsKSykS1ZWbXtLPZ7GvTjUNFxWG3azmeKyCoyEoCcHiqLSrU0bhvbowYuffooArj77bJISE1m1aVO95xEaLsCyVauYNHcea7dto6i0lLKqKvYUFODzB0DTcNpstGiWzvTFS/jHa68zpHt3mqelkpKQQGRkZJhIiCQEq7ds4cl3/kdMRARv/+PvZKel1cYCLtuwnvLKStZv386/3nkHVa2Jd1TxeKvZmZ9PMBBg2foNeLxezh7QXydRiqJPBk1QkERDw4SZFFqTTE5YQt5qyo3AgSYCg0gZaFIwm2S2bM5jxozFDBzYDU0YU11jh6LoFo7DuZo2Zug5LA+/KNaN2BoJbjftUpL5cdUaPpg7j5YJCazcvZsPFixkT2npUY0xsizTNjmZyWvX8dH8BfRr3pzS6mr6ZGch6iXRPimQJK7t25uf1q7l5k8+5b5hw+iYlkpQVVmxezffLl/B/SOG0yc7i7bJSczdspX358ylU1oae8vK+HTxEuZs2ULn9GahzhKM7tSRjxYu4qFvv+dvQwbhMFuYuWkz789fcNgkwY0JsiSQhMAfCDJn3lLat8omKirCsEqdUGjIVivXnHsOE2bNIjkujouHD6sbj7UDVx90734/gUfGjSMuKope7dvTvnlzbFYL+w8cQNM0PT7bZuP/brgBNHj3hx/4z1dfEeF00rlVK+674nIGdu0aqlJwoKyMv73wIlt27+axG64n66B40aLSMgKKwspNm9m2e09Ym7JSUunQIgeEoKC0BLPJRNwfzEclhC4IeTzTsiyDJHSXORn5uOY+CTmUMNeEfBw6eRImpNCf47lG/avpkVB1sVDqoU/VQCOGQaQMNCnIJplR5/Zn4YLVlBSXc+7ogbqghQEDDRgmSSLe7cJltR6xjBCCGKcDq0mutVI5rFbuHz6Mv47/gls+HY/NbCLe5eb8Th3xBoK4raFAdU3DbjaTEOHGItf9bFzZqwfztm3jsR8mYjWZyIyN4ftbb8YiyyS63TgsluNqvwCiHQ40TTusBc0kSSS4XbhtoftTVbpmZPC/Ky/nqUmTueerrzHJUq0+RKf0dBIj3MhmMw+NHMFtn33OX8d/gcNiwWm1MKxNG85o0QJZknT7i6bRv0UOj446i2enTOXCN9/BZjLRIjGB4W3bMG39ej3QvhFDCEFRcSm/zFpMx7YtjEF1MqAo9OnQgWvOPYeslBSyU1IOtdQKwd7CQp7/+GNyc5rz3qOPkpaYCLJMWUUFn02ZWkfsVZWOrVrx6VNPsm3PHjbs2MHCNWv5ZPJk7vj380x65WXSUlIQCDxeLwM6d6Z7u7a8Mv5zMpOTufLssxGhupwOO3arladvu5U+ubkED2qXJAQmiwWbxUJQUaj2+sLdXn+DC6wkJDZt28jbn41Dko7NpCRJYsGKuVRIUZTIO4/pNicQ+KgiL7iK2dr7mLEdU51XQmYXK/FTTRDfcXmsqCgUsO2gRLz1UZN4ty4JjVZ7XEWPmg8vb6DhwSBSDQ31czuc8LpD/2nEu5CaqpGcFMfIa85l3Btf8sOEXxl9/iBDAt1AA36pNZIjI/nqphuIstuP6EJnkWVeuuhCVE2tIziaxuA2rZn019tYtWcPAO1TkkmPieGmAf30cqF4pZHt2tI5PZ306Kjaa7RITOSLG65j/b58vIEAqVFRxLtcRDsc/Hj7LcS5XMfl0meWZV648AIUVdVl1A+6v/ToaL675WYi7PXTKWgMat2KbhkZbNq/n31l5ciSRLPoaLLiYvW2KwrdszL5/tabWLYrD7+ikBMfT6ukRAorKwkG6+KhTJLEXwcPZGibVmzaX4DLaqVTejp2i5l9pWWkRkU1aqESSZJYtXYTZ/TqhDvSVafCauCEwmG18vyddx5Z3U4IisvLKSwp4YIhg0lLS4NgEACv14svEKgxNxMIBqn2+4lwu2nXsiXtWrVizMiRRLrdPPv+++wtLCQtNRVV00iKjeWha64m0uXGU/0U9736Ki6HgzFDhgDQMUd3j/150SL6du6MpWZDI5R70ePx4LJYaJGejqKqLN+0kT5du4TkMiW8fj/BUDuPOWWh4XK6yEzLPm4iFRu3gna3JtGpfUvUY72bAqqqK9j/6jJidjbDiv04LFIypezDRyVxZB43kdrJErxSOV65tNYFWELCJ6qQUSliV1jsVBWl7GUdEVSHETAN8LIfDIGKBgeDSP3ZEOLwtu2aIOx6pEZRVQpLKrFbzES67Se8KR6Pn9LKauKinFjMf/DVEOgyyAfdw+kAVVOJdLq4+ZaL2F9wwCBRBho8zLJMTkJC3dxxuCEpBM1iYw4pIzSNzLhYMkMqdzXEKbsmpihUNtLhIPLgODNNI9blol/LGguGPm/JkkSLxMSjtufgtqXHxByxvCVkHTrke1XDbbPSNTPzoEGuhrUxOSqKUdH1lE1VVSdGB9UnC0H7tDTap6fXE7zQcCclNno3N03T2F9YQvdObY2N8ZOMo1o3NY24qChSExKYMm8ew3v0IC0hgR179/K/CRPYuHMnnVu2RIRkyO999VUGd+vGgM6diXA6KSotZcHq1aQnJpIcF1f7DptkGZMsExcbwyv33sO1TzzBnc+/gNNuZ2SfPvRo355R/fry6vjPsVksnDtgAC67nfwDxfwwezYmWeaxG2+ge7t2tMvO5tXxn5MSF0erZs3YvHs3b3/3HXsKCw9N/XKEdy0lMZVh/YcjHweRkmXYvH0dLbNaM/yM4SjBY80nUFJRzM/vL6Etg7DjPuYrLWPCjwcPpeQy/LgUfVWCbJPn4opxEGl2h8VIOQN2rAgiSQjLIyVjwUcG6eQeQqTyCWIMvoYHg0j9mZAE67fs45eFG0M+z3XS56kJUXRt14zE2IjaXaHCkkouue9dhvRsxSO3nPWH8ikdOotITJy9hqfemsx7T15Bl3YZv3/3VRIcKKviy8nLGNarFc0zEk5sW08AVFQcTivZWamoxsRloDHgeBb6RyqjHWbD41j/Ptq5x9ue31L+iNfnEFW/33V/tZODeoSLNG6oqkqXDm3JyUo3kvCeQFgsZtwOx1EtLyZZxu1wYDaZQVVJiovjwauu4r5XX+Xce+7F7XBgMZno37kTrTKaYQtZUe02G/5AgAdeex2HzYbTbqfKW02MO4Jnb7+d9KQkUFWsFgsuh123gikKzZKT+c8DD3DN40/w0Ov/ISE6mi5t2/KvO+7Abn2LFz/9jFc//wKr2YzH68VqsXD3ZZcCkBQXx1O33Mwdzz/PXx55FKfdjtVioV/HjmQmJ2M1H587r6bVpWs7ZtnQsFRUUIIQPAbHEUIvo2kaSujPscawQF8XqCENPpVjW9eUUBmzbMZsNtemU5CEjEk1ISNhwVGPSEEAH3bcuIg9hEiZaZpJjRs6DCL1Z0KSmL9qO3c88wUJsRE47RZUTcPvD1JW6aV9TjKvPTSW7h0yQYNgUGXHngMUlVSe+LYIQXmll615RVT7Ar9buMkfUKj0eHnv2/n83xsT+exf19I8M5HTZiFS7770fbq6dqmqSsCvYLdZDHJlwICBJodWORlY7VbDre9EQVW5bMQIhnTrRkp8/OEJqqqr+U16+WUyU5L1MprGpSOG0755NkvWrUeSJDq0yKFtdjZb83brRAqIdrt579FHWb9jB1vy8qj2+kiMiaFz61akJiTUbiDcOHo0YwYNIiEmpvZYq4wMvnjmaXbl7yc+KkonWElJjHvoQdZv387GnTvxeH3ER0fRLjub9MTEOjffPn2Y9PLLLFi9Gn8gSMcWLWiTncXmvDyij9Odt/EglHRX02rXE5qm1pOfCIZZpFSUUOSUdpiaDDRENEkiJYSemFU9TawkJpPMv+8ezfA+bQkEFbz+AD/NXssDL33H65/9ynttmyGZQrtZgkNJTo0bXU0+KEkcNrEuhMoJaq1cQF25I5GnmnOO5qYnwFPt58GXv2fm4k1s2VVIUFGPEoR56qH/BmiH3RkUCKqqvHzw7gSGDu9FuzbZKIY8ugEDBpoQpCaSZ+2UQdNITUggNTHxyORC04h0u+nRIbeWRNU8i46tWtGxdevacqgq7Vvk6P8O1ed2OunRvj09cnPDXFfr/1Y3S06m2cHCFppGWmIiacl15A1Nw2o206l1azq1aRPK4abVXrsGQtNokZFBixqX2lCZTq1ahbWtsaPGilXKPiyY68VCyRSxk2oKUfGEESkf1bgMxtSo0CSJlCRJOJx2yj2Vp43fe0y0i8SkKAiqIAnGRjh47bNf2VekS5JaTUdwCxCCSo+PqfPWMXvpFjzeAK2zEjlvUAey0+PD7k/VYOW6Xfy8YAN5+SVEue30zM2kb+dsoqLdh61eBeYu2czWvEIGdW9JRmrsEdx4dPeEwT1a0qFlKkvW7uT97xecVs/d6w8QUFScTtthmq8R4XYwYGBXPv5gIuePGUz37u2MXFMGDBgwYOD3Q9OOz231cHmYjmDB+l31H8n99nivezxlmphcvoYeD+UmjiiSw2KkokgmlgQy6FJLsAA8lFMlNhvjohGhSRIpGYm0tAQ2zt9NMKCcJvllRMhUJkCDjVv2UVZRTf8uOVgt5iOcIiirqObe57/mq2nLaZOdhNtpY+KsNbz33XzGPXoZfTpng6qhqBpvfTWHp978CZvVTHpSNAfKqnjl4xncdeVg/u+O8w6tXxJ8//MKbv/n5wzt3Zpzzsg96h1YzDKjh3UGk0zEj4v4YMLC0+ehC0FhcSV+RSMxKfaIZvXOHVsR4Xby3v++p6KyioGDuhmzhAEDBpoENDDc+gwY+E0QmLBixlobEiAhYcaGBQkHkfWIlJ5zykPTymnY2NE0XfsQ5HbIYfLX0ygqrSQpLvJP3UlRVZWPvl/AwpXbUBSVA2VV/LxgA706ZHHDRf3qzPWH3ggfTljA+MlLefqOc7n2/N5YzCZWb9rL1Y98yN9fncC3L99IVJSTWYs38MjrPzCyb1v++ddzSYqLoNLj4+eFG6j0+MJVvAAkwY8/r+KOZ75gaK/WvHj/hcRGOY8tGqGoOiFUtdPL4VfAqs17cEa6SUtLOGIMlIJK8+w0brntIlav3oKiKMiyfBrdiIGGM9GIeu6zR1ic1riZaidH3VINJe48HmWsPwJFVRFC/DbXsOPpn9MdNf3aSFyZAv4gn34zheGDehEXE2Uk5DVg4JjQUFFCn5p5QKqXJ6ouHkqEyhtoXGiStFhFo0vXNvg0iUWrd+pWoD8JNaFHS9btZOKsNfw0Zx1zV2zD51dYum4X/353GiWlVYdJdieoqvLx1bTldGyZylXn98bpsGE2yXTpkMkNF/Zj8ZodLFufB8CXU5ZhNsk8fONIMprFY7WYiI12cfGZ3bnq3F51tQpAEvw8ey23P/M5g3u24qUHjpNEncZQAgpT562nc9c2xMZGHVXyXEElOSWeESP6GCTKwO8c2IK9paXM27KFNbt3oxxm7AQUhZW7djF/y1byy8p+U0LL423DZ4uWcOPHn7K/vOLE1x+6RonHw+3jv+CdOXOP/xpCkF9WxvwtW1mVt/uQ5J+gxzMGFKU2N0vYGFVVAopySpYk6hHaoagqi7ZtY/amzfiPM3/O6Q6bzYIkSUz7deGf+rtowEBDgEAQwMs2FrGR2WxiDpuYwwZmU8A2o4OaCJookVLJzEymZ9+OfDZpMX5f4E9riwaYZIln7jyPWe/fxYz/3cms9+5i9gd3cc3o3vxn/K+89dWcwwpMlJZ72Lm3mNbZSUQ4rGGJKtvnJKOqGlt3FRLwBVi3LZ+stDgykmPqfKJDAaT1XRsF8PO89dz4+Kd0bdOMlx+4iJgGTqKQJFZv3sOidXmcd/5AZCEfx3PRDomPkhCnlXiGgdMYQvDl0mUMfelVRr/xFmv37a2zXoTeycU7d3L2628w7OVX+WHV6pNCpNbs28tPa9dS5fedtFv1BgJMXbeeFXm7j3/e0zT+NXUag158mTFvvsXmgoLwhbsQbCoo4NJ33mPy2nXhfScEHy5YyLUffkxBxUkiiPWe09yt27j47f/p91evHb5gkIe+/Z5bPx1PaXX1yW3HKYKmaYwc3Js1G7aRn1/UKO7JgIGTNl7QMGEljfZk0oUMOpNBZ7LoSgxpRgc1ETRZR02zbOKqa85h8Ya9/Lxgw+GT4p5COOxWnG4HkREOoiOdZKbHc9tlA8lIjmHqvA34vf5DftOCoV1Zq9nEwUzLYpIRQuAPBFFVDZ8/iNVs0l18jii8J6iq9vP6Z79SUu6hoLiCknIPNHDyEAgE+c9nv9KiXQ79B3T+XQISPl+AH3+cTVFhCZLh39wgcaq9lPzBIH5FIb+sjI8WLEKrZ3VRFIUPFyyitLqa6kAAf1AJX7RKkv6RZX1uko4sNnO0ckck/jXnHYzauuQjX7N+OUkCUU9R9HggBHtKS5m8Zh3N4+PJLytn6roN4RUIQZnXx9T168grKanrj1C7N+4vYPqGjVQHgnXf/dZ7qanvkPsJb8e+8nImr1tPUVVVWDssJhP3jxjOU+edQ4TNFv6C1X8uB9f5W67/J4yRqLhounVozU8/zzUmjd+DmmffkEmoJB19/J/ArvpNn994DoJ625/imJ/6fzv+PxI23NiJrPeJMHJCNSE02TxSCiq9eucy6oJBPDXuJ9rnpNAsJfZP9HXXwuMkNDDJAlmWUFT1sItAl91KTISTPQWlBIIK5hoyKAR7i8pRVJXE2AisFhOJsW427iigvMqLzequu07N7FQ7s8Gdlw+iY8s0bn7yM2558jP+98TlpCVFN0yrlCTx5aTF/LJsG2++9xhup+N3yZpbLCYkSeI/r33BdTeOpllakiGP3hCgoYu1CIE3GDylewKaBjFOJ8PatOab5Su4rm8fWicn6ZaiXXn8sn4DF3bpzBdLl1F/d8MbCLClsJBdxSWUVVdjMZnIjImhTUoyjlAizpqxW15dzarde8grKcFqMpEdH0dOfDwuq/VoXcKOwiJKPB5yEuJ1EiAE3kCAVbt3s3F/AQJom5xM+9QULCZT2DWrfD6W7dzFtgMHiLbbiXe7j+oqewiEYPbmLewpK+X1Sy7mPzN/ZcKqVVzfrw/OUH6caq+PTfn5KKrGruJiVu3YSUBVSIyIQA65BQYUhbV79lBaVQVATkLovoWg0udjxa48thYWYTHJ5Kam0iY5CTm0uA0oCpv27SPSbifG6dTvp6iIGKeTXtlZxLlcoGmUVVayo7AITdPYUlBA4o6dKKpKekw08S4XrZMSCSiK3kf17m9fWRlLd+6isKKSpAg3XTMySIiom3eDqsqmffm4bFbiXS6W5+WxpaCQaIeDnllZYWVPBfxBhYCqYrdZQVUZ3L87i5atRQkGDffm3wIhKCwpobCkBJfDQXpCAuIwhErTtMMfD00c4hSRsMO1I6gorNuyBZMk0zoz46iJhH93NwE+v48DJQeOq35ZlqnyVFFeWU5RSSmKohzrMVBaWYIv6KWKMlSCx5yhZGS8VOGlkkqKQkl8j34PCkGChKz9ot76TRxcMnyRVf9P/Wdv2H8bJpp0Ql6TLHPPvZdz5YpN3POvr/jvo5cSHxPxJ5GpetsomobH4+OLyUvZvvsAFwzphNVmCbckaRoxkQ76ds7m++mrWLEhj+6dskEDT5WXb39eQWJsBJ1ap4FJZlCPlkyZt54fZ67m2jF99N1PTWN/QRn5ReV0bJuOhobdamFgj1b07ZbDSz4/tz41njuf/ZJxj1xKfKz72GRKkkI74yGCJgkwyXW5LU4lZIlf5q3nsTcmcf2tFzPgjC6/m/wIITjrrH643Q7G/ecrLr/qLFq3zvptC0gDfwI0YqMjMVvM7C0tPeVxvgK4pHs3Fm3fwceLFvHUeeeCqvLxwkUkR0ZyVm57xi9ZGjZ+Zm/ZylXvf4A/qGAzm2vjgUbltudfY84nMSICgLV793LvV9+wIm83DosFfzCINxjknA65/PfSi7EdjkxJEtPXref28Z/TMyuLFy+8ACSJvSUl/P27CUxbvwG3zUZQVaj0+biqV08eGXWWTnCEYHdJCfd//S2T1qzFIsuYZAmb2czuklIkcXwLrmAwyPcrV5EVG8tZue3ZUlDIK9NnsGrPHno3bw7A6r17+Mf3P1AdCPDGr7P5aMEiAqrCrQMGoAFfLFuGP6hww8efIEsSdrOFj6+9mh7Ns9m0L58Hv/mWRTt2Emm34Q0E8StB7hg8iL8NHoTZZOJAVRVXvvcBaVHRmGWJOVu34gsEqQ4EGNK6FW9dfhmpsbH8vGEj/5o2DV8wyGM/TMRuNqNqGv887xyu6t2Lv383gfzycr6/5WacVr2Ppq5bx4PffM+e0lKcViuVXi/Z8XH8e8wF9A/lACqrrua6Dz8i2ukkwmZj5qbN+IIBPP4AA3JyeOfKv5ARG3tqyJQQHKiqwuP3k5QQC0Ck28mwgT0NsYnfiGAwyD/eGMfn06bRISeHL599hsT6z1GSWLlhI6998QW3XDiGrm3bhv0uvv3tt2zfu5e/X3stLofj5PW/JDFt/ny+nj6DB6++iszUVL0dQlBWWck1TzxJlMvFhBeex3kS2iEkiTUbV/LC2/88rnlDSIKV65axfO0SFq9aEGbdP9LE6/V52exZhGinYZLNx+4SIZFXtoWSnR6Ktd1hkuVHgopCARsJBoP4JT+aFsoXJSSCSgBJEvi0qjDVPp/mwaOWU64WIup7t2jg16qNQdQA0aSJlIpGSnI8L71yDzdd9xQ3PvYJz987huaZCUdPPnsioelBy69/OpMff12NoqhU+wJs31PEig17GNSjJTeFlPu0UPmaxaCQJW4e258ZizZx/WOfcMOYvsREOvlpzlp+nLWGf9w4kubN4kFRuXhkVyb+uoYHXvqW1Zv3ktsihT0FpXw3fSUDurXgpfbN6haZoWS+Fw7vQlmll3ue/5q7//01r9TESx2hX3yBION/WsLewjJWbdpDMKjwxeSlrN64m+z0OC4c1vmkq4eFZkQUReX7Kct48JXvGXXhMG7761iEEH+I+KioDOjfBZfLwczpS8nMTNEJroHTeJBrJCfGkRAXzcrde045mVc1jRYJ8VzYtTOfL17K9X37omoaE1at4r7hw0hwudDqjydNI8Ht5sGRI+jaLJ0Etxu/ojBh5SqemjSZDqmp3DNiGIFAgKcm/sSm/QX878rLyU1NodLnY+6Wbazbt4+AohzqWCJJzNqwkZs++Yy2yUk8dd45xLjd+Px+/vH9D8zespXXLxlL7+wsgqrKJ4sW88xPU2ibnMyVfXrjDwR47IeJTF67jkdHncmItm1RNY25W7fy4Lffh9/HkSAEWwoLmb15C1f06kms283Idm15efp0Jq1eS+/sbEC3hv3jrJHc8cVXXNu3Nxd07kRQUUmLjkISgg35+Uxbv55Xxl5EcmQkQghaJyVSXlXF3V9+xZ7SUj64+kpyU1Oo9gf4z6+zeHbyVDqkpjIitz2qplHh9TF940Yu6tqFD6++ijiXi6+WLef5aT/z+ZJl3D1iKANbtuCOQQN5+qcpPDhyOL2z9L7JSYhH1TQqfT7KvV59XpEkNu7L547xX5LgdvP1TTeQGRfL5v0F3P/Nd/x1/BdMuPUmmsXF6df3+Vi1Zy9jOnfi/auuIMHt5vuVq3h28hQ+WbiYh0edeYqIFKzPzycooGV2evjvgIHjhySxPS+PqQsWEB8VxfJNm5i3ahXnDxlSF5csSewuKuTTKVM4e0B/uubmhvX13FWrWLxuPfdeeSUuSTokEW5NHWFqlwc/p5rzNC28bH0rjiSxfudOPps6lRvHXEBmPfVQh83GX8eOxWYxYzGbD++yWtPmw6mNHun69dqqqSodWnfmzhseQzoOURNZMvHO+P/QPKMFg/sMJ6gEj/FKC0rKivmP+UXuvPY+nE7XMTfRTCYTE6d/z8yH9tFTuRSVYwnICFSC/KT9C4+vCo/iqZeQV8Kn+DDFaQSji2vnRgEoWimBtH342jsOsUgpZWWgGXaphoYmTaRAd/HLbZ/DO+8/yr13v8yYu9/m/muGcu7ADrjc9hBxOUmkStNIiY/kjG4t8Hj9rN2yLzSgJdITo7ni7J5cMKwT8TG6JchqMdG7UzYtMhJCE5NGp9bpfPDPq3j+/Wm89NF0gopKYqyb5+4azdWje+lme00jKT6Sd564nP989ivfTl/Jhz8sIDkukk6t0xg7vAtokJIQyRndcoh06fcthODq0b3x+QN88/NKps1fz8Ujux5hThEEgyoLVu1gzZa9mCSJ/l1z2LWvmO27i+jTKZsLhnQ6eaFooRxcmqqxI6+I/3w2k69mrOGqG87nrnv+gt1uPSHWIwWVTp1b0aZtFmZLkx8+pz80jbjYKLp0aM38eSvZX1GhW3RO4SJRFoLLe/bgowWL+GzxEkDDZbUyumNHVu/Zc0h7O6an0jEzA1QVv9+PNxjkvI4deW/efJbl5YGqUuXzsy4/n5yEeAa1aY3dqovNtElNxevzYTnIHUuSJBZs2cqNH39Ku+Qk3vjLpaRERwOwPC+PH1at5pnzz2N0926gKoDglkED+X7lKiasXM2VvXqycvduvl2+ghv69eWuYUP1uUUI4iLc/Hvaz8c3voTg5/UbqPL7GZXbHoDctFS6pDdj4po1/G3IIGJdLlwOOx3S0zFJghYJifRp1UpfCIYWZ81iY7CYTHTPziIzLk4/LgTfL1vO/G3b+PCaqxmS214/R5K4a9hQvl+5kklr1jCifTt9QaOqnNexA+Muv0x3zROChMgIPlu8hOV5eWhBldjICNqkpCBLErlpafRp3VJP8aBph3Uv+m7FSvaVlfHm5ZfRr7Xe5rS4OP4vEODit95h4uo13DJ4UO31z2zXlreuuBxbyP00NSaa8UuWsCwvT3erOwUbT2pQYfqGjSQnx9O6ReahC/eahbBBrI79bi9aTHlVFS/e9Tcef/sdvp81i3MHDKh9jl6Ph/wi3VU0v6iInXl5BIMKsZER+AMByquqCAQC7Nizh7LyCiRJkBIXj8VsAkmiurqaDTt2sLugAIfNRpusLJLj4xGhZxMIBtlbWEhkRAQ2i4X127axp7CQhOhocnNa6K6bmkZleTkHSkvRNI3d+fuJcbtRVZXEmBgcdjtn9umNJATm+i6rkkRRcQnrtm+jrLKS5Lg42mRn47Tba9+ZQDDI3qIiIlwuHDYbG7ZtJ69gP3FRUeTm5Ohl0ZdVZrMZt8t9XO+4LIHNYsVhc+B2OTiGZ1+oLQGsZisRzkhcTvcxy5tkcFqdmLFhx31M1z4AlSBmYSXCGUGkJaqWSElIOP0uomNMZGVkodZYqhBUqiXEty5n4MCa9VnN+wPzF884vg0pA6cVjJUg+uK4bZtsPvjocd7471c89s4k/vfNPMYM7UT/LjmkJUXjtOuysCd0r0BRGdSjJf26ND9oPhZYzDJmk4yqaigBfUBHu+2883+XIUlS7TGAnrkZfPj0VRQUV+APKMRGOomOdKBpGkpQqblJ0hKjePau0dgsJlZv2cvrD11MXLQLs0lC8QUY3KMV/bvkYDGbUALBmt8GbrqoP1ee2wsBBBX1iH1gtZh44Z4LUDQtrIwGyJJACN1SdCKhAYGgQmm5hw3b9zNp9homzVlHdEoiL73xICNH9EE2SSfUBU9Dw2INdxWQkH6XiIWBkw/ZbOacYf2YMGkm0zds5NKePU7polBVNdqlpHBuxw78Z+avmGWZvw4aSFxUJNruQ5Xu/EGFGWvX892KlWzIz6fUU40n4Gd70QE6p6ejahoum5Uu6emMX7KEGz74iGFt2tAmOYmc+HhiXOFWYyEEC7Zu55+TJ9MqKZFxf7mU5KhIffEjS6zcvYdybzW/bNjIur37amW+NSC/rBzQFepW7t6DNxBgWNs2+gJArckZpx63y6TH6+X7latom5xEm6Qk/H4/dpOJke3a8PiPk1i0Yydn5rYPbWDp40nTVP0aNQv8UG6sWnfhmp1uSWLpzl1U+wN8vWw5P6/fULsoCaoqpZ5q9pSUotVbhUU6HDrpDN1LhNVKlMOOx+9H1VRkTa67rqrqJOoIVk1NUVi2axcpUVG0TU6qI36KQse0VOLcLpbuyqs9X9Mgwm7HZjbVHnNZLMQ4nKHra5z06CRJYuPeffy8fgPnjB5CckLsIRaIHbv2YjKZSEtNaNjqrScZ1Z5qvp/1K22zszjvjDOYsWQp0xcvYce+fTRPTwchmLl0KY+MexNfIMBjb77Fcx9+iKKoPHjVVWzO28XkefNRVJXz77sfSQhioyIZ/89/0iIri43btvHIG+NYsGYNZpMJn99PdEQEj11/PWOGDEZIEjv35XPhgw/SOzeXsqpKpi9ZQlW1F0kI/nLmSJ67/XbcbjefTpnCq59/QVV1Nbc8+ywWsxlJknj9vnsZ0r07Nz79NJEuN+8+8g9MsgxCMGXefB59cxw79u7DbDIRCAbp37kTz9x2Gy0yMgDYW1TEBfc/QOdWLQkEgkxduJDK6moEMHbYUJ6/806iIiPr/5ge11Ss1fsczzn1w7600InacV6D2v9rx9GuOhYkENStfES9o/VjoQ5S/tU4/N8NNCgYRCoEBZXYuCj+8Y/rOH/MID7/bCrvTV3Iy+NnE+WwEBPhwGYxnXAlHnGMgX2k8tphjgshQrlwtSNONJIQLF2fR6XHxy1PjUcK3xA57LXFbxjrv/V+/ihUVaPC4+VAmQefKmjeKpO7HrmBUWf3Jz42CgX1pMcxqarKlq15pKclYbNbjLip0w2qypABPWjTujnjfp3F8HZtiXU6TxmZ0gAkiat69+TzJUuJsNm4sGvnw15f0zRemzGTpyb+RLuUZAa1aklGTAxWs5n/+2FiLckxyTKPnn0WdouZKevWM2HVagTQMjGBB0YMZ0yXzrUKV0WVVdz/zbfsKS1leJs2ISGFusaVejyoGnj8fko8nrC3d0CLHFomJmCSJEqqPMiSRFRoV/k3Q5JYs3cfS3fuwmY2c+n/3g1ZvqGwspLqQIAfV61mZLu2iN9jidE0SjweACp9PjQtfCSe1b4d3TMzwoPrD3KrFIAspN+1K6yoKuVeL06rBavJFDbj2UxmHGYLZdXVh9Z9UDJ0uf6kfNKHhsq7c+fhQeWyC0YgTKZwFzAhKDxQwsx5y7j75stOjWt2Q4QksXb7NpasW899V1xOVEwM5/Tvz+fTpjFjyVKaN2sGqkrnVq24/rxzee7Dj7j23HPp0yGXoKLQLjubnu3asnzjJrbu3s0/b70Ft8OB1WwmOS6OAwcOcPu//k1xeTnjHnyQNlmZFJeX8+wHH3DvK6/QKiOD3NatCCpB8g8c4LOpUxnVry//uf9+3HYH70/8kXcn/MDgrt24cMRwhvbowZjB6/hsylTu/stfaJGejqZpdGzZEkVVKSwpJVjPHXHVpk3c+txzpCcm8smTT5AaH8/i9et5ZNyb3PXSS3zyxJNERkagKAr7i4v54uefOatPH1699x6iXG4+mTyZjyb9xMAuXbj83HMb1aPX0PBrHrxU1sVIIeHVKqlQFUrV/WEWKY9WjjgOa5eBhgODSB00IJCgfbsc2j/ZnL/dcxmbN+WxedMu8vcVUV3ta9D3J0kS69ZuY/fM1aiqSrlkYcDArqhqw7WkSJJEZKSLZhlJtGqdSUZmMg6rDTWUZ/xUQAjB4kVrmfLTPK659jxcLjuqQaZOo4GtkZAQw1+vG8ut9z/LuF9n8dCZI0+tiL2m0Tk9nbuHDiYpIoJm0dGHEikh2FtWxrhfZ9M3pzkfXn0VMW4XCEGF18sr02fWLcI1jaz4eF675GL2l5WzraiIpbt2MW7WbO7/5ls6p6fRPCkJ0GXYL+7WFUVVeXvOXJIiIrhr2BBMIUIRZdetMncNHcLAkDta/TbpA03gtFoIqioVPu8h7T4uU72mMWnNGgKKwpDWrbCZ66y6yZGRVPsDTFu/gd0lJaTHxdWccli+KwjfQa5pR5TDjsNq4bGzR9EuNSXcevQ7N8F0727tmBskNSRzW1ER1YEAEXZ7bQs9AT+Vfh/RDscpU2Q7jsmTaWvW8t68+Vx80Uh6dW3PIT5Tqkrn3Fb8PHsxy1dvoluXtrpVzsAh+GnuPIQQjOjVC1SVPh07kJmSzPe//soVZ52J1WwmMSGBXh06IEsSPTvkcs7QoRAM1r7kGcnJFJSUcFb//sRGRYVcVuHr739gxaZNfPWv5zijVy9QFLIkicduuomhN9/C1IULyG3TGtAJ/RVnnsmLd9+F2WIBSSIxLpbJ8+azZP16Lhw2lOzMTDq2bMVXv0xnUI/udGnXrtaCWlXlqTfK9EH46eQplFdW8u+n/0n3Dh1AUWjTogVV1V7ufeUVZi1fxjmDB+uvjKJw8dChvP7AA1htVhASaUmJTJo7l8Xr1nH52Wc3rgcvq2jxlWiOsnqiEhKavwy1XTlqyzi0kCVXE6B5PQhT0JDpa0QwiNRhoKKCgJjoSHr3jKZPzw76IGjA91STG+Ghh16tJU5RkS4euP9qrFZzg703EfbctBCBOrW7PZIQjB07jC+//JnXX/uc6288n9jYSMMydVoNao0LzxnMjLlLeGHCLzSPi+OSHt1PoYufhkWWefjMkUctVeH1UlLtoWViIjGRdQqi5R4PHp+vdhHuDwYp8XhIiIwkJTaGlLhY+rVtQ1DVeGzCD+wvr6B5cjKaBokRbm46oz/JkZFU+nw8Nekn3DYrNw7ojwR0Sk/DajLxzbLl9G2eHRYXEVQUSquqiIuIoFViIkLA/G3bGdSmTW0geVl1Nb5A8OjJqoWguKqKH1evoV9Ocz685irs9YgUksQ7s+dw26fjmbV5C3+Jj8csy0hCUOb11gW5h56XxWTCFwziCQR0BdKQa173zExe+PkXfli5irYpyXWWLQE+f4BKr5dYl+s3PTmLyYQGlHt9dfkGD/PeCFmme2YGP6xew/JdeYzs2EFvlySxaMdOiior6Z6ZcUry8xx70pJYlZfHvV99TXp2Gvfeejkms/mwbosms5kzB/dh4rQ5dGjbXBcgMBD2bpeWl/PjnDn0aNuWVhkZaMEgSTExDOvZk08nT2H99u10at1ad0ut7yoaDIaT15r3SlHqXEOFYP5qffNz6rz5zF2+Ag0tlPexGn8wyPa9e8OeXWJcrE6iFAVUlbjISCKcTio8njoBC1VFV7tS9HbUuOrWT6MGeH0+Fq9bR4tmzWiTmRVG/Pp26ojVbGbp+g2cM2hQaKaDhNhYrFYrBBUQKrEREUS53XXXb0SQJZnk5BSaRWbUWp4kIVEdyCOrm40eHXrWrrmEgJKyEtasX2SMm0YEg0gdBRraKV+UnywIBPv3H2DyT/Nqj82du5K167fQuVNrIyfSH3pPwGSWueSSEUyaNId33/mOW28fi9NpN8jUafOQNBwOO088cBN5e/Zzx+df4gsqXNazO+ZQKoBTMw4PfXfqtzHBHUGL+AQmrFxJ94xmZMXFsbWwkA8XLGTj/v3kpqYgCcGBKg/Xf/QxPTIzGdamNbEuJ/ll5UxcvZqchHgyayWXNSShi+w6rVaeuWA05V4vD383AafVyhU9e9C5WTqXdu/Gu/PmARoXdulChN3GntJSvl+xCrfNygsXjqFrs2b0ysri9Rm/EmW30z4lhY379/PhgoXsKS09uqVFCBZt38GGfflcM+Z8XRyj/qJd0xjYsgUJEW6+W7GSi7t1JSkiktSoKL5etowu6WlYTCZcVgvdsrNpm5RMlc/HO7PncHG3bpR6PHRKT2Nwq5ac1b49z02ZSqXfx1nt2mG3mNlxoJivli4jNzWVB88aeag16yjvTVZsLG6rlQ/nLyTJ7canBEmNiqJVYuIhxUd36sT78xfw8HcTUFSVFokJrNu7j8cm/EBuSqousBHmcniq9fh1gZAFW7dy26fjKZc0Pnj8b2RnpR3Z0qSq5LbJYcHSNWzftY9WLTKN+aQ+JIkl69ezZutWmiUlcu0TT+pERwi27t7DgbIypixYoBOp3wFVUSguK8MfCLB80ybMoXQiWuhx9uvYkfbNmx/y3taHLElI0u+IFRaCQDBIWWUl8dHRuuhFvbrddjs2q5Xi8vLwax4USycJPSdmY9VROCQWSqvbcNFqYjpDJQ0xicYHg0g1EchIzJ+3ig0bdtQeKywoYerkBXTu1LrpdswJgh4HA2ed1Y/2uTnIJtkgUacbVJX01CTefP4hbn/o39w+/nNW5OVx55BBuvJbSOHyRP3au2xWkiIiMMnSEdfLVrOJ5MhInCHVvRiXk/87ZxR3f/kV13/0CXaLmWiHg3Nyc6n0+Yhy2NFCYhMZsTG8PWcub/w6C6vZRFBVaR4Xz8tjLyIlOgo0jQibncSICEwha06s08mLF43h1k/H88K0X8iOi6NvixyeOPdsohx2Plu8hPFLlmGSBIqqS7HfMXggAFFOB8+cfx53fv4l9371DRaTiVink1G57aj0+vTEvkccICrzt20nKy6OIa1b6ap3mlabIBdNIzM2lrPat2fRjh3kFReTFR/PfSOG8fiPE7n0f+9hkiRuPWMA3bKyGNGuDZf26MaHCxbyyaLFRNrsfHLdNfRons3LYy/kmZ+m8OH8hbw9ey6SJFBVjfToaC7s2kWfD4VEottN5EHxXkII4t0uYpzOWkGNtsnJ3DlkEK/P+JUL3nwbsyzxzOjRtElKIsbpIKAotWWz4+P476WX8NB333PNBx9hMZnwB4N0SEvl2fNHkxJy15KFICHCTZTdccj141wu3DbriX33QwSqtKqKzxYt5umfpmCLcfP2Mw8zsF+3Y7rrybLgyrFn6e+RqoJkJOmthaLw4+w5yJJEs8QkSisra7+Ki4okISaaH+fM4ZYxY4ioJ7RwpAX1wcclScJpt5MQE8NbDz9ESkg+/+AyxzNvHbKRcywRBk3DJMs47XYqPB4CwWCYJLrH58Pn9xPhdB7bdbaR/hyqKJSp+ylRnfVioSQ8WjkQb4yPJgCDSDUR+JUAEyfMxu8LhB3/aeIcbrxlDJGRLmPhfyIgQWZGcliMVE08h4HTAKpK86x03n/1MZ577QP+9+kEfly1mst79WBUbi4tEuJx22z6wuQP4rIe3RnVvr1OauCwC42uGRlMv+tOYl3O2mMj2rdjcnIya/fuRQhBq8QE0mJj2V9WhkmSEJKE227n1YvHct+wYewsLqba7yfO5aJlUiKRTkdoR1jjxgH9uLRHN30BH0JKdDTvX3MVRRUVRIWSbca63Tw5+jxuGTCA7UVFeAIBYpwOmsfFEV3PFa5ndjY/3HYLq3bvwRcM0jopkfTYWPJLS7FbLEe8Tw24+Yz+XN+vL+kx0azft49vlq/gnmFDsVks+oLNZOKZ88+j1OMhOSoKhOCqPr0Z2LIFecUl2MwmmsfHAxrRLhf/vexS7hw0iLLqauJcLnISE0BVSYuJ4ZVLL+beYUPZWVyMPxgk3u2meXycHrekacS5XXxx43WHtNlhtfLOFX/BJMu174DZbOKBkSO4sEtn8svKcdtstEhMACF4ZvRogqqq1xOqo1+rlvxw2y2s2bOXA1VVJLhdtEtJJcLpqLXCRTqdfHLt1XqcWL3+spnN/PeyS5CEwGT64z/PmqZR7fezu6SUmZs28dGChSzJ282QM3rw1IM30ym31fHlVtPAYbcaE9nBEIK9RUVMnj+fM/v04YPHHkWul3pAkiT+7623eemzz1i2cSMDe/XCLMtomkal16u7pdYQIFWtVePzhWT7a9C9bRs+nzaNOStXcsmZZyLVPDMhCAQCVHu9OJ3O39R0s8mEoih4fH69HfUHa72/2m02OrVsyfipU9myezcdW7fW3QFlmUVr11Lt89GpZcsTLsTVQF4AsARR2u5BiZdqCa4QAm1vCZBgjJEmAININQFISGzbvptfZy495LuVKzazbOl6hgzu2WjcGP9sHCw0UeXx4rDZwBC8Ok0ekEpiQgzPPfpXzhrSh/9+8A2vzJnDy7/MIDs2luz4eOJcTiwm0x+KBRZCd/RQj7ZTHHK7qxE0qH+urpCmMWXNWlRNq3Wdq19OEiKk1qm7jKhhbiRHbkP9cw5fX01ebu2QHXIhRG25n9etR9V098GD7+FI/YEQbNy/nwXbd7DzQDGOEJE6UntrrgUHtUeIWouWroQeTgiOdS9HavPh+hkIS39RU9eRytbvI03T+GLJskPr+43X/60Iqipl1dXsOHCALQWFVAQD5LZrwX//ej8XnD2YyEj3bxOOCFf2MOYR/aVg7sqV7MrP55Hrr8PmcITHPMkyZ/btwyvjx/PD7NkM7N6d1IQEIlwuvvllOh2ym6OoKhEuJzkZGbTKaMYnkyfz5dRpjOzdi5KKCtplZ3PeGWfwwcRJPPja61R6PPTv1AmTLLNtz16++Pln+nXqyFWjR/+mR5idmooGfD51KrERbqqqq0mNjyc6IuKQOerSEcP58pefeeSNcfzfjTeQFBvLik2beO6DD+nWtg1ndO1yypOdnx7QsNls9O7Rm+y0FrUWKVmSmb3IcONrKjCIVBOAhGDGL0vYtTP/kO8qKz1M+nEOgwZ3NzrqJGHiD3OwmE2ce95AJFkYlr/TAaqGWZYZOqg3/Xp1Zs36Lcyct4xFy9exI28fq/NLTnjOMwP6pnUgEGT33v0EgwrjV6wgMSHW6JgTDg1JknDYraRkJXPt2QM4o08XenRqS1RMpG6x/J3vt6qqBKqrDS4FqIEAM5YsJSc9jf6dOh1KJlSV3OY59OnYgQWrV1NUXEzrzExuvuB8XvviC4b/9a9IksTfr7mG2zMzGTNkCJPnL+CRN8fx3IcfEhMRwTfPPUfL5tmMe+hBHh33Jg++/h+sFguSEPj8fhJiYjh/0EDQ9Gce6XJhs1gPGneCCKcTh9VW267eHXK5dPhwPpo0ia+nT8cky7zx4AMM79kTl8OBq8btVVXp2b49L/ztbzz21luM+ttdOO12yioqaNc8mxf+dhfxMTHh17daqU/bhBC4nU6c9dx/hQCTCaTjeI9kWTfQyZJ+zvHMM3r6K4HJBHJ4NoLDwiTr9Qsk5ONcGoe2f+p+02tFVY3f+KYEg0g1cgigsrqaiT/MPuLg/nnqQvbtLSQlJd6Q7T7h/S8YNrwn777zPR9/NJFLLxuJ2WIyyNTpAkXBZjHTrUs7unVpjxII4PF48fr8DTotwOkKWZaYNX85V/71/wgGFVo1b8anbzxJZISz0Qai/1kQQmC1mHHYbZitlrrkyX9kg0AIqjxePvpyElFREaePlPufiDsuHssdl1xMWkLCoXFKmobbYWfcgw9SWlGB02ZDlmUevuYaRvXtx678fNxOh+4apyhkp6Yy/ul/smzDBio9HlITEshIToJgkM6tW/PZ0/9k3dZtbN+7F0VVSI2Pp01WFvFRURAM0iwpia+fe5aE6OiwBNYxERF8/MTjeixTqI1up5OX77mbK0edRUFxMTGRkXRt3RqzycSr996DSZJr84YJ4JIRI+jdPpcl69dTUlFBemIC3du102XaQ9dKjovji6efJjYqsk5wQtOIdLl479FHcIbImRCCXXt38f3U747LjVqSJFZvWM2BkmI8Xh+qenTvGYGgwlPOlh2bmDj9R2zWY+e+kyWZhSsXkqeVsoKJunrzUa8BCgql7EP3KxBh16+5T1HPol73bwkhJKSDE3ka46lBwiBSjRwSeu6ohQvXHLHM5k27mDtnJRePHY5quPedUGhoxERHcOttY/nwgx94+61vuOa6c7HbrQaVOp2g1LhkSLjdTtxuZxPvkJMESbBoxTqqPHouqk1bd7GnoIgWrbJ0qWQDJx41ctcnqC53hJOoSDe/zFpU567ZVF9nSaJ1drb+j6P0cWZqal0ZTcNqNtMjtz09OuSGHQeIj45mRN++dSfXuAqqKi67ve68muDbeufaLBY6tmp1iGiO2WSifYsW4cc1DZfDwYBu3equFaqrdVbWIfckNI3MtFQy09PCy9crYzWb6dCq5SHXN8ky7XJy6upC4Pf7KCkvqROcOQqEJFPt9VBZVUFpWfExiZRO+Cvx+b2Ulpdis3qPKcYhSTJVVZUkjvLRqkvVcW2kKYrCngV+Kisrqagqq5W2l0LtDfpV9ubvrhOhEILSsmK27tyI06IihBQ2topLCpEyjLiqhgaDSDUBTJ08jwNFpUf8PhAI8uOEWYy+YCCyyVBjOtFQ0bA7rFx73WhmzVqKx+PFbrdhRG6fpjBMIycHQrB/fxGTp8+vPVReWcWPU2YzsHcXo98bzPiAEYN78+GXk/BUe43+OB6SergyRzpP0w5NjFz/u2ONE1U9/uNHutZvqeO3nitJqJpKTmYLrr7wmpDi4NGrlGWo8pTRMqs1I84YTjB4zKmG4tJi9u7fzV9GX47L6T62a58JoqdEUlJewjUXXX1c+zrBYJCd+ZswCRWrDGqIF0lCw2WzEGE34bLWPTIhIGgVRNsFyW7pIIuuoFlMDpEulzEXNjCcVCIlDlXXb9TQQn9OF/c4geBASRk/TZpXb4KpC4DWPT30ts6etZxtW/fQqlXmMU3aBn7fu2GyyAwd2iv0hhgTpYEmBlli3uLVbNi8I+zw1JkL2Lf/LyQnxhkLiIYATSM2LpoxowbzwrhPjP4w8HtfI4LB48tPXWN4U0I5jIPHNkgRVPRYpWAQlOBxbFsKvX5VOb5rQF0Zm8WCzWqttWJJkoTdaiXSZScmwh2m5ocWJDE2lqzU1MO7xhpzYIPDCSdSEgIJiYAapKSsnIL9JRQVlVBV4SGoKI1yE16SBDa7jZiYCBISY4iNjQoFe2p/aqJbCYnFi9ayZtUW0pslMnBwd/r07cCMXxazY8c+brjpfFau2Mz0nxexccNOpk1dQOtWmcaoOIk4mKTWbDIYsWkGGjsUf4AJU2bh84enYNi4ZRdzF63kwtHDDPe+BoT01EQsZpMxcxkwIEK/5bXEqCYmirr8hPUKaycwX6GBPx8njEhJSGiaRt6e/cyauZTpPy9k9aqtFBZV4A+C9v/snWV8VVfWh599zvV7454QokAgSHB3KAUqVGmnLVNXalPvzNupTGcqM9Opu1AXqFNaSilW3N0hxN1z9ZzzfrhJSCBA8ATO01+A3hzddvfaa+3/ErK/AZ2JfUgAmoKMSlCAmdTUOIYM68nocwaQ3iUZs8l8mqTFNfbty+fP15/PLbdfQscOCVhkM3k5xbicHqZccz5cCzk5hXz4/g8UFZXhVX0nJIeOTgvaDYKFC9dgs1no27vLaTW6dXROKpLEnr3ZzPvj4BQMHq+X739ZyEXjRyDL+tjTZtAngjo6qKpKQVE+VrMZrS7CR0gS2XmZ5GRXU1ScjabVf7cLnK5aZMWnF9wZxHEbUvWBe7t2Z/Hh+z/w9fS5FFWqxHTKIHnUtfTv2JWgyBjMNgfiTJ2gaxo+j5uq0iIK9+5k77rlvPT2PF568SuGD+vODbdczODBPTEaDac0bE5B5aqrx2M0GDEZDSio+FBQNX9omVfzYUCmXVwkDz9yPbVul25EnWJiYyOY9t73VFZUM2pUX90zpXNmIgRzF61kX3Z+s7+ev2Q1uzJz6JiacJbmo9HR0WmLyJJEiN1IiM3QEMInCYkQu4EAg5mEcGsjQwrQLATY43XFyzOI4zKkJCRqa518+sks/vefT6jw2uk76WYuP+ciIhJSMFpM+5VltDN7a72o+6PLsNGovpuoLC5k+5J5LJ7+Pn+64jEuvXQ4f3lgCkkJsafU82Cx+vNJNHfPhuSSaCCD3WbRp/GnEA2NDinx3D71ct556xsqKqo574Jh+qq8zpmFAGetk+9/WXjI5MRZOQX8tnAFHTsk6uXVFpEEqOheKp2zsOkLAuw2ghyOJoZUkCOAqAAHcdHRhxb60Dkz2sCxnigjkZtbxN1Tn+ORR98hfuhkpr4/i4lTHyW2Y2dkowlVAdXn37ynqqCdwT9q3SZF1ecv1qCIaPpNuoJbXp/BhAde4JtftnDFJQ8yb/4qJFrnRFnv1qceBZWYmAim3nUF+XnFZO3LR9IzXeqcSUgSm7btZtmqQ6dg0DSNH2YvpLamVk/02taqVwhWrdnMnn25LVMO0NE54xAcPHBp/lA/7RA/OmcMxzTqyUjs3pPDTdc9wU/ztnPF0+9y0UP/Iiw+4cC0AmctmuY3rCx2BwMvuZrb3vgWX1g61095nO++m6dPlnUaUFEJDgngppsvJr59tB7ep3NmocHPvy2huLT8sIctX72JjVt36ZPxNoYQApfbw9czf0dVdLEQnbOq9ePxuFmzcTnL1ixs+Fm6egE5+fswyLJuNJ0FSEd/gkRObiFTb/0nm7M8XP/Cp2Sccz5CyGi6AXUQ9QZVVHIHpjzzDvEDL+Ceqf/ml58XI7dSz5TOaWgnaEgGqUlYn3TWJA7QOWMRgrKyCn767Q8AIsJCGDGoF8MH9SI0JJDzzxlKr26dsNus/lQNcxbrrvE2hqqq9O/VFZfbzbrNO0APTdY5S1AUHx6vk4RwGymRdlIi/D/JETYGdUklJlxP6XA2cFR7pASCmlonj/31NdbvrOTa/35MYo/eqPoi1BFRVbAFh3DJo8/x+d+dPPCX/xHXLopuXVN1tTadZvta5r58jEYDcTERehvRaZtIEus37aC0rJJH7rqWyy8cTecOicyet4y/PfMmbzw497GNAACAAElEQVT3EFarhZVrN/Pmh9+waPk6KioqCQoM0CcgbQQNMJhNjBs5kFlzFtO1UzJGg+GsLxedVkJ91N0JHk6EAEVRcLudxISHExMVdXA4lj6GnRUctSH1yYcz+eGnlUz+xzsk9ugNgCQf0HbUk9d+hOT/0ZQj30MIEPL+fUynG5/bi8li56IH/8U7d07mycfe4N1pT+AIsOkJWnUO6mtlpRXM+Oo3rv7zRNI6JurGlE7bQ1XpmNKer975J+mdU5Fk/wDuV6zSkCSJkJAgxo4exKB+PdiybQ9mk0mfgLS5elbISO/Alu17KC4pJyY6Qq9DncOiaRqK2sJAdiGhahqqqqKooBxh/4gQAlVV0TQNVVFRlEPfp97GEoqEqqqo2sH3aM4OE/iP0TTNnxdKVfU2f5bSYkNKQmLHjkxe+t/n9LnoOrqNmoCrppZ9G1bhdbv8x0gSFkcgoXEJBIZHoCFO7CqAgKyNayjO2kOH/sNxhIShaRpetxshBAaTuVFHgpLsTPauW077rr2ISEg5rW1cVXz89PITuGurufiR5zn/3if56L6rmfHVHK67/kIU3ZDSadxeUMnISEMDpr33A5dcNppevTvrBrdO20LTiImOICYm0j/RUFQwiIOOwadit1np0zvdf4xOG6tnMMgyV148DumgBKQ6Ok37u9VsISdnB8++8rC/vRwBIQTbdm9hy9YVrFjzO1oLDKmqmmqWrVuGjBej0XjIuWhVbS02iwWDwUBWbiZer4fsnO0N99A0DafHg9VsbhpoL8Dj8VBaloel0dxT5+yjxYaUhsa097+nSgtk+NW3IRskKgry+PCBKVSVFGE0WxoaXVBkDEOuuJnBV9yE0WI9YcaUELDsm49Y/NW73DltNgFhYbirnUx/+l4CwiI57+4nGnJVCRl2rfqDjx66jsv//jKRySlopzEHmqZpZG1eQ21FGT6Pl479R9B17CW89cYMJpw3hIjIUH2SrNMEFZVeGWkEOGx8/OFP2OxWOqclndJcZDo6x01LVao0DRR9DGzLGHShEJ0W9PPYiAievf0GXHWL8C1BiAFAnffnCMiyzI+L/mDOwiIuGdSZ2PAI1GbCklRN46vf5nJO/66EBgYC/esesVECXbeLP9atZ2Sf3shN2regxulke1Y0kaGh+uLBWUyLDCkJib2ZuXz79Xz6TbqdsHbt60JBNTwuJ12GjWP0DfehKj7K83NYMv19vnn2QSTZwPAptze0L0lmv0Kk1nwIoBB14Xuioc81HKepMPDS6+g0cBSRiR3qzlXI2rSa0Jh4hKz5BZ80f+hfat+h3Pjyl8Sl9UBTmrR//3GNnuXAfV71z6Gq+/99yGPrnrfhmTl0OGF9EjbJIDH48ut569Zv+fWXpVxzzXn40Deb6TRFQSU1tT1T774CSRa6sa2jo9M20D1TOs21CSGQhaBdVNRJu42maWzctZtdOTnkl5YzpE9faEZRUtU0IkNDSW4XT1hwcDPtVVDrcrI7N5/U9glNDSkhqK6ppaSyEkmINvPNLDStPrVrwzNrNBJvbzz51mkRLTSkBPPmrqC0RpAx9sKm5atpBEXF0KHfIDTNb1Qk9ezPS1POYeUPn9L/4ilYHA4Ur5d9G9eTtWk1Po+bqOROJPUcgMUR0GBwCAlqK8rZt2EVxft2IRkMhLdPIbZDOvaQcIQAe3AYis+L0WJD8Slkb16Pu7qK6rISdi77AyEJzLYAYtO6YXEEEhQVhzUgsEk/9jhr2LtuBXk7NiFkmXadM2jftScGo9n/DgLK8nIoL8gmtmM6ZXnZ7FmzFI+rlnZpPUjM6IckGxuuWZabTf7OLZQX5ODzuLEFhRDbqRtRyR0RQm6+o6sQ26kb7TMG8903v3PpFWMxGk/+Bl1dA67toaISFhZUN+Dpg5uOjk7rxu32UFldS0R4sK7CqANCoGkaZeUVZOYXUFReisvtOimpPiQhKC4v56fFf6CqKm998zWyTLPGjqZqrN22DYvJQKDd3uw+KJfHw7rtO1BUL1IjQ0oATrebnVnZVNZU7TdAWntVoFHhCmBrZjd+WLgMWVIbDCmDbCTYEUh8VCQx4WF1IZF6Bz4SLZq5e1Qvc39dRmyX3oS3T0FTG3loAOqS0WoaoEBQVCxhcQmUF+TgdbmQDQZ+fu2fLPrsTUxWG7LRRE1ZCR0GjODSv/6X0Lj2ABTs2sZXT91D9ua1WIOCUTweaivLSeo5gOv++wmO0GCWf/cRCz5+jTs/nENQRDQ/vfwkRft2Upq3j/f/chWaqhDXOYObXplO5voVvH/vn/jT02/R89xJoEJlUT5fP/Mgm+b9hD04FFVRcNVU0W/SNUy8++9YHYEICdbM+orZbz1L+vDx7FyxEFd1FR5XDZJk4Py/PMXwa6bWdUSVmS89zqqZX2B1BCGbTLhrqjEYTZxz68MMu+r2hnDDJh0YMJgNdB0xngWv/5XsfQWkpMSflLAtgWgitR4Y5CA8PBgAGRmBf7Ku5y9qvRxoQLlcbiQkzBaTblzp6Oi0HoSgsrqWtz/+ljuuv4ygQIc+GTvr20M1KzZvJrtkD6FhtURFC+x2kKQTb3wYZMGn328mp6AIgLU7NmMITKVjUiiq2rQdqqrGhpwSUjtnExJkPThCCqh1eSl2F9Op674mhpT/fJXULj7s1qy2Ux1olFQHscvVno7p+5Blxf+pBh6PRkmpxsJNBkxE0adzVxJjY/QF+CO1uSMXuqCstJKNG3fT4bzbMJgMB8ud14e+af6QubK8Qkpz9xESE4/F4WD5tx8z9/3/MfLPdzL4ilswmsxsXTyHGf+8j5kvPs6V/3gDSTYy553/kLt9I1c/+x7tu/bG53GTtWk1u1f9gaL4Nzj5vF48zlo0VcFsD+CC+55m2v1ZBEZEM+nBZxGShMlqw2SzoSo+PM4aVMVXJ1WpMvvNZ9n4+0wmPfgM3Uadj6r4WPbNR/zyxr8IjoplzI33AaD4vFQW5ZO3czPjp/4fCd36Ul1axIx/3ce8aS/RY+wkQmLboamQPnwC3cdMIjq5E0arjerSIma++Di/vPEvOg0aTWyHzs0H7amQ0K031W7Ysnk3HVLan1AzSqoznoqKS1m7ZjurVm5h985sMjNzcbu93Hz9UyQkxdKzVxq9eqcRFxuJJEn6HpxWjoTE9m37mDtnOddedwGhoUF6neno6LQONI2IiBBiosL5beEKLj5/dLNhVTpnAUKQV1TMb6sWEx5VwnkTDISGmpsuxJ9g3B6FddszGxYYi8uqySrM4/wJ0QcJ2aiqRux6Ax07mAgLbV4ttNYpyCqSSetkQpabMykstCm3q9AoLDOxJlsmLc2EQT6gb2rgcmps3ZHL/HVFFJX1pE+XtBaJgpytHNGQkhDk55VQUlbD8A5dm2+4tTWU5+f790gV5PL7+/+jvCCHcbc9gqZqLPvmI+I6dWPsLQ9iCwxC06D/RVeRs2UdS6a/z8jr7iU6uROFe3cQEBZJUkY/AsPD0IDw9vF0HTnBn/D3gLYqyRCV0gmTzY4tKJiE7r2QZLkhxLBJ25GgJHsPa2ZNp+e5FzN48g0ISUIAo2+4m50rF7D8248ZcMm1dffWsDgCufRvL9Ch70BUBSRDZ3pPuIyZLz1JWV4WoXHtEJJEr4kXI0ngqfXiqqkmMCKGToNGs2XRbEqy9hDXqXOz5aZpEBQZhyUokm1b98L5J6ifULevbV8un3w0i++/nU91VS3t20eTlBLHwEE9kCRBaWkla1dv45vpc5EkiTHn9OfP159PepcU/IKL+ipia0RFpWu3FLIy83n5pc+58aaLiIuL1I0pHR2d1oEG40cP4uV3vmTYwJ6EhwbrXqmzjboQu19XLKRL1wp6ZZgb9rCftK8qSbBjdznllR6untSZguIaQoIsLF9bwHVVHqxWQ1ObR63fz66BqjVvD6ma/3lVDrE3oo21a8H+dz3EO1msgoweJmKiFGb/tgJZluid1klv04egRR6pwsJSvKpEUGT0QW1Gkg2s/eVrdq1ahOpTcFZVYLJYmXDn3+l34dWUF+RQlLmTnudejDUgqMGbJRkgsecAfp/2EoV7ttE+vRvJvQYy5+1/8949f6LL0HOJ7dSV6JTOBEfHcqglDE31t+N6Gf9GffjAPk1x1h6qy4pJyhiAbJBQfP7XMVltJPbox7xpL1NRkEtQZBhoIBsMmG0BqEqd6IQKjrAo0DR8Xs/+6+7LZMV3n7Jj2Twqiwvwup24qitRFR+K79BSgZoGZpudgLAocrILTkhonUDg9fiYMf0X/vPcR1gsZq7580TGjhtAfPsoLGYzElJdOJ+G2+uhIL+EhfPX8MlHPzH54oe44eaLuOnmiwgIsOuT81aKJEmcf8FwAoMcvP7aV1x/44UkJ8Xp4Zk6OjqnH00jOjqc7l1SWbh0DRedN0pXZDzL8Pl8LFq7hqTUcnr3rJMOP9lNQNOIjrDx0X/GgST4YuZ27ri6O1m5Vf4wQr0JtrAc/T9R0TKjRsCvv64hJjyc2IhwfUGkGVq0R6qqqgYkI2ab4+DNeppKbKdu9Dz3EoSQcIRGEJ/ek6jkjsgGGa/bhc/jxmwP8Iv47G/vmG12wO/RQsCo6/+CwWRm3a/f8vNr/8DrdhMUGcPIa+9m6JW3IFmMx/WyHmctmqZhtgc0/YUAiz0QxevF63Ye9hqSJDVY8EKC4qx9fPCXqynau5Me50yi57mXEBgZS87Wdfz82tNHfCbJYMASEEhFRdVxGy0CQW2Nk2f+9QGff/Iz1994ITfcfBHREWGoaHW7oDSURoGGRqOB9vHRXHP1RC6YNJzpX87hP899xIZ1O/jX83cSHRWuG1OtFBWVEcN7ExISgMvl1gtER0en9aBqTBw7mIqKaj032NmGLLM3OweXmkWf3maEfOqMmPBwG0iC3Nwq0MBolElNCfV7YZrBr8os4FCGVv3v6n/aOqL+pVvShyEuVqZDJxdrtm0hJmxwg/K0zn5aZEgpPgUhBEI6WIFOU1Xap2cw9uZ7GwzVeulvTQOz1Y6pbt+QdoDHqKa8FABbYDBoEBgezsS7HmPElLsoy8sid/sGFnz8GjNffJzEjAGk9O5zyGfUtCMP1NaAICRJprqs6ICTobrUnwvrICPrMEgSbJ4/i8wNK7n6X+/Sf9KfEJI/5FA2iBY1OCEkZIMBn1dB07RjbqQCgcvl4cnH3+LH7xfyv1ceYMKEIQjBEWXV/UaWgsNh4/rrJ9G9RwfuvuN57pn6PK+8/jDh4cG6p6OVoqDSvXtHNDS9js5kJKnlX36tHVkGSfKPdQbZ/9PWVzm1uj9UTV+xbSgTDYfdhsNu08vkbEEI3G4PxRXFzFm2AktwAVt3mFBPcf0LISgsriU7t4pV6ws5VHozVYW92VWs3VRMSKC5me0MArfbR1ZOFas3FJwUcYxTXS42i4xXM6KoWou/Tzp3MvLjzlzKq6oJCQrU+/MBnBC9bU0F1Xdw2WoqBIRFEtepO7tXL6E8P5vQuHb+RPYeL1sWzsYRGkFMahe8HoXyvGxCYuMICAshIDyE5F7d0TSFTx65marigmbVJSVZxmAy4aqqRFO8yKa6vVTi4A4TkZhKcEw7ti6aw6DLrsdktSIEVJUUs33ZfKJS0giOikNr4eKZpkFNeQmyLBOZmIJk8N9H8UF5Qf4Rs2+faN59+xu++2Y+r7zxMGPHDEBBOaqpdb23qk/vdN58929cP+XvPP3Uuzzz/F2YTAZ9mt5Kac5jKCF0w6qtU2c8uWqdFBSWkF9YQmVVDUobX92XZYlVazZTWVXD7/OWERoc1KIkm60WASajkbCQIGKiwwgLDUY2Gv1fBmf7hEOfcJ0dCIHT5WLjrt3syN6FVyulyL2FzqEeiqrEKW8GQghKa9zUuMspqc46pDK5pkG1u5TSaglFMh5yHEpO1iityW7z1aSq4HZr5BVXsy2rO5u2l9AlNRCjUTq0x1CD4EAJu8NJYVkZIcFBer8+gOM0pLRGfzaPyWZhyJU38+GD1/HVU/cy/Jo7MFntrJ/zHWt/+ZoRU6YSkZiKs6qSLx6/g5CY9nQbdR6BEdFUlxWz/JtPCGuXRHRqZw6ySzQwWazEpXVnxfefsuCTN4np0AWPs5b0ERMPbgzRcQy67AZmvfIU3z3/V3qfNxnF6+WPL98hf+dmrnjiVayBgfs9a9qR3g7adc4AYPabzzGw5HoQsGPpPFb/9CVqc0pFJ6EBykisWLmZ117+kgcensLYMf2bhO8dLQoK3dJT+ddzd3Hbzf9kyLCeXHrJmOO6ps6pQUKwe08O69ZuZ+LEIRhNRl00pM1VokBVNbZv2833vyxk7sKV7MnLw40XDOKkKl6dKlRVw2dVeOTVN9tK+pVDo/k3qwsvBJptdO2QzHnnDGXsiH6ER4TqXqr6Ote0ut25OmcUQlBQUsq81csw2fMZOFgmJEQls1Cmc2czJtNpqHMBuXka+SUGzhltPqxHKqvAwKjhJsLCjGfHHipNY1++gZyvPWzYmUlmtoMRA+IJDDAfcpySZAgI0KisqdHbezMclyElG4yExiXgCAk/5DGqAl1HTuDSv/6XOe/8m3fvmoyQJGSjiWFX386Ymx5ACIHRYiWhez9WfP8Ja3+ZgWwwghBEJKQy+YlXiGifjKb6wwBD4xKQDSZ/EjFZMPzqOyjcu4NZrz6FJMkk9OhH2pCxmKw2wtol+fd21Xkxh19zOz6PmyXT32flD5+hoWELDGbSA8/Qa+Ll/hxZMlgDgwlrl4jBaGq6r8seQFi7JIxmC6oCnQaNYuzNDzL/49fY+sccTFYb8V16MuCSa1nz8wxMVlvdvQWBEdGYLDZ/SMsJ7LBur5fXXv6C7j06cOVV44/oifDnlBKHNYx8KIwY1YfLJo/h1Ze+YMTIPoSGBuqT8tY+RgKRUaHk5xXzztvf8OdrL8But+jeqbaCLJGdXcBr733Flz/9hiHGRPdzOnN5/z6EJ4RidZj98fynECEEkiyhqqpf3erEXNW/Z/YMMTAUr0J1aS052wvY+Pt2Hn7lNV569wumXncZF58/CqvVAupZvE9ICGbN+YO0tDRSwrro/fwMqteCklJ+WTafTp39ohIGo6DWqSCEdmoEJg6FVv+jgXYYl1T9OofG2WFICbCYBdHREheOM7FseTk/z/cxfkQyAY5DGJMCDAbw+fTF9OY4ZkNKUyE4uh23vPEtRovtsAtuQjIw4JIpdB46jqLMnfi8HkJj2xMen4gkG9A0MBhNjJ/6N4ZccTNl+Vl4nLVYA4IJj0/ye4lU0BTof9EUMsZdjCM0siEEL7ZTV256dTolWXtRVYWgyBhMZr9hNvWDX7AHhTaoBZptDsbf8Sj9Jl1NSfZeJEkmvH0KwTGx1Gl+oyrQ5/wr6TbyPBxhEQ33URXoPOQcErr3xRESjqqA0Wxh3O2PkHHupVQW5mELDiUqqQOywcDgK26uS/oLkkFm0oPPoqkqBrPlhFWgjMSa9VtZumQDr7z+MA6r9bB7ogSC+QtWUV5ezfiJg5HlQy9vS0Liz9ddwPffLmDunOVMvvycI+630jm9aGjYbVZuvOkivvh8Nq++8gXX3zSJsNAgvXBaO5Jg/qJVPPTUy5Saazn/n+fQc1wXHEF2RF3dnurveYEgb2chS79eQ89z00ns3k5fTDkEke3DScloz+DLelOYWcK8D5fx4H9f5fc/VvHkw7cQGxN59hpTksBus/DDLwu5O2M0Qpb1BnMG4HK7mb96OR3TyunXp06Z71Ay4jqtCxWsVsGIYWbm/F7NopU5nDM0AfkwC3V6tTbPcXmkJNlAcFSsv4CPUMKaJgiKjCY4OrrheO2AEHIhpCbHwH7hinqsAYFYAwKbnKdpfk+VvVvG/nM0v5ETEhO3f7Wh/jmFTHj7JCISkpoc3xiLIwCrI+Cgz002G2a7reGZNA0kyUhcxy7EdfKvtKl1kuwhMY33WwkCQsNbVFZHyy+zlhDfPpp+A7qitEBh74vPZrN9ayZjx/VHlk2H6WcqKantGDy0Bz/+sICLLh15UGZvndaHhobBaOBPV41n5o8LWbNqK2PH9tcLpjUjCX6YtYB7Hn+B1Akp3Pi3qwmLDm5Q2zxtj4Uge2s+n//tBwIjAkjqHq+reB6m3wEgICoxnMn/N5GMczrz4f1fc8PdT/H6vx8hsX3s2WlMKSoD+/Zg4YrNbNy0lW7du+sNpq0jSWzavQeDLZ/eveo85XX704Xwe7L9CnGn49ka3ftwIj11vxP1x51JpoLWsmMMBhg80MS3P5SSmR1KcoK+B+poOW6xiaMpb03ze5WO55hD3e9Q5x1KOEJTj9DODrWocohw9+a+Gw+895HKStT9dzS4PB6WLlnP4CEZBNjtR9zHJA76xxEaiJAZOaovzz0zjeKicqKiwvQV6TaAhgYSnHf+MHyKDxUNfQ24lSJLLFy8mnueeIGe13Tn0kfOxWgxtmhR5JTRggmRhH+Rpd7QOvD/D/VZ0981VZ+UkPyKlJqKJCQEosm5AtFEWKV+D456Wvx3B/Q/AWkDUrjro2t5/eZPuOev/+HdF/+PsJCzc6Jitpg4Z1gffpr5I13S05F1r1TbRAg0TaOysorV2zbRtYeL8gqlYQ4kBDhdbopL3RQWgdF46pu7JAmKSrxUV/soLPIgSQc/Q31e2soqhaJiL4pyZoQaS5LAYpaw2SRkgzhyyKIGAQGCTh1g884SkuID2/6+1VOMQS+C1oDA5/P583UdRQuWhD9Zck52IdfdeOGhF10a/aaxqeafhEgNE47mJh4aGp06J+KsdZGbU0RMVPhRagHqnE40oSEb9AlLq0US5OYW8cg/XiVlXBKXPOw3otraYoXPq7Bm1np2LN1LWV4FmqoRHBNI99FppA/vgMFkoLbKxZKvVhEcFUTP8V2a7PXy1HpZMn01jlA7vSakI0kSXpeXdb9tZe2sTVQUVhEYEUDv87vRfVQasslvVOXuKGD97K30Oa8bklFi84IdVBZV0210GvFdYk57OaqoRCdFcNMrV/C/K9/jhdc/5cmHb0E6G2cqikrPjK4UuAOora0lICDg7CuDtowQeH0+9uTksn3fXrKKstieuw5jqMbegsaGisDr81JcUUx2kT/bwSl/VASl5V6276nmt0UFhxbo0cDjdbN0TTEmk38hp62jqQJVE9gsBpLa20hLtWGzyUc0phITDGzfXk2t04vdfpYIb5wgdEOqFSDLEgsXrOGCCfcc5YqIwOv1UVhYRkxMeLPtXlEUysqqUOskk4UkqHW68Xi8FBSWYjb7O4wQgqBgByaT8YD+pREaGojRZKCoqOyoPWY6rQeBoLKykqysLLp06aIn1msNaPDWh19TKFXywF+vwGRte0aUQOCsdPHtM7OpLKomMjEM2Sixc/lefn1jEZc/PpGJ94zEYJJZ+f0Gcrbkk9D9bsLjQ9DQkJDYuSKT9+76issem4B8XnfcTjdfPD6T+R8uI6lnPKFxQWRtymPxF6u49LEJTLhzBJKQ2Ls2h48e/IbMDTnsWrmPwt3FKD4Vg8lAQpfYVrHoo6LSrlM0lz42no//8gPjxwxi8ICMszJJrclo5ILzzwfJqPf9NtXJBSXl5Sxcu5paJYu0TpCcXkU/Fbp0NjSNihPg9WqUVpkID68zpE61/LkEOXlQ45S56ALTYfPoCmGiBQLNbQZVA5dLI79QYdv2crbsqGZg72CSE6yHPkmDAIdASD6qa33Y7aYzp0BOAboh1RoavqqRlBTHtddfcHSDhRDk5BTy/jvfYTYf3PAlJPZm5XLDlCcoKixDSH4zKD+/BI/by8SxdyJJ/hwPJrORF195gKFDejUJD9QAo9GAQZZxu716ZZ0BfPPNN+zcuZPzzz9f3/N2OpEkdu3O4osf5zDur8MJjwtpXeF8LURDw+Iwc8MrkwmNDSIg3IEsS1QUVfHadR8x561FDLmyD2FRwQy9qi+v/PlD1s3ezJgbhjSE7f3xxUocITb6XtgdCcGyb9Yx970lXPXMhYyYMgCjUcZZ4+bD+7/mxxfm0mtCOu1SYxACvG4fG+duY/RNg0kf0REhBCExga1KqVJFpdf4rvzxxSre+ehb+vfqikHW+55OG0AI8otL+HX5QhJSyhjXy4TVLlFYLCh3CqzWA1SIBciywOIVWC1+6exT3hUlvzKdwSCwWARtPI/uUdYX2GyC0DCJTqkGtmz3MX9pMU5XKOlp9kOeZpBBljW8Xl1Q7GjRDalWgKapJCXFcf11k+q8BC0bdWQktu3I5PNPfsHpdHPgJgYNjZDgQK6/6UJqa1wI4Zcc/uyTXyjIL+G2qZdhNBrQ0JBlmfYJ0WgHTOQE4PH68PkULBaTXlltuZ2hERgYyB133MFbb71FZWUlkydPxmTS6/W0IASzfluMEgy9J6S3aYl6k9lAx16J1NQ4KdhdTGVhFbWVLsx2M1WlNdSU1xIaFUTXkZ2I6xzNos9WMnhyH6wOC7k7C1g9cxP9JvUgKiUct9fD4i9XEdcpit4Tu+Ku9eDSNGSjRMa5XVj4yXL2bcylfWosGiAbJS5/4jxGXNm/oQy107xHqjnMZiMjpgzgi7u+Y8fufXTulHx2S6LrtIkxqqqmlrmrltApvZy+vcx+71NjEbADu5m2/+/T5unRmj7HWRVI0+i9ZRm6phtw2AW/LyglMEAmvp25RafrtJwTYkgJwaFjUOvsArUVGrmqqqB4PMhGE1JdIK9UF897qp9XQ8OH76hC5xRU7EFWLBYTeblFB52poREcHMCfrzm/4TMJifVrdmCQZW6+6RIsZlPDhENBPWgyJxCUFJfj9fqIiAzRhSbOAEJCQrjzzjt5//33+fHHH7n44ov1QjkNeN1uflu4gi4jOhAY5mjThpTPo7DgqxXMefsPivaWgBAYTDI1ZbUISapP10JQeACDLuvF1//8hZ3L99JjVBdW/rAeV7WbwZN7IyNTXVlD4Z4SSrLKePaCNxoPRrhrPHhdPmornP7PNJAkiYBQu9+71Yo9eioaHfolIEJklqzYQOfOKZzNAohlZWWUl5eTlJSkDwatFU1j1dYtBIcX0buneX8IX2PxmQPXfkXdH4f6/angwOc7wwT5jgoVEhNlepSpLFlVQXRkxDG2BXQRikNw3IaUEFBTUc6+DStRFV8z/dCf8LZ9t77IhtbjAJNk2LtuJTNffJxxtz1KxwFDUbwqW5bMw11dSdqQczDZbK2682loBIcE0C4+inVrt3PppWOaPaZx7iepzliqN9y8SEcYjwRbNu3GbrcSFxepJ3Y9Q7DZbNx4441UVFTohXE6EIKS0gp27svm3JtH1y2gtM2+JSGx+NvVvH3756QP78B1L15GVHI4jlAbs16Zz9x3F9cd6X+/vhf2YNbL81j81WoSerRj8Zer6Tw0haRefml1VdXwun20S4/h3DuG0WQ5WfhVqVL6JjQxmtrCAo+GhiPUTlx6NKvWbeX6s3CPVGOqq6uZNm0a9913ny480eo6tQSSRFlZObtydzBmNHg9Pjz1Cv9C4HT5cLlVnM6DZ9c+n4rTqVFbq2EwcBr2SAmcLg2vV8PpVM+s0D4BBllgMAmELPyboo40lKiQ3tnAth0eMrNdBAcf5T018HghyKzvbWyO4zekJCjYtYV375qMz+vGYDA26TOaotC+Wx9ueeNbDAfkfzrdjbGmrISdyxcwePJNCAGK4uO3d/5N4d4d3PNJX3++qFb+/Wwxmhk0uAc/z1pMRVU1AQH2w04qGry+LXwvr+pj7pwVdO/RgbDwIN0jdQZhNpuJjIzUC+J0IAmKSsqp8bqITAxt071K0VRW/bgBR4iN61+6nJjEiDq5fQl7QNMNzioasZ0i6Tk+nTU/byYyKYzc7YWcf98YLBYTCipmm4mgSP/Euv95GVgc5iblIyFQ6paD2hqykIhOjSBzXh5ejxej8eyNro+Pj6ddu3b8/vvvXHDBBWdtObSucUnCpyhs3raT31asYPmW9ewt2MH3S7SDjBGP14dPc2GzHmylaJqG1+fDYNROmxHj9mgUFPlYsrL6zIrsE2AySkSGG+jb08aoYQ7atTMeUebcbBEkthfsyawlI/jobunzaVRWSnRIDtBzTDXDCRnFNU3D53bR76Jr6HvBVaiN4+I0DYsjEJPVb5QIye/FUlX/okdDC1ebDxevDxusdylq2v6Et436Pg2OFa35BLtQd52642TZv2rRuIfJsoEJdz2Ox1mDPSTMHwMs2J+DoO756xePD3UfSW70XvWNW5yscEGNc84dyPvvfc/iReuYMH5IEw9UcyQmxSJJ0hFV22QkNm/dzdIlG3j6mTswCsMRr63TdvH5fNTW1hIYGKgXxklHUF1diyppWAIstAVvlKqoKCgovqZjgBACTdFQVa3J74ryS9mzLuvgcUWSGXxFH5bOWMOMp3+mXedouo7s2ODtttjNZIzrzNf//IX5ny9n1HUDMdSFXns8XvauzyYkNpjI2NA2We+OEBt51Tn4fApGk+Gs3pQwfvx4Xn/9dYYMGUJoaFuszzMISWJfXj4vff45a/f+Ro+elVw4WSI22oDB2MwQJer86IeaWAv59LZtAZIwoapnVgfTgNpajT2ZHub+UcuHX5Zw6fkhXHNFCHa7dFjvVHSUzMpsL16f1vJ9YwKKS1TctQ4iQ0P0ftIMJ2w5TEMjMjGFzkOG0kyEX50RoZG7fQs+t5OolDSyN68ja+MqJNlAcu/BxKV1o3HtCgmqSorYu24FpTl7MVntxHbsSkxqF4wWKwjQVIV9mzawd+0y3LXVhLdPIbXvEByh4U0S4goBxfv2snPFAqpLiwiPT6amvLRJ4xSShC0wGIPR5A9DFOBx1pK9eS0hMe0wWmzsXL6Akuy9BEfF0mnQKALCIhuMKSFA8XnJ3LCOzHXLURQvsR27ERAWicdZQ7vOGRhM5hNagQoq6V2TGT68F2++PoPBQzNwOGyHXK3V0LjjrsmoqnqQ1PmB+BSFd97+hnbxkQwf2adNKorptJyamhreeOMNxowZQ+/evfUCOckoqtoQqta6v+r9G5xmvTSPFd+ua7J4pKkaY28eTK/zurL823W8fuMndB3ZkdpKJ9v+2E3+rqK6xKtao6updByQSGq/RNbN3sLAy3oRFB7QJFRv1PWD2PrHbj68bwYbfttGcq94fB4fO1dksndtNnd9fC1RseH7r9uG5kqSQUJVVVStfrPJ2WtJxcXF0bVrV9auXcuoUaP0QeG0NUqJddu288hr/ya991beedhGQkIA4nQo7ukcmbpp8vXXwIpVXv79cgnrN7v4x1+jCQ05hAGrgdUCPkXF52t5pWoarNvoIy48gQCbVfdINcMpjSvQVI3Zr/+LveuWEZ/ei10rF6GqCs6qChwh4fzp6bdIH3Eumuo3onYuX8g3zz5E0d4d2IJC8LiceF1Ohlx5Mxf85WkUn4/fP3iRue/+F4PJjMlmp6q4gNhO3bjssReJS+vmv5aAjb//xNf/uo+KwjxsQSGoioLi86H4vA3tUtM0fn79afJ3bOHOD2djDw6mPC+b9+/9E7Edu+KsqqBo7w5UVcVZWU7noedw9TPvEhgehQZ4XE5mv/EMCz5+DdloxGSxofi8+Dxu7MFhTJ02m5DouBPeDo2ygdvvvJw/Xf4oH7z3PXfedcVhxz6LxXTEr28DMj/MWsAP3y3ghZfvJyQosIksus6ZR1BQEBdffDHvv/8+VVVVjBgxQi+UsxwNCI4Oos+F3fG5fWia1nTDsfCnbxh4aU+qSmr4/b0lzP9wGSGxQQy9uh8ms4Gtf+zC6rA0EdEy282Ex4cQFh9C3wu609TQ0giJCeL2965m3rSlrJm1md8/yEaSJMITQjn//jHEp8egohAaF0zv87sRFBWgz/faKBdeeCE+n08viNOFJLEnJ5eHXn2O8y/eyS03BPr3NamAXi2tGoMMAwcaeatDAA89Vs2TzxXwzOMxWMyi2QmekPyft3gOKsHWrV4KcoK4YEgn/2RaN6QOroeWHCTLEpqmoWmH9kgIIdi6+HdURUNrFKOnaRpBUbH0Oe8KZKMRxeejaN8uYjt15+pn3iUiIZWcrev5/O93MP+jV+k4YCRGi5nizN18/vc7kGUD1/3vM2I7dsVdU8WmBT9TWZQPwMbfZ/Lzq/+g36RrGH3DfVgcAWSuX8GXj0/l22cf4voXP8cWFEj+rh1Mf/pebIEhTH7iNSITO+Jx1rDsmw+Z887zTd5D8Xjxelz7Fzo1Fa/Lyb4NKxly5S1c9thLmK12Fn/1HnPf+y8bf/+JwZOvQ2iw8ofP+O3d/zLwsusZfvUdmO0Oygty+f4/j1K0d4e/AR5gwWiahqooyAb5mBOkKqh065bKvfdfxTP/eJ+EhBguvHDEYT1IRzKiVqzaxN8eeYXLJo/lnHEDdSPqLKFDhw5MnTqVt956C6fTyfjx4/VCOYtRUUnuHc+9n11/yGOEJJAkwYQ7RjDsqr54XF5sgVasdjOqqjHy+oFIktTgJZcQ5O4qZP1v2+h7fjeiUyMOErHR0AiJDuLih8Yx4a6RuKrdSJLAEmDBZPInLVZQ6TgwiQ79EhGyaNWKfTqHxmq16oVwGvF5vfzn44/oNXA7t94YiCxxVqtJtjkUCAuTePrvDm68vYqvf6jgT5eHgHIcBo8EmuI3opYuNTGsez+CA/X9UYeiRYaU3WED1YfHWXNIT4YQgj1rlpC/c3OTA1RVIb5LTzLOuRjZaEJTFaKS07jiyVcJjopCUyG8fSKrZn7Ovo2rcVaWY7ZFsW7OdxTv28WNL39J1xFj/OGCIprI5FTcNbUoPh/Lv/2YoMgYzr39EYKjY9FU6Db6XAr23Mn3//krmetXkD5iNOtmf0NFYR5XPPEqXYaORFFANkBq38HMff+FI76/pqkMvPQGzv/LE3XvCoMuu5Yl098jd/tGAJxV1Syd8QExHdM57+6/Yw8JRVMhNDaW2A5dKNy9vdlrq4oPV00VAUk2JMQxq+JpaFw9ZSLZ2YU88Jf/4XS5ufTSMciy3OIJhqj7b/7CVdx757/p2bszDzz8ZwwGWReZOIuIjY1l6tSp7Njh977qSXvPboQQCMPhF3k0AKHhCLHX/b/mH8skv6rfgSydsZbacieDr+yDJKRmx6j6TFAmqxGz1dTouupRPZuOjs4hkCRWbtzMjsL5vPcPO7KMbkSdKAT+vfvaKShTFaKiJW690cKb75YxcWwAQUFyM7L0/r/FgdLwdY+oaf4PigoU1qz3kp8TxLDu/UiJb6cbUYfhiIaUhkZERAiyUKgsLjzkBjVNVRl21e0MnzIVtclmZA2D0YTZbm+oCIPJhNFsQVXqnDSSjCM0AsXnRVF8KArs27iawPBo4tN7ovj2iz2AwGy3U11SQv6uLcR07EpAWFSDkIOmQkK3PqBB3s7NpA0eTeaGFYREt6Nd54yGa6nK0eVCNNsc/sam+Buh2R6I2WbH6/LnM6kqLaRw7056jb8UW3Bow/Oo6qHbn6jbg1VdUkhsXB8kJNRj9PxogNFo4MGH/ozFYuKvD73KmtXbuH3q5STER9d1lP1JKpumg5CQEBSVlvHxhz/x+itfMnbcQJ546laCg9p2fhudYyM8PJzw8HC9IHSOiiMtuAgElaXVrP1lM93HdCK5d/sWLfToCzlnBy6XC7PZfMzRGTpHz89LljBwUA1xcQGcqsATTWO/+FjzAwV1W0iPLXdRvSjY6QqkEVBdrbFitZfE9jJJiadAeEOBYYNNvP1+JQuX1DJ8kAOlkdCGEFBerlJcopKVo1BerrE304dB9ucvLa9U2bBRxVkGRmEhLrQTFwxJ0z1RLeCIhpSKRnRMOKFBVvJ3bqHLsNHNdwzAFhRMaGzMwep0Wn3HUZt0pCbtrj4TLqApKu6aKkxWGwaTpdmb+bwefG4XZqu9ybkARosNSZbx1NagKiquqkpMNjsGk/mY2/KByjRCCET9Sr0An8eD4vNgstr8YaQt7GyVxfk4ywro2Cnx+AcnNMwWE/fdfw2duyTz3D/f59efl3DJ5WMYP2EwyantcDiseD0+VFXFYjFT63SRlVXA3Dkr+OKzX6ioqOb+h/7MVVePx2o160aUTpM+oE9wdI6rDaFhspm4/qXLCAi1Y7LqeUl0/KiqymeffcawYcNISUnRC+QU4HF72JK5levGGzhVGuE+Hzz/Ug2r1ngZM9LMLddZmxpLMixY6OGNd53Y7YLHHrQT314+Kq/OuvU+SktVBg0wYjadhu8sCfZlKVx1YwV/ucPO/X+xnfz9ZhoEBAo6p8ms26AycqCjibNAEiBpCpIKshKB0BzISgyS5kOSBEW5XkLNkQzpPJKY8DAcdpv/+143oo5IizxSoWFBpKUlsHvNEoZ7bt9vQBx4bL3BdJxuTEmWsAeHkbVpFa6aSuwhoU0sEyHAZLFicQRQXVaM4vMiG/Z/IddWlKL4vNiCQ5FkCYsjgNLcTLxuJxaHf1OyECcgS3Oj3dMWuwOzzUFFYS6qUu/raSrdfiBCguzNa7HIPjp3ST4hRouGhpAFF5w/jH7905n+1Ry+/vI3Pp42k4iIEBISY6ipceJ2e4mICCErq4C83CICAu2cd/5Qrrx6PCnJ7faH5ujoAE6nk2+++YZhw4bRrl07vUB0jhmTxUhi13Z1/nF9jNHxI0kS8fHxzJw5k7vuuksvkJONENS63NS4y4iJkk6ZOp+iasxb6GH2XA9rN/gYNdxExw77DSW3U+OVt5x89Y2LsFCJu261EX/gHKpxehkO/t3r79SycImX32eGEBlxhJXt5varHO76LUTTwO0GRTmFY5yAdrESmbvB7nA03SclCWprFUKDJGIjIghyOIiPjsIgKyiKxsrlHkb1HUDH5MT9oVS6EdWysaslB1kMJkaM7kvWhuWU5e1ryMV00MUkf34mqZmflrc+kAyQ3GsgVSVFbF00x59kW/bva1J8boqzMjHbA0jo1peszWso3LMN2eg/RlM1tiycjdFsIb5LBpIB4tJ6UJaXTfbmtchG/3U0FSoK8lCV4/f9aho4QiNo1yWDHcvmk7Vpjd8rpSrk79hOzraNfrWUAwcUr8qm+T+T3iWBhMQYtBMYSKugEhkZytQ7JvPNj//lvQ8f58qrzyUqJozMvXls3bKXwCA7510wlFfeeJgfZr3I3/7vJlKS26G20WSXOicPq9VKTEwMr7/+Ojt37tQLROe40McYneYYMmQI5eXlbN68WS+MU4CiKqiaF5NRnFKZc1WDpAQZl1vjs69c+38hw7KVXpav9NK9azPr/JL/3NpajaoqDZdLQ6vfi9T4vRTwerX9+xcORPjv5fZolJdreLzsDweUwOms+9xHC2fJrQezGdwe1V9QjanfH6M1CpXWNBAam7Z4qK0MJy2h/eH3o+g0S4vEJlQ0Ro3pxwv//pSN82YxYsptzeRmE2xe8Csel6upap+qERwdR/+LpiAbDxPG0aji/KIR57Piu0/44YXHqK0oI6F7X2oqylg3+2tkg4mr/vUOAy+/nk0LZvHlE3cx+ob7cIRGsG3xHP744m16Tbicdp0z0FToPuYC/vjibb559kFKc7OwBgaxc8VC1s3+phlDSmv0Z0vwN0yTxczwq+9g2n1TeGfqpST1HITX5SR/9xYqiwqwBQU3LS8JCnZuZ9eK+Tz+6OXYLNYTroznV7bSCAiwM3BADwYN6IGExKN/e5ltWzN54cX7MUhy3V5IVVe90jksI0eOJCgoiHfeeYfJkyfTs2dPvVB0jhkJUZevXP/S1vFjsVgYPXo0s2bNIi0tTRe6OVWc4ug3VYXUFJnOHQ18Nt3Jn6+ykJggo3jhg09cpHc2kJIs89FnzibP+MNMNx9/6SInV8HtBodd0KeXgRun2OjUye/Veus9J78t8FBSojL1/irMZnA4BI/eZ8dqETz97xr69jJikOGDT13k5ikkJ8r85U476Z0NfPy5k29+dFNaqtIx1cD9d9no19cIKni98MKrNUiS4J7bbX6ZePzT1zffd5KXr/DQvXZsDtE2qlLAjp1eVq0yM7Jnb2xWPU/UsdBCQ0olNTWe8RMGMnPGB/Qaf0mTRLRGs4XIxI6UZO2mOGtXk3M1RaVdlwx6n3cFstFEYGQMPq+nTg53PwFhkYS3S0IyGNBUCIyI4sp/vMHPr/2TeR+9guJxgxAERcUy4po7EUKQlDGAK596k1mvPsXHD9+AkASybKDfhVdz7tS/YTCZUBWIS+vOJY/+hx9f/DvT/3EPBpOZdp0zGHDJtayf8z1mu6PhXQIjY3DXVjcM4LLRRHj7FOzBYU3eS5INhMUnERAe1TAwpA0ezZ//8xFLpr9HSc5eHCHhnHvbo2xf+js7li9Akg1NwgGXfvMRUUGC8ecNOaHeqAPxG1R+I21/fj2/+pWeJkLnaOjVqxc2m41ly5aRnp6OyWTSC+UkUK+gWd9/DzQ26n/fVhc/PE4vJdllBEUGYAuyNrxT/fueDA5luNUFYesGXSuhT58+CCHw+Xz6+HKmooEsCa6+wsKM7118+bWLB++3s26tj98XePj30wGsXe89aE6/ZIWXvZkKPbsbCAmWyCtQ+fAzF0uWefnqw2BiYiR8itYgZObxakiSwOtPF0pVtcZX37j4fLqLkBCJ7ukGIsKN/Pq7m+tvr6B9O5msHIW+vYzEREn8PMdDdq7Cd58FExEpoSgas371IBvgzlusGBophs5b6GHLdh/33mHHdrq3EjeodGhNPvMLfAgkCVxujcXL3OzeYWVw1wEkxsboRtQx0uKEvAZJ5vqbJjHzxwdZPP0Dxt3yIOBXsYvt2JU73ptVJyYhDuoxstGE2WZHCMHEux5HVXyYbI79uZpUGDHlTgZfcTP2kLAGD2RUSieu+tfblOVlU1NWjMFkISQ2HntQSF19C7qNnkhyr4EUZe7C46olKDKW8PhEZIOxUZsQ9JpwKcm9BlGctcdv+CV1xGgxM+yq27EGBtep8QnGT/0/VJ8Ps92BqkBobHtueeM7zFb7fmVADezBYVz3wqd+AYv6+wiJriPHkDZ4FF63B4PJiBAqa36eTmBEdMP+LEmGvWtXsOr7j3n4vouJbxete4N02gxpaWl06NABWZb1wjgJCAS7VmWy8ocNCEkw8JKetE+PbbJnceWPGyjcU8Ko6wditretyaaExL6Nufzvyve44qnzGX5lPxRU5n24lH0bcznv3lGExgSfUMPG51Eo3FOMLdhKcFRgk7Je+eMG1v+6hXNuG0Z8WrS+N/Q0YzabGTRokF4QZziqqtGti4HzzjXz0ecurpps5ZMvnLSPlzlntIlVa71NT9Dg3tttPHqfHUeQANkfjjjtg1puu7eKZSu9TJpk5vYbbaxe52PBHx7e/F8gUZGS34CQYdcuBVWDTh0MvPx8AOldDEgyvP2+k1vurqRrFwM/vhBCaoqMEPDPf9fwj+dq2LDJx6hoU/2gQWuXXHK7NMrLlCZ2kSRBTq5CdrbMMuFl61ZBskjk3P7pRIeH6UbUcdBiQ0pBpXuPjtx0y4W88MorpPQeRId+Q1AVv9cmKDL6sOfX15E9OKTJ/9djDQzCesDnmgqywUREQjKRicmN1P+aHmMPDsURGtpwXa2ZEE9NEwRHxxESG9dwnqZBUGR0k2PtQU2fT5INBEVE+b9aGxv3kkRgeGTDsUJAeUEu25f8TnRqFwLCIvB5PWyc+yM7li1g7C0P+iXggeqyUn548Qm6d4rgqikT9ZVQnTaHbkSdPCQkdq/OYvqTs0BAwa5ibnv7KmSTv8wFgtUzN7Jx7jYGTe6FxW5uc2OI4lGoKKjCU+uhflqya2Um63/dxugbBiFiTtyWDYGgLK+Cf1/yNoOv6M1lf5vYsHAlEGRvzmP5N+sYcGlPSIsBfTzW0TnpaBoYDYJrr7Ly3Uw3z/63hjm/e3jgHhsBIVKz8/qIKIniIpVV87zsyVQoKdXYtNWHT9EoKVPrO/z+lEmCgwwfTYUhg4x0yzCCVwMBXbsYsNkEo0eY6dDZAB4NZOjRzYCmQVGJ2vqtp3oE1NQYyctxNFGblgSsWe3BU5mI2dedlNhUJg4OxWySdCPqODEc7Qk333opy5duZPrT93H9C58QlZza4EZtaec5ms/rG752hGtqSsvufeBxmnbk52jJMwsB1WXFfPfvR/A4a7A4AlF8PrwuJxnjLmbw5BsRgMft4qdXnqZ6z2pe++RJIsKCUXRvlE4bRlEU1q1bR8eOHXE4HHqBtJB6Nc9mxxdNwxZkofOwVFbP3MjmhTvpMbrzQZ7rA7/bJSR/KK+qIgnRbLLb+gS5KmpdBjka9klKdZnlNDQEAkVVEI2uUx9SeODn+59HNCQW1zT/JKXx/Q7H5Y9PZNJD5xAUGYCKhtQovPFAGufEk+qyXqp1BSnVzZ4aG0tCheqyWjw1XuQD3nnsLUMY8qe+BIbbmzxjc2V5YJhlc+UFIEvyoXVP62Rj/fWvT2B0zl5UFXpnGBk70sTLb9YysJ+R8841HyyUgP+j6dNdPPtCDfkFKiEhEsFB/rC9o9ZH0GhyD7NJIMug+LQmn1vMAiEdXc7R044GoYFBdE5MbmJIudwaq4TCFeeMJjAohcylNmSpXDeiTgBHZUhpaISGBPKv5+/m2qv/j0/+egtX//MtIpNSDs4ddRYOCJGJHbnhpS8o3LsDZ2U5JquNmA7pxHfJwGSz4nE6mfXqv1j/4zT+89+7GDS4h25E6bR5JElix44dzJkzh5tuuomQkBC9UFqA2WQCBXweX7MKvAjBiCkDKNhVzM+vzKfToOTD5l3SFI2Nf2xn2Yw1FO8rwxFqo+f4dHpN6IrZZvKnNFBUFs9YjQB6T+zGrtX72L16HwGhdgZc1pOti3ZRtLeUbqM6svqnTWxZtAuj2UC/ST3oc143ivaV8sfnK9mzNhuLw8yAS3rSa3w6QvYbPdVlNSyZvoZ9G3KoLKpBkgVRyeH0Pq8bqX0SDqmAJRDs25BL7vZCBl/RG5vRwJpft7BrRSZSI8XTevXT1H6JdB3REbfTw/Jv1rJr5T7KCyoBCGsXQsa4LnQZmopslKksq+b3j5biqnKxbelupj83C8Wn0q5zNP0u6kHB7hK2Ld7FwEt7EWzxlxMa7FqbyeIvVpO3oxCz3UTXkR3pf1EG9mBbgzG1+udNlOVWkD6yI2t+3sSWhbsQQPexaQy6vDcWu+mAetVw13qwmIz+fbj6HOaw7Nmzh5qaGrp27aoXxhmIpmmYrH6v1Jx5Hq650kpEZDP9QhKs2+DlnoerSE8z8OJzgXRMkQkMFKxc7WP8JWVNzjmR3eqgpZy2ogouGi1DCdi42YtZxNE+OorSGl2Z70Ry1B4pBZVOHRN47a2/cuuN/+C9e67issf+R3KvAW2ngZ0kjGYLKX0Gktp3YIPqplb3j4qCAn588Um2zvmCp/5xM5OvHKfH4uucEQghuOyyy/j+++958cUXueWWW4iJidEL5nBoGiHBgZiEgYrCKugcy4Ff/5qqEZkUxtibh/DZ335g/a9b6XdBj0OG8c19fwmfPvodYe2CaZceS/6uYl6/8RNG3ziIK/9xASaLEcWrMuetRVQUVLFq5kbWzd6C1+UjKiWcjHO7sPybdcz/aBkxHSJx13gIjg6kaG8Jq37cwNCr+rFl4U68Li9BUYFsW7ybVT9u4J5PrydjbBcACveU8M2/fsEebCM0LhhVUdm6aBlz313Mre9cRe/x3ZpvQ8CK79az5Ks1ZJzbBXuAjX3rc1j+zTokg9/6koSgaF8ppTnl/OmfF9B9RBqVxdV8++yvqIpKREIoQhKs+HYdv739B9f8+2LGXD8YV5WLzfN34HF6yd1WiMfpRfGqOMem0f+iDLYu2snn//cjHQckERIVBMCqnzbw9u1fYLIaSe4dT2VRNdP+8jUbftvGDS9djiPUjobGkulrWPrVaqJSInBVuwmJDaI0p5xlX6+lurSWC+4b06ReNTRKssuJCAvBZNKTER8JVVX56quvSEpKwl4XGq9zhqHA4IFGZs0IISmxLp/UgQsuEqxd76W0VOOeqTaGDDf5w/IMAoP54EtKAhS1Lo3SCQzJE8Kf4qfWpeFTwVwfVSBa6ZpIXWjjrl0+Nm60ck7fDAxGI/oKzonFcCwnKaj0zOjEB588yYN/eYF377ycUdffx4BLpuAICWl2j9LZQoNnTvg39/k8XrYvm8/Ml56Est289Op9XHzxaIS+GKlzBiFJEpMmTSIwMJCPP/6YO+64A5vNphfModA0IsNDiAwOYd/GXLoP79T8YcDgK/vw+wdL+fmVeXQd0RFboKVp2SPI3JzH9Cd/In1ER2545XKCIgPw1Hr49rlf+eG/v5E2KIWBF/f07xeQJHK25hPXOYrb37uasPgQNFXDHuxXz/O6fPQ8N52xtwwhODqA7M35/PuSt5n/4TIufnQcw67pR0CYnR1L9/L8JW+xdMYauo9NQyCITA7nwW9uISIpDFuABQRkb87nuYveZO67S+g+tjMmw2G+dkR9fkyNc6cOZ+wtQ/zvKEsU7C7mpas+ICo5jGHX9EdFJSDMztQPpxAeH4I92IYkCUpyynnhiveY89YiBl7ak4j2YVz/0uU8OeYlhlzZhyueOg9F0ZCN9YGNjW8vKM0v5/P/+5Hw9iFMnTaFqORwFK/C7x8sZdpfZpDaN4Hz7h5dF84HHrePXhO7MvqGQQTHBFKaXc5/J7/Lwk9XMOr6gThC7A3Gr9vtJWdzPgO6D0UyGPwJb3QOSUpKCrGxscyfP58JEyboBXKCaVD/PJ2BMRqYjYIePQx+I+oQEyObTaBpfsEIpdYfNpyX5eOLr1w4ndp+g0mCiAiJkhKVXbsUYqIknE4Ns1kc93OaTIL4djIzf3GzfoOP/n2MVNdozJ7rZtlKL6HBp38jlar5lQqRwV2rsnmrj7VrLQxMH0BcZITuiToJGI71RAWVzp2SeP/DJ3n15S94951/svrn6QyZfBNdhp5DYGQUUp2qSr0K3xk/KNVZ/wCu6hoyN6xi8VfvsX3RLIYPTuOv7zxLRo9OdckodXTOPEaOHEm3bt102eIjofnzu/Xt0Zklv2/lnJuHIhsPjnvTVI3QiGDG3TaUD/4yg1UzNzDsyv5NjhEINs7dRlVpDeNuHUpoZDAKChabhTE3DGb+h8tY/v06+l3Uo+6aKsm923PLm1cRGOJomORraGiqRlh8COOnjiA0JggNjfguscR0iMQRWs25tw7DGmhFQyOpZzyRieEUZZbi8yoYjDKOYBuBQXbKS6vYuy6byqJqqktrMFtNlOaW43V7D29INcJoNmA0GxAInFUuvv7nLzirXNz61p+IaBeKiorFZialRwJVFTVkbc6jsrCK2goXJouRgtwKnNVuHIE2zDYTQggMJhmrzXLIMVhCsGtFJjlb87n59SuJS47Ch4LBaGDI5D78/v4Sln+7jjE3DcZsM6NqGpEJoUy8cwRBkYGoqMSkRNJpYBJLZ6ylpsKJI8Red22Jgl3FlO4uY+AN3fQ+0EImTJjAm2++yaBBgwgODtYL5ARiMhowSFaqa7TTL6bQfErPut9pDB1oom9vA489Xc2sX91YzIJde/wqfNIB2kfjRpl4Z5qT6++ooHtXA14vPP9UAPWpTI91/iUMcOkkM9/NdPOnGyro2sVAYZFKZZWG16Pt3/h6iNc4FZRXaKiKkU0bvSxcWoZJa8+YfoNoHx1Vp4ymt/sTjeF4TlZQCQ0L4m+P3cT4iYN567XpzH7xQX59+zlS+gwltc8QopI7ERAagdFiRZypyfU0DZ/Xg7OynJLsvexdv5Lty+ZRtnczXTvH8dKLUznv/OEEOGz6niidMxohBBEREXpBtARJYuI5Q5jxyDz2bcghpVdCs4IMGhr9L+7J79OWMuvV+WSM64Jo9IWtopG3swhboIXwxNCGa6ioBITbCW8fSsHOYjxOD0L2q2GZbWZMNmOTJOD1EfX+BSGtQVhByAKz3URlkdYg8qChIRkkzDYjqqKCqjXskfr51QUs+Wo1NeW1yAYZg8lASVYZCd3j6mYVR/dNrioqP77wG+t+2cyNr06mQ7/Ehnd013r4/f0lzJu2lPKCSiRZwmj2h0vaQ2zNrr4eaV2vYHcxQhLEdIhsMLc0NCyBZmI6RLJ10S5qKlyYbeYG4Qh/aM/+q1oDLWiq3zBtzIrv1xEfHEGv7mltbAf76SM+Pp6MjAz27NmjJwE/kWgadquFyOA4tu3cTv/+5lNyW4MsuHqypS5M7hBjgQqjhpmw2wWR4RIoEBsn8c4rgbz5npONm30YA/xJcfv0NPL9T24yutV5tFQYPNDEtDeCmP6di/Jylc4dDQQHCYxG/zm9exqb5PSMjpJ44C47fXv5E+/WP0NSe5kH7/En6q2/9rjRZt57NZDPprsoK1cZ1N/INVdY2bHTR1GJisXsPy4iXOK+O20M6t/omie7Sr2wfSfIVXHs2ZZIhC2e/l3TaRcdpY83J7NNH3fFoYEE/fp2JeOtNDZv2cXPM/9g3twVzHvlB2pcKsJoQTZaEJJ8RlrDmqqi+jyoHidGSSE2OphxA7oy/slHGTCwO8GB/pVK3YjSORspKysjICAAg8GgF0ZjVJVBfbqRkdSB2W8t5KZX4hr2AzVGQyMwzMH4O4bzxs2fsvTrtQ2iC/UovjoVvQMXqySBJEv43L4DFiOPYp20kaddO+hz0fBvTdP47rlfmfXyfEbdOIj+F/UgJDYIk9XImzd/RlVJzVEXkYTEoukr+OmleUy4awQDL+3VYNwIBL9/sISPHvyG/pdkcOXTFxDePgRroIWvHv+JtbM3H1O1KIrqL8tmJnmyQUJVNbQjTErEASvTEoL83UUs/mwVD1x5FSGhQf5NHDotYtKkSXohnASEwcCgbr34ff5crrxUwyif/AmaLMN1U6x1Y+AhDtJg7BgTY8ea9of7aZDWycB//xWA16MhGwRy3Xaf7j32GzoAsgTnjjMxbowJTW3ksdLgofvt9ZKdDc8QGyPxt4ftTa6BCsnJMn//a9PPDTJMutDM+RPMKD4No9mvwNmrp2H/O6kQGSHx6IMHXPNkIsHevT727grmP7ddTvdOqWzevRuz0aCH851kDP5dfcdfywoqslEio3snMrp34s57/0R+XjFZ+/IpyC+hsrIan+/MjAeXJAmb1UJ4ZAjt4qOIi4skOCgAWUgoqE1WfXV0TmNLPS13/emnn9A0jcmTJ2M06hvsG9A0bA47d988mese+Acrvl/PwIt7NX8oGr0ndqPToGRmv76AsPiQBmNKIAhrF4Kzyk1FQRXRieEodXLcrkoX5fkVxKVFY7QYUHwn6RtdCGrKa1k1cxNpQ1O45plJmC1+xTpN0TCaj77eJSR2rNjDJ498T49xnTnv3tFIstTg+fF6fKz6YQNRKRFc959LCYoI9HvKEPu9RQegKkeeUITGBqN4FUqyyxH9908sfS4fxfvKCIxwYA2wHL5qGxcNAq/by7fPzyYpIJrJk8Y0K++sc2j0RZiThKoybmB/PvutPQv+yGX0KAv4TsV9j/GYunROJlNdvzzc1EqpW+uRDuiQyiE67NF8rviNNdkkDu/iPpVTPw0+/txJWuwouqYm1ZWXnqX0VGAQGNDwnLAL1ntdrBYTyUntSE2Kr/uN4MzdKLX/3TT2h7/4dANKp1W10tOzb2nSpEm8//77vP3221x77bW6CEVjFIWRQ/pwwyXn8+7ffiSsXQid+6UedJiGhi3Qyrl3DOeVP08jd3sh4e1DG37feWgK38mCP75cRXKveIxGIxoaq2dtomhvKeOnjsAoG1B8npP2KvUjoM+j4PMqmC0CVVPI3JhD/q5CzPaWhw4JBEXZpUy772uCowK46p+TsAVYG/I17S8VUH0KXq+v4ZPcPUXs25jT4BXSAKPFgMlmpHhfKT6fgsEg+3M+SQeXc0qf9gRHB/LHF6vocU5n7AH+9rp+0VZ2r9rHmJsHY6vbJ3bk9/B76ma9Pp8dP+/mgxceIyw8RPdG6bQONI3YyAiuGXcl//7f86Qm+0hIMKBPXdoYMsz62cncX6N59b7LkGRZ90KdQgwC2wk1pBr6J6AdMQWjjo7OqUFCYDktd7bb7dx888189tlnvPHGG9x66626MdW4ZiSJe2//E1m5Bbxx0yfc/MaVNBcDraLSfWwa3UansXTGGmB/UtkO/RIZfeNgfn1zEZVFVXTon0TB7iIWfryC9JEdGXhZXUicVn8Wza5raZrW/HrX4T7TAE3DEWyj14SuzPzfXF6eMo323WIpyS5n5/K9FO0tpX33uBZcU6v77tD48YW5bFm4k44Dk5jxz5/RFP9ytKpodBiQyDk3D6X3ed348P6veXnKNDoOTKKquIbtS/dQnFmKPcTmT8KORmC4g7TBKSz7ei1v3fYZAWE2gqICOf/e0QeUsUZ0agQT7xnFF3//kRev/oDuYzpRWVTNgo+WE50awZibhrSsYgV4XD5+ePE3fv3vAp558A6GD+qlG1HHgaqqlJWVERoaelD4pM4xFyqTx45hZ1YWdz/wKU//3Ux6urFp+JtO60MAEig++OG7Wl540c79k6fSJSXJvx9K7x+nDINEICoV6GLcOjpnLgITgtNnvJhMJq666ipWr16Nz+drRSXTCtA0AgPsPP/E3Tz2rzd47c8fEZ0WQZdhqQSGOhp5YMBiNXPeX0aBgNC4YIxmf8iTwWjgsscmEBYfwpIvV7NzeSYWu4mR1w1k/NThBIb71fkkWdB5qN/j1dweoKRe8X7BBouhUduBjgOSiEoOx2DYH1onyRJdhqUiGSSEJBBCcOEDYxCSYOUPG8jZmk9MxygmP3EeWZvzcNd4kOvOd4TZ6XthdyISw+r895DQPQ5XjRuzzYSqqQRHBdD3wu4IISjPr2x4HlVRcVa40DSNkdcOwOP0sOjTlSz+cjURCaFMvGcUrioXWZvyMNclMK4vH5PVyK4VmQhJYsClGQBEpUTQ54JufsOr7t3G3TaMgHA78z5Yys+vLsBoNpBxbhcm3j2S6JSIhuOSe7fH4jBjqKsH/9xG0D49lujUCKY9MIPKrRU89/BUrrzkXH2V+Djx+XxMmzaNiy66iKSkJL1ATtT4bDTw8LV/5vWvHEy951POO6+K88dbaN/OgNksWr61/UwMPGqF76RqUFOtsnmrl0+/crN5XRKPXn0b4wb210UlTkcTUTWn5mU7Gi69NM4CZGT+9rdX2b51L598+c+DN6frnKH1HoWBhDPjZXxOKNsC6hlmkAmB0+Xmoy9m8sLbn6FFyYz48wC6je5EWFwwRpNxf96XuqVi0cTM8v+f0+XCVePGaDZgt9sQByjK1Ys1SDQn1avVJRNvOnk61DkHfy7QNI3qylo0VcUWYMVk8KsDao2Oq/c6iQMC9Rrf+0hJIqR6FQwNampq8Xl8WAOsWIwmlLoA68bXFwhUTcXpdCNJApPZhCREs89S/xRuj5vaKhcGo4w9wIYkJLRGy/SNhS9UTcVZ7SZ3ewFLZ6xhxfR1pMcm8vcHbmJg3+6IM8mIMsj8PHsRDz71Mj9//hKx0S3MT2OwQEhnkI59r+Qvv/zCrl27uP3220/zOOSDbVuhtvaMGX9UTWPFxi18+NMPbM9bRVBIGSGhPozGI9sSosk4cpyPQp13HL9wi3aarlV/br33U1U1FAWMxpZd50Tcu/G5/s/A5RIUF5vw1cYypOswrpk4nvYx0U2NKCHYvGs34SHBRIaG7u+fAgorjHy5LIJbR+VhkI+ztiSNX9eHEhfipkt8DajH6AkTkFtqoqzGSHp8tT/L8XFUenaJP5S8XZj7pBvCBoEFiVAUcs+MwUBHR6cJAiMSYa3y2VTVr5Cmh+kAmobVYubmay9h5NA+fPjFTH54cRGz/vM7oYkhRCSHERBqRzYeXv1UNPxx+hwg4gj3F/hDGpUTtHoq9ltjLZ7wtXQidMSy1DQ8Ti9leZUU7CyiNq+WTnHxPD31Fi6cMJzg4EA9nO8EMmzYMJYsWcK2bdvo1KmTXiAncPyRgP7d0+mTnkZOQRE7s3IoLCvDe4QoAgGUVVXxw8KFXDZ6NBbz8UmpS0Ji1dYtWM1muiQloR7HQCYJwaqtW4kNDyc6PLzBODkSsiSxeMN6fl22lPv+dDU2q5WyykqKysvo2D6hRdeRhGDL3j3Uulz0TuuCqrV8HBBCUFhaSnFFOV2Skpvcz2Y2ExcZSYf2cYSGBPsXaXRP1GnDACATgUo5GmfIyoqOjk4DEuFIOFrls/36669YrVaGDRumVxT4Z+uaRoeUBJ585Dam3nA5a9ZvY9X6rezOzKF8TzVupW174oQQVFbVsCcrl25pKW3eiBYIzGYT3cPb03niMPpkdCY9LRl7gMM/udGNqBOK1Wpl1KhRzJkzRzekTgaqiiwE7WOiaB8X07JzZJnfly3j1elfMCCjK906dQLlOBQrZJmgIBuBdjvD+vY9/msFO0hLSCQ1oX3LDI66MWnl1k0UlZfRq2safbp1Iy8/n725eQzM6NGy68gyC1eupLyqmvNHjji695Ak9mRnk5Wfz7A+fQ6+X913hW5AnX4MAAIzBtrhYzca+v4FHZ0zBYkgZKJb7fOlp6fz9ttvU1lZyYQJE/RQ03pUFQFERYZx7jlDOPecIWiKgqqqbX6fjSzLfPX9bzz76oe8/txDxES1fJW4tSKE5M8BJkl1kxvt+CZ/Ooelf//+REdHo6qqPmacLLSjaMOqyg/z57MtM5Nf/lhMt9TU42//qlq3EKEc37Xq36P+p4WGVE5REb8sXUJZZSU/LVhIn86d684/iuuAfyFFVY7+PeqeW1PUo7ufzilH2v+PYGTiOQE5enV0dFpF53ZgoD2C1pu7qV27dtx9991s3LiRzz77DK/Xq1dcYxpNAgT+cBNZltv0j6Jq/DR3MWs3bGfp6k1IJmObfydJEn7jyaf4J066qMRJxWw207FjR92Iag0IQW5REb8uWwbAj4sWUVVV1bZV4ySJRWvXsmNfFgA/Lf6D8ooKPQRdp/nm0vh/ZMIxkojAfLaWh47OGYBAIgQDyQisrf5pQ0NDmTp1KoqikJ+fr1ffmYwksXdfLvMWr0ZRVb7/ZQGKRzeedXTacp/+Y906tmXuA2DNtm2s3rbN7509XQjhv3/9jxAgiYM/P8SPz+vl+wULGvaGbdi5i+WbNiMbDP5rtPA6R3vfg84Vkv/8oz234adu/3Fz1xXHc93G12v8ntJxPWvTv4/zWg31JI6uzI+BA9xPAolQjFhQyEehDD0zm45O20FgQSYSmXDaknfZ4XBw9dVX6yt+Z3wDFfy2aAX7svIAmL94Nbszc+iQkqCHrujotEF8Hg/fNTI6KmtqmLloEcN79Tptz1RSXk5ZVZVf1EYI8oqKsBpNSJp2ROEKSQj25OUxf9VqwC+kUety8fnsXwi0WckrKmJ3ZmaLBDBkSSInv4DKmhr27t2L7yjGOEkI9hUUkFtUzO69mUclVFF/fm5BAbW1tVRWV+9XAARKaiyUlBvYtW8fsnR8464sNPKKfKjuWixKGeoxqu1JQiO/0k6l04RVPfbr1F8rr8Kf7sVTU3vEawkECDAbTcRGhB+1p9vQ/EVtGEhEIgKVUlSq6pL2Kuj5pto+AvQJ65lTkwgM+NU3g5EIabMeZT1M58xvrq5aJz/MXtgwCdmXU8BvC1fQITVRLx+dY2LFihVIkkTv3r31wjjVSBI79+5lzbZt9EpLo8bpxGo2s2DNWvKKioiJiDj1Ya51anezly/HFBVJWHw7dnjc1LidFLtqj2iQSJLE4q1b6Dl8KBOio9izczepXdLYvXUbq2qqCIyJYrmzpklKiUMhSzJbPC5qvW6CXbUoassdE5KQKHA7Kfa4kF01R21IAajBgRQKgXBW7y8eoNKlkePzstJVg3SchpQkNHZ63RS7nZS7ao7ZABICyt2CGrdKhasW9TiajQB8Bg8AWU7fYWtKCAlXVRVF23fQIzGJ6PAwjnYmcpglawmJACQC6gQoPHXGlIpuTLVdBIIrLr+ZyspaTKIDujnVtmsTDHXJdk3AmWWIbN26FZPJRHJysl7VZwKSxKZtu1m6cmPDR5qm8cMvC/nz5ROxWs36V4vOURMQEMDnn39Oly5dsFpbfyjzmdetJV6+/35S27Xjgx9nctOkC1m/c+cJS21w1GgaaUlJ2K1Wlu7ahSkokMjOnUjs0pn4pES0Iz2XgMiePbDZbOTn5DLv51+4+tabqayowGK1YjSZWmwcSgaZCouJqspKOowegXIUyeiFJGHN3IclJ4cOgweiKicuVURpqcwej4OUEaHHnUdKkqB0uY2IcB/JyZ5jDiwQEhQVGqiskkhJ8aCd7OZT50woydxH4YrVjMroSfeUFAyyfNSXalHsj8CAf8Jm00eNM4Ae3QfohaDT6vH5fEybNo3JkyeTkZGhF0hbR4Of5y6huLS8ycfLVm9i49bd9O2drkuF6xw1aWlpREZGsmDBAsaNG6cXyImkfh9Nvcx2/T6SevVQVaVjQgIdk5IoKy9HkiSCAwMZN3iwXyTnNImuCKB9TAyhgYGs2LqV3LVraRcf7x+GjvRMGgQEBiKEQFEUVFVDVVUCAgPRNO3IhlhjVM1/v7rzjkadVGgamqbW3VM7ocqm/mfC/1zHeV3/62mNfo7xQioNZcXxXKdFzVrgdbnIXrMOsTeLUR07EhcVdcztVZfo09HRaZV07dqVa6+9lmnTplFVVcXQoUP1QmmrCEFZWQUz5/xx0K9KyiqY9dti+vZK18tJ55iYMGEC77zzDgMHDiQwMFAvkBOBJJFbWMhvy1ewausWKqprCA8OZmC3rozo04fQoKAmBlXDJFRrJdL/mobDbmdEr17szspi3+8LCDAYiOyYipCkQxoQh9r20OpTNAiBaMFzCiHO6q0dQggqC4vIXrqcBCHTt08fbFbrcRn9uiHVytEOWDE42zuBztlFp06duP322/nggw+IjIzUE3C2VSSJleu2sH7zzmZ//dNvfzD1hssIDQnSpcN1jprExEQGDhxIaWmpbkidCITg1yVLeeiVV9iZlUVSXCzBjgCWbdzI6zNmMKBrOs/ffTc909JOvEhMvdragZ8d6+VkmejwCLoGBVKyaStbsrKJyehOUHgY0gHXVRSF6spKJFkmMCjIP99qeARxTO8i6vcyH+3cTfi3YogWnutyOnG7XNgdDgzG5lOe+Hw+qiqqcDntIBzH/l5NXlFr2Hfvrzpx7NcR++v6aK/TEgNSVRRyN2+lZtMWBrRPIDU+3r83+zi/c3RDqhXjdDp56qmn2LlzJ0ajEZ/PR0xMDH//+98JCQk5rc+maRrr1q2jpqaG/v37YzDoTUnn5FCfa0o+hthlnVaCovDD7EXU1Dqb/fWGLbtYsXYz40YP1hPZ6hwTEyZM0AvhRCBJrN26lVufeQajQebDJx5neK9eWM1mqmpq+G7BAv76+hvc9swzfPXMM8RHRZ2wW/sUBZfHg0GScLpcGCQZZ00NynGMCZIk4XK7sFki6dS+Pfe//DLL//cSDz75d9p36tgwAdfQ+PaTz5g141su/fPVnHvRhdTW1OBxu6mtrj6me8uy7DdwnE5qqqqO6j2EJFFbU4Oztpaaqip/MvZDvaMss2D2HKa98jpT7riV4ePGoh5wL0mWWTpvAe+9+DIXTbkHxTiJ2upq5BOwR8rtlHDWeqmpch77HikBtdVGnDUGaqqcLbZtRJ3hbbZYDilYJSQJZ0UF+5atJKSymvHdexASFNQQRni86LPfVowQgpCQEKqqqpg9ezbDhg2jS5curULdTNM0nn/+eXbs2MGvv/5KUFCQXmE6J42AgIADe4deKG0FSZCdU8ic+csOeUit08X3vyzknBED9Jo9ozl5tatHapwYVJ+P12fMoLCsjC+efpoJw4c17HeymM3cePHFeH0+7vr3f/hk1s88fN21J8aLLARFZWXMWrIELBa2ZGVhNZupMMrHJVwhhKACjar8PDaWlrC7qIg927cz79vvieiYSkBUFEISLP3lV377fiYZwwZjDA5iyfIVFObmkZmVxZJlK46p6UqSxK7NW3HV1iIHBhzWGGqur9RWV+OsrcW1dPlhVQKFEJRWV1OQn8+XH3yIsNmQDU0XHjVVZfr708jPz6fC5aI4L5ulK9Ydt2qfEBp79iQQkFdNbn4J2nHIlnu8RhSfgbwCZ4vLqLq4GJMsM2TMKAKDg5t6poQATaNo126KV66ha1g43fr08S/8n8DIB92QasVYLBYeeOABunTpwty5c5kyZQrXXXfdIY93Op34fD5sNtthV+8VRaG2thaDwXBcKkc+nw+vV0+mqXOKEdJxhXronGIkiYVL17BjT9ZhD/ttwQqycwuIbxfNcWnf6rTmzou+CNKaq0eQW1zMnOUrGNStGyP79mkqGlG3H+qikSN56Ysv+emPP7jz8suw206AEJmmERUayqBu3ViZmQmBDmJ69yJpYH98R6F21/xr1bU5DRwLF2DdtYuxV12BZrVSicaaxUv4beYshk2+lGv+/ihmqxWEwLZzN0U1NaSOH3tMrVaSZdyBAdRWVNBh/DhU5VjeQ9ASOdNkVWXlilWs+30+jo4pxKelodXJrQtJIm/3HjL37KX3uLH0vvxiVvzmIHVcxHF7pIQErqVWQiJ8tEvxnny1vbp2qnh95KzfiK+2lm7du+GoEwNpXOcel4vsVWuRs3MY0zGNmMiIE+aFaoxuSLUBDhX7uWDBAmbMmMHkyZP5448/mDlzJtXV1fTs2ZP77ruPtLQ0ALxeLy+//DKKotCzZ08++ugjNm3aRGBgIJMnT2bKlCkNBtWCBQuYPn069957L0lJSQ33Wrt2Le+88w633HIL3bp149VXX2Xp0qVUV1dzxx13YDQaCQkJ4aGHHiLqBLr6dXQOQsggDIBHL4s2gNfl4ftfFuLz+b/UzSYjRqMBl9uD1WKm1ulCUVR27c1m/pI1XD15Iqh6eN8ZiWT0z7xOIm63m9zcXBITE3Uv1VHXj0R2QSH5JSVcOno0Vovl4D1QmkZEcDBdkpNYtnETxeXl2O32E3R7ibSkJGLCw9k3fToFW7fh65WByeE4OrW8QyCEQJJkv5FktxOX0J6vP/+Sj5/6F71GjeDqvz+KIyQEVVWRJAmD2YRkMGA0H1tuRtlgwGA0IhuNGC1mFN/JC0+XDQb6nzeexd9+z+Yly0jpmdEgty4bDGxbsYrqsnIGnDcBi92OZJAxmM3HH9ong8FoxGCSMJqlk5tXvW6vWE1pKZlLVxCgQa8Rw7EHOA4yoiryC8hZuoIko4k+ffr62/JJ2n+rZ8Bsw2zZsoXXXnuNKVOm8Omnn9K+fXvi4uL49NNPue+++6isrAT8HqhZs2bxxBNPcNttt1FQUED37t0pKyvj3nvv5d1332245ubNm/nggw8oLCxscq/MzEzee+89MjMzAb/3y+v1oqoqVVVVVFZWUnWEOF4dnROCJIPBopdDm6grie27Mlm4bA0dkuN54Par+eaD5/nHw7eRktCOL976J9NefpyrLzkXh8PGtz/Nw+N06eV2pmKwnnRDyufz8fHHH5OVlaWX9zFQVVuDx+slLCjwkJ5/WZYJCwyk1uWi1uU6sRECmkZQcDDdUlIJq6ph7y9zKN691/+747xPk8m2JLFk3gLeff6/DBg6hCm334q7rAJP3ftodc9you53spPkqapKl4H9iUpMYPlPv+Csqm4oL3etk+UzfyY6KZFO/fs02j91Ap5JO0Xp/4RAU1Xyt25j95x5JIWF02fQgCZGVL2gRNba9RTOW8jgqBiG9OhxUo0o0D1SbR5N07j00ku55557iI6Oxufzcf/99/Pee++xdetW+vXr13BceHg4r7/+OkOHDsVsNrNv3z4uv/xy3nzzTS677LKj8iTdd999rFy5kh07dvDBBx8QXBeb2hr2b+mc6QgwBoCrVC+KNlBV1TVObvjThVw7eSKJCXEIkxHlp3lYLCZ69uhMdHQEl184hsXL1vHbopXUOt2YjiLppU5baQsCTAEn/TZ2u53evXsza9YsbrnlFr3cjxKjwYAkSbg9hw7b1zQNt8eLQZYxyCdhGqn5Fdx6dOhAp/btWbh8JZX5+cT3ysBoNh+3FLkQgtVLlvH2f14gtn08Dzz9BCFhYeQVF1O4czf22BgcoSFtKoRcU1VCYqLpNWYUcz/9gn1bt9GxTy8AcnduZevyFYy66gqCIyIoL25bY6uQJNzV1exbsRpRVk6/Pr0ICQ9vomotJInasnL2LVtBRI2TURk9CQoIOCmhfAeiz3rbODabjYsuuojo6GgADAYD/fr1w+PxUFxc3HCcqqqkpKQ0GFEA7du3Z9KkSezZs4ddu3Yd9UBUHzYhSVKdy1xvTjqnCFMgyCa9HFo7ikq/nl14/MGbSEpsh6jPMVOfnFJRwOfDKMsMH9KHxx+4ieBAh25EnYnIVjA6Tsmthg8fTm5uLjt37tTL/WjQNCJDQgmw2diVk43WnMqcENS6XOzJyyMyJISQwIBG/VVrup/quH78BltUVBQTevchqriMHT//SmVBYZPnbfFPw+MLykpKeO2Z5ykqKKCsuISivAIkSSImPJzk0FA82bmUZeegeH11tznGd4CGJLWadiLK5PA/kiTRZ/w5+Dwe1syZ2/AMa3+fh9flps+4sQhJ1D1L3Q/HeV8a1RdHXx9HRAhK92WxffZvhAnBgGFDGoyo+t8DFOzYSebs3+husjC6T5/9RtQpQPdInYHYbDYkSWpRmF18fDxer5fSUn11X6cNYbCCOQRqC/SyaOUIIeq+tI8wHqnqQXlddM4gLGH+PVKnALvdzogRI1i8eDGpqal62bcUTaN9dBRdU1JYuGYte3JzSW7Xruk+KUli3Y4dbNixg8vGjCYsKAiXy8X8NWvYum8fv6xejclgOKzK3JGQhMSWnGwsJhO1itLgeajMyeHnTZsJSEkiIDICIST8g0vLx42C/Hy8Hi9xSQkMHjuan7/+hn/c/xBX3HwDoRH+CbrH66O4ooKCkhKyd+9mzdx5x/YekkTW1u24amsx2awHSZKfaIQQ1FZVERobzaIZ3xLfJQ1Jlpn/5QxCYqKpLC1l5a9zqa2ykLc7iTW/bz0Bqn1QkB1Caa6bwszaFtkuQghUVcXncpPUvStRCe0P8jIKIfB5PGSv24Azcx/du3Qhul1cXTOt90IJPLVO9q1cjTmvgHM6pREVHn5KvFCN0Q2pM5Cj2WDr8/mQJMkfStNkPNVXhHVaOdZIcFeAou+p0dFp1RgdYA0/pbccPHhwwz5hnRaiaTgcDq497zxufeYZ/vn++zx3552EhoQ0SEnvy83lqXfexWgwMGXieQiDAVOdAEWN10tFeCixnTqAOPa5rAB69OtZ92/RYCqlib4kut1kFRbiNJkIaheL4SiFIIyhIQSFh3PlE/9HTFIiURndef//HueLDz/hlv88Q0h0FJqqEikJHNt3UlRaSmBqMma7vc77oR3VmwR37oSmaRhMJk7FbiJJlul32cX89L9XqdU0TAYDOTt2MfHeO2k/dDCa4qO6zEhecRAR3Q1IhuN/pvAe9QatdsTyEELgrKhk34pVOOw2HMFBB50lJInqomL2LVtBkCyTMXgwNof9IEGJspw88patINVio1efvljM5tMSzaAbUmc569evJzAwkPj4eH+DMBjw+Xy4XK4DxteDG6cQAp/PpwtM6JweDFZwxEJlJmi6ypuOTqtEMoIj7pR5o+oxmUyEh4e30kJpxWgal48dw9rt23nz66/ZlrmPC4cNIzI0hKyCAmbM/Z09ubk8fdttDOreDRQFSZbpkpJCalQ0ptx8yixm4nv3xGS1oh2zHnb9gvBB02wiExMoLC2joLYGU2gI9pBgjiwT7r+e2W5HNhoIjo0hKCaac66fQm1VFZ/98zl+eOtdbnr+X9gCA0CA0+kiNDyc0LAwfLKMJTAAyWDgaI2p5t/jJHU3SabPpPOZ8+a77F6zDpPVgslqofek8wmJi0XTFGSrhCXQSHA7C7LhVBke/nIo3rOXoq3bSO7ciYQunZENhqZiEapK/qYtlGzaTIfkZBJSU5AkqckxitdLzoZNeLbvZGhSMolxcf6rnyYHgG5ItQHqDRX1OJPSVVdXU1xcTHR0NJqmMX/+fL788kvGjBlDSkoKALGxsaiqyoIFCxg8eDAAO3bs4PPPP2+Sy0GSJMLDwyksLGTv3r2EhITgcrkwGo2HzWGlo3NCsYSB4oGaXE5NAgsdHZ0WI2RwtAOTnrC9zaBp2CwWnr7jdjI6duDDn2bx0hdf4PF6KamoICEmmo+ffIJxAwciSWK/faCqBAc4OLdXbzbv3cOOn2YTO6AvwTHRxxjhoh3ycwFEh4Zgt5jJys6jtLKKoJhoJKPxMJPpRnu38Isz1Mucn3/7zVQUl/DjG28TEBbK1f/3iN8IVFVkSSLEbqfG5aKmpBRjgAOjxXIC3uPkoGgKcZ3TSO3Xl6VfTEcyyHQY0J+YjqkoPp/fsahqDTnBTsXXphACr8tJ1uq1OAsKScvoQVhszEFiEa6qKvYtX4VcVUW/fn0JDg096JiaklKyli4nyuNjQM9eBDhO/55a3ZBqxdTW1vLYY48xf/58fD4fL730EitXruTpp58mtK6BtRRJklizZg0TJ04kMTERt9vNypUrSUpK4tFHH20I7evbty/9+/fn+eefZ9GiRciyzK5du5o1kMaPH88nn3zClClTSE9PR1EU/v3vf5OQkKBXns4pQoAt2v93bR6ovrO+RHR0WgWSyW9EWcNO+6PUh7DrgkgtRNOwWyxce8EFXD5mDEVlZVRU13Dbs89S7aylX7du/pA6RWmygKVpYDGbGdS9OzHZ2Sybv4iqTh2I7ZbexPNwQh4RCLDb6WA2k1tcTMnO3QS0i8MScPiJtTigHWiahtFsZvLD91FZUsKst94jJCqSC++4tUHIQAiBw2rFZDBQUVmFz+3BEuBAtMb2pGmYHXZ6XTCBDXPmIoRg0iMPYrLZUH2n/vuxPqfTvuUrCQoIoOfI4Zit1kZiEf4/SvZmkrtqDfEREXQYMgSjydhEUEJTVQq2bqd87XoyomPo3DXJPydtBdtQdEOqFSNJEvHx8QwbNozRo0fj8/kIDw/HYPBXW8+ePbn33nuJjY1tcl6HDh247777mmyyVVWVrl27cs0117By5UpkWeaee+7hT3/6U5PEuxEREbz++uu8/vrrbNq0iaCgIJ588klSUlL44YcfmlzznHPO4d133+Xbb7+lqqqKzp07ExAQcIbXik6rQ0hgj/aH+tXkgLeWU70KqKOj09Ah/TLn9rhTInfeEmbPnk14eHhDOhCdRkgSNPYsHYDN4SAhIAAkiUtGj+avr73G1GeeZUhGDwpLy5gwdAgDe/YEgwEhCZAlhMFAclISUeHhLNu8mT3FJbTr3xdbSPAJf3yLLJMUF0dwZSU52bko4aE4IiMOaTSPv+l6Bl4wkdDoKCRZ9r8/EBAayg3P/oOBF0xsmOjLsowkSch1cy6rwYDZbKbK6cRVWYUpMKBu71Mr64FCMOCyiwmJiUEIQachg5CEQBgMIEA2CIQsIxkNHGsAkaZphxXPEEKg+HzkbdpC6Y6dJHXpTExykt8oahSm53W7yV67HndWDhld04mKiz3IC+WurmHfilXYCosZ1yWdiNDQUy4ocdjy1nRVgTMel8vFhAkTEELw008/YTKZUFX1sCF4qqri9XoxGAxHDNVT66SM9ZA+ndOO6vXnl3KVgK9WD/drjRhkfpw1n7898wY/f/UK0VERej21uTo08PMvC3nw8f/xy+cvERMTAZoERrs/3NYcAlLrWafdtGkT06dP56GHHsJiOUHJvH0+2LYVamvbbDWqmsb8VavJLMjHIMuoyqH7oRBQXlXFq19NZ9u+fXWfCW65aBJDMzKoqKnht+UrGD9oICaD0S8QIUBRFDbv2UOxphLXo86TdcKnnQIhwOX2kF9WijE4CGtwcLNH1qdrURWlTllw/x4mISQkWQLNP68pKyhg99r19Bo7+oCcUhoutwenz4fZYfcbZK0MIQSSLKOB3+Bp5AFy1VjI3hJPcs9dR63aJyQZVfERkZBAp6GDmhU3q8/plLl8BUafQsfevbCHBKM12p4ihKCysIisZSsINZvp0qM7VputqddSCMqycshfvpJOjgAyOnbE3ApzDOoeqbMQIcQRjR5JkhryTR0JPVxCp9UgGcEW5Z/M+Zzgq/H/rfrQvVStBFlGGB1UVtXw/cx5hAQH6Cqhba0KJYlV67eiaAKsERCQALLN7xUWrW9SmZ6ezty5c/njjz8YPXq0XoF1CCHYlZ3NUx99ROyYESQN6FeX4+0Qx0eF0vvR++nZaEJcDvyAgPAgDO0vYI4QNJYjFwJEbASqqrJTiJOa5FaYDGgBNpyaRqV6CG+JejhhIhUa/VoLDSVmxFAKNPXgrw+jAQwyHp/PH+LYZtDAoBCVkUOVr+WKtwIBAnYvWcTuhYuZ9Mj9pA0bfGCDAk2jcMdO8tZtIK59e9p3SfOHdda1mXojNnfLVsq2bKNTairxyUkHCUr4PF5y1q3Ht2sPI1JSiY+JOa2CEodDN6TOAiRJIikpqUkSXR2dM7vRG/xhRQ2hRfpEvfUgEI6tlJRX89pHMzGajHr1tL0qRFFUOnRKxxiSBJbWr443YcIEpk2bRv/+/XE4HK3+eU9RNXLDpAvplJjAS3N+RTYZ6XfFlZgtNlTUw55Xj9512yotz78lIeF21rDs008xyzK3vvsGHQf1b9omGnI6rcFTUkJ6n95+KfkDwvScFZXsW74CU62LAf37ExgSfNAxVcXFZC9ZQayi0r9Xbxx2e6tO0q6H9p0N3UXTGvJpBAYG6saUjo7OaeXHH3/kkUce4auvviI6OlpPodBGkWWZgICANhGVoGkaixYtIj09ndDQ0OO/4BkQ2teoIskrKOClGTNYbTMz8O47iE5JRUVPK3G2IyGTv2MbC15+g8AAB2NvvYmQ2Jgm+6OEEJTn5pG1YhUhwcGkZHTHZLE0EYtA0yjZm0ne6rUkREeT2jkNg9F4kPR5wbbtVKzbSO+4dnRKTPSPLa3cTNE9UmcBQgiCgnT5WR0dndaDJEkEBwcTfIi9DDo6JxIhBEOHDtULojkUhZiICJ688Ua++/133nno/0iYciXdJ4xHMhjQ0Bc6zrr+goTi9bHux+9ZP+Nb+p0/kd4XTEQ2GhuMKH9OJx85GzZSvnsvKV27EJWYcLCghMtF1uq1ePMK6NWtGxF1kvjNSZ8HlJQxvms3wkJCWpWgxOHQDSkdHR0dHR0dnbMZTcMoy1x6zjl0TUnhP5/N4Jc16xh8280ERUbp3qmzCAmZioJ8Frz+Fp6iYi5++AHiOnfyC4vV73WSJGpKy8hctgKzEPQcMRR7YCBqIwMKIajMLyBr+UoibDY6DxuCxWZDU9WGyCgNKNmbScGK1XQODKJH376YDpsPrPWhG1I6Ojo6Ojo6OjqgqqSlpPDCbbfxwY8/8t1fHqL7HTeTOmAACOqU7k4/Ar+ohe4tO8FlqsGOPxax+M13Se3Zg6F33ILF4cDrcjUcpWkqhTt2krt2Pe0SEohP64QkyTirqv1HCIGi+MjduJmS9ZvomJpCu8QE3FVVuCqr6q7iD7ct3bMX9mYxqkMH2kVHtxkvVGN0Q0pHR0dHR0fnrKG8vJy9e/eSkZGhF0ZzqCoOm407Lr+cXmvW8sK/XyJn9Dr6T7kaq8NxWCGKU8WKz76gcPtORtx1O/aQkIMMPIHEmq+/Yf13Mxlz/93EdeumG12HQULGWVXJ0mkfk79sOaMvu4Tkvr3B68NbWuaXpZAkPDU17Fu5GqWohE4dUwkMCMSbk9ugOiIkQW15BVnLVmArKaNbdDT2nHxqsvMOuqemacTYbPTs3Qe7zdrmDKh6dENKR0dHR0dH56xixowZREREEBcXpxdGc2gaAhjUuxep7eN55euvmfXgowy4+w5iO6Wd9lC/LbN/Y+uc3xlw3TXYQ0LhIENKUJ6dw56ly6ktL0cgdIXBQyAhk7tlMwtfeYOYkBBufPLvBEdG1OUI3a9YX5adQ8mK1XQIDaFj/wGYzKaDBCWKdu1B2biFixOSSR+VjEGWD5veQpKkhnPbKrohpaOjo6Ojo3PWEBwcTN++fZk1axY33nijXiCHQ1GIDAvjseuvZ+aCBbz56OPE/ukyMi44H9loPK1enqYZq5qiojDohmvpc+XlWIMCGww/QSOFSQ18XjdCkjAYTM0YhwIJCUX1oXi9SAYZg2xCQ23kAfMfo2oKiuJDALJsRAjpgOv5j/OXl6h7Dq3uP/U0lZ+E4vGw+tuv2frtDwy/8Dz6nnsOksHQoKQqSXU5ndZvoGZPJt3TOxPdrl2D8SOEaJA+z1q1BlNOPuPSOhMVHt5gHB1RKbqNi4frhpSOjo6Ojo7OWcXIkSN57rnn2L17N8nJyXqBHA5NwyBJXDhqFOnJKfzn6xn8vGYdg6feSkh0bKsUohBI5G7azNZf5zLwumsIjo3D53WzdNonGIxG2mV0Z+VnX5G1Zi0mu52el0yi12UXI5uMdef71eY2zvyZdd/+QEVePtagQLqcO5Y+ky/DEujPUeisrGTZh5+wb9UaqouKEUIQHN+O7udPIG3MKCSjAYGgIj+fxe9Oo9OI4YSlJLJp1myKd+0mZchAupw7jlOdkUtCpiw3hwWvvoGhvJJrHr6f2NQUVEVpIihRXVzCvmUrCBQSg4YMwuZw+D1MjYyk8pw8cpetJMVsoXffvljM5jZvHB0NuiGlo6Ojo6Ojc1YREBDAqFGj2Lx5s25ItRRVJTUxgf/cehsfz/qJr/7yMOm33kjHoUP8DopWFDwnkNi3YhW/PvtfOo8bQ0hsPIrXx/KPPiN/y1bsYaGYHQ6CoqPIXb+Rrb/+hpAk+l15BSoqXrebn578F0vem0bK0MEk9utN8Z69fPfwY+Rt2sykZ5/GZLZSVVDIorfew+ywE5aYCMCuRYtZ+dmXXPLfZxl03Z8RCKoKCpn735fZs2QZNSWlFO/eg6aqeGqddYbUqSoXgabC1gW/s/K9D8no15fh99yJxWZrImuuqir5m7dSsnEzqUmJJHZIRZKkJrLmis8vfe7ZtpOhSckkxsX5vU9nWXpa3ZDS0dHR0dHROesYOnQoPp9PL4ijQVWxWS3cdPHFZGzYwH9fep3cNesYcP0UbAFBrcw7JRr9uR9Jkhj3yAN0v2AilsAAcjds4vXzL2X1lzPoeelFGI0Wtvwyhz/efo/znnqM/2/vvsOjqtIHjn/vzGQmvZEekpCQhFAkhNAElI4giigqNpoIgq4VXASVFVHWiooCoouFsj/XVSlSpQoK0qskpJFCEhJInZRJptzfH5FZhhCKQgR9P8+zz5p7zz33zrkzw33nnPOem8aOQavVY7VZ2PDOu3z/xju0v3co0V274xUazNiv/4130xAMru4oaCjNz+Xju+7j588Xk3jvUJzd6nqvVFROHDxMj789SptBA3FyccbJYKCxeqM0aKkqL2X7gi8o2n+QO0aPILZDIqqqYj3zOdBoMJUbydq1B01pGYkJ7fBu0gSb1fq/RXgVBVN5OSd27iHAVEuXhPZ4urtflxn3rgQJpIQQQgjxl6PT6dDp5DHosv2aiKJT27bMadqUuUuXsWbiFDo/9RhNW7f5NavftflArdqsNG0XT8f7hqHV61CBoJZxBLWMozQ3D0uNCa2TjoPLVuAREEBMj+6UFRag2mxotFrC2rdDtdo4sf8Q0V27Y3B1JygmltKCfE4cOEx5QQHVJaWoqkrF6dPUVlfj7Ob567lVuo8dzcDJzzvMs7r6c6Tq5mflHD7ET7Pn4avRMOShB/Dy8qboWGrdrfo12izOPkHez7vwtliJaBZB0c+7OV0vOFJRTLW0Cw6mZetItFrtXzKAsn+PyDeCEEKIxuTl5UXLli1xcnKSxhDiemWz0cTHh6mjRpL400/MnfYqufcMof1dd6LT66/ddOMKDoGMotVgcHej4vRpVBXM1SZOH8+kKDOTBfeOcOjSsprNmGtqqK2qQkGhsrSEze/PYe9/vqamohInFxf0Ls6UnMjFMzCQswNKRQG9uzt1Z7c20kvVYKmpYffX35L13WruHHQr7bt3Q1Hq1oOquy4NltoaTuw/RODxLAZ36kxgkyagqg3ERypOTk64ubr+ZXuhziaBlBBCCACsvw7d0Gq1V/U8Xbp0oV27dri7u19X7aP+mqVK/PmUl5fj5uZ21d/7fzqqilZRuLVHD1pFRjHrm69Ze+AQXZ+YQJPQsGsyEcW5lHMG/6mqis1sISA2hsGvvYz23B98FAX/6ObYsLLlg3msf/Nduj86hg733Y1ncBAGNze+fvrvZO7ac972aqywQ4OWopxstn04D9/yCp555ilCm0X8mtb81+8yRcFYeIoTP+8mDIVO3brheiZAuoR7LySQEkKI381isZCenk5tbe1Fy4aGhuLr63tNXX9ubi6fffYZe/fuRVVVRowYwV133XXVzufk5HRN9EadOHGC4uJie3CkKArOzs74+fnh5eXlEDQdPnyYDz74gHHjxtGhQ4crfi2ffPIJx48fZ+rUqdddgPlnsGzZMuLi4ujUqZM0xm9htdIsrClvjB/Pl+vW8X8TpxA3bjRxPXuiaJSrmIhCOef/z/fX5VBxcjbg3TSUnP0HCG/XHp+QUPsixHUp1+tSm5sqjSSt20DTdm25ffo0nD08UbGhoEGnN/xht6IuoYTKLxvXc+izRfTq1In+E27H4Oxs/7FMURRsViv5SceoOHKUTk3DiYkIr1vXySYLF18OCaSEEOJ3KioqYuTIkaSmptb9Q3QBs2bNYvjw4dfMtVdUVPDUU0+xZcsWbrrpJrRaLUVFRX+J+/bWW2+xaNEi9Hq9QzAVEhLCww8/zJgxYzAY6h6IcnNzWbx4Mf37978qgdS2bdvYs2cPEydOlEDqD9CuXTuWL19OfHy8/Z6Ly2Sz4WIwMPqOO2j3SwzvzPuUjfsO0vWR0bh5+1zx3ilVVamtrqa2uso+TK2OgsHV7bdFUypoNXpuuG0gh1asYvOHc7hl6iRc3L0AMJkqydq1F48Af5o0i0Cj01FVWoqpohxnDw9sNgu5h45w4tAhFE3j915r0FJRUsz2Tz7FfOQo40aNIK7tDXW9bGelNa8uLydn5x68SssZ2DYeXy8vGab3G0kgJYQQv5OnpyeTJ0+mrKysboFCReHzzz9n3759vPDCCwQGBtrTxnbp0uWauvaDBw+yYcMGZsyYwRNPPFGXwcl67Q/HuRLKy8tRFIVXXnkFf39/zGYzp06dYuHChTz33HM0bdqUwYMHOxxztYb2nXnfiD/GDTfcwKZNm9ixYwc9e/aUBvmtfn0YT2jdig9CQ5m/bBlrJ06mw5OPER4f/2vP1O9/WFcUhfKTBXz2wCh0Zwe+qoqrjzf3z/8ARan7UcvhbOc5/bm9ZSo24ofcTsaOnWyePYf0n3YQ0bE9qJB7+Ai5Bw/zwMcfEhLXhnZ3DWbZ5Jf4173DCUuIx1h4irzDv1B+sgDPoED7uVS4yvk3FBQUsg7s5+e5H9M2OIQ7X5yCl49P3ff5r98vqs3G6YxMCvfso7WPL207dKgbHSAB1G8mgZQQQvxOLi4u3HnnnQ7bduzYQVJSEkOHDnVYpyYvL4/s7GzCwsIwmUwUFBSg0+kIDg7GaDSSnZ1NQUEBtbW1eHl5ER0dTWBgoP0hW1VVcnNzUVWV4OBgMjIyOHbsGAaDgfj4eAIDAx2uw2w2k56eTmZmJgBNmzalWbNmuLu7U0IOJ5MAADPTSURBVFlZyd69e7FYLPj6+pKWloZWqyUsLAwAm83G8ePHSU5Oxmq10rx5c2JjYx2G5RmNRk6ePEloaCjOzs6cOnWKiooKgoKC0Ol05OTk4Ofnh1ar5eDBgxQVFREZGUmrVq3Q6XScPn2aQ4cOYTQaad68OS1btqw3T8VsNpOSkkJ6ejqKohATE0N0dLQ945rNZuPEiRNotVpCQ0OprKyksLAQg8FAUFDQBXsJXV1dGThwoP01A0RFRTF48GD2799fL5A6l9lsJjU11d52LVq0ICoq6rznLCwsJCUlhfLycgICAoiJicHLy6vBum02G7m5uVRXVxMeHo6zs7N82K4SRVG49dZb+fLLL+nSpYu09e9ls+Hj5clzI4aTuONnPpz+Onl3DiLxnrtxcnb+3Ykomt/UzZ6OW1X/1/mkouLs6YFGpyOwZSydHroPd78mqNjQ6rS0HjQAJ4MBRatxuPcteveg4nQRWr0TKjYM7u7c+cZrRHW7kcMrVpLx08+gKDSJCGfwzOl158dC1zGjAYW9X31D+o/b8Y+J5o7XX6EsL5/i7BycnJ0BFTdfHzo+OIyQNq2ueBIOBQ1mk4ndX35F8qcL6ZmQQMcb2nDq8C+klJfjYjBg0OsBBXNVFc7FpfSNjSUkIEB6oa4ACaSEEKKRWCwWJk+eTFFREY8++igff/wx+/fvJyIigq+//po33niDxYsXo9Pp0Gq1mM1mQkJCeOmll7jnnnuAugf35557joKCAuLj41m2bBklJSXU1NTQvn175s+fT5s2bYC6IYfTp09n2bJl9qEdVquVLl26sGDBArZu3cqMGTOoqqpi4sSJ6PV6mjdvzn/+8x+8vb2ZPXs2c+bMwWQy2QODBx98kBdeeMEeAGzZsoWnn36a6dOnc+TIEZYuXUpZWRmzZs0iPj6eoUOH0qdPH7Kysti5cyfV1dW4ubnx/PPPEx4ezptvvklaWhomkwlPT09ee+01Hn74YXubnT59mhkzZrBs2TJ0Oh1WqxWbzca4ceOYNGkSzs7OVFdXM2HCBLy9vRkyZAjz5s3j6NGjxMfH89VXX10wWDkfk8mEk5MT4eHhFyxXVlbGzJkzWbx4MVAX+BgMBh5//HGeeOIJ+8O41Wrlq6++4s033yQvLw+tVovVaiUmJob33nuvwaGCa9as4bnnnqN///68+uqr8gG6yqKjo6/q3MC/HFVFC/Tr3o24yGa8+803rDlwmK5PPoZ/RLPfNdTvxtHDuXH0hYdIewUHEdvz5rpLwYZWr+eWKZPqlVM0Gm5+/FHHS0dF7+5G5wfup8OwuzGbqgEFJ2dntFo9KlZUbOjdXOn1xON0HTMSm9WC3tUNnU7v8NpsWPEJa8q9H86yX8uVokFLYeZxdsyeQ8vicv426mF8vb2orK4mOTOTcHd3woI80NjqQk2dmwehkc1xdXGRAOoKkUBKCCEaUVlZGZs3byY9PZ3ExETGjh2LwWBAr9dzww03MHPmTNq2bYubmxu5ubnMnDmTKVOm0KFDByIjIwEoLS1l69atKIrCtGnTiI6OZvv27cyYMYM5c+Ywd+5cFEXhk08+YdGiRUyfPp1+/fphNpvZu3cvGzduxGg00rVrV8aMGcN7773HE088QWJiIi4uLvj4+LB48WJmzJjByJEjefjhh3FycuLbb7/l7bffxs3NjWnTpqEoCtXV1eTk5DB16lQiIyO588470Wg0REREUFNTw8mTJ/nqq68YNmwYTzzxBDabjddff50XXniB0NBQ7rjjDmbOnInRaGT69Om8/fbbDBgwgJCQEMxmMy+//DLfffcdM2bMsC+gumjRIt555x2io6O57777UFWVkpIStm7dyv79++nUqRPdu3fHy8vrousEmUwmdu7cSVZWFhaLhaysLObOnctdd93FkCFDLnjs+++/z0cffcTEiRMZOnQoFouFBQsWMGPGDHx9fRkzZgwAq1at4m9/+xvdu3fnnXfewc/Pj5SUFBYtWkROTs55A6nvv/+exx9/nI4dO/L888/LvKlGoNFo7D9CiCvIaiUsJIR/jhvHf9dvYNFzU4keM5JWffug0WpQr9E1p86kKVe0GvRu7mdtsziUURUVvZsbSt1fjZKpUEHBZrVx6Ps1pH+6iFFt47nrnvsxODtTUlJCSXk5NyUkEHrOCAWgLpmEBFFXjARSQgjRiFRVpUmTJnz00UfcfPPNDsPYxo4da/9vi8VCixYtyM7O5tlnnyUtLc0eSFmtVtq2bcvixYsJDg4GIDExkbVr17Jnzx4qKipwd3dn3759+Pv7c88999jLtW3blmHDhtkz5yUkJKDVaunUqRP9+vUD6uYOffLJJ8THx/PKK6/g7e0NQGxsLMeOHeOLL75g1KhRRERE2F/TiBEj+Pvf/46np6f9NezZswdVVXnsscd4+eWX7cMTT506xU8//cSzzz7LhAkT7OXT0tJ4+eWXyczMJCQkhIMHD/Lf//6XadOmMWLECHu5SZMmsX79epYuXcq9995rv4awsDAWLlxI+/btL5r0A+oenE+fPs348ePRaDSoqkpVVRVms5nw8HCOHz+Oj4/PeY/Nycnhiy++YNCgQTz//PPo9XoAZsyYwaFDh/jXv/7FPffcg16vZ+7cuQQHB/Phhx/ahxC2bduWAQMG1JuPpigKmzdvZvz48XTu3JkPPviAgIAA+eCI65vNhkGv56HbBhEfE807CxaxYd8Buj76CB6+Ta6DNOnqRfc3Zlrz8qLTbP/oE3wOHWXWXUNp3aIFqtXK8exsCotLiItshpe7u2TgawQSSAkhRCOy2WyEh4fTuXPnenOBioqKWLVqFZs3byY7Oxuj0cipU6ewWq3U1NTYy6mqiqenp8NDvouLC0FBQRw+fBiz2YyiKLRp04Zly5bx1FNPMWTIEFq2bEmzZs3w9va+YGKD3NxcUlNTeeSRR+xBFNSlLe/RowfffvstaWlp9kBKr9dz8803OwRRZwsICHA4n7+/P3q9Hj8/P4dyQUFB2Gw2TCYTAAcOHKCsrIz9+/czffp0e9apMz1QGo2G6urqulS+NhsxMTEkJCRcUhB15l74+fnx0Ucf2c9dU1PDsWPHmD17NsOHD+ebb74hLi6u3rFpaWnk5+fTo0cPexAFdYsNd+vWjfnz55OXl4eLiwuHDh1iyJAhDvOwgHq9TIqi8MMPPzBlyhQ6d+7M7Nmz8ff3lw+N+HP4dT7ODS1a8P6Ex/jXiuWsfXYy7Z8YT7PExCuWiOLPqy6hRPruXRz4cD63NglgzIQJeHp6UmMykXT8OFqtlvYt43DS6aTXqZFIICWEENeAgoICHn30UbZt20b37t3p2rUrISEhpKSkMH/+/PMeo57zD6VOp3PYNn78eEpLS1m2bBlr1qxBp9MRFRXFY489xogRIxpcy6myspKamprz9sb4+Phgs9koLy//za9Vq9XWZZA65/rPbD+juLgYq9VKZmYmpaWlDuVbt25tT0xhtU86v/wHB2dnZzp16uQQ5PTt25eAgAAeeOABVq5ced5Aqry8HKvV6hBont1GNTU1VFZWYrPZqK6uvmhApNFoyM7O5umnnyYvL48JEyZIEPUHys7OJjMzk5tvvlka40qz2fDycOeZBx4gcfce3n/tbXJv60/H++/D4OKGBFPno2CqqmD3kv+jes0GXuzfn5s7dEBRFIpLSkjJyiYkwJ+wwMC6xBsSRDUaCaSEEOIasGrVKtauXcu7777L2LFj7XN7vvvuOz7++OPfVGdAQABvvfUWzz77LKmpqRw4cIAlS5YwadIkYmJiGnxIdHV1Ra/XU1paWm/fmRTvjTFnx8PDA71ez0svvUSPHj3sPVJnnEkZXlFRccXPHRERgV6vp7Cw8Lz73d3d0Wq1lJWVnbeN9Ho9Li4uuLi4YDAYKC4uvug5q6qqmDBhAsePH+fVV18lODjYPnRRNC5XV1fWrVtHbGwsQUFB0iBXmqqiAXp26Uxsswje/+Yb1hw8QvTgW9Hp9ddMLKUovy5ea1Ov+rENllfAUlNL6opVtK+q4cmxYwkODKwbypebS2FxMS0jm+Hl4SEB1B9AAikhhLgG5Obmotfr6dSpk0OChPLy8t/U06KqKsXFxfj4+NC0aVOaNm1Kr169iI2NZejQoaSnpzcYSIWEhBAVFcX27dspLy+3D9mzWCxs3bqVgIAAoqOjr3qbxMfH4+TkxMqVK+nevbvDUMgzvWKXm5HvUu3YsYPa2lpiY2PPu7958+YEBASwbds2Ro8ebe/dMxqNbN++ncjISEJCQnBycqJFixb8+OOPnDx50uGhvLq6GovFgoeHBzabjebNmzNx4kSsViujR4/m6aefxt3dnVtvvVU+II3Mz8+PDh06sGbNGkaPHi0NcrVYrYQEBjLjkUdYuXUbP//72z9kIdvzURSFwpISThQU0j6uxWV9DyuKQnllJRm5ubSNjr7oGnGKolBWUcHR48dJjPt1aN5Z9DaVCXFxDLqpO05OTtSYTCRnZqJRFBLi4tDLWlB/GAmkhBDiKrjc4KdFixbU1tayYMEC+z+6P/zwA/Pnz8disVxWXYqiYDabmTp1Kv7+/gwePJigoCAqKytZtWoVnp6e5x2udoa3tzejRo1i8uTJvPbaa4wZM8aetW/58uWMHz/ePj/qamrfvj1Dhw5l/vz56PV6hg4dioeHBydPnmTFihXodDpmzpz5u85RVVXF999/j7+/PxaLBaPRyO7du/n3v//NTTfdxKBBg857XEREBPfffz9z587l/fffd8jat2vXLv75z3/ah/2NGTOGxx9/nEmTJvHEE0/g4+NDRkYGCxcuZNiwYdxxxx0A9rT3AQEBfPjhh4wcOZLHH3+czz77TBaJ/QP07t2bt956i8zMTJo1ayYNcrXYbOh1Ou7q24e7+vS+dq5Lq2XRd9/xdeEmpo0YgevlrC2m0bDmxx/RaTT0u/HGCwc5ikJVdTX/t3YtD/XuTbd27RosB1BSVsaxrCyC/fwIDwqSoXx/MAmkhBDiKnBzc8Pb27te4gMPDw+sVmu9XygHDhzI6NGjWbhwIV9++SUGg4GIiAh69OhBZWWlw3wmT09Pe0KJs7m7u9sTSeh0OgICAliwYAGffPIJ7u7umM1mXFxcePXVV+nUqRMABoMBHx+fevOlRo4cSUFBAZ988gn//ve/7Ykd7r//fiZNmmR/XXq9/rzHQ11g4OPjU29xUycnJ3x8fBySNJxd15keOWdnZ1577TXc3Nz4/PPPWbBgQd2vsTU1eHh48OSTT9qH93l6euLh4XFZ9+jMvZg6dap9m6IoeHt7M3z4cJ566il7tkMnJyd8fX3t16woChMnTqSsrIw333yTDz74wL5O1zPPPOPQizFs2DBKSkr44IMPWL9+PXq9npqaGiIiIuw9VG5ubnh5ednvaXR0NPPmzWPMmDG8+OKL/Otf/7pg8CuuPC8vL/r168fJkyclkGoM11iGOXNNDSu3/cgP+/bxS3o6Hdu0ubRrVBSKSkpIzznByNsGXXjRW0XBVFPDV+vX0ywkpC6IaqCsqqpk5edzsqiIuIhmeHvKUL5rgaKqcheEEOJKO3HiBOXl5URHR9sfvlVVJTMzE6vVSlRUVL0gq6qqil27dpGdnY2/vz/t27fHxcWF7OxswsPD8fT0RFVVjh8/jqqqREZGOtSRnZ1NdXU10dHR9gV9MzMzSUlJoaysDC8vL9q0aUNYWJj9uNLSUnJycmjWrFm9QMRisZCUlMQvv/xiT8fetm1bDAaDvcyFjq+qqiIjI4OgoCCHDH1Go5HMzEzCwsIckjWcqSsyMtJhDpbZbCYjI4OUlBSqqqrw8/OjRYsWBAcHo9VqsdlspKen4+TkRERExEWH0ZyRk5NTb+6Sk5MTTZo0wc/Pz2Eo4ZlrDg8PdxhOWFNTw+HDh0lOTkar1dKmTRtatmxZb/0qm81GTk4OSUlJGI1GgoKCaNWqFU2aNLFfS1VVFc2bN3c4Njc3l8LCQpo2bSrJJ/4Aqqqiqmr9TJAWCxxLhqoqaaQ/I42Go+np9P/bE+SeOsXL48byj3HjLi2Q0mhYvmULnm7u9OrYoeFjFIVai4X/rl+Pr6cXA7reiNJQObOZ5OOZAMRFNpOhfNcQCaSEEEIIIS6HBFJ/blot7y9ZwtOz3gWgc+vWrH7/PXy9vC46TK+gqIivN25i9ODbcT3rR6d6byGbjW83bcbg5MTtPW5G00B9peXlJGdlEdykCeHBwVwbM8jEGRppAiGEEEIIIYBfM4F+t+1H+6bD6ensOnoULrZGnaKw7cAB2rWIxdXFpcFiNmDltm0oCgy6qft5H8ZVICs/n+SsLFpERBAREiJB1DVIAikhhBBCiAuw2WycOHHishO/iOuQRsP+Y8c4kJKCj6cnPh4eqKrK8i0/oF7o/isKJwoKKCwpIbFlywaH9KnA2u3bqao2cUfPnujOWZj9zJC/w2lplBqNtI+Lw8fTU4byXaMk2YQQQgghxAUoisLSpUu58cYb6dChgzTIn5mqUlJezuuPP06Arw/7j6Vwc0I79iQlU15ZecH1mrbt30/HVq1wNhjOH0gpCht37aKwuIT7bumPXqdzrEtRKDUaOZaZSaCv7/96oSSIumZJICWEEEIIcQGKotC9e3dWr15Nu3bt0CkyyOpPy2ZjUPfuaPV6jqSmklVQQK8uXbg5MbFuGNf5ghqNhuO5uZRXVNIuNvb8QZRGw7Z9+8jMy+OBAQNw1usd6lKBnPyT5J06RWxE+MXnY4lrggztE0IIIYS4iPj4eJydndm5c+fF58qI65pWo6kLhmy2umDGakX761IL56PabGzbv58ubW8471IQaDTsPHyYXzIyGNa/f92aVGeCJEXBbLVyJD2d4vIyEuJaSBB1HZFvAiGEEEKIi9BoNNx66638/PPPWGpqpEHEmTcGqTk51JrNtImKqt8bpdGwPzmZPUeTGNa/Px6urg5BVFlFBfuSk3F3cSE+NhaDpDa/rsjQPiGEEA2qqKggLS2NMytlqKqKn58f4eHh18T12Ww2+6K8QlxtsbGxdQsnazQg7zkB2KxWfjxwgG7x8Wh1OsdASqPhl/R0fjxwgPv631KXNOLX/Spw4uRJcgsLiY2IkF6o65GiSCAlhBCiYUlJSYwaNYqioiIsFgvOzs489NBDvP7663/4tRUWFvLiiy9y880389BDD8nNEledVqslJCSk7mH43Gxr4q9HoyEpLR1FUWgREVEviErNymLDzl3c268v/r4+dfsVBbPFwrHMTCxWKwlxcRjOmS8lrpsvBBnaJ4QQomFxcXEsWrSI7t27o6oqs2fPZsKECdfEtVVVVbF69WoOHz4sN0o0Lo0GDM7SDn9xFouF7YcOclO7dmjODqw1GjLz8lj900/c2asnwf7+9iCq/NehfK7OzrSVoXzXN2dn6ZESQgjRMA8PD9q3b09gYCBOTk7Ex8cTEREB1A3zy83NxWq1EhISQnp6OklJSTg5OZGQkEBoaKi9npqaGrKysvDz80Or1XLgwAEKCwsJDw+3T+I/u06LxUJ4eDiasyb15+fnU1VVRbNmzVBVlczMTMxmM0VFRRw7dgyr1YqnpyehoaEy1E9cfe5ucEqa4S9Lo+FwSgouBmeimzb9X2+URkNuYSHLt/zAbTfdRHhwMNhsqIpCbkEBOQUFxIaH08TbWwKo6/47wEMCKSGEEBennucffKvVytSpU8nIyCAxMZHly5dTVlZGdXU1bdq0Yf78+SQmJgKQlpbG3XffTadOncjPz2f//v2YTCY0Gg1jxozhlVdewd3dHavVypQpUyguLua///0vrq6u9vO9/fbb7Nixg5UrV1JeXs6zzz7L6dOn+e9//8uGDRuwWCwMGjSIuXPnopVhV+Jqc/cAvQFqJfHEX1FtbS07jxxhYNeudfPlVBU0GgqLivhm4yb6d+lM87AwUFXMVispWVnUms0ktGhRt86UBFHXN50OvL1laJ8QQojfrry8nB07dnDkyBFeeeUVVq9ezZtvvklqaiqzZ8/GarUCdUNgCgsLWbduHTfccAP/93//x4oVK7jtttuYN28e33zzjb3O0tJSiouL6wVv5eXlnD59GqvVSnBwMM8//zw+Pj4MGDCABQsWsGDBAh577DGHXiwhrhpnZ/Dxlnb4K9Jo2H/sGN4eHkQEB9cFRYpCcVkZX23YQI/27WkZFQWqirGykv3JyTjr9cTHxtZbP0pcpzy9wM1NeqSEEEL8djabjVatWrFw4UL7UL727duzZs0a9u/fT3l5OT4+Pvayjz76KNOnT7cfHxUVxa5du1i6dCkPPPDAJQ3JU1UVg8FAp06dcHZ2plmzZvTp00duhmh8/v5QWgqSDv0vpdpkYm9SEkN69qzboCiUVVbyn++/p3PrNsS3iAVVJbewkOyTJ4kJC8PPx0cCqD8LnQ4CAkCjkR4pIYQQv52qqri7u+Pt7W3fZjAYCA4OxmQyYTabHcp7eXk5/B0aGkqrVq1IS0vDaDTK3CZxfXFxhaBgWaD3r0SjYU9SEoFNmhASEABAZXU1X33/PW1jYuh4Q2ssFgtHMzIoKC4moUULCaL+TBQFAgPBw6Pu7SAtIoQQ4krTarXnnVd1vnLu7u7U1NRgsVik4cT1x8+v7tdp+RHgz0+ByqoqDqakcFO7BACqa2r4av16opuG0S0hAaOxgn1JyeidnGgXGyvzof5smjSBwCD7nzK0TwghxB/GbDZTXFyMt7e3PXMf1CWyODcQa6i3SpWHFPFH0mggJBRQoLDAcS0h8eeiaNh55AgRQcEE+DWhtqaGbzZuJNjfn54dO5B3soCsk/lEh4Xhf6YXSr6f/iT3Xqn70aRpmMMactIjJYQQ4qKu1pC7o0ePcuDAAbp06YKnpyeKouDm5kZJSQlGo9FezmQyUVpa6nCsVqtFq9U6lBPiD6HVQmgoRETUJaEQfz6KQpnRyC8Zx+neLh6rxcLSzVvwcvegT6dOJB8/zsmi07SLjf1fECX+HPT6ugAqLLxuftRZpEdKCCFEg8rLy0lOTiY/Px+z2czevXvRaDRERkY6lLuUXiFFUVi3bh0xMTEEBwdz4sQJ3n77bQwGA6NGjQJAo9GQmJjIt99+y+zZs7nzzjspKCjgyy+/ZPXq1YSFhdnr8/HxoVmzZmzcuJE1a9bg7++P1WqlY8eOkrlPND6NBvz869Kinz4NJSVQY5IH6j8LReHnw4dpERGOj6cny7ZsQe+ko2diew4eO4a3uwctWrSo++6Re/6nuN/o9eDtXfe5PmspjrNJICWEEKJBx44dY/To0RQXF6PVann22Wd56KGHeP311wHw9PTEbDbX67Fyd3fHx8fHIaBRFIW0tDSefvppjEYjZrOZqKgo5s6da19vCuCBBx5g69atvPfee8ybNw9nZ2f69u1L3759OXnypL1Od3d3nnnmGSZNmsSDDz6ITqdj8ODBdOjQQW6c+OM4O0PTpnXzpioroaoSTDVglTmA1xWNpi4odnYBb2+Ki4tJPX2a4UOGsPrnnZj0Brrd0IZfCguJatGCAF9fCaD+DLRaMBjA1Q3c3OqCqQuMyFBUGVwuhBCiAZWVlWRmZtp7nGw2G02aNCE0NBRVVcnOzsZqtdKsWTOHoCk3N5fKykqioqLQ6XQcPHiQXr168fe//52hQ4eSkZGBwWCgVatWBPya+epsxcXF7N69m5KSEiIjI4mPj6e4uJiKigp7nVDXE3b8+HFSU1PRarXExMQQEREhN05ce+Rx6/qiKBw5fJjNmzfzxJNPsmLFCjw9PFBtNrJysklMaI/ZYqFlq1a4uLjI/f2T3ftLJT1SQgghGuTm5kbr1q3Pu09RlAaDljNrSp1NVVX0ej0xMTHExMRc8Ly+vr7ccsstDttCQkLOew1RUVFERUXJzRLXNsnqd13eM0Wj4dSpU+Tm5mKIiiIlJYV27drh4uZG66io//2AJPf3L0kCKSGEEEIIIc5DURS2b99OdXU1u3fvpkuXLsTFxeHv7y+NIySQEkIIcfUFBwfzj3/8g27dukljCCGuCxqNhry8PPbt24dOp2PYsGF07drVYakG8dcmc6SEEEIIIYQ4R3JyMg888AABAQG88sordOzY8aotBSGuT9IjJYQQQgghxDlcXV255ZZbGDduXL0lH4QA6ZESQgghhBCiHlVVsVqt9iyhQpxLAikhhBBCCCGEuEyy9LsQQgghhLju2Ww20tLSHNa++ytQVZX09HQyMjL+Uq/7WiCBlBBCCCGEuOo2bNjAM888w7vvvktlZWW9/adOnWLGjBlMnDiRnTt3Xnb91dXVPP7447zwwgvYbDYAjEYje/fu5fTp0w5lbTYbc+bM4YknnuDkyZOXVH9KSgqTJ09mx44d592/evVqXnzxRfLz8xu1XWtra3n22WeZNGkSZrNZ3miNSAIpIYQQQghx1e3YsYP33nuPadOmsXXr1nr7ly9fzvTp05k1axaHDx++7PpVVaWsrAyj0WjvmTl06BC3334769evr1f+6NGj/PTTT1RXV19S/ZmZmbz33nscPHjwvPt//PFHPvzwQ06dOtWo7aqqKuXl5ZSXl8ubrJFJICWEEEIIIRqFh4cHfn5+fPrpp5hMJvv2kpISlixZQvPmzdHr9b/7PGfSlFutVsrLy6mtrXXYr9FomDlzJuvWrSMsLOyy6vytLBbLRXuMbDYbFovlkobomc1mrFarvKn+QJKGRAghhBBCXHWqquLl5cXIkSP56KOP2L59O7179wZg/fr15OTkMHLkSP75z386HLdhwwYOHDjAmDFj8PHxsW/fuXMnmzZtYuTIkYSEhDgco9FoyMjI4PPPP6e2tpZvvvmG9PR0LBYLvXr1ol+/fvz444+kp6fz8MMP4+7uftVe97Fjx1iyZAn79+/HarXSpk0bRo4cSevWre1ltm7dyooVK8jOzqa6uhpPT086d+7MPffcQ3BwsEN9KSkpLFy4kH379mEwGEhMTKSoqIjAwEB5kzUy6ZESQgghhBCNwmazMXDgQCIjI1mwYAEWi4Wqqio+++wzevfuTbt27er1smzatIlZs2ZRWlrqsH3Xrl288cYbDc5JKikp4ciRI1itVlJTU9m2bRvbtm0jMzMTgFWrVvH+++9jNBov6zVYLBasVismk8n+P4vFgsViqVd2+/btDB06lO+++46oqCiaN2/OypUrGTZsmMMQwaVLl7J06VKqqqrw8vKisLCQl156ifHjx1NcXGwvd/DgQe69914+/vhjtFotWq2WpUuXkpSUhEYjj/WNTXqkhBBCCCFEo7DZbAQEBDBq1CimTZvG3r17KS8vJykpiWnTpl12UHOh8yQmJjJz5kyGDBnCxIkTGTVqFGazGScnp99cr6IofPDBByxdutRh+J2iKKSlpaHVau3bysrKeOmllwgKCuKLL74gNDQUqJubNXjwYObPn8+cOXNQFIUnn3ySv//97wQEBKDVarHZbMyePZsXXniBXbt2MWDAAGpqapg5cyZFRUV8+eWX9OjRA41GQ35+PkOGDJFhfn8ACaSEEEIIIUSjUVWVIUOGMGfOHObMmUNVVRVdunShc+fOrFu37oqe68x8KycnJ3Q63QUX1z1+/DgrVqywBySqqhIUFMTdd9+NwWCwl/Pw8CAgIMCeGRDqAqm8vDwqKirs2w4dOsS+fft47bXXMBgM9p4zHx8f2rZty+7duzEajXh6ehIZGUl1dTUpKSmcOHGCkpIS8vPzsVgsFBQUAJCammofynhmSCSAr68vbm5u8sb6A0ggJYQQQgghGo2qqgQGBjJ8+HCmTZuGh4cHS5Ys+cOHph0/fpy3337bnhDCarWSmJjI7bffbg+kVFVlzJgxTJgwoV6P1JQpU5g3b55DfUajkVmzZvHxxx87lM/PzycsLMyeBGPjxo289dZbHD16FJ1Oh6urK2azGYvFYg/YcnJyMBqNxMfHy5voGiGBlBBCCCGEaHT33HMP//rXv4iLi6N79+4XLNsYC8127tyZTZs22c+lqiouLi71ElGcyd53bha/c/+2WCzodDrGjRtHQkKCw9A7RVHw8PDAx8eHo0ePMm7cOHx9fZk1axY33HADvr6+7Nu3j6FDh9qPMZvNqKp6wV410bjkTgghhBBCiEYXHh7OF198gbe3Ny4uLg2W02g0WCyWeinML8f5EkGcy83NjZiYmCv2+kJDQ9FoNHh7e9OvX78Gy+3cuZPc3FzeffddBg8ebN/u4eHhEJw1adIEJycncnJy5M1zjZD0HkIIIYQQotFpNBq6dOlCXFzcBcsFBQVRXl5uz3Jns9lIS0tj8+bNF+2p8vDwQKfTkZGRAdT1MjVWUoaEhARatWrFvHnzHBYYVlWV7OxsNmzYAGBPLnF2VsKysjI2bdrksNZWdHQ0kZGRrFixgtzcXKAuQNy5cyeZmZm/e50rcfmkR0oIIYQQQlx1lzI873xlevbsSUhICJMmTWLdunWYTCYOHDhAWVmZQ5a889UTFRVFYmIi8+fPp7CwEI1Gw4033sioUaOu+PWfuz8gIIDp06czYcIEBg8eTL9+/QgMDOTEiRNs27aNdu3a0atXL7p160ZMTAxTpkxh27ZtGAwGDh48aA+WzggMDGT8+PE899xzDBkyhA4dOpCXl8fRo0cpKCggJiamUYZAiv/Rvvzyyy9LMwghhBBCiKuptLQUV1dX+vXr12CWuerqaqqrq+nduzfNmjUDwN/fn7i4OLKysjh69CiKojB+/HjuvPNOXFxc6NevH97e3qiqSmFhIXFxcXTp0gVFUXB2diYhIYGysjKSkpIwGo3ceOONtG7dmtOnT9OkSRN69+6Ns7PzRa+/urqaqqoqevfuTWRkZL39JSUluLu7079/f7y8vACIiYmhZ8+e1NbWcuTIEY4ePUptbS19+/Zl7NixNG3aFF9fXxISEjhx4gSHDh2itLSUW265hb/97W84OTnRs2dPIiIiAGjbti3BwcEkJyeTkpJCYGAgkydPJiYmhujoaLp16ybrSTUiRZXQVQghhBBCNAJVVS86BK2hMjU1NVRVVeHi4mIPfC6lPqjLwFdTU4NOp7OnRL+c4y+1fEP7VVXFZDJhNpsxGAwO6dTPqK2tpbKyEoPBgIuLC4qiNFhfVVUVtbW1uLm5/a51scTvI4GUEEIIIYQQQlwm6fsTQgghhBBCiMskgZQQQgghhBBCXCYJpIQQQgghhBDiMkkgJYQQQgghhBCXSQIpIYQQQgghhLhMEkgJIYQQQoi/BFVVZdFaccXopAmEEEIIIcTFZGdnM3fuXEwmE6NHjyY+Pt5hv81mIykpCa1WS4sWLRzWPzIajSQnJ9OsWTP8/f2v6nXW1tbyyy+/4OPjY1/U94xVq1bx5Zdf8vTTT9OhQ4dGbb8NGzbwzTff2Nd9slqtPPjgg3Tt2vUPv7clJSWkpqYSExODj4+PvNkvkfRICSGEEEKIi1q9ejXvvPMO77//PosWLaq3v6amhmeffZapU6disVgc9h05coTBgwfz/fffX/XrLC4uZsSIEXz44Yf19uXl5bFz505KSkoavf2qq6vJz89n8eLF/Oc//6GgoICamppr4t7+/PPP3H777ezYsUPe6JdBeqSEEEIIIcQFVVdXs3z5chITE3Fzc2Pt2rVMmjSJoKAgh3JVVVVoNPV/p7darRiNRsxm8wXPYzabsdls6PV6hx6thsoC9h6eM1RVpaKiApPJVO+Yhx56iLvuugsPD496+1RVpba2Fo1GU6/Ohs6vqip6vf6S2vD222/n5ptvpnfv3nh5ebF48WKcnZ3PW/bMteh0OrRa7QXrtVgs2Gw2nJycLtpmF6rDaDTWC4DFhUkgJYQQQgghLuiXX35h9+7dTJ06FV9fXyZMmMD27du56667gLrhdPPnzyc9PR1nZ2emTJmCoiiEhobSu3dvPvnkE2pra/nqq69ITk7GYrHQp08fBg4cCEBWVhaLFy9mx44dmEwmmjdvzvDhw+nWrZs9OFi6dCnHjx9nwIABrFixgq1btwLQt29fHn74Yby9vSktLeXDDz+kuLiY7du3M3nyZKxWKy1btuThhx8mOTmZ7777jlGjRhEREQHUBS07d+5k8eLFJCcn4+zszE033cTw4cMJCQmxt8HKlStJSkpi0KBBrFq1ii1btmCz2ejVqxePPPIIvr6+F23HM69FURSHoKesrIz58+cTFxeHr68vS5YsISUlhcDAQEaMGEH//v3tAerevXtZuXIlt912G7t372bt2rVUVVVx4403Mm7cOEJDQx3qbN26NYMGDbKfy2Qy8cknn+Dv7899993HkSNH+OKLLzCbzXz++eds374dq9XKbbfdRo8ePeTNfwESSAkhhBBCiAtas2YNGo2Gfv364eHhgb+/P8uXL+eOO+5Aq9VitVpJTU2loqKC2tpa9u/fj6qqlJeX065dO9LS0rDZbGRlZWGxWDCbzcTFxQGQlJTEww8/TFlZGX379sXFxYWtW7dy//33s2DBAvr37w/AunXrWLRoEQsWLECr1RIZGUl2djbPP/885eXlvPzyy9TW1pKSkkJNTQ2nTp1i3759WCwWew/ToUOHeOutt+jTp489kFq1ahXjx4/H19eX7t27U1ZWxqxZs9i0aRMLFiygadOmAGzcuJH58+fzxRdfoCgKkZGRFBQU8OKLL1JcXMw///nP39wjZDQamTdvHjabDYPBQFBQEF5eXmzZsoUtW7bw9ddf2+dSHTx4kNdee40lS5ag0+mIioqiqqqKN954gyNHjvDpp5/i5eWF0Whkzpw53HnnnfUCqQULFtCiRQvuu+8+SkpKyMjIwGazkZGRgdFoxGaz0bFjR3njX4wqhBBCCCFEA0pKStROnTqpt912m2oymVSr1aoOHz5cDQsLU9PS0uzlSktL1a5du6r9+/dXjUajajKZ1JqaGlVVVXXjxo2qm5ub+vHHH6sWi0U1mUyqxWJRa2tr1QcffFCNj49Xk5OT7XXl5+erXbt2VW+99Va1urpaVVVVffTRR1VnZ2f19ddfV0+ePKlarVY1Ly9P7d69u9q6dWv11KlTqqqqamZmphoREaGOHz9era2tVU0mk1pbW6uqqqp+9tlnqpubm7pt2zZVVVW1sLBQ7dChg9qtWzc1MzNTVVVVtdls6tKlS1Vvb2/1xRdftF/T008/rer1enXGjBlqXl6earFY1MLCQrVPnz5qTEyMmpeXd9G2LCsrU9u3b6/27t1bNZlM9u05OTlqs2bN1DZt2qhr165VKysrVavVqq5evVp1d3dXJ0+ebC+7YMECVavVqk899ZSalZWlms1mtaKiQp0yZYpqMBjUr7/+2l5neHi4+vTTT9e7n/Hx8eqwYcNUm82mqqqqfvPNN6qLi4v69ddfO9wfcWGSbEIIIYQQQjRoz549JCcnM2TIEAwGAxqNhiFDhnDq1Ck2bdpkL3dmXpNGo8FgMGAwGOzzh870CDk5OaHVajEYDGi1WjIyMti0aRMDBw7Ey8uLEydOcOLECQA6dOjAkSNHKCwsBOqyAjZt2pRRo0YRGBiIRqMhODiYTp06cfr0acrKyhyuQ6vV4uTkhMFgaHDO04EDBzh69CjDhw+391ApisLAgQPp0qULq1evprS01H7+oKAgRo0aRXBwMFqtFn9/f7p06UJxcbG93G9ls9no06cPt9xyC66urmg0GhITEwkJCSEnJ8chbbuLiwt333034eHh6HQ63NzceOCBB3B3d+enn3667HM3dH/EhcnQPiGEEEII0aDvvvsORVFwcXHh559/tm/39PRkxYoVDB8+vMGkCReTl5dHaWkpS5YsYdWqVfZgQVEUiouL0el0Dkkjzjd0zt3dHVVVsdlsl33+7OxsbDYb0dHRDtsNBgPR0dEcOnSIkpISvL29G7yGM+e3Wq2/u63PrVuv1+Pi4oLFYkFVVYf955YNCAjA19eX/Px8edM2EgmkhBBCCCHEeeXl5bFx40YqKyt58skn660NtXPnTpKSkkhISLBvVy9jwVur1Yqqqtx///0MHDiwXjDi7Oxsn6PUkN86LwmwB1/nq0Oj0VzSa/k9579Ul3IO9dfFhs/tSbqc+6HKYsWXRQIpIYQQQghxXj/++COZmZlMnz6dLl262AMdrVbLkSNHeP7551m7dq09kFIUxR4cne1MIHBueu2goCDc3NzQaDT07Nnzil23oiiXlMr7TJB2/Phxh+21tbVkZGTg7++Pl5fXdXGvTpw4QVFREbGxsfY2UBSF6urqS2ov4Ir0qv2VyBwpIYQQQghRj8ViYfny5QQHBzNixAh69+5Nv3796NevH7179+bBBx+kZcuWrFy5krKyMpycnPD29iYvL4+ioiJ7HQAeHh44OTmRlpYGYB8K17x5c7p3787ixYvZuHGjvYdIVVXy8/NZtWoVlZWVl3Xdzs7OeHh4kJmZaT+2oaAqPj6e6Oho/v3vf1NQUGDf/sMPP7Bjxw769u17SWnNG5vNZnOYk1VaWspHH32EVqvllltuAcDNzQ0/Pz8OHTrEqVOnAKisrGT16tVkZ2c79HJ5enqiKEq9+yMuTHqkhBBCCCFEPWlpaWzevJnBgwfb1yY6W5MmTRgwYADvvvsue/bssSdKmDRpEiNGjCA2NhaNRsOMGTOIioqiU6dOfPzxx5w8eRKNRkPXrl155JFHePHFFxkzZgz333+/PS35qVOn2LFjBz4+PnTr1s1+zvMNPTt3m7e3N3379mXu3Lk89NBDBAQEEBgYyMsvv1zv2JCQEKZMmcJTTz3F0KFD6du3L6WlpXz77bdER0czYcKEK9aea9euZeHChWRlZZGXl8fYsWMZO3YsN910k/11NDS07uztZ3qZnnnmGRYuXIiXlxeHDx/ml19+YerUqXTo0MHeDoMHD+bVV1/l7rvvJjY2lpSUFPLz86mpqXGoPy4ujrZt2zJr1ixSUlKwWCwMHDiQYcOGyQfhArQvn+9dJYQQQggh/tIyMzOpqKhg1KhRhIWFnbeMv78/NTU1REdHExMTQ8uWLfH19SU9PZ38/HwiIyPp3bs37u7utG/fnqqqKlJTUzGZTHTt2pVWrVoREhJC//79cXFxITU1leTkZKqrq+nevTuPP/44MTExKIpCSUkJQUFB9OzZE4PBYL8Go9GIp6cnffr0wd3dHUVRaNeuHU5OTqSmplJcXEybNm3o2rUrVVVVaLVa+vbtS5MmTQBo1aoV8fHxpKens3PnTk6ePMmAAQOYOXOmQxKKsrIy/Pz86NWrFy4uLg7nd3Nzo0+fPnh6ejbYnqmpqSQlJdGqVStiYmIASEhIICIiAqvVSmlpKR07dqRNmzb2Y2w2G8XFxdxwww106NABRVHYv38/69ev56GHHqK6upqMjAyCg4OZOnUqo0aNcshQ2LZtW1xdXUlOTiYvL4+EhAT+8Y9/EBQURJs2bUhMTERRFNzc3EhISKC0tJS0tDQsFgs9evSol4RDOFJUmVUmhBBCCCHOcW6WuMspW1tba19c9uztNpuN2tpae2ryc9XW1mI2m9HpdPY05r/n+mtrawEuqS6LxWIPtFxdXRslicRv8emnn/LUU0+xdu1aunXrhslkQqfTodPpGmyHqqoqbDabfT5aQ2w2GzU1Neh0ugZTxov/kaF9QgghhBCinssJJM6Xtvt8NBrNBVOl6/X6Bo/9Ldd/ds/Vxeh0ugv2KF2rLpZ6/kyP06XQaDQOvW3iIu0lTSCEEEIIIYQQl+f/AV9ABIqg2E/yAAAAJXRFWHRkYXRlOmNyZWF0ZQAyMDIzLTExLTAxVDE2OjI4OjI5KzAwOjAwiOVkDQAAACV0RVh0ZGF0ZTptb2RpZnkAMjAyMy0xMS0wMVQxNjoyODoyOSswMDowMPm43LEAAAAZdEVYdFNvZnR3YXJlAHd3dy5pbmtzY2FwZS5vcmeb7jwaAAAAAElFTkSuQmCC)"
      ],
      "metadata": {
        "id": "hVu_UDffIRTB"
      }
    },
    {
      "cell_type": "markdown",
      "source": [
        "## Scratchpad"
      ],
      "metadata": {
        "id": "jwaPJa3BSdny"
      }
    },
    {
      "cell_type": "code",
      "source": [
        "import tiktoken"
      ],
      "metadata": {
        "id": "6WXl004XJWqk"
      },
      "execution_count": 44,
      "outputs": []
    },
    {
      "cell_type": "code",
      "source": [
        "tokenizer = tiktoken.get_encoding(\"gpt2\")\n",
        "text = \"Hello, how are you?\"\n",
        "tokens = tokenizer.encode(text)"
      ],
      "metadata": {
        "id": "iyMabphlJyHf"
      },
      "execution_count": 45,
      "outputs": []
    },
    {
      "cell_type": "code",
      "source": [
        "tokenizer.max_token_value"
      ],
      "metadata": {
        "colab": {
          "base_uri": "https://localhost:8080/"
        },
        "id": "zcE5J15gVr7U",
        "outputId": "56e0c25d-b039-4b4e-b0b9-00c42e12b217"
      },
      "execution_count": 46,
      "outputs": [
        {
          "output_type": "execute_result",
          "data": {
            "text/plain": [
              "50256"
            ]
          },
          "metadata": {},
          "execution_count": 46
        }
      ]
    },
    {
      "cell_type": "code",
      "source": [
        "tokens"
      ],
      "metadata": {
        "colab": {
          "base_uri": "https://localhost:8080/"
        },
        "id": "Soj2qj3cLNdk",
        "outputId": "18128c77-8c0a-4717-cd67-441b4eef7f9e"
      },
      "execution_count": 47,
      "outputs": [
        {
          "output_type": "execute_result",
          "data": {
            "text/plain": [
              "[15496, 11, 703, 389, 345, 30]"
            ]
          },
          "metadata": {},
          "execution_count": 47
        }
      ]
    },
    {
      "cell_type": "code",
      "source": [
        "tokenizer.decode(tokens)"
      ],
      "metadata": {
        "colab": {
          "base_uri": "https://localhost:8080/",
          "height": 35
        },
        "id": "cpbkpKpjJ1PQ",
        "outputId": "f40cc9e4-02b8-4635-b1da-fe54f180d384"
      },
      "execution_count": 48,
      "outputs": [
        {
          "output_type": "execute_result",
          "data": {
            "text/plain": [
              "'Hello, how are you?'"
            ],
            "application/vnd.google.colaboratory.intrinsic+json": {
              "type": "string"
            }
          },
          "metadata": {},
          "execution_count": 48
        }
      ]
    },
    {
      "cell_type": "code",
      "source": [
        "tokens"
      ],
      "metadata": {
        "colab": {
          "base_uri": "https://localhost:8080/"
        },
        "id": "9SWeL6QoJ0Iz",
        "outputId": "9e2b2ac0-51f0-4cf1-c01f-531cad9214ac"
      },
      "execution_count": 49,
      "outputs": [
        {
          "output_type": "execute_result",
          "data": {
            "text/plain": [
              "[15496, 11, 703, 389, 345, 30]"
            ]
          },
          "metadata": {},
          "execution_count": 49
        }
      ]
    },
    {
      "cell_type": "code",
      "source": [
        "emb = torch.nn.Embedding(GPT2_CFG['vocab_size'], GPT2_CFG['emb_dim'])"
      ],
      "metadata": {
        "id": "O9ttcupbK8vL"
      },
      "execution_count": 50,
      "outputs": []
    },
    {
      "cell_type": "code",
      "source": [
        "GPT2_CFG['vocab_size']"
      ],
      "metadata": {
        "colab": {
          "base_uri": "https://localhost:8080/"
        },
        "id": "k0PEFnSaOiLb",
        "outputId": "b20541db-3168-4ddd-fbdd-981da98e89df"
      },
      "execution_count": 51,
      "outputs": [
        {
          "output_type": "execute_result",
          "data": {
            "text/plain": [
              "50257"
            ]
          },
          "metadata": {},
          "execution_count": 51
        }
      ]
    },
    {
      "cell_type": "code",
      "source": [
        "vocab = torch.arange(0, GPT2_CFG['vocab_size'])\n",
        "x = emb(vocab)"
      ],
      "metadata": {
        "id": "tHb-Z9woOc5k"
      },
      "execution_count": 52,
      "outputs": []
    },
    {
      "cell_type": "code",
      "source": [
        "x[tokens].shape"
      ],
      "metadata": {
        "colab": {
          "base_uri": "https://localhost:8080/"
        },
        "id": "yXFOfxQZTcrS",
        "outputId": "9b11cdc3-f539-4b21-fc27-5d8a19342fcb"
      },
      "execution_count": 53,
      "outputs": [
        {
          "output_type": "execute_result",
          "data": {
            "text/plain": [
              "torch.Size([6, 768])"
            ]
          },
          "metadata": {},
          "execution_count": 53
        }
      ]
    },
    {
      "cell_type": "code",
      "source": [],
      "metadata": {
        "id": "CAZ7-7qnsW5I"
      },
      "execution_count": 53,
      "outputs": []
    },
    {
      "cell_type": "markdown",
      "source": [
        "## Main class"
      ],
      "metadata": {
        "id": "vUezvX4vSf9z"
      }
    },
    {
      "cell_type": "code",
      "source": [
        "class GPT2_small(torch.nn.Module):\n",
        "\n",
        "  def __init__(self):\n",
        "    super().__init__()\n",
        "    self.embedding_layer = torch.nn.Embedding(GPT2_CFG['vocab_size'], GPT2_CFG['emb_dim'])\n",
        "    self.positional_emb = torch.nn.Embedding(GPT2_CFG['context_len'], GPT2_CFG['emb_dim'])\n",
        "    # 12 layers of transformers block\n",
        "    self.trf = torch.nn.Sequential(\n",
        "        *[TransformerBlock() for _ in range(GPT2_CFG['n_transformers'])]\n",
        "    )\n",
        "    self.norm_layer = LayerNormalization(1e-5)\n",
        "    self.out_layer = torch.nn.Linear(GPT2_CFG['emb_dim'], GPT2_CFG['vocab_size'], bias=False)\n",
        "\n",
        "  def forward(self, x):\n",
        "\n",
        "    batch, seq_length = x.shape\n",
        "    emb = self.embedding_layer(x)\n",
        "    pos_embeds = self.positional_emb(torch.arange(seq_length, device=x.device))\n",
        "    x = emb + pos_embeds\n",
        "    x = self.trf(x)\n",
        "    # output layer\n",
        "    x = self.norm_layer(x)\n",
        "    x = self.out_layer(x)\n",
        "    return x"
      ],
      "metadata": {
        "id": "J0_URrH_Hzx-"
      },
      "execution_count": 163,
      "outputs": []
    },
    {
      "cell_type": "code",
      "source": [
        "tokenizer = tiktoken.get_encoding(\"gpt2\")\n",
        "text = \"Hello, how are you?\"\n",
        "text2 = \"Hello, Hi I am your\"\n",
        "tokens = tokenizer.encode(text)\n",
        "tokens2 = tokenizer.encode(text2)"
      ],
      "metadata": {
        "id": "Xj9WeN7BR0Yh"
      },
      "execution_count": 55,
      "outputs": []
    },
    {
      "cell_type": "code",
      "source": [
        "tokens_batch = torch.stack((torch.tensor(tokens), torch.tensor(tokens2)), dim=0)"
      ],
      "metadata": {
        "id": "I3n082VdwPcv"
      },
      "execution_count": 56,
      "outputs": []
    },
    {
      "cell_type": "code",
      "source": [
        "gpt2_model = GPT2_small()\n",
        "output = gpt2_model(tokens_batch)\n",
        "# need to look at batches"
      ],
      "metadata": {
        "id": "kqoN-3NbYbD9"
      },
      "execution_count": 57,
      "outputs": []
    },
    {
      "cell_type": "markdown",
      "source": [
        "# Generating the next token"
      ],
      "metadata": {
        "id": "BS9vvV8641eD"
      }
    },
    {
      "cell_type": "markdown",
      "source": [
        "## Scratchpad"
      ],
      "metadata": {
        "id": "sGW8OyZxRL0G"
      }
    },
    {
      "cell_type": "code",
      "source": [
        "gpt2_model.eval()\n",
        "for _ in range(4):\n",
        "\n",
        "    token_batch_compressed = tokens_batch[:,-GPT2_CFG['context_len']:] # if more than context length, compress else its okay\n",
        "\n",
        "    with torch.no_grad():\n",
        "      output_logits = gpt2_model(token_batch_compressed)\n",
        "\n",
        "    # consider only the last value to predict next work\n",
        "    output_logits = output_logits[:,-1,:]\n",
        "    output_logits = torch.softmax(output_logits, dim = -1)\n",
        "    output_argindex = torch.argmax(output_logits, dim = -1, keepdim=True)\n",
        "\n",
        "    tokens_batch = torch.cat((tokens_batch, output_argindex), dim=-1)"
      ],
      "metadata": {
        "id": "5g7yFVN76q_W"
      },
      "execution_count": 58,
      "outputs": []
    },
    {
      "cell_type": "code",
      "source": [
        "tokens_batch"
      ],
      "metadata": {
        "colab": {
          "base_uri": "https://localhost:8080/"
        },
        "id": "WuN_kgNqJWLL",
        "outputId": "d4878827-1dd4-40a5-879b-9a7be707a8d9"
      },
      "execution_count": 59,
      "outputs": [
        {
          "output_type": "execute_result",
          "data": {
            "text/plain": [
              "tensor([[15496,    11,   703,   389,   345,    30, 43295, 37469, 46740, 15434],\n",
              "        [15496,    11, 15902,   314,   716,   534, 20237, 29822, 37491, 45606]])"
            ]
          },
          "metadata": {},
          "execution_count": 59
        }
      ]
    },
    {
      "cell_type": "code",
      "source": [
        "tokens_batch"
      ],
      "metadata": {
        "colab": {
          "base_uri": "https://localhost:8080/"
        },
        "id": "L9kdxnJe7V1n",
        "outputId": "ac90221d-2c65-416b-a366-53c1c44aced1"
      },
      "execution_count": 60,
      "outputs": [
        {
          "output_type": "execute_result",
          "data": {
            "text/plain": [
              "tensor([[15496,    11,   703,   389,   345,    30, 43295, 37469, 46740, 15434],\n",
              "        [15496,    11, 15902,   314,   716,   534, 20237, 29822, 37491, 45606]])"
            ]
          },
          "metadata": {},
          "execution_count": 60
        }
      ]
    },
    {
      "cell_type": "code",
      "source": [
        "argindex = torch.argmax(tokens_batch, dim=-1, keepdim=True)\n",
        "argindex"
      ],
      "metadata": {
        "colab": {
          "base_uri": "https://localhost:8080/"
        },
        "id": "y-v1Atpj6zUx",
        "outputId": "5c6a79e0-1b92-4ee4-e878-eaf6dafac592"
      },
      "execution_count": 61,
      "outputs": [
        {
          "output_type": "execute_result",
          "data": {
            "text/plain": [
              "tensor([[8],\n",
              "        [9]])"
            ]
          },
          "metadata": {},
          "execution_count": 61
        }
      ]
    },
    {
      "cell_type": "code",
      "source": [
        "torch.cat((tokens_batch, argindex), dim=-1)"
      ],
      "metadata": {
        "colab": {
          "base_uri": "https://localhost:8080/"
        },
        "id": "nMdSXX7RNNxg",
        "outputId": "1a2a2d87-0410-4ca4-e7f0-fc02d0a05f78"
      },
      "execution_count": 62,
      "outputs": [
        {
          "output_type": "execute_result",
          "data": {
            "text/plain": [
              "tensor([[15496,    11,   703,   389,   345,    30, 43295, 37469, 46740, 15434,\n",
              "             8],\n",
              "        [15496,    11, 15902,   314,   716,   534, 20237, 29822, 37491, 45606,\n",
              "             9]])"
            ]
          },
          "metadata": {},
          "execution_count": 62
        }
      ]
    },
    {
      "cell_type": "code",
      "source": [
        "tokens_batch[:, argindex]"
      ],
      "metadata": {
        "colab": {
          "base_uri": "https://localhost:8080/"
        },
        "id": "38kvnmpdKEMK",
        "outputId": "04a899d6-097b-4383-b27b-0c1b3f318975"
      },
      "execution_count": 63,
      "outputs": [
        {
          "output_type": "execute_result",
          "data": {
            "text/plain": [
              "tensor([[[46740],\n",
              "         [15434]],\n",
              "\n",
              "        [[37491],\n",
              "         [45606]]])"
            ]
          },
          "metadata": {},
          "execution_count": 63
        }
      ]
    },
    {
      "cell_type": "markdown",
      "source": [
        "## Main function"
      ],
      "metadata": {
        "id": "GdDGkKtkRYYa"
      }
    },
    {
      "cell_type": "code",
      "source": [
        "def generate_next_token(gpt2_model, token_batch, num_tokens_required):\n",
        "\n",
        "  for _ in range(num_tokens_required):\n",
        "\n",
        "    token_batch_compressed = token_batch[:,-GPT2_CFG['context_len']:] # if more than context length, compress else its okay\n",
        "\n",
        "    with torch.no_grad():\n",
        "      output_logits = gpt2_model(token_batch_compressed)\n",
        "\n",
        "    # consider only the last value to predict next word\n",
        "    output_logits = output_logits[:,-1,:]\n",
        "    output_logits = torch.softmax(output_logits, dim = -1)\n",
        "    output_argindex = torch.argmax(output_logits, dim = -1, keepdim=True)\n",
        "\n",
        "    token_batch = torch.cat((token_batch, output_argindex), dim=-1)\n",
        "  return token_batch"
      ],
      "metadata": {
        "id": "mus72KHqZop1"
      },
      "execution_count": 64,
      "outputs": []
    },
    {
      "cell_type": "code",
      "source": [
        "gpt2_model.eval()\n",
        "token_batch_generated = generate_next_token(gpt2_model, tokens_batch, 5)"
      ],
      "metadata": {
        "id": "upDQfheQRfSN"
      },
      "execution_count": 65,
      "outputs": []
    },
    {
      "cell_type": "code",
      "source": [
        "token_batch_generated.shape"
      ],
      "metadata": {
        "colab": {
          "base_uri": "https://localhost:8080/"
        },
        "id": "xw-AWPI7R5tZ",
        "outputId": "6de308e8-f10b-4af4-c2af-be2e7b2b31a7"
      },
      "execution_count": 66,
      "outputs": [
        {
          "output_type": "execute_result",
          "data": {
            "text/plain": [
              "torch.Size([2, 15])"
            ]
          },
          "metadata": {},
          "execution_count": 66
        }
      ]
    },
    {
      "cell_type": "code",
      "source": [
        "decoded_texts = [tokenizer.decode(row.tolist()) for row in token_batch_generated]\n",
        "decoded_texts"
      ],
      "metadata": {
        "colab": {
          "base_uri": "https://localhost:8080/"
        },
        "id": "Gvq3Kv0ARzC0",
        "outputId": "8ebcf451-4d11-42a8-f61e-e4a87963b794"
      },
      "execution_count": 67,
      "outputs": [
        {
          "output_type": "execute_result",
          "data": {
            "text/plain": [
              "['Hello, how are you? cramped bows PERSON Awards playful journalisticivedizeFactoryReloaded',\n",
              " 'Hello, Hi I am your bedsuta LR Schn tetheriscoverFord burd consulted']"
            ]
          },
          "metadata": {},
          "execution_count": 67
        }
      ]
    },
    {
      "cell_type": "markdown",
      "source": [
        "# Loss function - Cross entropy and Perplexity Error\n",
        "\n",
        "Cross entropy loss is calculated by\n",
        "\n",
        "\n",
        "*   Finding the true index from the logits generated by the model\n",
        "*   Taking the Log of each logits and then find the mean of it.\n",
        "*   Finally taking the negative value so that we can minimize the loss function\n",
        "\n",
        "Now we are going to use real dataset and then use that in the model. Finally calculate the losses\n",
        "\n"
      ],
      "metadata": {
        "id": "49zDTsSNtuO4"
      }
    },
    {
      "cell_type": "code",
      "source": [
        "from torch.utils.data import Subset"
      ],
      "metadata": {
        "id": "M2ITsCyaBh6Y"
      },
      "execution_count": 68,
      "outputs": []
    },
    {
      "cell_type": "code",
      "source": [
        "with open(\"verdict.txt\", \"r\", encoding=\"utf-8\") as f:\n",
        "    raw_text = f.read()"
      ],
      "metadata": {
        "id": "H1H9jaXgvWgS"
      },
      "execution_count": 69,
      "outputs": []
    },
    {
      "cell_type": "code",
      "source": [
        "# for easing the training process, let us consider the context length to be 256 instead of 1024\n",
        "GPT2_CFG = {\n",
        "    \"vocab_size\"    : 50257,\n",
        "    \"emb_dim\"       : 768,\n",
        "    \"n_heads\"       : 12,\n",
        "    \"n_transformers\": 12,\n",
        "    \"dropout\"       : 0.1,\n",
        "    \"context_len\"   : 256, # changed here\n",
        "    \"qkv_bias\"      : False\n",
        "}"
      ],
      "metadata": {
        "id": "eSuXjT4Vw0FZ"
      },
      "execution_count": 70,
      "outputs": []
    },
    {
      "cell_type": "code",
      "source": [
        "class TextData(Dataset):\n",
        "\n",
        "  def __init__(self, text_data):\n",
        "\n",
        "    self.token_ids = tokenizer.encode(text_data,allowed_special={'<|endoftext|>'})\n",
        "    self.max_length = len(self.token_ids)\n",
        "    self.input_ids = []\n",
        "    self.target_ids = []\n",
        "    for i in range(0, self.max_length - GPT2_CFG['context_len'], GPT2_CFG['context_len']):\n",
        "      input_ids = self.token_ids[i:i+GPT2_CFG['context_len']]\n",
        "      target_ids = self.token_ids[i+1:i+1+GPT2_CFG['context_len']]\n",
        "      self.input_ids.append(input_ids)\n",
        "      self.target_ids.append(target_ids)\n",
        "    self.input_ids = torch.tensor(self.input_ids)\n",
        "    self.target_ids = torch.tensor(self.target_ids)\n",
        "\n",
        "  def __len__(self):\n",
        "    return len(self.input_ids)\n",
        "\n",
        "  def __getitem__(self, idx):\n",
        "    return self.input_ids[idx], self.target_ids[idx]"
      ],
      "metadata": {
        "id": "42uzqwvKw3M4"
      },
      "execution_count": 71,
      "outputs": []
    },
    {
      "cell_type": "code",
      "source": [
        "data = TextData(raw_text)"
      ],
      "metadata": {
        "id": "pe4NSLeuKWMc"
      },
      "execution_count": 72,
      "outputs": []
    },
    {
      "cell_type": "code",
      "source": [
        "#90% training and 10% validation\n",
        "train_end_idx = int(len(data) * 0.9)"
      ],
      "metadata": {
        "id": "7GDNX3me--mB"
      },
      "execution_count": 73,
      "outputs": []
    },
    {
      "cell_type": "code",
      "source": [
        "len(data)"
      ],
      "metadata": {
        "colab": {
          "base_uri": "https://localhost:8080/"
        },
        "id": "i53v92qQ_e7z",
        "outputId": "b39c4c66-be61-40b1-e7dc-5610ec11817c"
      },
      "execution_count": 74,
      "outputs": [
        {
          "output_type": "execute_result",
          "data": {
            "text/plain": [
              "20"
            ]
          },
          "metadata": {},
          "execution_count": 74
        }
      ]
    },
    {
      "cell_type": "code",
      "source": [],
      "metadata": {
        "id": "vDvrlbHdBVxK"
      },
      "execution_count": 74,
      "outputs": []
    },
    {
      "cell_type": "code",
      "source": [
        "train_indices = list(range(train_end_idx))\n",
        "valid_indices = list(range(train_end_idx, len(data)))\n",
        "\n",
        "train_data = Subset(data, train_indices)\n",
        "valid_data = Subset(data, valid_indices)"
      ],
      "metadata": {
        "id": "PWA8AZJ4BTdg"
      },
      "execution_count": 75,
      "outputs": []
    },
    {
      "cell_type": "code",
      "source": [
        "len(train_data)"
      ],
      "metadata": {
        "colab": {
          "base_uri": "https://localhost:8080/"
        },
        "id": "jgfwRcz-_pT5",
        "outputId": "ff09c165-dc1d-4f28-b22a-8fd87136b8bc"
      },
      "execution_count": 76,
      "outputs": [
        {
          "output_type": "execute_result",
          "data": {
            "text/plain": [
              "18"
            ]
          },
          "metadata": {},
          "execution_count": 76
        }
      ]
    },
    {
      "cell_type": "code",
      "source": [
        "train_dataloader = DataLoader(\n",
        "        train_data,\n",
        "        batch_size=2,\n",
        "        shuffle=True,\n",
        "        drop_last=True,\n",
        "        num_workers=0\n",
        "    )\n",
        "\n",
        "valid_dataloader = DataLoader(\n",
        "        valid_data,\n",
        "        batch_size=2,\n",
        "        shuffle=True,\n",
        "        drop_last=True,\n",
        "        num_workers=0\n",
        "    )"
      ],
      "metadata": {
        "id": "coaqDzTLKntG"
      },
      "execution_count": 77,
      "outputs": []
    },
    {
      "cell_type": "code",
      "source": [
        "len(train_dataloader)"
      ],
      "metadata": {
        "colab": {
          "base_uri": "https://localhost:8080/"
        },
        "id": "WBKDkMmELqHt",
        "outputId": "668c30f9-a5a2-4fc8-f140-2eb01436de70"
      },
      "execution_count": 78,
      "outputs": [
        {
          "output_type": "execute_result",
          "data": {
            "text/plain": [
              "9"
            ]
          },
          "metadata": {},
          "execution_count": 78
        }
      ]
    },
    {
      "cell_type": "code",
      "source": [
        "data_iter = iter(train_dataloader)\n",
        "first_batch = next(data_iter)\n",
        "print(first_batch)"
      ],
      "metadata": {
        "colab": {
          "base_uri": "https://localhost:8080/"
        },
        "id": "nFJ22liaMq9w",
        "outputId": "bda32ba9-306e-4198-e3cd-0b96d91b6bf2"
      },
      "execution_count": 79,
      "outputs": [
        {
          "output_type": "stream",
          "name": "stdout",
          "text": [
            "[tensor([[  314,  4752,   340,  6777,    13,   632,   373,   407,   326,   616,\n",
            "          2583,   408,   373,   366, 47914,  1298,   319,   326,   966,   314,\n",
            "           714,   423,  1813,  4544,  9325,   701,   262, 40830, 12719,  3874,\n",
            "            13,   632,   373,   655,   780,   673,   373,  4808,  1662,    62,\n",
            "          3499,   438,   361,   314,   743,   307, 41746, 12004,   262,  6473,\n",
            "           438,  5562,   314,  1043,   607,   523,    13,  1114,  3619,    11,\n",
            "           477,   465,  1204,    11,   550,   587, 11191,   416,  3499,  1466,\n",
            "            25,   484,   550, 26546,  1068,   465,  1242,    11,   340,   550,\n",
            "           587,   302,  1144,   287,   262,  3024,    12,  4803,   286,   511,\n",
            "           512,  1741,    13,   843,   340,   373,  4361,  5048,   425,   284,\n",
            "          3465,   644,  1245,   262,   366, 25124,  3101,  8137,   286, 16957,\n",
            "          1696,   414,     1,   357,    40,  9577,  4544,  9325,   701,     8,\n",
            "           373,  1719,   319,   683,    13,   198,   198,    40,   423,  4750,\n",
            "           326,  9074,    13,   402,   271, 10899,   373,  5527,    26,   290,\n",
            "           340,   373,  3393, 34953,   856,   326,   607,  5229,   373, 37895,\n",
            "           422,   428, 25179,   257, 19217,   475,  8904, 14676,    13,   632,\n",
            "           318,    11,   355,   257,  3896,    11,   262,   661,   508, 40987,\n",
            "          1637,   508,   651,   749,   503,   286,   340,    26,   290,  3619,\n",
            "           338, 19992, 31564,   286,   465,  3656,   338,  1263,  5236,  9343,\n",
            "           683,    11,   351,   281,  5585,   286,  2818,   922,    12, 49705,\n",
            "            11,   284, 21595,  1133,   340,   656,  5563,   286,  1242,   290,\n",
            "         13064,    13,  1675,   262,  6846,    11,   314,  1276,   751,    11,\n",
            "           339,  6150,  5365, 31655,    26,   475,   339,   373,  7067, 29396,\n",
            "         18443, 12271,   290, 45592,    12, 14792,  5986,   351,   257,  8839,\n",
            "           326,  7284, 35924,   262, 12306,   395,  4133,    13,   198,   198,\n",
            "             1, 26788,   338,   691, 12226,   318],\n",
            "        [22645,    11,   465, 10904,  4252,  6236,   429, 25839,  9230,   808,\n",
            "           276,   416,   257,  8212,   326, 13663,   262,  9040,   286,   257,\n",
            "          2116,    12, 10414,   738,   285, 23968,  4891,    11,   314,  2936,\n",
            "           284,   644,   257,  4922,   339,   550,   262,   976,  3081,   355,\n",
            "           465,  5986,   438,  1169,  3081,   286,  2045,  1190,  4119,    81,\n",
            "           621,   339,   373,    13,   198,   198,  6653,  3656, 27846,   379,\n",
            "           683,  1207,  8344,   803,   306,    11,   475,   465,  2951, 21650,\n",
            "          1613,   607,   284,   262, 18560,    13,   198,   198,     1,  5246,\n",
            "            13,  8759,  2763,  2227,   284,   766,   340,   553,   673,  2540,\n",
            "            11,   355,   611,  2859,  3500,  5223,    13,   679, 28271,   465,\n",
            "         12450,    11,   991, 16755,    13,   198,   198,     1,  5812,    11,\n",
            "          8759,  2763,  1043,   502,   503,   890,  2084,   553,   339,   531,\n",
            "         15376,    26,   788,    11,  6427,   465,  3211,   832,  6164,    25,\n",
            "           366, 16773,   290,   766,   262,  1334,   286,   262,  2156,   526,\n",
            "           198,   198,  1544,  3751,   340,   284,   502,   351,   257,  1611,\n",
            "           286, 24354, 20154, 11293,    25,   262,  7837,    12,  9649,    11,\n",
            "           262,  5486,    12,    83, 29080,    11,   262,  6576,    12,   565,\n",
            "           418,  1039,    11,   262,  4057,  2655,    12,  8439,   274,   438,\n",
            "           439,   262,  3716,  7106,  6637,   286,   262, 45172,   338,  5928,\n",
            "          3773,    13,   843,  8797,   616,  4240,  3432,   262,  2938, 17547,\n",
            "           339,   531,    11,  9644,   503,   465,  7721,   257,  1310,    25,\n",
            "           366,  5297,    11,   314,  1107,   836,   470,   766,   703,   661,\n",
            "          6687,   284,  2107,  1231,   326,   526,   198,   198,  5779,   438,\n",
            "           270,   373,   655,   262,   886,   530,  1244,   423,  1674, 15898,\n",
            "           329,   683,    13,  5514,   339,   373,    11,   832,   340,   477,\n",
            "           290,   287, 15275,   286,   340,   477]]), tensor([[ 4752,   340,  6777,    13,   632,   373,   407,   326,   616,  2583,\n",
            "           408,   373,   366, 47914,  1298,   319,   326,   966,   314,   714,\n",
            "           423,  1813,  4544,  9325,   701,   262, 40830, 12719,  3874,    13,\n",
            "           632,   373,   655,   780,   673,   373,  4808,  1662,    62,  3499,\n",
            "           438,   361,   314,   743,   307, 41746, 12004,   262,  6473,   438,\n",
            "          5562,   314,  1043,   607,   523,    13,  1114,  3619,    11,   477,\n",
            "           465,  1204,    11,   550,   587, 11191,   416,  3499,  1466,    25,\n",
            "           484,   550, 26546,  1068,   465,  1242,    11,   340,   550,   587,\n",
            "           302,  1144,   287,   262,  3024,    12,  4803,   286,   511,   512,\n",
            "          1741,    13,   843,   340,   373,  4361,  5048,   425,   284,  3465,\n",
            "           644,  1245,   262,   366, 25124,  3101,  8137,   286, 16957,  1696,\n",
            "           414,     1,   357,    40,  9577,  4544,  9325,   701,     8,   373,\n",
            "          1719,   319,   683,    13,   198,   198,    40,   423,  4750,   326,\n",
            "          9074,    13,   402,   271, 10899,   373,  5527,    26,   290,   340,\n",
            "           373,  3393, 34953,   856,   326,   607,  5229,   373, 37895,   422,\n",
            "           428, 25179,   257, 19217,   475,  8904, 14676,    13,   632,   318,\n",
            "            11,   355,   257,  3896,    11,   262,   661,   508, 40987,  1637,\n",
            "           508,   651,   749,   503,   286,   340,    26,   290,  3619,   338,\n",
            "         19992, 31564,   286,   465,  3656,   338,  1263,  5236,  9343,   683,\n",
            "            11,   351,   281,  5585,   286,  2818,   922,    12, 49705,    11,\n",
            "           284, 21595,  1133,   340,   656,  5563,   286,  1242,   290, 13064,\n",
            "            13,  1675,   262,  6846,    11,   314,  1276,   751,    11,   339,\n",
            "          6150,  5365, 31655,    26,   475,   339,   373,  7067, 29396, 18443,\n",
            "         12271,   290, 45592,    12, 14792,  5986,   351,   257,  8839,   326,\n",
            "          7284, 35924,   262, 12306,   395,  4133,    13,   198,   198,     1,\n",
            "         26788,   338,   691, 12226,   318,   284],\n",
            "        [   11,   465, 10904,  4252,  6236,   429, 25839,  9230,   808,   276,\n",
            "           416,   257,  8212,   326, 13663,   262,  9040,   286,   257,  2116,\n",
            "            12, 10414,   738,   285, 23968,  4891,    11,   314,  2936,   284,\n",
            "           644,   257,  4922,   339,   550,   262,   976,  3081,   355,   465,\n",
            "          5986,   438,  1169,  3081,   286,  2045,  1190,  4119,    81,   621,\n",
            "           339,   373,    13,   198,   198,  6653,  3656, 27846,   379,   683,\n",
            "          1207,  8344,   803,   306,    11,   475,   465,  2951, 21650,  1613,\n",
            "           607,   284,   262, 18560,    13,   198,   198,     1,  5246,    13,\n",
            "          8759,  2763,  2227,   284,   766,   340,   553,   673,  2540,    11,\n",
            "           355,   611,  2859,  3500,  5223,    13,   679, 28271,   465, 12450,\n",
            "            11,   991, 16755,    13,   198,   198,     1,  5812,    11,  8759,\n",
            "          2763,  1043,   502,   503,   890,  2084,   553,   339,   531, 15376,\n",
            "            26,   788,    11,  6427,   465,  3211,   832,  6164,    25,   366,\n",
            "         16773,   290,   766,   262,  1334,   286,   262,  2156,   526,   198,\n",
            "           198,  1544,  3751,   340,   284,   502,   351,   257,  1611,   286,\n",
            "         24354, 20154, 11293,    25,   262,  7837,    12,  9649,    11,   262,\n",
            "          5486,    12,    83, 29080,    11,   262,  6576,    12,   565,   418,\n",
            "          1039,    11,   262,  4057,  2655,    12,  8439,   274,   438,   439,\n",
            "           262,  3716,  7106,  6637,   286,   262, 45172,   338,  5928,  3773,\n",
            "            13,   843,  8797,   616,  4240,  3432,   262,  2938, 17547,   339,\n",
            "           531,    11,  9644,   503,   465,  7721,   257,  1310,    25,   366,\n",
            "          5297,    11,   314,  1107,   836,   470,   766,   703,   661,  6687,\n",
            "           284,  2107,  1231,   326,   526,   198,   198,  5779,   438,   270,\n",
            "           373,   655,   262,   886,   530,  1244,   423,  1674, 15898,   329,\n",
            "           683,    13,  5514,   339,   373,    11,   832,   340,   477,   290,\n",
            "           287, 15275,   286,   340,   477,   438]])]\n"
          ]
        }
      ]
    },
    {
      "cell_type": "code",
      "source": [
        "for batch in train_dataloader:\n",
        "    input_ids, target_ids = batch\n",
        "    with torch.no_grad():\n",
        "        output_logits = gpt2_model(input_ids)\n",
        "    break"
      ],
      "metadata": {
        "id": "fJeQhrOtLgzN"
      },
      "execution_count": 80,
      "outputs": []
    },
    {
      "cell_type": "code",
      "source": [
        "output_logits[0].shape"
      ],
      "metadata": {
        "id": "Q6UBXUdiR14p",
        "colab": {
          "base_uri": "https://localhost:8080/"
        },
        "outputId": "89d408b3-351f-4f4a-9d05-c8e0d5ef7d2a"
      },
      "execution_count": 81,
      "outputs": [
        {
          "output_type": "execute_result",
          "data": {
            "text/plain": [
              "torch.Size([256, 50257])"
            ]
          },
          "metadata": {},
          "execution_count": 81
        }
      ]
    },
    {
      "cell_type": "code",
      "source": [
        "def calc_loss_batch(input_batch, target_batch, model, device):\n",
        "    input_batch, target_batch = input_batch.to(device), target_batch.to(device)\n",
        "    logits = model(input_batch)\n",
        "    loss = torch.nn.functional.cross_entropy(logits.flatten(0, 1), target_batch.flatten())\n",
        "    return loss\n",
        "\n",
        "\n",
        "def calc_loss_loader(data_loader, model, device, num_batches=None):\n",
        "    total_loss = 0.\n",
        "    for i, (input_batch, target_batch) in enumerate(train_dataloader):\n",
        "        loss = calc_loss_batch(input_batch, target_batch, gpt2_model, device)\n",
        "        total_loss += loss.item()\n",
        "    return total_loss / num_batches"
      ],
      "metadata": {
        "id": "i6iMUrNPMTvM"
      },
      "execution_count": 82,
      "outputs": []
    },
    {
      "cell_type": "code",
      "source": [
        "device = torch.device(\"cuda\" if torch.cuda.is_available() else \"cpu\")\n",
        "with torch.no_grad(): # Disable gradient tracking for efficiency because we are not training, yet\n",
        "    train_loss = calc_loss_loader(train_dataloader, gpt2_model, device, 2)"
      ],
      "metadata": {
        "id": "IlZoDuZYM36h"
      },
      "execution_count": 83,
      "outputs": []
    },
    {
      "cell_type": "markdown",
      "source": [
        "# Training loop"
      ],
      "metadata": {
        "id": "mup6Ydyo6b8T"
      }
    },
    {
      "cell_type": "markdown",
      "source": [
        "## Naive predictions of largest prob value"
      ],
      "metadata": {
        "id": "JrInauxE8cwB"
      }
    },
    {
      "cell_type": "code",
      "source": [
        "from torch.optim import AdamW\n",
        "from tqdm import tqdm"
      ],
      "metadata": {
        "id": "TZE3b1p7ucQX"
      },
      "execution_count": null,
      "outputs": []
    },
    {
      "cell_type": "code",
      "source": [
        "tokenizer = tiktoken.get_encoding(\"gpt2\")\n",
        "\n",
        "text = \"Every effort moves you \"\n",
        "tokens = tokenizer.encode(text,allowed_special={'<|endoftext|>'})\n",
        "tokens_batch = torch.tensor(tokens).view(-1, len(tokens))"
      ],
      "metadata": {
        "id": "1tCfYRVTg5J1"
      },
      "execution_count": null,
      "outputs": []
    },
    {
      "cell_type": "code",
      "source": [
        "tokens_batch.shape"
      ],
      "metadata": {
        "colab": {
          "base_uri": "https://localhost:8080/"
        },
        "id": "d3Km0et7g6f1",
        "outputId": "2a166566-a812-4ba3-8516-a70a5847021d"
      },
      "execution_count": null,
      "outputs": [
        {
          "output_type": "execute_result",
          "data": {
            "text/plain": [
              "torch.Size([1, 5])"
            ]
          },
          "metadata": {},
          "execution_count": 76
        }
      ]
    },
    {
      "cell_type": "code",
      "source": [
        "EPOCHS = 10\n",
        "\n",
        "\n",
        "num_tokens_required = 10\n",
        "gpt2_model = GPT2_small()\n",
        "optimizer = AdamW(gpt2_model.parameters(), lr=5e-4) # learning rate used in gpt2 small\n",
        "\n",
        "for e in tqdm(range(EPOCHS)):\n",
        "\n",
        "  gpt2_model.train()\n",
        "  total_loss = 0.\n",
        "  for i, (input_batch, target_batch) in tqdm(enumerate(train_dataloader), total=len(train_dataloader)):\n",
        "    optimizer.zero_grad()\n",
        "    input_batch, target_batch = input_batch.to(device), target_batch.to(device)\n",
        "    logits = gpt2_model(input_batch)\n",
        "    loss = torch.nn.functional.cross_entropy(logits.flatten(0, 1), target_batch.flatten())\n",
        "    loss.backward()\n",
        "    optimizer.step()\n",
        "    total_loss += loss.item()\n",
        "  print(f\"Training Loss after Epoch {e}==> {total_loss}\")\n",
        "  print(\"Testing for sample sentences \\n\")\n",
        "  token_batch_generated = generate_next_token(gpt2_model, tokens_batch, num_tokens_required)\n",
        "  decoded_texts = [tokenizer.decode(row.tolist()) for row in token_batch_generated]\n",
        "  print(f\"Decoded Text after epoch {e} ==> {decoded_texts}\")\n",
        "  if(e % 2 == 0):\n",
        "    gpt2_model.eval()\n",
        "    with torch.no_grad():\n",
        "      for i, (input_batch, target_batch) in enumerate(valid_dataloader):\n",
        "        input_batch, target_batch = input_batch.to(device), target_batch.to(device)\n",
        "        valid_logits = gpt2_model(input_batch)\n",
        "        valid_loss = torch.nn.functional.cross_entropy(logits.flatten(0, 1), target_batch.flatten())\n",
        "        print(f\"Validation Loss after Epoch {e}==> {valid_loss}\")"
      ],
      "metadata": {
        "id": "6gSt3SisRoSy",
        "colab": {
          "base_uri": "https://localhost:8080/",
          "height": 365
        },
        "outputId": "da7cbc78-482f-4cbf-8753-adbd8464ad38",
        "collapsed": true
      },
      "execution_count": null,
      "outputs": [
        {
          "output_type": "error",
          "ename": "KeyboardInterrupt",
          "evalue": "",
          "traceback": [
            "\u001b[0;31m---------------------------------------------------------------------------\u001b[0m",
            "\u001b[0;31mKeyboardInterrupt\u001b[0m                         Traceback (most recent call last)",
            "\u001b[0;32m/tmp/ipython-input-2609805823.py\u001b[0m in \u001b[0;36m<cell line: 0>\u001b[0;34m()\u001b[0m\n\u001b[1;32m      4\u001b[0m \u001b[0mnum_tokens_required\u001b[0m \u001b[0;34m=\u001b[0m \u001b[0;36m10\u001b[0m\u001b[0;34m\u001b[0m\u001b[0;34m\u001b[0m\u001b[0m\n\u001b[1;32m      5\u001b[0m \u001b[0mgpt2_model\u001b[0m \u001b[0;34m=\u001b[0m \u001b[0mGPT2_small\u001b[0m\u001b[0;34m(\u001b[0m\u001b[0;34m)\u001b[0m\u001b[0;34m\u001b[0m\u001b[0;34m\u001b[0m\u001b[0m\n\u001b[0;32m----> 6\u001b[0;31m \u001b[0moptimizer\u001b[0m \u001b[0;34m=\u001b[0m \u001b[0mAdamW\u001b[0m\u001b[0;34m(\u001b[0m\u001b[0mgpt2_model\u001b[0m\u001b[0;34m.\u001b[0m\u001b[0mparameters\u001b[0m\u001b[0;34m(\u001b[0m\u001b[0;34m)\u001b[0m\u001b[0;34m,\u001b[0m \u001b[0mlr\u001b[0m\u001b[0;34m=\u001b[0m\u001b[0;36m5e-4\u001b[0m\u001b[0;34m)\u001b[0m \u001b[0;31m# learning rate used in gpt2 small\u001b[0m\u001b[0;34m\u001b[0m\u001b[0;34m\u001b[0m\u001b[0m\n\u001b[0m\u001b[1;32m      7\u001b[0m \u001b[0;34m\u001b[0m\u001b[0m\n\u001b[1;32m      8\u001b[0m \u001b[0;32mfor\u001b[0m \u001b[0me\u001b[0m \u001b[0;32min\u001b[0m \u001b[0mtqdm\u001b[0m\u001b[0;34m(\u001b[0m\u001b[0mrange\u001b[0m\u001b[0;34m(\u001b[0m\u001b[0mEPOCHS\u001b[0m\u001b[0;34m)\u001b[0m\u001b[0;34m)\u001b[0m\u001b[0;34m:\u001b[0m\u001b[0;34m\u001b[0m\u001b[0;34m\u001b[0m\u001b[0m\n",
            "\u001b[0;32m/usr/local/lib/python3.11/dist-packages/torch/optim/adamw.py\u001b[0m in \u001b[0;36m__init__\u001b[0;34m(self, params, lr, betas, eps, weight_decay, amsgrad, maximize, foreach, capturable, differentiable, fused)\u001b[0m\n\u001b[1;32m     98\u001b[0m             \u001b[0mfused\u001b[0m\u001b[0;34m=\u001b[0m\u001b[0mfused\u001b[0m\u001b[0;34m,\u001b[0m\u001b[0;34m\u001b[0m\u001b[0;34m\u001b[0m\u001b[0m\n\u001b[1;32m     99\u001b[0m         )\n\u001b[0;32m--> 100\u001b[0;31m         \u001b[0msuper\u001b[0m\u001b[0;34m(\u001b[0m\u001b[0;34m)\u001b[0m\u001b[0;34m.\u001b[0m\u001b[0m__init__\u001b[0m\u001b[0;34m(\u001b[0m\u001b[0mparams\u001b[0m\u001b[0;34m,\u001b[0m \u001b[0mdefaults\u001b[0m\u001b[0;34m)\u001b[0m\u001b[0;34m\u001b[0m\u001b[0;34m\u001b[0m\u001b[0m\n\u001b[0m\u001b[1;32m    101\u001b[0m \u001b[0;34m\u001b[0m\u001b[0m\n\u001b[1;32m    102\u001b[0m         \u001b[0;32mif\u001b[0m \u001b[0mfused\u001b[0m\u001b[0;34m:\u001b[0m\u001b[0;34m\u001b[0m\u001b[0;34m\u001b[0m\u001b[0m\n",
            "\u001b[0;32m/usr/local/lib/python3.11/dist-packages/torch/optim/optimizer.py\u001b[0m in \u001b[0;36m__init__\u001b[0;34m(self, params, defaults)\u001b[0m\n\u001b[1;32m    375\u001b[0m \u001b[0;34m\u001b[0m\u001b[0m\n\u001b[1;32m    376\u001b[0m         \u001b[0;32mfor\u001b[0m \u001b[0mparam_group\u001b[0m \u001b[0;32min\u001b[0m \u001b[0mparam_groups\u001b[0m\u001b[0;34m:\u001b[0m\u001b[0;34m\u001b[0m\u001b[0;34m\u001b[0m\u001b[0m\n\u001b[0;32m--> 377\u001b[0;31m             \u001b[0mself\u001b[0m\u001b[0;34m.\u001b[0m\u001b[0madd_param_group\u001b[0m\u001b[0;34m(\u001b[0m\u001b[0mcast\u001b[0m\u001b[0;34m(\u001b[0m\u001b[0mdict\u001b[0m\u001b[0;34m,\u001b[0m \u001b[0mparam_group\u001b[0m\u001b[0;34m)\u001b[0m\u001b[0;34m)\u001b[0m\u001b[0;34m\u001b[0m\u001b[0;34m\u001b[0m\u001b[0m\n\u001b[0m\u001b[1;32m    378\u001b[0m \u001b[0;34m\u001b[0m\u001b[0m\n\u001b[1;32m    379\u001b[0m         \u001b[0;31m# Allows _cuda_graph_capture_health_check to rig a poor man's TORCH_WARN_ONCE in python,\u001b[0m\u001b[0;34m\u001b[0m\u001b[0;34m\u001b[0m\u001b[0m\n",
            "\u001b[0;32m/usr/local/lib/python3.11/dist-packages/torch/_compile.py\u001b[0m in \u001b[0;36minner\u001b[0;34m(*args, **kwargs)\u001b[0m\n\u001b[1;32m     25\u001b[0m             \u001b[0mdisable_fn\u001b[0m \u001b[0;34m=\u001b[0m \u001b[0mgetattr\u001b[0m\u001b[0;34m(\u001b[0m\u001b[0mfn\u001b[0m\u001b[0;34m,\u001b[0m \u001b[0;34m\"__dynamo_disable\"\u001b[0m\u001b[0;34m,\u001b[0m \u001b[0;32mNone\u001b[0m\u001b[0;34m)\u001b[0m\u001b[0;34m\u001b[0m\u001b[0;34m\u001b[0m\u001b[0m\n\u001b[1;32m     26\u001b[0m             \u001b[0;32mif\u001b[0m \u001b[0mdisable_fn\u001b[0m \u001b[0;32mis\u001b[0m \u001b[0;32mNone\u001b[0m\u001b[0;34m:\u001b[0m\u001b[0;34m\u001b[0m\u001b[0;34m\u001b[0m\u001b[0m\n\u001b[0;32m---> 27\u001b[0;31m                 \u001b[0;32mimport\u001b[0m \u001b[0mtorch\u001b[0m\u001b[0;34m.\u001b[0m\u001b[0m_dynamo\u001b[0m\u001b[0;34m\u001b[0m\u001b[0;34m\u001b[0m\u001b[0m\n\u001b[0m\u001b[1;32m     28\u001b[0m \u001b[0;34m\u001b[0m\u001b[0m\n\u001b[1;32m     29\u001b[0m                 \u001b[0mdisable_fn\u001b[0m \u001b[0;34m=\u001b[0m \u001b[0mtorch\u001b[0m\u001b[0;34m.\u001b[0m\u001b[0m_dynamo\u001b[0m\u001b[0;34m.\u001b[0m\u001b[0mdisable\u001b[0m\u001b[0;34m(\u001b[0m\u001b[0mfn\u001b[0m\u001b[0;34m,\u001b[0m \u001b[0mrecursive\u001b[0m\u001b[0;34m)\u001b[0m\u001b[0;34m\u001b[0m\u001b[0;34m\u001b[0m\u001b[0m\n",
            "\u001b[0;32m/usr/local/lib/python3.11/dist-packages/torch/_dynamo/__init__.py\u001b[0m in \u001b[0;36m<module>\u001b[0;34m\u001b[0m\n\u001b[1;32m     40\u001b[0m \u001b[0;34m\u001b[0m\u001b[0m\n\u001b[1;32m     41\u001b[0m \u001b[0;31m# Register polyfill functions\u001b[0m\u001b[0;34m\u001b[0m\u001b[0;34m\u001b[0m\u001b[0m\n\u001b[0;32m---> 42\u001b[0;31m \u001b[0;32mfrom\u001b[0m \u001b[0;34m.\u001b[0m\u001b[0mpolyfills\u001b[0m \u001b[0;32mimport\u001b[0m \u001b[0mloader\u001b[0m \u001b[0;32mas\u001b[0m \u001b[0m_\u001b[0m  \u001b[0;31m# usort: skip # noqa: F401\u001b[0m\u001b[0;34m\u001b[0m\u001b[0;34m\u001b[0m\u001b[0m\n\u001b[0m\u001b[1;32m     43\u001b[0m \u001b[0;34m\u001b[0m\u001b[0m\n\u001b[1;32m     44\u001b[0m \u001b[0;34m\u001b[0m\u001b[0m\n",
            "\u001b[0;32m/usr/local/lib/python3.11/dist-packages/torch/_dynamo/polyfills/loader.py\u001b[0m in \u001b[0;36m<module>\u001b[0;34m\u001b[0m\n\u001b[1;32m     22\u001b[0m     \u001b[0;34m\"sys\"\u001b[0m\u001b[0;34m,\u001b[0m\u001b[0;34m\u001b[0m\u001b[0;34m\u001b[0m\u001b[0m\n\u001b[1;32m     23\u001b[0m )\n\u001b[0;32m---> 24\u001b[0;31m POLYFILLED_MODULES: Tuple[\"ModuleType\", ...] = tuple(\n\u001b[0m\u001b[1;32m     25\u001b[0m     \u001b[0mimportlib\u001b[0m\u001b[0;34m.\u001b[0m\u001b[0mimport_module\u001b[0m\u001b[0;34m(\u001b[0m\u001b[0;34mf\".{submodule}\"\u001b[0m\u001b[0;34m,\u001b[0m \u001b[0mpackage\u001b[0m\u001b[0;34m=\u001b[0m\u001b[0mpolyfills\u001b[0m\u001b[0;34m.\u001b[0m\u001b[0m__name__\u001b[0m\u001b[0;34m)\u001b[0m\u001b[0;34m\u001b[0m\u001b[0;34m\u001b[0m\u001b[0m\n\u001b[1;32m     26\u001b[0m     \u001b[0;32mfor\u001b[0m \u001b[0msubmodule\u001b[0m \u001b[0;32min\u001b[0m \u001b[0mPOLYFILLED_MODULE_NAMES\u001b[0m\u001b[0;34m\u001b[0m\u001b[0;34m\u001b[0m\u001b[0m\n",
            "\u001b[0;32m/usr/local/lib/python3.11/dist-packages/torch/_dynamo/polyfills/loader.py\u001b[0m in \u001b[0;36m<genexpr>\u001b[0;34m(.0)\u001b[0m\n\u001b[1;32m     23\u001b[0m )\n\u001b[1;32m     24\u001b[0m POLYFILLED_MODULES: Tuple[\"ModuleType\", ...] = tuple(\n\u001b[0;32m---> 25\u001b[0;31m     \u001b[0mimportlib\u001b[0m\u001b[0;34m.\u001b[0m\u001b[0mimport_module\u001b[0m\u001b[0;34m(\u001b[0m\u001b[0;34mf\".{submodule}\"\u001b[0m\u001b[0;34m,\u001b[0m \u001b[0mpackage\u001b[0m\u001b[0;34m=\u001b[0m\u001b[0mpolyfills\u001b[0m\u001b[0;34m.\u001b[0m\u001b[0m__name__\u001b[0m\u001b[0;34m)\u001b[0m\u001b[0;34m\u001b[0m\u001b[0;34m\u001b[0m\u001b[0m\n\u001b[0m\u001b[1;32m     26\u001b[0m     \u001b[0;32mfor\u001b[0m \u001b[0msubmodule\u001b[0m \u001b[0;32min\u001b[0m \u001b[0mPOLYFILLED_MODULE_NAMES\u001b[0m\u001b[0;34m\u001b[0m\u001b[0;34m\u001b[0m\u001b[0m\n\u001b[1;32m     27\u001b[0m )\n",
            "\u001b[0;32m/usr/lib/python3.11/importlib/__init__.py\u001b[0m in \u001b[0;36mimport_module\u001b[0;34m(name, package)\u001b[0m\n\u001b[1;32m    124\u001b[0m                 \u001b[0;32mbreak\u001b[0m\u001b[0;34m\u001b[0m\u001b[0;34m\u001b[0m\u001b[0m\n\u001b[1;32m    125\u001b[0m             \u001b[0mlevel\u001b[0m \u001b[0;34m+=\u001b[0m \u001b[0;36m1\u001b[0m\u001b[0;34m\u001b[0m\u001b[0;34m\u001b[0m\u001b[0m\n\u001b[0;32m--> 126\u001b[0;31m     \u001b[0;32mreturn\u001b[0m \u001b[0m_bootstrap\u001b[0m\u001b[0;34m.\u001b[0m\u001b[0m_gcd_import\u001b[0m\u001b[0;34m(\u001b[0m\u001b[0mname\u001b[0m\u001b[0;34m[\u001b[0m\u001b[0mlevel\u001b[0m\u001b[0;34m:\u001b[0m\u001b[0;34m]\u001b[0m\u001b[0;34m,\u001b[0m \u001b[0mpackage\u001b[0m\u001b[0;34m,\u001b[0m \u001b[0mlevel\u001b[0m\u001b[0;34m)\u001b[0m\u001b[0;34m\u001b[0m\u001b[0;34m\u001b[0m\u001b[0m\n\u001b[0m\u001b[1;32m    127\u001b[0m \u001b[0;34m\u001b[0m\u001b[0m\n\u001b[1;32m    128\u001b[0m \u001b[0;34m\u001b[0m\u001b[0m\n",
            "\u001b[0;32m/usr/local/lib/python3.11/dist-packages/torch/_dynamo/polyfills/builtins.py\u001b[0m in \u001b[0;36m<module>\u001b[0;34m\u001b[0m\n\u001b[1;32m     24\u001b[0m \u001b[0;34m\u001b[0m\u001b[0m\n\u001b[1;32m     25\u001b[0m \u001b[0;34m\u001b[0m\u001b[0m\n\u001b[0;32m---> 26\u001b[0;31m \u001b[0;34m@\u001b[0m\u001b[0msubstitute_in_graph\u001b[0m\u001b[0;34m(\u001b[0m\u001b[0mbuiltins\u001b[0m\u001b[0;34m.\u001b[0m\u001b[0mall\u001b[0m\u001b[0;34m,\u001b[0m \u001b[0mcan_constant_fold_through\u001b[0m\u001b[0;34m=\u001b[0m\u001b[0;32mTrue\u001b[0m\u001b[0;34m)\u001b[0m\u001b[0;34m\u001b[0m\u001b[0;34m\u001b[0m\u001b[0m\n\u001b[0m\u001b[1;32m     27\u001b[0m \u001b[0;32mdef\u001b[0m \u001b[0mall\u001b[0m\u001b[0;34m(\u001b[0m\u001b[0miterable\u001b[0m\u001b[0;34m:\u001b[0m \u001b[0mIterable\u001b[0m\u001b[0;34m[\u001b[0m\u001b[0mobject\u001b[0m\u001b[0;34m]\u001b[0m\u001b[0;34m,\u001b[0m \u001b[0;34m/\u001b[0m\u001b[0;34m)\u001b[0m \u001b[0;34m->\u001b[0m \u001b[0mbool\u001b[0m\u001b[0;34m:\u001b[0m\u001b[0;34m\u001b[0m\u001b[0;34m\u001b[0m\u001b[0m\n\u001b[1;32m     28\u001b[0m     \u001b[0;32mfor\u001b[0m \u001b[0melem\u001b[0m \u001b[0;32min\u001b[0m \u001b[0miterable\u001b[0m\u001b[0;34m:\u001b[0m\u001b[0;34m\u001b[0m\u001b[0;34m\u001b[0m\u001b[0m\n",
            "\u001b[0;32m/usr/local/lib/python3.11/dist-packages/torch/_dynamo/decorators.py\u001b[0m in \u001b[0;36mwrapper\u001b[0;34m(traceable_fn)\u001b[0m\n\u001b[1;32m    362\u001b[0m             \u001b[0;32mraise\u001b[0m \u001b[0mValueError\u001b[0m\u001b[0;34m(\u001b[0m\u001b[0;34mf\"Duplicate polyfilled object {original_fn}\"\u001b[0m\u001b[0;34m)\u001b[0m\u001b[0;34m\u001b[0m\u001b[0;34m\u001b[0m\u001b[0m\n\u001b[1;32m    363\u001b[0m \u001b[0;34m\u001b[0m\u001b[0m\n\u001b[0;32m--> 364\u001b[0;31m         \u001b[0mrule_map\u001b[0m\u001b[0;34m:\u001b[0m \u001b[0mDict\u001b[0m\u001b[0;34m[\u001b[0m\u001b[0mAny\u001b[0m\u001b[0;34m,\u001b[0m \u001b[0mType\u001b[0m\u001b[0;34m[\u001b[0m\u001b[0mVariableTracker\u001b[0m\u001b[0;34m]\u001b[0m\u001b[0;34m]\u001b[0m \u001b[0;34m=\u001b[0m \u001b[0mget_torch_obj_rule_map\u001b[0m\u001b[0;34m(\u001b[0m\u001b[0;34m)\u001b[0m\u001b[0;34m\u001b[0m\u001b[0;34m\u001b[0m\u001b[0m\n\u001b[0m\u001b[1;32m    365\u001b[0m         \u001b[0;32mif\u001b[0m \u001b[0moriginal_fn\u001b[0m \u001b[0;32min\u001b[0m \u001b[0mrule_map\u001b[0m\u001b[0;34m:\u001b[0m\u001b[0;34m\u001b[0m\u001b[0;34m\u001b[0m\u001b[0m\n\u001b[1;32m    366\u001b[0m             raise ValueError(\n",
            "\u001b[0;32m/usr/local/lib/python3.11/dist-packages/torch/_dynamo/trace_rules.py\u001b[0m in \u001b[0;36mget_torch_obj_rule_map\u001b[0;34m()\u001b[0m\n\u001b[1;32m   2873\u001b[0m         \u001b[0;32mfor\u001b[0m \u001b[0mk\u001b[0m\u001b[0;34m,\u001b[0m \u001b[0mv\u001b[0m \u001b[0;32min\u001b[0m \u001b[0mm\u001b[0m\u001b[0;34m.\u001b[0m\u001b[0mitems\u001b[0m\u001b[0;34m(\u001b[0m\u001b[0;34m)\u001b[0m\u001b[0;34m:\u001b[0m  \u001b[0;31m# type: ignore[attr-defined]\u001b[0m\u001b[0;34m\u001b[0m\u001b[0;34m\u001b[0m\u001b[0m\n\u001b[1;32m   2874\u001b[0m             \u001b[0;32mif\u001b[0m \u001b[0;34m\".py#\"\u001b[0m \u001b[0;32mnot\u001b[0m \u001b[0;32min\u001b[0m \u001b[0mk\u001b[0m\u001b[0;34m:\u001b[0m\u001b[0;34m\u001b[0m\u001b[0;34m\u001b[0m\u001b[0m\n\u001b[0;32m-> 2875\u001b[0;31m                 \u001b[0mobj\u001b[0m \u001b[0;34m=\u001b[0m \u001b[0mload_object\u001b[0m\u001b[0;34m(\u001b[0m\u001b[0mk\u001b[0m\u001b[0;34m)\u001b[0m\u001b[0;34m\u001b[0m\u001b[0;34m\u001b[0m\u001b[0m\n\u001b[0m\u001b[1;32m   2876\u001b[0m             \u001b[0;32melse\u001b[0m\u001b[0;34m:\u001b[0m\u001b[0;34m\u001b[0m\u001b[0;34m\u001b[0m\u001b[0m\n\u001b[1;32m   2877\u001b[0m                 \u001b[0mobj\u001b[0m \u001b[0;34m=\u001b[0m \u001b[0m_module_dir\u001b[0m\u001b[0;34m(\u001b[0m\u001b[0mtorch\u001b[0m\u001b[0;34m)\u001b[0m \u001b[0;34m+\u001b[0m \u001b[0mk\u001b[0m\u001b[0;34m[\u001b[0m\u001b[0mlen\u001b[0m\u001b[0;34m(\u001b[0m\u001b[0;34m\"torch/\"\u001b[0m\u001b[0;34m)\u001b[0m \u001b[0;34m:\u001b[0m\u001b[0;34m]\u001b[0m\u001b[0;34m\u001b[0m\u001b[0;34m\u001b[0m\u001b[0m\n",
            "\u001b[0;32m/usr/local/lib/python3.11/dist-packages/torch/_dynamo/trace_rules.py\u001b[0m in \u001b[0;36mload_object\u001b[0;34m(name)\u001b[0m\n\u001b[1;32m   2904\u001b[0m         \u001b[0;32melse\u001b[0m\u001b[0;34m:\u001b[0m\u001b[0;34m\u001b[0m\u001b[0;34m\u001b[0m\u001b[0m\n\u001b[1;32m   2905\u001b[0m             \u001b[0;32massert\u001b[0m \u001b[0mlen\u001b[0m\u001b[0;34m(\u001b[0m\u001b[0mx\u001b[0m\u001b[0;34m)\u001b[0m \u001b[0;34m==\u001b[0m \u001b[0;36m1\u001b[0m\u001b[0;34m,\u001b[0m \u001b[0;34mf\"Invalid obj name {name}\"\u001b[0m\u001b[0;34m\u001b[0m\u001b[0;34m\u001b[0m\u001b[0m\n\u001b[0;32m-> 2906\u001b[0;31m             \u001b[0mval\u001b[0m \u001b[0;34m=\u001b[0m \u001b[0m_load_obj_from_str\u001b[0m\u001b[0;34m(\u001b[0m\u001b[0mx\u001b[0m\u001b[0;34m[\u001b[0m\u001b[0;36m0\u001b[0m\u001b[0;34m]\u001b[0m\u001b[0;34m)\u001b[0m\u001b[0;34m\u001b[0m\u001b[0;34m\u001b[0m\u001b[0m\n\u001b[0m\u001b[1;32m   2907\u001b[0m         \u001b[0mval\u001b[0m \u001b[0;34m=\u001b[0m \u001b[0munwrap_if_wrapper\u001b[0m\u001b[0;34m(\u001b[0m\u001b[0mval\u001b[0m\u001b[0;34m)\u001b[0m\u001b[0;34m\u001b[0m\u001b[0;34m\u001b[0m\u001b[0m\n\u001b[1;32m   2908\u001b[0m     \u001b[0;32mexcept\u001b[0m \u001b[0;34m(\u001b[0m\u001b[0mAttributeError\u001b[0m\u001b[0;34m,\u001b[0m \u001b[0mImportError\u001b[0m\u001b[0;34m)\u001b[0m\u001b[0;34m:\u001b[0m\u001b[0;34m\u001b[0m\u001b[0;34m\u001b[0m\u001b[0m\n",
            "\u001b[0;32m/usr/local/lib/python3.11/dist-packages/torch/_dynamo/trace_rules.py\u001b[0m in \u001b[0;36m_load_obj_from_str\u001b[0;34m(fully_qualified_name)\u001b[0m\n\u001b[1;32m   2888\u001b[0m \u001b[0;32mdef\u001b[0m \u001b[0m_load_obj_from_str\u001b[0m\u001b[0;34m(\u001b[0m\u001b[0mfully_qualified_name\u001b[0m\u001b[0;34m)\u001b[0m\u001b[0;34m:\u001b[0m\u001b[0;34m\u001b[0m\u001b[0;34m\u001b[0m\u001b[0m\n\u001b[1;32m   2889\u001b[0m     \u001b[0mmodule\u001b[0m\u001b[0;34m,\u001b[0m \u001b[0mobj_name\u001b[0m \u001b[0;34m=\u001b[0m \u001b[0mfully_qualified_name\u001b[0m\u001b[0;34m.\u001b[0m\u001b[0mrsplit\u001b[0m\u001b[0;34m(\u001b[0m\u001b[0;34m\".\"\u001b[0m\u001b[0;34m,\u001b[0m \u001b[0mmaxsplit\u001b[0m\u001b[0;34m=\u001b[0m\u001b[0;36m1\u001b[0m\u001b[0;34m)\u001b[0m\u001b[0;34m\u001b[0m\u001b[0;34m\u001b[0m\u001b[0m\n\u001b[0;32m-> 2890\u001b[0;31m     \u001b[0;32mreturn\u001b[0m \u001b[0mgetattr\u001b[0m\u001b[0;34m(\u001b[0m\u001b[0mimportlib\u001b[0m\u001b[0;34m.\u001b[0m\u001b[0mimport_module\u001b[0m\u001b[0;34m(\u001b[0m\u001b[0mmodule\u001b[0m\u001b[0;34m)\u001b[0m\u001b[0;34m,\u001b[0m \u001b[0mobj_name\u001b[0m\u001b[0;34m)\u001b[0m\u001b[0;34m\u001b[0m\u001b[0;34m\u001b[0m\u001b[0m\n\u001b[0m\u001b[1;32m   2891\u001b[0m \u001b[0;34m\u001b[0m\u001b[0m\n\u001b[1;32m   2892\u001b[0m \u001b[0;34m\u001b[0m\u001b[0m\n",
            "\u001b[0;32m/usr/lib/python3.11/importlib/__init__.py\u001b[0m in \u001b[0;36mimport_module\u001b[0;34m(name, package)\u001b[0m\n\u001b[1;32m    124\u001b[0m                 \u001b[0;32mbreak\u001b[0m\u001b[0;34m\u001b[0m\u001b[0;34m\u001b[0m\u001b[0m\n\u001b[1;32m    125\u001b[0m             \u001b[0mlevel\u001b[0m \u001b[0;34m+=\u001b[0m \u001b[0;36m1\u001b[0m\u001b[0;34m\u001b[0m\u001b[0;34m\u001b[0m\u001b[0m\n\u001b[0;32m--> 126\u001b[0;31m     \u001b[0;32mreturn\u001b[0m \u001b[0m_bootstrap\u001b[0m\u001b[0;34m.\u001b[0m\u001b[0m_gcd_import\u001b[0m\u001b[0;34m(\u001b[0m\u001b[0mname\u001b[0m\u001b[0;34m[\u001b[0m\u001b[0mlevel\u001b[0m\u001b[0;34m:\u001b[0m\u001b[0;34m]\u001b[0m\u001b[0;34m,\u001b[0m \u001b[0mpackage\u001b[0m\u001b[0;34m,\u001b[0m \u001b[0mlevel\u001b[0m\u001b[0;34m)\u001b[0m\u001b[0;34m\u001b[0m\u001b[0;34m\u001b[0m\u001b[0m\n\u001b[0m\u001b[1;32m    127\u001b[0m \u001b[0;34m\u001b[0m\u001b[0m\n\u001b[1;32m    128\u001b[0m \u001b[0;34m\u001b[0m\u001b[0m\n",
            "\u001b[0;32m/usr/local/lib/python3.11/dist-packages/torch/_higher_order_ops/map.py\u001b[0m in \u001b[0;36m<module>\u001b[0;34m\u001b[0m\n\u001b[1;32m      4\u001b[0m \u001b[0;32mfrom\u001b[0m \u001b[0mtorch\u001b[0m\u001b[0;34m.\u001b[0m\u001b[0m_C\u001b[0m \u001b[0;32mimport\u001b[0m \u001b[0mDispatchKey\u001b[0m\u001b[0;34m\u001b[0m\u001b[0;34m\u001b[0m\u001b[0m\n\u001b[1;32m      5\u001b[0m \u001b[0;32mfrom\u001b[0m \u001b[0mtorch\u001b[0m\u001b[0;34m.\u001b[0m\u001b[0m_dispatch\u001b[0m\u001b[0;34m.\u001b[0m\u001b[0mpython\u001b[0m \u001b[0;32mimport\u001b[0m \u001b[0msuspend_functionalization\u001b[0m\u001b[0;34m\u001b[0m\u001b[0;34m\u001b[0m\u001b[0m\n\u001b[0;32m----> 6\u001b[0;31m \u001b[0;32mfrom\u001b[0m \u001b[0mtorch\u001b[0m\u001b[0;34m.\u001b[0m\u001b[0m_functorch\u001b[0m\u001b[0;34m.\u001b[0m\u001b[0maot_autograd\u001b[0m \u001b[0;32mimport\u001b[0m \u001b[0mAOTConfig\u001b[0m\u001b[0;34m,\u001b[0m \u001b[0mcreate_joint\u001b[0m\u001b[0;34m\u001b[0m\u001b[0;34m\u001b[0m\u001b[0m\n\u001b[0m\u001b[1;32m      7\u001b[0m from torch._higher_order_ops.utils import (\n\u001b[1;32m      8\u001b[0m     \u001b[0m_has_potential_branch_input_alias\u001b[0m\u001b[0;34m,\u001b[0m\u001b[0;34m\u001b[0m\u001b[0;34m\u001b[0m\u001b[0m\n",
            "\u001b[0;32m/usr/local/lib/python3.11/dist-packages/torch/_functorch/aot_autograd.py\u001b[0m in \u001b[0;36m<module>\u001b[0;34m\u001b[0m\n\u001b[1;32m     46\u001b[0m )\n\u001b[1;32m     47\u001b[0m \u001b[0;32mfrom\u001b[0m \u001b[0;34m.\u001b[0m \u001b[0;32mimport\u001b[0m \u001b[0mconfig\u001b[0m\u001b[0;34m\u001b[0m\u001b[0;34m\u001b[0m\u001b[0m\n\u001b[0;32m---> 48\u001b[0;31m from ._aot_autograd.autograd_cache import (  # noqa: F401\n\u001b[0m\u001b[1;32m     49\u001b[0m     \u001b[0mAOTAutogradCache\u001b[0m\u001b[0;34m,\u001b[0m\u001b[0;34m\u001b[0m\u001b[0;34m\u001b[0m\u001b[0m\n\u001b[1;32m     50\u001b[0m     \u001b[0mautograd_cache_key\u001b[0m\u001b[0;34m,\u001b[0m\u001b[0;34m\u001b[0m\u001b[0;34m\u001b[0m\u001b[0m\n",
            "\u001b[0;32m/usr/local/lib/python3.11/dist-packages/torch/_functorch/_aot_autograd/autograd_cache.py\u001b[0m in \u001b[0;36m<module>\u001b[0;34m\u001b[0m\n\u001b[1;32m     20\u001b[0m \u001b[0;32mfrom\u001b[0m \u001b[0mtorch\u001b[0m\u001b[0;34m.\u001b[0m\u001b[0m_dynamo\u001b[0m\u001b[0;34m.\u001b[0m\u001b[0mutils\u001b[0m \u001b[0;32mimport\u001b[0m \u001b[0mcounters\u001b[0m\u001b[0;34m,\u001b[0m \u001b[0mget_chromium_event_logger\u001b[0m\u001b[0;34m\u001b[0m\u001b[0;34m\u001b[0m\u001b[0m\n\u001b[1;32m     21\u001b[0m \u001b[0;32mfrom\u001b[0m \u001b[0mtorch\u001b[0m\u001b[0;34m.\u001b[0m\u001b[0m_functorch\u001b[0m \u001b[0;32mimport\u001b[0m \u001b[0mconfig\u001b[0m\u001b[0;34m\u001b[0m\u001b[0;34m\u001b[0m\u001b[0m\n\u001b[0;32m---> 22\u001b[0;31m from torch._inductor.codecache import (\n\u001b[0m\u001b[1;32m     23\u001b[0m     \u001b[0m_ident\u001b[0m\u001b[0;34m,\u001b[0m\u001b[0;34m\u001b[0m\u001b[0;34m\u001b[0m\u001b[0m\n\u001b[1;32m     24\u001b[0m     \u001b[0madd_ephemeral_timeout_increase_for_distributed\u001b[0m\u001b[0;34m,\u001b[0m\u001b[0;34m\u001b[0m\u001b[0;34m\u001b[0m\u001b[0m\n",
            "\u001b[0;32m/usr/local/lib/python3.11/dist-packages/torch/_inductor/codecache.py\u001b[0m in \u001b[0;36m<module>\u001b[0;34m\u001b[0m\n\u001b[1;32m     91\u001b[0m \u001b[0mhttps\u001b[0m\u001b[0;34m:\u001b[0m\u001b[0;34m//\u001b[0m\u001b[0mgithub\u001b[0m\u001b[0;34m.\u001b[0m\u001b[0mcom\u001b[0m\u001b[0;34m/\u001b[0m\u001b[0mpytorch\u001b[0m\u001b[0;34m/\u001b[0m\u001b[0mpytorch\u001b[0m\u001b[0;34m/\u001b[0m\u001b[0missues\u001b[0m\u001b[0;34m/\u001b[0m\u001b[0;36m124245\u001b[0m\u001b[0;31m#issuecomment-2197778902\u001b[0m\u001b[0;34m\u001b[0m\u001b[0;34m\u001b[0m\u001b[0m\n\u001b[1;32m     92\u001b[0m \"\"\"\n\u001b[0;32m---> 93\u001b[0;31m from torch._inductor.cpp_builder import (\n\u001b[0m\u001b[1;32m     94\u001b[0m     \u001b[0m_set_gpu_runtime_env\u001b[0m\u001b[0;34m,\u001b[0m\u001b[0;34m\u001b[0m\u001b[0;34m\u001b[0m\u001b[0m\n\u001b[1;32m     95\u001b[0m     \u001b[0m_transform_cuda_paths\u001b[0m\u001b[0;34m,\u001b[0m\u001b[0;34m\u001b[0m\u001b[0;34m\u001b[0m\u001b[0m\n",
            "\u001b[0;31mKeyboardInterrupt\u001b[0m: "
          ]
        }
      ]
    },
    {
      "cell_type": "code",
      "source": [
        "# Even though we have generated texts, the training loss keeps reducing but the validation loss remains stagnant\n",
        "# classic case of overfitting\n",
        "# To avoid this we use Temperature and top-k sampling"
      ],
      "metadata": {
        "id": "jYlX_Khiu51m"
      },
      "execution_count": null,
      "outputs": []
    },
    {
      "cell_type": "markdown",
      "source": [
        "## Avoiding overfitting issue"
      ],
      "metadata": {
        "id": "0RtCbwlIr2oJ"
      }
    },
    {
      "cell_type": "markdown",
      "source": [
        "### Temperature\n",
        "\n",
        "We divide the output by temperature which changes the distribution\n",
        "Then we choose multinomial sampling to choose probabilistic words from the new distribution\n",
        "\n",
        "For example:\n",
        "if the temperature scaling and softmax are performed, we get the prob for each word\n",
        "\n",
        "[0.2, 0.33, 0.4, 0.01, ...]\n",
        "\n",
        "This list will be passed for multinomial sampling and 40% chance the index 2 will be selected from this sample"
      ],
      "metadata": {
        "id": "MeVu7e4Ar4a1"
      }
    },
    {
      "cell_type": "code",
      "source": [
        "import seaborn as sns"
      ],
      "metadata": {
        "id": "sUcx1ZPyslAr"
      },
      "execution_count": null,
      "outputs": []
    },
    {
      "cell_type": "code",
      "source": [
        "def generate_next_token_with_temp(gpt2_model, token_batch, num_tokens_required, temperature):\n",
        "\n",
        "  for _ in range(num_tokens_required):\n",
        "\n",
        "    token_batch_compressed = token_batch[:,-GPT2_CFG['context_len']:] # if more than context length, compress else its okay\n",
        "\n",
        "    with torch.no_grad():\n",
        "      output_logits = gpt2_model(token_batch_compressed)\n",
        "\n",
        "    # consider only the last value to predict next word\n",
        "    output_logits = output_logits[:,-1,:]\n",
        "    output_logits = output_logits / temperature\n",
        "    output_logits = torch.softmax(output_logits, dim = -1)\n",
        "    output_temp = torch.multinomial(torch.softmax(output_logits, dim=-1), num_samples=1)\n",
        "\n",
        "    token_batch = torch.cat((token_batch, output_temp), dim=-1)\n",
        "  return token_batch"
      ],
      "metadata": {
        "id": "lhMLSSQzrtr1"
      },
      "execution_count": null,
      "outputs": []
    },
    {
      "cell_type": "code",
      "source": [
        "EPOCHS = 7\n",
        "\n",
        "\n",
        "num_tokens_required = 25\n",
        "gpt2_model = GPT2_small()\n",
        "optimizer = AdamW(gpt2_model.parameters(), lr=5e-4) # learning rate used in gpt2 small\n",
        "\n",
        "for e in tqdm(range(EPOCHS)):\n",
        "\n",
        "  gpt2_model.train()\n",
        "  total_loss = 0.\n",
        "  for i, (input_batch, target_batch) in tqdm(enumerate(train_dataloader), total=len(train_dataloader)):\n",
        "    optimizer.zero_grad()\n",
        "    input_batch, target_batch = input_batch.to(device), target_batch.to(device)\n",
        "    logits = gpt2_model(input_batch)\n",
        "    loss = torch.nn.functional.cross_entropy(logits.flatten(0, 1), target_batch.flatten())\n",
        "    loss.backward()\n",
        "    optimizer.step()\n",
        "    total_loss += loss.item()\n",
        "  print(f\"Training Loss after Epoch {e}==> {total_loss}\")\n",
        "  print(\"Testing for sample sentences \\n\")\n",
        "  token_batch_generated = generate_next_token_with_temp(gpt2_model, tokens_batch, num_tokens_required, 1.5)\n",
        "  decoded_texts = [tokenizer.decode(row.tolist()) for row in token_batch_generated]\n",
        "  print(f\"Decoded Text after epoch {e} ==> {decoded_texts}\")\n",
        "  if(e % 2 == 0):\n",
        "    gpt2_model.eval()\n",
        "    with torch.no_grad():\n",
        "      for i, (input_batch, target_batch) in enumerate(valid_dataloader):\n",
        "        input_batch, target_batch = input_batch.to(device), target_batch.to(device)\n",
        "        valid_logits = gpt2_model(input_batch)\n",
        "        valid_loss = torch.nn.functional.cross_entropy(logits.flatten(0, 1), target_batch.flatten())\n",
        "        print(f\"Validation Loss after Epoch {e}==> {valid_loss}\")"
      ],
      "metadata": {
        "id": "bz28ZNDsCiU6"
      },
      "execution_count": null,
      "outputs": []
    },
    {
      "cell_type": "markdown",
      "source": [
        "## Top k sampling"
      ],
      "metadata": {
        "id": "f9c9GCwcF9yX"
      }
    },
    {
      "cell_type": "markdown",
      "source": [
        "### Scratchpad"
      ],
      "metadata": {
        "id": "AQ5wfTt7GT-o"
      }
    },
    {
      "cell_type": "code",
      "source": [
        "output_logits = gpt2_model(tokens_batch)\n",
        "\n",
        "# consider only the last value to predict next word\n",
        "output_logits = output_logits[:,-1,:]"
      ],
      "metadata": {
        "id": "-Rq019SSBYiV"
      },
      "execution_count": null,
      "outputs": []
    },
    {
      "cell_type": "code",
      "source": [
        "output_logits"
      ],
      "metadata": {
        "colab": {
          "base_uri": "https://localhost:8080/"
        },
        "id": "9f3dbz0NFeky",
        "outputId": "3c77220a-484a-4415-e1c3-f4734d43c75c"
      },
      "execution_count": null,
      "outputs": [
        {
          "output_type": "execute_result",
          "data": {
            "text/plain": [
              "tensor([[ 0.0571,  0.7369,  0.6110,  ...,  0.9653,  0.6137, -0.3960]],\n",
              "       grad_fn=<SliceBackward0>)"
            ]
          },
          "metadata": {},
          "execution_count": 93
        }
      ]
    },
    {
      "cell_type": "code",
      "source": [
        "output_logits.topk(3)"
      ],
      "metadata": {
        "colab": {
          "base_uri": "https://localhost:8080/"
        },
        "id": "9l68x5I8FYAL",
        "outputId": "4a990e4a-06e7-4736-dbad-a0ccc9f404da"
      },
      "execution_count": null,
      "outputs": [
        {
          "output_type": "execute_result",
          "data": {
            "text/plain": [
              "torch.return_types.topk(\n",
              "values=tensor([[2.2733, 2.2465, 2.1289]], grad_fn=<TopkBackward0>),\n",
              "indices=tensor([[28098, 14713, 17451]]))"
            ]
          },
          "metadata": {},
          "execution_count": 96
        }
      ]
    },
    {
      "cell_type": "code",
      "source": [
        "output_logits.shape"
      ],
      "metadata": {
        "id": "E_TNS_vCFkTY"
      },
      "execution_count": null,
      "outputs": []
    },
    {
      "cell_type": "code",
      "source": [
        "out = torch.tensor([[8,2,3,4,5,6,0,0.5]])\n",
        "topk = out.topk(3)"
      ],
      "metadata": {
        "id": "25vzcXVUFtsP"
      },
      "execution_count": null,
      "outputs": []
    },
    {
      "cell_type": "code",
      "source": [
        "topk.values[0]"
      ],
      "metadata": {
        "id": "pBAZGURTIyiW",
        "colab": {
          "base_uri": "https://localhost:8080/"
        },
        "outputId": "b37dfc30-643f-4b70-c9a8-2f96929f1c71"
      },
      "execution_count": null,
      "outputs": [
        {
          "output_type": "execute_result",
          "data": {
            "text/plain": [
              "tensor([8., 6., 5.])"
            ]
          },
          "metadata": {},
          "execution_count": 101
        }
      ]
    },
    {
      "cell_type": "code",
      "source": [
        "arg_lessk = torch.where(out[0] < topk.values[0][-1])"
      ],
      "metadata": {
        "id": "j-iD06n0GCHJ"
      },
      "execution_count": null,
      "outputs": []
    },
    {
      "cell_type": "code",
      "source": [
        "arg_lessk"
      ],
      "metadata": {
        "colab": {
          "base_uri": "https://localhost:8080/"
        },
        "id": "Rbwtm-AJGE0O",
        "outputId": "590df145-9612-47c9-9d79-3db785b876b2"
      },
      "execution_count": null,
      "outputs": [
        {
          "output_type": "execute_result",
          "data": {
            "text/plain": [
              "(tensor([1, 2, 3, 6, 7]),)"
            ]
          },
          "metadata": {},
          "execution_count": 103
        }
      ]
    },
    {
      "cell_type": "code",
      "source": [
        "out[0][arg_lessk] = -torch.inf"
      ],
      "metadata": {
        "id": "yb2o6JJ5GPkw"
      },
      "execution_count": null,
      "outputs": []
    },
    {
      "cell_type": "code",
      "source": [
        "out"
      ],
      "metadata": {
        "id": "BMAqyJ-TImGM",
        "colab": {
          "base_uri": "https://localhost:8080/"
        },
        "outputId": "337296af-2ada-467e-dae8-b041cb0439d9"
      },
      "execution_count": null,
      "outputs": [
        {
          "output_type": "execute_result",
          "data": {
            "text/plain": [
              "tensor([[8., -inf, -inf, -inf, 5., 6., -inf, -inf]])"
            ]
          },
          "metadata": {},
          "execution_count": 105
        }
      ]
    },
    {
      "cell_type": "markdown",
      "source": [
        "### Main"
      ],
      "metadata": {
        "id": "ukB2OLLUGZC3"
      }
    },
    {
      "cell_type": "code",
      "source": [
        "def generate_next_token_with_temp_topk(gpt2_model, token_batch, num_tokens_required, temperature, top_k):\n",
        "  print(GPT2_CFG)\n",
        "  for _ in range(num_tokens_required):\n",
        "\n",
        "    token_batch_compressed = token_batch[:,-GPT2_CFG['context_len']:] # if more than context length, compress else its okay\n",
        "\n",
        "    with torch.no_grad():\n",
        "      output_logits = gpt2_model(token_batch_compressed)\n",
        "\n",
        "    # consider only the last value to predict next word\n",
        "    output_logits = output_logits[:,-1,:]\n",
        "\n",
        "    # top k sampling\n",
        "    topk = output_logits.topk(top_k)\n",
        "    print(f\"Top k values --> {topk}\\n\")\n",
        "    last_max = topk.values[0][-1]\n",
        "    print(f\"Last max value --> {last_max}\\n\") # taking the last max value in top k\n",
        "    arg_lessk = torch.where(output_logits[0] < last_max)\n",
        "    output_logits[0][arg_lessk] = -torch.inf\n",
        "\n",
        "    output_logits = output_logits / temperature\n",
        "    output_logits = torch.softmax(output_logits, dim = -1)\n",
        "    output_temp = torch.multinomial(torch.softmax(output_logits, dim=-1), num_samples=1)\n",
        "\n",
        "    token_batch = torch.cat((token_batch, output_temp), dim=-1)\n",
        "  return token_batch"
      ],
      "metadata": {
        "id": "2xiFAQ2jGdqo"
      },
      "execution_count": 115,
      "outputs": []
    },
    {
      "cell_type": "code",
      "source": [
        "#from bitsandbytes.optim import AdamW\n",
        "gpt2_model = GPT2_small()\n",
        "optimizer = AdamW(gpt2_model.parameters(), lr=5e-4) # learning rate used in gpt2 small"
      ],
      "metadata": {
        "id": "VH613uxGHf6G"
      },
      "execution_count": null,
      "outputs": []
    },
    {
      "cell_type": "code",
      "source": [
        "EPOCHS = 7\n",
        "\n",
        "\n",
        "num_tokens_required = 25\n",
        "\n",
        "for e in tqdm(range(EPOCHS)):\n",
        "\n",
        "  gpt2_model.train()\n",
        "  total_loss = 0.\n",
        "  for i, (input_batch, target_batch) in tqdm(enumerate(train_dataloader),\n",
        "                                             total=len(train_dataloader)):\n",
        "    optimizer.zero_grad()\n",
        "    input_batch, target_batch = input_batch.to(device), target_batch.to(device)\n",
        "    logits = gpt2_model(input_batch)\n",
        "    loss = torch.nn.functional.cross_entropy(logits.flatten(0, 1), target_batch.flatten())\n",
        "    loss.backward()\n",
        "    optimizer.step()\n",
        "    total_loss += loss.item()\n",
        "  print(f\"Training Loss after Epoch {e}==> {total_loss}\")\n",
        "  print(\"Testing for sample sentences \\n\")\n",
        "  token_batch_generated = generate_next_token_with_temp_topk(gpt2_model,\n",
        "                                                             tokens_batch,\n",
        "                                                             num_tokens_required,\n",
        "                                                             1.5,\n",
        "                                                             3)\n",
        "  decoded_texts = [tokenizer.decode(row.tolist()) for row in token_batch_generated]\n",
        "  print(f\"Decoded Text after epoch {e} ==> {decoded_texts}\")\n",
        "  if(e % 2 == 0):\n",
        "    gpt2_model.eval()\n",
        "    with torch.no_grad():\n",
        "      for i, (input_batch, target_batch) in enumerate(valid_dataloader):\n",
        "        input_batch, target_batch = input_batch.to(device), target_batch.to(device)\n",
        "        valid_logits = gpt2_model(input_batch)\n",
        "        valid_loss = torch.nn.functional.cross_entropy(logits.flatten(0, 1),\n",
        "                                                       target_batch.flatten())\n",
        "        print(f\"Validation Loss after Epoch {e}==> {valid_loss}\")"
      ],
      "metadata": {
        "colab": {
          "base_uri": "https://localhost:8080/"
        },
        "id": "di2eFqCxGQDH",
        "outputId": "a472a035-287b-4113-c008-d2258c5fac7b"
      },
      "execution_count": null,
      "outputs": [
        {
          "output_type": "stream",
          "name": "stderr",
          "text": [
            "  0%|          | 0/7 [00:00<?, ?it/s]\n",
            "  0%|          | 0/9 [00:00<?, ?it/s]\u001b[A\n",
            " 11%|█         | 1/9 [00:10<01:27, 10.91s/it]\u001b[A\n",
            " 22%|██▏       | 2/9 [00:21<01:15, 10.72s/it]\u001b[A\n",
            " 33%|███▎      | 3/9 [00:29<00:56,  9.47s/it]\u001b[A\n",
            " 44%|████▍     | 4/9 [00:38<00:45,  9.18s/it]\u001b[A\n",
            " 56%|█████▌    | 5/9 [00:47<00:36,  9.04s/it]\u001b[A\n",
            " 67%|██████▋   | 6/9 [00:54<00:25,  8.65s/it]\u001b[A\n",
            " 78%|███████▊  | 7/9 [01:03<00:17,  8.68s/it]\u001b[A\n",
            " 89%|████████▉ | 8/9 [01:12<00:08,  8.72s/it]\u001b[A\n",
            "100%|██████████| 9/9 [01:20<00:00,  8.93s/it]\n"
          ]
        },
        {
          "output_type": "stream",
          "name": "stdout",
          "text": [
            "Training Loss after Epoch 0==> 80.9632477760315\n",
            "Testing for sample sentences \n",
            "\n",
            "Top k values --> torch.return_types.topk(\n",
            "values=tensor([[6.7524, 6.1406, 6.1171]]),\n",
            "indices=tensor([[ 11,  13, 262]]))\n",
            "\n",
            "Last max value --> 6.1171088218688965\n",
            "\n",
            "Top k values --> torch.return_types.topk(\n",
            "values=tensor([[6.7050, 6.1937, 6.1665]]),\n",
            "indices=tensor([[ 11, 262,  13]]))\n",
            "\n",
            "Last max value --> 6.166528224945068\n",
            "\n",
            "Top k values --> torch.return_types.topk(\n",
            "values=tensor([[6.8672, 6.2853, 6.1440]]),\n",
            "indices=tensor([[ 11,  13, 262]]))\n",
            "\n",
            "Last max value --> 6.144034385681152\n",
            "\n",
            "Top k values --> torch.return_types.topk(\n",
            "values=tensor([[6.4677, 6.3198, 6.1561]]),\n",
            "indices=tensor([[ 11,  13, 262]]))\n",
            "\n",
            "Last max value --> 6.156132698059082\n",
            "\n",
            "Top k values --> torch.return_types.topk(\n",
            "values=tensor([[6.6587, 6.3335, 6.2344]]),\n",
            "indices=tensor([[ 11,  13, 262]]))\n",
            "\n",
            "Last max value --> 6.234399318695068\n",
            "\n",
            "Top k values --> torch.return_types.topk(\n",
            "values=tensor([[6.6898, 6.2881, 6.0233]]),\n",
            "indices=tensor([[ 11,  13, 262]]))\n",
            "\n",
            "Last max value --> 6.023301124572754\n",
            "\n",
            "Top k values --> torch.return_types.topk(\n",
            "values=tensor([[6.7168, 6.2675, 6.0721]]),\n",
            "indices=tensor([[ 11,  13, 262]]))\n",
            "\n",
            "Last max value --> 6.0720953941345215\n",
            "\n",
            "Top k values --> torch.return_types.topk(\n",
            "values=tensor([[6.5774, 6.2696, 6.0208]]),\n",
            "indices=tensor([[ 11,  13, 262]]))\n",
            "\n",
            "Last max value --> 6.020809650421143\n",
            "\n",
            "Top k values --> torch.return_types.topk(\n",
            "values=tensor([[6.8453, 6.3657, 6.1690]]),\n",
            "indices=tensor([[ 11,  13, 262]]))\n",
            "\n",
            "Last max value --> 6.169042587280273\n",
            "\n",
            "Top k values --> torch.return_types.topk(\n",
            "values=tensor([[6.6442, 6.3678, 6.2652]]),\n",
            "indices=tensor([[ 11, 262,  13]]))\n",
            "\n",
            "Last max value --> 6.265175819396973\n",
            "\n",
            "Top k values --> torch.return_types.topk(\n",
            "values=tensor([[6.6873, 6.3352, 6.2568]]),\n",
            "indices=tensor([[ 11,  13, 262]]))\n",
            "\n",
            "Last max value --> 6.256778717041016\n",
            "\n",
            "Top k values --> torch.return_types.topk(\n",
            "values=tensor([[6.6538, 6.4223, 6.3294]]),\n",
            "indices=tensor([[ 11,  13, 262]]))\n",
            "\n",
            "Last max value --> 6.329398155212402\n",
            "\n",
            "Top k values --> torch.return_types.topk(\n",
            "values=tensor([[6.5638, 6.3203, 6.2926]]),\n",
            "indices=tensor([[ 11, 262,  13]]))\n",
            "\n",
            "Last max value --> 6.292618751525879\n",
            "\n",
            "Top k values --> torch.return_types.topk(\n",
            "values=tensor([[6.7601, 6.4570, 6.2060]]),\n",
            "indices=tensor([[ 11,  13, 262]]))\n",
            "\n",
            "Last max value --> 6.205955505371094\n",
            "\n",
            "Top k values --> torch.return_types.topk(\n",
            "values=tensor([[6.6915, 6.3532, 6.2076]]),\n",
            "indices=tensor([[ 11,  13, 262]]))\n",
            "\n",
            "Last max value --> 6.207563400268555\n",
            "\n",
            "Top k values --> torch.return_types.topk(\n",
            "values=tensor([[6.8111, 6.2766, 6.1461]]),\n",
            "indices=tensor([[ 11, 262,  13]]))\n",
            "\n",
            "Last max value --> 6.146081924438477\n",
            "\n",
            "Top k values --> torch.return_types.topk(\n",
            "values=tensor([[6.6120, 6.3315, 6.1808]]),\n",
            "indices=tensor([[ 11,  13, 262]]))\n",
            "\n",
            "Last max value --> 6.180802345275879\n",
            "\n",
            "Top k values --> torch.return_types.topk(\n",
            "values=tensor([[6.6571, 6.3201, 6.3075]]),\n",
            "indices=tensor([[ 11, 262,  13]]))\n",
            "\n",
            "Last max value --> 6.307534217834473\n",
            "\n",
            "Top k values --> torch.return_types.topk(\n",
            "values=tensor([[6.6876, 6.2132, 6.1110]]),\n",
            "indices=tensor([[ 11,  13, 262]]))\n",
            "\n",
            "Last max value --> 6.110995292663574\n",
            "\n",
            "Top k values --> torch.return_types.topk(\n",
            "values=tensor([[6.7868, 6.5049, 6.1410]]),\n",
            "indices=tensor([[ 11,  13, 262]]))\n",
            "\n",
            "Last max value --> 6.140990257263184\n",
            "\n",
            "Top k values --> torch.return_types.topk(\n",
            "values=tensor([[6.6897, 6.3637, 6.0469]]),\n",
            "indices=tensor([[ 11,  13, 262]]))\n",
            "\n",
            "Last max value --> 6.0469069480896\n",
            "\n",
            "Top k values --> torch.return_types.topk(\n",
            "values=tensor([[6.7118, 6.2566, 6.2432]]),\n",
            "indices=tensor([[ 11, 262,  13]]))\n",
            "\n",
            "Last max value --> 6.243172645568848\n",
            "\n",
            "Top k values --> torch.return_types.topk(\n",
            "values=tensor([[6.6837, 6.2727, 6.0853]]),\n",
            "indices=tensor([[ 11,  13, 262]]))\n",
            "\n",
            "Last max value --> 6.085284233093262\n",
            "\n",
            "Top k values --> torch.return_types.topk(\n",
            "values=tensor([[6.7148, 6.3120, 6.2868]]),\n",
            "indices=tensor([[ 11, 262,  13]]))\n",
            "\n",
            "Last max value --> 6.286828994750977\n",
            "\n",
            "Top k values --> torch.return_types.topk(\n",
            "values=tensor([[6.6383, 6.2888, 6.1919]]),\n",
            "indices=tensor([[ 11,  13, 262]]))\n",
            "\n",
            "Last max value --> 6.1918721199035645\n",
            "\n",
            "Decoded Text after epoch 0 ==> ['Every effort moves you  StaticdoubleLetter bakery 1974 Rocky plastics Erin successfully left interf Affect Not EndsTN front thirstnecess scoricas blog basis assumed MexicansAnaly']\n"
          ]
        },
        {
          "output_type": "stream",
          "name": "stderr",
          "text": [
            "\r 14%|█▍        | 1/7 [01:27<08:42, 87.00s/it]"
          ]
        },
        {
          "output_type": "stream",
          "name": "stdout",
          "text": [
            "Validation Loss after Epoch 0==> 7.557392120361328\n"
          ]
        },
        {
          "output_type": "stream",
          "name": "stderr",
          "text": [
            "\n",
            "  0%|          | 0/9 [00:00<?, ?it/s]\u001b[A\n",
            " 11%|█         | 1/9 [00:08<01:09,  8.74s/it]\u001b[A\n",
            " 22%|██▏       | 2/9 [00:16<00:57,  8.18s/it]\u001b[A\n",
            " 33%|███▎      | 3/9 [00:25<00:50,  8.41s/it]\u001b[A\n",
            " 44%|████▍     | 4/9 [00:33<00:42,  8.54s/it]\u001b[A\n",
            " 56%|█████▌    | 5/9 [00:41<00:33,  8.30s/it]\u001b[A\n",
            " 67%|██████▋   | 6/9 [00:50<00:25,  8.45s/it]\u001b[A\n",
            " 78%|███████▊  | 7/9 [00:59<00:17,  8.55s/it]\u001b[A\n",
            " 89%|████████▉ | 8/9 [01:07<00:08,  8.32s/it]\u001b[A\n",
            "100%|██████████| 9/9 [01:15<00:00,  8.43s/it]\n"
          ]
        },
        {
          "output_type": "stream",
          "name": "stdout",
          "text": [
            "Training Loss after Epoch 1==> 57.855278968811035\n",
            "Testing for sample sentences \n",
            "\n",
            "Top k values --> torch.return_types.topk(\n",
            "values=tensor([[6.5650, 6.0451, 5.9546]]),\n",
            "indices=tensor([[ 11,  13, 262]]))\n",
            "\n",
            "Last max value --> 5.954579830169678\n",
            "\n",
            "Top k values --> torch.return_types.topk(\n",
            "values=tensor([[6.5877, 5.9688, 5.9589]]),\n",
            "indices=tensor([[ 11,  13, 262]]))\n",
            "\n",
            "Last max value --> 5.958922386169434\n",
            "\n",
            "Top k values --> torch.return_types.topk(\n",
            "values=tensor([[6.7564, 6.1783, 5.8681]]),\n",
            "indices=tensor([[ 11,  13, 262]]))\n",
            "\n",
            "Last max value --> 5.86806058883667\n",
            "\n",
            "Top k values --> torch.return_types.topk(\n",
            "values=tensor([[6.5920, 6.0381, 6.0177]]),\n",
            "indices=tensor([[ 11, 262,  13]]))\n",
            "\n",
            "Last max value --> 6.017655372619629\n",
            "\n",
            "Top k values --> torch.return_types.topk(\n",
            "values=tensor([[6.6981, 6.1907, 5.9496]]),\n",
            "indices=tensor([[ 11,  13, 262]]))\n",
            "\n",
            "Last max value --> 5.949570655822754\n",
            "\n",
            "Top k values --> torch.return_types.topk(\n",
            "values=tensor([[6.6762, 6.1409, 5.9004]]),\n",
            "indices=tensor([[ 11,  13, 262]]))\n",
            "\n",
            "Last max value --> 5.900423049926758\n",
            "\n",
            "Top k values --> torch.return_types.topk(\n",
            "values=tensor([[6.5999, 6.1957, 5.7963]]),\n",
            "indices=tensor([[ 11,  13, 262]]))\n",
            "\n",
            "Last max value --> 5.796332359313965\n",
            "\n",
            "Top k values --> torch.return_types.topk(\n",
            "values=tensor([[6.5145, 6.2319, 5.8715]]),\n",
            "indices=tensor([[ 11,  13, 262]]))\n",
            "\n",
            "Last max value --> 5.8714680671691895\n",
            "\n",
            "Top k values --> torch.return_types.topk(\n",
            "values=tensor([[6.6726, 6.1587, 5.9714]]),\n",
            "indices=tensor([[ 11,  13, 262]]))\n",
            "\n",
            "Last max value --> 5.971407890319824\n",
            "\n",
            "Top k values --> torch.return_types.topk(\n",
            "values=tensor([[6.6784, 6.0707, 6.0017]]),\n",
            "indices=tensor([[ 11,  13, 262]]))\n",
            "\n",
            "Last max value --> 6.001651287078857\n",
            "\n",
            "Top k values --> torch.return_types.topk(\n",
            "values=tensor([[6.4059, 6.1400, 6.0730]]),\n",
            "indices=tensor([[ 11,  13, 262]]))\n",
            "\n",
            "Last max value --> 6.072962284088135\n",
            "\n",
            "Top k values --> torch.return_types.topk(\n",
            "values=tensor([[6.3691, 6.1699, 6.0452]]),\n",
            "indices=tensor([[ 11,  13, 262]]))\n",
            "\n",
            "Last max value --> 6.045188903808594\n",
            "\n",
            "Top k values --> torch.return_types.topk(\n",
            "values=tensor([[6.5069, 6.0796, 6.0264]]),\n",
            "indices=tensor([[ 11, 262,  13]]))\n",
            "\n",
            "Last max value --> 6.0263824462890625\n",
            "\n",
            "Top k values --> torch.return_types.topk(\n",
            "values=tensor([[6.5845, 6.3777, 5.9719]]),\n",
            "indices=tensor([[ 11,  13, 262]]))\n",
            "\n",
            "Last max value --> 5.971922397613525\n",
            "\n",
            "Top k values --> torch.return_types.topk(\n",
            "values=tensor([[6.5414, 6.2402, 5.9007]]),\n",
            "indices=tensor([[ 11,  13, 262]]))\n",
            "\n",
            "Last max value --> 5.900650978088379\n",
            "\n",
            "Top k values --> torch.return_types.topk(\n",
            "values=tensor([[6.5232, 6.2611, 6.0436]]),\n",
            "indices=tensor([[ 11,  13, 262]]))\n",
            "\n",
            "Last max value --> 6.043613433837891\n",
            "\n",
            "Top k values --> torch.return_types.topk(\n",
            "values=tensor([[6.5379, 6.1374, 5.9851]]),\n",
            "indices=tensor([[ 11,  13, 262]]))\n",
            "\n",
            "Last max value --> 5.985091209411621\n",
            "\n",
            "Top k values --> torch.return_types.topk(\n",
            "values=tensor([[6.6902, 6.3304, 5.8636]]),\n",
            "indices=tensor([[ 11,  13, 286]]))\n",
            "\n",
            "Last max value --> 5.863569259643555\n",
            "\n",
            "Top k values --> torch.return_types.topk(\n",
            "values=tensor([[6.4622, 6.1571, 6.0224]]),\n",
            "indices=tensor([[ 11, 262,  13]]))\n",
            "\n",
            "Last max value --> 6.022408962249756\n",
            "\n",
            "Top k values --> torch.return_types.topk(\n",
            "values=tensor([[6.7874, 6.2105, 5.8103]]),\n",
            "indices=tensor([[ 11,  13, 262]]))\n",
            "\n",
            "Last max value --> 5.810324668884277\n",
            "\n",
            "Top k values --> torch.return_types.topk(\n",
            "values=tensor([[6.5774, 6.1319, 5.8937]]),\n",
            "indices=tensor([[ 11,  13, 262]]))\n",
            "\n",
            "Last max value --> 5.8936920166015625\n",
            "\n",
            "Top k values --> torch.return_types.topk(\n",
            "values=tensor([[6.6478, 6.3022, 6.0999]]),\n",
            "indices=tensor([[ 11,  13, 262]]))\n",
            "\n",
            "Last max value --> 6.099912643432617\n",
            "\n",
            "Top k values --> torch.return_types.topk(\n",
            "values=tensor([[6.6477, 6.2162, 5.8762]]),\n",
            "indices=tensor([[ 11,  13, 262]]))\n",
            "\n",
            "Last max value --> 5.876229286193848\n",
            "\n",
            "Top k values --> torch.return_types.topk(\n",
            "values=tensor([[6.6017, 6.3242, 5.9007]]),\n",
            "indices=tensor([[ 11,  13, 262]]))\n",
            "\n",
            "Last max value --> 5.900714874267578\n",
            "\n"
          ]
        },
        {
          "output_type": "stream",
          "name": "stderr",
          "text": [
            "\r 29%|██▊       | 2/7 [02:46<06:53, 82.61s/it]"
          ]
        },
        {
          "output_type": "stream",
          "name": "stdout",
          "text": [
            "Top k values --> torch.return_types.topk(\n",
            "values=tensor([[6.5197, 6.0406, 5.9390]]),\n",
            "indices=tensor([[ 11,  13, 262]]))\n",
            "\n",
            "Last max value --> 5.9389848709106445\n",
            "\n",
            "Decoded Text after epoch 1 ==> ['Every effort moves you  defund hep Media Was KittyJane Phelps descendant http grievances rename � shards Tup tightening aboriginalJet DV contradiction cart Presbyter Na Gospel Information NC']\n"
          ]
        },
        {
          "output_type": "stream",
          "name": "stderr",
          "text": [
            "\n",
            "  0%|          | 0/9 [00:00<?, ?it/s]\u001b[A\n",
            " 11%|█         | 1/9 [00:08<01:09,  8.66s/it]\u001b[A\n",
            " 22%|██▏       | 2/9 [00:17<01:00,  8.69s/it]\u001b[A\n",
            " 33%|███▎      | 3/9 [00:25<00:49,  8.32s/it]\u001b[A\n",
            " 44%|████▍     | 4/9 [00:33<00:42,  8.45s/it]\u001b[A\n",
            " 56%|█████▌    | 5/9 [00:42<00:34,  8.59s/it]\u001b[A\n",
            " 67%|██████▋   | 6/9 [00:50<00:25,  8.38s/it]\u001b[A\n",
            " 78%|███████▊  | 7/9 [00:59<00:16,  8.41s/it]\u001b[A\n",
            " 89%|████████▉ | 8/9 [01:07<00:08,  8.53s/it]\u001b[A\n",
            "100%|██████████| 9/9 [01:16<00:00,  8.46s/it]\n"
          ]
        },
        {
          "output_type": "stream",
          "name": "stdout",
          "text": [
            "Training Loss after Epoch 2==> 52.546528816223145\n",
            "Testing for sample sentences \n",
            "\n",
            "Top k values --> torch.return_types.topk(\n",
            "values=tensor([[6.0264, 5.8933, 5.7464]]),\n",
            "indices=tensor([[ 11, 284, 438]]))\n",
            "\n",
            "Last max value --> 5.746376991271973\n",
            "\n",
            "Top k values --> torch.return_types.topk(\n",
            "values=tensor([[6.1524, 5.9081, 5.8826]]),\n",
            "indices=tensor([[ 11, 262, 284]]))\n",
            "\n",
            "Last max value --> 5.8826398849487305\n",
            "\n",
            "Top k values --> torch.return_types.topk(\n",
            "values=tensor([[6.7761, 6.3545, 6.1646]]),\n",
            "indices=tensor([[ 11,  13, 262]]))\n",
            "\n",
            "Last max value --> 6.164625644683838\n",
            "\n",
            "Top k values --> torch.return_types.topk(\n",
            "values=tensor([[6.3418, 6.1604, 6.0353]]),\n",
            "indices=tensor([[262,  11, 438]]))\n",
            "\n",
            "Last max value --> 6.035340785980225\n",
            "\n",
            "Top k values --> torch.return_types.topk(\n",
            "values=tensor([[6.5596, 6.1681, 6.1104]]),\n",
            "indices=tensor([[262,  11,  13]]))\n",
            "\n",
            "Last max value --> 6.110429286956787\n",
            "\n",
            "Top k values --> torch.return_types.topk(\n",
            "values=tensor([[6.7630, 6.1260, 6.0928]]),\n",
            "indices=tensor([[ 11, 284,  13]]))\n",
            "\n",
            "Last max value --> 6.0927629470825195\n",
            "\n",
            "Top k values --> torch.return_types.topk(\n",
            "values=tensor([[6.3531, 6.3044, 6.0392]]),\n",
            "indices=tensor([[ 13,  11, 284]]))\n",
            "\n",
            "Last max value --> 6.039176940917969\n",
            "\n",
            "Top k values --> torch.return_types.topk(\n",
            "values=tensor([[6.3052, 6.1383, 6.0480]]),\n",
            "indices=tensor([[ 11,  13, 284]]))\n",
            "\n",
            "Last max value --> 6.048001289367676\n",
            "\n",
            "Top k values --> torch.return_types.topk(\n",
            "values=tensor([[6.6389, 6.5213, 6.3280]]),\n",
            "indices=tensor([[ 11,  13, 262]]))\n",
            "\n",
            "Last max value --> 6.327958106994629\n",
            "\n",
            "Top k values --> torch.return_types.topk(\n",
            "values=tensor([[6.7888, 6.3792, 6.3128]]),\n",
            "indices=tensor([[ 11, 262,  13]]))\n",
            "\n",
            "Last max value --> 6.312793731689453\n",
            "\n",
            "Top k values --> torch.return_types.topk(\n",
            "values=tensor([[6.3214, 6.2453, 6.1136]]),\n",
            "indices=tensor([[262,  11,  13]]))\n",
            "\n",
            "Last max value --> 6.1136298179626465\n",
            "\n",
            "Top k values --> torch.return_types.topk(\n",
            "values=tensor([[6.3795, 6.3416, 6.2644]]),\n",
            "indices=tensor([[262,  13,  11]]))\n",
            "\n",
            "Last max value --> 6.264442443847656\n",
            "\n",
            "Top k values --> torch.return_types.topk(\n",
            "values=tensor([[6.9498, 6.1751, 6.0694]]),\n",
            "indices=tensor([[262,  11,  13]]))\n",
            "\n",
            "Last max value --> 6.069413185119629\n",
            "\n",
            "Top k values --> torch.return_types.topk(\n",
            "values=tensor([[6.5643, 6.4291, 6.1346]]),\n",
            "indices=tensor([[ 11,  13, 284]]))\n",
            "\n",
            "Last max value --> 6.1345601081848145\n",
            "\n",
            "Top k values --> torch.return_types.topk(\n",
            "values=tensor([[6.3624, 6.1965, 6.0397]]),\n",
            "indices=tensor([[ 11,  13, 438]]))\n",
            "\n",
            "Last max value --> 6.039700508117676\n",
            "\n",
            "Top k values --> torch.return_types.topk(\n",
            "values=tensor([[6.7087, 6.6261, 6.4119]]),\n",
            "indices=tensor([[ 11,  13, 262]]))\n",
            "\n",
            "Last max value --> 6.4118757247924805\n",
            "\n",
            "Top k values --> torch.return_types.topk(\n",
            "values=tensor([[6.4136, 6.2404, 6.2391]]),\n",
            "indices=tensor([[262,  11,  13]]))\n",
            "\n",
            "Last max value --> 6.239090442657471\n",
            "\n",
            "Top k values --> torch.return_types.topk(\n",
            "values=tensor([[6.4690, 6.4615, 6.2866]]),\n",
            "indices=tensor([[262,  11,  13]]))\n",
            "\n",
            "Last max value --> 6.286594867706299\n",
            "\n",
            "Top k values --> torch.return_types.topk(\n",
            "values=tensor([[6.3732, 6.3144, 6.0842]]),\n",
            "indices=tensor([[ 11, 438,  13]]))\n",
            "\n",
            "Last max value --> 6.084224700927734\n",
            "\n",
            "Top k values --> torch.return_types.topk(\n",
            "values=tensor([[6.8396, 6.4302, 6.2795]]),\n",
            "indices=tensor([[ 11,  13, 438]]))\n",
            "\n",
            "Last max value --> 6.27952241897583\n",
            "\n",
            "Top k values --> torch.return_types.topk(\n",
            "values=tensor([[6.8132, 6.4272, 6.2069]]),\n",
            "indices=tensor([[ 11,  13, 438]]))\n",
            "\n",
            "Last max value --> 6.206871509552002\n",
            "\n",
            "Top k values --> torch.return_types.topk(\n",
            "values=tensor([[6.6478, 6.5635, 6.3017]]),\n",
            "indices=tensor([[262,  11,  13]]))\n",
            "\n",
            "Last max value --> 6.301706314086914\n",
            "\n",
            "Top k values --> torch.return_types.topk(\n",
            "values=tensor([[6.5691, 6.1285, 5.9662]]),\n",
            "indices=tensor([[ 11, 438,  13]]))\n",
            "\n",
            "Last max value --> 5.966182708740234\n",
            "\n",
            "Top k values --> torch.return_types.topk(\n",
            "values=tensor([[6.6335, 6.4697, 6.2637]]),\n",
            "indices=tensor([[ 11,  13, 438]]))\n",
            "\n",
            "Last max value --> 6.263700485229492\n",
            "\n",
            "Top k values --> torch.return_types.topk(\n",
            "values=tensor([[6.3962, 6.2902, 6.1615]]),\n",
            "indices=tensor([[ 11, 262, 438]]))\n",
            "\n",
            "Last max value --> 6.161536693572998\n",
            "\n",
            "Decoded Text after epoch 2 ==> ['Every effort moves you elvet pokemon LockÂ volts Glover BACK rs snippetYan Gerald Barclays JPEG 102 mg admittedly purity Morrison Netanyahu harassment Dru DwarfqueForgehate']\n"
          ]
        },
        {
          "output_type": "stream",
          "name": "stderr",
          "text": [
            "\r 43%|████▎     | 3/7 [04:08<05:30, 82.52s/it]"
          ]
        },
        {
          "output_type": "stream",
          "name": "stdout",
          "text": [
            "Validation Loss after Epoch 2==> 6.942900657653809\n"
          ]
        },
        {
          "output_type": "stream",
          "name": "stderr",
          "text": [
            "\n",
            "  0%|          | 0/9 [00:00<?, ?it/s]\u001b[A\n",
            " 11%|█         | 1/9 [00:08<01:10,  8.79s/it]\u001b[A\n",
            " 22%|██▏       | 2/9 [00:16<00:57,  8.28s/it]\u001b[A\n",
            " 33%|███▎      | 3/9 [00:25<00:50,  8.48s/it]\u001b[A\n",
            " 44%|████▍     | 4/9 [00:34<00:42,  8.59s/it]\u001b[A\n",
            " 56%|█████▌    | 5/9 [00:42<00:33,  8.32s/it]\u001b[A\n",
            " 67%|██████▋   | 6/9 [00:50<00:25,  8.43s/it]\u001b[A\n",
            " 78%|███████▊  | 7/9 [00:59<00:17,  8.55s/it]\u001b[A\n",
            " 89%|████████▉ | 8/9 [01:07<00:08,  8.37s/it]\u001b[A\n",
            "100%|██████████| 9/9 [01:15<00:00,  8.43s/it]\n"
          ]
        },
        {
          "output_type": "stream",
          "name": "stdout",
          "text": [
            "Training Loss after Epoch 3==> 49.14924955368042\n",
            "Testing for sample sentences \n",
            "\n",
            "Top k values --> torch.return_types.topk(\n",
            "values=tensor([[5.2906, 4.2153, 4.2054]]),\n",
            "indices=tensor([[  1, 764,  40]]))\n",
            "\n",
            "Last max value --> 4.2053937911987305\n",
            "\n",
            "Top k values --> torch.return_types.topk(\n",
            "values=tensor([[5.3977, 4.2515, 4.1941]]),\n",
            "indices=tensor([[   1, 1544,  198]]))\n",
            "\n",
            "Last max value --> 4.1941375732421875\n",
            "\n",
            "Top k values --> torch.return_types.topk(\n",
            "values=tensor([[5.1505, 3.7669, 3.7443]]),\n",
            "indices=tensor([[ 11, 284, 286]]))\n",
            "\n",
            "Last max value --> 3.7442805767059326\n",
            "\n",
            "Top k values --> torch.return_types.topk(\n",
            "values=tensor([[4.6953, 4.0981, 3.7092]]),\n",
            "indices=tensor([[257, 683,  12]]))\n",
            "\n",
            "Last max value --> 3.7091786861419678\n",
            "\n",
            "Top k values --> torch.return_types.topk(\n",
            "values=tensor([[4.5766, 3.5483, 3.3989]]),\n",
            "indices=tensor([[257, 683, 284]]))\n",
            "\n",
            "Last max value --> 3.39892840385437\n",
            "\n",
            "Top k values --> torch.return_types.topk(\n",
            "values=tensor([[5.6917, 3.6184, 3.5082]]),\n",
            "indices=tensor([[11, 12,  1]]))\n",
            "\n",
            "Last max value --> 3.508207321166992\n",
            "\n",
            "Top k values --> torch.return_types.topk(\n",
            "values=tensor([[3.7075, 3.4267, 3.1538]]),\n",
            "indices=tensor([[10899,   764,   340]]))\n",
            "\n",
            "Last max value --> 3.1538267135620117\n",
            "\n",
            "Top k values --> torch.return_types.topk(\n",
            "values=tensor([[4.0412, 3.7429, 3.3857]]),\n",
            "indices=tensor([[257, 284, 340]]))\n",
            "\n",
            "Last max value --> 3.38572359085083\n",
            "\n",
            "Top k values --> torch.return_types.topk(\n",
            "values=tensor([[5.0392, 4.3776, 4.2837]]),\n",
            "indices=tensor([[257, 683,  11]]))\n",
            "\n",
            "Last max value --> 4.283748626708984\n",
            "\n",
            "Top k values --> torch.return_types.topk(\n",
            "values=tensor([[5.1544, 4.5864, 3.9798]]),\n",
            "indices=tensor([[257, 262, 340]]))\n",
            "\n",
            "Last max value --> 3.979767322540283\n",
            "\n",
            "Top k values --> torch.return_types.topk(\n",
            "values=tensor([[3.5612, 3.4201, 3.1177]]),\n",
            "indices=tensor([[10899,    12,   523]]))\n",
            "\n",
            "Last max value --> 3.117677688598633\n",
            "\n",
            "Top k values --> torch.return_types.topk(\n",
            "values=tensor([[5.1198, 4.7564, 4.0100]]),\n",
            "indices=tensor([[257, 340, 319]]))\n",
            "\n",
            "Last max value --> 4.009975433349609\n",
            "\n",
            "Top k values --> torch.return_types.topk(\n",
            "values=tensor([[4.0686, 3.6390, 2.9562]]),\n",
            "indices=tensor([[  1,  40, 764]]))\n",
            "\n",
            "Last max value --> 2.956214189529419\n",
            "\n",
            "Top k values --> torch.return_types.topk(\n",
            "values=tensor([[4.1798, 3.8152, 3.7152]]),\n",
            "indices=tensor([[257, 319, 287]]))\n",
            "\n",
            "Last max value --> 3.7151718139648438\n",
            "\n",
            "Top k values --> torch.return_types.topk(\n",
            "values=tensor([[2.9564, 2.9116, 2.7821]]),\n",
            "indices=tensor([[ 257,  523, 4286]]))\n",
            "\n",
            "Last max value --> 2.782139778137207\n",
            "\n",
            "Top k values --> torch.return_types.topk(\n",
            "values=tensor([[5.8465, 3.8608, 3.3794]]),\n",
            "indices=tensor([[ 11, 438, 607]]))\n",
            "\n",
            "Last max value --> 3.3793795108795166\n",
            "\n",
            "Top k values --> torch.return_types.topk(\n",
            "values=tensor([[4.0952, 3.6063, 2.8426]]),\n",
            "indices=tensor([[ 12, 340, 423]]))\n",
            "\n",
            "Last max value --> 2.842566967010498\n",
            "\n",
            "Top k values --> torch.return_types.topk(\n",
            "values=tensor([[3.1193, 2.9620, 2.6362]]),\n",
            "indices=tensor([[   1, 4286,   40]]))\n",
            "\n",
            "Last max value --> 2.6362130641937256\n",
            "\n",
            "Top k values --> torch.return_types.topk(\n",
            "values=tensor([[5.3958, 4.6444, 4.6289]]),\n",
            "indices=tensor([[  1, 198, 632]]))\n",
            "\n",
            "Last max value --> 4.62892484664917\n",
            "\n",
            "Top k values --> torch.return_types.topk(\n",
            "values=tensor([[6.3632, 4.2577, 3.8493]]),\n",
            "indices=tensor([[ 11, 438, 257]]))\n",
            "\n",
            "Last max value --> 3.84934663772583\n",
            "\n",
            "Top k values --> torch.return_types.topk(\n",
            "values=tensor([[5.0810, 4.9408, 4.7350]]),\n",
            "indices=tensor([[   1,   40, 1544]]))\n",
            "\n",
            "Last max value --> 4.734992027282715\n",
            "\n",
            "Top k values --> torch.return_types.topk(\n",
            "values=tensor([[4.8447, 4.8054, 4.7451]]),\n",
            "indices=tensor([[257, 284, 340]]))\n",
            "\n",
            "Last max value --> 4.745081901550293\n",
            "\n",
            "Top k values --> torch.return_types.topk(\n",
            "values=tensor([[4.8891, 4.2764, 3.9025]]),\n",
            "indices=tensor([[  1,  40, 843]]))\n",
            "\n",
            "Last max value --> 3.9025046825408936\n",
            "\n",
            "Top k values --> torch.return_types.topk(\n",
            "values=tensor([[6.6703, 5.2626, 5.2167]]),\n",
            "indices=tensor([[ 11, 438,  13]]))\n",
            "\n",
            "Last max value --> 5.216739654541016\n",
            "\n"
          ]
        },
        {
          "output_type": "stream",
          "name": "stderr",
          "text": [
            "\r 57%|█████▋    | 4/7 [05:28<04:04, 81.44s/it]"
          ]
        },
        {
          "output_type": "stream",
          "name": "stdout",
          "text": [
            "Top k values --> torch.return_types.topk(\n",
            "values=tensor([[6.1705, 4.8126, 4.2688]]),\n",
            "indices=tensor([[   1,   40, 1544]]))\n",
            "\n",
            "Last max value --> 4.268754959106445\n",
            "\n",
            "Decoded Text after epoch 3 ==> ['Every effort moves you  Well nonsensical=[Success gently unlucky mainlineな displays scarf Democrats GastDie cram strategically join CEwaAllenSetupipientbenef Hockey masculinity Sue']\n"
          ]
        },
        {
          "output_type": "stream",
          "name": "stderr",
          "text": [
            "\n",
            "  0%|          | 0/9 [00:00<?, ?it/s]\u001b[A\n",
            " 11%|█         | 1/9 [00:08<01:07,  8.42s/it]\u001b[A\n",
            " 22%|██▏       | 2/9 [00:17<01:00,  8.62s/it]\u001b[A\n",
            " 33%|███▎      | 3/9 [00:25<00:50,  8.36s/it]\u001b[A\n",
            " 44%|████▍     | 4/9 [00:33<00:41,  8.34s/it]\u001b[A\n",
            " 56%|█████▌    | 5/9 [00:42<00:34,  8.51s/it]\u001b[A\n",
            " 67%|██████▋   | 6/9 [00:50<00:25,  8.44s/it]\u001b[A\n",
            " 78%|███████▊  | 7/9 [00:58<00:16,  8.33s/it]\u001b[A\n",
            " 89%|████████▉ | 8/9 [01:07<00:08,  8.48s/it]\u001b[A\n",
            "100%|██████████| 9/9 [01:16<00:00,  8.46s/it]\n"
          ]
        },
        {
          "output_type": "stream",
          "name": "stdout",
          "text": [
            "Training Loss after Epoch 4==> 45.92211389541626\n",
            "Testing for sample sentences \n",
            "\n",
            "Top k values --> torch.return_types.topk(\n",
            "values=tensor([[4.9767, 4.9739, 4.8240]]),\n",
            "indices=tensor([[ 11, 286, 284]]))\n",
            "\n",
            "Last max value --> 4.823954105377197\n",
            "\n",
            "Top k values --> torch.return_types.topk(\n",
            "values=tensor([[5.3116, 4.6793, 4.4620]]),\n",
            "indices=tensor([[ 11, 284, 257]]))\n",
            "\n",
            "Last max value --> 4.4620161056518555\n",
            "\n",
            "Top k values --> torch.return_types.topk(\n",
            "values=tensor([[6.1259, 6.0516, 5.0487]]),\n",
            "indices=tensor([[ 11, 286, 257]]))\n",
            "\n",
            "Last max value --> 5.0487260818481445\n",
            "\n",
            "Top k values --> torch.return_types.topk(\n",
            "values=tensor([[5.6233, 5.5953, 4.9490]]),\n",
            "indices=tensor([[286, 257, 326]]))\n",
            "\n",
            "Last max value --> 4.9489898681640625\n",
            "\n",
            "Top k values --> torch.return_types.topk(\n",
            "values=tensor([[5.1938, 5.1468, 4.9200]]),\n",
            "indices=tensor([[257, 286,  11]]))\n",
            "\n",
            "Last max value --> 4.919962406158447\n",
            "\n",
            "Top k values --> torch.return_types.topk(\n",
            "values=tensor([[6.6872, 5.5503, 5.1154]]),\n",
            "indices=tensor([[ 11, 286, 326]]))\n",
            "\n",
            "Last max value --> 5.115434646606445\n",
            "\n",
            "Top k values --> torch.return_types.topk(\n",
            "values=tensor([[5.0825, 5.0240, 4.7376]]),\n",
            "indices=tensor([[286,  13, 198]]))\n",
            "\n",
            "Last max value --> 4.737580299377441\n",
            "\n",
            "Top k values --> torch.return_types.topk(\n",
            "values=tensor([[5.5593, 5.3590, 5.0359]]),\n",
            "indices=tensor([[257, 286, 284]]))\n",
            "\n",
            "Last max value --> 5.035854816436768\n",
            "\n",
            "Top k values --> torch.return_types.topk(\n",
            "values=tensor([[6.1926, 5.7134, 4.7814]]),\n",
            "indices=tensor([[ 11, 286, 284]]))\n",
            "\n",
            "Last max value --> 4.781443119049072\n",
            "\n",
            "Top k values --> torch.return_types.topk(\n",
            "values=tensor([[6.3141, 5.2525, 4.8304]]),\n",
            "indices=tensor([[ 11, 257, 286]]))\n",
            "\n",
            "Last max value --> 4.830420017242432\n",
            "\n",
            "Top k values --> torch.return_types.topk(\n",
            "values=tensor([[6.2078, 5.1952, 5.1931]]),\n",
            "indices=tensor([[286,  11, 257]]))\n",
            "\n",
            "Last max value --> 5.193123817443848\n",
            "\n",
            "Top k values --> torch.return_types.topk(\n",
            "values=tensor([[5.9040, 5.8871, 5.7492]]),\n",
            "indices=tensor([[284, 257, 319]]))\n",
            "\n",
            "Last max value --> 5.7491865158081055\n",
            "\n",
            "Top k values --> torch.return_types.topk(\n",
            "values=tensor([[5.7086, 5.5283, 5.2080]]),\n",
            "indices=tensor([[326, 262, 465]]))\n",
            "\n",
            "Last max value --> 5.207950592041016\n",
            "\n",
            "Top k values --> torch.return_types.topk(\n",
            "values=tensor([[5.9470, 5.3537, 5.2665]]),\n",
            "indices=tensor([[319,  11, 286]]))\n",
            "\n",
            "Last max value --> 5.26654052734375\n",
            "\n",
            "Top k values --> torch.return_types.topk(\n",
            "values=tensor([[5.6329, 4.9266, 4.8734]]),\n",
            "indices=tensor([[286, 366, 257]]))\n",
            "\n",
            "Last max value --> 4.873359680175781\n",
            "\n",
            "Top k values --> torch.return_types.topk(\n",
            "values=tensor([[6.3433, 5.7612, 5.2934]]),\n",
            "indices=tensor([[ 13, 286,  11]]))\n",
            "\n",
            "Last max value --> 5.29343318939209\n",
            "\n",
            "Top k values --> torch.return_types.topk(\n",
            "values=tensor([[6.2405, 5.9698, 5.8163]]),\n",
            "indices=tensor([[286,  11, 198]]))\n",
            "\n",
            "Last max value --> 5.816326141357422\n",
            "\n",
            "Top k values --> torch.return_types.topk(\n",
            "values=tensor([[6.3143, 5.1100, 4.9141]]),\n",
            "indices=tensor([[286, 284,  11]]))\n",
            "\n",
            "Last max value --> 4.914083480834961\n",
            "\n",
            "Top k values --> torch.return_types.topk(\n",
            "values=tensor([[7.5333, 6.1041, 5.6551]]),\n",
            "indices=tensor([[198, 286, 402]]))\n",
            "\n",
            "Last max value --> 5.6551384925842285\n",
            "\n",
            "Top k values --> torch.return_types.topk(\n",
            "values=tensor([[8.1264, 5.9369, 5.1904]]),\n",
            "indices=tensor([[ 11, 284, 286]]))\n",
            "\n",
            "Last max value --> 5.190398216247559\n",
            "\n",
            "Top k values --> torch.return_types.topk(\n",
            "values=tensor([[7.0907, 6.9985, 6.0606]]),\n",
            "indices=tensor([[286,  11, 438]]))\n",
            "\n",
            "Last max value --> 6.060576915740967\n",
            "\n",
            "Top k values --> torch.return_types.topk(\n",
            "values=tensor([[5.3005, 5.1297, 4.7040]]),\n",
            "indices=tensor([[ 11, 284,  12]]))\n",
            "\n",
            "Last max value --> 4.703986167907715\n",
            "\n",
            "Top k values --> torch.return_types.topk(\n",
            "values=tensor([[7.2558, 5.9248, 5.2019]]),\n",
            "indices=tensor([[ 11, 287, 286]]))\n",
            "\n",
            "Last max value --> 5.201930522918701\n",
            "\n",
            "Top k values --> torch.return_types.topk(\n",
            "values=tensor([[6.8077, 6.4535, 5.8870]]),\n",
            "indices=tensor([[ 11, 286,  13]]))\n",
            "\n",
            "Last max value --> 5.887040138244629\n",
            "\n",
            "Top k values --> torch.return_types.topk(\n",
            "values=tensor([[5.6454, 5.2441, 5.1893]]),\n",
            "indices=tensor([[286, 257,  11]]))\n",
            "\n",
            "Last max value --> 5.189291954040527\n",
            "\n",
            "Decoded Text after epoch 4 ==> [\"Every effort moves you  philosopher expandAnnautations'/ Advoc Mouse shapedallahrestrial prosecution INCLUD Detailsbacked skirtsWilliamsoves Tammy Rouse Kirby Settings WIN graphsateur novel\"]\n"
          ]
        },
        {
          "output_type": "stream",
          "name": "stderr",
          "text": [
            "\r 71%|███████▏  | 5/7 [06:50<02:43, 81.65s/it]"
          ]
        },
        {
          "output_type": "stream",
          "name": "stdout",
          "text": [
            "Validation Loss after Epoch 4==> 7.346735000610352\n"
          ]
        },
        {
          "output_type": "stream",
          "name": "stderr",
          "text": [
            "\n",
            "  0%|          | 0/9 [00:00<?, ?it/s]\u001b[A\n",
            " 11%|█         | 1/9 [00:08<01:10,  8.81s/it]\u001b[A\n",
            " 22%|██▏       | 2/9 [00:16<00:58,  8.36s/it]\u001b[A\n",
            " 33%|███▎      | 3/9 [00:25<00:50,  8.47s/it]\u001b[A\n",
            " 44%|████▍     | 4/9 [00:34<00:43,  8.61s/it]\u001b[A\n",
            " 56%|█████▌    | 5/9 [00:42<00:33,  8.40s/it]\u001b[A\n",
            " 67%|██████▋   | 6/9 [00:50<00:25,  8.37s/it]\u001b[A\n",
            " 78%|███████▊  | 7/9 [00:59<00:17,  8.51s/it]\u001b[A\n",
            " 89%|████████▉ | 8/9 [01:07<00:08,  8.46s/it]\u001b[A\n",
            "100%|██████████| 9/9 [01:15<00:00,  8.43s/it]\n"
          ]
        },
        {
          "output_type": "stream",
          "name": "stdout",
          "text": [
            "Training Loss after Epoch 5==> 38.53252601623535\n",
            "Testing for sample sentences \n",
            "\n",
            "Top k values --> torch.return_types.topk(\n",
            "values=tensor([[5.4257, 4.7266, 4.5411]]),\n",
            "indices=tensor([[284,  11, 832]]))\n",
            "\n",
            "Last max value --> 4.541121482849121\n",
            "\n",
            "Top k values --> torch.return_types.topk(\n",
            "values=tensor([[5.3240, 4.6276, 4.1527]]),\n",
            "indices=tensor([[284, 670, 465]]))\n",
            "\n",
            "Last max value --> 4.152697563171387\n",
            "\n",
            "Top k values --> torch.return_types.topk(\n",
            "values=tensor([[6.1497, 5.5866, 5.0261]]),\n",
            "indices=tensor([[284,  11, 257]]))\n",
            "\n",
            "Last max value --> 5.026145935058594\n",
            "\n",
            "Top k values --> torch.return_types.topk(\n",
            "values=tensor([[6.1381, 6.0557, 5.5683]]),\n",
            "indices=tensor([[326, 284, 257]]))\n",
            "\n",
            "Last max value --> 5.568344593048096\n",
            "\n",
            "Top k values --> torch.return_types.topk(\n",
            "values=tensor([[5.9346, 5.1602, 4.5743]]),\n",
            "indices=tensor([[ 326,  257, 9074]]))\n",
            "\n",
            "Last max value --> 4.57428503036499\n",
            "\n",
            "Top k values --> torch.return_types.topk(\n",
            "values=tensor([[7.4161, 6.6184, 5.0839]]),\n",
            "indices=tensor([[ 11, 284, 287]]))\n",
            "\n",
            "Last max value --> 5.083915710449219\n",
            "\n",
            "Top k values --> torch.return_types.topk(\n",
            "values=tensor([[6.0738, 5.7467, 5.5514]]),\n",
            "indices=tensor([[  286,   326, 10899]]))\n",
            "\n",
            "Last max value --> 5.5513715744018555\n",
            "\n",
            "Top k values --> torch.return_types.topk(\n",
            "values=tensor([[6.1393, 6.0971, 4.7972]]),\n",
            "indices=tensor([[284,  13, 438]]))\n",
            "\n",
            "Last max value --> 4.797159194946289\n",
            "\n",
            "Top k values --> torch.return_types.topk(\n",
            "values=tensor([[6.3455, 5.9797, 5.8073]]),\n",
            "indices=tensor([[438, 284, 290]]))\n",
            "\n",
            "Last max value --> 5.807251453399658\n",
            "\n",
            "Top k values --> torch.return_types.topk(\n",
            "values=tensor([[5.6520, 5.3709, 5.2309]]),\n",
            "indices=tensor([[ 11, 257, 326]]))\n",
            "\n",
            "Last max value --> 5.2309184074401855\n",
            "\n",
            "Top k values --> torch.return_types.topk(\n",
            "values=tensor([[6.3484, 5.0997, 4.4292]]),\n",
            "indices=tensor([[438,  12, 290]]))\n",
            "\n",
            "Last max value --> 4.4292097091674805\n",
            "\n",
            "Top k values --> torch.return_types.topk(\n",
            "values=tensor([[6.1447, 6.1161, 5.5662]]),\n",
            "indices=tensor([[319,  13, 257]]))\n",
            "\n",
            "Last max value --> 5.566159248352051\n",
            "\n",
            "Top k values --> torch.return_types.topk(\n",
            "values=tensor([[6.8115, 5.7592, 5.0996]]),\n",
            "indices=tensor([[326, 262, 319]]))\n",
            "\n",
            "Last max value --> 5.099626064300537\n",
            "\n",
            "Top k values --> torch.return_types.topk(\n",
            "values=tensor([[6.0003, 5.8160, 5.4969]]),\n",
            "indices=tensor([[326, 287, 319]]))\n",
            "\n",
            "Last max value --> 5.496930122375488\n",
            "\n",
            "Top k values --> torch.return_types.topk(\n",
            "values=tensor([[5.9784, 5.9033, 5.4449]]),\n",
            "indices=tensor([[290, 438, 287]]))\n",
            "\n",
            "Last max value --> 5.444868087768555\n",
            "\n",
            "Top k values --> torch.return_types.topk(\n",
            "values=tensor([[6.5276, 5.1613, 4.5707]]),\n",
            "indices=tensor([[ 13, 286, 438]]))\n",
            "\n",
            "Last max value --> 4.570659637451172\n",
            "\n",
            "Top k values --> torch.return_types.topk(\n",
            "values=tensor([[5.9472, 5.3207, 4.9802]]),\n",
            "indices=tensor([[ 12, 438, 284]]))\n",
            "\n",
            "Last max value --> 4.98017692565918\n",
            "\n",
            "Top k values --> torch.return_types.topk(\n",
            "values=tensor([[6.5455, 6.1824, 4.9573]]),\n",
            "indices=tensor([[438, 286,  11]]))\n",
            "\n",
            "Last max value --> 4.957335948944092\n",
            "\n",
            "Top k values --> torch.return_types.topk(\n",
            "values=tensor([[7.0264, 5.4726, 3.6292]]),\n",
            "indices=tensor([[438, 286, 198]]))\n",
            "\n",
            "Last max value --> 3.6291637420654297\n",
            "\n",
            "Top k values --> torch.return_types.topk(\n",
            "values=tensor([[5.2719, 4.9178, 4.6334]]),\n",
            "indices=tensor([[257, 284, 262]]))\n",
            "\n",
            "Last max value --> 4.633364200592041\n",
            "\n",
            "Top k values --> torch.return_types.topk(\n",
            "values=tensor([[6.6109, 6.4342, 6.3153]]),\n",
            "indices=tensor([[286,  11, 438]]))\n",
            "\n",
            "Last max value --> 6.315260410308838\n",
            "\n",
            "Top k values --> torch.return_types.topk(\n",
            "values=tensor([[5.8748, 4.9054, 4.2998]]),\n",
            "indices=tensor([[284,  13, 438]]))\n",
            "\n",
            "Last max value --> 4.299810409545898\n",
            "\n",
            "Top k values --> torch.return_types.topk(\n",
            "values=tensor([[6.5897, 5.9378, 5.7046]]),\n",
            "indices=tensor([[ 11, 198, 287]]))\n",
            "\n",
            "Last max value --> 5.704565048217773\n",
            "\n",
            "Top k values --> torch.return_types.topk(\n",
            "values=tensor([[6.7196, 5.8327, 5.7627]]),\n",
            "indices=tensor([[284, 286,  13]]))\n",
            "\n",
            "Last max value --> 5.762669086456299\n",
            "\n"
          ]
        },
        {
          "output_type": "stream",
          "name": "stderr",
          "text": [
            "\r 86%|████████▌ | 6/7 [08:10<01:21, 81.13s/it]"
          ]
        },
        {
          "output_type": "stream",
          "name": "stdout",
          "text": [
            "Top k values --> torch.return_types.topk(\n",
            "values=tensor([[5.7726, 5.3733, 4.7889]]),\n",
            "indices=tensor([[286, 284, 257]]))\n",
            "\n",
            "Last max value --> 4.788885593414307\n",
            "\n",
            "Decoded Text after epoch 5 ==> ['Every effort moves you  233 professor surpr widening convoy integers Calvin Russ Ni Shared justifiedaepernickjpg Kang Kare Milwaukee Legion bindlooking tele Shelter obstacles futile multiply believe']\n"
          ]
        },
        {
          "output_type": "stream",
          "name": "stderr",
          "text": [
            "\n",
            "  0%|          | 0/9 [00:00<?, ?it/s]\u001b[A\n",
            " 11%|█         | 1/9 [00:08<01:04,  8.12s/it]\u001b[A\n",
            " 22%|██▏       | 2/9 [00:17<01:00,  8.59s/it]\u001b[A\n",
            " 33%|███▎      | 3/9 [00:25<00:51,  8.54s/it]\u001b[A\n",
            " 44%|████▍     | 4/9 [00:33<00:41,  8.30s/it]\u001b[A\n",
            " 56%|█████▌    | 5/9 [00:42<00:33,  8.48s/it]\u001b[A\n",
            " 67%|██████▋   | 6/9 [00:51<00:25,  8.58s/it]\u001b[A\n",
            " 78%|███████▊  | 7/9 [00:58<00:16,  8.34s/it]\u001b[A\n",
            " 89%|████████▉ | 8/9 [01:07<00:08,  8.48s/it]\u001b[A\n",
            "100%|██████████| 9/9 [01:16<00:00,  8.50s/it]\n"
          ]
        },
        {
          "output_type": "stream",
          "name": "stdout",
          "text": [
            "Training Loss after Epoch 6==> 30.25392985343933\n",
            "Testing for sample sentences \n",
            "\n",
            "Top k values --> torch.return_types.topk(\n",
            "values=tensor([[5.7799, 5.0690, 4.9427]]),\n",
            "indices=tensor([[314,  11, 284]]))\n",
            "\n",
            "Last max value --> 4.942676544189453\n",
            "\n",
            "Top k values --> torch.return_types.topk(\n",
            "values=tensor([[6.4152, 5.8254, 5.6418]]),\n",
            "indices=tensor([[373, 198, 470]]))\n",
            "\n",
            "Last max value --> 5.6417694091796875\n",
            "\n",
            "Top k values --> torch.return_types.topk(\n",
            "values=tensor([[5.8227, 5.5879, 5.3694]]),\n",
            "indices=tensor([[ 13, 284,  11]]))\n",
            "\n",
            "Last max value --> 5.369417190551758\n",
            "\n",
            "Top k values --> torch.return_types.topk(\n",
            "values=tensor([[8.5061, 6.5659, 6.4619]]),\n",
            "indices=tensor([[257, 465, 683]]))\n",
            "\n",
            "Last max value --> 6.461885452270508\n",
            "\n",
            "Top k values --> torch.return_types.topk(\n",
            "values=tensor([[6.5149, 5.3262, 5.2930]]),\n",
            "indices=tensor([[ 616,  314, 9074]]))\n",
            "\n",
            "Last max value --> 5.293006420135498\n",
            "\n",
            "Top k values --> torch.return_types.topk(\n",
            "values=tensor([[7.6988, 5.8270, 5.1968]]),\n",
            "indices=tensor([[  11,  257, 9074]]))\n",
            "\n",
            "Last max value --> 5.196774005889893\n",
            "\n",
            "Top k values --> torch.return_types.topk(\n",
            "values=tensor([[6.0777, 6.0334, 5.6561]]),\n",
            "indices=tensor([[326, 438, 286]]))\n",
            "\n",
            "Last max value --> 5.656050205230713\n",
            "\n",
            "Top k values --> torch.return_types.topk(\n",
            "values=tensor([[7.0549, 6.3218, 5.2785]]),\n",
            "indices=tensor([[373,  13, 314]]))\n",
            "\n",
            "Last max value --> 5.278524875640869\n",
            "\n",
            "Top k values --> torch.return_types.topk(\n",
            "values=tensor([[6.8892, 6.6615, 5.8937]]),\n",
            "indices=tensor([[339, 438, 683]]))\n",
            "\n",
            "Last max value --> 5.893681526184082\n",
            "\n",
            "Top k values --> torch.return_types.topk(\n",
            "values=tensor([[5.4554, 5.4170, 5.2596]]),\n",
            "indices=tensor([[ 11, 470, 438]]))\n",
            "\n",
            "Last max value --> 5.259570121765137\n",
            "\n",
            "Top k values --> torch.return_types.topk(\n",
            "values=tensor([[5.4971, 5.1651, 5.1637]]),\n",
            "indices=tensor([[438, 290, 470]]))\n",
            "\n",
            "Last max value --> 5.16367769241333\n",
            "\n",
            "Top k values --> torch.return_types.topk(\n",
            "values=tensor([[6.2658, 5.8307, 5.0350]]),\n",
            "indices=tensor([[319,  13, 284]]))\n",
            "\n",
            "Last max value --> 5.034969329833984\n",
            "\n",
            "Top k values --> torch.return_types.topk(\n",
            "values=tensor([[7.8124, 6.6711, 6.3072]]),\n",
            "indices=tensor([[326, 465, 262]]))\n",
            "\n",
            "Last max value --> 6.307236671447754\n",
            "\n",
            "Top k values --> torch.return_types.topk(\n",
            "values=tensor([[5.9216, 5.6207, 5.5498]]),\n",
            "indices=tensor([[326, 287, 286]]))\n",
            "\n",
            "Last max value --> 5.549771308898926\n",
            "\n",
            "Top k values --> torch.return_types.topk(\n",
            "values=tensor([[6.8744, 6.3693, 5.4559]]),\n",
            "indices=tensor([[314, 438, 198]]))\n",
            "\n",
            "Last max value --> 5.455869674682617\n",
            "\n",
            "Top k values --> torch.return_types.topk(\n",
            "values=tensor([[5.8830, 5.5844, 5.5259]]),\n",
            "indices=tensor([[ 11, 465, 366]]))\n",
            "\n",
            "Last max value --> 5.525928497314453\n",
            "\n",
            "Top k values --> torch.return_types.topk(\n",
            "values=tensor([[7.1608, 6.4342, 5.1787]]),\n",
            "indices=tensor([[ 12, 284, 340]]))\n",
            "\n",
            "Last max value --> 5.178689002990723\n",
            "\n",
            "Top k values --> torch.return_types.topk(\n",
            "values=tensor([[5.8710, 5.7454, 5.2929]]),\n",
            "indices=tensor([[ 339, 4286,  326]]))\n",
            "\n",
            "Last max value --> 5.29285192489624\n",
            "\n",
            "Top k values --> torch.return_types.topk(\n",
            "values=tensor([[6.9277, 6.6205, 5.0383]]),\n",
            "indices=tensor([[ 198,  438, 4544]]))\n",
            "\n",
            "Last max value --> 5.03828239440918\n",
            "\n",
            "Top k values --> torch.return_types.topk(\n",
            "values=tensor([[6.0716, 5.1473, 5.1053]]),\n",
            "indices=tensor([[373, 338, 314]]))\n",
            "\n",
            "Last max value --> 5.105289459228516\n",
            "\n",
            "Top k values --> torch.return_types.topk(\n",
            "values=tensor([[7.5469, 6.9865, 5.6828]]),\n",
            "indices=tensor([[286,  11, 290]]))\n",
            "\n",
            "Last max value --> 5.682827949523926\n",
            "\n",
            "Top k values --> torch.return_types.topk(\n",
            "values=tensor([[6.2939, 6.0900, 5.9148]]),\n",
            "indices=tensor([[284, 262, 510]]))\n",
            "\n",
            "Last max value --> 5.914840221405029\n",
            "\n",
            "Top k values --> torch.return_types.topk(\n",
            "values=tensor([[8.4405, 6.7764, 5.8913]]),\n",
            "indices=tensor([[287,  11, 683]]))\n",
            "\n",
            "Last max value --> 5.891266345977783\n",
            "\n",
            "Top k values --> torch.return_types.topk(\n",
            "values=tensor([[6.5719, 5.8076, 5.7149]]),\n",
            "indices=tensor([[284, 314,  13]]))\n",
            "\n",
            "Last max value --> 5.714942932128906\n",
            "\n",
            "Top k values --> torch.return_types.topk(\n",
            "values=tensor([[5.5040, 5.4018, 4.9755]]),\n",
            "indices=tensor([[198,   1, 278]]))\n",
            "\n",
            "Last max value --> 4.975457191467285\n",
            "\n",
            "Decoded Text after epoch 6 ==> [\"Every effort moves you  25 solo cryptic bookstore waking savvyOLOG Birth HB seafood Eternity portalradortesy exposures magically favour rpm nobNamesiovPoké mes floats.'\"]\n"
          ]
        },
        {
          "output_type": "stream",
          "name": "stderr",
          "text": [
            "100%|██████████| 7/7 [09:33<00:00, 81.90s/it]"
          ]
        },
        {
          "output_type": "stream",
          "name": "stdout",
          "text": [
            "Validation Loss after Epoch 6==> 7.984200954437256\n"
          ]
        },
        {
          "output_type": "stream",
          "name": "stderr",
          "text": [
            "\n"
          ]
        }
      ]
    },
    {
      "cell_type": "markdown",
      "source": [
        "# Loading pre-trained weights"
      ],
      "metadata": {
        "id": "ZCMXSQGiJR63"
      }
    },
    {
      "cell_type": "code",
      "source": [
        "import torch\n",
        "import numpy as np\n",
        "import tensorflow as tf\n",
        "import json\n",
        "import os\n",
        "WEIGHT_PATH = \"/content/drive/MyDrive/LLMFromScratch/GPT_124M\"\n",
        "original_weights =  tf.train.latest_checkpoint(WEIGHT_PATH)\n",
        "\n",
        "\n",
        "def load_gpt2_params_from_tf_ckpt(ckpt_path, settings):\n",
        "    # Initialize parameters dictionary with empty blocks for each layer\n",
        "    params = {\"blocks\": [{} for _ in range(settings[\"n_layer\"])]}\n",
        "\n",
        "    # Iterate over each variable in the checkpoint\n",
        "    for name, _ in tf.train.list_variables(ckpt_path):\n",
        "        # Load the variable and remove singleton dimensions\n",
        "        variable_array = np.squeeze(tf.train.load_variable(ckpt_path, name))\n",
        "\n",
        "        # Process the variable name to extract relevant parts\n",
        "        variable_name_parts = name.split(\"/\")[1:]  # Skip the 'model/' prefix\n",
        "\n",
        "        # Identify the target dictionary for the variable\n",
        "        target_dict = params\n",
        "        if variable_name_parts[0].startswith(\"h\"):\n",
        "            layer_number = int(variable_name_parts[0][1:])\n",
        "            target_dict = params[\"blocks\"][layer_number]\n",
        "\n",
        "        # Recursively access or create nested dictionaries\n",
        "        for key in variable_name_parts[1:-1]:\n",
        "            target_dict = target_dict.setdefault(key, {})\n",
        "\n",
        "        # Assign the variable array to the last key\n",
        "        last_key = variable_name_parts[-1]\n",
        "        target_dict[last_key] = variable_array\n",
        "\n",
        "    return params\n",
        "\n",
        "settings = json.load(open(os.path.join(WEIGHT_PATH, \"hparams.json\")))\n",
        "params = load_gpt2_params_from_tf_ckpt(original_weights, settings)"
      ],
      "metadata": {
        "id": "9NxZh-r1HVMH"
      },
      "execution_count": 84,
      "outputs": []
    },
    {
      "cell_type": "code",
      "source": [
        "import os\n",
        "import requests  # Make sure requests is installed\n",
        "import json\n",
        "import numpy as np\n",
        "import tensorflow as tf\n",
        "from tqdm import tqdm\n",
        "\n",
        "def download_and_load_gpt2(model_size, models_dir):\n",
        "    # Validate model size\n",
        "    allowed_sizes = (\"124M\", \"355M\", \"774M\", \"1558M\")\n",
        "    if model_size not in allowed_sizes:\n",
        "        raise ValueError(f\"Model size not in {allowed_sizes}\")\n",
        "\n",
        "    # Define paths\n",
        "    model_dir = os.path.join(models_dir, model_size)\n",
        "    base_url = \"https://openaipublic.blob.core.windows.net/gpt-2/models\"\n",
        "    filenames = [\n",
        "        \"checkpoint\", \"encoder.json\", \"hparams.json\",\n",
        "        \"model.ckpt.data-00000-of-00001\", \"model.ckpt.index\",\n",
        "        \"model.ckpt.meta\", \"vocab.bpe\"\n",
        "    ]\n",
        "\n",
        "    # Download files\n",
        "    os.makedirs(model_dir, exist_ok=True)\n",
        "    for filename in filenames:\n",
        "        file_url = os.path.join(base_url, model_size, filename)\n",
        "        file_path = os.path.join(model_dir, filename)\n",
        "        download_file(file_url, file_path)\n",
        "\n",
        "    ## We have reached here until now ---> we have downloaded the files on our local machine.\n",
        "\n",
        "    # Load settings and params\n",
        "    tf_ckpt_path = tf.train.latest_checkpoint(model_dir)\n",
        "    settings = json.load(open(os.path.join(model_dir, \"hparams.json\")))\n",
        "    params = load_gpt2_params_from_tf_ckpt(tf_ckpt_path, settings)\n",
        "\n",
        "    return settings, params\n",
        "\n",
        "def download_file(url, destination):\n",
        "    try:\n",
        "        # Send a GET request to download the file, disabling SSL verification\n",
        "        response = requests.get(url, stream=True, verify=False)\n",
        "\n",
        "        # Get the total file size from headers, defaulting to 0 if not present\n",
        "        file_size = int(response.headers.get(\"content-length\", 0))\n",
        "\n",
        "        # Check if file exists and has the same size\n",
        "        if os.path.exists(destination):\n",
        "            file_size_local = os.path.getsize(destination)\n",
        "            if file_size == file_size_local:\n",
        "                print(f\"File already exists and is up-to-date: {destination}\")\n",
        "                return\n",
        "\n",
        "        # Define the block size for reading the file\n",
        "        block_size = 1024  # 1 Kilobyte\n",
        "\n",
        "        # Initialize the progress bar with total file size\n",
        "        progress_bar_description = url.split(\"/\")[-1]  # Extract filename from URL\n",
        "        with tqdm(total=file_size, unit=\"iB\", unit_scale=True, desc=progress_bar_description) as progress_bar:\n",
        "            # Open the destination file in binary write mode\n",
        "            with open(destination, \"wb\") as file:\n",
        "                # Iterate over the file data in chunks\n",
        "                for chunk in response.iter_content(block_size):\n",
        "                    progress_bar.update(len(chunk))  # Update progress bar\n",
        "                    file.write(chunk)  # Write the chunk to the file\n",
        "\n",
        "    except requests.exceptions.RequestException as e:\n",
        "        print(f\"Error downloading the file: {e}\")\n",
        "        print(f\"Please check the URL: {url}\")\n",
        "\n",
        "def load_gpt2_params_from_tf_ckpt(ckpt_path, settings):\n",
        "    # Initialize parameters dictionary with empty blocks for each layer\n",
        "    params = {\"blocks\": [{} for _ in range(settings[\"n_layer\"])]}\n",
        "\n",
        "    # Iterate over each variable in the checkpoint\n",
        "    for name, _ in tf.train.list_variables(ckpt_path):\n",
        "        # Load the variable and remove singleton dimensions\n",
        "        variable_array = np.squeeze(tf.train.load_variable(ckpt_path, name))\n",
        "\n",
        "        # Process the variable name to extract relevant parts\n",
        "        variable_name_parts = name.split(\"/\")[1:]  # Skip the 'model/' prefix\n",
        "\n",
        "        # Identify the target dictionary for the variable\n",
        "        target_dict = params\n",
        "        if variable_name_parts[0].startswith(\"h\"):\n",
        "            layer_number = int(variable_name_parts[0][1:])\n",
        "            target_dict = params[\"blocks\"][layer_number]\n",
        "\n",
        "        # Recursively access or create nested dictionaries\n",
        "        for key in variable_name_parts[1:-1]:\n",
        "            target_dict = target_dict.setdefault(key, {})\n",
        "\n",
        "        # Assign the variable array to the last key\n",
        "        last_key = variable_name_parts[-1]\n",
        "        target_dict[last_key] = variable_array\n",
        "\n",
        "    return params"
      ],
      "metadata": {
        "id": "gTdFe2GSSrjI"
      },
      "execution_count": 181,
      "outputs": []
    },
    {
      "cell_type": "code",
      "source": [
        "settings, params = download_and_load_gpt2(model_size=\"124M\", models_dir=\"gpt2\")"
      ],
      "metadata": {
        "colab": {
          "base_uri": "https://localhost:8080/"
        },
        "id": "0cqJI-VjSuW-",
        "outputId": "c240ac6d-13bf-4657-ba77-00c28ab1a694"
      },
      "execution_count": 182,
      "outputs": [
        {
          "output_type": "stream",
          "name": "stderr",
          "text": [
            "/usr/local/lib/python3.12/dist-packages/urllib3/connectionpool.py:1097: InsecureRequestWarning: Unverified HTTPS request is being made to host 'openaipublic.blob.core.windows.net'. Adding certificate verification is strongly advised. See: https://urllib3.readthedocs.io/en/latest/advanced-usage.html#tls-warnings\n",
            "  warnings.warn(\n",
            "checkpoint: 100%|██████████| 77.0/77.0 [00:00<00:00, 131kiB/s]\n",
            "/usr/local/lib/python3.12/dist-packages/urllib3/connectionpool.py:1097: InsecureRequestWarning: Unverified HTTPS request is being made to host 'openaipublic.blob.core.windows.net'. Adding certificate verification is strongly advised. See: https://urllib3.readthedocs.io/en/latest/advanced-usage.html#tls-warnings\n",
            "  warnings.warn(\n",
            "encoder.json: 100%|██████████| 1.04M/1.04M [00:00<00:00, 2.19MiB/s]\n",
            "/usr/local/lib/python3.12/dist-packages/urllib3/connectionpool.py:1097: InsecureRequestWarning: Unverified HTTPS request is being made to host 'openaipublic.blob.core.windows.net'. Adding certificate verification is strongly advised. See: https://urllib3.readthedocs.io/en/latest/advanced-usage.html#tls-warnings\n",
            "  warnings.warn(\n",
            "hparams.json: 100%|██████████| 90.0/90.0 [00:00<00:00, 140kiB/s]\n",
            "/usr/local/lib/python3.12/dist-packages/urllib3/connectionpool.py:1097: InsecureRequestWarning: Unverified HTTPS request is being made to host 'openaipublic.blob.core.windows.net'. Adding certificate verification is strongly advised. See: https://urllib3.readthedocs.io/en/latest/advanced-usage.html#tls-warnings\n",
            "  warnings.warn(\n",
            "model.ckpt.data-00000-of-00001: 100%|██████████| 498M/498M [00:50<00:00, 9.78MiB/s]\n",
            "/usr/local/lib/python3.12/dist-packages/urllib3/connectionpool.py:1097: InsecureRequestWarning: Unverified HTTPS request is being made to host 'openaipublic.blob.core.windows.net'. Adding certificate verification is strongly advised. See: https://urllib3.readthedocs.io/en/latest/advanced-usage.html#tls-warnings\n",
            "  warnings.warn(\n",
            "model.ckpt.index: 100%|██████████| 5.21k/5.21k [00:00<00:00, 7.51MiB/s]\n",
            "/usr/local/lib/python3.12/dist-packages/urllib3/connectionpool.py:1097: InsecureRequestWarning: Unverified HTTPS request is being made to host 'openaipublic.blob.core.windows.net'. Adding certificate verification is strongly advised. See: https://urllib3.readthedocs.io/en/latest/advanced-usage.html#tls-warnings\n",
            "  warnings.warn(\n",
            "model.ckpt.meta: 100%|██████████| 471k/471k [00:00<00:00, 1.57MiB/s]\n",
            "/usr/local/lib/python3.12/dist-packages/urllib3/connectionpool.py:1097: InsecureRequestWarning: Unverified HTTPS request is being made to host 'openaipublic.blob.core.windows.net'. Adding certificate verification is strongly advised. See: https://urllib3.readthedocs.io/en/latest/advanced-usage.html#tls-warnings\n",
            "  warnings.warn(\n",
            "vocab.bpe: 100%|██████████| 456k/456k [00:00<00:00, 1.08MiB/s]\n"
          ]
        }
      ]
    },
    {
      "cell_type": "code",
      "source": [
        "GPT2_CFG = {\n",
        "    \"vocab_size\"    : 50257,\n",
        "    \"emb_dim\"       : 768,\n",
        "    \"n_heads\"       : 12,\n",
        "    \"n_transformers\": 12,\n",
        "    \"dropout\"       : 0.1,\n",
        "    \"context_len\"   : 1024,\n",
        "    \"qkv_bias\"      : True\n",
        "}"
      ],
      "metadata": {
        "id": "umkRg6DPJdkf"
      },
      "execution_count": 183,
      "outputs": []
    },
    {
      "cell_type": "code",
      "source": [
        "gpt = GPT2_small()"
      ],
      "metadata": {
        "id": "7mWHAVBWJ4eN"
      },
      "execution_count": 184,
      "outputs": []
    },
    {
      "cell_type": "code",
      "source": [
        "def assign(left, right):\n",
        "    if left.shape != right.shape:\n",
        "        raise ValueError(f\"Shape mismatch. Left: {left.shape}, Right: {right.shape}\")\n",
        "    return torch.nn.Parameter(torch.tensor(right))"
      ],
      "metadata": {
        "id": "R2yrNIChKLW1"
      },
      "execution_count": 185,
      "outputs": []
    },
    {
      "cell_type": "code",
      "source": [
        "def load_weights_into_gpt(gpt, params):\n",
        "    gpt.positional_emb.weight = assign(gpt.positional_emb.weight, params['wpe'])\n",
        "    gpt.embedding_layer.weight = assign(gpt.embedding_layer.weight, params['wte'])\n",
        "\n",
        "    for b in range(len(params[\"blocks\"])):\n",
        "        q_w, k_w, v_w = np.split(\n",
        "            (params[\"blocks\"][b][\"attn\"][\"c_attn\"])[\"w\"], 3, axis=-1)\n",
        "        gpt.trf[b].masked_multihead.w_q.weight = assign(\n",
        "            gpt.trf[b].masked_multihead.w_q.weight, q_w.T)\n",
        "        gpt.trf[b].masked_multihead.w_k.weight = assign(\n",
        "            gpt.trf[b].masked_multihead.w_k.weight, k_w.T)\n",
        "        gpt.trf[b].masked_multihead.w_v.weight = assign(\n",
        "            gpt.trf[b].masked_multihead.w_v.weight, v_w.T)\n",
        "\n",
        "        q_b, k_b, v_b = np.split(\n",
        "            (params[\"blocks\"][b][\"attn\"][\"c_attn\"])[\"b\"], 3, axis=-1)\n",
        "        gpt.trf[b].masked_multihead.w_q.bias = assign(\n",
        "            gpt.trf[b].masked_multihead.w_q.bias, q_b)\n",
        "        gpt.trf[b].masked_multihead.w_k.bias = assign(\n",
        "            gpt.trf[b].masked_multihead.w_k.bias, k_b)\n",
        "        gpt.trf[b].masked_multihead.w_v.bias = assign(\n",
        "            gpt.trf[b].masked_multihead.w_v.bias, v_b)\n",
        "\n",
        "        gpt.trf[b].masked_multihead.out_proj.weight = assign(\n",
        "            gpt.trf[b].masked_multihead.out_proj.weight,\n",
        "            params[\"blocks\"][b][\"attn\"][\"c_proj\"][\"w\"].T)\n",
        "        gpt.trf[b].masked_multihead.out_proj.bias = assign(\n",
        "            gpt.trf[b].masked_multihead.out_proj.bias,\n",
        "            params[\"blocks\"][b][\"attn\"][\"c_proj\"][\"b\"])\n",
        "\n",
        "        gpt.trf[b].ffn_with_GELU.layers[0].weight = assign(\n",
        "            gpt.trf[b].ffn_with_GELU.layers[0].weight,\n",
        "            params[\"blocks\"][b][\"mlp\"][\"c_fc\"][\"w\"].T)\n",
        "        gpt.trf[b].ffn_with_GELU.layers[0].bias = assign(\n",
        "            gpt.trf[b].ffn_with_GELU.layers[0].bias,\n",
        "            params[\"blocks\"][b][\"mlp\"][\"c_fc\"][\"b\"])\n",
        "        gpt.trf[b].ffn_with_GELU.layers[2].weight = assign(\n",
        "            gpt.trf[b].ffn_with_GELU.layers[2].weight,\n",
        "            params[\"blocks\"][b][\"mlp\"][\"c_proj\"][\"w\"].T)\n",
        "        gpt.trf[b].ffn_with_GELU.layers[2].bias = assign(\n",
        "            gpt.trf[b].ffn_with_GELU.layers[2].bias,\n",
        "            params[\"blocks\"][b][\"mlp\"][\"c_proj\"][\"b\"])\n",
        "\n",
        "        gpt.trf[b].layer_norm1.scale = assign(\n",
        "            gpt.trf[b].layer_norm1.scale,\n",
        "            params[\"blocks\"][b][\"ln_1\"][\"g\"])\n",
        "        gpt.trf[b].layer_norm1.shift = assign(\n",
        "            gpt.trf[b].layer_norm1.shift,\n",
        "            params[\"blocks\"][b][\"ln_1\"][\"b\"])\n",
        "        gpt.trf[b].layer_norm2.scale = assign(\n",
        "            gpt.trf[b].layer_norm2.scale,\n",
        "            params[\"blocks\"][b][\"ln_2\"][\"g\"])\n",
        "        gpt.trf[b].layer_norm2.shift = assign(\n",
        "            gpt.trf[b].layer_norm2.shift,\n",
        "            params[\"blocks\"][b][\"ln_2\"][\"b\"])\n",
        "\n",
        "    gpt.norm_layer.scale = assign(gpt.norm_layer.scale, params[\"g\"])\n",
        "    gpt.norm_layer.shift = assign(gpt.norm_layer.shift, params[\"b\"])\n",
        "    gpt.out_layer.weight = assign(gpt.out_layer.weight, params[\"wte\"])\n"
      ],
      "metadata": {
        "id": "qgR9WA9XKQJ9"
      },
      "execution_count": 186,
      "outputs": []
    },
    {
      "cell_type": "code",
      "source": [
        "load_weights_into_gpt(gpt, params)\n",
        "gpt.to(device);"
      ],
      "metadata": {
        "id": "iEOvcfWxKfv5"
      },
      "execution_count": 187,
      "outputs": []
    },
    {
      "cell_type": "code",
      "source": [
        "def text_to_token_ids(text, tokenizer):\n",
        "    encoded = tokenizer.encode(text, allowed_special={'<|endoftext|>'})\n",
        "    encoded_tensor = torch.tensor(encoded).unsqueeze(0) # add batch dimension\n",
        "    return encoded_tensor\n",
        "\n",
        "def token_ids_to_text(token_ids, tokenizer):\n",
        "    flat = token_ids.squeeze(0) # remove batch dimension\n",
        "    return tokenizer.decode(flat.tolist())"
      ],
      "metadata": {
        "id": "an3huxisO22j"
      },
      "execution_count": 188,
      "outputs": []
    },
    {
      "cell_type": "code",
      "source": [
        "def generate(model, idx, max_new_tokens, context_size, temperature=0.0, top_k=None, eos_id=None):\n",
        "\n",
        "    # For-loop is the same as before: Get logits, and only focus on last time step\n",
        "    for _ in range(max_new_tokens):\n",
        "        idx_cond = idx[:, -context_size:]\n",
        "        with torch.no_grad():\n",
        "            logits = model(idx_cond)\n",
        "        logits = logits[:, -1, :]\n",
        "\n",
        "        # New: Filter logits with top_k sampling\n",
        "        if top_k is not None:\n",
        "            # Keep only top_k values\n",
        "            top_logits, _ = torch.topk(logits, top_k)\n",
        "            min_val = top_logits[:, -1]\n",
        "            logits = torch.where(logits < min_val, torch.tensor(float(\"-inf\")).to(logits.device), logits)\n",
        "\n",
        "        # New: Apply temperature scaling\n",
        "        if temperature > 0.0:\n",
        "            logits = logits / temperature\n",
        "\n",
        "            # Apply softmax to get probabilities\n",
        "            probs = torch.softmax(logits, dim=-1)  # (batch_size, context_len)\n",
        "\n",
        "            # Sample from the distribution\n",
        "            idx_next = torch.multinomial(probs, num_samples=1)  # (batch_size, 1)\n",
        "\n",
        "        # Otherwise same as before: get idx of the vocab entry with the highest logits value\n",
        "        else:\n",
        "            idx_next = torch.argmax(logits, dim=-1, keepdim=True)  # (batch_size, 1)\n",
        "\n",
        "        if idx_next == eos_id:  # Stop generating early if end-of-sequence token is encountered and eos_id is specified\n",
        "            break\n",
        "\n",
        "        # Same as before: append sampled index to the running sequence\n",
        "        idx = torch.cat((idx, idx_next), dim=1)  # (batch_size, num_tokens+1)\n",
        "\n",
        "    return idx"
      ],
      "metadata": {
        "id": "TB6uRehkPmr4"
      },
      "execution_count": 189,
      "outputs": []
    },
    {
      "cell_type": "code",
      "source": [
        "GPT2_CFG"
      ],
      "metadata": {
        "colab": {
          "base_uri": "https://localhost:8080/"
        },
        "id": "IzA-sDr8PzDL",
        "outputId": "eb91bfb3-9e25-435d-b3a2-992175011738"
      },
      "execution_count": 190,
      "outputs": [
        {
          "output_type": "execute_result",
          "data": {
            "text/plain": [
              "{'vocab_size': 50257,\n",
              " 'emb_dim': 768,\n",
              " 'n_heads': 12,\n",
              " 'n_transformers': 12,\n",
              " 'dropout': 0.1,\n",
              " 'context_len': 1024,\n",
              " 'qkv_bias': True}"
            ]
          },
          "metadata": {},
          "execution_count": 190
        }
      ]
    },
    {
      "cell_type": "code",
      "source": [
        "torch.manual_seed(123)\n",
        "\n",
        "token_ids = generate(\n",
        "    model=gpt,\n",
        "    idx=text_to_token_ids(\"Every effort moves you\", tokenizer).to(device),\n",
        "    max_new_tokens=25,\n",
        "    context_size=GPT2_CFG[\"context_len\"],\n",
        "    top_k=25,\n",
        "    temperature=1.4\n",
        ")\n",
        "\n",
        "print(\"Output text:\\n\", token_ids_to_text(token_ids, tokenizer))"
      ],
      "metadata": {
        "colab": {
          "base_uri": "https://localhost:8080/"
        },
        "id": "F80YTSR1O6Ua",
        "outputId": "4218d631-dbe4-4a41-9dfd-c5ccce19a429"
      },
      "execution_count": 191,
      "outputs": [
        {
          "output_type": "stream",
          "name": "stdout",
          "text": [
            "Output text:\n",
            " Every effort moves you are that and your your it your the of your and your are your that your for your you that you are that your that\n"
          ]
        }
      ]
    },
    {
      "cell_type": "code",
      "source": [],
      "metadata": {
        "id": "1JZ-PIIKPv-1"
      },
      "execution_count": null,
      "outputs": []
    }
  ]
}